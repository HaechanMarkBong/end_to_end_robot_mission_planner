{
 "cells": [
  {
   "cell_type": "code",
   "execution_count": 1,
   "metadata": {},
   "outputs": [],
   "source": [
    "from transformers import (\n",
    "    AutoModelForCausalLM,\n",
    "    AutoTokenizer,\n",
    "    BitsAndBytesConfig,\n",
    "    TrainingArguments,\n",
    ")\n",
    "from peft import LoraConfig, IA3Config\n",
    "import torch\n",
    "from trl import SFTTrainer\n",
    "import json\n",
    "import pandas as pd\n",
    "from datasets import Dataset\n",
    "import bitsandbytes as bnb\n",
    "from enum import Enum\n",
    "import wandb\n",
    "from dataclasses import dataclass\n",
    "from typing import List, Optional\n",
    "from trl import SFTConfig\n",
    "\n",
    "\n",
    "# Clear CUDA cache\n",
    "torch.cuda.empty_cache()"
   ]
  },
  {
   "cell_type": "code",
   "execution_count": 2,
   "metadata": {},
   "outputs": [],
   "source": [
    "class ModelSize(Enum):\n",
    "    LLAMA_1B = \"meta-llama/Llama-3.2-1B-Instruct\"\n",
    "    LLAMA_3B = \"meta-llama/Llama-3.2-3B-Instruct\"\n",
    "\n",
    "class TrainingMethod(Enum):\n",
    "    LORA = \"lora\"\n",
    "    IA3 = \"ia3\"\n",
    "\n",
    "class OutputFormat(Enum):\n",
    "    XML = \"xml\"\n",
    "    JSON = \"json\""
   ]
  },
  {
   "cell_type": "code",
   "execution_count": 3,
   "metadata": {},
   "outputs": [],
   "source": [
    "\n",
    "@dataclass\n",
    "class TrainingConfig:\n",
    "    model_size: ModelSize\n",
    "    training_method: TrainingMethod\n",
    "    output_format: OutputFormat\n",
    "    num_epochs: int = 10\n",
    "    learning_rate: float = 2e-4\n",
    "    batch_size: int = 1\n",
    "    gradient_accumulation_steps: int = 2\n",
    "    max_seq_length: int = 900\n",
    "\n",
    "def setup_model_and_tokenizer(model_size: ModelSize):\n",
    "    \"\"\"Initialize model and tokenizer with appropriate configuration\"\"\"\n",
    "    torch_dtype = torch.float16\n",
    "    attn_implementation = \"eager\"\n",
    "\n",
    "    bnb_config = BitsAndBytesConfig(\n",
    "        load_in_4bit=True,\n",
    "        bnb_4bit_quant_type=\"nf4\",\n",
    "        bnb_4bit_compute_dtype=torch_dtype,\n",
    "        bnb_4bit_use_double_quant=True,\n",
    "    )\n",
    "\n",
    "    model = AutoModelForCausalLM.from_pretrained(\n",
    "        model_size.value,\n",
    "        quantization_config=bnb_config,\n",
    "        device_map=\"auto\",\n",
    "        attn_implementation=attn_implementation\n",
    "    )\n",
    "\n",
    "    tokenizer = AutoTokenizer.from_pretrained(model_size.value, trust_remote_code=True)\n",
    "    tokenizer.add_special_tokens({'pad_token': '[PAD]'})\n",
    "\n",
    "    return model, tokenizer\n",
    "\n",
    "def find_all_linear_names(model):\n",
    "    \"\"\"Find all linear layer names in the model for LoRA configuration\"\"\"\n",
    "    cls = bnb.nn.Linear4bit\n",
    "    lora_module_names = set()\n",
    "    for name, module in model.named_modules():\n",
    "        if isinstance(module, cls):\n",
    "            names = name.split('.')\n",
    "            lora_module_names.add(names[0] if len(names) == 1 else names[-1])\n",
    "    if 'lm_head' in lora_module_names:\n",
    "        lora_module_names.remove('lm_head')\n",
    "    return list(lora_module_names)\n",
    "\n",
    "def get_peft_config(method: TrainingMethod, model):\n",
    "    \"\"\"Get the appropriate PEFT configuration based on training method\"\"\"\n",
    "    if method == TrainingMethod.LORA:\n",
    "        return LoraConfig(\n",
    "            r=16,\n",
    "            lora_alpha=32,\n",
    "            lora_dropout=0.05,\n",
    "            bias=\"none\",\n",
    "            task_type=\"CAUSAL_LM\",\n",
    "            target_modules=find_all_linear_names(model)\n",
    "        )\n",
    "    else:  # IA3\n",
    "        return IA3Config(\n",
    "            task_type=\"CAUSAL_LM\",\n",
    "            target_modules=[\"k_proj\", \"v_proj\", \"down_proj\"],\n",
    "            feedforward_modules=[\"down_proj\"]\n",
    "        )\n",
    "\n",
    "def formatting_prompt(examples):\n",
    "    llama_prompt = \"\"\"<|begin_of_text|><|start_header_id|>system<|end_header_id|>\n",
    "{}<|eot_id|>\n",
    "<|start_header_id|>user<|end_header_id|>\n",
    "{}<|eot_id|>\n",
    "<|start_header_id|>assistant<|end_header_id|>\n",
    "{}\n",
    "\"\"\"\n",
    "    instructions = examples[\"instruction\"]\n",
    "    inputs = examples[\"input\"]\n",
    "    outputs = examples[\"output\"]\n",
    "    texts = []\n",
    "    for instruction,input, output in zip(instructions, inputs, outputs):\n",
    "        text = llama_prompt.format(instruction,input, output)\n",
    "        texts.append(text)\n",
    "    return { \"text\" : texts, }\n",
    "\n",
    "def prepare_training_data(output_format: OutputFormat):\n",
    "    \"\"\"Prepare training data based on output format\"\"\"\n",
    "    # Load your data\n",
    "    data = pd.read_json(\"../data/behavior_tree_dataset.json\")\n",
    "    \n",
    "    # Extract relevant columns\n",
    "    object_context = data['object_context']\n",
    "    action_context = data['actions_dictionary']\n",
    "    query = data['query']\n",
    "    bt_xml = data['bt_xml']\n",
    "    bt_json = data['bt_json']\n",
    "\n",
    "    # Load templates\n",
    "    with open('../data/templates.json', 'r') as f:\n",
    "        templates = json.load(f)\n",
    "    \n",
    "    # Load actions\n",
    "    with open('../data/actions.json', 'r') as f:\n",
    "        actions = json.load(f)\n",
    "    \n",
    "    # Load objects\n",
    "    with open('../data/objects.json', 'r') as f:\n",
    "        objects = json.load(f)\n",
    "\n",
    "    template = templates['template']\n",
    "    action_list = actions['action_list']\n",
    "    object_list = objects['object_list']\n",
    "    question_example = templates['question_example']\n",
    "    xml_example = templates['xml_example']\n",
    "    json_example = templates['json_example']\n",
    "    answer_example = templates['answer_example']\n",
    "    training_template = templates['training_template']\n",
    "\n",
    "    # Format data based on output format\n",
    "    if output_format == OutputFormat.XML:\n",
    "        system_template = template.format(\n",
    "            format_type=\"XML\",\n",
    "            example=question_example + \"\\n\" + answer_example + \"\\n\" + xml_example,\n",
    "            available_actions=action_list,\n",
    "            object_list=object_list,\n",
    "        )\n",
    "        output_data = bt_xml.apply(lambda x: f\"<plan>{x}</plan>\")\n",
    "    else:\n",
    "        system_template = template.format(\n",
    "            format_type=\"JSON\",\n",
    "            example=question_example + \"\\n\" + answer_example + \"\\n\" + json_example,\n",
    "            available_actions=action_list,\n",
    "            object_list=object_list,\n",
    "        )\n",
    "        output_data = bt_json.apply(lambda x: f\"<plan>{x}</plan>\")\n",
    "    \n",
    "    training_systems = [\n",
    "        training_template.format(\n",
    "            available_actions=action_list,\n",
    "            object_list=object_list,\n",
    "        ) for object_list in object_context]\n",
    "\n",
    "    formatted_data = pd.DataFrame({\n",
    "        'complete_instruction': system_template,\n",
    "        'instruction': training_systems,\n",
    "        'input': query,\n",
    "        'output': output_data,\n",
    "    })\n",
    "\n",
    "    # Return the formatted data (only first 20 examples)\n",
    "    formatted_data = formatted_data.head(20)\n",
    "\n",
    "    # Print first training example output column\n",
    "    print(formatted_data.iloc[0]['output'])\n",
    "\n",
    "    return Dataset.from_pandas(formatted_data).map(formatting_prompt, batched=True)\n",
    "\n",
    "def setup_trainer(model, tokenizer, training_data, config: TrainingConfig):\n",
    "    \"\"\"Setup the trainer with appropriate configuration\"\"\"\n",
    "    model_name = f\"llama-{config.model_size.value.split('-')[-2]}-bt-{config.output_format.value}-{config.training_method.value}\"\n",
    "    \n",
    "    training_arguments = TrainingArguments(\n",
    "        output_dir=model_name,\n",
    "        per_device_train_batch_size=config.batch_size,\n",
    "        per_device_eval_batch_size=config.batch_size,\n",
    "        gradient_accumulation_steps=config.gradient_accumulation_steps,\n",
    "        optim=\"paged_adamw_32bit\",\n",
    "        num_train_epochs=config.num_epochs if config.training_method == TrainingMethod.IA3 else 1,\n",
    "        evaluation_strategy=\"steps\",\n",
    "        eval_steps=0.1,\n",
    "        logging_steps=1,\n",
    "        warmup_steps=10,\n",
    "        learning_rate=1e-4 if config.training_method == TrainingMethod.IA3 else config.learning_rate,\n",
    "        fp16=True,\n",
    "        bf16=False,\n",
    "        group_by_length=True,\n",
    "        report_to=\"wandb\",\n",
    "    )\n",
    "\n",
    "    full_dataset = training_data.train_test_split(test_size=0.1, seed=42)\n",
    "\n",
    "    sft_config = SFTConfig(\n",
    "        max_seq_length=config.max_seq_length,\n",
    "        packing=False,\n",
    "        **training_arguments.to_dict()\n",
    "    )\n",
    "\n",
    "\n",
    "    return SFTTrainer(\n",
    "        model=model,\n",
    "        train_dataset=full_dataset[\"train\"],\n",
    "        eval_dataset=full_dataset[\"test\"],\n",
    "        peft_config=get_peft_config(config.training_method, model),\n",
    "        args=sft_config,\n",
    "        processing_class=tokenizer,\n",
    "    )"
   ]
  },
  {
   "cell_type": "code",
   "execution_count": 4,
   "metadata": {},
   "outputs": [
    {
     "name": "stderr",
     "output_type": "stream",
     "text": [
      "\u001b[34m\u001b[1mwandb\u001b[0m: Using wandb-core as the SDK backend.  Please refer to https://wandb.me/wandb-core for more information.\n",
      "\u001b[34m\u001b[1mwandb\u001b[0m: Currently logged in as: \u001b[33msimonroy99\u001b[0m (\u001b[33msimonroy99-cole-de-technologie-sup-rieure\u001b[0m). Use \u001b[1m`wandb login --relogin`\u001b[0m to force relogin\n"
     ]
    },
    {
     "data": {
      "text/html": [
       "Tracking run with wandb version 0.19.1"
      ],
      "text/plain": [
       "<IPython.core.display.HTML object>"
      ]
     },
     "metadata": {},
     "output_type": "display_data"
    },
    {
     "data": {
      "text/html": [
       "Run data is saved locally in <code>c:\\workspace\\ETS\\SYS819\\goat-planner\\training\\wandb\\run-20241220_134440-sbjk6omj</code>"
      ],
      "text/plain": [
       "<IPython.core.display.HTML object>"
      ]
     },
     "metadata": {},
     "output_type": "display_data"
    },
    {
     "data": {
      "text/html": [
       "Syncing run <strong><a href='https://wandb.ai/simonroy99-cole-de-technologie-sup-rieure/bt-training/runs/sbjk6omj' target=\"_blank\">tough-terrain-5</a></strong> to <a href='https://wandb.ai/simonroy99-cole-de-technologie-sup-rieure/bt-training' target=\"_blank\">Weights & Biases</a> (<a href='https://wandb.me/developer-guide' target=\"_blank\">docs</a>)<br>"
      ],
      "text/plain": [
       "<IPython.core.display.HTML object>"
      ]
     },
     "metadata": {},
     "output_type": "display_data"
    },
    {
     "data": {
      "text/html": [
       " View project at <a href='https://wandb.ai/simonroy99-cole-de-technologie-sup-rieure/bt-training' target=\"_blank\">https://wandb.ai/simonroy99-cole-de-technologie-sup-rieure/bt-training</a>"
      ],
      "text/plain": [
       "<IPython.core.display.HTML object>"
      ]
     },
     "metadata": {},
     "output_type": "display_data"
    },
    {
     "data": {
      "text/html": [
       " View run at <a href='https://wandb.ai/simonroy99-cole-de-technologie-sup-rieure/bt-training/runs/sbjk6omj' target=\"_blank\">https://wandb.ai/simonroy99-cole-de-technologie-sup-rieure/bt-training/runs/sbjk6omj</a>"
      ],
      "text/plain": [
       "<IPython.core.display.HTML object>"
      ]
     },
     "metadata": {},
     "output_type": "display_data"
    },
    {
     "name": "stdout",
     "output_type": "stream",
     "text": [
      "<plan><root main_tree_to_execute=\"LocateAndNavigateToLadderSequence\">\n",
      "    <BehaviorTree ID=\"LocateAndNavigateToLadderSequence\">\n",
      "        <Sequence name=\"LocateAndNavigateToLadder\">\n",
      "            <Retry num_attempts=\"3\">\n",
      "                <Locate object=\"cooking pot\" \n",
      "                        position_x=\"{cooking_pot_position_x}\" \n",
      "                        position_y=\"{cooking_pot_position_y}\" \n",
      "                        position_z=\"{cooking_pot_position_z}\" />\n",
      "            </Retry>\n",
      "            <Fallback name=\"HandleCookingPotFallback\">\n",
      "                <Sequence name=\"NavigateAfterLocatingPot\">\n",
      "                    <Retry num_attempts=\"2\">\n",
      "                        <Navigate x=\"{ladder_position_x}\" y=\"{ladder_position_y}\" />\n",
      "                    </Retry>\n",
      "                </Sequence>\n",
      "                <Sequence name=\"FailedToLocatePotHandling\">\n",
      "                    <Wait duration=\"2.0\" />\n",
      "                    <Navigate x=\"{ladder_position_x}\" y=\"{ladder_position_y}\" />\n",
      "                </Sequence>\n",
      "            </Fallback>\n",
      "        </Sequence>\n",
      "    </BehaviorTree>\n",
      "</root></plan>\n"
     ]
    },
    {
     "data": {
      "application/vnd.jupyter.widget-view+json": {
       "model_id": "16335a06ce474eb1ad910763c9751c19",
       "version_major": 2,
       "version_minor": 0
      },
      "text/plain": [
       "Map:   0%|          | 0/20 [00:00<?, ? examples/s]"
      ]
     },
     "metadata": {},
     "output_type": "display_data"
    },
    {
     "name": "stderr",
     "output_type": "stream",
     "text": [
      "c:\\workspace\\ETS\\SYS819\\goat-planner\\env\\Lib\\site-packages\\transformers\\training_args.py:1575: FutureWarning: `evaluation_strategy` is deprecated and will be removed in version 4.46 of 🤗 Transformers. Use `eval_strategy` instead\n",
      "  warnings.warn(\n",
      "c:\\workspace\\ETS\\SYS819\\goat-planner\\env\\Lib\\site-packages\\transformers\\training_args.py:2070: FutureWarning: `--push_to_hub_token` is deprecated and will be removed in version 5 of 🤗 Transformers. Use `--hub_token` instead.\n",
      "  warnings.warn(\n"
     ]
    },
    {
     "data": {
      "application/vnd.jupyter.widget-view+json": {
       "model_id": "d600ec1bef6d47eab340e327a5c9da0b",
       "version_major": 2,
       "version_minor": 0
      },
      "text/plain": [
       "Map:   0%|          | 0/18 [00:00<?, ? examples/s]"
      ]
     },
     "metadata": {},
     "output_type": "display_data"
    },
    {
     "data": {
      "application/vnd.jupyter.widget-view+json": {
       "model_id": "d3e8d01de9174a6fbec856837361d42f",
       "version_major": 2,
       "version_minor": 0
      },
      "text/plain": [
       "Map:   0%|          | 0/2 [00:00<?, ? examples/s]"
      ]
     },
     "metadata": {},
     "output_type": "display_data"
    },
    {
     "name": "stderr",
     "output_type": "stream",
     "text": [
      "\u001b[34m\u001b[1mwandb\u001b[0m: \u001b[33mWARNING\u001b[0m The `run_name` is currently set to the same value as `TrainingArguments.output_dir`. If this was not intended, please specify a different run name by setting the `TrainingArguments.run_name` parameter.\n"
     ]
    },
    {
     "data": {
      "application/vnd.jupyter.widget-view+json": {
       "model_id": "f6a14ff272394bb38f4ccad47da4fe93",
       "version_major": 2,
       "version_minor": 0
      },
      "text/plain": [
       "  0%|          | 0/9 [00:00<?, ?it/s]"
      ]
     },
     "metadata": {},
     "output_type": "display_data"
    },
    {
     "name": "stderr",
     "output_type": "stream",
     "text": [
      "Trainer.tokenizer is now deprecated. You should use Trainer.processing_class instead.\n",
      "Trainer.tokenizer is now deprecated. You should use Trainer.processing_class instead.\n"
     ]
    },
    {
     "name": "stdout",
     "output_type": "stream",
     "text": [
      "{'loss': 1.4355, 'grad_norm': 1.2515957355499268, 'learning_rate': 2e-05, 'epoch': 0.11}\n"
     ]
    },
    {
     "data": {
      "application/vnd.jupyter.widget-view+json": {
       "model_id": "227d4369b61d4da5a11d00c884f08824",
       "version_major": 2,
       "version_minor": 0
      },
      "text/plain": [
       "  0%|          | 0/2 [00:00<?, ?it/s]"
      ]
     },
     "metadata": {},
     "output_type": "display_data"
    },
    {
     "name": "stdout",
     "output_type": "stream",
     "text": [
      "{'eval_loss': 1.4686474800109863, 'eval_runtime': 0.3487, 'eval_samples_per_second': 5.735, 'eval_steps_per_second': 5.735, 'epoch': 0.11}\n"
     ]
    },
    {
     "name": "stderr",
     "output_type": "stream",
     "text": [
      "Trainer.tokenizer is now deprecated. You should use Trainer.processing_class instead.\n",
      "Trainer.tokenizer is now deprecated. You should use Trainer.processing_class instead.\n"
     ]
    },
    {
     "name": "stdout",
     "output_type": "stream",
     "text": [
      "{'loss': 1.1542, 'grad_norm': 1.0203007459640503, 'learning_rate': 4e-05, 'epoch': 0.22}\n"
     ]
    },
    {
     "data": {
      "application/vnd.jupyter.widget-view+json": {
       "model_id": "89dfdabc980c4772b010b30c1ad0e7f1",
       "version_major": 2,
       "version_minor": 0
      },
      "text/plain": [
       "  0%|          | 0/2 [00:00<?, ?it/s]"
      ]
     },
     "metadata": {},
     "output_type": "display_data"
    },
    {
     "name": "stdout",
     "output_type": "stream",
     "text": [
      "{'eval_loss': 1.4441306591033936, 'eval_runtime': 0.3415, 'eval_samples_per_second': 5.857, 'eval_steps_per_second': 5.857, 'epoch': 0.22}\n"
     ]
    },
    {
     "name": "stderr",
     "output_type": "stream",
     "text": [
      "Trainer.tokenizer is now deprecated. You should use Trainer.processing_class instead.\n",
      "Trainer.tokenizer is now deprecated. You should use Trainer.processing_class instead.\n"
     ]
    },
    {
     "name": "stdout",
     "output_type": "stream",
     "text": [
      "{'loss': 1.4437, 'grad_norm': 1.2312090396881104, 'learning_rate': 6e-05, 'epoch': 0.33}\n"
     ]
    },
    {
     "data": {
      "application/vnd.jupyter.widget-view+json": {
       "model_id": "f4a4257a6fee4e72923c08d2f29e53bd",
       "version_major": 2,
       "version_minor": 0
      },
      "text/plain": [
       "  0%|          | 0/2 [00:00<?, ?it/s]"
      ]
     },
     "metadata": {},
     "output_type": "display_data"
    },
    {
     "name": "stdout",
     "output_type": "stream",
     "text": [
      "{'eval_loss': 1.3912301063537598, 'eval_runtime': 0.342, 'eval_samples_per_second': 5.848, 'eval_steps_per_second': 5.848, 'epoch': 0.33}\n"
     ]
    },
    {
     "name": "stderr",
     "output_type": "stream",
     "text": [
      "Trainer.tokenizer is now deprecated. You should use Trainer.processing_class instead.\n",
      "Trainer.tokenizer is now deprecated. You should use Trainer.processing_class instead.\n"
     ]
    },
    {
     "name": "stdout",
     "output_type": "stream",
     "text": [
      "{'loss': 1.3792, 'grad_norm': 1.2149678468704224, 'learning_rate': 8e-05, 'epoch': 0.44}\n"
     ]
    },
    {
     "data": {
      "application/vnd.jupyter.widget-view+json": {
       "model_id": "64f0d4dc0bd54a68b989b58432fa9b09",
       "version_major": 2,
       "version_minor": 0
      },
      "text/plain": [
       "  0%|          | 0/2 [00:00<?, ?it/s]"
      ]
     },
     "metadata": {},
     "output_type": "display_data"
    },
    {
     "name": "stdout",
     "output_type": "stream",
     "text": [
      "{'eval_loss': 1.3182319402694702, 'eval_runtime': 0.3395, 'eval_samples_per_second': 5.89, 'eval_steps_per_second': 5.89, 'epoch': 0.44}\n"
     ]
    },
    {
     "name": "stderr",
     "output_type": "stream",
     "text": [
      "Trainer.tokenizer is now deprecated. You should use Trainer.processing_class instead.\n",
      "Trainer.tokenizer is now deprecated. You should use Trainer.processing_class instead.\n"
     ]
    },
    {
     "name": "stdout",
     "output_type": "stream",
     "text": [
      "{'loss': 1.3153, 'grad_norm': 1.0672197341918945, 'learning_rate': 0.0001, 'epoch': 0.56}\n"
     ]
    },
    {
     "data": {
      "application/vnd.jupyter.widget-view+json": {
       "model_id": "57c0016314724eeda24e26ab3dd220c2",
       "version_major": 2,
       "version_minor": 0
      },
      "text/plain": [
       "  0%|          | 0/2 [00:00<?, ?it/s]"
      ]
     },
     "metadata": {},
     "output_type": "display_data"
    },
    {
     "name": "stdout",
     "output_type": "stream",
     "text": [
      "{'eval_loss': 1.2337559461593628, 'eval_runtime': 0.3443, 'eval_samples_per_second': 5.81, 'eval_steps_per_second': 5.81, 'epoch': 0.56}\n"
     ]
    },
    {
     "name": "stderr",
     "output_type": "stream",
     "text": [
      "Trainer.tokenizer is now deprecated. You should use Trainer.processing_class instead.\n",
      "Trainer.tokenizer is now deprecated. You should use Trainer.processing_class instead.\n"
     ]
    },
    {
     "name": "stdout",
     "output_type": "stream",
     "text": [
      "{'loss': 1.2065, 'grad_norm': 0.9875402450561523, 'learning_rate': 0.00012, 'epoch': 0.67}\n"
     ]
    },
    {
     "data": {
      "application/vnd.jupyter.widget-view+json": {
       "model_id": "5752134e645f4bb5af962ad82d6bb7fe",
       "version_major": 2,
       "version_minor": 0
      },
      "text/plain": [
       "  0%|          | 0/2 [00:00<?, ?it/s]"
      ]
     },
     "metadata": {},
     "output_type": "display_data"
    },
    {
     "name": "stdout",
     "output_type": "stream",
     "text": [
      "{'eval_loss': 1.1360883712768555, 'eval_runtime': 0.3431, 'eval_samples_per_second': 5.829, 'eval_steps_per_second': 5.829, 'epoch': 0.67}\n"
     ]
    },
    {
     "name": "stderr",
     "output_type": "stream",
     "text": [
      "Trainer.tokenizer is now deprecated. You should use Trainer.processing_class instead.\n",
      "Trainer.tokenizer is now deprecated. You should use Trainer.processing_class instead.\n"
     ]
    },
    {
     "name": "stdout",
     "output_type": "stream",
     "text": [
      "{'loss': 0.9277, 'grad_norm': 0.7119359970092773, 'learning_rate': 0.00014, 'epoch': 0.78}\n"
     ]
    },
    {
     "data": {
      "application/vnd.jupyter.widget-view+json": {
       "model_id": "bba7e3d198154a43b05591bf2ba55e72",
       "version_major": 2,
       "version_minor": 0
      },
      "text/plain": [
       "  0%|          | 0/2 [00:00<?, ?it/s]"
      ]
     },
     "metadata": {},
     "output_type": "display_data"
    },
    {
     "name": "stdout",
     "output_type": "stream",
     "text": [
      "{'eval_loss': 1.0340609550476074, 'eval_runtime': 0.3425, 'eval_samples_per_second': 5.839, 'eval_steps_per_second': 5.839, 'epoch': 0.78}\n"
     ]
    },
    {
     "name": "stderr",
     "output_type": "stream",
     "text": [
      "Trainer.tokenizer is now deprecated. You should use Trainer.processing_class instead.\n",
      "Trainer.tokenizer is now deprecated. You should use Trainer.processing_class instead.\n"
     ]
    },
    {
     "name": "stdout",
     "output_type": "stream",
     "text": [
      "{'loss': 1.0344, 'grad_norm': 0.9036762714385986, 'learning_rate': 0.00016, 'epoch': 0.89}\n"
     ]
    },
    {
     "data": {
      "application/vnd.jupyter.widget-view+json": {
       "model_id": "bc12bb163ba24a97a3dd20b1a1c1c58a",
       "version_major": 2,
       "version_minor": 0
      },
      "text/plain": [
       "  0%|          | 0/2 [00:00<?, ?it/s]"
      ]
     },
     "metadata": {},
     "output_type": "display_data"
    },
    {
     "name": "stdout",
     "output_type": "stream",
     "text": [
      "{'eval_loss': 0.9266351461410522, 'eval_runtime': 0.3627, 'eval_samples_per_second': 5.515, 'eval_steps_per_second': 5.515, 'epoch': 0.89}\n"
     ]
    },
    {
     "name": "stderr",
     "output_type": "stream",
     "text": [
      "Trainer.tokenizer is now deprecated. You should use Trainer.processing_class instead.\n",
      "Trainer.tokenizer is now deprecated. You should use Trainer.processing_class instead.\n"
     ]
    },
    {
     "name": "stdout",
     "output_type": "stream",
     "text": [
      "{'loss': 0.8899, 'grad_norm': 0.828197717666626, 'learning_rate': 0.00018, 'epoch': 1.0}\n"
     ]
    },
    {
     "data": {
      "application/vnd.jupyter.widget-view+json": {
       "model_id": "9f9837a9331d40249236796ad59033a8",
       "version_major": 2,
       "version_minor": 0
      },
      "text/plain": [
       "  0%|          | 0/2 [00:00<?, ?it/s]"
      ]
     },
     "metadata": {},
     "output_type": "display_data"
    },
    {
     "name": "stdout",
     "output_type": "stream",
     "text": [
      "{'eval_loss': 0.8178315162658691, 'eval_runtime': 0.3567, 'eval_samples_per_second': 5.607, 'eval_steps_per_second': 5.607, 'epoch': 1.0}\n",
      "{'train_runtime': 11.3162, 'train_samples_per_second': 1.591, 'train_steps_per_second': 0.795, 'train_loss': 1.1984891162978277, 'epoch': 1.0}\n"
     ]
    }
   ],
   "source": [
    "# Initialize wandb\n",
    "wandb.init(project=\"bt-training\")\n",
    "\n",
    "# Training configuration\n",
    "config = TrainingConfig(\n",
    "    model_size=ModelSize.LLAMA_1B,\n",
    "    training_method=TrainingMethod.LORA,\n",
    "    output_format=OutputFormat.XML,\n",
    ")\n",
    "\n",
    "# Setup\n",
    "model, tokenizer = setup_model_and_tokenizer(config.model_size)\n",
    "training_data = prepare_training_data(config.output_format)\n",
    "trainer = setup_trainer(model, tokenizer, training_data, config)\n",
    "\n",
    "# Start training\n",
    "trainer.train()\n",
    "\n",
    "# Save the model\n",
    "trainer.save_model()"
   ]
  },
  {
   "cell_type": "code",
   "execution_count": 8,
   "metadata": {},
   "outputs": [],
   "source": [
    "from peft import PeftModel, PeftConfig\n",
    "import torch\n",
    "from transformers import AutoModelForCausalLM, AutoTokenizer, BitsAndBytesConfig\n",
    "from typing import Optional, Dict, Any\n",
    "import os\n",
    "from evaluation import evaluate_model\n",
    "import json\n",
    "\n",
    "def load_trained_model(\n",
    "    base_model_name: str,\n",
    "    adapter_path: str,\n",
    "    device: str = \"auto\"\n",
    ") -> tuple[AutoModelForCausalLM, AutoTokenizer]:\n",
    "    \"\"\"\n",
    "    Load a trained LoRA model and its tokenizer.\n",
    "    \n",
    "    Args:\n",
    "        base_model_name: Name of the base model\n",
    "        adapter_path: Path to the trained adapter weights\n",
    "        device: Device to load the model on\n",
    "    \n",
    "    Returns:\n",
    "        tuple: (model, tokenizer)\n",
    "    \"\"\"\n",
    "    # Initialize tokenizer\n",
    "    tokenizer = AutoTokenizer.from_pretrained(base_model_name, trust_remote_code=True)\n",
    "    tokenizer.add_special_tokens({'pad_token': '[PAD]'})\n",
    "    \n",
    "    # Setup base model with same config as training\n",
    "    torch_dtype = torch.float16\n",
    "    bnb_config = BitsAndBytesConfig(\n",
    "        load_in_4bit=True,\n",
    "        bnb_4bit_quant_type=\"nf4\",\n",
    "        bnb_4bit_compute_dtype=torch_dtype,\n",
    "        bnb_4bit_use_double_quant=True,\n",
    "    )\n",
    "    \n",
    "    # Load base model\n",
    "    model = AutoModelForCausalLM.from_pretrained(\n",
    "        base_model_name,\n",
    "        quantization_config=bnb_config,\n",
    "        device_map=device,\n",
    "        torch_dtype=torch_dtype\n",
    "    )\n",
    "    \n",
    "    # Load adapter weights\n",
    "    model = PeftModel.from_pretrained(model, adapter_path)\n",
    "    \n",
    "    return model, tokenizer\n",
    "\n",
    "def evaluate_all_models(\n",
    "    model_configs: list[Dict[str, Any]],\n",
    "    template: str,\n",
    "    question_example: str,\n",
    "    answer_example: str,\n",
    "    json_example: str,\n",
    "    xml_example: str,\n",
    "    action_list: list[str],\n",
    "    object_list: list[str],\n",
    "    query_file: str,\n",
    "    evaluate_model_fn: callable\n",
    ") -> Dict[str, Any]:\n",
    "    \"\"\"\n",
    "    Evaluate multiple trained models with different configurations.\n",
    "    \n",
    "    Args:\n",
    "        model_configs: List of dictionaries containing model configurations\n",
    "        template: Template string for system prompt\n",
    "        question_example: Example question\n",
    "        answer_example: Example answer\n",
    "        json_example: Example JSON output\n",
    "        action_list: List of available actions\n",
    "        object_list: List of available objects\n",
    "        query_file: Path to query dataset\n",
    "        evaluate_model_fn: Function to evaluate individual model\n",
    "    \n",
    "    Returns:\n",
    "        Dict containing evaluation results for each model\n",
    "    \"\"\"\n",
    "    results = {}\n",
    "    \n",
    "    for config in model_configs:\n",
    "        model_name = f\"llama-{config['size']}-bt-{config['format']}-{config['method']}\"\n",
    "        adapter_path = f\"./{model_name}\"\n",
    "\n",
    "        # Check if the model exists\n",
    "        if not os.path.exists(adapter_path):\n",
    "            print(f\"Model {model_name} does not exist. Skipping evaluation.\")\n",
    "            continue\n",
    "        \n",
    "        # Load model\n",
    "        model, tokenizer = load_trained_model(\n",
    "            config['base_model'],\n",
    "            adapter_path\n",
    "        )\n",
    "        \n",
    "        # Prepare system prompt\n",
    "        if config['format'].lower() == 'xml':\n",
    "            system_prompt = template.format(\n",
    "                format_type=config['format'].upper(),\n",
    "                example=f\"{question_example}\\n{answer_example}\\n{xml_example}\",\n",
    "                available_actions=action_list,\n",
    "                object_list=object_list,\n",
    "            ) \n",
    "        else:\n",
    "            system_prompt = template.format(\n",
    "                format_type=config['format'].upper(),\n",
    "                example=f\"{question_example}\\n{answer_example}\\n{json_example}\",\n",
    "                available_actions=action_list,\n",
    "                object_list=object_list,\n",
    "            )\n",
    "\n",
    "        \n",
    "        # Evaluate model\n",
    "        results[model_name] = evaluate_model_fn(\n",
    "            model=model,\n",
    "            tokenizer=tokenizer,\n",
    "            formatting_prompt=formatting_prompt,\n",
    "            validation_type=config['format'].lower(),\n",
    "            query_file=query_file,\n",
    "            instruction=system_prompt,\n",
    "            action_list=action_list\n",
    "        )\n",
    "        \n",
    "        # Clear CUDA cache\n",
    "        del model\n",
    "        torch.cuda.empty_cache()\n",
    "    \n",
    "    return results"
   ]
  },
  {
   "cell_type": "code",
   "execution_count": 9,
   "metadata": {},
   "outputs": [],
   "source": [
    "torch.cuda.empty_cache()"
   ]
  },
  {
   "cell_type": "code",
   "execution_count": 10,
   "metadata": {},
   "outputs": [
    {
     "name": "stdout",
     "output_type": "stream",
     "text": [
      "Model llama-1b-bt-json-lora does not exist. Skipping evaluation.\n"
     ]
    },
    {
     "name": "stderr",
     "output_type": "stream",
     "text": [
      "100%|██████████| 50/50 [12:55<00:00, 15.50s/it]"
     ]
    },
    {
     "name": "stdout",
     "output_type": "stream",
     "text": [
      "Model llama-3b-bt-json-lora does not exist. Skipping evaluation.\n",
      "Model llama-3b-bt-xml-lora does not exist. Skipping evaluation.\n",
      "\n",
      "Results for llama-1b-bt-xml-lora:\n",
      "{'score': 0.62, 'plans': {'no plan': [['Locate the tarp and navigate to its position.', '\\n\\n<plan>\\n<root main_tree_to_execute=\"LocateAndNavigateTarpSequence\">\\n    <BehaviorTree ID=\"LocateAndNavigateTarpSequence\">\\n        <Sequence name=\"LocateAndNavigateTarp\">\\n            <Locate object=\"tarp\" \\n                    position_x=\"{tarp_position_x}\" \\n                    position_y=\"{tarp_position_y}\" \\n                    position_z=\"{tarp_position_z}\" \\n                    method=\"camera_scan\"/>\\n            <Locate object=\"water bottle sitting on the tarp\" \\n                    position_x=\"{water_bottle_position_x}\" \\n                    position_y=\"{water_bottle_position_y}\" \\n                    position_z=\"{water_bottle_position_z}\" \\n                    method=\"camera_scan\"/>\\n            <Locate object=\"first aid kit sitting on the tarp\" \\n                    position_x=\"{first_aid_kit_position_x}\" \\n                    position_y=\"{first_aid_kit_position_y}\" \\n                    position_z=\"{first_aid_kit_position_z}\" \\n                    method=\"camera_scan\"/>\\n            <Locate object=\"flashlight sitting on the tarp\" \\n                    position_x=\"{flashlight_position_x}\" \\n                    position_y=\"{flashlight_position_y}\" \\n                    position_z=\"{flashlight_position_z}\" \\n                    method=\"camera_scan\"/>\\n            <Locate object=\"water bottle sitting on the tarp\" \\n                    position_x=\"{water_bottle_position_x}\" \\n                    position_y=\"{water_bottle_position_y}\" \\n                    position_z=\"{water_bottle_position_z}\" \\n                    method=\"camera_scan\"/>\\n            <Locate object=\"first aid kit sitting on the tarp\" \\n                    position_x=\"{first_aid_kit_position_x}\" \\n                    position_y=\"{first_aid_kit_position_y}\" \\n                    position_z=\"{first_aid_kit_position_z}\" \\n                    method=\"camera_scan\"/>\\n            <Locate object=\"flashlight sitting on the tarp\" \\n                    position_x=\"{flashlight_position_x}\" \\n                    position_y=\"{flashlight_position_y}\" \\n                    position_z=\"{flashlight_position_z}\" \\n                    method=\"camera_scan\"/>\\n            <Locate object=\"water bottle sitting on the tarp\" \\n                    position_x=\"{water_bottle_position_x}\" \\n                    position_y=\"{water_bottle_position_y}\" \\n                    position_z=\"{water_bottle_position_z}\" \\n                    method=\"camera_scan\"/>\\n            <Locate object=\"first aid kit sitting on the tarp\" \\n                    position_x=\"{first_aid_kit_position_x}\" \\n                    position_y=\"{first_aid_kit_position_y}\" \\n                    position_z=\"{first_aid_kit_position_z}\" \\n                    method=\"camera_scan\"/>\\n            <Locate object=\"flashlight sitting on the tarp\" \\n                    position_x=\"{flashlight_position_x}\" \\n                    position_y=\"{flashlight_position_y}\" \\n                    position_z=\"{flashlight_position_z}\" \\n                    method=\"camera_scan\"/>\\n            <Locate object=\"water bottle sitting on the tarp\" \\n                    position_x=\"{water_bottle_position_x}\" \\n                    position_y=\"{water_bottle_position_y}\" \\n                    position_z=\"{water_bottle_position_z}\" \\n                    method=\"camera_scan\"/>\\n            <Locate object=\"first aid kit sitting on the tarp\" \\n                    position_x=\"{first_aid_kit_position_x}\" \\n                    position_y=\"{first_aid_kit_position_y}\" \\n                    position_z=\"{first_aid_kit_position_z}\" \\n                    method=\"'], ['Retrieve the thermal blanket and place it on the sleeping bag.', '\\n\\n<plan>\\n  <root main_tree_to_execute=\"RetrieveAndPlaceThermalBlanketSequence\">\\n    <BehaviorTree ID=\"RetrieveAndPlaceThermalBlanketSequence\">\\n      <Sequence name=\"RetrieveAndPlaceThermalBlanket\">\\n        <Locate object=\"thermal blanket sitting on the sleeping bag\" \\n                 position_x=\"{thermal blanket_position_x}\" \\n                 position_y=\"{thermal blanket_position_y}\" \\n                 position_z=\"{thermal blanket_position_z}\" \\n                 method=\"camera_scan\"/>\\n        <Retry num_attempts=\"3\">\\n          <Locate object=\"thermal blanket sitting on the sleeping bag\" \\n                   position_x=\"{thermal blanket_position_x}\" \\n                   position_y=\"{thermal blanket_position_y}\" \\n                   position_z=\"{thermal blanket_position_z}\" \\n                   method=\"camera_scan\"/>\\n        </Retry>\\n        <Retry num_attempts=\"2\">\\n          <Locate object=\"thermal blanket sitting on the sleeping bag\" \\n                   position_x=\"{thermal blanket_position_x}\" \\n                   position_y=\"{thermal blanket_position_y}\" \\n                   position_z=\"{thermal blanket_position_z}\" \\n                   method=\"camera_scan\"/>\\n        </Retry>\\n        <Retry num_attempts=\"2\">\\n          <Locate object=\"thermal blanket sitting on the sleeping bag\" \\n                   position_x=\"{thermal blanket_position_x}\" \\n                   position_y=\"{thermal blanket_position_y}\" \\n                   position_z=\"{thermal blanket_position_z}\" \\n                   method=\"camera_scan\"/>\\n        </Retry>\\n        <Locate object=\"thermal blanket sitting on the sleeping bag\" \\n                   position_x=\"{thermal blanket_position_x}\" \\n                   position_y=\"{thermal blanket_position_y}\" \\n                   position_z=\"{thermal blanket_position_z}\" \\n                   method=\"camera_scan\"/>\\n        <Retry num_attempts=\"2\">\\n          <Locate object=\"thermal blanket sitting on the sleeping bag\" \\n                   position_x=\"{thermal blanket_position_x}\" \\n                   position_y=\"{thermal blanket_position_y}\" \\n                   position_z=\"{thermal blanket_position_z}\" \\n                   method=\"camera_scan\"/>\\n        </Retry>\\n        <Locate object=\"thermal blanket sitting on the sleeping bag\" \\n                   position_x=\"{thermal blanket_position_x}\" \\n                   position_y=\"{thermal blanket_position_y}\" \\n                   position_z=\"{thermal blanket_position_z}\" \\n                   method=\"camera_scan\"/>\\n        <Retry num_attempts=\"2\">\\n          <Locate object=\"thermal blanket sitting on the sleeping bag\" \\n                   position_x=\"{thermal blanket_position_x}\" \\n                   position_y=\"{thermal blanket_position_y}\" \\n                   position_z=\"{thermal blanket_position_z}\" \\n                   method=\"camera_scan\"/>\\n        </Retry>\\n        <Locate object=\"thermal blanket sitting on the sleeping bag\" \\n                   position_x=\"{thermal blanket_position_x}\" \\n                   position_y=\"{thermal blanket_position_y}\" \\n                   position_z=\"{thermal blanket_position_z}\" \\n                   method=\"camera_scan\"/>\\n        <Retry num_attempts=\"2\">\\n          <Locate object=\"thermal blanket sitting on the sleeping bag\" \\n                   position_x=\"{thermal blanket_position_x}\" \\n                   position_y=\"{thermal blanket_position_y}\" \\n                   position_z=\"{thermal blanket_position_z}\" \\n                   method=\"camera_scan\"/>\\n        </Retry>\\n        <Locate object=\"thermal blanket sitting on the sleeping bag\" \\n                   position_x=\"{thermal blanket_position_x}\" \\n                   position_y=\"{thermal blanket_position_y}\" \\n                   position_z=\"{thermal blanket_position_z}\" \\n                   method=\"camera_scan\"/>\\n        <Retry num_attempts=\"2\">\\n          <Locate object=\"thermal blanket sitting on the'], ['Locate the crowbar and align it parallel to the ladder.', '\\n\\nLocating the crowbar and aligning it parallel to the ladder.<|eot_id|>']], 'not valid': [['\\n    <root main_tree_to_execute=\"LocateAndReportFlashlightSequence\">\\n        <BehaviorTree ID=\"LocateAndReportFlashlightSequence\">\\n            <Sequence name=\"LocateAndReportFlashlight\">\\n                <Locate object=\"flashlight\" position_x=\"{flashlight_position_x}\" position_y=\"{flashlight_position_y}\" position_z=\"{flashlight_position_z}\" method=\"camera_scan\"/>\\n                <Locate object=\"water bottle sitting on the table\" position_x=\"{water_bottle_position_x}\" position_y=\"{water_bottle_position_y}\" position_z=\"{water_bottle_position_z}\" method=\"camera_scan\"/>\\n            </Sequence>\\n            <Locate object=\"first aid kit sitting on the shelf\" position_x=\"{first_aid_kit_position_x}\" position_y=\"{first_aid_kit_position_y}\" position_z=\"{first_aid_kit_position_z}\" method=\"camera_scan\"/>\\n        </root>\\n    ', ['XML Parsing Error: mismatched tag: line 9, column 10']], ['\\n  <root main_tree_to_execute=\"MoveForwardSequence\">\\n    <BehaviorTree ID=\"MoveForwardSequence\">\\n      <Sequence name=\"MoveForward\">\\n        <Retry num_attempts=\"2\">\\n          <Navigate x=\"12.3\" y=\"5.8\" z=\"1.0\"/>\\n        </Retry>\\n        <Retry num_attempts=\"2\">\\n          <MoveForward x=\"24.7\" y=\"3.5\" z=\"0.8\"/>\\n        </Retry>\\n        <Retry num_attempts=\"2\">\\n          <MoveForward x=\"9.2\" y=\"4.1\" z=\"0.5\"/>\\n        </Retry>\\n      </Sequence>\\n    </BehaviorTree>\\n  </root>\\n', ['Invalid node <MoveForward> found.', 'Invalid node <MoveForward> found.']], ['\\n<root main_tree_to_execute=\"LocateAndGetSmartphoneSequence\">\\n    <BehaviorTree ID=\"LocateAndGetSmartphoneSequence\">\\n        <Sequence name=\"LocateAndGetSmartphone\">\\n            <Locate object=\"smartphone\" \\n                  position_x=\"{smartphone_position_x}\" \\n                  position_y=\"{smartphone_position_y}\" \\n                  position_z=\"{smartphone_position_z}\" \\n                  method=\"camera_scan\"/>\\n            <Retry num_attempts=\"2\">\\n                <Locate object=\"smartphone\" \\n                       position_x=\"{smartphone_position_x}\" \\n                       position_y=\"{smartphone_position_y}\" \\n                       position_z=\"{smartphone_position_z}\" \\n                       method=\"camera_scan\"/>\\n            </Retry>\\n        </Sequence>\\n    </root>\\n', ['XML Parsing Error: mismatched tag: line 18, column 6']], ['\\n<root main_tree_to_execute=\"LocateAndMoveHammerSequence\">\\n    <BehaviorTree ID=\"LocateAndMoveHammerSequence\">\\n        <Sequence name=\"LocateAndMoveHammer\">\\n            <Locate object=\"hammer\" \\n                   position_x=\"15.0\" \\n                   position_y=\"2.0\" \\n                   position_z=\"0.0\" \\n                   method=\"camera_scan\"/>\\n            <Retry num_attempts=\"3\">\\n                <Navigate x=\"15.0\" y=\"2.0\" z=\"0.0\"/>\\n            </Retry>\\n            <Retry num_attempts=\"2\">\\n                <Pick object=\"hammer\" \\n                       grip_strength=\"medium\" \\n                       precision=\"low\"/>\\n            </Retry>\\n            <Retry num_attempts=\"2\">\\n                <Move object=\"hammer\" \\n                       speed=\"fast\" \\n                       orientation=\"upright\" \\n                       alignment=\"center\"/>\\n            </Retry>\\n        </Sequence>\\n    </BehaviorTree>\\n</root>\\n', ['Invalid node <Move> found.']], ['\\n<root main_tree_to_execute=\"NavigateBackwardBy1.5Sequence\">\\n    <BehaviorTree ID=\"NavigateBackwardBy1.5Sequence\">\\n        <Sequence name=\"NavigateBackwardBy1.5\">\\n            <Retry num_attempts=\"1\">\\n                <Navigate x=\"12.3\" y=\"5.8\" z=\"1.0\"/>\\n            </Retry>\\n        </Sequence>\\n    </root>\\n', ['XML Parsing Error: mismatched tag: line 9, column 6']], ['\\n<root main_tree_to_execute=\"TurnAndMoveForward180DegreesSequence\">\\n    <BehaviorTree ID=\"TurnAndMoveForward180DegreesSequence\">\\n        <Sequence name=\"TurnAndMoveForward180Degrees\">\\n            <Locate object=\"flashlight\" position_x=\"1.5\" position_y=\"0.0\" position_z=\"0.0\" method=\"camera_scan\"/>\\n            <Retry num_attempts=\"2\">\\n                <Navigate x=\"1.5\" y=\"0.0\"/>\\n            </Retry>\\n            <Retry num_attempts=\"2\">\\n                <Move forward 3.0 meters target_position_x=\"1.5\" target_position_y=\"0.0\" target_position_z=\"0.0\" method=\"camera_scan\"/>\\n            </Retry>\\n        </Sequence>\\n    </BehaviorTree>\\n</root>\\n', ['XML Parsing Error: not well-formed (invalid token): line 10, column 30']], ['\\n<root main_tree_to_execute=\"BatteryLevelCheckSequence\">\\n    <BehaviorTree ID=\"BatteryLevelCheckSequence\">\\n        <Sequence name=\"BatteryLevelCheck\">\\n            <Locate object=\"battery level\" position_x=\"0.0\" position_y=\"0.0\" position_z=\"0.0\" method=\"camera_scan\"/>\\n            <Retry num_attempts=\"2\">\\n                <Navigate x=\"0.0\" y=\"0.0\"/>\\n            </Retry>\\n            <Retry num_attempts=\"2\">\\n                <GetBatteryLevel method=\"battery_level_get\" />\\n            </Retry>\\n            <Retry num_attempts=\"2\">\\n                <SetBatteryLevel method=\"battery_level_set\" level=\"full\" />\\n            </Retry>\\n        </Sequence>\\n    </BehaviorTree>\\n</root>\\n', ['Invalid node <GetBatteryLevel> found.', 'Invalid node <SetBatteryLevel> found.']], ['\\n  <root main_tree_to_execute=\"LocateAndAlignCeramicPlateSequence\">\\n    <BehaviorTree ID=\"LocateAndAlignCeramicPlateSequence\">\\n      <Sequence name=\"LocateAndAlignCeramicPlate\">\\n        <Locate object=\"ceramic plate with bread crumbs\" \\n                position_x=\"{plate_position_x}\" \\n                position_y=\"{plate_position_y}\" \\n                position_z=\"{plate_position_z}\" \\n                method=\"camera_scan\"/>\\n      </Sequence>\\n    </root>\\n  ', ['XML Parsing Error: mismatched tag: line 11, column 6']], ['\\n<root main_tree_to_execute=\"FindAndReportMedicalSplineSequence\">\\n    <BehaviorTree ID=\"FindAndReportMedicalSplineSequence\">\\n        <Sequence name=\"FindAndReportMedicalSpline\">\\n            <Locate object=\"medical splint sitting on the patient\\'s leg\" \\n                    position_x=\"{splint_position_x}\" \\n                    position_y=\"{splint_position_y}\" \\n                    position_z=\"{splint_position_z}\" \\n                    method=\"camera_scan\"/>\\n            <Locate object=\"medical splint sitting on the patient\\'s leg\" \\n                    position_x=\"{splint_position_x}\" \\n                    position_y=\"{splint_position_y}\" \\n                    position_z=\"{splint_position_z}\" \\n                    method=\"camera_scan\"/>\\n            <Locate object=\"medical splint sitting on the patient\\'s leg\" \\n                    position_x=\"{splint_position_x}\" \\n                    position_y=\"{splint_position_y}\" \\n                    position_z=\"{splint_position_z}\" \\n                    method=\"camera_scan\"/>\\n        </Sequence>\\n    </root>\\n', ['XML Parsing Error: mismatched tag: line 21, column 6']], ['\\n  <root main_tree_to_execute=\"MoveForwardSequence\">\\n    <BehaviorTree ID=\"MoveForwardSequence\">\\n      <Sequence name=\"MoveForward\">\\n        <Retry num_attempts=\"3\">\\n          <Locate object=\"water bottle sitting on the floor\" \\n                  position_x=\"{water_bottle_position_x}\" \\n                  position_y=\"{water_bottle_position_y}\" \\n                  position_z=\"{water_bottle_position_z}\" \\n                  method=\"camera_scan\"/>\\n        </Retry>\\n        <Retry num_attempts=\"2\">\\n          <Navigate x=\"{water_bottle_position_x}\" y=\"{water_bottle_position_y}\"/>\\n        </Retry>\\n        <Retry num_attempts=\"2\">\\n          <Move forward distance=\"1.0\" method=\"velocity\"/>\\n        </Retry>\\n      </Sequence>\\n    </BehaviorTree>\\n  </root>\\n', ['XML Parsing Error: not well-formed (invalid token): line 16, column 24']], ['\\n<root main_tree_to_execute=\"TurnAndGoSequence\">\\n    <BehaviorTree ID=\"TurnAndGoSequence\">\\n        <Sequence name=\"TurnAndGo\">\\n            <Retry num_attempts=\"2\">\\n                <TurnToTarget object=\"flashlight\" position_x=\"1.5\" position_y=\"4.1\" position_z=\"0.5\" direction=\"right\"/>\\n            </Retry>\\n            <Retry num_attempts=\"2\">\\n                <TurnToTarget object=\"flashlight\" position_x=\"9.2\" position_y=\"4.1\" position_z=\"0.5\" direction=\"right\"/>\\n            </Retry>\\n        </Sequence>\\n    </BehaviorTree>\\n</root>\\n', ['Invalid node <TurnToTarget> found.', 'Invalid node <TurnToTarget> found.']], ['\\n<root main_tree_to_execute=\"LocateAndReportFlareSequence\">\\n    <BehaviorTree ID=\"LocateAndReportFlareSequence\">\\n        <Sequence name=\"LocateAndReportFlare\">\\n            <Locate object=\"emergency flare\" position_x=\"{flare_position_x}\" position_y=\"{flare_position_y}\" position_z=\"{flare_position_z}\" method=\"range_scan\"/>\\n            <Retry num_attempts=\"2\">\\n                <Navigate x=\"{flare_position_x}\" y=\"{flare_position_y}\"/>\\n            </Retry>\\n            <Retry num_attempts=\"2\">\\n                <Locate object=\"emergency flare\" position_x=\"{flare_position_x}\" position_y=\"{flare_position_y}\" position_z=\"{flare_position_z}\" method=\"range_scan\"/>\\n            </Retry>\\n        </Sequence>\\n    </root>\\n', ['XML Parsing Error: mismatched tag: line 13, column 6']], ['\\n    <root main_tree_to_execute=\"MoveBackwardSequence\">\\n        <BehaviorTree ID=\"MoveBackwardSequence\">\\n            <Sequence name=\"MoveBackward\">\\n                <Retry num_attempts=\"2\">\\n                    <Navigate x=\"10.0\" y=\"3.5\" z=\"0.0\"/>\\n                </Retry>\\n                <Retry num_attempts=\"2\">\\n                    <Move backward by 0.5 meters/>\\n                </Retry>\\n            </Sequence>\\n        </BehaviorTree>\\n    </root>\\n', ['XML Parsing Error: not well-formed (invalid token): line 9, column 35']], ['\\n<root main_tree_to_execute=\"TurnAndMoveSequence\">\\n    <BehaviorTree ID=\"TurnAndMoveSequence\">\\n        <Sequence name=\"TurnAndMove\">\\n            <Retry num_attempts=\"2\">\\n                <Turn direction=\"270\" speed=\"0.5\" />\\n            </Retry>\\n            <Retry num_attempts=\"2\">\\n                <Move forward=\"1.5\" />\\n            </Retry>\\n        </Sequence>\\n    </BehaviorTree>\\n</root>\\n', ['Invalid node <Turn> found.', 'Invalid node <Move> found.']], ['\\n<root main_tree_to_execute=\"CheckBatterySequence\">\\n    <BehaviorTree ID=\"CheckBatterySequence\">\\n        <Sequence name=\"CheckBattery\">\\n            <Locate object=\"battery\" \\n                    position_x=\"{battery_position_x}\" \\n                    position_y=\"{battery_position_y}\" \\n                    position_z=\"{battery_position_z}\" \\n                    method=\"camera_scan\"/>\\n            <Retry num_attempts=\"1\">\\n                <GetBatteryLevel object=\"battery\" \\n                                method=\"sensors\" \\n                                output=\"battery_level\" />\\n            </Retry>\\n            <Sequence name=\"CheckBatteryLevel\">\\n                <GetBatteryLevel object=\"battery\" \\n                                method=\"sensors\" \\n                                output=\"battery_level\" />\\n                <Retry num_attempts=\"1\">\\n                    <CheckBatteryLevelResult object=\"battery_level\" \\n                                      output=\"battery_level_result\" />\\n                </Retry>\\n                <Sequence name=\"CheckBatteryLevelResult\">\\n                    <CheckBatteryLevelResult object=\"battery_level_result\" \\n                                       output=\"battery_level_result\" />\\n                    <Retry num_attempts=\"1\">\\n                        <CheckBatteryLevelResult object=\"battery_level_result\" \\n                                       output=\"battery_level_result\" />\\n                    </Retry>\\n                </Sequence>\\n            </Sequence>\\n        </BehaviorTree>\\n    </root>\\n', ['XML Parsing Error: mismatched tag: line 32, column 10']], ['\\n    <root main_tree_to_execute=\"PickAndAlignStackSequence\">\\n        <BehaviorTree ID=\"PickAndAlignStackSequence\">\\n            <Sequence name=\"PickAndAlignStack\">\\n                <Locate object=\"wooden stack sitting on the dining table\" position_x=\"1.0\" position_y=\"0.0\" position_z=\"0.0\" method=\"camera_scan\"/>\\n                <Pick object=\"wooden stack sitting on the dining table\" grip_strength=\"medium\" precision=\"high\"/>\\n                <Navigate x=\"1.5\" y=\"0.0\"/>\\n                <Align object=\"wooden stack sitting on the dining table\" orientation=\"upright\" alignment=\"center\"/>\\n            </Sequence>\\n        </BehaviorTree>\\n    </root>\\n', ['Invalid node <Align> found.']]], 'valid': ['\\n<root main_tree_to_execute=\"RetrieveAndPlaceAppleSequence\">\\n    <BehaviorTree ID=\"RetrieveAndPlaceAppleSequence\">\\n        <Sequence name=\"RetrieveAndPlaceApple\">\\n            <Retry num_attempts=\"3\">\\n                <Locate object=\"red apple sitting on the kitchen counter\" \\n                        position_x=\"{apple_position_x}\" \\n                        position_y=\"{apple_position_y}\" \\n                        position_z=\"{apple_position_z}\" \\n                        method=\"camera_scan\"/>\\n            </Retry>\\n            <Retry num_attempts=\"2\">\\n                <Navigate x=\"{apple_position_x}\" y=\"{apple_position_y}\"/>\\n            </Retry>\\n            <Retry num_attempts=\"2\">\\n                <Pick object=\"red apple sitting on the kitchen counter\" \\n                      grip_strength=\"medium\" \\n                      precision=\"high\"/>\\n            </Retry>\\n            <Retry num_attempts=\"2\">\\n                <Place object=\"red apple\" \\n                       surface=\"wooden cutting board on the dining table\" \\n                       orientation=\"upright\" \\n                       alignment=\"center\"/>\\n            </Retry>\\n        </Sequence>\\n    </BehaviorTree>\\n</root>\\n', '\\n<root main_tree_to_execute=\"PickAndPlaceCeramicPlateSequence\">\\n    <BehaviorTree ID=\"PickAndPlaceCeramicPlateSequence\">\\n        <Sequence name=\"PickAndPlaceCeramicPlate\">\\n            <Retry num_attempts=\"3\">\\n                <Locate object=\"ceramic plate with some bread crumbs\" \\n                        position_x=\"{plate_position_x}\" \\n                        position_y=\"{plate_position_y}\" \\n                        position_z=\"{plate_position_z}\" \\n                        method=\"camera_scan\"/>\\n            </Retry>\\n            <Retry num_attempts=\"2\">\\n                <Pick object=\"ceramic plate with some bread crumbs\" \\n                      grip_strength=\"medium\" \\n                      precision=\"low\"/>\\n            </Retry>\\n            <Retry num_attempts=\"2\">\\n                <Place object=\"ceramic plate with some bread crumbs\" \\n                       surface=\"wooden kitchen counter\" \\n                       orientation=\"upright\" \\n                       alignment=\"center\"/>\\n            </Retry>\\n        </Sequence>\\n    </BehaviorTree>\\n</root>\\n', '\\n<root main_tree_to_execute=\"NavigateToSafetyHelmetSequence\">\\n    <BehaviorTree ID=\"NavigateToSafetyHelmetSequence\">\\n        <Sequence name=\"NavigateToSafetyHelmet\">\\n            <Locate object=\"safety helmet\" \\n                    position_x=\"{helmet_position_x}\" \\n                    position_y=\"{helmet_position_y}\" \\n                    position_z=\"{helmet_position_z}\" \\n                    method=\"camera_scan\"/>\\n            <Retry num_attempts=\"2\">\\n                <Navigate x=\"{helmet_position_x}\" y=\"{helmet_position_y}\"/>\\n            </Retry>\\n            <Retry num_attempts=\"1\">\\n                <Pick object=\"safety helmet\" \\n                        grip_strength=\"medium\" \\n                        precision=\"low\"/>\\n            </Retry>\\n        </Sequence>\\n    </BehaviorTree>\\n</root>\\n', '\\n<root main_tree_to_execute=\"RetrieveAndPlaceFireExtinguisherSequence\">\\n    <BehaviorTree ID=\"RetrieveAndPlaceFireExtinguisherSequence\">\\n        <Sequence name=\"RetrieveAndPlaceFireExtinguisher\">\\n            <Retry num_attempts=\"3\">\\n                <Locate object=\"fire extinguisher sitting on the floor\" \\n                        position_x=\"{fire_extinguisher_position_x}\" \\n                        position_y=\"{fire_extinguisher_position_y}\" \\n                        position_z=\"{fire_extinguisher_position_z}\" \\n                        method=\"camera_scan\"/>\\n            </Retry>\\n            <Retry num_attempts=\"2\">\\n                <Navigate x=\"{fire_extinguisher_position_x}\" y=\"{fire_extinguisher_position_y}\"/>\\n            </Retry>\\n            <Retry num_attempts=\"2\">\\n                <Pick object=\"fire extinguisher sitting on the floor\" \\n                      grip_strength=\"medium\" \\n                      precision=\"high\"/>\\n            </Retry>\\n            <Retry num_attempts=\"2\">\\n                <Place object=\"fire extinguisher\" \\n                       surface=\"ladder\" \\n                       orientation=\"upright\" \\n                       alignment=\"center\"/>\\n            </Retry>\\n        </Sequence>\\n    </BehaviorTree>\\n</root>\\n', '\\n<root main_tree_to_execute=\"PickAndPlaceGlovesSequence\">\\n    <BehaviorTree ID=\"PickAndPlaceGlovesSequence\">\\n        <Sequence name=\"PickAndPlaceGloves\">\\n            <Locate object=\"pair of gloves\" \\n                    position_x=\"{glove_position_x}\" \\n                    position_y=\"{glove_position_y}\" \\n                    position_z=\"{glove_position_z}\" \\n                    method=\"camera_scan\"/>\\n            <Retry num_attempts=\"3\">\\n                <Navigate x=\"{glove_position_x}\" y=\"{glove_position_y}\"/>\\n            </Retry>\\n            <Retry num_attempts=\"2\">\\n                <Pick object=\"pair of gloves\" \\n                       grip_strength=\"medium\" \\n                       precision=\"high\"/>\\n            </Retry>\\n            <Retry num_attempts=\"2\">\\n                <Place object=\"pair of gloves\" \\n                       surface=\"tarp\" \\n                       orientation=\"upright\" \\n                       alignment=\"center\"/>\\n            </Retry>\\n        </Sequence>\\n    </BehaviorTree>\\n</root>\\n', '\\n<root main_tree_to_execute=\"NavigateAndWaitSequence\">\\n    <BehaviorTree ID=\"NavigateAndWaitSequence\">\\n        <Sequence name=\"NavigateAndWait\">\\n            <Locate object=\"pair of boots\" \\n                   position_x=\"12.3\" \\n                   position_y=\"5.8\" \\n                   position_z=\"1.0\" \\n                   method=\"camera_scan\"/>\\n            <Wait duration=\"5.0\"/>\\n            <Locate object=\"pair of boots\" \\n                   position_x=\"12.3\" \\n                   position_y=\"5.8\" \\n                   position_z=\"1.0\" \\n                   method=\"camera_scan\"/>\\n            <Wait duration=\"5.0\"/>\\n            <Locate object=\"pair of boots\" \\n                   position_x=\"12.3\" \\n                   position_y=\"5.8\" \\n                   position_z=\"1.0\" \\n                   method=\"camera_scan\"/>\\n        </Sequence>\\n    </BehaviorTree>\\n</root>\\n', '\\n<root main_tree_to_execute=\"NavigateToFireproofBlanketAndWalkieTalkieSequence\">\\n    <BehaviorTree ID=\"NavigateToFireproofBlanketAndWalkieTalkieSequence\">\\n        <Sequence name=\"NavigateToFireproofBlanketAndWalkieTalkie\">\\n            <Retry num_attempts=\"2\">\\n                <Locate object=\"fireproof blanket\" \\n                        position_x=\"{fireproofBlanket_position_x}\" \\n                        position_y=\"{fireproofBlanket_position_y}\" \\n                        position_z=\"{fireproofBlanket_position_z}\" \\n                        method=\"camera_scan\"/>\\n            </Retry>\\n            <Retry num_attempts=\"2\">\\n                <Navigate x=\"{walkieTalkie_position_x}\" y=\"{walkieTalkie_position_y}\"/>\\n            </Retry>\\n            <Retry num_attempts=\"2\">\\n                <Locate object=\"walkieTalkie\" \\n                        position_x=\"{walkieTalkie_position_x}\" \\n                        position_y=\"{walkieTalkie_position_y}\" \\n                        position_z=\"{walkieTalkie_position_z}\" \\n                        method=\"camera_scan\"/>\\n            </Retry>\\n        </Sequence>\\n    </BehaviorTree>\\n</root>\\n', '\\n<root main_tree_to_execute=\"RetrieveAndPlaceBottleSequence\">\\n    <BehaviorTree ID=\"RetrieveAndPlaceBottleSequence\">\\n        <Sequence name=\"RetrieveAndPlaceBottle\">\\n            <Locate object=\"water bottle sitting on the kitchen counter\" \\n                    position_x=\"{bottle_position_x}\" \\n                    position_y=\"{bottle_position_y}\" \\n                    position_z=\"{bottle_position_z}\" \\n                    method=\"camera_scan\"/>\\n            <Retry num_attempts=\"2\">\\n                <Navigate x=\"{bottle_position_x}\" y=\"{bottle_position_y}\"/>\\n            </Retry>\\n            <Retry num_attempts=\"1\">\\n                <Locate object=\"water bottle sitting on the kitchen counter\" \\n                        position_x=\"{bottle_position_x}\" \\n                        position_y=\"{bottle_position_y}\" \\n                        position_z=\"{bottle_position_z}\" \\n                        method=\"camera_scan\"/>\\n            </Retry>\\n            <Retry num_attempts=\"1\">\\n                <Pick object=\"water bottle sitting on the kitchen counter\" \\n                        grip_strength=\"medium\" \\n                        precision=\"low\"/>\\n            </Retry>\\n            <Retry num_attempts=\"1\">\\n                <Locate object=\"water bottle sitting on the kitchen counter\" \\n                        position_x=\"{bottle_position_x}\" \\n                        position_y=\"{bottle_position_y}\" \\n                        position_z=\"{bottle_position_z}\" \\n                        method=\"camera_scan\"/>\\n            </Retry>\\n            <Retry num_attempts=\"1\">\\n                <Place object=\"water bottle\" \\n                       surface=\"water bottle sitting on the kitchen counter\" \\n                       orientation=\"upright\" \\n                       alignment=\"center\"/>\\n            </Retry>\\n        </Sequence>\\n    </BehaviorTree>\\n</root>\\n', '\\n  <root main_tree_to_execute=\"TurnToLeftSequence\">\\n    <BehaviorTree ID=\"TurnToLeftSequence\">\\n      <Sequence name=\"TurnToLeft\">\\n        <Retry num_attempts=\"1\">\\n          <Navigate x=\"1.5\" y=\"0.0\" />\\n        </Retry>\\n      </Sequence>\\n    </BehaviorTree>\\n  </root>\\n', '\\n<root main_tree_to_execute=\"PickAndPlaceSequence\">\\n    <BehaviorTree ID=\"PickAndPlaceSequence\">\\n        <Sequence name=\"PickAndPlace\">\\n            <Retry num_attempts=\"3\">\\n                <Locate object=\"duct tape roll\" \\n                        position_x=\"{tape_position_x}\" \\n                        position_y=\"{tape_position_y}\" \\n                        position_z=\"{tape_position_z}\" \\n                        method=\"camera_scan\"/>\\n            </Retry>\\n            <Retry num_attempts=\"2\">\\n                <Pick object=\"duct tape roll\" \\n                       grip_strength=\"medium\" \\n                       precision=\"low\"/>\\n            </Retry>\\n            <Retry num_attempts=\"2\">\\n                <Place object=\"duct tape roll\" \\n                       surface=\"crowbar\" \\n                       orientation=\"upright\" \\n                       alignment=\"center\"/>\\n            </Retry>\\n        </Sequence>\\n    </BehaviorTree>\\n</root>\\n', '\\n    <root main_tree_to_execute=\"LocateAndIdentifyCampingStoveSequence\">\\n        <BehaviorTree ID=\"LocateAndIdentifyCampingStoveSequence\">\\n            <Locate object=\"camping stove\" position_x=\"{stove_position_x}\" position_y=\"{stove_position_y}\" position_z=\"{stove_position_z}\" method=\"camera_scan\"/>\\n            <Locate object=\"camping stove\" position_x=\"{stove_position_x}\" position_y=\"{stove_position_y}\" position_z=\"{stove_position_z}\" method=\"visual scan\"/>\\n            <Locate object=\"camping stove\" position_x=\"{stove_position_x}\" position_y=\"{stove_position_y}\" position_z=\"{stove_position_z}\" method=\"depth scan\"/>\\n            <Locate object=\"camping stove\" position_x=\"{stove_position_x}\" position_y=\"{stove_position_y}\" position_z=\"{stove_position_z}\" method=\"acoustic scan\"/>\\n            <Locate object=\"camping stove\" position_x=\"{stove_position_x}\" position_y=\"{stove_position_y}\" position_z=\"{stove_position_z}\" method=\"laser scan\"/>\\n            <Locate object=\"camping stove\" position_x=\"{stove_position_x}\" position_y=\"{stove_position_y}\" position_z=\"{stove_position_z}\" method=\"thermal scan\"/>\\n        </BehaviorTree>\\n    </root>\\n', '\\n<root main_tree_to_execute=\"RetrieveAndPlaceBackpackSequence\">\\n    <BehaviorTree ID=\"RetrieveAndPlaceBackpackSequence\">\\n        <Sequence name=\"RetrieveAndPlaceBackpack\">\\n            <Retry num_attempts=\"2\">\\n                <Locate object=\"backpack sitting on the floor\" \\n                        position_x=\"{backpack_position_x}\" \\n                        position_y=\"{backpack_position_y}\" \\n                        position_z=\"{backpack_position_z}\" \\n                        method=\"camera_scan\"/>\\n            </Retry>\\n            <Retry num_attempts=\"2\">\\n                <Navigate x=\"{backpack_position_x}\" y=\"{backpack_position_y}\"/>\\n            </Retry>\\n            <Retry num_attempts=\"2\">\\n                <Pick object=\"backpack\" \\n                      grip_strength=\"medium\" \\n                      precision=\"high\"/>\\n            </Retry>\\n            <Retry num_attempts=\"2\">\\n                <Place object=\"backpack\" \\n                       surface=\"folding chair on the folding table\" \\n                       orientation=\"upright\" \\n                       alignment=\"center\"/>\\n            </Retry>\\n        </Sequence>\\n    </BehaviorTree>\\n</root>\\n', '\\n<root main_tree_to_execute=\"NavigateToPathSequence\">\\n    <BehaviorTree ID=\"NavigateToPathSequence\">\\n        <Sequence name=\"NavigateToPath\">\\n            <Retry num_attempts=\"5\">\\n                <Locate object=\"binoculars\" position_x=\"{binoculars_position_x}\" position_y=\"{binoculars_position_y}\" position_z=\"{binoculars_position_z}\" method=\"camera_scan\"/>\\n            </Retry>\\n            <Retry num_attempts=\"3\">\\n                <Navigate x=\"{binoculars_position_x}\" y=\"{binoculars_position_y}\" orientation=\"upright\" alignment=\"center\"/>\\n            </Retry>\\n            <Retry num_attempts=\"2\">\\n                <Locate object=\"bag of sand\" position_x=\"{sand_position_x}\" position_y=\"{sand_position_y}\" position_z=\"{sand_position_z}\" method=\"camera_scan\"/>\\n            </Retry>\\n            <Retry num_attempts=\"2\">\\n                <Locate object=\"notebook\" position_x=\"{notebook_position_x}\" position_y=\"{notebook_position_y}\" position_z=\"{notebook_position_z}\" method=\"camera_scan\"/>\\n            </Retry>\\n            <Retry num_attempts=\"2\">\\n                <Locate object=\"pen\" position_x=\"{pen_position_x}\" position_y=\"{pen_position_y}\" position_z=\"{pen_position_z}\" method=\"camera_scan\"/>\\n            </Retry>\\n        </Sequence>\\n    </BehaviorTree>\\n</root>\\n', '\\n  <root main_tree_to_execute=\"RetrieveAndPlaceGlassCupSequence\">\\n    <BehaviorTree ID=\"RetrieveAndPlaceGlassCupSequence\">\\n      <Sequence name=\"RetrieveAndPlaceGlassCup\">\\n        <Retry num_attempts=\"3\">\\n          <Locate object=\"empty glass cup sitting next to the sink\" \\n                  position_x=\"{cup_position_x}\" \\n                  position_y=\"{cup_position_y}\" \\n                  position_z=\"{cup_position_z}\" \\n                  method=\"camera_scan\"/>\\n        </Retry>\\n        <Retry num_attempts=\"2\">\\n          <Navigate x=\"{cup_position_x}\" y=\"{cup_position_y}\"/>\\n        </Retry>\\n        <Retry num_attempts=\"2\">\\n          <Pick object=\"empty glass cup sitting next to the sink\" \\n                 grip_strength=\"medium\" \\n                 precision=\"low\"/>\\n        </Retry>\\n        <Retry num_attempts=\"2\">\\n          <Place object=\"empty glass cup\" \\n                 surface=\"next to the sink\" \\n                 orientation=\"upright\" \\n                 alignment=\"center\"/>\\n        </Retry>\\n      </Sequence>\\n    </BehaviorTree>\\n  </root>\\n', '\\n<root main_tree_to_execute=\"PickAndPlaceKnifeSequence\">\\n    <BehaviorTree ID=\"PickAndPlaceKnifeSequence\">\\n        <Sequence name=\"PickAndPlaceKnife\">\\n            <Locate object=\"silver knife sitting on the counter\" \\n                    position_x=\"{knife_position_x}\" \\n                    position_y=\"{knife_position_y}\" \\n                    position_z=\"{knife_position_z}\" \\n                    method=\"camera_scan\"/>\\n            <Retry num_attempts=\"3\">\\n                <Navigate x=\"{knife_position_x}\" y=\"{knife_position_y}\"/>\\n            </Retry>\\n            <Retry num_attempts=\"2\">\\n                <Pick object=\"silver knife sitting on the counter\" \\n                      grip_strength=\"medium\" \\n                      precision=\"high\"/>\\n            </Retry>\\n            <Retry num_attempts=\"2\">\\n                <Pick object=\"red apple sitting on the kitchen counter\" \\n                      grip_strength=\"medium\" \\n                      precision=\"high\"/>\\n            </Retry>\\n            <Retry num_attempts=\"2\">\\n                <Place object=\"silver knife\" \\n                       surface=\"wooden cutting board on the dining table\" \\n                       orientation=\"upright\" \\n                       alignment=\"center\"/>\\n            </Retry>\\n        </Sequence>\\n    </BehaviorTree>\\n</root>\\n', '\\n<root main_tree_to_execute=\"RetrieveAndPlaceLadderSequence\">\\n    <BehaviorTree ID=\"RetrieveAndPlaceLadderSequence\">\\n        <Sequence name=\"RetrieveAndPlaceLadder\">\\n            <Retry num_attempts=\"3\">\\n                <Locate object=\"ladder\" \\n                        position_x=\"{ladder_position_x}\" \\n                        position_y=\"{ladder_position_y}\" \\n                        position_z=\"{ladder_position_z}\" \\n                        method=\"camera_scan\"/>\\n            </Retry>\\n            <Retry num_attempts=\"2\">\\n                <Navigate x=\"{ladder_position_x}\" y=\"{ladder_position_y}\"/>\\n            </Retry>\\n            <Retry num_attempts=\"2\">\\n                <Pick object=\"ladder\" \\n                      grip_strength=\"medium\" \\n                      precision=\"high\"/>\\n            </Retry>\\n            <Retry num_attempts=\"2\">\\n                <Place object=\"ladder\" \\n                       surface=\"wooden stack of wood on the dining table\" \\n                       orientation=\"upright\" \\n                       alignment=\"center\"/>\\n            </Retry>\\n        </Sequence>\\n    </BehaviorTree>\\n</root>\\n', '\\n    <root main_tree_to_execute=\"LocateAndReportCompassSequence\">\\n        <BehaviorTree ID=\"LocateAndReportCompassSequence\">\\n            <Sequence name=\"LocateAndReportCompass\">\\n                <Locate object=\"compass\" \\n                        position_x=\"{compass_position_x}\" \\n                        position_y=\"{compass_position_y}\" \\n                        position_z=\"{compass_position_z}\" \\n                        method=\"camera_scan\"/>\\n            </Sequence>\\n        </BehaviorTree>\\n    </root>\\n', '\\n<root main_tree_to_execute=\"PickAndPlaceTarpSequence\">\\n    <BehaviorTree ID=\"PickAndPlaceTarpSequence\">\\n        <Sequence name=\"PickAndPlaceTarp\">\\n            <Retry num_attempts=\"3\">\\n                <Locate object=\"tarp\" \\n                        position_x=\"{tarp_position_x}\" \\n                        position_y=\"{tarp_position_y}\" \\n                        position_z=\"{tarp_position_z}\" \\n                        method=\"camera_scan\"/>\\n            </Retry>\\n            <Retry num_attempts=\"2\">\\n                <Pick object=\"tarp\" \\n                      grip_strength=\"medium\" \\n                      precision=\"low\"/>\\n            </Retry>\\n            <Retry num_attempts=\"2\">\\n                <Place object=\"tarp\" \\n                       surface=\"wooden surface of the stack of wood\" \\n                       orientation=\"upright\" \\n                       alignment=\"center\"/>\\n            </Retry>\\n        </Sequence>\\n    </BehaviorTree>\\n</root>\\n', '\\n<root main_tree_to_execute=\"NavigateToFoldingChairSequence\">\\n    <BehaviorTree ID=\"NavigateToFoldingChairSequence\">\\n        <Sequence name=\"NavigateToFoldingChair\">\\n            <Retry num_attempts=\"3\">\\n                <Locate object=\"folding chair sitting on the folding table\" \\n                        position_x=\"{chair_position_x}\" \\n                        position_y=\"{chair_position_y}\" \\n                        position_z=\"{chair_position_z}\" \\n                        method=\"camera_scan\"/>\\n            </Retry>\\n            <Retry num_attempts=\"2\">\\n                <Navigate x=\"{chair_position_x}\" y=\"{chair_position_y}\"/>\\n            </Retry>\\n            <Retry num_attempts=\"2\">\\n                <Pick object=\"folding chair\" \\n                      grip_strength=\"medium\" \\n                      precision=\"high\"/>\\n            </Retry>\\n            <Retry num_attempts=\"2\">\\n                <Place object=\"folding chair\" \\n                       surface=\"wooden folding table on the folding table\" \\n                       orientation=\"upright\" \\n                       alignment=\"center\"/>\\n            </Retry>\\n        </Sequence>\\n    </BehaviorTree>\\n</root>\\n', '\\n<root main_tree_to_execute=\"LocateAndAlignFireproofBlanketSequence\">\\n    <BehaviorTree ID=\"LocateAndAlignFireproofBlanketSequence\">\\n        <Sequence name=\"LocateAndAlignFireproofBlanket\">\\n            <Locate object=\"fireproof blanket\" \\n                  position_x=\"{blanket_position_x}\" \\n                  position_y=\"{blanket_position_y}\" \\n                  position_z=\"{blanket_position_z}\" \\n                  method=\"camera_scan\"/>\\n            <Locate object=\"first aid kit\" \\n                   position_x=\"{kit_position_x}\" \\n                   position_y=\"{kit_position_y}\" \\n                   position_z=\"{kit_position_z}\" \\n                   method=\"camera_scan\"/>\\n            <Locate object=\"flashlight\" \\n                   position_x=\"{light_position_x}\" \\n                   position_y=\"{light_position_y}\" \\n                   position_z=\"{light_position_z}\" \\n                   method=\"camera_scan\"/>\\n        </Sequence>\\n    </BehaviorTree>\\n</root>\\n', '\\n<root main_tree_to_execute=\"PickAndPlaceWalkieTalkieSequence\">\\n    <BehaviorTree ID=\"PickAndPlaceWalkieTalkieSequence\">\\n        <Sequence name=\"PickAndPlaceWalkieTalkie\">\\n            <Locate object=\"walkie-talkie sitting on the table\" \\n                    position_x=\"{walkie_position_x}\" \\n                    position_y=\"{walkie_position_y}\" \\n                    position_z=\"{walkie_position_z}\" \\n                    method=\"camera_scan\"/>\\n            <Retry num_attempts=\"3\">\\n                <Navigate x=\"{walkie_position_x}\" y=\"{walkie_position_y}\"/>\\n            </Retry>\\n            <Retry num_attempts=\"2\">\\n                <Pick object=\"walkie-talkie\" \\n                       grip_strength=\"medium\" \\n                       precision=\"low\"/>\\n            </Retry>\\n            <Retry num_attempts=\"2\">\\n                <Place object=\"walkie-talkie\" \\n                       surface=\"backpack\" \\n                       orientation=\"upright\" \\n                       alignment=\"center\"/>\\n            </Retry>\\n        </Sequence>\\n    </BehaviorTree>\\n</root>\\n', '\\n<root main_tree_to_execute=\"NavigateToSafetyHelmetSequence\">\\n    <BehaviorTree ID=\"NavigateToSafetyHelmetSequence\">\\n        <Sequence name=\"NavigateToSafetyHelmet\">\\n            <Retry num_attempts=\"3\">\\n                <Navigate x=\"8.0\" y=\"0.0\" z=\"1.0\"/>\\n            </Retry>\\n            <Retry num_attempts=\"2\">\\n                <Wait duration=\"3.0\"/>\\n            </Retry>\\n        </Sequence>\\n    </BehaviorTree>\\n</root>\\n', '\\n<root main_tree_to_execute=\"NavigateToPathSequence\">\\n    <BehaviorTree ID=\"NavigateToPathSequence\">\\n        <Sequence name=\"NavigateToPath\">\\n            <Retry num_attempts=\"3\">\\n                <Locate object=\"rope sitting on the ground\" position_x=\"{rope_position_x}\" position_y=\"{rope_position_y}\" position_z=\"{rope_position_z}\" method=\"camera_scan\"/>\\n            </Retry>\\n            <Retry num_attempts=\"2\">\\n                <Navigate x=\"{rope_position_x}\" y=\"{rope_position_y}\"/>\\n            </Retry>\\n            <Retry num_attempts=\"2\">\\n                <Locate object=\"crowbar sitting on the ground\" position_x=\"{crowbar_position_x}\" position_y=\"{crowbar_position_y}\" position_z=\"{crowbar_position_z}\" method=\"camera_scan\"/>\\n            </Retry>\\n            <Retry num_attempts=\"2\">\\n                <Navigate x=\"{crowbar_position_x}\" y=\"{crowbar_position_y}\"/>\\n            </Retry>\\n        </Sequence>\\n    </BehaviorTree>\\n</root>\\n', '\\n<root main_tree_to_execute=\"RetrieveAndPlaceBagSequence\">\\n    <BehaviorTree ID=\"RetrieveAndPlaceBagSequence\">\\n        <Sequence name=\"RetrieveAndPlaceBag\">\\n            <Retry num_attempts=\"3\">\\n                <Locate object=\"bag of rice\" \\n                        position_x=\"{rice_position_x}\" \\n                        position_y=\"{rice_position_y}\" \\n                        position_z=\"{rice_position_z}\" \\n                        method=\"camera_scan\"/>\\n            </Retry>\\n            <Retry num_attempts=\"2\">\\n                <Navigate x=\"{rice_position_x}\" y=\"{rice_position_y}\"/>\\n            </Retry>\\n            <Retry num_attempts=\"2\">\\n                <Pick object=\"bag of rice\" \\n                       grip_strength=\"medium\" \\n                       precision=\"high\"/>\\n            </Retry>\\n            <Retry num_attempts=\"2\">\\n                <Place object=\"bag of rice\" \\n                       surface=\"cooking pot\" \\n                       orientation=\"upright\" \\n                       alignment=\"center\"/>\\n            </Retry>\\n        </Sequence>\\n    </BehaviorTree>\\n</root>\\n', '\\n<root main_tree_to_execute=\"PickAndPlaceFirstAidKitSequence\">\\n    <BehaviorTree ID=\"PickAndPlaceFirstAidKitSequence\">\\n        <Sequence name=\"PickAndPlaceFirstAidKit\">\\n            <Locate object=\"first aid kit sitting on the wooden cutting board\" position_x=\"{first aid kit position_x}\" position_y=\"{first aid kit position_y}\" position_z=\"{first aid kit position_z}\" method=\"camera_scan\"/>\\n            <Pick object=\"first aid kit\" grip_strength=\"medium\" precision=\"high\"/>\\n            <Place object=\"first aid kit\" surface=\"wooden cutting board on the dining table\" orientation=\"upright\" alignment=\"center\"/>\\n        </Sequence>\\n    </BehaviorTree>\\n</root>\\n', '\\n<root main_tree_to_execute=\"LocateAndFindCarJackSequence\">\\n    <BehaviorTree ID=\"LocateAndFindCarJackSequence\">\\n        <Sequence name=\"LocateAndFindCarJack\">\\n            <Locate object=\"car jack\" \\n                    position_x=\"{jack_position_x}\" \\n                    position_y=\"{jack_position_y}\" \\n                    position_z=\"{jack_position_z}\" \\n                    method=\"camera_scan\"/>\\n            <Retry num_attempts=\"2\">\\n                <Locate object=\"car jack\" \\n                        position_x=\"{jack_position_x}\" \\n                        position_y=\"{jack_position_y}\" \\n                        position_z=\"{jack_position_z}\" \\n                        method=\"camera_scan\"/>\\n            </Retry>\\n            <Retry num_attempts=\"2\">\\n                <Locate object=\"car jack\" \\n                        position_x=\"{jack_position_x}\" \\n                        position_y=\"{jack_position_y}\" \\n                        position_z=\"{jack_position_z}\" \\n                        method=\"camera_scan\"/>\\n            </Retry>\\n            <Retry num_attempts=\"2\">\\n                <Locate object=\"car jack\" \\n                        position_x=\"{jack_position_x}\" \\n                        position_y=\"{jack_position_y}\" \\n                        position_z=\"{jack_position_z}\" \\n                        method=\"camera_scan\"/>\\n            </Retry>\\n        </Sequence>\\n    </BehaviorTree>\\n</root>\\n', '\\n  <root main_tree_to_execute=\"RetrieveAndPlaceNotesAndPenSequence\">\\n    <BehaviorTree ID=\"RetrieveAndPlaceNotesAndPenSequence\">\\n      <Sequence name=\"RetrieveAndPlaceNotesAndPen\">\\n        <Retry num_attempts=\"3\">\\n          <Locate object=\"notebook sitting on the table\" position_x=\"{notebook_position_x}\" position_y=\"{notebook_position_y}\" position_z=\"{notebook_position_z}\" method=\"camera_scan\"/>\\n        </Retry>\\n        <Retry num_attempts=\"2\">\\n          <Navigate x=\"{notebook_position_x}\" y=\"{notebook_position_y}\"/>\\n        </Retry>\\n        <Retry num_attempts=\"2\">\\n          <Pick object=\"notebook sitting on the table\" grip_strength=\"medium\" precision=\"high\"/>\\n        </Retry>\\n        <Retry num_attempts=\"2\">\\n          <Place object=\"notebook\" surface=\"wooden table on the table\" orientation=\"upright\" alignment=\"center\"/>\\n        </Retry>\\n        <Retry num_attempts=\"2\">\\n          <Pick object=\"pen sitting on the table\" grip_strength=\"medium\" precision=\"high\"/>\\n        </Retry>\\n        <Retry num_attempts=\"2\">\\n          <Place object=\"pen\" surface=\"wooden table on the table\" orientation=\"upright\" alignment=\"center\"/>\\n        </Retry>\\n      </Sequence>\\n    </BehaviorTree>\\n  </root>\\n', '\\n    <root main_tree_to_execute=\"PathToFurnitureSequence\">\\n        <BehaviorTree ID=\"PathToFurnitureSequence\">\\n            <Sequence name=\"PathToFurniture\">\\n                <Locate object=\"hammer\" position_x=\"5.2\" position_y=\"0.8\" position_z=\"0.5\" method=\"camera_scan\"/>\\n                <Navigate x=\"5.5\" y=\"0.8\" z=\"0.5\" method=\"linear\"/>\\n                <Locate object=\"duct tape\" position_x=\"5.7\" position_y=\"0.2\" position_z=\"0.2\" method=\"camera_scan\"/>\\n                <Navigate x=\"5.8\" y=\"0.2\" z=\"0.2\" method=\"linear\"/>\\n                <Locate object=\"folding knife\" position_x=\"6.0\" position_y=\"0.0\" position_z=\"0.0\" method=\"camera_scan\"/>\\n                <Navigate x=\"6.2\" y=\"0.0\" z=\"0.0\" method=\"linear\"/>\\n            </Sequence>\\n        </BehaviorTree>\\n    </root>\\n', '\\n<root main_tree_to_execute=\"RetrieveAndPlaceSoupSequence\">\\n    <BehaviorTree ID=\"RetrieveAndPlaceSoupSequence\">\\n        <Sequence name=\"RetrieveAndPlaceSoup\">\\n            <Retry num_attempts=\"3\">\\n                <Locate object=\"can of soup sitting on the kitchen counter\" \\n                        position_x=\"{soup_position_x}\" \\n                        position_y=\"{soup_position_y}\" \\n                        position_z=\"{soup_position_z}\" \\n                        method=\"camera_scan\"/>\\n            </Retry>\\n            <Retry num_attempts=\"2\">\\n                <Navigate x=\"{soup_position_x}\" y=\"{soup_position_y}\"/>\\n            </Retry>\\n            <Retry num_attempts=\"2\">\\n                <Pick object=\"can of soup sitting on the kitchen counter\" \\n                      grip_strength=\"medium\" \\n                      precision=\"high\"/>\\n            </Retry>\\n            <Retry num_attempts=\"2\">\\n                <Place object=\"can of soup\" \\n                       surface=\"camping stove\" \\n                       orientation=\"upright\" \\n                       alignment=\"center\"/>\\n            </Retry>\\n        </Sequence>\\n    </BehaviorTree>\\n</root>\\n', '\\n<root main_tree_to_execute=\"LocateAndPlaceWaterFilterAndHelmetSequence\">\\n    <BehaviorTree ID=\"LocateAndPlaceWaterFilterAndHelmetSequence\">\\n        <Sequence name=\"LocateAndPlaceWaterFilterAndHelmet\">\\n            <Locate object=\"water filter\" \\n                    position_x=\"{water_filter_position_x}\" \\n                    position_y=\"{water_filter_position_y}\" \\n                    position_z=\"{water_filter_position_z}\" \\n                    method=\"camera_scan\"/>\\n            <Locate object=\"safety helmet\" \\n                    position_x=\"{helmet_position_x}\" \\n                    position_y=\"{helmet_position_y}\" \\n                    position_z=\"{helmet_position_z}\" \\n                    method=\"camera_scan\"/>\\n            <Locate object=\"water filter\" \\n                    position_x=\"{water_filter_position_x}\" \\n                    position_y=\"{water_filter_position_y}\" \\n                    position_z=\"{water_filter_position_z}\" \\n                    method=\"camera_scan\"/>\\n            <Locate object=\"safety helmet\" \\n                    position_x=\"{helmet_position_x}\" \\n                    position_y=\"{helmet_position_y}\" \\n                    position_z=\"{helmet_position_z}\" \\n                    method=\"camera_scan\"/>\\n            <Retry num_attempts=\"3\">\\n                <Locate object=\"safety helmet\" \\n                        position_x=\"{helmet_position_x}\" \\n                        position_y=\"{helmet_position_y}\" \\n                        position_z=\"{helmet_position_z}\" \\n                        method=\"camera_scan\"/>\\n            </Retry>\\n            <Locate object=\"water filter\" \\n                    position_x=\"{water_filter_position_x}\" \\n                    position_y=\"{water_filter_position_y}\" \\n                    position_z=\"{water_filter_position_z}\" \\n                    method=\"camera_scan\"/>\\n            <Locate object=\"safety helmet\" \\n                    position_x=\"{helmet_position_x}\" \\n                    position_y=\"{helmet_position_y}\" \\n                    position_z=\"{helmet_position_z}\" \\n                    method=\"camera_scan\"/>\\n            <Locate object=\"water filter\" \\n                    position_x=\"{water_filter_position_x}\" \\n                    position_y=\"{water_filter_position_y}\" \\n                    position_z=\"{water_filter_position_z}\" \\n                    method=\"camera_scan\"/>\\n            <Locate object=\"safety helmet\" \\n                    position_x=\"{helmet_position_x}\" \\n                    position_y=\"{helmet_position_y}\" \\n                    position_z=\"{helmet_position_z}\" \\n                    method=\"camera_scan\"/>\\n            <Locate object=\"water filter\" \\n                    position_x=\"{water_filter_position_x}\" \\n                    position_y=\"{water_filter_position_y}\" \\n                    position_z=\"{water_filter_position_z}\" \\n                    method=\"camera_scan\"/>\\n            <Locate object=\"safety helmet\" \\n                    position_x=\"{helmet_position_x}\" \\n                    position_y=\"{helmet_position_y}\" \\n                    position_z=\"{helmet_position_z}\" \\n                    method=\"camera_scan\"/>\\n        </Sequence>\\n    </BehaviorTree>\\n</root>\\n', '\\n    <root main_tree_to_execute=\"FireExtinguisherAndFlareSequence\">\\n        <BehaviorTree ID=\"FireExtinguisherAndFlareSequence\">\\n            <Sequence name=\"FireExtinguisherAndFlare\">\\n                <Locate object=\"fire extinguisher sitting near the emergency flare\" position_x=\"{flare_position_x}\" position_y=\"{flare_position_y}\" position_z=\"{flare_position_z}\" method=\"camera_scan\"/>\\n                <Locate object=\"fire extinguisher sitting near the emergency flare\" position_x=\"{flare_position_x}\" position_y=\"{flare_position_y}\" position_z=\"{flare_position_z}\" method=\"camera_scan\"/>\\n                <Locate object=\"fire extinguisher sitting near the emergency flare\" position_x=\"{flare_position_x}\" position_y=\"{flare_position_y}\" position_z=\"{flare_position_z}\" method=\"camera_scan\"/>\\n            </Sequence>\\n        </BehaviorTree>\\n    </root>\\n']}}\n"
     ]
    },
    {
     "name": "stderr",
     "output_type": "stream",
     "text": [
      "\n"
     ]
    }
   ],
   "source": [
    "# Load templates\n",
    "with open('../data/templates.json', 'r') as f:\n",
    "    templates = json.load(f)\n",
    "\n",
    "# Load actions\n",
    "with open('../data/actions.json', 'r') as f:\n",
    "    actions = json.load(f)\n",
    "\n",
    "# Load objects\n",
    "with open('../data/objects.json', 'r') as f:\n",
    "    objects = json.load(f)\n",
    "\n",
    "template = templates['template']\n",
    "action_list = actions['action_list']\n",
    "object_list = objects['object_list']\n",
    "question_example = templates['question_example']\n",
    "xml_example = templates['xml_example']\n",
    "json_example = templates['json_example']\n",
    "answer_example = templates['answer_example']\n",
    "training_template = templates['training_template']\n",
    "\n",
    "# Define configurations for all models you want to evaluate\n",
    "model_configs = [\n",
    "    {\n",
    "        'size': '1b',\n",
    "        'method': 'lora',\n",
    "        'format': 'json',\n",
    "        'base_model': ModelSize.LLAMA_1B.value\n",
    "    },\n",
    "    {\n",
    "        'size': '1b',\n",
    "        'method': 'lora',\n",
    "        'format': 'xml',\n",
    "        'base_model': ModelSize.LLAMA_1B.value\n",
    "    },\n",
    "    {\n",
    "        'size': '3b',\n",
    "        'method': 'lora',\n",
    "        'format': 'json',\n",
    "        'base_model': ModelSize.LLAMA_3B.value\n",
    "    },\n",
    "    {\n",
    "        'size': '3b',\n",
    "        'method': 'lora',\n",
    "        'format': 'xml',\n",
    "        'base_model': ModelSize.LLAMA_3B.value\n",
    "    }\n",
    "]\n",
    "\n",
    "# Evaluate all models\n",
    "results = evaluate_all_models(\n",
    "    model_configs=model_configs,\n",
    "    template=template,\n",
    "    question_example=question_example,\n",
    "    answer_example=answer_example,\n",
    "    json_example=json_example,\n",
    "    xml_example=xml_example,\n",
    "    action_list=action_list,\n",
    "    object_list=object_list,\n",
    "    query_file=\"../data/task_dataset.json\",\n",
    "    evaluate_model_fn=evaluate_model\n",
    ")\n",
    "\n",
    "# Print results\n",
    "for model_name, result in results.items():\n",
    "    print(f\"\\nResults for {model_name}:\")\n",
    "    print(result)"
   ]
  }
 ],
 "metadata": {
  "kernelspec": {
   "display_name": "env",
   "language": "python",
   "name": "python3"
  },
  "language_info": {
   "codemirror_mode": {
    "name": "ipython",
    "version": 3
   },
   "file_extension": ".py",
   "mimetype": "text/x-python",
   "name": "python",
   "nbconvert_exporter": "python",
   "pygments_lexer": "ipython3",
   "version": "3.11.5"
  }
 },
 "nbformat": 4,
 "nbformat_minor": 2
}
