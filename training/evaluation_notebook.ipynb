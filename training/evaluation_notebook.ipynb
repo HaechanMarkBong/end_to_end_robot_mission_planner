{
 "cells": [
  {
   "cell_type": "code",
   "execution_count": 1,
   "metadata": {},
   "outputs": [],
   "source": [
    "from prompt_data import template, action_list, object_list, answer_example, json_example, xml_example, question_example\n",
    "from transformers import (\n",
    "    AutoModelForCausalLM,\n",
    "    AutoTokenizer,\n",
    "    BitsAndBytesConfig,\n",
    ")\n",
    "\n",
    "import torch\n",
    "torch.cuda.empty_cache()\n",
    "from evaluation import evaluate_model"
   ]
  },
  {
   "cell_type": "code",
   "execution_count": 2,
   "metadata": {},
   "outputs": [
    {
     "data": {
      "text/plain": [
       "1"
      ]
     },
     "execution_count": 2,
     "metadata": {},
     "output_type": "execute_result"
    }
   ],
   "source": [
    "torch.cuda.empty_cache()\n",
    "torch_dtype = torch.float16\n",
    "attn_implementation = \"eager\"\n",
    "\n",
    "# QLoRA config\n",
    "bnb_config = BitsAndBytesConfig(\n",
    "    load_in_4bit=True,\n",
    "    bnb_4bit_quant_type=\"nf4\",\n",
    "    bnb_4bit_compute_dtype=torch_dtype,\n",
    "    bnb_4bit_use_double_quant=True,\n",
    ")\n",
    "\n",
    "base_model = \"meta-llama/Llama-3.2-1B-Instruct\"\n",
    "\n",
    "# Load model\n",
    "model = AutoModelForCausalLM.from_pretrained(\n",
    "    base_model,\n",
    "    quantization_config=bnb_config,\n",
    "    device_map=\"auto\",\n",
    "    attn_implementation=attn_implementation\n",
    ")\n",
    "\n",
    "# Load tokenizer \n",
    "tokenizer= AutoTokenizer.from_pretrained(base_model, trust_remote_code=True)\n",
    "tokenizer.add_special_tokens({'pad_token': '[PAD]'})"
   ]
  },
  {
   "cell_type": "code",
   "execution_count": 3,
   "metadata": {},
   "outputs": [],
   "source": [
    "data_prompt = \"\"\"<|begin_of_text|><|start_header_id|>system<|end_header_id|>\n",
    "{}<|eot_id|>\n",
    "<|start_header_id|>user<|end_header_id|>\n",
    "{}<|eot_id|>\n",
    "<|start_header_id|>assistant<|end_header_id|>\n",
    "{}\n",
    "\"\"\"\n",
    "\n",
    "def formatting_prompt(examples):\n",
    "    instructions = examples[\"instruction\"]\n",
    "    inputs = examples[\"input\"]\n",
    "    outputs = examples[\"output\"]\n",
    "    texts = []\n",
    "    for instruction,input_, output in zip(instructions, inputs, outputs):\n",
    "        text = data_prompt.format(instruction,input_, output)\n",
    "        texts.append(text)\n",
    "    return { \"text\" : texts, }"
   ]
  },
  {
   "cell_type": "code",
   "execution_count": 4,
   "metadata": {},
   "outputs": [],
   "source": [
    "json_system = template.format(\n",
    "    format_type=\"JSON\",\n",
    "    example=question_example + \"\\n\" + answer_example + \"\\n\" + json_example,\n",
    "    available_actions=action_list,\n",
    "    object_list=object_list,\n",
    ")\n",
    "\n",
    "xml_system = template.format(\n",
    "    format_type=\"XML\",\n",
    "    example=question_example + \"\\n\" + answer_example + \"\\n\" + xml_example,\n",
    "    available_actions=action_list,\n",
    "    object_list=object_list,\n",
    ")"
   ]
  },
  {
   "cell_type": "code",
   "execution_count": 5,
   "metadata": {},
   "outputs": [
    {
     "name": "stderr",
     "output_type": "stream",
     "text": [
      "100%|██████████| 50/50 [07:14<00:00,  8.68s/it]\n"
     ]
    }
   ],
   "source": [
    "json_1b = evaluate_model(model=model,\n",
    "                        tokenizer=tokenizer,\n",
    "                        formatting_prompt=formatting_prompt,\n",
    "                        validation_type=\"json\",\n",
    "                        query_file=\"./query_dataset.json\",\n",
    "                        instruction=json_system,\n",
    "                        action_list=action_list)"
   ]
  },
  {
   "cell_type": "code",
   "execution_count": 6,
   "metadata": {},
   "outputs": [
    {
     "name": "stderr",
     "output_type": "stream",
     "text": [
      "100%|██████████| 50/50 [09:03<00:00, 10.86s/it]\n"
     ]
    }
   ],
   "source": [
    "xml_1b = evaluate_model(model=model,\n",
    "                        tokenizer=tokenizer,\n",
    "                        formatting_prompt=formatting_prompt,\n",
    "                        validation_type=\"xml\",\n",
    "                        query_file=\"./query_dataset.json\",\n",
    "                        instruction=xml_system,\n",
    "                        action_list=action_list)"
   ]
  },
  {
   "cell_type": "code",
   "execution_count": 7,
   "metadata": {},
   "outputs": [
    {
     "data": {
      "application/vnd.jupyter.widget-view+json": {
       "model_id": "9c3fff5816254010a672ddc1042e8196",
       "version_major": 2,
       "version_minor": 0
      },
      "text/plain": [
       "Loading checkpoint shards:   0%|          | 0/2 [00:00<?, ?it/s]"
      ]
     },
     "metadata": {},
     "output_type": "display_data"
    },
    {
     "data": {
      "text/plain": [
       "1"
      ]
     },
     "execution_count": 7,
     "metadata": {},
     "output_type": "execute_result"
    }
   ],
   "source": [
    "torch.cuda.empty_cache()\n",
    "torch_dtype = torch.float16\n",
    "attn_implementation = \"eager\"\n",
    "\n",
    "# QLoRA config\n",
    "bnb_config = BitsAndBytesConfig(\n",
    "    load_in_4bit=True,\n",
    "    bnb_4bit_quant_type=\"nf4\",\n",
    "    bnb_4bit_compute_dtype=torch_dtype,\n",
    "    bnb_4bit_use_double_quant=True,\n",
    ")\n",
    "\n",
    "base_model = \"meta-llama/Llama-3.2-3B-Instruct\"\n",
    "\n",
    "# Load model\n",
    "model = AutoModelForCausalLM.from_pretrained(\n",
    "    base_model,\n",
    "    quantization_config=bnb_config,\n",
    "    device_map=\"auto\",\n",
    "    attn_implementation=attn_implementation\n",
    ")\n",
    "\n",
    "# Load tokenizer \n",
    "tokenizer= AutoTokenizer.from_pretrained(base_model, trust_remote_code=True)\n",
    "tokenizer.add_special_tokens({'pad_token': '[PAD]'})"
   ]
  },
  {
   "cell_type": "code",
   "execution_count": 8,
   "metadata": {},
   "outputs": [
    {
     "name": "stderr",
     "output_type": "stream",
     "text": [
      "100%|██████████| 50/50 [06:28<00:00,  7.76s/it]\n"
     ]
    }
   ],
   "source": [
    "json_3b = evaluate_model(model=model,\n",
    "                        tokenizer=tokenizer,\n",
    "                        formatting_prompt=formatting_prompt,\n",
    "                        validation_type=\"json\",\n",
    "                        query_file=\"./query_dataset.json\",\n",
    "                        instruction=json_system,\n",
    "                        action_list=action_list)"
   ]
  },
  {
   "cell_type": "code",
   "execution_count": 9,
   "metadata": {},
   "outputs": [
    {
     "name": "stderr",
     "output_type": "stream",
     "text": [
      "100%|██████████| 50/50 [05:09<00:00,  6.20s/it]\n"
     ]
    }
   ],
   "source": [
    "xml_3b = evaluate_model(model=model,\n",
    "                        tokenizer=tokenizer,\n",
    "                        formatting_prompt=formatting_prompt,\n",
    "                        validation_type=\"xml\",\n",
    "                        query_file=\"./query_dataset.json\",\n",
    "                        instruction=xml_system,\n",
    "                        action_list=action_list)"
   ]
  },
  {
   "cell_type": "code",
   "execution_count": 11,
   "metadata": {},
   "outputs": [
    {
     "name": "stdout",
     "output_type": "stream",
     "text": [
      "xml 3b : 0.88\n",
      "xml 1b : 0.38\n",
      "json 3b : 0.82\n",
      "json 1b : 0.36\n"
     ]
    }
   ],
   "source": [
    "print(f\"xml 3b : {xml_3b['score']}\\nxml 1b : {xml_1b['score']}\\njson 3b : {json_3b['score']}\\njson 1b : {json_1b['score']}\")"
   ]
  },
  {
   "cell_type": "code",
   "execution_count": 13,
   "metadata": {},
   "outputs": [
    {
     "data": {
      "text/plain": [
       "{'score': 0.82,\n",
       " 'plans': {'no plan': [['Locate the flashlight and report its position.',\n",
       "    '\\n\\nThe flashlight is located at position (8.7, 3.6, 0.4).<|eot_id|>'],\n",
       "   ['Locate the smartphone and tell me its X, Y, and Z coordinates.',\n",
       "    \"\\n\\nThe smartphone is located at position {'x': 7.9, 'y': 6.8, 'z': 0.3}.<|eot_id|>\"],\n",
       "   [\"Request assistance with the message: 'Help needed to identify the camping stove.'\",\n",
       "    \"\\n\\nHello! I'm GoatBrain, here to help. I've identified the camping stove as an object with a position at (18.1, 7.9, 1.4). Would you like more information about it?<|eot_id|>\"],\n",
       "   ['Check the current battery level.',\n",
       "    '\\n\\nYour current battery level is 87%.<|eot_id|>'],\n",
       "   ['Locate the compass and report its X, Y, and Z coordinates.',\n",
       "    \"\\n\\nYou've asked me to locate the compass. I will do that now.\\n\\nThe compass is located at position {'x': 6.8, 'y': 2.5, 'z': 0.3}.<|eot_id|>\"],\n",
       "   ['Check the current battery level of the robot.',\n",
       "    '\\n\\nThe current battery level of GoatBrain is 87.3%.<|eot_id|>']],\n",
       "  'not valid': [['\\n{\\n  \"type\": \"Sequence\",\\n  \"name\": \"LocateAndAlignCrowbarSequence\",\\n  \"nodes\": [\\n    {\\n      \"type\": \"Locate\",\\n      \"object\": \"crowbar\",\\n      \"position_x\": \"{crowbar_position_x}\",\\n      \"position_y\": \"{crowbar_position_y}\",\\n      \"position_z\": \"{crowbar_position_z}\"\\n    },\\n    {\\n      \"type\": \"Sequence\",\\n      \"name\": \"AlignCrowbarToLadder\",\\n      \"nodes\": [\\n        {\\n          \"type\": \"GetCurrentPosition\",\\n          \"output\": {\\n            \"position_x\": \"{ladder_position_x}\",\\n            \"position_y\": \"{ladder_position_y}\",\\n            \"position_z\": \"{ladder_position_z}\"\\n          }\\n        },\\n        {\\n          \"type\": \"Navigate\",\\n          \"x\": \"{crowbar_position_x}\",\\n          \"y\": \"{crowbar_position_y}\",\\n          \"z\": \"{crowbar_position_z}\"\\n        },\\n        {\\n          \"type\": \"Pick\",\\n          \"object\": \"crowbar\",\\n          \"grip_strength\": \"high\",\\n          \"precision\": \"high\"\\n        },\\n        {\\n          \"type\": \"Rotate\",\\n          \"object\": \"crowbar\",\\n          \"angle\": \"0.0\",\\n          \"orientation\": \"parallel_to_ladder\"\\n        }\\n      ]\\n    }\\n  ]\\n}\\n',\n",
       "    [\"Invalid or missing node type 'Rotate' found.\"]],\n",
       "   ['\\n{\\n  \"type\": \"Sequence\",\\n  \"name\": \"TurnAndMoveForwardSequence\",\\n  \"nodes\": [\\n    {\\n      \"type\": \"Navigate\",\\n      \"x\": \"0.0\",\\n      \"y\": \"0.0\"\\n    },\\n    {\\n      \"type\": \"Rotate\",\\n      \"angle\": \"270\"\\n    },\\n    {\\n      \"type\": \"Navigate\",\\n      \"x\": \"1.5\"\\n    }\\n  ]\\n}\\n',\n",
       "    [\"Invalid or missing node type 'Rotate' found.\"]],\n",
       "   ['\\n{\\n  \"type\": \"Sequence\",\\n  \"name\": \"PickUpAndAlignStack\",\\n  \"nodes\": [\\n    {\\n      \"type\": \"Navigate\",\\n      \"x\": \"25.4\",\\n      \"y\": \"12.2\",\\n      \"z\": \"2.1\"\\n    },\\n    {\\n      \"type\": \"Pick\",\\n      \"object\": \"stack of wood\",\\n      \"grip_strength\": \"medium\",\\n      \"precision\": \"high\"\\n    },\\n    {\\n      \"type\": \"Align\",\\n      \"object\": \"stack of wood\",\\n      \"orientation\": \"upright\"\\n    }\\n  ]\\n}\\n',\n",
       "    [\"Invalid or missing node type 'Align' found.\"]]],\n",
       "  'valid': ['\\n{\\n  \"type\": \"Sequence\",\\n  \"name\": \"RetrieveAndPlaceAppleSequence\",\\n  \"nodes\": [\\n    {\\n      \"type\": \"Sequence\",\\n      \"name\": \"LocateAndPickAppleSequence\",\\n      \"nodes\": [\\n        {\\n          \"type\": \"Locate\",\\n          \"object\": \"red apple sitting on the kitchen counter\",\\n          \"position_x\": \"1.5\",\\n          \"position_y\": \"2.0\",\\n          \"position_z\": \"0.8\"\\n        },\\n        {\\n          \"type\": \"Pick\",\\n          \"object\": \"red apple sitting on the kitchen counter\",\\n          \"grip_strength\": \"medium\",\\n          \"precision\": \"high\"\\n        }\\n      ]\\n    },\\n    {\\n      \"type\": \"Sequence\",\\n      \"name\": \"NavigateAndPlaceAppleSequence\",\\n      \"nodes\": [\\n        {\\n          \"type\": \"Navigate\",\\n          \"x\": \"1.5\",\\n          \"y\": \"2.0\"\\n        },\\n        {\\n          \"type\": \"Place\",\\n          \"object\": \"red apple\",\\n          \"surface\": \"wooden cutting board on the dining table\",\\n          \"orientation\": \"upright\",\\n          \"alignment\": \"center\"\\n        }\\n      ]\\n    }\\n  ]\\n}\\n',\n",
       "   '\\n{\\n  \"type\": \"Sequence\",\\n  \"name\": \"RetrieveAndPlacePlateSequence\",\\n  \"nodes\": [\\n    {\\n      \"type\": \"Locate\",\\n      \"object\": \"a ceramic plate with some bread crumbs\",\\n      \"position_x\": \"{plate_position_x}\",\\n      \"position_y\": \"{plate_position_y}\",\\n      \"position_z\": \"{plate_position_z}\"\\n    },\\n    {\\n      \"type\": \"Pick\",\\n      \"object\": \"a ceramic plate with some bread crumbs\",\\n      \"grip_strength\": \"medium\",\\n      \"precision\": \"high\"\\n    },\\n    {\\n      \"type\": \"Place\",\\n      \"object\": \"a ceramic plate with some bread crumbs\",\\n      \"surface\": \"the kitchen counter\",\\n      \"orientation\": \"flat\",\\n      \"alignment\": \"center\"\\n    }\\n  ]\\n}\\n',\n",
       "   '\\n{\\n  \"type\": \"Sequence\",\\n  \"name\": \"NavigateToSafetyHelmetSequence\",\\n  \"nodes\": [\\n    {\\n      \"type\": \"Locate\",\\n      \"object\": \"safety helmet\",\\n      \"position_x\": \"22.9\",\\n      \"position_y\": \"8.8\",\\n      \"position_z\": \"0.7\"\\n    },\\n    {\\n      \"type\": \"Navigate\",\\n      \"x\": \"22.9\",\\n      \"y\": \"8.8\"\\n    }\\n  ]\\n}\\n',\n",
       "   '\\n{\\n  \"type\": \"Sequence\",\\n  \"name\": \"MoveForwardSequence\",\\n  \"nodes\": [\\n    {\\n      \"type\": \"Navigate\",\\n      \"x\": \"2.5\",\\n      \"y\": \"0.0\"\\n    }\\n  ]\\n}\\n',\n",
       "   '\\n{\\n  \"type\": \"Sequence\",\\n  \"name\": \"RetrieveAndPlaceFireExtinguisherSequence\",\\n  \"nodes\": [\\n    {\\n      \"type\": \"Locate\",\\n      \"object\": \"fire extinguisher\",\\n      \"position_x\": \"{fire_extinguisher_position_x}\",\\n      \"position_y\": \"{fire_extinguisher_position_y}\",\\n      \"position_z\": \"{fire_extinguisher_position_z}\"\\n    },\\n    {\\n      \"type\": \"Navigate\",\\n      \"x\": \"{fire_extinguisher_position_x}\",\\n      \"y\": \"{fire_extinguisher_position_y}\"\\n    },\\n    {\\n      \"type\": \"Pick\",\\n      \"object\": \"fire extinguisher\",\\n      \"grip_strength\": \"high\",\\n      \"precision\": \"high\"\\n    },\\n    {\\n      \"type\": \"Navigate\",\\n      \"x\": \"0.0\",\\n      \"y\": \"0.0\"\\n    },\\n    {\\n      \"type\": \"Place\",\\n      \"object\": \"fire extinguisher\",\\n      \"surface\": \"ladder\",\\n      \"orientation\": \"upright\",\\n      \"alignment\": \"center\"\\n    }\\n  ]\\n}\\n',\n",
       "   '\\n{\\n  \"type\": \"Sequence\",\\n  \"name\": \"PickUpAndPlaceGlovesSequence\",\\n  \"nodes\": [\\n    {\\n      \"type\": \"Retry\",\\n      \"retries\": 3,\\n      \"nodes\": [\\n        {\\n          \"type\": \"Locate\",\\n          \"object\": \"pair of gloves sitting on the ground\",\\n          \"position_x\": \"{gloves_position_x}\",\\n          \"position_y\": \"{gloves_position_y}\",\\n          \"position_z\": \"{gloves_position_z}\"\\n        }\\n      ]\\n    },\\n    {\\n      \"type\": \"Retry\",\\n      \"retries\": 2,\\n      \"nodes\": [\\n        {\\n          \"type\": \"Pick\",\\n          \"object\": \"pair of gloves sitting on the ground\",\\n          \"grip_strength\": \"high\",\\n          \"precision\": \"high\"\\n        }\\n      ]\\n    },\\n    {\\n      \"type\": \"Sequence\",\\n      \"name\": \"GlovesToTarpSequence\",\\n      \"nodes\": [\\n        {\\n          \"type\": \"Navigate\",\\n          \"x\": \"{gloves_position_x}\",\\n          \"y\": \"{gloves_position_y}\"\\n        },\\n        {\\n          \"type\": \"Place\",\\n          \"object\": \"pair of gloves\",\\n          \"surface\": \"tarp\",\\n          \"orientation\": \"flat\",\\n          \"alignment\": \"center\"\\n        }\\n      ]\\n    }\\n  ]\\n}\\n',\n",
       "   '\\n{\\n  \"type\": \"Sequence\",\\n  \"name\": \"NavigateAndWaitSequence\",\\n  \"nodes\": [\\n    {\\n      \"type\": \"Navigate\",\\n      \"x\": \"14.5\",\\n      \"y\": \"4.2\",\\n      \"z\": \"0.6\"\\n    },\\n    {\\n      \"type\": \"Wait\",\\n      \"duration\": \"5\"\\n    }\\n  ]\\n}\\n',\n",
       "   '\\n{\\n  \"type\": \"Sequence\",\\n  \"name\": \"NavigateToFireproofBlanketAndWalkieTalkie\",\\n  \"nodes\": [\\n    {\\n      \"type\": \"Navigate\",\\n      \"x\": \"25.7\",\\n      \"y\": \"9.5\"\\n    },\\n    {\\n      \"type\": \"Locate\",\\n      \"object\": \"fireproof blanket\"\\n    },\\n    {\\n      \"type\": \"Wait\",\\n      \"params\": {\\n        \"duration\": \"2.0\"\\n      }\\n    },\\n    {\\n      \"type\": \"Locate\",\\n      \"object\": \"walkie-talkie\"\\n    },\\n    {\\n      \"type\": \"Wait\",\\n      \"params\": {\\n        \"duration\": \"2.0\"\\n      }\\n    }\\n  ]\\n}\\n',\n",
       "   '\\n{\\n  \"type\": \"Sequence\",\\n  \"name\": \"RetrieveAndPlaceWaterBottleSequence\",\\n  \"nodes\": [\\n    {\\n      \"type\": \"Sequence\",\\n      \"name\": \"RetrieveWaterBottleSequence\",\\n      \"nodes\": [\\n        {\\n          \"type\": \"Locate\",\\n          \"object\": \"a water bottle sitting on the kitchen counter\",\\n          \"position_x\": \"{water_bottle_position_x}\",\\n          \"position_y\": \"{water_bottle_position_y}\",\\n          \"position_z\": \"{water_bottle_position_z}\"\\n        },\\n        {\\n          \"type\": \"Pick\",\\n          \"object\": \"a water bottle\",\\n          \"grip_strength\": \"medium\",\\n          \"precision\": \"high\"\\n        }\\n      ]\\n    },\\n    {\\n      \"type\": \"Sequence\",\\n      \"name\": \"NavigateToMap\",\\n      \"nodes\": [\\n        {\\n          \"type\": \"Navigate\",\\n          \"x\": \"{water_bottle_position_x}\",\\n          \"y\": \"{water_bottle_position_y}\",\\n          \"z\": \"{water_bottle_position_z}\"\\n        },\\n        {\\n          \"type\": \"Wait\",\\n          \"params\": {\"duration\": \"5.0\"}\\n        },\\n        {\\n          \"type\": \"Navigate\",\\n          \"x\": \"12.0\",\\n          \"y\": \"0.0\",\\n          \"z\": \"0.0\"\\n        }\\n      ]\\n    },\\n    {\\n      \"type\": \"Sequence\",\\n      \"name\": \"PlaceWaterBottleOnMap\",\\n      \"nodes\": [\\n        {\\n          \"type\": \"Place\",\\n          \"object\": \"a water bottle\",\\n          \"surface\": \"a map\",\\n          \"orientation\": \"upright\",\\n          \"alignment\": \"center\"\\n        }\\n      ]\\n    }\\n  ]\\n}\\n',\n",
       "   '\\n{\\n  \"type\": \"Sequence\",\\n  \"name\": \"TurnLeftSequence\",\\n  \"nodes\": [\\n    {\\n      \"type\": \"Navigate\",\\n      \"x\": \"0.0\",\\n      \"y\": \"0.0\"\\n    },\\n    {\\n      \"type\": \"Wait\",\\n      \"params\": {\\n        \"duration\": \"1.0\"\\n    }\\n    },\\n    {\\n      \"type\": \"Navigate\",\\n      \"x\": \"-1.0\",\\n      \"y\": \"0.0\"\\n    }\\n  ]\\n}\\n',\n",
       "   '\\n{\\n  \"type\": \"Sequence\",\\n  \"name\": \"DuctTapeOnCrowbarSequence\",\\n  \"nodes\": [\\n    {\\n      \"type\": \"Locate\",\\n      \"object\": \"a roll of duct tape sitting on the counter\"\\n    },\\n    {\\n      \"type\": \"Pick\",\\n      \"object\": \"a roll of duct tape sitting on the counter\",\\n      \"grip_strength\": \"medium\",\\n      \"precision\": \"high\"\\n    },\\n    {\\n      \"type\": \"Navigate\",\\n      \"x\": \"0.0\",\\n      \"y\": \"0.0\"\\n    },\\n    {\\n      \"type\": \"Locate\",\\n      \"object\": \"a crowbar lying on the ground\"\\n    },\\n    {\\n      \"type\": \"Navigate\",\\n      \"x\": \"13.7\",\\n      \"y\": \"6.2\"\\n    },\\n    {\\n      \"type\": \"Place\",\\n      \"object\": \"a roll of duct tape\",\\n      \"surface\": \"a crowbar\",\\n      \"orientation\": \"upright\",\\n      \"alignment\": \"center\"\\n    }\\n  ]\\n}\\n',\n",
       "   '\\n{\\n  \"type\": \"Sequence\",\\n  \"name\": \"LocateAndMoveHammerSequence\",\\n  \"nodes\": [\\n    {\\n      \"type\": \"Locate\",\\n      \"object\": \"hammer\",\\n      \"position_x\": \"{hammer_position_x}\",\\n      \"position_y\": \"{hammer_position_y}\",\\n      \"position_z\": \"{hammer_position_z}\"\\n    },\\n    {\\n      \"type\": \"Navigate\",\\n      \"x\": \"{hammer_position_x}\",\\n      \"y\": \"{hammer_position_y}\"\\n    },\\n    {\\n      \"type\": \"Pick\",\\n      \"object\": \"hammer\",\\n      \"grip_strength\": \"medium\",\\n      \"precision\": \"high\"\\n    },\\n    {\\n      \"type\": \"Navigate\",\\n      \"x\": \"{safety_helmet_position_x}\",\\n      \"y\": \"{safety_helmet_position_y}\"\\n    },\\n    {\\n      \"type\": \"Place\",\\n      \"object\": \"hammer\",\\n      \"surface\": \"safety helmet\",\\n      \"orientation\": \"upright\",\\n      \"alignment\": \"center\"\\n    }\\n  ]\\n}\\n',\n",
       "   '\\n{\\n  \"type\": \"Sequence\",\\n  \"name\": \"MoveBackwardSequence\",\\n  \"nodes\": [\\n    {\\n      \"type\": \"Navigate\",\\n      \"x\": \"-1.5\",\\n      \"y\": \"0.0\"\\n    }\\n  ]\\n}\\n',\n",
       "   '\\n{\\n  \"type\": \"Sequence\",\\n  \"name\": \"RetrieveAndPlaceBackpackSequence\",\\n  \"nodes\": [\\n    {\\n      \"type\": \"Locate\",\\n      \"object\": \"a backpack sitting on the ground\",\\n      \"position_x\": \"{backpack_position_x}\",\\n      \"position_y\": \"{backpack_position_y}\",\\n      \"position_z\": \"{backpack_position_z}\"\\n    },\\n    {\\n      \"type\": \"Pick\",\\n      \"object\": \"a backpack sitting on the ground\",\\n      \"grip_strength\": \"high\",\\n      \"precision\": \"high\"\\n    },\\n    {\\n      \"type\": \"Navigate\",\\n      \"x\": \"{backpack_position_x}\",\\n      \"y\": \"{backpack_position_y}\",\\n      \"z\": \"{backpack_position_z}\"\\n    },\\n    {\\n      \"type\": \"Place\",\\n      \"object\": \"a backpack\",\\n      \"surface\": \"a folding chair on the ground\",\\n      \"orientation\": \"upright\",\\n      \"alignment\": \"center\"\\n    }\\n  ]\\n}\\n',\n",
       "   '\\n{\\n  \"type\": \"Sequence\",\\n  \"name\": \"LocateAndNavigateTarpSequence\",\\n  \"nodes\": [\\n    {\\n      \"type\": \"Locate\",\\n      \"object\": \"a tarp\",\\n      \"output\": {\\n        \"position_x\": \"28.7\",\\n        \"position_y\": \"12.3\",\\n        \"position_z\": \"2.0\"\\n      }\\n    },\\n    {\\n      \"type\": \"Navigate\",\\n      \"x\": \"28.7\",\\n      \"y\": \"12.3\",\\n      \"z\": \"2.0\"\\n    }\\n  ]\\n}\\n',\n",
       "   '\\n{\\n  \"type\": \"Sequence\",\\n  \"name\": \"TurnAndMoveForwardSequence\",\\n  \"nodes\": [\\n    {\\n      \"type\": \"Navigate\",\\n      \"x\": \"0.0\",\\n      \"y\": \"0.0\",\\n      \"z\": \"0.0\",\\n      \"orientation\": \"180.0\"\\n    },\\n    {\\n      \"type\": \"Navigate\",\\n      \"x\": \"3.0\",\\n      \"y\": \"0.0\",\\n      \"z\": \"0.0\"\\n    }\\n  ]\\n}\\n',\n",
       "   '\\n{\\n  \"type\": \"Sequence\",\\n  \"name\": \"RetrieveNotebookBinocularsAndSandSequence\",\\n  \"nodes\": [\\n    {\\n      \"type\": \"Navigate\",\\n      \"x\": \"1.5\",\\n      \"y\": \"2.0\",\\n      \"z\": \"0.8\"\\n    },\\n    {\\n      \"type\": \"Locate\",\\n      \"object\": \"a notebook and pen\"\\n    },\\n    {\\n      \"type\": \"Pick\",\\n      \"object\": \"a notebook and pen\",\\n      \"grip_strength\": \"medium\",\\n      \"precision\": \"high\"\\n    },\\n    {\\n      \"type\": \"Navigate\",\\n      \"x\": \"1.5\",\\n      \"y\": \"2.0\",\\n      \"z\": \"0.8\"\\n    },\\n    {\\n      \"type\": \"Locate\",\\n      \"object\": \"a pair of binoculars\"\\n    },\\n    {\\n      \"type\": \"Pick\",\\n      \"object\": \"a pair of binoculars\",\\n      \"grip_strength\": \"medium\",\\n      \"precision\": \"high\"\\n    },\\n    {\\n      \"type\": \"Navigate\",\\n      \"x\": \"1.5\",\\n      \"y\": \"2.0\",\\n      \"z\": \"0.8\"\\n    },\\n    {\\n      \"type\": \"Locate\",\\n      \"object\": \"a bag of sand\"\\n    },\\n    {\\n      \"type\": \"Pick\",\\n      \"object\": \"a bag of sand\",\\n      \"grip_strength\": \"medium\",\\n      \"precision\": \"high\"\\n    }\\n  ]\\n}\\n',\n",
       "   '\\n{\\n  \"type\": \"Sequence\",\\n  \"name\": \"RetrieveAndPlaceCupSequence\",\\n  \"nodes\": [\\n    {\\n      \"type\": \"Navigate\",\\n      \"x\": \"0.0\",\\n      \"y\": \"0.0\"\\n    },\\n    {\\n      \"type\": \"Locate\",\\n      \"object\": \"empty glass cup next to the sink\"\\n    },\\n    {\\n      \"type\": \"Pick\",\\n      \"object\": \"empty glass cup next to the sink\",\\n      \"grip_strength\": \"high\",\\n      \"precision\": \"high\"\\n    },\\n    {\\n      \"type\": \"Navigate\",\\n      \"x\": \"1.5\",\\n      \"y\": \"2.0\"\\n    },\\n    {\\n      \"type\": \"Locate\",\\n      \"object\": \"red apple on the kitchen counter\"\\n    },\\n    {\\n      \"type\": \"Place\",\\n      \"object\": \"empty glass cup\",\\n      \"surface\": \"red apple on the kitchen counter\",\\n      \"orientation\": \"upright\",\\n      \"alignment\": \"center\"\\n    }\\n  ]\\n}\\n',\n",
       "   '\\n{\\n  \"type\": \"Sequence\",\\n  \"name\": \"LocateAndPlacePlateSequence\",\\n  \"nodes\": [\\n    {\\n      \"type\": \"Locate\",\\n      \"object\": \"ceramic plate with some bread crumbs\",\\n      \"position_x\": \"{plate_position_x}\",\\n      \"position_y\": \"{plate_position_y}\",\\n      \"position_z\": \"{plate_position_z}\"\\n    },\\n    {\\n      \"type\": \"Navigate\",\\n      \"x\": \"{plate_position_x}\",\\n      \"y\": \"{plate_position_y}\"\\n    },\\n    {\\n      \"type\": \"Pick\",\\n      \"object\": \"ceramic plate with some bread crumbs\",\\n      \"grip_strength\": \"medium\",\\n      \"precision\": \"high\"\\n    },\\n    {\\n      \"type\": \"Place\",\\n      \"object\": \"ceramic plate with some bread crumbs\",\\n      \"surface\": \"wooden cutting board on the dining table\",\\n      \"orientation\": \"upright\",\\n      \"alignment\": \"center\"\\n    }\\n  ]\\n}\\n',\n",
       "   '\\n{\\n  \"type\": \"Sequence\",\\n  \"name\": \"RetrieveAndPlaceKnifeSequence\",\\n  \"nodes\": [\\n    {\\n      \"type\": \"Sequence\",\\n      \"name\": \"RetrieveSilverKnifeSequence\",\\n      \"nodes\": [\\n        {\\n          \"type\": \"Locate\",\\n          \"object\": \"a silver knife laying on the counter\",\\n          \"position_x\": \"{knife_position_x}\",\\n          \"position_y\": \"{knife_position_y}\",\\n          \"position_z\": \"{knife_position_z}\"\\n        },\\n        {\\n          \"type\": \"Navigate\",\\n          \"x\": \"{knife_position_x}\",\\n          \"y\": \"{knife_position_y}\"\\n        },\\n        {\\n          \"type\": \"Pick\",\\n          \"object\": \"a silver knife laying on the counter\",\\n          \"grip_strength\": \"medium\",\\n          \"precision\": \"high\"\\n        }\\n      ]\\n    },\\n    {\\n      \"type\": \"Sequence\",\\n      \"name\": \"PlaceKnifeNextToAppleSequence\",\\n      \"nodes\": [\\n        {\\n          \"type\": \"Locate\",\\n          \"object\": \"a red apple sitting on the kitchen counter\",\\n          \"position_x\": \"{apple_position_x}\",\\n          \"position_y\": \"{apple_position_y}\",\\n          \"position_z\": \"{apple_position_z}\"\\n        },\\n        {\\n          \"type\": \"Navigate\",\\n          \"x\": \"{apple_position_x}\",\\n          \"y\": \"{apple_position_y}\"\\n        },\\n        {\\n          \"type\": \"Place\",\\n          \"object\": \"a silver knife\",\\n          \"surface\": \"next to the red apple\",\\n          \"orientation\": \"upright\",\\n          \"alignment\": \"center\"\\n        }\\n      ]\\n    }\\n  ]\\n}\\n',\n",
       "   '\\n{\\n  \"type\": \"Locate\",\\n  \"nodes\": [\\n    {\\n      \"type\": \"Locate\",\\n      \"params\": {\\n        \"object\": \"a medical splint\"\\n      }\\n    }\\n  ]\\n}\\n',\n",
       "   '\\n{\\n  \"type\": \"Sequence\",\\n  \"name\": \"RetrieveAndPlaceLadderSequence\",\\n  \"nodes\": [\\n    {\\n      \"type\": \"Locate\",\\n      \"object\": \"a ladder\",\\n      \"position_x\": \"{ladder_position_x}\",\\n      \"position_y\": \"{ladder_position_y}\",\\n      \"position_z\": \"{ladder_position_z}\"\\n    },\\n    {\\n      \"type\": \"Pick\",\\n      \"object\": \"a ladder\",\\n      \"grip_strength\": \"medium\",\\n      \"precision\": \"high\"\\n    },\\n    {\\n      \"type\": \"Navigate\",\\n      \"x\": \"{ladder_position_x}\",\\n      \"y\": \"{ladder_position_y}\"\\n    },\\n    {\\n      \"type\": \"Place\",\\n      \"object\": \"a ladder\",\\n      \"surface\": \"a stack of wood\",\\n      \"orientation\": \"upright\",\\n      \"alignment\": \"near\"\\n    }\\n  ]\\n}\\n',\n",
       "   '\\n{\\n  \"type\": \"Sequence\",\\n  \"name\": \"PickUpAndPlaceTarpSequence\",\\n  \"nodes\": [\\n    {\\n      \"type\": \"Locate\",\\n      \"object\": \"a tarp\"\\n    },\\n    {\\n      \"type\": \"Pick\",\\n      \"object\": \"a tarp\",\\n      \"grip_strength\": \"high\",\\n      \"precision\": \"high\"\\n    },\\n    {\\n      \"type\": \"Navigate\",\\n      \"x\": \"25.4\",\\n      \"y\": \"12.2\",\\n      \"z\": \"2.1\"\\n    },\\n    {\\n      \"type\": \"Place\",\\n      \"object\": \"a tarp\",\\n      \"surface\": \"a stack of wood\",\\n      \"orientation\": \"flat\",\\n      \"alignment\": \"center\"\\n    }\\n  ]\\n}\\n',\n",
       "   '\\n{\\n  \"type\": \"Sequence\",\\n  \"name\": \"NavigateToChairSequence\",\\n  \"nodes\": [\\n    {\\n      \"type\": \"Locate\",\\n      \"object\": \"folding chair sitting on the floor\",\\n      \"position_x\": \"{chair_position_x}\",\\n      \"position_y\": \"{chair_position_y}\",\\n      \"position_z\": \"{chair_position_z}\"\\n    }\\n  ]\\n}\\n',\n",
       "   '\\n{\\n  \"type\": \"Sequence\",\\n  \"name\": \"MoveForwardSequence\",\\n  \"nodes\": [\\n    {\\n      \"type\": \"Navigate\",\\n      \"x\": \"1.0\",\\n      \"y\": \"0.0\"\\n    }\\n  ]\\n}\\n',\n",
       "   '\\n{\\n  \"type\": \"Sequence\",\\n  \"name\": \"RetrieveAndPlaceThermalBlanketSequence\",\\n  \"nodes\": [\\n    {\\n      \"type\": \"Locate\",\\n      \"object\": \"a thermal blanket sitting on the shelf in the storage room\"\\n    },\\n    {\\n      \"type\": \"Navigate\",\\n      \"x\": \"1.5\",\\n      \"y\": \"2.0\"\\n    },\\n    {\\n      \"type\": \"Pick\",\\n      \"object\": \"a thermal blanket sitting on the shelf in the storage room\",\\n      \"grip_strength\": \"high\",\\n      \"precision\": \"high\"\\n    },\\n    {\\n      \"type\": \"Navigate\",\\n      \"x\": \"20.3\",\\n      \"y\": \"9.2\"\\n    },\\n    {\\n      \"type\": \"Place\",\\n      \"object\": \"a thermal blanket\",\\n      \"surface\": \"a sleeping bag\",\\n      \"orientation\": \"upright\",\\n      \"alignment\": \"center\"\\n    }\\n  ]\\n}\\n',\n",
       "   '\\n{\\n  \"type\": \"Sequence\",\\n  \"name\": \"LocateAndPlaceBlanketSequence\",\\n  \"nodes\": [\\n    {\\n      \"type\": \"Locate\",\\n      \"object\": \"fireproof blanket\",\\n      \"position_x\": \"{blanket_position_x}\",\\n      \"position_y\": \"{blanket_position_y}\",\\n      \"position_z\": \"{blanket_position_z}\"\\n    },\\n    {\\n      \"type\": \"Sequence\",\\n      \"name\": \"AlignBlanketOnGroundSequence\",\\n      \"nodes\": [\\n        {\\n          \"type\": \"Navigate\",\\n          \"x\": \"{blanket_position_x}\",\\n          \"y\": \"{blanket_position_y}\"\\n        },\\n        {\\n          \"type\": \"Wait\",\\n          \"params\": {\"duration\": \"2.0\"}\\n        },\\n        {\\n          \"type\": \"Pick\",\\n          \"object\": \"fireproof blanket\",\\n          \"grip_strength\": \"high\",\\n          \"precision\": \"high\"\\n        },\\n        {\\n          \"type\": \"Place\",\\n          \"object\": \"fireproof blanket\",\\n          \"surface\": \"ground\",\\n          \"orientation\": \"flat\",\\n          \"alignment\": \"center\"\\n        }\\n      ]\\n    }\\n  ]\\n}\\n',\n",
       "   '\\n{\\n  \"type\": \"Sequence\",\\n  \"name\": \"RetrieveAndPlaceWalkieTalkieSequence\",\\n  \"nodes\": [\\n    {\\n      \"type\": \"Locate\",\\n      \"object\": \"walkie-talkie\",\\n      \"position_x\": \"{walkie_position_x}\",\\n      \"position_y\": \"{walkie_position_y}\",\\n      \"position_z\": \"{walkie_position_z}\"\\n    },\\n    {\\n      \"type\": \"Pick\",\\n      \"object\": \"walkie-talkie\",\\n      \"grip_strength\": \"medium\",\\n      \"precision\": \"high\"\\n    },\\n    {\\n      \"type\": \"Navigate\",\\n      \"x\": \"{walkie_position_x}\",\\n      \"y\": \"{walkie_position_y}\"\\n    },\\n    {\\n      \"type\": \"Place\",\\n      \"object\": \"walkie-talkie\",\\n      \"surface\": \"backpack\",\\n      \"orientation\": \"upright\",\\n      \"alignment\": \"center\"\\n    }\\n  ]\\n}\\n',\n",
       "   '\\n{\\n  \"type\": \"Sequence\",\\n  \"name\": \"NavigateToHelmetSequence\",\\n  \"nodes\": [\\n    {\\n      \"type\": \"Navigate\",\\n      \"x\": \"22.9\",\\n      \"y\": \"8.8\",\\n      \"z\": \"0.7\"\\n    },\\n    {\\n      \"type\": \"Wait\",\\n      \"params\": {\\n        \"duration\": \"3.0\"\\n      }\\n    }\\n  ]\\n}\\n',\n",
       "   '\\n{\\n  \"type\": \"Sequence\",\\n  \"name\": \"NavigateToRopeAndCrowbarSequence\",\\n  \"nodes\": [\\n    {\\n      \"type\": \"Navigate\",\\n      \"x\": \"0.0\",\\n      \"y\": \"0.0\"\\n    },\\n    {\\n      \"type\": \"Sequence\",\\n      \"name\": \"NavigateToRope\",\\n      \"nodes\": [\\n        {\\n          \"type\": \"Navigate\",\\n          \"x\": \"3.9\",\\n          \"y\": \"5.7\"\\n        }\\n      ]\\n    },\\n    {\\n      \"type\": \"Sequence\",\\n      \"name\": \"NavigateToCrowbar\",\\n      \"nodes\": [\\n        {\\n          \"type\": \"Navigate\",\\n          \"x\": \"13.7\",\\n          \"y\": \"6.2\"\\n        }\\n      ]\\n    }\\n  ]\\n}\\n',\n",
       "   '\\n{\\n  \"type\": \"Sequence\",\\n  \"name\": \"RetrieveAndPlaceBagOfRiceSequence\",\\n  \"nodes\": [\\n    {\\n      \"type\": \"Locate\",\\n      \"object\": \"bag of rice sitting on the shelf\"\\n    },\\n    {\\n      \"type\": \"Navigate\",\\n      \"x\": \"{bag_of_rice_position_x}\",\\n      \"y\": \"{bag_of_rice_position_y}\"\\n    },\\n    {\\n      \"type\": \"Pick\",\\n      \"object\": \"bag of rice\",\\n      \"grip_strength\": \"medium\",\\n      \"precision\": \"high\"\\n    },\\n    {\\n      \"type\": \"Navigate\",\\n      \"x\": \"{bag_of_rice_position_x}\",\\n      \"y\": \"{bag_of_rice_position_y}\"\\n    },\\n    {\\n      \"type\": \"Place\",\\n      \"object\": \"bag of rice\",\\n      \"surface\": \"cooking pot\",\\n      \"orientation\": \"upright\",\\n      \"alignment\": \"center\"\\n    }\\n  ]\\n}\\n',\n",
       "   '\\n{\\n  \"type\": \"Sequence\",\\n  \"name\": \"TurnRightSequence\",\\n  \"nodes\": [\\n    {\\n      \"type\": \"Navigate\",\\n      \"x\": 0.0,\\n      \"y\": 0.0\\n    }\\n  ]\\n}\\n',\n",
       "   '\\n{\\n  \"type\": \"Sequence\",\\n  \"name\": \"PickUpAndPlaceFirstAidKitSequence\",\\n  \"nodes\": [\\n    {\\n      \"type\": \"Sequence\",\\n      \"name\": \"LocateAndPickUpFirstAidKitSequence\",\\n      \"nodes\": [\\n        {\\n          \"type\": \"Locate\",\\n          \"object\": \"a first aid kit sitting on the ground next to the couch\"\\n        },\\n        {\\n          \"type\": \"Pick\",\\n          \"object\": \"a first aid kit sitting on the ground next to the couch\",\\n          \"grip_strength\": \"high\",\\n          \"precision\": \"high\"\\n        }\\n      ]\\n    },\\n    {\\n      \"type\": \"Sequence\",\\n      \"name\": \"NavigateToCuttingBoardSequence\",\\n      \"nodes\": [\\n        {\\n          \"type\": \"Navigate\",\\n          \"x\": \"3.2\",\\n          \"y\": \"1.8\"\\n        }\\n      ]\\n    },\\n    {\\n      \"type\": \"Place\",\\n      \"object\": \"a first aid kit\",\\n      \"surface\": \"a wooden cutting board on the dining table\",\\n      \"orientation\": \"upright\",\\n      \"alignment\": \"center\"\\n    }\\n  ]\\n}\\n',\n",
       "   '\\n{\\n  \"type\": \"Sequence\",\\n  \"name\": \"LocateEmergencyFlareSequence\",\\n  \"nodes\": [\\n    {\\n      \"type\": \"Locate\",\\n      \"object\": \"an emergency flare\",\\n      \"output\": {\\n        \"position_x\": \"16.9\",\\n        \"position_y\": \"8.3\",\\n        \"position_z\": \"0.5\"\\n      }\\n    }\\n  ]\\n}\\n',\n",
       "   '\\n{\\n  \"type\": \"Sequence\",\\n  \"name\": \"MoveBackwardSequence\",\\n  \"nodes\": [\\n    {\\n      \"type\": \"Navigate\",\\n      \"x\": \"-0.5\",\\n      \"y\": \"0.0\",\\n      \"z\": \"0.0\"\\n    }\\n  ]\\n}\\n',\n",
       "   '\\n{\\n  \"type\": \"Sequence\",\\n  \"name\": \"LocateCarJackSequence\",\\n  \"nodes\": [\\n    {\\n      \"type\": \"Locate\",\\n      \"object\": \"car jack\",\\n      \"position_x\": \"{car_jack_position_x}\",\\n      \"position_y\": \"{car_jack_position_y}\",\\n      \"position_z\": \"{car_jack_position_z}\"\\n    }\\n  ]\\n}\\n',\n",
       "   '\\n{\\n  \"type\": \"Sequence\",\\n  \"name\": \"RetrieveAndPlaceNotebookSequence\",\\n  \"nodes\": [\\n    {\\n      \"type\": \"Sequence\",\\n      \"name\": \"RetrieveNotebookSequence\",\\n      \"nodes\": [\\n        {\\n          \"type\": \"Locate\",\\n          \"object\": \"a notebook and pen\",\\n          \"position_x\": \"{notebook_position_x}\",\\n          \"position_y\": \"{notebook_position_y}\",\\n          \"position_z\": \"{notebook_position_z}\"\\n        },\\n        {\\n          \"type\": \"Pick\",\\n          \"object\": \"a notebook and pen\",\\n          \"grip_strength\": \"medium\",\\n          \"precision\": \"high\"\\n        }\\n      ]\\n    },\\n    {\\n      \"type\": \"Sequence\",\\n      \"name\": \"PlaceOnTableSequence\",\\n      \"nodes\": [\\n        {\\n          \"type\": \"Navigate\",\\n          \"x\": \"{notebook_position_x}\",\\n          \"y\": \"{notebook_position_y}\"\\n        },\\n        {\\n          \"type\": \"Place\",\\n          \"object\": \"a notebook and pen\",\\n          \"surface\": \"the wooden cutting board on the dining table\",\\n          \"orientation\": \"upright\",\\n          \"alignment\": \"center\"\\n        }\\n      ]\\n    }\\n  ]\\n}\\n',\n",
       "   '\\n{\\n  \"type\": \"Sequence\",\\n  \"name\": \"FollowPathToHammerSequence\",\\n  \"nodes\": [\\n    {\\n      \"type\": \"Navigate\",\\n      \"x\": \"0.0\",\\n      \"y\": \"0.0\"\\n    },\\n    {\\n      \"type\": \"Locate\",\\n      \"object\": \"a hammer\",\\n      \"position_x\": \"0.0\",\\n      \"position_y\": \"0.0\",\\n      \"position_z\": \"0.0\"\\n    },\\n    {\\n      \"type\": \"Navigate\",\\n      \"x\": \"3.9\",\\n      \"y\": \"0.0\"\\n    },\\n    {\\n      \"type\": \"Locate\",\\n      \"object\": \"a roll of duct tape\",\\n      \"position_x\": \"3.9\",\\n      \"position_y\": \"0.0\",\\n      \"position_z\": \"0.0\"\\n    },\\n    {\\n      \"type\": \"Navigate\",\\n      \"x\": \"3.9\",\\n      \"y\": \"2.8\"\\n    },\\n    {\\n      \"type\": \"Locate\",\\n      \"object\": \"a folding knife\",\\n      \"position_x\": \"3.9\",\\n      \"position_y\": \"2.8\",\\n      \"position_z\": \"0.0\"\\n    }\\n  ]\\n}\\n',\n",
       "   '\\n{\\n  \"type\": \"Sequence\",\\n  \"name\": \"RetrieveAndPlaceSoupSequence\",\\n  \"nodes\": [\\n    {\\n      \"type\": \"Sequence\",\\n      \"name\": \"RetrieveSoupSequence\",\\n      \"nodes\": [\\n        {\\n          \"type\": \"Locate\",\\n          \"object\": \"a can of soup sitting on the kitchen counter\",\\n          \"position_x\": \"{can_of_soup_position_x}\",\\n          \"position_y\": \"{can_of_soup_position_y}\",\\n          \"position_z\": \"{can_of_soup_position_z}\"\\n        }\\n      ]\\n    },\\n    {\\n      \"type\": \"Sequence\",\\n      \"name\": \"PlaceSoupOnStoveSequence\",\\n      \"nodes\": [\\n        {\\n          \"type\": \"Navigate\",\\n          \"x\": \"{can_of_soup_position_x}\",\\n          \"y\": \"{can_of_soup_position_y}\"\\n        },\\n        {\\n          \"type\": \"Pick\",\\n          \"object\": \"a can of soup sitting on the kitchen counter\",\\n          \"grip_strength\": \"medium\",\\n          \"precision\": \"high\"\\n        },\\n        {\\n          \"type\": \"Navigate\",\\n          \"x\": \"18.1\",\\n          \"y\": \"7.9\"\\n        },\\n        {\\n          \"type\": \"Place\",\\n          \"object\": \"a can of soup\",\\n          \"surface\": \"camping stove\",\\n          \"orientation\": \"upright\",\\n          \"alignment\": \"center\"\\n        }\\n      ]\\n    }\\n  ]\\n}\\n',\n",
       "   '\\n{\\n  \"type\": \"Sequence\",\\n  \"name\": \"LocateAndPlaceWaterFilterSequence\",\\n  \"nodes\": [\\n    {\\n      \"type\": \"Locate\",\\n      \"retries\": 3,\\n      \"nodes\": [\\n        {\\n          \"type\": \"Locate\",\\n          \"object\": \"a water filter\",\\n          \"position_x\": \"{water_filter_position_x}\",\\n          \"position_y\": \"{water_filter_position_y}\",\\n          \"position_z\": \"{water_filter_position_z}\"\\n        }\\n      ]\\n    },\\n    {\\n      \"type\": \"Navigate\",\\n      \"retries\": 2,\\n      \"nodes\": [\\n        {\\n          \"type\": \"Locate\",\\n          \"object\": \"a water filter\",\\n          \"x\": \"{water_filter_position_x}\",\\n          \"y\": \"{water_filter_position_y}\"\\n        }\\n      ]\\n    },\\n    {\\n      \"type\": \"Pick\",\\n      \"retries\": 2,\\n      \"nodes\": [\\n        {\\n          \"type\": \"Locate\",\\n          \"object\": \"a water filter\",\\n          \"grip_strength\": \"medium\",\\n          \"precision\": \"high\"\\n        }\\n      ]\\n    },\\n    {\\n      \"type\": \"Navigate\",\\n      \"retries\": 2,\\n      \"nodes\": [\\n        {\\n          \"type\": \"Locate\",\\n          \"object\": \"a water filter\",\\n          \"x\": \"{water_filter_position_x}\",\\n          \"y\": \"{water_filter_position_y}\"\\n        }\\n      ]\\n    },\\n    {\\n      \"type\": \"Place\",\\n      \"retries\": 2,\\n      \"nodes\": [\\n        {\\n          \"type\": \"Locate\",\\n          \"object\": \"a water filter\",\\n          \"surface\": \"next to the safety helmet\",\\n          \"orientation\": \"upright\",\\n          \"alignment\": \"center\"\\n        }\\n      ]\\n    },\\n    {\\n      \"type\": \"Retry\",\\n      \"retries\": 2,\\n      \"nodes\": [\\n        {\\n          \"type\": \"Place\",\\n          \"retries\": 2,\\n          \"nodes\": [\\n            {\\n              \"type\": \"Locate\",\\n              \"object\": \"a water filter\",\\n              \"surface\": \"next to the safety helmet\",\\n              \"orientation\": \"upright\",\\n              \"alignment\": \"center\"\\n            }\\n          ]\\n        }\\n      ]\\n    }\\n  ]\\n}\\n',\n",
       "   '\\n{\\n  \"type\": \"Sequence\",\\n  \"name\": \"FindAndPlaceFireExtinguisher\",\\n  \"nodes\": [\\n    {\\n      \"type\": \"Locate\",\\n      \"object\": \"a fire extinguisher\",\\n      \"position_x\": \"{fire_extinguisher_position_x}\",\\n      \"position_y\": \"{fire_extinguisher_position_y}\",\\n      \"position_z\": \"{fire_extinguisher_position_z}\"\\n    },\\n    {\\n      \"type\": \"Navigate\",\\n      \"x\": \"{fire_extinguisher_position_x}\",\\n      \"y\": \"{fire_extinguisher_position_y}\"\\n    },\\n    {\\n      \"type\": \"Locate\",\\n      \"object\": \"an emergency flare\",\\n      \"position_x\": \"{emergency_flare_position_x}\",\\n      \"position_y\": \"{emergency_flare_position_y}\",\\n      \"position_z\": \"{emergency_flare_position_z}\"\\n    },\\n    {\\n      \"type\": \"Navigate\",\\n      \"x\": \"{emergency_flare_position_x}\",\\n      \"y\": \"{emergency_flare_position_y}\"\\n    },\\n    {\\n      \"type\": \"Pick\",\\n      \"object\": \"a fire extinguisher\",\\n      \"grip_strength\": \"high\",\\n      \"precision\": \"high\"\\n    },\\n    {\\n      \"type\": \"Place\",\\n      \"object\": \"a fire extinguisher\",\\n      \"surface\": \"near the emergency flare\",\\n      \"orientation\": \"upright\",\\n      \"alignment\": \"center\"\\n    }\\n  ]\\n}\\n']}}"
      ]
     },
     "execution_count": 13,
     "metadata": {},
     "output_type": "execute_result"
    }
   ],
   "source": [
    "json_3b"
   ]
  }
 ],
 "metadata": {
  "kernelspec": {
   "display_name": "env",
   "language": "python",
   "name": "python3"
  },
  "language_info": {
   "codemirror_mode": {
    "name": "ipython",
    "version": 3
   },
   "file_extension": ".py",
   "mimetype": "text/x-python",
   "name": "python",
   "nbconvert_exporter": "python",
   "pygments_lexer": "ipython3",
   "version": "3.11.5"
  }
 },
 "nbformat": 4,
 "nbformat_minor": 2
}
