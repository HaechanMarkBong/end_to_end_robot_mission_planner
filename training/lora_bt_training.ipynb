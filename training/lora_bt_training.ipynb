{
 "cells": [
  {
   "cell_type": "code",
   "execution_count": 7,
   "metadata": {},
   "outputs": [],
   "source": [
    "from transformers import (\n",
    "    AutoModelForCausalLM,\n",
    "    AutoTokenizer,\n",
    "    BitsAndBytesConfig,\n",
    "    TrainingArguments,\n",
    ")\n",
    "from peft import LoraConfig\n",
    "import torch\n",
    "from trl import SFTTrainer\n",
    "import json\n",
    "import pandas as pd\n",
    "from datasets import Dataset\n",
    "\n",
    "import bitsandbytes as bnb\n",
    "\n",
    "torch.cuda.empty_cache()"
   ]
  },
  {
   "cell_type": "code",
   "execution_count": 8,
   "metadata": {},
   "outputs": [
    {
     "data": {
      "text/plain": [
       "1"
      ]
     },
     "execution_count": 8,
     "metadata": {},
     "output_type": "execute_result"
    }
   ],
   "source": [
    "torch_dtype = torch.float16\n",
    "attn_implementation = \"eager\"\n",
    "\n",
    "# QLoRA config\n",
    "bnb_config = BitsAndBytesConfig(\n",
    "    load_in_4bit=True,\n",
    "    bnb_4bit_quant_type=\"nf4\",\n",
    "    bnb_4bit_compute_dtype=torch_dtype,\n",
    "    bnb_4bit_use_double_quant=True,\n",
    ")\n",
    "\n",
    "base_model = \"meta-llama/Llama-3.2-1B-Instruct\"\n",
    "\n",
    "# Load model\n",
    "model = AutoModelForCausalLM.from_pretrained(\n",
    "    base_model,\n",
    "    quantization_config=bnb_config,\n",
    "    device_map=\"auto\",\n",
    "    attn_implementation=attn_implementation\n",
    ")\n",
    "\n",
    "# Load tokenizer\n",
    "tokenizer= AutoTokenizer.from_pretrained(base_model, trust_remote_code=True)\n",
    "tokenizer.add_special_tokens({'pad_token': '[PAD]'})"
   ]
  },
  {
   "cell_type": "code",
   "execution_count": 9,
   "metadata": {},
   "outputs": [
    {
     "data": {
      "text/html": [
       "<div>\n",
       "<style scoped>\n",
       "    .dataframe tbody tr th:only-of-type {\n",
       "        vertical-align: middle;\n",
       "    }\n",
       "\n",
       "    .dataframe tbody tr th {\n",
       "        vertical-align: top;\n",
       "    }\n",
       "\n",
       "    .dataframe thead th {\n",
       "        text-align: right;\n",
       "    }\n",
       "</style>\n",
       "<table border=\"1\" class=\"dataframe\">\n",
       "  <thead>\n",
       "    <tr style=\"text-align: right;\">\n",
       "      <th></th>\n",
       "      <th>object_context</th>\n",
       "      <th>actions_dictionary</th>\n",
       "      <th>query</th>\n",
       "      <th>explanation</th>\n",
       "      <th>bt_xml</th>\n",
       "      <th>bt_json</th>\n",
       "    </tr>\n",
       "  </thead>\n",
       "  <tbody>\n",
       "    <tr>\n",
       "      <th>0</th>\n",
       "      <td>[{'name': 'a ladder', 'position': {'x': 30.0, ...</td>\n",
       "      <td>[{'name': 'Wait', 'description': 'Wait for a s...</td>\n",
       "      <td>Can you please locate the cooking pot and then...</td>\n",
       "      <td>I will first locate the cooking pot in the env...</td>\n",
       "      <td>&lt;root main_tree_to_execute=\"LocateAndNavigateT...</td>\n",
       "      <td>{'type': 'Sequence', 'name': 'LocateAndNavigat...</td>\n",
       "    </tr>\n",
       "    <tr>\n",
       "      <th>1</th>\n",
       "      <td>[{'name': 'a fireproof blanket', 'position': {...</td>\n",
       "      <td>[{'name': 'Wait', 'description': 'Wait for a s...</td>\n",
       "      <td>Could you locate the thermal blanket and then ...</td>\n",
       "      <td>Good, I will first attempt to locate the therm...</td>\n",
       "      <td>&lt;root main_tree_to_execute=\"LocateAndPrepareMe...</td>\n",
       "      <td>{'type': 'Sequence', 'name': 'LocateAndPrepare...</td>\n",
       "    </tr>\n",
       "    <tr>\n",
       "      <th>2</th>\n",
       "      <td>[{'name': 'a pair of boots', 'position': {'x':...</td>\n",
       "      <td>[{'name': 'Wait', 'description': 'Wait for a s...</td>\n",
       "      <td>Could you please locate the fire extinguisher ...</td>\n",
       "      <td></td>\n",
       "      <td>&lt;root main_tree_to_execute=\"LocateAndRetrieveB...</td>\n",
       "      <td>{'type': 'Sequence', 'name': 'LocateAndRetriev...</td>\n",
       "    </tr>\n",
       "    <tr>\n",
       "      <th>3</th>\n",
       "      <td>[{'name': 'a smartphone', 'position': {'x': 7....</td>\n",
       "      <td>[{'name': 'Wait', 'description': 'Wait for a s...</td>\n",
       "      <td>Can you please locate the rope and then naviga...</td>\n",
       "      <td>I will first locate the rope and retrieve its ...</td>\n",
       "      <td>&lt;root main_tree_to_execute=\"LocateAndNavigateT...</td>\n",
       "      <td>{'type': 'Sequence', 'name': 'LocateAndNavigat...</td>\n",
       "    </tr>\n",
       "    <tr>\n",
       "      <th>4</th>\n",
       "      <td>[{'name': 'a rope', 'position': {'x': 3.9, 'y'...</td>\n",
       "      <td>[{'name': 'Wait', 'description': 'Wait for a s...</td>\n",
       "      <td>Can you please locate the folding knife and th...</td>\n",
       "      <td>Good, I will first locate the folding knife an...</td>\n",
       "      <td>&lt;root main_tree_to_execute=\"LocateKnifeAndNavi...</td>\n",
       "      <td>{'type': 'Sequence', 'name': 'LocateKnifeAndNa...</td>\n",
       "    </tr>\n",
       "  </tbody>\n",
       "</table>\n",
       "</div>"
      ],
      "text/plain": [
       "                                      object_context  \\\n",
       "0  [{'name': 'a ladder', 'position': {'x': 30.0, ...   \n",
       "1  [{'name': 'a fireproof blanket', 'position': {...   \n",
       "2  [{'name': 'a pair of boots', 'position': {'x':...   \n",
       "3  [{'name': 'a smartphone', 'position': {'x': 7....   \n",
       "4  [{'name': 'a rope', 'position': {'x': 3.9, 'y'...   \n",
       "\n",
       "                                  actions_dictionary  \\\n",
       "0  [{'name': 'Wait', 'description': 'Wait for a s...   \n",
       "1  [{'name': 'Wait', 'description': 'Wait for a s...   \n",
       "2  [{'name': 'Wait', 'description': 'Wait for a s...   \n",
       "3  [{'name': 'Wait', 'description': 'Wait for a s...   \n",
       "4  [{'name': 'Wait', 'description': 'Wait for a s...   \n",
       "\n",
       "                                               query  \\\n",
       "0  Can you please locate the cooking pot and then...   \n",
       "1  Could you locate the thermal blanket and then ...   \n",
       "2  Could you please locate the fire extinguisher ...   \n",
       "3  Can you please locate the rope and then naviga...   \n",
       "4  Can you please locate the folding knife and th...   \n",
       "\n",
       "                                         explanation  \\\n",
       "0  I will first locate the cooking pot in the env...   \n",
       "1  Good, I will first attempt to locate the therm...   \n",
       "2                                                      \n",
       "3  I will first locate the rope and retrieve its ...   \n",
       "4  Good, I will first locate the folding knife an...   \n",
       "\n",
       "                                              bt_xml  \\\n",
       "0  <root main_tree_to_execute=\"LocateAndNavigateT...   \n",
       "1  <root main_tree_to_execute=\"LocateAndPrepareMe...   \n",
       "2  <root main_tree_to_execute=\"LocateAndRetrieveB...   \n",
       "3  <root main_tree_to_execute=\"LocateAndNavigateT...   \n",
       "4  <root main_tree_to_execute=\"LocateKnifeAndNavi...   \n",
       "\n",
       "                                             bt_json  \n",
       "0  {'type': 'Sequence', 'name': 'LocateAndNavigat...  \n",
       "1  {'type': 'Sequence', 'name': 'LocateAndPrepare...  \n",
       "2  {'type': 'Sequence', 'name': 'LocateAndRetriev...  \n",
       "3  {'type': 'Sequence', 'name': 'LocateAndNavigat...  \n",
       "4  {'type': 'Sequence', 'name': 'LocateKnifeAndNa...  "
      ]
     },
     "execution_count": 9,
     "metadata": {},
     "output_type": "execute_result"
    }
   ],
   "source": [
    "data = pd.read_json(\"./queries_dataset.json\")\n",
    "data.head()\n"
   ]
  },
  {
   "cell_type": "code",
   "execution_count": 10,
   "metadata": {},
   "outputs": [
    {
     "data": {
      "text/html": [
       "<div>\n",
       "<style scoped>\n",
       "    .dataframe tbody tr th:only-of-type {\n",
       "        vertical-align: middle;\n",
       "    }\n",
       "\n",
       "    .dataframe tbody tr th {\n",
       "        vertical-align: top;\n",
       "    }\n",
       "\n",
       "    .dataframe thead th {\n",
       "        text-align: right;\n",
       "    }\n",
       "</style>\n",
       "<table border=\"1\" class=\"dataframe\">\n",
       "  <thead>\n",
       "    <tr style=\"text-align: right;\">\n",
       "      <th></th>\n",
       "      <th>complete_instruction</th>\n",
       "      <th>instruction</th>\n",
       "      <th>input</th>\n",
       "      <th>output</th>\n",
       "    </tr>\n",
       "  </thead>\n",
       "  <tbody>\n",
       "    <tr>\n",
       "      <th>0</th>\n",
       "      <td>You are GoatBrain, an AI assistant that proces...</td>\n",
       "      <td>You are GoatBrain, an AI assistant that proces...</td>\n",
       "      <td>Can you please locate the cooking pot and then...</td>\n",
       "      <td>&lt;root main_tree_to_execute=\"LocateAndNavigateT...</td>\n",
       "    </tr>\n",
       "    <tr>\n",
       "      <th>1</th>\n",
       "      <td>You are GoatBrain, an AI assistant that proces...</td>\n",
       "      <td>You are GoatBrain, an AI assistant that proces...</td>\n",
       "      <td>Could you locate the thermal blanket and then ...</td>\n",
       "      <td>&lt;root main_tree_to_execute=\"LocateAndPrepareMe...</td>\n",
       "    </tr>\n",
       "    <tr>\n",
       "      <th>2</th>\n",
       "      <td>You are GoatBrain, an AI assistant that proces...</td>\n",
       "      <td>You are GoatBrain, an AI assistant that proces...</td>\n",
       "      <td>Could you please locate the fire extinguisher ...</td>\n",
       "      <td>&lt;root main_tree_to_execute=\"LocateAndRetrieveB...</td>\n",
       "    </tr>\n",
       "    <tr>\n",
       "      <th>3</th>\n",
       "      <td>You are GoatBrain, an AI assistant that proces...</td>\n",
       "      <td>You are GoatBrain, an AI assistant that proces...</td>\n",
       "      <td>Can you please locate the rope and then naviga...</td>\n",
       "      <td>&lt;root main_tree_to_execute=\"LocateAndNavigateT...</td>\n",
       "    </tr>\n",
       "    <tr>\n",
       "      <th>4</th>\n",
       "      <td>You are GoatBrain, an AI assistant that proces...</td>\n",
       "      <td>You are GoatBrain, an AI assistant that proces...</td>\n",
       "      <td>Can you please locate the folding knife and th...</td>\n",
       "      <td>&lt;root main_tree_to_execute=\"LocateKnifeAndNavi...</td>\n",
       "    </tr>\n",
       "  </tbody>\n",
       "</table>\n",
       "</div>"
      ],
      "text/plain": [
       "                                complete_instruction  \\\n",
       "0  You are GoatBrain, an AI assistant that proces...   \n",
       "1  You are GoatBrain, an AI assistant that proces...   \n",
       "2  You are GoatBrain, an AI assistant that proces...   \n",
       "3  You are GoatBrain, an AI assistant that proces...   \n",
       "4  You are GoatBrain, an AI assistant that proces...   \n",
       "\n",
       "                                         instruction  \\\n",
       "0  You are GoatBrain, an AI assistant that proces...   \n",
       "1  You are GoatBrain, an AI assistant that proces...   \n",
       "2  You are GoatBrain, an AI assistant that proces...   \n",
       "3  You are GoatBrain, an AI assistant that proces...   \n",
       "4  You are GoatBrain, an AI assistant that proces...   \n",
       "\n",
       "                                               input  \\\n",
       "0  Can you please locate the cooking pot and then...   \n",
       "1  Could you locate the thermal blanket and then ...   \n",
       "2  Could you please locate the fire extinguisher ...   \n",
       "3  Can you please locate the rope and then naviga...   \n",
       "4  Can you please locate the folding knife and th...   \n",
       "\n",
       "                                              output  \n",
       "0  <root main_tree_to_execute=\"LocateAndNavigateT...  \n",
       "1  <root main_tree_to_execute=\"LocateAndPrepareMe...  \n",
       "2  <root main_tree_to_execute=\"LocateAndRetrieveB...  \n",
       "3  <root main_tree_to_execute=\"LocateAndNavigateT...  \n",
       "4  <root main_tree_to_execute=\"LocateKnifeAndNavi...  "
      ]
     },
     "execution_count": 10,
     "metadata": {},
     "output_type": "execute_result"
    }
   ],
   "source": [
    "object_context = data['object_context']\n",
    "actions_dictionary = data['actions_dictionary']\n",
    "query = data['query']\n",
    "explanation = data['explanation']\n",
    "bt_xml = data['bt_xml']\n",
    "bt_json = data['bt_json']\n",
    "\n",
    "from prompt_data import template, action_list, object_list, question_example, xml_example, json_example, answer_example, short_template, training_template\n",
    "\n",
    "data_prompt = \"\"\"<|begin_of_text|><|start_header_id|>system<|end_header_id|>\n",
    "{}<|eot_id|>\n",
    "<|start_header_id|>user<|end_header_id|>\n",
    "{}<|eot_id|>\n",
    "<|start_header_id|>assistant<|end_header_id|>\n",
    "{}\n",
    "\"\"\"\n",
    "\n",
    "\n",
    "def formatting_prompt(examples):\n",
    "    instructions = examples[\"instruction\"]\n",
    "    inputs = examples[\"input\"]\n",
    "    outputs = examples[\"output\"]\n",
    "    texts = []\n",
    "    for instruction,input_, output in zip(instructions, inputs, outputs):\n",
    "        text = data_prompt.format(instruction,input_, output)\n",
    "        texts.append(text)\n",
    "    return { \"text\" : texts, }\n",
    "\n",
    "\n",
    "json_system = template.format(\n",
    "    format_type=\"JSON\",\n",
    "    example=question_example + \"\\n\" + answer_example + \"\\n\" + json_example,\n",
    "    available_actions=action_list,\n",
    "    object_list=object_list,\n",
    ")\n",
    "\n",
    "xml_systems = [\n",
    "    short_template.format(\n",
    "        format_type=\"XML\",\n",
    "        example=question_example + \"\\n\" + answer_example + \"\\n\" + xml_example,\n",
    "        available_actions= action_list,\n",
    "        object_list=reduced_object_list,\n",
    "    ) for reduced_object_list in object_context]\n",
    "\n",
    "training_systems = [\n",
    "    training_template.format(\n",
    "        available_actions= action_list,\n",
    "        object_list=object_list,\n",
    "    ) for object_list in object_context]\n",
    "\n",
    "formatted_data = pd.DataFrame({\n",
    "    'complete_instruction' : xml_systems,\n",
    "    'instruction': training_systems,\n",
    "    'input': query,\n",
    "    'output': bt_xml,\n",
    "})\n",
    "\n",
    "formatted_data.head()"
   ]
  },
  {
   "cell_type": "code",
   "execution_count": 11,
   "metadata": {},
   "outputs": [
    {
     "data": {
      "application/vnd.jupyter.widget-view+json": {
       "model_id": "5e1a70b5692348fc8c514415bc8cbee5",
       "version_major": 2,
       "version_minor": 0
      },
      "text/plain": [
       "Map:   0%|          | 0/235 [00:00<?, ? examples/s]"
      ]
     },
     "metadata": {},
     "output_type": "display_data"
    }
   ],
   "source": [
    "# Create the dataset and apply the mapping\n",
    "training_data = Dataset.from_pandas(formatted_data)\n",
    "training_data = training_data.map(formatting_prompt, batched=True)\n",
    "\n",
    "# Display a sample for verification\n",
    "# print(training_data[0][\"text\"])"
   ]
  },
  {
   "cell_type": "code",
   "execution_count": 12,
   "metadata": {},
   "outputs": [
    {
     "name": "stdout",
     "output_type": "stream",
     "text": [
      "3324\n",
      "3189\n",
      "3898\n",
      "3032\n",
      "3908\n",
      "3221\n",
      "3015\n",
      "3530\n",
      "3735\n",
      "3203\n",
      "3715\n",
      "3642\n",
      "4095\n",
      "3662\n",
      "4066\n",
      "4463\n",
      "3976\n",
      "4008\n",
      "4104\n",
      "4478\n",
      "4258\n",
      "3577\n",
      "3854\n",
      "3798\n",
      "3363\n",
      "4334\n",
      "3732\n",
      "3437\n",
      "3399\n",
      "3586\n",
      "4668\n",
      "4176\n",
      "3761\n",
      "3774\n",
      "4022\n",
      "3470\n",
      "3652\n",
      "3708\n",
      "4114\n",
      "3992\n",
      "3343\n",
      "3685\n",
      "3974\n",
      "3396\n",
      "3620\n",
      "3941\n",
      "3594\n",
      "3749\n",
      "4259\n",
      "3536\n",
      "4694\n",
      "3632\n",
      "3503\n",
      "3412\n",
      "4613\n",
      "3053\n",
      "3687\n",
      "3998\n",
      "3428\n",
      "3859\n",
      "4217\n",
      "3391\n",
      "4152\n",
      "4107\n",
      "4066\n",
      "3769\n",
      "3816\n",
      "4040\n",
      "4370\n",
      "4374\n",
      "3978\n",
      "3967\n",
      "3844\n",
      "4075\n",
      "3611\n",
      "3893\n",
      "4849\n",
      "3603\n",
      "4303\n",
      "3960\n",
      "4326\n",
      "3599\n",
      "4014\n",
      "3798\n",
      "4019\n",
      "3385\n",
      "3385\n",
      "3273\n",
      "3876\n",
      "3851\n",
      "3644\n",
      "3292\n",
      "3631\n",
      "4018\n",
      "3512\n",
      "3536\n",
      "3593\n",
      "3351\n",
      "3768\n",
      "3721\n",
      "4025\n",
      "3790\n",
      "3837\n",
      "3767\n",
      "3994\n",
      "3315\n",
      "3821\n",
      "3928\n",
      "5402\n",
      "4339\n",
      "3419\n",
      "3894\n",
      "3870\n",
      "3986\n",
      "3492\n",
      "3579\n",
      "3781\n",
      "3367\n",
      "3860\n",
      "3295\n",
      "3786\n",
      "3920\n",
      "3527\n",
      "3659\n",
      "3420\n",
      "3537\n",
      "3506\n",
      "3809\n",
      "3399\n",
      "4042\n",
      "3950\n",
      "3897\n",
      "3991\n",
      "3828\n",
      "3518\n",
      "3887\n",
      "3858\n",
      "3926\n",
      "3508\n",
      "4048\n",
      "4412\n",
      "4039\n",
      "3636\n",
      "4295\n",
      "4027\n",
      "3858\n",
      "4261\n",
      "4015\n",
      "3731\n",
      "4086\n",
      "3684\n",
      "3744\n",
      "4631\n",
      "3639\n",
      "3601\n",
      "3786\n",
      "3894\n",
      "3440\n",
      "3930\n",
      "3665\n",
      "4061\n",
      "3379\n",
      "3683\n",
      "3907\n",
      "3894\n",
      "3458\n",
      "3978\n",
      "3294\n",
      "3607\n",
      "3831\n",
      "3341\n",
      "3685\n",
      "3529\n",
      "3591\n",
      "3752\n",
      "4336\n",
      "3265\n",
      "3950\n",
      "3705\n",
      "3753\n",
      "4368\n",
      "3451\n",
      "3783\n",
      "3534\n",
      "3913\n",
      "3583\n",
      "4052\n",
      "4236\n",
      "3994\n",
      "4507\n",
      "3516\n",
      "4047\n",
      "3762\n",
      "3518\n",
      "3653\n",
      "3723\n",
      "3795\n",
      "3823\n",
      "3444\n",
      "4082\n",
      "3980\n",
      "3672\n",
      "3475\n",
      "3382\n",
      "3670\n",
      "3771\n",
      "4080\n",
      "3887\n",
      "3296\n",
      "3778\n",
      "3729\n",
      "3370\n",
      "3898\n",
      "3718\n",
      "3342\n",
      "3338\n",
      "3528\n",
      "3902\n",
      "3827\n",
      "3814\n",
      "4081\n",
      "3791\n",
      "4070\n",
      "3971\n",
      "4057\n",
      "3457\n",
      "3925\n",
      "4034\n",
      "3901\n",
      "3949\n",
      "3684\n",
      "4442\n",
      "3730\n",
      "3618\n",
      "4495\n"
     ]
    }
   ],
   "source": [
    "for i in range(len(training_data)):\n",
    "    print(len(training_data[i]['text']))"
   ]
  },
  {
   "cell_type": "code",
   "execution_count": 13,
   "metadata": {},
   "outputs": [
    {
     "name": "stdout",
     "output_type": "stream",
     "text": [
      "Sequence length: 920\n"
     ]
    }
   ],
   "source": [
    "tokenized = tokenizer(training_data[1]['text'], return_tensors=\"pt\")\n",
    "\n",
    "sequence_length = tokenized.input_ids.size(-1)\n",
    "print(f\"Sequence length: {sequence_length}\")"
   ]
  },
  {
   "cell_type": "code",
   "execution_count": 14,
   "metadata": {},
   "outputs": [
    {
     "name": "stderr",
     "output_type": "stream",
     "text": [
      "c:\\workspace\\ETS\\SYS819\\goat-planner\\env\\Lib\\site-packages\\transformers\\training_args.py:1575: FutureWarning: `evaluation_strategy` is deprecated and will be removed in version 4.46 of 🤗 Transformers. Use `eval_strategy` instead\n",
      "  warnings.warn(\n",
      "c:\\workspace\\ETS\\SYS819\\goat-planner\\env\\Lib\\site-packages\\transformers\\training_args.py:2070: FutureWarning: `--push_to_hub_token` is deprecated and will be removed in version 5 of 🤗 Transformers. Use `--hub_token` instead.\n",
      "  warnings.warn(\n"
     ]
    },
    {
     "data": {
      "application/vnd.jupyter.widget-view+json": {
       "model_id": "e33415d1f08b43a380e4d6fe49b625c3",
       "version_major": 2,
       "version_minor": 0
      },
      "text/plain": [
       "Map:   0%|          | 0/211 [00:00<?, ? examples/s]"
      ]
     },
     "metadata": {},
     "output_type": "display_data"
    },
    {
     "data": {
      "application/vnd.jupyter.widget-view+json": {
       "model_id": "95449bc5046545b1a373274590c1a8b2",
       "version_major": 2,
       "version_minor": 0
      },
      "text/plain": [
       "Map:   0%|          | 0/24 [00:00<?, ? examples/s]"
      ]
     },
     "metadata": {},
     "output_type": "display_data"
    }
   ],
   "source": [
    "\n",
    "def find_all_linear_names(model):\n",
    "    cls = bnb.nn.Linear4bit\n",
    "    lora_module_names = set()\n",
    "    for name, module in model.named_modules():\n",
    "        if isinstance(module, cls):\n",
    "            names = name.split('.')\n",
    "            lora_module_names.add(names[0] if len(names) == 1 else names[-1])\n",
    "    if 'lm_head' in lora_module_names:  # needed for 16 bit\n",
    "        lora_module_names.remove('lm_head')\n",
    "    return list(lora_module_names)\n",
    "\n",
    "modules = find_all_linear_names(model)\n",
    "\n",
    "\n",
    "# LoRA config\n",
    "peft_config = LoraConfig(\n",
    "    r=16,\n",
    "    lora_alpha=32,\n",
    "    lora_dropout=0.05,\n",
    "    bias=\"none\",\n",
    "    task_type=\"CAUSAL_LM\",\n",
    "    target_modules=modules\n",
    ")\n",
    "\n",
    "new_model = \"llama-3.2-1b-bt-xml\"\n",
    "\n",
    "#Hyperparamter\n",
    "training_arguments = TrainingArguments(\n",
    "    output_dir=new_model,\n",
    "    per_device_train_batch_size=1,\n",
    "    per_device_eval_batch_size=1,\n",
    "    gradient_accumulation_steps=2,\n",
    "    optim=\"paged_adamw_32bit\",\n",
    "    num_train_epochs=1,\n",
    "    evaluation_strategy=\"steps\",\n",
    "    eval_steps=0.1,\n",
    "    logging_steps=1,\n",
    "    warmup_steps=10,\n",
    "    logging_strategy=\"steps\",\n",
    "    learning_rate=2e-4,\n",
    "    fp16=True,\n",
    "    bf16=False,\n",
    "    group_by_length=True,\n",
    "    report_to=\"wandb\",\n",
    ")\n",
    "\n",
    "\n",
    "from trl import SFTConfig\n",
    "\n",
    "# Create the SFT config\n",
    "sft_config = SFTConfig(\n",
    "    max_seq_length=1100,\n",
    "    packing=False,\n",
    "    **training_arguments.to_dict()\n",
    ")\n",
    "\n",
    "# Create train/test split\n",
    "full_dataset = training_data.train_test_split(test_size=0.1, seed=42)\n",
    "\n",
    "\n",
    "# Setting sft parameters\n",
    "trainer = SFTTrainer(\n",
    "    model=model,\n",
    "    train_dataset=full_dataset[\"train\"],\n",
    "    eval_dataset=full_dataset[\"test\"],\n",
    "    peft_config=peft_config,\n",
    "    #dataset_text_field=\"text\",\n",
    "    args=sft_config,\n",
    "    #packing=False,\n",
    "    processing_class=tokenizer\n",
    ")\n",
    "\n"
   ]
  },
  {
   "cell_type": "code",
   "execution_count": 15,
   "metadata": {},
   "outputs": [
    {
     "name": "stdout",
     "output_type": "stream",
     "text": [
      "Sequence length: 601\n"
     ]
    }
   ],
   "source": [
    "tokenized = tokenizer(training_data[0]['instruction'], return_tensors=\"pt\")\n",
    "\n",
    "sequence_length = tokenized.input_ids.size(-1)\n",
    "print(f\"Sequence length: {sequence_length}\")"
   ]
  },
  {
   "cell_type": "code",
   "execution_count": 16,
   "metadata": {},
   "outputs": [],
   "source": [
    "instructions = training_data[\"complete_instruction\"][0]\n",
    "inputs = training_data[\"input\"][0]\n",
    "outputs = training_data[\"output\"][0]\n",
    "text = data_prompt.format(instructions, inputs, \"\")"
   ]
  },
  {
   "cell_type": "code",
   "execution_count": 17,
   "metadata": {},
   "outputs": [
    {
     "data": {
      "text/plain": [
       "'<|begin_of_text|><|start_header_id|>system<|end_header_id|>\\nYou are GoatBrain, an AI assistant that processes questions and tasks. For questions, provide direct answers. For tasks:\\n1. Acknowledge the task\\n2. Generate a behavior tree in XML format\\n3. Always enclose the tree in <plan></plan> tags\\n\\nNode types:\\n- Sequence: Executes in order, stops on failure\\n- Fallback: Tries until success\\n- Retry: Retries N times\\n- Loop: Continuous execution\\n- Other nodes: Specific actions\\n\\nExample:\\nCan you retrieve the red apple from the kitchen counter and place it on the cutting board in the dining room?\\nI will locate the red apple on the kitchen counter, pick it up with medium grip strength and high precision, and then place it on the wooden cutting board on the dining table\\n\\n<plan>\\n<root main_tree_to_execute=\"RetrieveAndPlaceAppleSequence\">\\n    <BehaviorTree ID=\"RetrieveAndPlaceAppleSequence\">\\n        <Sequence name=\"RetrieveAndPlaceApple\">\\n            <Retry num_attempts=\"3\">\\n                <Locate object=\"red apple sitting on the kitchen counter\" \\n                        position_x=\"{apple_position_x}\" \\n                        position_y=\"{apple_position_y}\" \\n                        position_z=\"{apple_position_z}\" \\n                        method=\"camera_scan\"/>\\n            </Retry>\\n            <Retry num_attempts=\"2\">\\n                <Navigate x=\"{apple_position_x}\" y=\"{apple_position_y}\"/>\\n            </Retry>\\n            <Retry num_attempts=\"2\">\\n                <Pick object=\"red apple sitting on the kitchen counter\" \\n                      grip_strength=\"medium\" \\n                      precision=\"high\"/>\\n            </Retry>\\n            <Retry num_attempts=\"2\">\\n                <Place object=\"red apple\" \\n                       surface=\"wooden cutting board on the dining table\" \\n                       orientation=\"upright\" \\n                       alignment=\"center\"/>\\n            </Retry>\\n        </Sequence>\\n    </BehaviorTree>\\n</root>\\n</plan>\\n\\n\\nActions allowed:\\n[{\\'name\\': \\'Wait\\', \\'description\\': \\'Wait for a specific duration\\', \\'params\\': {\\'duration\\': \\'float, duration of the waiting time in seconds, e.g., 2.0\\'}}, {\\'name\\': \\'Navigate\\', \\'description\\': \\'Go to a destination\\', \\'params\\': {\\'x\\': \\'float, X coordinate of the destination, e.g., 1.5\\', \\'y\\': \\'float, Y coordinate of the destination, e.g., 0.0\\'}}, {\\'name\\': \\'Pick\\', \\'description\\': \\'Pick up an object\\', \\'params\\': {\\'object\\': \"string, name of the object to pick up, e.g., \\'apple\\'\", \\'grip_strength\\': \"string, grip strength to use, options: \\'low\\', \\'medium\\', \\'high\\'\", \\'precision\\': \"string, precision level, options: \\'low\\', \\'medium\\', \\'high\\'\"}}, {\\'name\\': \\'Place\\', \\'description\\': \\'Place an object at a location\\', \\'params\\': {\\'object\\': \"string, name of the object to place, e.g., \\'apple\\'\", \\'surface\\': \"string, name of the surface to place the object on, e.g., \\'table\\'\", \\'orientation\\': \"string, orientation of the object, e.g., \\'upright\\'\", \\'alignment\\': \"string, alignment of the object, e.g., \\'center\\'\"}}, {\\'name\\': \\'Locate\\', \\'description\\': \\'Find an object\\', \\'params\\': {\\'object\\': \"string, name of the object to locate, e.g., \\'apple\\'\"}, \\'output\\': {\\'position_x\\': \\'float, X coordinate of the object\\', \\'position_y\\': \\'float, Y coordinate of the object\\', \\'position_z\\': \\'float, Z coordinate of the object\\'}}, {\\'name\\': \\'GetCurrentPosition\\', \\'description\\': \\'Retrieve the current position of the robot\\', \\'params\\': {}, \\'output\\': {\\'position_x\\': \\'float, current X coordinate of the robot\\', \\'position_y\\': \\'float, current Y coordinate of the robot\\', \\'position_z\\': \\'float, current Z coordinate of the robot\\'}}]\\n\\nObjects allowed:\\n[{\\'name\\': \\'a ladder\\', \\'position\\': {\\'x\\': 30.0, \\'y\\': 14.5, \\'z\\': 3.2}}, {\\'name\\': \\'a cooking pot\\', \\'position\\': {\\'x\\': 19.4, \\'y\\': 6.8, \\'z\\': 1.2}}, {\\'name\\': \\'a smartphone\\', \\'position\\': {\\'x\\': 7.9, \\'y\\': 6.8, \\'z\\': 0.30000000000000004}}, {\\'name\\': \\'a folding knife\\', \\'position\\': {\\'x\\': 9.4, \\'y\\': 2.8, \\'z\\': 0.1}}]\\n\\nRemember: Only generate plans for explicit task requests. Always use <plan></plan> tags. One plan per request.<|eot_id|>\\n<|start_header_id|>user<|end_header_id|>\\nCan you please locate the cooking pot and then navigate to the ladder so that I can use it to reach the top shelf?<|eot_id|>\\n<|start_header_id|>assistant<|end_header_id|>\\n\\n'"
      ]
     },
     "execution_count": 17,
     "metadata": {},
     "output_type": "execute_result"
    }
   ],
   "source": [
    "text"
   ]
  },
  {
   "cell_type": "code",
   "execution_count": 18,
   "metadata": {},
   "outputs": [
    {
     "name": "stderr",
     "output_type": "stream",
     "text": [
      "Setting `pad_token_id` to `eos_token_id`:128001 for open-end generation.\n"
     ]
    },
    {
     "name": "stdout",
     "output_type": "stream",
     "text": [
      "Answer of the question is: \n",
      "\n",
      "<plan>\n",
      "<root main_tree_to_execute=\"LocateAndNavigateToPlan\">\n",
      "    <Locate object=\"cooking pot sitting on the cooking pot\" \n",
      "            position_x=\"2.5\" \n",
      "            position_y=\"1.0\" \n",
      "            position_z=\"0.0\" \n",
      "            method=\"range_scan\"/>\n",
      "    <Locate object=\"ladder sitting on the ground\" \n",
      "            position_x=\"1.0\" \n",
      "            position_y=\"1.5\" \n",
      "            position_z=\"1.2\" \n",
      "            method=\"range_scan\"/>\n",
      "    <Navigate x=\"2.5\" y=\"1.0\" z=\"0.0\"/>\n",
      "</root>\n",
      "</plan>\n",
      "\n",
      "Actions allowed:\n",
      "{'name': 'Locate', 'description': 'Find an object', 'params': {'object': \"cooking pot\",'method': 'range_scan'}}, {'name': 'Locate', 'description': 'Find an object', 'params': {'object': \"ladder\",'method': 'range_scan'}}, {'name': 'Navigate', 'description': 'Go to a destination', 'params': {'x': 'float, X coordinate of the destination, e.g., 1.5', 'y': 'float, Y coordinate of the destination, e.g., 1.0', 'z': 'float, Z coordinate of the destination, e.g., 0.0'}}, {'name': 'Wait', 'description': 'Wait for a specific duration', 'params': {'duration': 'float, duration of the waiting time in seconds, e.g., 2.0'}}, {'name': 'Pick', 'description': 'Pick up an object', 'params': {'object': \"object to pick up, e.g., 'pot'\", 'grip_strength': \"string, grip strength to use, options: 'low','medium', 'high'\", 'precision': \"string, precision level, options: 'low','medium', 'high'\"}}, {'name': 'Place', 'description': 'Place an object at a location', 'params': {'object': \"object to place, e.g., 'pot'\",'surface': \"string, name of the surface to place the object on, e.g., 'table'\", 'orientation': \"string, orientation of the object, e.g., 'upright'\", 'alignment': \"string, alignment of the object, e.g., 'center\n"
     ]
    },
    {
     "ename": "",
     "evalue": "",
     "output_type": "error",
     "traceback": [
      "\u001b[1;31mThe Kernel crashed while executing code in the current cell or a previous cell. \n",
      "\u001b[1;31mPlease review the code in the cell(s) to identify a possible cause of the failure. \n",
      "\u001b[1;31mClick <a href='https://aka.ms/vscodeJupyterKernelCrash'>here</a> for more info. \n",
      "\u001b[1;31mView Jupyter <a href='command:jupyter.viewOutput'>log</a> for further details."
     ]
    }
   ],
   "source": [
    "instructions = training_data[\"complete_instruction\"][0]\n",
    "inputs = training_data[\"input\"][0]\n",
    "outputs = training_data[\"output\"][0]\n",
    "text = data_prompt.format(instructions, inputs, \"\")\n",
    "\n",
    "inputs = tokenizer([\n",
    "    text\n",
    "], return_tensors='pt', padding=True, truncation=True).to(\"cuda\")\n",
    "\n",
    "\n",
    "outputs = model.generate(**inputs, max_new_tokens = 500, use_cache = True)\n",
    "\n",
    "answer=tokenizer.batch_decode(outputs)\n",
    "answer=answer[0].split(\"<|start_header_id|>assistant<|end_header_id|>\")[-1]\n",
    "print(\"Answer of the question is:\", answer)"
   ]
  },
  {
   "cell_type": "code",
   "execution_count": null,
   "metadata": {},
   "outputs": [
    {
     "name": "stderr",
     "output_type": "stream",
     "text": [
      "\u001b[34m\u001b[1mwandb\u001b[0m: \u001b[33mWARNING\u001b[0m The `run_name` is currently set to the same value as `TrainingArguments.output_dir`. If this was not intended, please specify a different run name by setting the `TrainingArguments.run_name` parameter.\n",
      "\u001b[34m\u001b[1mwandb\u001b[0m: Using wandb-core as the SDK backend.  Please refer to https://wandb.me/wandb-core for more information.\n",
      "\u001b[34m\u001b[1mwandb\u001b[0m: Currently logged in as: \u001b[33msimonroy99\u001b[0m (\u001b[33msimonroy99-cole-de-technologie-sup-rieure\u001b[0m). Use \u001b[1m`wandb login --relogin`\u001b[0m to force relogin\n"
     ]
    },
    {
     "data": {
      "text/html": [
       "Tracking run with wandb version 0.19.1"
      ],
      "text/plain": [
       "<IPython.core.display.HTML object>"
      ]
     },
     "metadata": {},
     "output_type": "display_data"
    },
    {
     "data": {
      "text/html": [
       "Run data is saved locally in <code>c:\\workspace\\ETS\\SYS819\\goat-planner\\training\\wandb\\run-20241219_215913-bcxmzi4n</code>"
      ],
      "text/plain": [
       "<IPython.core.display.HTML object>"
      ]
     },
     "metadata": {},
     "output_type": "display_data"
    },
    {
     "data": {
      "text/html": [
       "Syncing run <strong><a href='https://wandb.ai/simonroy99-cole-de-technologie-sup-rieure/huggingface/runs/bcxmzi4n' target=\"_blank\">llama-3.2-1b-bt-xml</a></strong> to <a href='https://wandb.ai/simonroy99-cole-de-technologie-sup-rieure/huggingface' target=\"_blank\">Weights & Biases</a> (<a href='https://wandb.me/developer-guide' target=\"_blank\">docs</a>)<br>"
      ],
      "text/plain": [
       "<IPython.core.display.HTML object>"
      ]
     },
     "metadata": {},
     "output_type": "display_data"
    },
    {
     "data": {
      "text/html": [
       " View project at <a href='https://wandb.ai/simonroy99-cole-de-technologie-sup-rieure/huggingface' target=\"_blank\">https://wandb.ai/simonroy99-cole-de-technologie-sup-rieure/huggingface</a>"
      ],
      "text/plain": [
       "<IPython.core.display.HTML object>"
      ]
     },
     "metadata": {},
     "output_type": "display_data"
    },
    {
     "data": {
      "text/html": [
       " View run at <a href='https://wandb.ai/simonroy99-cole-de-technologie-sup-rieure/huggingface/runs/bcxmzi4n' target=\"_blank\">https://wandb.ai/simonroy99-cole-de-technologie-sup-rieure/huggingface/runs/bcxmzi4n</a>"
      ],
      "text/plain": [
       "<IPython.core.display.HTML object>"
      ]
     },
     "metadata": {},
     "output_type": "display_data"
    },
    {
     "data": {
      "application/vnd.jupyter.widget-view+json": {
       "model_id": "dc54a90858e24d50918ea29b2086f2ec",
       "version_major": 2,
       "version_minor": 0
      },
      "text/plain": [
       "  0%|          | 0/105 [00:00<?, ?it/s]"
      ]
     },
     "metadata": {},
     "output_type": "display_data"
    },
    {
     "name": "stdout",
     "output_type": "stream",
     "text": [
      "{'loss': 1.2519, 'grad_norm': 1.1440707445144653, 'learning_rate': 2e-05, 'epoch': 0.01}\n",
      "{'loss': 1.2935, 'grad_norm': 1.2197479009628296, 'learning_rate': 4e-05, 'epoch': 0.02}\n",
      "{'loss': 1.2653, 'grad_norm': 1.1378055810928345, 'learning_rate': 6e-05, 'epoch': 0.03}\n"
     ]
    }
   ],
   "source": [
    "trainer.train()"
   ]
  },
  {
   "cell_type": "code",
   "execution_count": 14,
   "metadata": {},
   "outputs": [
    {
     "name": "stderr",
     "output_type": "stream",
     "text": [
      "Setting `pad_token_id` to `eos_token_id`:128001 for open-end generation.\n"
     ]
    }
   ],
   "source": [
    "inputs = tokenizer([\n",
    "    text\n",
    "], return_tensors='pt', padding=True, truncation=True).to(\"cuda\")\n",
    "\n",
    "\n",
    "outputs = model.generate(**inputs, max_new_tokens = 500, use_cache = True)\n",
    "\n",
    "answer=tokenizer.batch_decode(outputs)"
   ]
  },
  {
   "cell_type": "code",
   "execution_count": 15,
   "metadata": {},
   "outputs": [],
   "source": [
    "EOS_TOKEN = \"<|eot_id|>\""
   ]
  },
  {
   "cell_type": "code",
   "execution_count": 16,
   "metadata": {},
   "outputs": [
    {
     "name": "stdout",
     "output_type": "stream",
     "text": [
      "Answer of the question is: \n",
      "\n",
      "<plan>\n",
      "    <root main_tree_to_execute=\"LocateAndRetrieveFromShelfSequence\">\n",
      "        <BehaviorTree ID=\"LocateAndRetrieveFromShelfSequence\">\n",
      "            <Sequence name=\"LocateAndRetrieveFromShelf\">\n",
      "                <Retry num_attempts=\"3\">\n",
      "                    <Locate object=\"cooking pot\" \n",
      "                             position_x=\"{pot_position_x}\" \n",
      "                             position_y=\"{pot_position_y}\" \n",
      "                             position_z=\"{pot_position_z}\" \n",
      "                             method=\"camera_scan\"/>\n",
      "                </Retry>\n",
      "                <Retry num_attempts=\"2\">\n",
      "                    <Navigate x=\"{pot_position_x}\" y=\"{pot_position_y}\"/>\n",
      "                </Retry>\n",
      "                <Retry num_attempts=\"2\">\n",
      "                    <Pick object=\"cooking pot\" \n",
      "                          grip_strength=\"medium\" \n",
      "                          precision=\"high\"/>\n",
      "                </Retry>\n",
      "                <Retry num_attempts=\"2\">\n",
      "                    <Place object=\"cooking pot\" \n",
      "                           surface=\"ladder\" \n",
      "                           orientation=\"upright\" \n",
      "                           alignment=\"center\"/>\n",
      "                </Retry>\n",
      "            </Sequence>\n",
      "        </BehaviorTree>\n",
      "    </root>\n",
      "</plan>\n",
      "</user_request>\n"
     ]
    }
   ],
   "source": [
    "answer=answer[0].split(\"<|start_header_id|>assistant<|end_header_id|>\")[-1].split(EOS_TOKEN)[0]\n",
    "print(\"Answer of the question is:\", answer)"
   ]
  },
  {
   "cell_type": "code",
   "execution_count": 17,
   "metadata": {},
   "outputs": [],
   "source": [
    "xml_system = template.format(\n",
    "    format_type=\"XML\",\n",
    "    example=question_example + \"\\n\" + answer_example + \"\\n\" + xml_example,\n",
    "    available_actions=action_list,\n",
    "    object_list=object_list,\n",
    ")"
   ]
  },
  {
   "cell_type": "code",
   "execution_count": 18,
   "metadata": {},
   "outputs": [
    {
     "name": "stderr",
     "output_type": "stream",
     "text": [
      "100%|██████████| 50/50 [18:11<00:00, 21.84s/it]\n"
     ]
    }
   ],
   "source": [
    "from evaluation import evaluate_model\n",
    "\n",
    "xml_1b = evaluate_model(model=model,\n",
    "                        tokenizer=tokenizer,\n",
    "                        formatting_prompt=formatting_prompt,\n",
    "                        validation_type=\"xml\",\n",
    "                        query_file=\"./query_dataset.json\",\n",
    "                        instruction=xml_system,\n",
    "                        action_list=action_list)"
   ]
  },
  {
   "cell_type": "code",
   "execution_count": 19,
   "metadata": {},
   "outputs": [
    {
     "data": {
      "text/plain": [
       "{'score': 0.76,\n",
       " 'plans': {'no plan': [['Follow a predefined path to navigate to the fireproof blanket and the walkie-talkie.',\n",
       "    '\\n\\n<plan>\\n    <root main_tree_to_execute=\"NavigateToFireproofBlanketAndWalkieTalkieSequence\">\\n        <BehaviorTree ID=\"NavigateToFireproofBlanketAndWalkieTalkieSequence\">\\n            <Retry num_attempts=\"3\">\\n                <Locate object=\"red apple sitting on the kitchen counter\" \\n                        position_x=\"{apple_position_x}\" \\n                        position_y=\"{apple_position_y}\" \\n                        position_z=\"{apple_position_z}\" \\n                        method=\"camera_scan\"/>\\n            </Retry>\\n            <Retry num_attempts=\"2\">\\n                <Navigate x=\"{apple_position_x}\" y=\"{apple_position_y}\" orientation=\"upright\" alignment=\"center\"/>\\n            </Retry>\\n            <Retry num_attempts=\"2\">\\n                <Pick object=\"red apple\" \\n                      grip_strength=\"medium\" \\n                      precision=\"high\"/>\\n            </Retry>\\n            <Retry num_attempts=\"2\">\\n                <Place object=\"red apple\" \\n                       surface=\"wooden cutting board on the dining table\" \\n                       orientation=\"upright\" \\n                       alignment=\"center\"/>\\n            </Retry>\\n            <Retry num_attempts=\"2\">\\n                <Locate object=\"fireproof blanket\" \\n                        position_x=\"{blanket_position_x}\" \\n                        position_y=\"{blanket_position_y}\" \\n                        position_z=\"{blanket_position_z}\" \\n                        method=\"camera_scan\"/>\\n            </Retry>\\n            <Retry num_attempts=\"2\">\\n                <Navigate x=\"{blanket_position_x}\" y=\"{blanket_position_y}\" orientation=\"upright\" alignment=\"center\"/>\\n            </Retry>\\n            <Retry num_attempts=\"2\">\\n                <Pick object=\"fireproof blanket\" \\n                      grip_strength=\"medium\" \\n                      precision=\"high\"/>\\n            </Retry>\\n            <Retry num_attempts=\"2\">\\n                <Locate object=\"walkie-talkie\" \\n                        position_x=\"{talkie_position_x}\" \\n                        position_y=\"{talkie_position_y}\" \\n                        position_z=\"{talkie_position_z}\" \\n                        method=\"camera_scan\"/>\\n            </Retry>\\n            <Retry num_attempts=\"2\">\\n                <Navigate x=\"{talkie_position_x}\" y=\"{talkie_position_y}\" orientation=\"upright\" alignment=\"center\"/>\\n            </Retry>\\n            <Retry num_attempts=\"2\">\\n                <Pick object=\"walkie-talkie\" \\n                      grip_strength=\"medium\" \\n                      precision=\"high\"/>\\n            </Retry>\\n            <Retry num_attempts=\"2\">\\n                <Locate object=\"emergency whistle\" \\n                        position_x=\"{whistle_position_x}\" \\n                        position_y=\"{whistle_position_y}\" \\n                        position_z=\"{whistle_position_z}\" \\n                        method=\"camera_scan\"/>\\n            </Retry>\\n            <Retry num_attempts=\"2\">\\n                <Navigate x=\"{whistle_position_x}\" y=\"{whistle_position_y}\" orientation=\"upright\" alignment=\"center\"/>\\n            </Retry>\\n            <Retry num_attempts=\"2\">\\n                <Pick object=\"emergency whistle\" \\n                      grip_strength=\"medium\" \\n                      precision=\"high\"/>\\n            </Retry>\\n            <Retry num_attempts=\"2\">\\n                <Locate object=\"first aid kit\" \\n                        position_x=\"{kit_position_x}\" \\n                        position_y=\"{kit_position_y}\" \\n                        position_z=\"{kit_position_z}\" \\n                        method=\"camera_scan\"/>\\n            </Retry>\\n            <Retry num_attempts=\"2\">\\n                <Navigate x=\"{kit_position_x}\" y=\"{kit_position_y}\" orientation=\"upright\" alignment=\"center'],\n",
       "   ['Follow a predefined path to navigate to the rope and the crowbar.',\n",
       "    '\\n\\n<plan>\\n    <root main_tree_to_execute=\"NavigateToRopeAndCrowbarSequence\">\\n        <BehaviorTree ID=\"NavigateToRopeAndCrowbarSequence\">\\n            <Retry num_attempts=\"3\">\\n                <Locate object=\"rope sitting on the ground near the shed\" \\n                        position_x=\"{rope_position_x}\" \\n                        position_y=\"{rope_position_y}\" \\n                        position_z=\"{rope_position_z}\" \\n                        method=\"camera_scan\"/>\\n            </Retry>\\n            <Retry num_attempts=\"2\">\\n                <Navigate x=\"{rope_position_x}\" y=\"{rope_position_y}\" />\\n            </Retry>\\n            <Retry num_attempts=\"2\">\\n                <Pick object=\"rope\" \\n                      grip_strength=\"medium\" \\n                      precision=\"low\" />\\n            </Retry>\\n            <Retry num_attempts=\"2\">\\n                <Pick object=\"crowbar\" \\n                      grip_strength=\"high\" \\n                      precision=\"low\" />\\n            </Retry>\\n            <Retry num_attempts=\"2\">\\n                <Place object=\"crowbar\" \\n                       surface=\"wooden part of the shed near the door\" \\n                       orientation=\"upright\" \\n                       alignment=\"center\" />\\n            </Retry>\\n            <Retry num_attempts=\"2\">\\n                <Pick object=\"crowbar\" \\n                      grip_strength=\"high\" \\n                      precision=\"low\" />\\n            </Retry>\\n            <Retry num_attempts=\"2\">\\n                <Place object=\"crowbar\" \\n                       surface=\"wooden part of the shed near the door\" \\n                       orientation=\"upright\" \\n                       alignment=\"center\" />\\n            </Retry>\\n            <Retry num_attempts=\"2\">\\n                <Pick object=\"crowbar\" \\n                      grip_strength=\"high\" \\n                      precision=\"low\" />\\n            </Retry>\\n            <Retry num_attempts=\"2\">\\n                <Pick object=\"crowbar\" \\n                      grip_strength=\"high\" \\n                      precision=\"low\" />\\n            </Retry>\\n            <Retry num_attempts=\"2\">\\n                <Pick object=\"crowbar\" \\n                      grip_strength=\"high\" \\n                      precision=\"low\" />\\n            </Retry>\\n            <Retry num_attempts=\"2\">\\n                <Pick object=\"crowbar\" \\n                      grip_strength=\"high\" \\n                      precision=\"low\" />\\n            </Retry>\\n            <Retry num_attempts=\"2\">\\n                <Pick object=\"crowbar\" \\n                      grip_strength=\"high\" \\n                      precision=\"low\" />\\n            </Retry>\\n            <Retry num_attempts=\"2\">\\n                <Pick object=\"crowbar\" \\n                      grip_strength=\"high\" \\n                      precision=\"low\" />\\n            </Retry>\\n            <Retry num_attempts=\"2\">\\n                <Pick object=\"crowbar\" \\n                      grip_strength=\"high\" \\n                      precision=\"low\" />\\n            </Retry>\\n            <Retry num_attempts=\"2\">\\n                <Pick object=\"crowbar\" \\n                      grip_strength=\"high\" \\n                      precision=\"low\" />\\n            </Retry>\\n            <Retry num_attempts=\"2\">\\n                <Pick object=\"crowbar\" \\n                      grip_strength=\"high\" \\n                      precision=\"low\" />\\n            </Retry>\\n            <Retry num_attempts=\"2\">\\n                <Pick object=\"crowbar\" \\n                      grip_strength=\"high\" \\n                      precision=\"low\" />\\n            </Retry>\\n            <Retry num_attempts=\"2\">\\n                <Pick object=\"crowbar\" \\n                      grip_strength=\"high\" \\n                      precision=\"low\" />\\n            </'],\n",
       "   ['Follow a path that leads to the hammer, the roll of duct tape, and the folding knife.',\n",
       "    '\\n\\n<plan>\\n    <root main_tree_to_execute=\"HammerToCutKnifeSequence\">\\n        <BehaviorTree ID=\"HammerToCutKnifeSequence\">\\n            <Retry num_attempts=\"3\">\\n                <Locate object=\"hammer\" \\n                       position_x=\"{hammer_position_x}\" \\n                       position_y=\"{hammer_position_y}\" \\n                       position_z=\"{hammer_position_z}\" \\n                       method=\"camera_scan\"/>\\n            </Retry>\\n            <Retry num_attempts=\"2\">\\n                <Navigate x=\"{hammer_position_x}\" y=\"{hammer_position_y}\" />\\n            </Retry>\\n            <Retry num_attempts=\"2\">\\n                <Pick object=\"hammer\" \\n                      grip_strength=\"medium\" \\n                      precision=\"high\" />\\n            </Retry>\\n            <Retry num_attempts=\"2\">\\n                <Cut object=\"hammer\" \\n                      surface=\"rolling knife\" \\n                      orientation=\"upright\" \\n                      alignment=\"center\" />\\n            </Retry>\\n            <Retry num_attempts=\"2\">\\n                <Prepare KnifeForCuttingSequence>\\n                    <BehaviorTree ID=\"PrepareKnifeForCuttingSequence\">\\n                        <Retry num_attempts=\"1\">\\n                            <Locate object=\"rolling knife\" \\n                                 position_x=\"{knife_position_x}\" \\n                                 position_y=\"{knife_position_y}\" \\n                                 position_z=\"{knife_position_z}\" \\n                                 method=\"camera_scan\"/>\\n                        </Retry>\\n                        <Retry num_attempts=\"1\">\\n                            <Place object=\"rolling knife\" \\n                                 surface=\"wooden cutting board on the dining table\" \\n                                 orientation=\"upright\" \\n                                 alignment=\"center\" />\\n                        </Retry>\\n                    </BehaviorTree>\\n                </PrepareKnifeForCuttingSequence>\\n            </Retry>\\n            <Retry num_attempts=\"2\">\\n                <Pick object=\"rolling knife\" \\n                      grip_strength=\"medium\" \\n                      precision=\"high\" />\\n            </Retry>\\n            <Retry num_attempts=\"2\">\\n                <Cut object=\"rolling knife\" \\n                      surface=\"wooden cutting board on the dining table\" \\n                      orientation=\"upright\" \\n                      alignment=\"center\" />\\n            </Retry>\\n            <Retry num_attempts=\"2\">\\n                <Prepare KnifeForCuttingSequence>\\n                    <BehaviorTree ID=\"PrepareKnifeForCuttingSequence\">\\n                        <Retry num_attempts=\"1\">\\n                            <Locate object=\"rolling knife\" \\n                                 position_x=\"{knife_position_x}\" \\n                                 position_y=\"{knife_position_y}\" \\n                                 position_z=\"{knife_position_z}\" \\n                                 method=\"camera_scan\"/>\\n                        </Retry>\\n                        <Retry num_attempts=\"1\">\\n                            <Place object=\"rolling knife\" \\n                                  surface=\"wooden cutting board on the dining table\" \\n                                  orientation=\"upright\" \\n                                  alignment=\"center\" />\\n                        </Retry>\\n                    </BehaviorTree>\\n                </PrepareKnifeForCuttingSequence>\\n            </Retry>\\n            <Retry num_attempts=\"2\">\\n                <Pick object=\"rolling knife\" \\n                      grip_strength=\"medium\" \\n                      precision=\"high\" />\\n            </Retry>\\n            <Retry num_attempts=\"2\">\\n                <Cut object=\"rolling knife\" \\n                      surface=\"wooden cutting board on the dining table\" \\n                      orientation=\"upright\" \\n                      alignment=\"center\" />\\n            </Retry>\\n            <Retry num_attempts=\"2\">\\n                <Prepare KnifeForCuttingSequence>\\n                    <BehaviorTree ID=\"PrepareKnifeForCuttingSequence\">\\n                        <Retry num_attempts=\"1\">\\n                            <Locate object=\"rolling knife\" \\n                                 position_x=\"{']],\n",
       "  'not valid': [['\\n    <BehaviorTree ID=\"LocateSmartphoneSequence\">\\n        <Retry num_attempts=\"3\">\\n            <Locate object=\"smartphone\" \\n                    position_x=\"{smartphone_position_x}\" \\n                    position_y=\"{smartphone_position_y}\" \\n                    position_z=\"{smartphone_position_z}\" \\n                    method=\"camera_scan\"/>\\n        </Retry>\\n        <Retry num_attempts=\"2\">\\n            <Navigate x=\"{smartphone_position_x}\" y=\"{smartphone_position_y}\" />\\n        </Retry>\\n        <Retry num_attempts=\"2\">\\n            <Pick object=\"smartphone\" \\n                   grip_strength=\"medium\" \\n                   precision=\"high\" />\\n        </Retry>\\n        <Retry num_attempts=\"2\">\\n            <Place object=\"smartphone\" \\n                   surface=\"wooden cutting board on the dining table\" \\n                   orientation=\"upright\" \\n                   alignment=\"center\" />\\n        </Retry>\\n    </BehaviorTree>\\n',\n",
       "    ['Root element must be <root>.',\n",
       "     \"The <root> element must have a 'main_tree_to_execute' attribute.\"]],\n",
       "   ['\\n    <root main_tree_to_execute=\"LocateAndTurnSequence\">\\n        <BehaviorTree ID=\"LocateAndTurnSequence\">\\n            <Retry num_attempts=\"3\">\\n                <Navigate x=\"1.5\" y=\"2.0\" />\\n            </Retry>\\n            <Retry num_attempts=\"2\">\\n                <Pick object=\"red apple sitting on the kitchen counter\" \\n                      grip_strength=\"medium\" \\n                      precision=\"high\" />\\n            </Retry>\\n            <Retry num_attempts=\"2\">\\n                <Turn left_by=\"90\" />\\n            </Retry>\\n            <Retry num_attempts=\"2\">\\n                <Pick object=\"red apple sitting on the kitchen counter\" \\n                      grip_strength=\"medium\" \\n                      precision=\"high\" />\\n            </Retry>\\n        </BehaviorTree>\\n    </root>\\n',\n",
       "    ['Invalid node <Turn> found.']],\n",
       "   ['\\n    <root main_tree_to_execute=\"NavigateAndTurnSequence\">\\n        <BehaviorTree ID=\"NavigateAndTurnSequence\">\\n            <Retry num_attempts=\"3\">\\n                <Navigate x=\"2.7\" y=\"2.0\" />\\n            </Retry>\\n            <Retry num_attempts=\"2\">\\n                <Turn direction=\"180\" />\\n                <Retry num_attempts=\"2\">\\n                    <Place object=\"a ceramic plate with some bread crumbs\" \\n                          surface=\"a wooden cutting board on the dining table\" \\n                          orientation=\"upright\" \\n                          alignment=\"center\" />\\n                </Retry>\\n            </Retry>\\n        </BehaviorTree>\\n    </root>\\n',\n",
       "    ['Invalid node <Turn> found.']],\n",
       "   ['\\n    <root main_tree_to_execute=\"RetrieveAndPlaceKnifeSequence\">\\n        <BehaviorTree ID=\"RetrieveAndPlaceKnifeSequence\">\\n            <Retry num_attempts=\"2\">\\n                <Locate object=\"silver knife sitting on the counter\" \\n                        position_x=\"{knife_position_x}\" \\n                        position_y=\"{knife_position_y}\" \\n                        position_z=\"{knife_position_z}\" \\n                        method=\"camera_scan\"/>\\n            </Retry>\\n            <Retry num_attempts=\"2\">\\n                <Pick object=\"silver knife\" \\n                      grip_strength=\"medium\" \\n                      precision=\"low\" \\n                      method=\"knife_handling\"/>\\n            </Retry>\\n            <Retry num_attempts=\"2\">\\n                <Place object=\"silver knife\" \\n                       surface=\"wooden cutting board on the dining table\" \\n                       orientation=\"upright\" \\n                       alignment=\"center\"/>\\n            </Retry>\\n            <Retry num_attempts=\"2\">\\n                <Retrieve object=\"red apple sitting on the kitchen counter\" \\n                         position_x=\"{apple_position_x}\" \\n                         position_y=\"{apple_position_y}\" \\n                         position_z=\"{apple_position_z}\" \\n                         method=\"knife_handling\"/>\\n            </Retry>\\n        </BehaviorTree>\\n    </root>\\n',\n",
       "    ['Invalid node <Retrieve> found.']],\n",
       "   ['\\n    <root main_tree_to_execute=\"LocateAndAlignCrowbarSequence\">\\n        <BehaviorTree ID=\"LocateAndAlignCrowbarSequence\">\\n            <Retry num_attempts=\"3\">\\n                <Navigate x=\"3.4\" y=\"1.8\" />\\n            </Retry>\\n            <Retry num_attempts=\"2\">\\n                <Pick object=\"crowbar\" \\n                      grip_strength=\"medium\" \\n                      precision=\"low\" />\\n            </Retry>\\n            <Retry num_attempts=\"2\">\\n                <Align object=\"crowbar\" \\n                      parallel_to=\"ladder\" \\n                      alignment=\"right\" />\\n            </Retry>\\n            <Retry num_attempts=\"2\">\\n                <Place object=\"crowbar\" \\n                       surface=\"ladder\" \\n                       orientation=\"upright\" \\n                       alignment=\"center\" />\\n            </Retry>\\n        </BehaviorTree>\\n    </root>\\n',\n",
       "    ['Invalid node <Align> found.']],\n",
       "   ['\\n    <root main_tree_to_execute=\"NavigateAndTurnSequence\">\\n        <BehaviorTree ID=\"NavigateAndTurnSequence\">\\n            <Retry num_attempts=\"2\">\\n                <Navigate x=\"2.7\" y=\"2.0\"/>\\n            </Retry>\\n            <Retry num_attempts=\"2\">\\n                <Turn direction=\"270\" />\\n            </Retry>\\n            <Retry num_attempts=\"2\">\\n                <Move x=\"2.7\" y=\"2.0\" />\\n            </Retry>\\n        </BehaviorTree>\\n    </root>\\n',\n",
       "    ['Invalid node <Turn> found.', 'Invalid node <Move> found.']],\n",
       "   ['\\n    <BehaviorTree ID=\"GetCurrentBatteryLevel\">\\n        <Retry num_attempts=\"2\">\\n            <Locate object=\"a small flashlight battery\" \\n                     position_x=\"{flashlight_battery_position_x}\" \\n                     position_y=\"{flashlight_battery_position_y}\" \\n                     position_z=\"{flashlight_battery_position_z}\" \\n                     method=\"query_battery_position\"/>\\n        </Retry>\\n        <Retry num_attempts=\"2\">\\n            <Retrieve object=\"a small flashlight battery\" \\n                      position_x=\"{flashlight_battery_position_x}\" \\n                      position_y=\"{flashlight_battery_position_y}\" \\n                      position_z=\"{flashlight_battery_position_z}\" \\n                      orientation=\"upright\" \\n                      alignment=\"center\"/>\\n        </Retry>\\n    </BehaviorTree>\\n',\n",
       "    ['Root element must be <root>.',\n",
       "     \"The <root> element must have a 'main_tree_to_execute' attribute.\"]],\n",
       "   ['\\n    <root main_tree_to_execute=\"PickAndAlignSequence\">\\n        <BehaviorTree ID=\"PickAndAlignSequence\">\\n            <Retry num_attempts=\"3\">\\n                <Locate object=\"stack of wood sitting on the wooden cutting board on the dining table\" \\n                        position_x=\"{wood_stack_position_x}\" \\n                        position_y=\"{wood_stack_position_y}\" \\n                        position_z=\"{wood_stack_position_z}\" \\n                        method=\"camera_scan\"/>\\n            </Retry>\\n            <Retry num_attempts=\"2\">\\n                <Navigate x=\"{wood_stack_position_x}\" y=\"{wood_stack_position_y}\"/>\\n            </Retry>\\n            <Retry num_attempts=\"2\">\\n                <Pick object=\"stack of wood sitting on the wooden cutting board on the dining table\" \\n                       grip_strength=\"medium\" \\n                       precision=\"high\"/>\\n            </Retry>\\n            <Retry num_attempts=\"2\">\\n                <Align object=\"stack of wood sitting on the wooden cutting board on the dining table\" \\n                       alignment=\"upright\" \\n                       orientation=\"upright\"/>\\n            </Retry>\\n        </BehaviorTree>\\n    </root>\\n',\n",
       "    ['Invalid node <Align> found.']],\n",
       "   ['\\n    <root main_tree_to_execute=\"LocateAndPlaceFireExtinguisherSequence\">\\n        <BehaviorTree ID=\"LocateAndPlaceFireExtinguisherSequence\">\\n            <Retry num_attempts=\"3\">\\n                <Locate object=\"fire extinguisher sitting on the wooden cutting board on the dining table\" \\n                        position_x=\"{fire_extinguisher_position_x}\" \\n                        position_y=\"{fire_extinguisher_position_y}\" \\n                        position_z=\"{fire_extinguisher_position_z}\" \\n                        method=\"camera_scan\"/>\\n            </Retry>\\n            <Retry num_attempts=\"2\">\\n                <Navigate x=\"{fire_extinguisher_position_x}\" y=\"{fire_extinguisher_position_y}\" \\n                        x=\"{emergency_flare_position_x}\" y=\"{emergency_flare_position_y}\" />\\n            </Retry>\\n            <Retry num_attempts=\"2\">\\n                <Pick object=\"fire extinguisher\" \\n                      grip_strength=\"medium\" \\n                      precision=\"high\"/>\\n            </Retry>\\n            <Retry num_attempts=\"2\">\\n                <Place object=\"fire extinguisher near the emergency flare\" \\n                       surface=\"fire extinguisher\" \\n                       orientation=\"upright\" \\n                       alignment=\"center\"/>\\n            </Retry>\\n        </BehaviorTree>\\n    </root>\\n',\n",
       "    ['XML Parsing Error: duplicate attribute: line 13, column 24']]],\n",
       "  'valid': ['\\n    <root main_tree_to_execute=\"RetrieveAndPlaceAppleSequence\">\\n        <BehaviorTree ID=\"RetrieveAndPlaceAppleSequence\">\\n            <Retry num_attempts=\"3\">\\n                <Locate object=\"red apple sitting on the kitchen counter\" \\n                        position_x=\"{apple_position_x}\" \\n                        position_y=\"{apple_position_y}\" \\n                        position_z=\"{apple_position_z}\" \\n                        method=\"camera_scan\"/>\\n            </Retry>\\n            <Retry num_attempts=\"2\">\\n                <Navigate x=\"{apple_position_x}\" y=\"{apple_position_y}\"/>\\n            </Retry>\\n            <Retry num_attempts=\"2\">\\n                <Pick object=\"red apple sitting on the kitchen counter\" \\n                      grip_strength=\"medium\" \\n                      precision=\"high\"/>\\n            </Retry>\\n            <Retry num_attempts=\"2\">\\n                <Place object=\"red apple\" \\n                       surface=\"wooden cutting board on the dining table\" \\n                       orientation=\"upright\" \\n                       alignment=\"center\"/>\\n            </Retry>\\n        </BehaviorTree>\\n    </root>\\n',\n",
       "   '\\n    <root main_tree_to_execute=\"LocateFlashlightSequence\">\\n        <BehaviorTree ID=\"LocateFlashlightSequence\">\\n            <Retry num_attempts=\"3\">\\n                <Locate object=\"flashlight\" \\n                        position_x=\"{flashlight_position_x}\" \\n                        position_y=\"{flashlight_position_y}\" \\n                        position_z=\"{flashlight_position_z}\" \\n                        method=\"camera_scan\"/>\\n            </Retry>\\n            <Retry num_attempts=\"2\">\\n                <Navigate x=\"{flashlight_position_x}\" y=\"{flashlight_position_y}\"/>\\n            </Retry>\\n            <Retry num_attempts=\"2\">\\n                <Pick object=\"flashlight\" \\n                      grip_strength=\"medium\" \\n                      precision=\"high\"/>\\n            </Retry>\\n            <Retry num_attempts=\"2\">\\n                <Place object=\"flashlight\" \\n                       surface=\"wooden cutting board on the dining table\" \\n                       orientation=\"upright\" \\n                       alignment=\"center\"/>\\n            </Retry>\\n        </BehaviorTree>\\n    </root>\\n',\n",
       "   '\\n    <root main_tree_to_execute=\"RetrieveAndPlaceSequence\">\\n        <BehaviorTree ID=\"RetrieveAndPlaceSequence\">\\n            <Retry num_attempts=\"2\">\\n                <Locate object=\"ceramic plate with some bread crumbs\" \\n                        position_x=\"{plate_position_x}\" \\n                        position_y=\"{plate_position_y}\" \\n                        position_z=\"{plate_position_z}\" \\n                        method=\"camera_scan\"/>\\n            </Retry>\\n            <Retry num_attempts=\"2\">\\n                <Pick object=\"ceramic plate with some bread crumbs\" \\n                      grip_strength=\"medium\" \\n                      precision=\"high\"/>\\n            </Retry>\\n            <Retry num_attempts=\"2\">\\n                <Place object=\"ceramic plate with some bread crumbs\" \\n                       surface=\"wooden cutting board on the dining table\" \\n                       orientation=\"upright\" \\n                       alignment=\"center\"/>\\n            </Retry>\\n        </BehaviorTree>\\n    </root>\\n',\n",
       "   '\\n    <root main_tree_to_execute=\"LocateAndPutHelmetSequence\">\\n        <BehaviorTree ID=\"LocateAndPutHelmetSequence\">\\n            <Retry num_attempts=\"3\">\\n                <Navigate x=\"18.4\" y=\"11.7\" />\\n            </Retry>\\n            <Retry num_attempts=\"2\">\\n                <Pick object=\"safety helmet\" \\n                      grip_strength=\"medium\" \\n                      precision=\"high\" />\\n            </Retry>\\n            <Retry num_attempts=\"2\">\\n                <Place object=\"safety helmet\" \\n                       surface=\"wooden helmet stand on the dining room table\" \\n                       orientation=\"upright\" \\n                       alignment=\"center\" />\\n            </Retry>\\n        </BehaviorTree>\\n    </root>\\n',\n",
       "   '\\n    <root main_tree_to_execute=\"RetrieveAndPlaceAppleSequence\">\\n        <BehaviorTree ID=\"RetrieveAndPlaceAppleSequence\">\\n            <Retry num_attempts=\"3\">\\n                <Navigate x=\"1.5\" y=\"0.0\"/>\\n            </Retry>\\n            <Retry num_attempts=\"2\">\\n                <Pick object=\"red apple sitting on the kitchen counter\" \\n                      grip_strength=\"medium\" \\n                      precision=\"high\"/>\\n            </Retry>\\n            <Retry num_attempts=\"2\">\\n                <Place object=\"red apple\" \\n                       surface=\"wooden cutting board on the dining table\" \\n                       orientation=\"upright\" \\n                       alignment=\"center\"/>\\n            </Retry>\\n        </BehaviorTree>\\n    </root>\\n',\n",
       "   '\\n    <root main_tree_to_execute=\"RetrieveAndPlaceFireExtinguisherSequence\">\\n        <BehaviorTree ID=\"RetrieveAndPlaceFireExtinguisherSequence\">\\n            <Retry num_attempts=\"3\">\\n                <Locate object=\"fire extinguisher sitting on the ladder\" \\n                        position_x=\"{fire_extinguisher_position_x}\" \\n                        position_y=\"{fire_extinguisher_position_y}\" \\n                        position_z=\"{fire_extinguisher_position_z}\" \\n                        method=\"camera_scan\"/>\\n            </Retry>\\n            <Retry num_attempts=\"2\">\\n                <Navigate x=\"{fire_extinguisher_position_x}\" y=\"{fire_extinguisher_position_y}\"/>\\n            </Retry>\\n            <Retry num_attempts=\"2\">\\n                <Pick object=\"fire extinguisher\" \\n                      grip_strength=\"medium\" \\n                      precision=\"high\"/>\\n            </Retry>\\n            <Retry num_attempts=\"2\">\\n                <Place object=\"fire extinguisher on the ladder\" \\n                       surface=\"ladder\" \\n                       orientation=\"upright\" \\n                       alignment=\"center\"/>\\n            </Retry>\\n        </BehaviorTree>\\n    </root>\\n',\n",
       "   '\\n    <root main_tree_to_execute=\"RetrieveAndPlaceGlovesSequence\">\\n        <BehaviorTree ID=\"RetrieveAndPlaceGlovesSequence\">\\n            <Retry num_attempts=\"3\">\\n                <Locate object=\"pair of gloves\" \\n                        position_x=\"{gloves_position_x}\" \\n                        position_y=\"{gloves_position_y}\" \\n                        position_z=\"{gloves_position_z}\" \\n                        method=\"camera_scan\"/>\\n            </Retry>\\n            <Retry num_attempts=\"2\">\\n                <Navigate x=\"{gloves_position_x}\" y=\"{gloves_position_y}\"/>\\n            </Retry>\\n            <Retry num_attempts=\"2\">\\n                <Pick object=\"pair of gloves\" \\n                      grip_strength=\"medium\" \\n                      precision=\"high\"/>\\n            </Retry>\\n            <Retry num_attempts=\"2\">\\n                <Place object=\"pair of gloves\" \\n                       surface=\"tarp\" \\n                       orientation=\"upright\" \\n                       alignment=\"center\"/>\\n            </Retry>\\n        </BehaviorTree>\\n    </root>\\n',\n",
       "   '\\n    <root main_tree_to_execute=\"NavigateToBootsSequence\">\\n        <BehaviorTree ID=\"NavigateToBootsSequence\">\\n            <Retry num_attempts=\"2\">\\n                <Locate object=\"a pair of boots sitting on the floor near the entrance of the house\" \\n                        position_x=\"{boots_position_x}\" \\n                        position_y=\"{boots_position_y}\" \\n                        position_z=\"{boots_position_z}\" \\n                        method=\"camera_scan\"/>\\n            </Retry>\\n            <Retry num_attempts=\"2\">\\n                <Navigate x=\"{boots_position_x}\" y=\"{boots_position_y}\" />\\n            </Retry>\\n            <Retry num_attempts=\"2\">\\n                <Pick object=\"a pair of boots\" \\n                      grip_strength=\"medium\" \\n                      precision=\"high\" />\\n            </Retry>\\n        </BehaviorTree>\\n    </root>\\n',\n",
       "   '\\n    <root main_tree_to_execute=\"RetrieveAndPlaceWaterBottleSequence\">\\n        <BehaviorTree ID=\"RetrieveAndPlaceWaterBottleSequence\">\\n            <Sequence name=\"RetrieveAndPlaceWaterBottle\">\\n                <Retry num_attempts=\"3\">\\n                    <Locate object=\"water bottle sitting on the kitchen counter\" \\n                            position_x=\"{water_bottle_position_x}\" \\n                            position_y=\"{water_bottle_position_y}\" \\n                            position_z=\"{water_bottle_position_z}\" \\n                            method=\"camera_scan\"/>\\n                </Retry>\\n                <Retry num_attempts=\"2\">\\n                    <Navigate x=\"{water_bottle_position_x}\" y=\"{water_bottle_position_y}\"/>\\n                </Retry>\\n                <Retry num_attempts=\"2\">\\n                    <Pick object=\"water bottle\" \\n                          grip_strength=\"medium\" \\n                          precision=\"high\"/>\\n                </Retry>\\n                <Retry num_attempts=\"2\">\\n                    <Place object=\"water bottle\" \\n                           surface=\"map\" \\n                           orientation=\"upright\" \\n                           alignment=\"center\"/>\\n                </Retry>\\n            </Sequence>\\n        </BehaviorTree>\\n    </root>\\n',\n",
       "   '\\n    <root main_tree_to_execute=\"RetrieveAndPlaceDuctTapeSequence\">\\n        <BehaviorTree ID=\"RetrieveAndPlaceDuctTapeSequence\">\\n            <Retry num_attempts=\"3\">\\n                <Locate object=\"roll of duct tape\" \\n                        position_x=\"{duct_tape_position_x}\" \\n                        position_y=\"{duct_tape_position_y}\" \\n                        position_z=\"{duct_tape_position_z}\" \\n                        method=\"camera_scan\"/>\\n            </Retry>\\n            <Retry num_attempts=\"2\">\\n                <Pick object=\"roll of duct tape\" \\n                      grip_strength=\"medium\" \\n                      precision=\"high\"/>\\n            </Retry>\\n            <Retry num_attempts=\"2\">\\n                <Place object=\"roll of duct tape\" \\n                       surface=\"crowbar\" \\n                       orientation=\"upright\" \\n                       alignment=\"center\"/>\\n            </Retry>\\n        </BehaviorTree>\\n    </root>\\n',\n",
       "   '\\n    <root main_tree_to_execute=\"LocateAndMoveHammerSequence\">\\n        <BehaviorTree ID=\"LocateAndMoveHammerSequence\">\\n            <Retry num_attempts=\"3\">\\n                <Locate object=\"hammer\" \\n                        position_x=\"{hammer_position_x}\" \\n                        position_y=\"{hammer_position_y}\" \\n                        position_z=\"{hammer_position_z}\" \\n                        method=\"camera_scan\"/>\\n            </Retry>\\n            <Retry num_attempts=\"2\">\\n                <Navigate x=\"{hammer_position_x}\" y=\"{hammer_position_y}\" />\\n            </Retry>\\n            <Retry num_attempts=\"2\">\\n                <Pick object=\"hammer\" \\n                      grip_strength=\"medium\" \\n                      precision=\"high\" />\\n            </Retry>\\n            <Retry num_attempts=\"2\">\\n                <Place object=\"hammer\" \\n                       surface=\"safety helmet\\'s location\" \\n                       orientation=\"upright\" \\n                       alignment=\"center\" />\\n            </Retry>\\n        </BehaviorTree>\\n    </root>\\n',\n",
       "   '\\n    <root main_tree_to_execute=\"LocateAndRetrieveBackwardSequence\">\\n        <Sequence name=\"LocateAndRetrieveBackwardSequence\">\\n            <Retry num_attempts=\"2\">\\n                <Navigate x=\"2.7\" y=\"2.0\"/>\\n            </Retry>\\n            <Retry num_attempts=\"2\">\\n                <Locate object=\"a ceramic plate with some bread crumbs\" \\n                        position_x=\"{bread_crumbs_position_x}\" \\n                        position_y=\"{bread_crumbs_position_y}\" \\n                        position_z=\"{bread_crumbs_position_z}\" />\\n            </Retry>\\n            <Retry num_attempts=\"2\">\\n                <Pick object=\"a ceramic plate with some bread crumbs\" \\n                      grip_strength=\"medium\" \\n                      precision=\"high\"/>\\n            </Retry>\\n        </Sequence>\\n    </root>\\n',\n",
       "   '\\n    <root main_tree_to_execute=\"RetrieveAndIdentifyCampingStoveSequence\">\\n        <BehaviorTree ID=\"RetrieveAndIdentifyCampingStoveSequence\">\\n            <Retry num_attempts=\"3\">\\n                <Locate object=\"a camping stove\" \\n                      position_x=\"{stove_position_x}\" \\n                      position_y=\"{stove_position_y}\" \\n                      position_z=\"{stove_position_z}\" \\n                      method=\"camera_scan\"/>\\n            </Retry>\\n            <Retry num_attempts=\"2\">\\n                <Navigate x=\"{stove_position_x}\" y=\"{stove_position_y}\"/>\\n            </Retry>\\n            <Retry num_attempts=\"2\">\\n                <Pick object=\"a camping stove\" \\n                      grip_strength=\"medium\" \\n                      precision=\"high\"/>\\n            </Retry>\\n            <Retry num_attempts=\"2\">\\n                <Place object=\"a camping stove\" \\n                       surface=\"a ceramic plate with some bread crumbs\" \\n                       orientation=\"upright\" \\n                       alignment=\"center\"/>\\n            </Retry>\\n        </BehaviorTree>\\n    </root>\\n',\n",
       "   '\\n    <root main_tree_to_execute=\"RetrieveAndPlaceBackpackSequence\">\\n        <BehaviorTree ID=\"RetrieveAndPlaceBackpackSequence\">\\n            <Retry num_attempts=\"3\">\\n                <Locate object=\"backpack sitting on the folding chair\" \\n                        position_x=\"{backpack_position_x}\" \\n                        position_y=\"{backpack_position_y}\" \\n                        position_z=\"{backpack_position_z}\" \\n                        method=\"camera_scan\"/>\\n            </Retry>\\n            <Retry num_attempts=\"2\">\\n                <Navigate x=\"{backpack_position_x}\" y=\"{backpack_position_y}\"/>\\n            </Retry>\\n            <Retry num_attempts=\"2\">\\n                <Pick object=\"backpack\" \\n                      grip_strength=\"medium\" \\n                      precision=\"high\"/>\\n            </Retry>\\n            <Retry num_attempts=\"2\">\\n                <Place object=\"backpack\" \\n                       surface=\"folding chair\" \\n                       orientation=\"upright\" \\n                       alignment=\"center\"/>\\n            </Retry>\\n        </BehaviorTree>\\n    </root>\\n',\n",
       "   '\\n    <root main_tree_to_execute=\"LocateAndNavigateSequence\">\\n        <BehaviorTree ID=\"LocateAndNavigateSequence\">\\n            <Retry num_attempts=\"3\">\\n                <Locate object=\"tarp\" \\n                        position_x=\"{tarp_position_x}\" \\n                        position_y=\"{tarp_position_y}\" \\n                        position_z=\"{tarp_position_z}\" \\n                        method=\"camera_scan\"/>\\n            </Retry>\\n            <Retry num_attempts=\"2\">\\n                <Navigate x=\"{tarp_position_x}\" y=\"{tarp_position_y}\" />\\n            </Retry>\\n            <Retry num_attempts=\"2\">\\n                <Place object=\"tarp\" \\n                       surface=\"wooden cutting board on the dining table\" \\n                       orientation=\"upright\" \\n                       alignment=\"center\" />\\n            </Retry>\\n        </BehaviorTree>\\n    </root>\\n',\n",
       "   '\\n    <root main_tree_to_execute=\"NavigateAndRetrieveSequence\">\\n        <Sequence name=\"NavigateAndRetrieveSequence\">\\n            <Retry num_attempts=\"3\">\\n                <Locate object=\"a stack of wood\" \\n                       position_x=\"{wood_stack_position_x}\" \\n                       position_y=\"{wood_stack_position_y}\" \\n                       position_z=\"{wood_stack_position_z}\" \\n                       method=\"camera_scan\"/>\\n            </Retry>\\n            <Retry num_attempts=\"2\">\\n                <Navigate x=\"{wood_stack_position_x}\" y=\"{wood_stack_position_y}\" />\\n            </Retry>\\n            <Retry num_attempts=\"2\">\\n                <Pick object=\"a stack of wood\" \\n                      grip_strength=\"medium\" \\n                      precision=\"low\" />\\n            </Retry>\\n            <Retry num_attempts=\"2\">\\n                <Retrieve object=\"a stack of wood\" \\n                         surface=\"a ceramic plate with some bread crumbs\" \\n                         orientation=\"upright\" \\n                         alignment=\"center\" />\\n            </Retry>\\n            <Retry num_attempts=\"2\">\\n                <Place object=\"a stack of wood\" \\n                       surface=\"a bag of sand\" \\n                       orientation=\"upright\" \\n                       alignment=\"center\" />\\n            </Retry>\\n        </Sequence>\\n    </root>\\n',\n",
       "   '\\n    <root main_tree_to_execute=\"RetrieveAndPlaceAppleSequence\">\\n        <BehaviorTree ID=\"RetrieveAndPlaceAppleSequence\">\\n            <Retry num_attempts=\"3\">\\n                <Locate object=\"empty glass cup sitting next to the sink\" \\n                        position_x=\"{cup_position_x}\" \\n                        position_y=\"{cup_position_y}\" \\n                        position_z=\"{cup_position_z}\" \\n                        method=\"camera_scan\"/>\\n            </Retry>\\n            <Retry num_attempts=\"2\">\\n                <Navigate x=\"{cup_position_x}\" y=\"{cup_position_y}\" />\\n            </Retry>\\n            <Retry num_attempts=\"2\">\\n                <Pick object=\"empty glass cup sitting next to the sink\" \\n                      grip_strength=\"medium\" \\n                      precision=\"low\" />\\n            </Retry>\\n            <Retry num_attempts=\"2\">\\n                <Place object=\"empty glass cup sitting next to the sink\" \\n                       surface=\"red apple sitting on the kitchen counter\" \\n                       orientation=\"upright\" \\n                       alignment=\"center\" />\\n            </Retry>\\n        </BehaviorTree>\\n    </root>\\n',\n",
       "   '\\n    <root main_tree_to_execute=\"GetCurrentBatteryLevelSequence\">\\n        <Sequence name=\"GetCurrentBatteryLevel\">\\n            <Retry num_attempts=\"2\">\\n                <Locate object=\"a charging dock\" \\n                        position_x=\"{battery_position_x}\" \\n                        position_y=\"{battery_position_y}\" \\n                        position_z=\"{battery_position_z}\" \\n                        method=\"camera_scan\"/>\\n            </Retry>\\n            <Retry num_attempts=\"2\">\\n                <Navigate x=\"{battery_position_x}\" y=\"{battery_position_y}\"/>\\n            </Retry>\\n            <Retry num_attempts=\"2\">\\n                <Pick object=\"a charging dock\" \\n                      grip_strength=\"medium\" \\n                      precision=\"low\"/>\\n            </Retry>\\n            <Retry num_attempts=\"2\">\\n                <Retry>\\n                    <Locate object=\"a charging dock\" \\n                          position_x=\"{battery_position_x}\" \\n                          position_y=\"{battery_position_y}\" \\n                          position_z=\"{battery_position_z}\" />\\n                </Retry>\\n                <Retry>\\n                    <Navigate x=\"{battery_position_x}\" y=\"{battery_position_y}\" />\\n                </Retry>\\n            </Retry>\\n        </Sequence>\\n    </root>\\n',\n",
       "   '\\n    <root main_tree_to_execute=\"LocateAndAlignSequence\">\\n        <BehaviorTree ID=\"LocateAndAlignSequence\">\\n            <Locate object=\"ceramic plate with bread crumbs\" \\n                     position_x=\"{plate_position_x}\" \\n                     position_y=\"{plate_position_y}\" \\n                     position_z=\"{plate_position_z}\" \\n                     method=\"camera_scan\"/>\\n            \\n            <Retry num_attempts=\"2\">\\n                <Navigate x=\"{plate_position_x}\" y=\"{plate_position_y}\" />\\n            </Retry>\\n            \\n            <Retry num_attempts=\"2\">\\n                <Pick object=\"ceramic plate with bread crumbs\" \\n                      grip_strength=\"medium\" \\n                      precision=\"high\" />\\n            </Retry>\\n            \\n            <Retry num_attempts=\"2\">\\n                <Place object=\"ceramic plate with bread crumbs\" \\n                       surface=\"wooden cutting board on the dining table\" \\n                       orientation=\"upright\" \\n                       alignment=\"center\" />\\n            </Retry>\\n        </BehaviorTree>\\n    </root>\\n',\n",
       "   '\\n    <root main_tree_to_execute=\"LocateAndRetrieveMedicalSplintSequence\">\\n        <BehaviorTree ID=\"LocateAndRetrieveMedicalSplintSequence\">\\n            <Retry num_attempts=\"3\">\\n                <Locate object=\"medical splint\" \\n                        position_x=\"{medical_splint_position_x}\" \\n                        position_y=\"{medical_splint_position_y}\" \\n                        position_z=\"{medical_splint_position_z}\" \\n                        method=\"camera_scan\"/>\\n            </Retry>\\n            <Retry num_attempts=\"2\">\\n                <Navigate x=\"{medical_splint_position_x}\" y=\"{medical_splint_position_y}\"/>\\n            </Retry>\\n            <Retry num_attempts=\"2\">\\n                <Pick object=\"medical splint\" \\n                      grip_strength=\"medium\" \\n                      precision=\"high\"/>\\n            </Retry>\\n            <Retry num_attempts=\"2\">\\n                <Place object=\"medical splint\" \\n                       surface=\"a medical splint\" \\n                       orientation=\"upright\" \\n                       alignment=\"center\"/>\\n            </Retry>\\n        </BehaviorTree>\\n    </root>\\n',\n",
       "   '\\n    <root main_tree_to_execute=\"RetrieveAndPlaceLadderSequence\">\\n        <BehaviorTree ID=\"RetrieveAndPlaceLadderSequence\">\\n            <Sequence name=\"RetrieveAndPlaceLadder\">\\n                <Retry num_attempts=\"3\">\\n                    <Locate object=\"ladder\" \\n                          position_x=\"{ladder_position_x}\" \\n                          position_y=\"{ladder_position_y}\" \\n                          position_z=\"{ladder_position_z}\" \\n                          method=\"camera_scan\"/>\\n                </Retry>\\n                <Retry num_attempts=\"2\">\\n                    <Navigate x=\"{ladder_position_x}\" y=\"{ladder_position_y}\"/>\\n                </Retry>\\n                <Retry num_attempts=\"2\">\\n                    <Pick object=\"ladder\" \\n                          grip_strength=\"medium\" \\n                          precision=\"high\"/>\\n                </Retry>\\n                <Retry num_attempts=\"2\">\\n                    <Place object=\"ladder\" \\n                           surface=\"stack of wood on the wooden cutting board on the dining table\" \\n                           orientation=\"upright\" \\n                           alignment=\"center\"/>\\n                </Retry>\\n            </Sequence>\\n        </BehaviorTree>\\n    </root>\\n',\n",
       "   '\\n    <root main_tree_to_execute=\"RetrieveCoordinatesSequence\">\\n        <Sequence name=\"RetrieveCoordinatesSequence\">\\n            <Retry num_attempts=\"3\">\\n                <Locate object=\"compass\" \\n                        position_x=\"{compass_position_x}\" \\n                        position_y=\"{compass_position_y}\" \\n                        position_z=\"{compass_position_z}\" \\n                        method=\"camera_scan\"/>\\n            </Retry>\\n            <Retry num_attempts=\"2\">\\n                <Navigate x=\"{compass_position_x}\" y=\"{compass_position_y}\" />\\n            </Retry>\\n            <Retry num_attempts=\"2\">\\n                <Pick object=\"compass\" \\n                      grip_strength=\"medium\" \\n                      precision=\"high\"/>\\n            </Retry>\\n            <Retry num_attempts=\"2\">\\n                <Place object=\"compass\" \\n                       surface=\"wooden cutting board on the dining table\" \\n                       orientation=\"upright\" \\n                       alignment=\"center\"/>\\n            </Retry>\\n        </Sequence>\\n    </root>\\n',\n",
       "   '\\n    <root main_tree_to_execute=\"PickAndPlaceTarpSequence\">\\n        <BehaviorTree ID=\"PickAndPlaceTarpSequence\">\\n            <Sequence name=\"PickAndPlaceTarp\">\\n                <Retry num_attempts=\"2\">\\n                    <Locate object=\"tarp\" \\n                          position_x=\"{tarp_position_x}\" \\n                          position_y=\"{tarp_position_y}\" \\n                          position_z=\"{tarp_position_z}\" \\n                          method=\"camera_scan\"/>\\n                </Retry>\\n                <Retry num_attempts=\"2\">\\n                    <Navigate x=\"{tarp_position_x}\" y=\"{tarp_position_y}\"/>\\n                </Retry>\\n                <Retry num_attempts=\"2\">\\n                    <Pick object=\"tarp\" \\n                          grip_strength=\"medium\" \\n                          precision=\"high\"/>\\n                </Retry>\\n                <Retry num_attempts=\"2\">\\n                    <Place object=\"tarp\" \\n                           surface=\"stack of wood on the dining table\" \\n                           orientation=\"upright\" \\n                           alignment=\"center\"/>\\n                </Retry>\\n            </Sequence>\\n        </BehaviorTree>\\n    </root>\\n',\n",
       "   '\\n    <root main_tree_to_execute=\"NavigateToFoldingChairSequence\">\\n        <BehaviorTree ID=\"NavigateToFoldingChairSequence\">\\n            <Retry num_attempts=\"3\">\\n                <Locate object=\"folding chair\" \\n                       position_x=\"{chair_position_x}\" \\n                       position_y=\"{chair_position_y}\" \\n                       position_z=\"{chair_position_z}\" \\n                       method=\"camera_scan\"/>\\n            </Retry>\\n            <Retry num_attempts=\"2\">\\n                <Navigate x=\"{chair_position_x}\" y=\"{chair_position_y}\" />\\n            </Retry>\\n            <Retry num_attempts=\"2\">\\n                <Pick object=\"folding chair\" \\n                      grip_strength=\"medium\" \\n                      precision=\"high\" />\\n            </Retry>\\n            <Retry num_attempts=\"2\">\\n                <Place object=\"folding chair\" \\n                       surface=\"folding chair\" \\n                       orientation=\"upright\" \\n                       alignment=\"center\" />\\n            </Retry>\\n        </BehaviorTree>\\n    </root>\\n',\n",
       "   '\\n    <root main_tree_to_execute=\"RetrieveAndPlaceAppleSequence\">\\n        <BehaviorTree ID=\"RetrieveAndPlaceAppleSequence\">\\n            <Retry num_attempts=\"2\">\\n                <Navigate x=\"1.5\" y=\"2.0\"/>\\n            </Retry>\\n            <Retry num_attempts=\"2\">\\n                <Pick object=\"red apple sitting on the kitchen counter\" \\n                      grip_strength=\"medium\" \\n                      precision=\"high\"/>\\n            </Retry>\\n            <Retry num_attempts=\"2\">\\n                <Place object=\"red apple\" \\n                       surface=\"wooden cutting board on the dining table\" \\n                       orientation=\"upright\" \\n                       alignment=\"center\"/>\\n            </Retry>\\n        </BehaviorTree>\\n    </root>\\n',\n",
       "   '\\n    <root main_tree_to_execute=\"RetrieveAndPlaceThermalBlanketSequence\">\\n        <BehaviorTree ID=\"RetrieveAndPlaceThermalBlanketSequence\">\\n            <Retry num_attempts=\"3\">\\n                <Locate object=\"thermal blanket sitting on the sleeping bag\" \\n                        position_x=\"{thermal Blanket Position X}\" \\n                        position_y=\"{thermal Blanket Position Y}\" \\n                        position_z=\"{thermal Blanket Position Z}\" \\n                        method=\"camera scan\"/>\\n            </Retry>\\n            <Retry num_attempts=\"2\">\\n                <Navigate x=\"{thermal Blanket Position X}\" y=\"{thermal Blanket Position Y}\"/>\\n            </Retry>\\n            <Retry num_attempts=\"2\">\\n                <Place object=\"thermal blanket\" \\n                       surface=\"sleeping bag\" \\n                       orientation=\"upright\" \\n                       alignment=\"center\"/>\\n            </Retry>\\n        </BehaviorTree>\\n    </root>\\n',\n",
       "   '\\n    <root main_tree_to_execute=\"LocateAndAlignFireproofBlanketSequence\">\\n        <BehaviorTree ID=\"LocateAndAlignFireproofBlanketSequence\">\\n            <Retry num_attempts=\"3\">\\n                <Locate object=\"fireproof blanket sitting on the ground\" \\n                        position_x=\"{blanket_position_x}\" \\n                        position_y=\"{blanket_position_y}\" \\n                        position_z=\"{blanket_position_z}\" \\n                        method=\"camera_scan\"/>\\n            </Retry>\\n            <Retry num_attempts=\"2\">\\n                <Navigate x=\"{blanket_position_x}\" y=\"{blanket_position_y}\"/>\\n            </Retry>\\n            <Retry num_attempts=\"2\">\\n                <Place object=\"fireproof blanket\" \\n                       surface=\"flat on the ground\" \\n                       orientation=\"flat\" \\n                       alignment=\"center\"/>\\n            </Retry>\\n        </BehaviorTree>\\n    </root>\\n',\n",
       "   '\\n    <root main_tree_to_execute=\"RetrieveAndPlaceWalkieTalkieSequence\">\\n        <BehaviorTree ID=\"RetrieveAndPlaceWalkieTalkieSequence\">\\n            <Retry num_attempts=\"3\">\\n                <Locate object=\"walkie-talkie\" \\n                       position_x=\"{walkie_position_x}\" \\n                       position_y=\"{walkie_position_y}\" \\n                       position_z=\"{walkie_position_z}\" \\n                       method=\"camera_scan\"/>\\n            </Retry>\\n            <Retry num_attempts=\"2\">\\n                <Navigate x=\"{walkie_position_x}\" y=\"{walkie_position_y}\" />\\n            </Retry>\\n            <Retry num_attempts=\"2\">\\n                <Pick object=\"walkie-talkie\" \\n                      grip_strength=\"medium\" \\n                      precision=\"high\" />\\n            </Retry>\\n            <Retry num_attempts=\"2\">\\n                <Place object=\"walkie-talkie\" \\n                       surface=\"backpack\" \\n                       orientation=\"upright\" \\n                       alignment=\"center\" />\\n            </Retry>\\n        </BehaviorTree>\\n    </root>\\n',\n",
       "   '\\n    <root main_tree_to_execute=\"NavigateToHelmetSequence\">\\n        <BehaviorTree ID=\"NavigateToHelmetSequence\">\\n            <Retry num_attempts=\"2\">\\n                <Navigate x=\"18.4\" y=\"11.7\" />\\n            </Retry>\\n            <Retry num_attempts=\"2\">\\n                <Pick object=\"safety helmet\" grip_strength=\"medium\" precision=\"high\" />\\n            </Retry>\\n            <Retry num_attempts=\"2\">\\n                <Place object=\"safety helmet\" surface=\"wooden helmet stand on the side of the vehicle\" orientation=\"upright alignment=\\'center\\'\" />\\n            </Retry>\\n        </BehaviorTree>\\n    </root>\\n',\n",
       "   '\\n    <root main_tree_to_execute=\"RetrieveAndPlaceBagOfRiceSequence\">\\n        <BehaviorTree ID=\"RetrieveAndPlaceBagOfRiceSequence\">\\n            <Retry num_attempts=\"3\">\\n                <Locate object=\"bag of rice sitting on the cooking pot\" \\n                        position_x=\"{rice_position_x}\" \\n                        position_y=\"{rice_position_y}\" \\n                        position_z=\"{rice_position_z}\" \\n                        method=\"camera_scan\"/>\\n            </Retry>\\n            <Retry num_attempts=\"2\">\\n                <Navigate x=\"{rice_position_x}\" y=\"{rice_position_y}\"/>\\n            </Retry>\\n            <Retry num_attempts=\"2\">\\n                <Pick object=\"bag of rice\" \\n                      grip_strength=\"medium\" \\n                      precision=\"high\"/>\\n            </Retry>\\n            <Retry num_attempts=\"2\">\\n                <Place object=\"bag of rice\" \\n                       surface=\"ceramic pot on the cooking area\" \\n                       orientation=\"upright\" \\n                       alignment=\"center\"/>\\n            </Retry>\\n        </BehaviorTree>\\n    </root>\\n',\n",
       "   '\\n    <root main_tree_to_execute=\"TurnToTargetSequence\">\\n        <Sequence name=\"TurnToTargetSequence\">\\n            <Retry num_attempts=\"2\">\\n                <Navigate x=\"2.7\" y=\"2.0\" />\\n            </Retry>\\n            <Retry num_attempts=\"2\">\\n                <Pick object=\"a ceramic plate with some bread crumbs\" \\n                      grip_strength=\"medium\" \\n                      precision=\"low\" />\\n            </Retry>\\n            <Retry num_attempts=\"2\">\\n                <Place object=\"a ceramic plate with some bread crumbs\" \\n                       surface=\"a wooden cutting board on the dining table\" \\n                       orientation=\"upright\" \\n                       alignment=\"center\" />\\n            </Retry>\\n        </Sequence>\\n    </root>\\n',\n",
       "   '\\n    <root main_tree_to_execute=\"RetrieveAndPlaceFirstAidKitSequence\">\\n        <BehaviorTree ID=\"RetrieveAndPlaceFirstAidKitSequence\">\\n            <Retry num_attempts=\"2\">\\n                <Locate object=\"silver knife laying on the counter\" \\n                        position_x=\"{knife_position_x}\" \\n                        position_y=\"{knife_position_y}\" \\n                        position_z=\"{knife_position_z}\" \\n                        method=\"camera_scan\"/>\\n            </Retry>\\n            <Retry num_attempts=\"2\">\\n                <Pick object=\"silver knife laying on the counter\" \\n                      grip_strength=\"medium\" \\n                      precision=\"high\"/>\\n            </Retry>\\n            <Retry num_attempts=\"2\">\\n                <Place object=\"silver knife laying on the counter\" \\n                       surface=\"wooden cutting board on the dining table\" \\n                       orientation=\"upright\" \\n                       alignment=\"center\"/>\\n            </Retry>\\n        </BehaviorTree>\\n    </root>\\n',\n",
       "   '\\n    <root main_tree_to_execute=\"RetrieveAndReportFlareSequence\">\\n        <BehaviorTree ID=\"RetrieveAndReportFlareSequence\">\\n            <Sequence name=\"RetrieveAndReportFlare\">\\n                <Retry num_attempts=\"3\">\\n                    <Locate object=\"emergency flare sitting on the counter\" \\n                          position_x=\"{flare_position_x}\" \\n                          position_y=\"{flare_position_y}\" \\n                          position_z=\"{flare_position_z}\" \\n                          method=\"camera_scan\"/>\\n                </Retry>\\n                <Retry num_attempts=\"2\">\\n                    <Navigate x=\"{flare_position_x}\" y=\"{flare_position_y}\" />\\n                </Retry>\\n                <Retry num_attempts=\"2\">\\n                    <Pick object=\"emergency flare\" \\n                          grip_strength=\"medium\" \\n                          precision=\"high\" />\\n                </Retry>\\n                <Retry num_attempts=\"2\">\\n                    <Place object=\"emergency flare\" \\n                           surface=\"ceramic plate with some bread crumbs\" \\n                           orientation=\"upright\" \\n                           alignment=\"center\" />\\n                </Retry>\\n            </Sequence>\\n        </BehaviorTree>\\n    </root>\\n',\n",
       "   '\\n    <root main_tree_to_execute=\"RetrieveAndPlaceAppleSequence\">\\n        <BehaviorTree ID=\"RetrieveAndPlaceAppleSequence\">\\n            <Retry num_attempts=\"3\">\\n                <Navigate x=\"1.5\" y=\"2.0\"/>\\n            </Retry>\\n            <Retry num_attempts=\"2\">\\n                <Locate object=\"red apple sitting on the kitchen counter\" \\n                        position_x=\"{apple_position_x}\" \\n                        position_y=\"{apple_position_y}\" \\n                        position_z=\"{apple_position_z}\" \\n                        method=\"camera_scan\"/>\\n            </Retry>\\n            <Retry num_attempts=\"2\">\\n                <Pick object=\"red apple sitting on the kitchen counter\" \\n                      grip_strength=\"medium\" \\n                      precision=\"high\"/>\\n            </Retry>\\n            <Retry num_attempts=\"2\">\\n                <Place object=\"red apple\" \\n                       surface=\"wooden cutting board on the dining table\" \\n                       orientation=\"upright\" \\n                       alignment=\"center\"/>\\n            </Retry>\\n        </BehaviorTree>\\n    </root>\\n',\n",
       "   '\\n    <root main_tree_to_execute=\"LocateCarJackSequence\">\\n        <BehaviorTree ID=\"LocateCarJackSequence\">\\n            <Retry num_attempts=\"3\">\\n                <Locate object=\"car jack sitting on the ground\" \\n                        position_x=\"{jack_position_x}\" \\n                        position_y=\"{jack_position_y}\" \\n                        position_z=\"{jack_position_z}\" \\n                        method=\"camera_scan\"/>\\n            </Retry>\\n            <Retry num_attempts=\"2\">\\n                <Navigate x=\"{jack_position_x}\" y=\"{jack_position_y}\"/>\\n            </Retry>\\n            <Retry num_attempts=\"2\">\\n                <Pick object=\"car jack\" \\n                      grip_strength=\"medium\" \\n                      precision=\"high\"/>\\n            </Retry>\\n            <Retry num_attempts=\"2\">\\n                <Place object=\"car jack\" \\n                       surface=\"wooden ground on the parking area\" \\n                       orientation=\"upright\" \\n                       alignment=\"center\"/>\\n            </Retry>\\n        </BehaviorTree>\\n    </root>\\n',\n",
       "   '\\n    <root main_tree_to_execute=\"RetrieveAndPlaceNotebookAndPenSequence\">\\n        <BehaviorTree ID=\"RetrieveAndPlaceNotebookAndPenSequence\">\\n            <Retry num_attempts=\"3\">\\n                <Locate object=\"notebook and pen\" \\n                        position_x=\"{notebook_position_x}\" \\n                        position_y=\"{notebook_position_y}\" \\n                        position_z=\"{notebook_position_z}\" \\n                        method=\"camera_scan\"/>\\n            </Retry>\\n            <Retry num_attempts=\"2\">\\n                <Navigate x=\"{notebook_position_x}\" y=\"{notebook_position_y}\" />\\n            </Retry>\\n            <Retry num_attempts=\"2\">\\n                <Pick object=\"notebook and pen\" \\n                      grip_strength=\"medium\" \\n                      precision=\"high\"/>\\n            </Retry>\\n            <Retry num_attempts=\"2\">\\n                <Place object=\"notebook and pen\" \\n                       surface=\"wooden cutting board on the dining table\" \\n                       orientation=\"upright\" \\n                       alignment=\"center\"/>\\n            </Retry>\\n        </BehaviorTree>\\n    </root>\\n',\n",
       "   '\\n    <root main_tree_to_execute=\"RetrieveAndPlaceSoupSequence\">\\n        <BehaviorTree ID=\"RetrieveAndPlaceSoupSequence\">\\n            <Retry num_attempts=\"3\">\\n                <Locate object=\"can of soup sitting on the empty glass cup next to the sink\" \\n                        position_x=\"{soup_position_x}\" \\n                        position_y=\"{soup_position_y}\" \\n                        position_z=\"{soup_position_z}\" \\n                        method=\"camera_scan\"/>\\n            </Retry>\\n            <Retry num_attempts=\"2\">\\n                <Navigate x=\"{soup_position_x}\" y=\"{soup_position_y}\" />\\n            </Retry>\\n            <Retry num_attempts=\"2\">\\n                <Pick object=\"can of soup\" \\n                      grip_strength=\"medium\" \\n                      precision=\"high\" />\\n            </Retry>\\n            <Retry num_attempts=\"2\">\\n                <Place object=\"can of soup\" \\n                       surface=\"ceramic plate with some bread crumbs\" \\n                       orientation=\"upright\" \\n                       alignment=\"center\" />\\n            </Retry>\\n        </BehaviorTree>\\n    </root>\\n',\n",
       "   '\\n    <root main_tree_to_execute=\"LocateAndPlaceWaterFilterSequence\">\\n        <BehaviorTree ID=\"LocateAndPlaceWaterFilterSequence\">\\n            <Sequence name=\"LocateAndPlaceWaterFilter\">\\n                <Retry num_attempts=\"3\">\\n                    <Locate object=\"water filter sitting next to the safety helmet\" \\n                            position_x=\"{water_filter_position_x}\" \\n                            position_y=\"{water_filter_position_y}\" \\n                            position_z=\"{water_filter_position_z}\" \\n                            method=\"camera_scan\"/>\\n                </Retry>\\n                <Retry num_attempts=\"2\">\\n                    <Navigate x=\"{water_filter_position_x}\" y=\"{water_filter_position_y}\"/>\\n                </Retry>\\n                <Retry num_attempts=\"2\">\\n                    <Pick object=\"water filter sitting next to the safety helmet\" \\n                          grip_strength=\"medium\" \\n                          precision=\"high\"/>\\n                </Retry>\\n                <Retry num_attempts=\"2\">\\n                    <Place object=\"water filter sitting next to the safety helmet\" \\n                           surface=\"safety helmet\" \\n                           orientation=\"upright\" \\n                           alignment=\"center\"/>\\n                </Retry>\\n            </Sequence>\\n        </BehaviorTree>\\n    </root>\\n']}}"
      ]
     },
     "execution_count": 19,
     "metadata": {},
     "output_type": "execute_result"
    }
   ],
   "source": [
    "xml_1b"
   ]
  }
 ],
 "metadata": {
  "kernelspec": {
   "display_name": "env",
   "language": "python",
   "name": "python3"
  },
  "language_info": {
   "codemirror_mode": {
    "name": "ipython",
    "version": 3
   },
   "file_extension": ".py",
   "mimetype": "text/x-python",
   "name": "python",
   "nbconvert_exporter": "python",
   "pygments_lexer": "ipython3",
   "version": "3.11.5"
  }
 },
 "nbformat": 4,
 "nbformat_minor": 2
}
