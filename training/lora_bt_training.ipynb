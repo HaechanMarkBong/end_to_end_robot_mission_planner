{
 "cells": [
  {
   "cell_type": "code",
   "execution_count": 6,
   "metadata": {},
   "outputs": [],
   "source": [
    "from transformers import (\n",
    "    AutoModelForCausalLM,\n",
    "    AutoTokenizer,\n",
    "    BitsAndBytesConfig,\n",
    "    TrainingArguments,\n",
    ")\n",
    "from peft import LoraConfig\n",
    "import torch\n",
    "from trl import SFTTrainer\n",
    "import json\n",
    "import pandas as pd\n",
    "from datasets import Dataset\n",
    "\n",
    "import bitsandbytes as bnb\n",
    "\n",
    "torch.cuda.empty_cache()"
   ]
  },
  {
   "cell_type": "code",
   "execution_count": 7,
   "metadata": {},
   "outputs": [
    {
     "data": {
      "text/plain": [
       "1"
      ]
     },
     "execution_count": 7,
     "metadata": {},
     "output_type": "execute_result"
    }
   ],
   "source": [
    "torch_dtype = torch.float16\n",
    "attn_implementation = \"eager\"\n",
    "\n",
    "# QLoRA config\n",
    "bnb_config = BitsAndBytesConfig(\n",
    "    load_in_4bit=True,\n",
    "    bnb_4bit_quant_type=\"nf4\",\n",
    "    bnb_4bit_compute_dtype=torch_dtype,\n",
    "    bnb_4bit_use_double_quant=True,\n",
    ")\n",
    "\n",
    "base_model = \"meta-llama/Llama-3.2-1B-Instruct\"\n",
    "\n",
    "# Load model\n",
    "model = AutoModelForCausalLM.from_pretrained(\n",
    "    base_model,\n",
    "    quantization_config=bnb_config,\n",
    "    device_map=\"auto\",\n",
    "    attn_implementation=attn_implementation\n",
    ")\n",
    "\n",
    "# Load tokenizer\n",
    "tokenizer= AutoTokenizer.from_pretrained(base_model, trust_remote_code=True)\n",
    "tokenizer.add_special_tokens({'pad_token': '[PAD]'})"
   ]
  },
  {
   "cell_type": "code",
   "execution_count": 8,
   "metadata": {},
   "outputs": [
    {
     "data": {
      "text/html": [
       "<div>\n",
       "<style scoped>\n",
       "    .dataframe tbody tr th:only-of-type {\n",
       "        vertical-align: middle;\n",
       "    }\n",
       "\n",
       "    .dataframe tbody tr th {\n",
       "        vertical-align: top;\n",
       "    }\n",
       "\n",
       "    .dataframe thead th {\n",
       "        text-align: right;\n",
       "    }\n",
       "</style>\n",
       "<table border=\"1\" class=\"dataframe\">\n",
       "  <thead>\n",
       "    <tr style=\"text-align: right;\">\n",
       "      <th></th>\n",
       "      <th>object_context</th>\n",
       "      <th>actions_dictionary</th>\n",
       "      <th>query</th>\n",
       "      <th>explanation</th>\n",
       "      <th>bt_xml</th>\n",
       "      <th>bt_json</th>\n",
       "    </tr>\n",
       "  </thead>\n",
       "  <tbody>\n",
       "    <tr>\n",
       "      <th>0</th>\n",
       "      <td>[{'name': 'a first aid kit', 'position': {'x':...</td>\n",
       "      <td>[{'name': 'Wait', 'description': 'Wait for a s...</td>\n",
       "      <td>Please locate the first aid kit, pick it up wi...</td>\n",
       "      <td>Good, I will first locate the first aid kit an...</td>\n",
       "      <td>&lt;root main_tree_to_execute=\"LocatePickAndDeliv...</td>\n",
       "      <td>{'type': 'Sequence', 'name': 'LocatePickAndDel...</td>\n",
       "    </tr>\n",
       "    <tr>\n",
       "      <th>1</th>\n",
       "      <td>[{'name': 'a smartphone', 'position': {'x': 7....</td>\n",
       "      <td>[{'name': 'Wait', 'description': 'Wait for a s...</td>\n",
       "      <td>Please navigate to the toolkit, pick it up wit...</td>\n",
       "      <td>Good, I will navigate to the toolkit's locatio...</td>\n",
       "      <td>&lt;root main_tree_to_execute=\"RetrieveAndPlaceTo...</td>\n",
       "      <td>{'type': 'Sequence', 'name': 'RetrieveAndPlace...</td>\n",
       "    </tr>\n",
       "    <tr>\n",
       "      <th>2</th>\n",
       "      <td>[{'name': 'a flashlight', 'position': {'x': 9....</td>\n",
       "      <td>[{'name': 'Wait', 'description': 'Wait for a s...</td>\n",
       "      <td>Please locate the crowbar, pick it up with hig...</td>\n",
       "      <td>Good, I will first locate the crowbar to deter...</td>\n",
       "      <td>&lt;root main_tree_to_execute=\"LocatePickAndPlace...</td>\n",
       "      <td>{'type': 'Sequence', 'name': 'LocatePickAndPla...</td>\n",
       "    </tr>\n",
       "    <tr>\n",
       "      <th>3</th>\n",
       "      <td>[{'name': 'a silver knife laying on the counte...</td>\n",
       "      <td>[{'name': 'Wait', 'description': 'Wait for a s...</td>\n",
       "      <td>Please locate the silver knife on the counter,...</td>\n",
       "      <td>I will locate the silver knife on the counter,...</td>\n",
       "      <td>&lt;root main_tree_to_execute=\"LocatePickAndPlace...</td>\n",
       "      <td>{'type': 'Sequence', 'name': 'LocatePickAndPla...</td>\n",
       "    </tr>\n",
       "    <tr>\n",
       "      <th>4</th>\n",
       "      <td>[{'name': 'a toolkit', 'position': {'x': 19.6,...</td>\n",
       "      <td>[{'name': 'Wait', 'description': 'Wait for a s...</td>\n",
       "      <td>Please navigate to the water bottle, pick it u...</td>\n",
       "      <td>I will navigate to the location of the water b...</td>\n",
       "      <td>&lt;root main_tree_to_execute=\"RetrieveAndPlaceWa...</td>\n",
       "      <td>{'type': 'Sequence', 'name': 'RetrieveAndPlace...</td>\n",
       "    </tr>\n",
       "  </tbody>\n",
       "</table>\n",
       "</div>"
      ],
      "text/plain": [
       "                                      object_context  \\\n",
       "0  [{'name': 'a first aid kit', 'position': {'x':...   \n",
       "1  [{'name': 'a smartphone', 'position': {'x': 7....   \n",
       "2  [{'name': 'a flashlight', 'position': {'x': 9....   \n",
       "3  [{'name': 'a silver knife laying on the counte...   \n",
       "4  [{'name': 'a toolkit', 'position': {'x': 19.6,...   \n",
       "\n",
       "                                  actions_dictionary  \\\n",
       "0  [{'name': 'Wait', 'description': 'Wait for a s...   \n",
       "1  [{'name': 'Wait', 'description': 'Wait for a s...   \n",
       "2  [{'name': 'Wait', 'description': 'Wait for a s...   \n",
       "3  [{'name': 'Wait', 'description': 'Wait for a s...   \n",
       "4  [{'name': 'Wait', 'description': 'Wait for a s...   \n",
       "\n",
       "                                               query  \\\n",
       "0  Please locate the first aid kit, pick it up wi...   \n",
       "1  Please navigate to the toolkit, pick it up wit...   \n",
       "2  Please locate the crowbar, pick it up with hig...   \n",
       "3  Please locate the silver knife on the counter,...   \n",
       "4  Please navigate to the water bottle, pick it u...   \n",
       "\n",
       "                                         explanation  \\\n",
       "0  Good, I will first locate the first aid kit an...   \n",
       "1  Good, I will navigate to the toolkit's locatio...   \n",
       "2  Good, I will first locate the crowbar to deter...   \n",
       "3  I will locate the silver knife on the counter,...   \n",
       "4  I will navigate to the location of the water b...   \n",
       "\n",
       "                                              bt_xml  \\\n",
       "0  <root main_tree_to_execute=\"LocatePickAndDeliv...   \n",
       "1  <root main_tree_to_execute=\"RetrieveAndPlaceTo...   \n",
       "2  <root main_tree_to_execute=\"LocatePickAndPlace...   \n",
       "3  <root main_tree_to_execute=\"LocatePickAndPlace...   \n",
       "4  <root main_tree_to_execute=\"RetrieveAndPlaceWa...   \n",
       "\n",
       "                                             bt_json  \n",
       "0  {'type': 'Sequence', 'name': 'LocatePickAndDel...  \n",
       "1  {'type': 'Sequence', 'name': 'RetrieveAndPlace...  \n",
       "2  {'type': 'Sequence', 'name': 'LocatePickAndPla...  \n",
       "3  {'type': 'Sequence', 'name': 'LocatePickAndPla...  \n",
       "4  {'type': 'Sequence', 'name': 'RetrieveAndPlace...  "
      ]
     },
     "execution_count": 8,
     "metadata": {},
     "output_type": "execute_result"
    }
   ],
   "source": [
    "data = pd.read_json(\"./queries_dataset.json\")\n",
    "data.head()\n"
   ]
  },
  {
   "cell_type": "code",
   "execution_count": 9,
   "metadata": {},
   "outputs": [
    {
     "data": {
      "text/html": [
       "<div>\n",
       "<style scoped>\n",
       "    .dataframe tbody tr th:only-of-type {\n",
       "        vertical-align: middle;\n",
       "    }\n",
       "\n",
       "    .dataframe tbody tr th {\n",
       "        vertical-align: top;\n",
       "    }\n",
       "\n",
       "    .dataframe thead th {\n",
       "        text-align: right;\n",
       "    }\n",
       "</style>\n",
       "<table border=\"1\" class=\"dataframe\">\n",
       "  <thead>\n",
       "    <tr style=\"text-align: right;\">\n",
       "      <th></th>\n",
       "      <th>complete_instruction</th>\n",
       "      <th>instruction</th>\n",
       "      <th>input</th>\n",
       "      <th>output</th>\n",
       "    </tr>\n",
       "  </thead>\n",
       "  <tbody>\n",
       "    <tr>\n",
       "      <th>0</th>\n",
       "      <td>You are GoatBrain, an AI assistant that proces...</td>\n",
       "      <td>You are GoatBrain, an AI assistant that proces...</td>\n",
       "      <td>Please locate the first aid kit, pick it up wi...</td>\n",
       "      <td>&lt;root main_tree_to_execute=\"LocatePickAndDeliv...</td>\n",
       "    </tr>\n",
       "    <tr>\n",
       "      <th>1</th>\n",
       "      <td>You are GoatBrain, an AI assistant that proces...</td>\n",
       "      <td>You are GoatBrain, an AI assistant that proces...</td>\n",
       "      <td>Please navigate to the toolkit, pick it up wit...</td>\n",
       "      <td>&lt;root main_tree_to_execute=\"RetrieveAndPlaceTo...</td>\n",
       "    </tr>\n",
       "    <tr>\n",
       "      <th>2</th>\n",
       "      <td>You are GoatBrain, an AI assistant that proces...</td>\n",
       "      <td>You are GoatBrain, an AI assistant that proces...</td>\n",
       "      <td>Please locate the crowbar, pick it up with hig...</td>\n",
       "      <td>&lt;root main_tree_to_execute=\"LocatePickAndPlace...</td>\n",
       "    </tr>\n",
       "    <tr>\n",
       "      <th>3</th>\n",
       "      <td>You are GoatBrain, an AI assistant that proces...</td>\n",
       "      <td>You are GoatBrain, an AI assistant that proces...</td>\n",
       "      <td>Please locate the silver knife on the counter,...</td>\n",
       "      <td>&lt;root main_tree_to_execute=\"LocatePickAndPlace...</td>\n",
       "    </tr>\n",
       "    <tr>\n",
       "      <th>4</th>\n",
       "      <td>You are GoatBrain, an AI assistant that proces...</td>\n",
       "      <td>You are GoatBrain, an AI assistant that proces...</td>\n",
       "      <td>Please navigate to the water bottle, pick it u...</td>\n",
       "      <td>&lt;root main_tree_to_execute=\"RetrieveAndPlaceWa...</td>\n",
       "    </tr>\n",
       "  </tbody>\n",
       "</table>\n",
       "</div>"
      ],
      "text/plain": [
       "                                complete_instruction  \\\n",
       "0  You are GoatBrain, an AI assistant that proces...   \n",
       "1  You are GoatBrain, an AI assistant that proces...   \n",
       "2  You are GoatBrain, an AI assistant that proces...   \n",
       "3  You are GoatBrain, an AI assistant that proces...   \n",
       "4  You are GoatBrain, an AI assistant that proces...   \n",
       "\n",
       "                                         instruction  \\\n",
       "0  You are GoatBrain, an AI assistant that proces...   \n",
       "1  You are GoatBrain, an AI assistant that proces...   \n",
       "2  You are GoatBrain, an AI assistant that proces...   \n",
       "3  You are GoatBrain, an AI assistant that proces...   \n",
       "4  You are GoatBrain, an AI assistant that proces...   \n",
       "\n",
       "                                               input  \\\n",
       "0  Please locate the first aid kit, pick it up wi...   \n",
       "1  Please navigate to the toolkit, pick it up wit...   \n",
       "2  Please locate the crowbar, pick it up with hig...   \n",
       "3  Please locate the silver knife on the counter,...   \n",
       "4  Please navigate to the water bottle, pick it u...   \n",
       "\n",
       "                                              output  \n",
       "0  <root main_tree_to_execute=\"LocatePickAndDeliv...  \n",
       "1  <root main_tree_to_execute=\"RetrieveAndPlaceTo...  \n",
       "2  <root main_tree_to_execute=\"LocatePickAndPlace...  \n",
       "3  <root main_tree_to_execute=\"LocatePickAndPlace...  \n",
       "4  <root main_tree_to_execute=\"RetrieveAndPlaceWa...  "
      ]
     },
     "execution_count": 9,
     "metadata": {},
     "output_type": "execute_result"
    }
   ],
   "source": [
    "object_context = data['object_context']\n",
    "actions_dictionary = data['actions_dictionary']\n",
    "query = data['query']\n",
    "explanation = data['explanation']\n",
    "bt_xml = data['bt_xml']\n",
    "bt_json = data['bt_json']\n",
    "\n",
    "from prompt_data import template, action_list, object_list, question_example, xml_example, json_example, answer_example, short_template, training_template\n",
    "\n",
    "data_prompt = \"\"\"<|begin_of_text|><|start_header_id|>system<|end_header_id|>\n",
    "{}<|eot_id|>\n",
    "<|start_header_id|>user<|end_header_id|>\n",
    "{}<|eot_id|>\n",
    "<|start_header_id|>assistant<|end_header_id|>\n",
    "{}\n",
    "\"\"\"\n",
    "\n",
    "\n",
    "def formatting_prompt(examples):\n",
    "    instructions = examples[\"instruction\"]\n",
    "    inputs = examples[\"input\"]\n",
    "    outputs = examples[\"output\"]\n",
    "    texts = []\n",
    "    for instruction,input_, output in zip(instructions, inputs, outputs):\n",
    "        text = data_prompt.format(instruction,input_, output)\n",
    "        texts.append(text)\n",
    "    return { \"text\" : texts, }\n",
    "\n",
    "\n",
    "json_system = template.format(\n",
    "    format_type=\"JSON\",\n",
    "    example=question_example + \"\\n\" + answer_example + \"\\n\" + json_example,\n",
    "    available_actions=action_list,\n",
    "    object_list=object_list,\n",
    ")\n",
    "\n",
    "xml_systems = [\n",
    "    short_template.format(\n",
    "        format_type=\"XML\",\n",
    "        example=question_example + \"\\n\" + answer_example + \"\\n\" + xml_example,\n",
    "        available_actions= action_list,\n",
    "        object_list=reduced_object_list,\n",
    "    ) for reduced_object_list in object_context]\n",
    "\n",
    "training_systems = [\n",
    "    training_template.format(\n",
    "        available_actions= action_list,\n",
    "        object_list=object_list,\n",
    "    ) for object_list in object_context]\n",
    "\n",
    "formatted_data = pd.DataFrame({\n",
    "    'complete_instruction' : xml_systems,\n",
    "    'instruction': training_systems,\n",
    "    'input': query,\n",
    "    'output': bt_xml,\n",
    "})\n",
    "\n",
    "formatted_data.head()"
   ]
  },
  {
   "cell_type": "code",
   "execution_count": 10,
   "metadata": {},
   "outputs": [
    {
     "data": {
      "application/vnd.jupyter.widget-view+json": {
       "model_id": "76d6853816d94b3f862b14411db03c57",
       "version_major": 2,
       "version_minor": 0
      },
      "text/plain": [
       "Map:   0%|          | 0/5 [00:00<?, ? examples/s]"
      ]
     },
     "metadata": {},
     "output_type": "display_data"
    }
   ],
   "source": [
    "# Create the dataset and apply the mapping\n",
    "training_data = Dataset.from_pandas(formatted_data)\n",
    "training_data = training_data.map(formatting_prompt, batched=True)\n",
    "\n",
    "# Display a sample for verification\n",
    "# print(training_data[0][\"text\"])"
   ]
  },
  {
   "cell_type": "code",
   "execution_count": 11,
   "metadata": {},
   "outputs": [
    {
     "name": "stdout",
     "output_type": "stream",
     "text": [
      "3410\n",
      "3261\n",
      "3733\n",
      "3643\n",
      "3629\n"
     ]
    }
   ],
   "source": [
    "for i in range(len(training_data)):\n",
    "    print(len(training_data[i]['text']))"
   ]
  },
  {
   "cell_type": "code",
   "execution_count": 12,
   "metadata": {},
   "outputs": [
    {
     "name": "stdout",
     "output_type": "stream",
     "text": [
      "Sequence length: 873\n"
     ]
    }
   ],
   "source": [
    "tokenized = tokenizer(training_data[1]['text'], return_tensors=\"pt\")\n",
    "\n",
    "sequence_length = tokenized.input_ids.size(-1)\n",
    "print(f\"Sequence length: {sequence_length}\")"
   ]
  },
  {
   "cell_type": "code",
   "execution_count": 13,
   "metadata": {},
   "outputs": [
    {
     "name": "stderr",
     "output_type": "stream",
     "text": [
      "c:\\workspace\\ETS\\SYS819\\goat-planner\\env\\Lib\\site-packages\\transformers\\training_args.py:1575: FutureWarning: `evaluation_strategy` is deprecated and will be removed in version 4.46 of 🤗 Transformers. Use `eval_strategy` instead\n",
      "  warnings.warn(\n",
      "c:\\workspace\\ETS\\SYS819\\goat-planner\\env\\Lib\\site-packages\\transformers\\training_args.py:2070: FutureWarning: `--push_to_hub_token` is deprecated and will be removed in version 5 of 🤗 Transformers. Use `--hub_token` instead.\n",
      "  warnings.warn(\n"
     ]
    },
    {
     "data": {
      "application/vnd.jupyter.widget-view+json": {
       "model_id": "ecd7e623d2a74c48b9cc3984026c685e",
       "version_major": 2,
       "version_minor": 0
      },
      "text/plain": [
       "Map:   0%|          | 0/4 [00:00<?, ? examples/s]"
      ]
     },
     "metadata": {},
     "output_type": "display_data"
    },
    {
     "data": {
      "application/vnd.jupyter.widget-view+json": {
       "model_id": "8cb940a500de45b789bd394930bf3758",
       "version_major": 2,
       "version_minor": 0
      },
      "text/plain": [
       "Map:   0%|          | 0/1 [00:00<?, ? examples/s]"
      ]
     },
     "metadata": {},
     "output_type": "display_data"
    }
   ],
   "source": [
    "\n",
    "def find_all_linear_names(model):\n",
    "    cls = bnb.nn.Linear4bit\n",
    "    lora_module_names = set()\n",
    "    for name, module in model.named_modules():\n",
    "        if isinstance(module, cls):\n",
    "            names = name.split('.')\n",
    "            lora_module_names.add(names[0] if len(names) == 1 else names[-1])\n",
    "    if 'lm_head' in lora_module_names:  # needed for 16 bit\n",
    "        lora_module_names.remove('lm_head')\n",
    "    return list(lora_module_names)\n",
    "\n",
    "modules = find_all_linear_names(model)\n",
    "\n",
    "\n",
    "# LoRA config\n",
    "peft_config = LoraConfig(\n",
    "    r=16,\n",
    "    lora_alpha=32,\n",
    "    lora_dropout=0.05,\n",
    "    bias=\"none\",\n",
    "    task_type=\"CAUSAL_LM\",\n",
    "    target_modules=modules\n",
    ")\n",
    "\n",
    "new_model = \"llama-3.2-1b-bt-xml\"\n",
    "\n",
    "#Hyperparamter\n",
    "training_arguments = TrainingArguments(\n",
    "    output_dir=new_model,\n",
    "    per_device_train_batch_size=1,\n",
    "    per_device_eval_batch_size=1,\n",
    "    gradient_accumulation_steps=2,\n",
    "    optim=\"paged_adamw_32bit\",\n",
    "    num_train_epochs=1,\n",
    "    evaluation_strategy=\"steps\",\n",
    "    eval_steps=0.1,\n",
    "    logging_steps=1,\n",
    "    warmup_steps=10,\n",
    "    logging_strategy=\"steps\",\n",
    "    learning_rate=2e-4,\n",
    "    fp16=True,\n",
    "    bf16=False,\n",
    "    group_by_length=True,\n",
    "    report_to=\"wandb\",\n",
    ")\n",
    "\n",
    "\n",
    "from trl import SFTConfig\n",
    "\n",
    "# Create the SFT config\n",
    "sft_config = SFTConfig(\n",
    "    max_seq_length=1100,\n",
    "    packing=False,\n",
    "    **training_arguments.to_dict()\n",
    ")\n",
    "\n",
    "# Create train/test split\n",
    "full_dataset = training_data.train_test_split(test_size=0.1, seed=42)\n",
    "\n",
    "\n",
    "# Setting sft parameters\n",
    "trainer = SFTTrainer(\n",
    "    model=model,\n",
    "    train_dataset=full_dataset[\"train\"],\n",
    "    eval_dataset=full_dataset[\"test\"],\n",
    "    peft_config=peft_config,\n",
    "    #dataset_text_field=\"text\",\n",
    "    args=sft_config,\n",
    "    #packing=False,\n",
    "    processing_class=tokenizer\n",
    ")\n",
    "\n"
   ]
  },
  {
   "cell_type": "code",
   "execution_count": 14,
   "metadata": {},
   "outputs": [
    {
     "name": "stdout",
     "output_type": "stream",
     "text": [
      "Sequence length: 607\n"
     ]
    }
   ],
   "source": [
    "tokenized = tokenizer(training_data[0]['instruction'], return_tensors=\"pt\")\n",
    "\n",
    "sequence_length = tokenized.input_ids.size(-1)\n",
    "print(f\"Sequence length: {sequence_length}\")"
   ]
  },
  {
   "cell_type": "code",
   "execution_count": 15,
   "metadata": {},
   "outputs": [
    {
     "name": "stderr",
     "output_type": "stream",
     "text": [
      "Setting `pad_token_id` to `eos_token_id`:128001 for open-end generation.\n"
     ]
    },
    {
     "name": "stdout",
     "output_type": "stream",
     "text": [
      "Answer of the question is: \n",
      "\n",
      "<plan>\n",
      "<root main_tree_to_execute=\"LocateAndPickAndDeliverPlan\">\n",
      "    <BehaviorTree ID=\"LocateAndPickAndDeliverPlan\">\n",
      "        <Locate object=\"a first aid kit\" \n",
      "                position_x=\"{first aid kit position x}\" \n",
      "                position_y=\"{first aid kit position y}\" \n",
      "                position_z=\"{first aid kit position z}\" \n",
      "                method=\"camera_scan\"/>\n",
      "        <Locate object=\"a first aid kit\" \n",
      "                position_x=\"{first aid kit position x}\" \n",
      "                position_y=\"{first aid kit position y}\" \n",
      "                position_z=\"{first aid kit position z}\" \n",
      "                method=\"camera_scan\"/>\n",
      "        <Locate object=\"a first aid kit\" \n",
      "                position_x=\"{first aid kit position x}\" \n",
      "                position_y=\"{first aid kit position y}\" \n",
      "                position_z=\"{first aid kit position z}\" \n",
      "                method=\"camera_scan\"/>\n",
      "        <Locate object=\"a first aid kit\" \n",
      "                position_x=\"{first aid kit position x}\" \n",
      "                position_y=\"{first aid kit position y}\" \n",
      "                position_z=\"{first aid kit position z}\" \n",
      "                method=\"camera_scan\"/>\n",
      "        <Locate object=\"a first aid kit\" \n",
      "                position_x=\"{first aid kit position x}\" \n",
      "                position_y=\"{first aid kit position y}\" \n",
      "                position_z=\"{first aid kit position z}\" \n",
      "                method=\"camera_scan\"/>\n",
      "        <Locate object=\"a first aid kit\" \n",
      "                position_x=\"{first aid kit position x}\" \n",
      "                position_y=\"{first aid kit position y}\" \n",
      "                position_z=\"{first aid kit position z}\" \n",
      "                method=\"camera_scan\"/>\n",
      "        <Locate object=\"a first aid kit\" \n",
      "                position_x=\"{first aid kit position x}\" \n",
      "                position_y=\"{first aid kit position y}\" \n",
      "                position_z=\"{first aid kit position z}\" \n",
      "                method=\"camera_scan\"/>\n",
      "        <Locate object=\"a first aid kit\" \n",
      "                position_x=\"{first aid kit position x}\" \n",
      "                position_y=\"{first aid kit position y}\" \n",
      "                position_z=\"{first aid kit position z}\" \n",
      "                method=\"camera_scan\"/>\n",
      "        <Locate object=\"a first aid kit\" \n",
      "                position_x=\"{first aid kit position x}\" \n",
      "                position_y=\"{first aid kit position y}\" \n",
      "                position_z=\"{first aid kit position z}\" \n",
      "                method=\"camera_scan\"/>\n",
      "        <Locate object=\"a\n"
     ]
    }
   ],
   "source": [
    "instructions = training_data[\"complete_instruction\"][0]\n",
    "inputs = training_data[\"input\"][0]\n",
    "outputs = training_data[\"output\"][0]\n",
    "text = data_prompt.format(instructions, inputs, \"\")\n",
    "\n",
    "inputs = tokenizer([\n",
    "    text\n",
    "], return_tensors='pt', padding=True, truncation=True).to(\"cuda\")\n",
    "\n",
    "\n",
    "outputs = model.generate(**inputs, max_new_tokens = 500, use_cache = True)\n",
    "\n",
    "answer=tokenizer.batch_decode(outputs)\n",
    "answer=answer[0].split(\"<|start_header_id|>assistant<|end_header_id|>\")[-1]\n",
    "print(\"Answer of the question is:\", answer)"
   ]
  },
  {
   "cell_type": "code",
   "execution_count": 16,
   "metadata": {},
   "outputs": [
    {
     "name": "stderr",
     "output_type": "stream",
     "text": [
      "\u001b[34m\u001b[1mwandb\u001b[0m: \u001b[33mWARNING\u001b[0m The `run_name` is currently set to the same value as `TrainingArguments.output_dir`. If this was not intended, please specify a different run name by setting the `TrainingArguments.run_name` parameter.\n",
      "\u001b[34m\u001b[1mwandb\u001b[0m: Using wandb-core as the SDK backend.  Please refer to https://wandb.me/wandb-core for more information.\n",
      "\u001b[34m\u001b[1mwandb\u001b[0m: Currently logged in as: \u001b[33msimonroy99\u001b[0m (\u001b[33msimonroy99-cole-de-technologie-sup-rieure\u001b[0m). Use \u001b[1m`wandb login --relogin`\u001b[0m to force relogin\n"
     ]
    },
    {
     "data": {
      "text/html": [
       "Tracking run with wandb version 0.19.1"
      ],
      "text/plain": [
       "<IPython.core.display.HTML object>"
      ]
     },
     "metadata": {},
     "output_type": "display_data"
    },
    {
     "data": {
      "text/html": [
       "Run data is saved locally in <code>c:\\workspace\\ETS\\SYS819\\goat-planner\\training\\wandb\\run-20241219_174126-csvbpbtb</code>"
      ],
      "text/plain": [
       "<IPython.core.display.HTML object>"
      ]
     },
     "metadata": {},
     "output_type": "display_data"
    },
    {
     "data": {
      "text/html": [
       "Syncing run <strong><a href='https://wandb.ai/simonroy99-cole-de-technologie-sup-rieure/huggingface/runs/csvbpbtb' target=\"_blank\">llama-3.2-1b-bt-xml</a></strong> to <a href='https://wandb.ai/simonroy99-cole-de-technologie-sup-rieure/huggingface' target=\"_blank\">Weights & Biases</a> (<a href='https://wandb.me/developer-guide' target=\"_blank\">docs</a>)<br>"
      ],
      "text/plain": [
       "<IPython.core.display.HTML object>"
      ]
     },
     "metadata": {},
     "output_type": "display_data"
    },
    {
     "data": {
      "text/html": [
       " View project at <a href='https://wandb.ai/simonroy99-cole-de-technologie-sup-rieure/huggingface' target=\"_blank\">https://wandb.ai/simonroy99-cole-de-technologie-sup-rieure/huggingface</a>"
      ],
      "text/plain": [
       "<IPython.core.display.HTML object>"
      ]
     },
     "metadata": {},
     "output_type": "display_data"
    },
    {
     "data": {
      "text/html": [
       " View run at <a href='https://wandb.ai/simonroy99-cole-de-technologie-sup-rieure/huggingface/runs/csvbpbtb' target=\"_blank\">https://wandb.ai/simonroy99-cole-de-technologie-sup-rieure/huggingface/runs/csvbpbtb</a>"
      ],
      "text/plain": [
       "<IPython.core.display.HTML object>"
      ]
     },
     "metadata": {},
     "output_type": "display_data"
    },
    {
     "data": {
      "application/vnd.jupyter.widget-view+json": {
       "model_id": "463432489d9a41c692dae73e056b3d3e",
       "version_major": 2,
       "version_minor": 0
      },
      "text/plain": [
       "  0%|          | 0/2 [00:00<?, ?it/s]"
      ]
     },
     "metadata": {},
     "output_type": "display_data"
    },
    {
     "name": "stderr",
     "output_type": "stream",
     "text": [
      "Trainer.tokenizer is now deprecated. You should use Trainer.processing_class instead.\n",
      "Trainer.tokenizer is now deprecated. You should use Trainer.processing_class instead.\n"
     ]
    },
    {
     "name": "stdout",
     "output_type": "stream",
     "text": [
      "{'loss': 1.3341, 'grad_norm': 1.3466427326202393, 'learning_rate': 2e-05, 'epoch': 0.5}\n"
     ]
    },
    {
     "data": {
      "application/vnd.jupyter.widget-view+json": {
       "model_id": "352c6b8a3a7f4e9f90468f8aa2b5e0bc",
       "version_major": 2,
       "version_minor": 0
      },
      "text/plain": [
       "  0%|          | 0/1 [00:00<?, ?it/s]"
      ]
     },
     "metadata": {},
     "output_type": "display_data"
    },
    {
     "name": "stdout",
     "output_type": "stream",
     "text": [
      "{'eval_loss': 1.2786965370178223, 'eval_runtime': 0.197, 'eval_samples_per_second': 5.077, 'eval_steps_per_second': 5.077, 'epoch': 0.5}\n"
     ]
    },
    {
     "name": "stderr",
     "output_type": "stream",
     "text": [
      "Trainer.tokenizer is now deprecated. You should use Trainer.processing_class instead.\n",
      "Trainer.tokenizer is now deprecated. You should use Trainer.processing_class instead.\n"
     ]
    },
    {
     "name": "stdout",
     "output_type": "stream",
     "text": [
      "{'loss': 1.3383, 'grad_norm': 1.374582052230835, 'learning_rate': 4e-05, 'epoch': 1.0}\n"
     ]
    },
    {
     "data": {
      "application/vnd.jupyter.widget-view+json": {
       "model_id": "ba269597610f43349232322ff77a54d6",
       "version_major": 2,
       "version_minor": 0
      },
      "text/plain": [
       "  0%|          | 0/1 [00:00<?, ?it/s]"
      ]
     },
     "metadata": {},
     "output_type": "display_data"
    },
    {
     "name": "stdout",
     "output_type": "stream",
     "text": [
      "{'eval_loss': 1.2541751861572266, 'eval_runtime': 0.1989, 'eval_samples_per_second': 5.028, 'eval_steps_per_second': 5.028, 'epoch': 1.0}\n",
      "{'train_runtime': 4.0846, 'train_samples_per_second': 0.979, 'train_steps_per_second': 0.49, 'train_loss': 1.3362263441085815, 'epoch': 1.0}\n"
     ]
    },
    {
     "data": {
      "text/plain": [
       "TrainOutput(global_step=2, training_loss=1.3362263441085815, metrics={'train_runtime': 4.0846, 'train_samples_per_second': 0.979, 'train_steps_per_second': 0.49, 'total_flos': 22308887605248.0, 'train_loss': 1.3362263441085815, 'epoch': 1.0})"
      ]
     },
     "execution_count": 16,
     "metadata": {},
     "output_type": "execute_result"
    }
   ],
   "source": [
    "trainer.train()"
   ]
  },
  {
   "cell_type": "code",
   "execution_count": 17,
   "metadata": {},
   "outputs": [
    {
     "name": "stderr",
     "output_type": "stream",
     "text": [
      "Setting `pad_token_id` to `eos_token_id`:128001 for open-end generation.\n"
     ]
    }
   ],
   "source": [
    "inputs = tokenizer([\n",
    "    text\n",
    "], return_tensors='pt', padding=True, truncation=True).to(\"cuda\")\n",
    "\n",
    "\n",
    "outputs = model.generate(**inputs, max_new_tokens = 500, use_cache = True)\n",
    "\n",
    "answer=tokenizer.batch_decode(outputs)"
   ]
  },
  {
   "cell_type": "code",
   "execution_count": 18,
   "metadata": {},
   "outputs": [],
   "source": [
    "EOS_TOKEN = \"<|eot_id|>\""
   ]
  },
  {
   "cell_type": "code",
   "execution_count": 19,
   "metadata": {},
   "outputs": [
    {
     "name": "stdout",
     "output_type": "stream",
     "text": [
      "Answer of the question is: \n",
      "\n",
      "<plan>\n",
      "<root main_tree_to_execute=\"LocateAndPickAndDeliverPlan\">\n",
      "    <BehaviorTree ID=\"LocateAndPickAndDeliverPlan\">\n",
      "        <Locate object=\"first aid kit\" \n",
      "                position_x=\"25.0\" \n",
      "                position_y=\"4.0\" \n",
      "                position_z=\"0.0\" \n",
      "                method=\"camera_scan\"/>\n",
      "        <Locate object=\"location\" \n",
      "                position_x=\"20.0\" \n",
      "                position_y=\"5.0\" \n",
      "                position_z=\"0.0\" \n",
      "                method=\"camera_scan\"/>\n",
      "        <Pick object=\"first aid kit\" \n",
      "               grip_strength=\"medium\" \n",
      "               precision=\"high\" \n",
      "               object_name=\"first aid kit\"/>\n",
      "        <Navigate x=\"25.0\" y=\"4.0\" z=\"0.0\"/>\n",
      "        <Deliver object=\"first aid kit\" \n",
      "                 surface=\"location\" \n",
      "                 orientation=\"upright\" \n",
      "                 alignment=\"center\"/>\n",
      "    </BehaviorTree>\n",
      "</root>\n",
      "</plan>\n",
      "\n",
      "Actions allowed:\n",
      "[{'name': 'Wait', 'description': 'Wait for a specific duration', 'params': {'duration': 'float, duration of the waiting time in seconds, e.g., 2.0'}}, {'name': 'Navigate', 'description': 'Go to a destination', 'params': {'x': 'float, X coordinate of the destination, e.g., 1.5', 'y': 'float, Y coordinate of the destination, e.g., 0.0'}}, {'name': 'Pick', 'description': 'Pick up an object', 'params': {'object': \"string, name of the object to pick up, e.g., 'first aid kit'\", 'grip_strength': \"string, grip strength to use, options: 'low','medium', 'high'\", 'precision': \"string, precision level, options: 'low','medium', 'high'\"}}, {'name': 'Locate', 'description': 'Find an object', 'params': {'object': \"string, name of the object to locate, e.g., 'location'\"}, 'output': {'position_x': 'float, X coordinate of the object', 'position_y': 'float, Y coordinate of the object', 'position_z': 'float, Z coordinate of the object'}}, {'name': 'GetCurrentPosition', 'description': 'Retrieve the current position of\n"
     ]
    }
   ],
   "source": [
    "answer=answer[0].split(\"<|start_header_id|>assistant<|end_header_id|>\")[-1].split(EOS_TOKEN)[0]\n",
    "print(\"Answer of the question is:\", answer)"
   ]
  }
 ],
 "metadata": {
  "kernelspec": {
   "display_name": "env",
   "language": "python",
   "name": "python3"
  },
  "language_info": {
   "codemirror_mode": {
    "name": "ipython",
    "version": 3
   },
   "file_extension": ".py",
   "mimetype": "text/x-python",
   "name": "python",
   "nbconvert_exporter": "python",
   "pygments_lexer": "ipython3",
   "version": "3.11.5"
  }
 },
 "nbformat": 4,
 "nbformat_minor": 2
}
