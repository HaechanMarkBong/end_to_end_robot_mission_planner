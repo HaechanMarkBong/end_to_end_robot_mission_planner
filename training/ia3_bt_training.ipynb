{
 "cells": [
  {
   "cell_type": "code",
   "execution_count": 13,
   "metadata": {},
   "outputs": [],
   "source": [
    "from transformers import (\n",
    "    AutoModelForCausalLM,\n",
    "    AutoTokenizer,\n",
    "    BitsAndBytesConfig,\n",
    "    TrainingArguments,\n",
    ")\n",
    "from peft import IA3Config\n",
    "\n",
    "import torch\n",
    "from trl import SFTTrainer\n",
    "import json\n",
    "import pandas as pd\n",
    "from datasets import Dataset\n",
    "\n",
    "import bitsandbytes as bnb\n",
    "\n",
    "torch.cuda.empty_cache()"
   ]
  },
  {
   "cell_type": "code",
   "execution_count": 14,
   "metadata": {},
   "outputs": [
    {
     "data": {
      "text/plain": [
       "0"
      ]
     },
     "execution_count": 14,
     "metadata": {},
     "output_type": "execute_result"
    }
   ],
   "source": [
    "torch_dtype = torch.float16\n",
    "attn_implementation = \"eager\"\n",
    "\n",
    "# QLoRA config\n",
    "bnb_config = BitsAndBytesConfig(\n",
    "    load_in_4bit=True,\n",
    "    bnb_4bit_quant_type=\"nf4\",\n",
    "    bnb_4bit_compute_dtype=torch_dtype,\n",
    "    bnb_4bit_use_double_quant=True,\n",
    ")\n",
    "\n",
    "# base_model = \"meta-llama/Llama-3.2-1B-Instruct\"\n",
    "base_model = \"llama-1B-bt-xml-lora\"\n",
    "# Load model\n",
    "model = AutoModelForCausalLM.from_pretrained(\n",
    "    base_model,\n",
    "    quantization_config=bnb_config,\n",
    "    device_map=\"auto\",\n",
    "    attn_implementation=attn_implementation\n",
    ")\n",
    "\n",
    "# Load tokenizer\n",
    "tokenizer= AutoTokenizer.from_pretrained(base_model, trust_remote_code=True)\n",
    "tokenizer.add_special_tokens({'pad_token': '[PAD]'})"
   ]
  },
  {
   "cell_type": "code",
   "execution_count": null,
   "metadata": {},
   "outputs": [],
   "source": []
  },
  {
   "cell_type": "code",
   "execution_count": 2,
   "metadata": {},
   "outputs": [
    {
     "data": {
      "text/plain": [
       "1"
      ]
     },
     "execution_count": 2,
     "metadata": {},
     "output_type": "execute_result"
    }
   ],
   "source": [
    "torch_dtype = torch.float16\n",
    "attn_implementation = \"eager\"\n",
    "\n",
    "# QLoRA config\n",
    "bnb_config = BitsAndBytesConfig(\n",
    "    load_in_4bit=True,\n",
    "    bnb_4bit_quant_type=\"nf4\",\n",
    "    bnb_4bit_compute_dtype=torch_dtype,\n",
    "    bnb_4bit_use_double_quant=True,\n",
    ")\n",
    "\n",
    "base_model = \"meta-llama/Llama-3.2-1B-Instruct\"\n",
    "\n",
    "# Load model\n",
    "model = AutoModelForCausalLM.from_pretrained(\n",
    "    base_model,\n",
    "    quantization_config=bnb_config,\n",
    "    device_map=\"auto\",\n",
    "    attn_implementation=attn_implementation\n",
    ")\n",
    "\n",
    "# Load tokenizer\n",
    "tokenizer= AutoTokenizer.from_pretrained(base_model, trust_remote_code=True)\n",
    "tokenizer.add_special_tokens({'pad_token': '[PAD]'})"
   ]
  },
  {
   "cell_type": "code",
   "execution_count": 5,
   "metadata": {},
   "outputs": [
    {
     "data": {
      "text/html": [
       "<div>\n",
       "<style scoped>\n",
       "    .dataframe tbody tr th:only-of-type {\n",
       "        vertical-align: middle;\n",
       "    }\n",
       "\n",
       "    .dataframe tbody tr th {\n",
       "        vertical-align: top;\n",
       "    }\n",
       "\n",
       "    .dataframe thead th {\n",
       "        text-align: right;\n",
       "    }\n",
       "</style>\n",
       "<table border=\"1\" class=\"dataframe\">\n",
       "  <thead>\n",
       "    <tr style=\"text-align: right;\">\n",
       "      <th></th>\n",
       "      <th>object_context</th>\n",
       "      <th>actions_dictionary</th>\n",
       "      <th>query</th>\n",
       "      <th>explanation</th>\n",
       "      <th>bt_xml</th>\n",
       "      <th>bt_json</th>\n",
       "    </tr>\n",
       "  </thead>\n",
       "  <tbody>\n",
       "    <tr>\n",
       "      <th>0</th>\n",
       "      <td>[{'name': 'a ladder', 'position': {'x': 30.0, ...</td>\n",
       "      <td>[{'name': 'Wait', 'description': 'Wait for a s...</td>\n",
       "      <td>Can you please locate the cooking pot and then...</td>\n",
       "      <td>I will first locate the cooking pot in the env...</td>\n",
       "      <td>&lt;root main_tree_to_execute=\"LocateAndNavigateT...</td>\n",
       "      <td>{'type': 'Sequence', 'name': 'LocateAndNavigat...</td>\n",
       "    </tr>\n",
       "    <tr>\n",
       "      <th>1</th>\n",
       "      <td>[{'name': 'a fireproof blanket', 'position': {...</td>\n",
       "      <td>[{'name': 'Wait', 'description': 'Wait for a s...</td>\n",
       "      <td>Could you locate the thermal blanket and then ...</td>\n",
       "      <td>Good, I will first attempt to locate the therm...</td>\n",
       "      <td>&lt;root main_tree_to_execute=\"LocateAndPrepareMe...</td>\n",
       "      <td>{'type': 'Sequence', 'name': 'LocateAndPrepare...</td>\n",
       "    </tr>\n",
       "    <tr>\n",
       "      <th>2</th>\n",
       "      <td>[{'name': 'a pair of boots', 'position': {'x':...</td>\n",
       "      <td>[{'name': 'Wait', 'description': 'Wait for a s...</td>\n",
       "      <td>Could you please locate the fire extinguisher ...</td>\n",
       "      <td></td>\n",
       "      <td>&lt;root main_tree_to_execute=\"LocateAndRetrieveB...</td>\n",
       "      <td>{'type': 'Sequence', 'name': 'LocateAndRetriev...</td>\n",
       "    </tr>\n",
       "    <tr>\n",
       "      <th>3</th>\n",
       "      <td>[{'name': 'a smartphone', 'position': {'x': 7....</td>\n",
       "      <td>[{'name': 'Wait', 'description': 'Wait for a s...</td>\n",
       "      <td>Can you please locate the rope and then naviga...</td>\n",
       "      <td>I will first locate the rope and retrieve its ...</td>\n",
       "      <td>&lt;root main_tree_to_execute=\"LocateAndNavigateT...</td>\n",
       "      <td>{'type': 'Sequence', 'name': 'LocateAndNavigat...</td>\n",
       "    </tr>\n",
       "    <tr>\n",
       "      <th>4</th>\n",
       "      <td>[{'name': 'a rope', 'position': {'x': 3.9, 'y'...</td>\n",
       "      <td>[{'name': 'Wait', 'description': 'Wait for a s...</td>\n",
       "      <td>Can you please locate the folding knife and th...</td>\n",
       "      <td>Good, I will first locate the folding knife an...</td>\n",
       "      <td>&lt;root main_tree_to_execute=\"LocateKnifeAndNavi...</td>\n",
       "      <td>{'type': 'Sequence', 'name': 'LocateKnifeAndNa...</td>\n",
       "    </tr>\n",
       "  </tbody>\n",
       "</table>\n",
       "</div>"
      ],
      "text/plain": [
       "                                      object_context  \\\n",
       "0  [{'name': 'a ladder', 'position': {'x': 30.0, ...   \n",
       "1  [{'name': 'a fireproof blanket', 'position': {...   \n",
       "2  [{'name': 'a pair of boots', 'position': {'x':...   \n",
       "3  [{'name': 'a smartphone', 'position': {'x': 7....   \n",
       "4  [{'name': 'a rope', 'position': {'x': 3.9, 'y'...   \n",
       "\n",
       "                                  actions_dictionary  \\\n",
       "0  [{'name': 'Wait', 'description': 'Wait for a s...   \n",
       "1  [{'name': 'Wait', 'description': 'Wait for a s...   \n",
       "2  [{'name': 'Wait', 'description': 'Wait for a s...   \n",
       "3  [{'name': 'Wait', 'description': 'Wait for a s...   \n",
       "4  [{'name': 'Wait', 'description': 'Wait for a s...   \n",
       "\n",
       "                                               query  \\\n",
       "0  Can you please locate the cooking pot and then...   \n",
       "1  Could you locate the thermal blanket and then ...   \n",
       "2  Could you please locate the fire extinguisher ...   \n",
       "3  Can you please locate the rope and then naviga...   \n",
       "4  Can you please locate the folding knife and th...   \n",
       "\n",
       "                                         explanation  \\\n",
       "0  I will first locate the cooking pot in the env...   \n",
       "1  Good, I will first attempt to locate the therm...   \n",
       "2                                                      \n",
       "3  I will first locate the rope and retrieve its ...   \n",
       "4  Good, I will first locate the folding knife an...   \n",
       "\n",
       "                                              bt_xml  \\\n",
       "0  <root main_tree_to_execute=\"LocateAndNavigateT...   \n",
       "1  <root main_tree_to_execute=\"LocateAndPrepareMe...   \n",
       "2  <root main_tree_to_execute=\"LocateAndRetrieveB...   \n",
       "3  <root main_tree_to_execute=\"LocateAndNavigateT...   \n",
       "4  <root main_tree_to_execute=\"LocateKnifeAndNavi...   \n",
       "\n",
       "                                             bt_json  \n",
       "0  {'type': 'Sequence', 'name': 'LocateAndNavigat...  \n",
       "1  {'type': 'Sequence', 'name': 'LocateAndPrepare...  \n",
       "2  {'type': 'Sequence', 'name': 'LocateAndRetriev...  \n",
       "3  {'type': 'Sequence', 'name': 'LocateAndNavigat...  \n",
       "4  {'type': 'Sequence', 'name': 'LocateKnifeAndNa...  "
      ]
     },
     "execution_count": 5,
     "metadata": {},
     "output_type": "execute_result"
    }
   ],
   "source": [
    "data = pd.read_json(\"../data/behavior_tree_dataset.json\")\n",
    "data.head()\n"
   ]
  },
  {
   "cell_type": "code",
   "execution_count": 6,
   "metadata": {},
   "outputs": [
    {
     "data": {
      "text/html": [
       "<div>\n",
       "<style scoped>\n",
       "    .dataframe tbody tr th:only-of-type {\n",
       "        vertical-align: middle;\n",
       "    }\n",
       "\n",
       "    .dataframe tbody tr th {\n",
       "        vertical-align: top;\n",
       "    }\n",
       "\n",
       "    .dataframe thead th {\n",
       "        text-align: right;\n",
       "    }\n",
       "</style>\n",
       "<table border=\"1\" class=\"dataframe\">\n",
       "  <thead>\n",
       "    <tr style=\"text-align: right;\">\n",
       "      <th></th>\n",
       "      <th>complete_instruction</th>\n",
       "      <th>instruction</th>\n",
       "      <th>input</th>\n",
       "      <th>output</th>\n",
       "    </tr>\n",
       "  </thead>\n",
       "  <tbody>\n",
       "    <tr>\n",
       "      <th>0</th>\n",
       "      <td>You are GoatBrain, an AI assistant that proces...</td>\n",
       "      <td>You are GoatBrain, an AI assistant that proces...</td>\n",
       "      <td>Can you please locate the cooking pot and then...</td>\n",
       "      <td>&lt;root main_tree_to_execute=\"LocateAndNavigateT...</td>\n",
       "    </tr>\n",
       "    <tr>\n",
       "      <th>1</th>\n",
       "      <td>You are GoatBrain, an AI assistant that proces...</td>\n",
       "      <td>You are GoatBrain, an AI assistant that proces...</td>\n",
       "      <td>Could you locate the thermal blanket and then ...</td>\n",
       "      <td>&lt;root main_tree_to_execute=\"LocateAndPrepareMe...</td>\n",
       "    </tr>\n",
       "    <tr>\n",
       "      <th>2</th>\n",
       "      <td>You are GoatBrain, an AI assistant that proces...</td>\n",
       "      <td>You are GoatBrain, an AI assistant that proces...</td>\n",
       "      <td>Could you please locate the fire extinguisher ...</td>\n",
       "      <td>&lt;root main_tree_to_execute=\"LocateAndRetrieveB...</td>\n",
       "    </tr>\n",
       "    <tr>\n",
       "      <th>3</th>\n",
       "      <td>You are GoatBrain, an AI assistant that proces...</td>\n",
       "      <td>You are GoatBrain, an AI assistant that proces...</td>\n",
       "      <td>Can you please locate the rope and then naviga...</td>\n",
       "      <td>&lt;root main_tree_to_execute=\"LocateAndNavigateT...</td>\n",
       "    </tr>\n",
       "    <tr>\n",
       "      <th>4</th>\n",
       "      <td>You are GoatBrain, an AI assistant that proces...</td>\n",
       "      <td>You are GoatBrain, an AI assistant that proces...</td>\n",
       "      <td>Can you please locate the folding knife and th...</td>\n",
       "      <td>&lt;root main_tree_to_execute=\"LocateKnifeAndNavi...</td>\n",
       "    </tr>\n",
       "  </tbody>\n",
       "</table>\n",
       "</div>"
      ],
      "text/plain": [
       "                                complete_instruction  \\\n",
       "0  You are GoatBrain, an AI assistant that proces...   \n",
       "1  You are GoatBrain, an AI assistant that proces...   \n",
       "2  You are GoatBrain, an AI assistant that proces...   \n",
       "3  You are GoatBrain, an AI assistant that proces...   \n",
       "4  You are GoatBrain, an AI assistant that proces...   \n",
       "\n",
       "                                         instruction  \\\n",
       "0  You are GoatBrain, an AI assistant that proces...   \n",
       "1  You are GoatBrain, an AI assistant that proces...   \n",
       "2  You are GoatBrain, an AI assistant that proces...   \n",
       "3  You are GoatBrain, an AI assistant that proces...   \n",
       "4  You are GoatBrain, an AI assistant that proces...   \n",
       "\n",
       "                                               input  \\\n",
       "0  Can you please locate the cooking pot and then...   \n",
       "1  Could you locate the thermal blanket and then ...   \n",
       "2  Could you please locate the fire extinguisher ...   \n",
       "3  Can you please locate the rope and then naviga...   \n",
       "4  Can you please locate the folding knife and th...   \n",
       "\n",
       "                                              output  \n",
       "0  <root main_tree_to_execute=\"LocateAndNavigateT...  \n",
       "1  <root main_tree_to_execute=\"LocateAndPrepareMe...  \n",
       "2  <root main_tree_to_execute=\"LocateAndRetrieveB...  \n",
       "3  <root main_tree_to_execute=\"LocateAndNavigateT...  \n",
       "4  <root main_tree_to_execute=\"LocateKnifeAndNavi...  "
      ]
     },
     "execution_count": 6,
     "metadata": {},
     "output_type": "execute_result"
    }
   ],
   "source": [
    "object_context = data['object_context']\n",
    "actions_dictionary = data['actions_dictionary']\n",
    "query = data['query']\n",
    "explanation = data['explanation']\n",
    "bt_xml = data['bt_xml']\n",
    "bt_json = data['bt_json']\n",
    "\n",
    "from prompt_data import template, action_list, object_list, question_example, xml_example, json_example, answer_example, short_template, training_template\n",
    "\n",
    "data_prompt = \"\"\"<|begin_of_text|><|start_header_id|>system<|end_header_id|>\n",
    "{}<|eot_id|>\n",
    "<|start_header_id|>user<|end_header_id|>\n",
    "{}<|eot_id|>\n",
    "<|start_header_id|>assistant<|end_header_id|>\n",
    "{}\n",
    "\"\"\"\n",
    "\n",
    "\n",
    "def formatting_prompt(examples):\n",
    "    instructions = examples[\"instruction\"]\n",
    "    inputs = examples[\"input\"]\n",
    "    outputs = examples[\"output\"]\n",
    "    texts = []\n",
    "    for instruction,input_, output in zip(instructions, inputs, outputs):\n",
    "        text = data_prompt.format(instruction,input_, output)\n",
    "        texts.append(text)\n",
    "    return { \"text\" : texts, }\n",
    "\n",
    "\n",
    "json_system = template.format(\n",
    "    format_type=\"JSON\",\n",
    "    example=question_example + \"\\n\" + answer_example + \"\\n\" + json_example,\n",
    "    available_actions=action_list,\n",
    "    object_list=object_list,\n",
    ")\n",
    "\n",
    "xml_systems = [\n",
    "    short_template.format(\n",
    "        format_type=\"XML\",\n",
    "        example=question_example + \"\\n\" + answer_example + \"\\n\" + xml_example,\n",
    "        available_actions= action_list,\n",
    "        object_list=reduced_object_list,\n",
    "    ) for reduced_object_list in object_context]\n",
    "\n",
    "training_systems = [\n",
    "    training_template.format(\n",
    "        available_actions= action_list,\n",
    "        object_list=object_list,\n",
    "    ) for object_list in object_context]\n",
    "\n",
    "formatted_data = pd.DataFrame({\n",
    "    'complete_instruction' : xml_systems,\n",
    "    'instruction': training_systems,\n",
    "    'input': query,\n",
    "    'output': bt_xml,\n",
    "})\n",
    "\n",
    "formatted_data.head()"
   ]
  },
  {
   "cell_type": "code",
   "execution_count": 7,
   "metadata": {},
   "outputs": [
    {
     "data": {
      "application/vnd.jupyter.widget-view+json": {
       "model_id": "c724f4ec3ebf46a5a2f328b63480bade",
       "version_major": 2,
       "version_minor": 0
      },
      "text/plain": [
       "Map:   0%|          | 0/235 [00:00<?, ? examples/s]"
      ]
     },
     "metadata": {},
     "output_type": "display_data"
    }
   ],
   "source": [
    "# Create the dataset and apply the mapping\n",
    "training_data = Dataset.from_pandas(formatted_data)\n",
    "training_data = training_data.map(formatting_prompt, batched=True)"
   ]
  },
  {
   "cell_type": "code",
   "execution_count": 8,
   "metadata": {},
   "outputs": [
    {
     "name": "stdout",
     "output_type": "stream",
     "text": [
      "Sequence length: 920\n"
     ]
    }
   ],
   "source": [
    "tokenized = tokenizer(training_data[1]['text'], return_tensors=\"pt\")\n",
    "\n",
    "sequence_length = tokenized.input_ids.size(-1)\n",
    "print(f\"Sequence length: {sequence_length}\")"
   ]
  },
  {
   "cell_type": "code",
   "execution_count": 7,
   "metadata": {},
   "outputs": [
    {
     "name": "stderr",
     "output_type": "stream",
     "text": [
      "c:\\workspace\\ETS\\SYS819\\goat-planner\\env\\Lib\\site-packages\\transformers\\training_args.py:1575: FutureWarning: `evaluation_strategy` is deprecated and will be removed in version 4.46 of 🤗 Transformers. Use `eval_strategy` instead\n",
      "  warnings.warn(\n",
      "c:\\workspace\\ETS\\SYS819\\goat-planner\\env\\Lib\\site-packages\\transformers\\training_args.py:2070: FutureWarning: `--push_to_hub_token` is deprecated and will be removed in version 5 of 🤗 Transformers. Use `--hub_token` instead.\n",
      "  warnings.warn(\n"
     ]
    },
    {
     "data": {
      "application/vnd.jupyter.widget-view+json": {
       "model_id": "51d90712b16b4cbb92b95cb02fe101af",
       "version_major": 2,
       "version_minor": 0
      },
      "text/plain": [
       "Map:   0%|          | 0/211 [00:00<?, ? examples/s]"
      ]
     },
     "metadata": {},
     "output_type": "display_data"
    },
    {
     "data": {
      "application/vnd.jupyter.widget-view+json": {
       "model_id": "2cd53d26c7964305b7a3a8827cb9f6ce",
       "version_major": 2,
       "version_minor": 0
      },
      "text/plain": [
       "Map:   0%|          | 0/24 [00:00<?, ? examples/s]"
      ]
     },
     "metadata": {},
     "output_type": "display_data"
    }
   ],
   "source": [
    "\n",
    "def find_all_linear_names(model):\n",
    "    cls = bnb.nn.Linear4bit\n",
    "    lora_module_names = set()\n",
    "    for name, module in model.named_modules():\n",
    "        if isinstance(module, cls):\n",
    "            names = name.split('.')\n",
    "            lora_module_names.add(names[0] if len(names) == 1 else names[-1])\n",
    "    if 'lm_head' in lora_module_names:  # needed for 16 bit\n",
    "        lora_module_names.remove('lm_head')\n",
    "    return list(lora_module_names)\n",
    "\n",
    "modules = find_all_linear_names(model)\n",
    "\n",
    "\n",
    "# IA3 config\n",
    "peft_config = IA3Config(task_type=\"CAUSAL_LM\", target_modules=[\"k_proj\", \"v_proj\", \"down_proj\"], feedforward_modules=[\"down_proj\"])\n",
    "\n",
    "\n",
    "new_model = \"llama-3.2-1b-bt-xml-ia3\"\n",
    "\n",
    "#Hyperparamter\n",
    "training_arguments = TrainingArguments(\n",
    "    output_dir=new_model,\n",
    "    per_device_train_batch_size=1,\n",
    "    per_device_eval_batch_size=1,\n",
    "    gradient_accumulation_steps=2,\n",
    "    optim=\"paged_adamw_32bit\",\n",
    "    num_train_epochs=10,\n",
    "    evaluation_strategy=\"steps\",\n",
    "    eval_steps=0.1,\n",
    "    logging_steps=1,\n",
    "    warmup_steps=10,\n",
    "    logging_strategy=\"steps\",\n",
    "    learning_rate=1e-4,\n",
    "    fp16=True,\n",
    "    bf16=False,\n",
    "    group_by_length=True,\n",
    "    report_to=\"wandb\",\n",
    ")\n",
    "\n",
    "\n",
    "from trl import SFTConfig\n",
    "\n",
    "# Create the SFT config\n",
    "sft_config = SFTConfig(\n",
    "    max_seq_length=1100,\n",
    "    packing=False,\n",
    "    **training_arguments.to_dict()\n",
    ")\n",
    "\n",
    "# Create train/test split\n",
    "full_dataset = training_data.train_test_split(test_size=0.1, seed=42)\n",
    "\n",
    "\n",
    "# Setting sft parameters\n",
    "trainer = SFTTrainer(\n",
    "    model=model,\n",
    "    train_dataset=full_dataset[\"train\"],\n",
    "    eval_dataset=full_dataset[\"test\"],\n",
    "    peft_config=peft_config,\n",
    "    args=sft_config,\n",
    "    processing_class=tokenizer\n",
    ")\n",
    "\n"
   ]
  },
  {
   "cell_type": "code",
   "execution_count": 15,
   "metadata": {},
   "outputs": [
    {
     "name": "stdout",
     "output_type": "stream",
     "text": [
      "Sequence length: 601\n"
     ]
    }
   ],
   "source": [
    "tokenized = tokenizer(training_data[0]['instruction'], return_tensors=\"pt\")\n",
    "\n",
    "sequence_length = tokenized.input_ids.size(-1)\n",
    "print(f\"Sequence length: {sequence_length}\")"
   ]
  },
  {
   "cell_type": "code",
   "execution_count": 16,
   "metadata": {},
   "outputs": [],
   "source": [
    "instructions = training_data[\"complete_instruction\"][0]\n",
    "inputs = training_data[\"input\"][0]\n",
    "outputs = training_data[\"output\"][0]\n",
    "text = data_prompt.format(instructions, inputs, \"\")"
   ]
  },
  {
   "cell_type": "code",
   "execution_count": 17,
   "metadata": {},
   "outputs": [
    {
     "data": {
      "text/plain": [
       "'<|begin_of_text|><|start_header_id|>system<|end_header_id|>\\nYou are GoatBrain, an AI assistant that processes questions and tasks. For questions, provide direct answers. For tasks:\\n1. Acknowledge the task\\n2. Generate a behavior tree in XML format\\n3. Always enclose the tree in <plan></plan> tags\\n\\nNode types:\\n- Sequence: Executes in order, stops on failure\\n- Fallback: Tries until success\\n- Retry: Retries N times\\n- Loop: Continuous execution\\n- Other nodes: Specific actions\\n\\nExample:\\nCan you retrieve the red apple from the kitchen counter and place it on the cutting board in the dining room?\\nI will locate the red apple on the kitchen counter, pick it up with medium grip strength and high precision, and then place it on the wooden cutting board on the dining table\\n\\n<plan>\\n<root main_tree_to_execute=\"RetrieveAndPlaceAppleSequence\">\\n    <BehaviorTree ID=\"RetrieveAndPlaceAppleSequence\">\\n        <Sequence name=\"RetrieveAndPlaceApple\">\\n            <Retry num_attempts=\"3\">\\n                <Locate object=\"red apple sitting on the kitchen counter\" \\n                        position_x=\"{apple_position_x}\" \\n                        position_y=\"{apple_position_y}\" \\n                        position_z=\"{apple_position_z}\" \\n                        method=\"camera_scan\"/>\\n            </Retry>\\n            <Retry num_attempts=\"2\">\\n                <Navigate x=\"{apple_position_x}\" y=\"{apple_position_y}\"/>\\n            </Retry>\\n            <Retry num_attempts=\"2\">\\n                <Pick object=\"red apple sitting on the kitchen counter\" \\n                      grip_strength=\"medium\" \\n                      precision=\"high\"/>\\n            </Retry>\\n            <Retry num_attempts=\"2\">\\n                <Place object=\"red apple\" \\n                       surface=\"wooden cutting board on the dining table\" \\n                       orientation=\"upright\" \\n                       alignment=\"center\"/>\\n            </Retry>\\n        </Sequence>\\n    </BehaviorTree>\\n</root>\\n</plan>\\n\\n\\nActions allowed:\\n[{\\'name\\': \\'Wait\\', \\'description\\': \\'Wait for a specific duration\\', \\'params\\': {\\'duration\\': \\'float, duration of the waiting time in seconds, e.g., 2.0\\'}}, {\\'name\\': \\'Navigate\\', \\'description\\': \\'Go to a destination\\', \\'params\\': {\\'x\\': \\'float, X coordinate of the destination, e.g., 1.5\\', \\'y\\': \\'float, Y coordinate of the destination, e.g., 0.0\\'}}, {\\'name\\': \\'Pick\\', \\'description\\': \\'Pick up an object\\', \\'params\\': {\\'object\\': \"string, name of the object to pick up, e.g., \\'apple\\'\", \\'grip_strength\\': \"string, grip strength to use, options: \\'low\\', \\'medium\\', \\'high\\'\", \\'precision\\': \"string, precision level, options: \\'low\\', \\'medium\\', \\'high\\'\"}}, {\\'name\\': \\'Place\\', \\'description\\': \\'Place an object at a location\\', \\'params\\': {\\'object\\': \"string, name of the object to place, e.g., \\'apple\\'\", \\'surface\\': \"string, name of the surface to place the object on, e.g., \\'table\\'\", \\'orientation\\': \"string, orientation of the object, e.g., \\'upright\\'\", \\'alignment\\': \"string, alignment of the object, e.g., \\'center\\'\"}}, {\\'name\\': \\'Locate\\', \\'description\\': \\'Find an object\\', \\'params\\': {\\'object\\': \"string, name of the object to locate, e.g., \\'apple\\'\"}, \\'output\\': {\\'position_x\\': \\'float, X coordinate of the object\\', \\'position_y\\': \\'float, Y coordinate of the object\\', \\'position_z\\': \\'float, Z coordinate of the object\\'}}, {\\'name\\': \\'GetCurrentPosition\\', \\'description\\': \\'Retrieve the current position of the robot\\', \\'params\\': {}, \\'output\\': {\\'position_x\\': \\'float, current X coordinate of the robot\\', \\'position_y\\': \\'float, current Y coordinate of the robot\\', \\'position_z\\': \\'float, current Z coordinate of the robot\\'}}]\\n\\nObjects allowed:\\n[{\\'name\\': \\'a ladder\\', \\'position\\': {\\'x\\': 30.0, \\'y\\': 14.5, \\'z\\': 3.2}}, {\\'name\\': \\'a cooking pot\\', \\'position\\': {\\'x\\': 19.4, \\'y\\': 6.8, \\'z\\': 1.2}}, {\\'name\\': \\'a smartphone\\', \\'position\\': {\\'x\\': 7.9, \\'y\\': 6.8, \\'z\\': 0.30000000000000004}}, {\\'name\\': \\'a folding knife\\', \\'position\\': {\\'x\\': 9.4, \\'y\\': 2.8, \\'z\\': 0.1}}]\\n\\nRemember: Only generate plans for explicit task requests. Always use <plan></plan> tags. One plan per request.<|eot_id|>\\n<|start_header_id|>user<|end_header_id|>\\nCan you please locate the cooking pot and then navigate to the ladder so that I can use it to reach the top shelf?<|eot_id|>\\n<|start_header_id|>assistant<|end_header_id|>\\n\\n'"
      ]
     },
     "execution_count": 17,
     "metadata": {},
     "output_type": "execute_result"
    }
   ],
   "source": [
    "text"
   ]
  },
  {
   "cell_type": "code",
   "execution_count": 18,
   "metadata": {},
   "outputs": [
    {
     "name": "stderr",
     "output_type": "stream",
     "text": [
      "Setting `pad_token_id` to `eos_token_id`:128001 for open-end generation.\n"
     ]
    },
    {
     "name": "stdout",
     "output_type": "stream",
     "text": [
      "Answer of the question is: \n",
      "\n",
      "<plan>\n",
      "<root main_tree_to_execute=\"LocateAndNavigateToPlan\">\n",
      "    <BehaviorTree ID=\"LocateAndNavigateToPlan\">\n",
      "        <Locate object=\"cooking pot\" position_x=\"20.0\" position_y=\"6.0\" position_z=\"1.2\" method=\"camera_scan\"/>\n",
      "        <Locate object=\"ladder\" position_x=\"30.0\" position_y=\"14.5\" position_z=\"3.2\" method=\"camera_scan\"/>\n",
      "        <Sequence name=\"LocateAndNavigateToPlan\">\n",
      "            <Locate object=\"cooking pot\" position_x=\"20.0\" position_y=\"6.0\" position_z=\"1.2\" method=\"camera_scan\"/>\n",
      "            <Locate object=\"ladder\" position_x=\"30.0\" position_y=\"14.5\" position_z=\"3.2\" method=\"camera_scan\"/>\n",
      "            <Retry num_attempts=\"2\">\n",
      "                <Navigate x=\"30.0\" y=\"14.5\" z=\"3.2\"/>\n",
      "            </Retry>\n",
      "        </Sequence>\n",
      "    </BehaviorTree>\n",
      "</root>\n",
      "</plan>\n",
      "\n",
      "Actions allowed:\n",
      "[{'name': 'Wait', 'description': 'Wait for a specific duration', 'params': {'duration': 'float, duration of the waiting time in seconds, e.g., 2.0'}}, {'name': 'Locate', 'description': 'Find an object', 'params': {'object': \"cooking pot\"}, 'output': {'position_x': 'float, X coordinate of the cooking pot', 'position_y': 'float, Y coordinate of the cooking pot', 'position_z': 'float, Z coordinate of the cooking pot'}}, {'name': 'Locate', 'description': 'Find an object', 'params': {'object': \"ladder\"}, 'output': {'position_x': 'float, X coordinate of the ladder', 'position_y': 'float, Y coordinate of the ladder', 'position_z': 'float, Z coordinate of the ladder'}}, {'name': 'Locate', 'description': 'Find an object', 'params': {'object': \"cooking pot\"}, 'output': {'position_x': 'float, X coordinate of the cooking pot', 'position_y': 'float, Y coordinate of the cooking pot', 'position_z': 'float, Z coordinate of the cooking pot'}}, {'name': 'Locate', 'description':\n"
     ]
    }
   ],
   "source": [
    "instructions = training_data[\"complete_instruction\"][0]\n",
    "inputs = training_data[\"input\"][0]\n",
    "outputs = training_data[\"output\"][0]\n",
    "text = data_prompt.format(instructions, inputs, \"\")\n",
    "\n",
    "inputs = tokenizer([\n",
    "    text\n",
    "], return_tensors='pt', padding=True, truncation=True).to(\"cuda\")\n",
    "\n",
    "\n",
    "outputs = model.generate(**inputs, max_new_tokens = 500, use_cache = True)\n",
    "\n",
    "answer=tokenizer.batch_decode(outputs)\n",
    "answer=answer[0].split(\"<|start_header_id|>assistant<|end_header_id|>\")[-1]\n",
    "print(\"Answer of the question is:\", answer)"
   ]
  },
  {
   "cell_type": "code",
   "execution_count": 12,
   "metadata": {},
   "outputs": [
    {
     "name": "stderr",
     "output_type": "stream",
     "text": [
      "\u001b[34m\u001b[1mwandb\u001b[0m: \u001b[33mWARNING\u001b[0m The `run_name` is currently set to the same value as `TrainingArguments.output_dir`. If this was not intended, please specify a different run name by setting the `TrainingArguments.run_name` parameter.\n",
      "\u001b[34m\u001b[1mwandb\u001b[0m: Using wandb-core as the SDK backend.  Please refer to https://wandb.me/wandb-core for more information.\n",
      "\u001b[34m\u001b[1mwandb\u001b[0m: Currently logged in as: \u001b[33msimonroy99\u001b[0m (\u001b[33msimonroy99-cole-de-technologie-sup-rieure\u001b[0m). Use \u001b[1m`wandb login --relogin`\u001b[0m to force relogin\n"
     ]
    },
    {
     "data": {
      "text/html": [
       "Tracking run with wandb version 0.19.1"
      ],
      "text/plain": [
       "<IPython.core.display.HTML object>"
      ]
     },
     "metadata": {},
     "output_type": "display_data"
    },
    {
     "data": {
      "text/html": [
       "Run data is saved locally in <code>c:\\workspace\\ETS\\SYS819\\goat-planner\\training\\wandb\\run-20241220_102356-0lw0jofa</code>"
      ],
      "text/plain": [
       "<IPython.core.display.HTML object>"
      ]
     },
     "metadata": {},
     "output_type": "display_data"
    },
    {
     "data": {
      "text/html": [
       "Syncing run <strong><a href='https://wandb.ai/simonroy99-cole-de-technologie-sup-rieure/huggingface/runs/0lw0jofa' target=\"_blank\">llama-3.2-1b-bt-xml-ia3</a></strong> to <a href='https://wandb.ai/simonroy99-cole-de-technologie-sup-rieure/huggingface' target=\"_blank\">Weights & Biases</a> (<a href='https://wandb.me/developer-guide' target=\"_blank\">docs</a>)<br>"
      ],
      "text/plain": [
       "<IPython.core.display.HTML object>"
      ]
     },
     "metadata": {},
     "output_type": "display_data"
    },
    {
     "data": {
      "text/html": [
       " View project at <a href='https://wandb.ai/simonroy99-cole-de-technologie-sup-rieure/huggingface' target=\"_blank\">https://wandb.ai/simonroy99-cole-de-technologie-sup-rieure/huggingface</a>"
      ],
      "text/plain": [
       "<IPython.core.display.HTML object>"
      ]
     },
     "metadata": {},
     "output_type": "display_data"
    },
    {
     "data": {
      "text/html": [
       " View run at <a href='https://wandb.ai/simonroy99-cole-de-technologie-sup-rieure/huggingface/runs/0lw0jofa' target=\"_blank\">https://wandb.ai/simonroy99-cole-de-technologie-sup-rieure/huggingface/runs/0lw0jofa</a>"
      ],
      "text/plain": [
       "<IPython.core.display.HTML object>"
      ]
     },
     "metadata": {},
     "output_type": "display_data"
    },
    {
     "data": {
      "application/vnd.jupyter.widget-view+json": {
       "model_id": "8fa85dcc5cd1439085628674ea3198ce",
       "version_major": 2,
       "version_minor": 0
      },
      "text/plain": [
       "  0%|          | 0/1050 [00:00<?, ?it/s]"
      ]
     },
     "metadata": {},
     "output_type": "display_data"
    },
    {
     "name": "stderr",
     "output_type": "stream",
     "text": [
      "Trainer.tokenizer is now deprecated. You should use Trainer.processing_class instead.\n",
      "Trainer.tokenizer is now deprecated. You should use Trainer.processing_class instead.\n"
     ]
    },
    {
     "data": {
      "application/vnd.jupyter.widget-view+json": {
       "model_id": "2a8cb30f46d24f908333ce1f0fddc743",
       "version_major": 2,
       "version_minor": 0
      },
      "text/plain": [
       "  0%|          | 0/24 [00:00<?, ?it/s]"
      ]
     },
     "metadata": {},
     "output_type": "display_data"
    },
    {
     "ename": "KeyboardInterrupt",
     "evalue": "",
     "output_type": "error",
     "traceback": [
      "\u001b[1;31m---------------------------------------------------------------------------\u001b[0m",
      "\u001b[1;31mKeyboardInterrupt\u001b[0m                         Traceback (most recent call last)",
      "Cell \u001b[1;32mIn[12], line 1\u001b[0m\n\u001b[1;32m----> 1\u001b[0m \u001b[43mtrainer\u001b[49m\u001b[38;5;241;43m.\u001b[39;49m\u001b[43mtrain\u001b[49m\u001b[43m(\u001b[49m\u001b[43m)\u001b[49m\n",
      "File \u001b[1;32mc:\\workspace\\ETS\\SYS819\\goat-planner\\env\\Lib\\site-packages\\transformers\\trainer.py:2164\u001b[0m, in \u001b[0;36mTrainer.train\u001b[1;34m(self, resume_from_checkpoint, trial, ignore_keys_for_eval, **kwargs)\u001b[0m\n\u001b[0;32m   2162\u001b[0m         hf_hub_utils\u001b[38;5;241m.\u001b[39menable_progress_bars()\n\u001b[0;32m   2163\u001b[0m \u001b[38;5;28;01melse\u001b[39;00m:\n\u001b[1;32m-> 2164\u001b[0m     \u001b[38;5;28;01mreturn\u001b[39;00m \u001b[43minner_training_loop\u001b[49m\u001b[43m(\u001b[49m\n\u001b[0;32m   2165\u001b[0m \u001b[43m        \u001b[49m\u001b[43margs\u001b[49m\u001b[38;5;241;43m=\u001b[39;49m\u001b[43margs\u001b[49m\u001b[43m,\u001b[49m\n\u001b[0;32m   2166\u001b[0m \u001b[43m        \u001b[49m\u001b[43mresume_from_checkpoint\u001b[49m\u001b[38;5;241;43m=\u001b[39;49m\u001b[43mresume_from_checkpoint\u001b[49m\u001b[43m,\u001b[49m\n\u001b[0;32m   2167\u001b[0m \u001b[43m        \u001b[49m\u001b[43mtrial\u001b[49m\u001b[38;5;241;43m=\u001b[39;49m\u001b[43mtrial\u001b[49m\u001b[43m,\u001b[49m\n\u001b[0;32m   2168\u001b[0m \u001b[43m        \u001b[49m\u001b[43mignore_keys_for_eval\u001b[49m\u001b[38;5;241;43m=\u001b[39;49m\u001b[43mignore_keys_for_eval\u001b[49m\u001b[43m,\u001b[49m\n\u001b[0;32m   2169\u001b[0m \u001b[43m    \u001b[49m\u001b[43m)\u001b[49m\n",
      "File \u001b[1;32mc:\\workspace\\ETS\\SYS819\\goat-planner\\env\\Lib\\site-packages\\transformers\\trainer.py:2591\u001b[0m, in \u001b[0;36mTrainer._inner_training_loop\u001b[1;34m(self, batch_size, args, resume_from_checkpoint, trial, ignore_keys_for_eval)\u001b[0m\n\u001b[0;32m   2589\u001b[0m     \u001b[38;5;28mself\u001b[39m\u001b[38;5;241m.\u001b[39mstate\u001b[38;5;241m.\u001b[39mepoch \u001b[38;5;241m=\u001b[39m epoch \u001b[38;5;241m+\u001b[39m (step \u001b[38;5;241m+\u001b[39m \u001b[38;5;241m1\u001b[39m \u001b[38;5;241m+\u001b[39m steps_skipped) \u001b[38;5;241m/\u001b[39m steps_in_epoch\n\u001b[0;32m   2590\u001b[0m     \u001b[38;5;28mself\u001b[39m\u001b[38;5;241m.\u001b[39mcontrol \u001b[38;5;241m=\u001b[39m \u001b[38;5;28mself\u001b[39m\u001b[38;5;241m.\u001b[39mcallback_handler\u001b[38;5;241m.\u001b[39mon_step_end(args, \u001b[38;5;28mself\u001b[39m\u001b[38;5;241m.\u001b[39mstate, \u001b[38;5;28mself\u001b[39m\u001b[38;5;241m.\u001b[39mcontrol)\n\u001b[1;32m-> 2591\u001b[0m     \u001b[38;5;28;43mself\u001b[39;49m\u001b[38;5;241;43m.\u001b[39;49m\u001b[43m_maybe_log_save_evaluate\u001b[49m\u001b[43m(\u001b[49m\n\u001b[0;32m   2592\u001b[0m \u001b[43m        \u001b[49m\u001b[43mtr_loss\u001b[49m\u001b[43m,\u001b[49m\u001b[43m \u001b[49m\u001b[43mgrad_norm\u001b[49m\u001b[43m,\u001b[49m\u001b[43m \u001b[49m\u001b[43mmodel\u001b[49m\u001b[43m,\u001b[49m\u001b[43m \u001b[49m\u001b[43mtrial\u001b[49m\u001b[43m,\u001b[49m\u001b[43m \u001b[49m\u001b[43mepoch\u001b[49m\u001b[43m,\u001b[49m\u001b[43m \u001b[49m\u001b[43mignore_keys_for_eval\u001b[49m\u001b[43m,\u001b[49m\u001b[43m \u001b[49m\u001b[43mstart_time\u001b[49m\n\u001b[0;32m   2593\u001b[0m \u001b[43m    \u001b[49m\u001b[43m)\u001b[49m\n\u001b[0;32m   2594\u001b[0m \u001b[38;5;28;01melse\u001b[39;00m:\n\u001b[0;32m   2595\u001b[0m     \u001b[38;5;28mself\u001b[39m\u001b[38;5;241m.\u001b[39mcontrol \u001b[38;5;241m=\u001b[39m \u001b[38;5;28mself\u001b[39m\u001b[38;5;241m.\u001b[39mcallback_handler\u001b[38;5;241m.\u001b[39mon_substep_end(args, \u001b[38;5;28mself\u001b[39m\u001b[38;5;241m.\u001b[39mstate, \u001b[38;5;28mself\u001b[39m\u001b[38;5;241m.\u001b[39mcontrol)\n",
      "File \u001b[1;32mc:\\workspace\\ETS\\SYS819\\goat-planner\\env\\Lib\\site-packages\\transformers\\trainer.py:3049\u001b[0m, in \u001b[0;36mTrainer._maybe_log_save_evaluate\u001b[1;34m(self, tr_loss, grad_norm, model, trial, epoch, ignore_keys_for_eval, start_time)\u001b[0m\n\u001b[0;32m   3047\u001b[0m metrics \u001b[38;5;241m=\u001b[39m \u001b[38;5;28;01mNone\u001b[39;00m\n\u001b[0;32m   3048\u001b[0m \u001b[38;5;28;01mif\u001b[39;00m \u001b[38;5;28mself\u001b[39m\u001b[38;5;241m.\u001b[39mcontrol\u001b[38;5;241m.\u001b[39mshould_evaluate:\n\u001b[1;32m-> 3049\u001b[0m     metrics \u001b[38;5;241m=\u001b[39m \u001b[38;5;28;43mself\u001b[39;49m\u001b[38;5;241;43m.\u001b[39;49m\u001b[43m_evaluate\u001b[49m\u001b[43m(\u001b[49m\u001b[43mtrial\u001b[49m\u001b[43m,\u001b[49m\u001b[43m \u001b[49m\u001b[43mignore_keys_for_eval\u001b[49m\u001b[43m)\u001b[49m\n\u001b[0;32m   3050\u001b[0m     is_new_best_metric \u001b[38;5;241m=\u001b[39m \u001b[38;5;28mself\u001b[39m\u001b[38;5;241m.\u001b[39m_determine_best_metric(metrics\u001b[38;5;241m=\u001b[39mmetrics, trial\u001b[38;5;241m=\u001b[39mtrial)\n\u001b[0;32m   3052\u001b[0m     \u001b[38;5;28;01mif\u001b[39;00m \u001b[38;5;28mself\u001b[39m\u001b[38;5;241m.\u001b[39margs\u001b[38;5;241m.\u001b[39msave_strategy \u001b[38;5;241m==\u001b[39m SaveStrategy\u001b[38;5;241m.\u001b[39mBEST:\n",
      "File \u001b[1;32mc:\\workspace\\ETS\\SYS819\\goat-planner\\env\\Lib\\site-packages\\transformers\\trainer.py:3003\u001b[0m, in \u001b[0;36mTrainer._evaluate\u001b[1;34m(self, trial, ignore_keys_for_eval, skip_scheduler)\u001b[0m\n\u001b[0;32m   3002\u001b[0m \u001b[38;5;28;01mdef\u001b[39;00m \u001b[38;5;21m_evaluate\u001b[39m(\u001b[38;5;28mself\u001b[39m, trial, ignore_keys_for_eval, skip_scheduler\u001b[38;5;241m=\u001b[39m\u001b[38;5;28;01mFalse\u001b[39;00m):\n\u001b[1;32m-> 3003\u001b[0m     metrics \u001b[38;5;241m=\u001b[39m \u001b[38;5;28;43mself\u001b[39;49m\u001b[38;5;241;43m.\u001b[39;49m\u001b[43mevaluate\u001b[49m\u001b[43m(\u001b[49m\u001b[43mignore_keys\u001b[49m\u001b[38;5;241;43m=\u001b[39;49m\u001b[43mignore_keys_for_eval\u001b[49m\u001b[43m)\u001b[49m\n\u001b[0;32m   3004\u001b[0m     \u001b[38;5;28mself\u001b[39m\u001b[38;5;241m.\u001b[39m_report_to_hp_search(trial, \u001b[38;5;28mself\u001b[39m\u001b[38;5;241m.\u001b[39mstate\u001b[38;5;241m.\u001b[39mglobal_step, metrics)\n\u001b[0;32m   3006\u001b[0m     \u001b[38;5;66;03m# Run delayed LR scheduler now that metrics are populated\u001b[39;00m\n",
      "File \u001b[1;32mc:\\workspace\\ETS\\SYS819\\goat-planner\\env\\Lib\\site-packages\\transformers\\trainer.py:4050\u001b[0m, in \u001b[0;36mTrainer.evaluate\u001b[1;34m(self, eval_dataset, ignore_keys, metric_key_prefix)\u001b[0m\n\u001b[0;32m   4047\u001b[0m start_time \u001b[38;5;241m=\u001b[39m time\u001b[38;5;241m.\u001b[39mtime()\n\u001b[0;32m   4049\u001b[0m eval_loop \u001b[38;5;241m=\u001b[39m \u001b[38;5;28mself\u001b[39m\u001b[38;5;241m.\u001b[39mprediction_loop \u001b[38;5;28;01mif\u001b[39;00m \u001b[38;5;28mself\u001b[39m\u001b[38;5;241m.\u001b[39margs\u001b[38;5;241m.\u001b[39muse_legacy_prediction_loop \u001b[38;5;28;01melse\u001b[39;00m \u001b[38;5;28mself\u001b[39m\u001b[38;5;241m.\u001b[39mevaluation_loop\n\u001b[1;32m-> 4050\u001b[0m output \u001b[38;5;241m=\u001b[39m \u001b[43meval_loop\u001b[49m\u001b[43m(\u001b[49m\n\u001b[0;32m   4051\u001b[0m \u001b[43m    \u001b[49m\u001b[43meval_dataloader\u001b[49m\u001b[43m,\u001b[49m\n\u001b[0;32m   4052\u001b[0m \u001b[43m    \u001b[49m\u001b[43mdescription\u001b[49m\u001b[38;5;241;43m=\u001b[39;49m\u001b[38;5;124;43m\"\u001b[39;49m\u001b[38;5;124;43mEvaluation\u001b[39;49m\u001b[38;5;124;43m\"\u001b[39;49m\u001b[43m,\u001b[49m\n\u001b[0;32m   4053\u001b[0m \u001b[43m    \u001b[49m\u001b[38;5;66;43;03m# No point gathering the predictions if there are no metrics, otherwise we defer to\u001b[39;49;00m\n\u001b[0;32m   4054\u001b[0m \u001b[43m    \u001b[49m\u001b[38;5;66;43;03m# self.args.prediction_loss_only\u001b[39;49;00m\n\u001b[0;32m   4055\u001b[0m \u001b[43m    \u001b[49m\u001b[43mprediction_loss_only\u001b[49m\u001b[38;5;241;43m=\u001b[39;49m\u001b[38;5;28;43;01mTrue\u001b[39;49;00m\u001b[43m \u001b[49m\u001b[38;5;28;43;01mif\u001b[39;49;00m\u001b[43m \u001b[49m\u001b[38;5;28;43mself\u001b[39;49m\u001b[38;5;241;43m.\u001b[39;49m\u001b[43mcompute_metrics\u001b[49m\u001b[43m \u001b[49m\u001b[38;5;129;43;01mis\u001b[39;49;00m\u001b[43m \u001b[49m\u001b[38;5;28;43;01mNone\u001b[39;49;00m\u001b[43m \u001b[49m\u001b[38;5;28;43;01melse\u001b[39;49;00m\u001b[43m \u001b[49m\u001b[38;5;28;43;01mNone\u001b[39;49;00m\u001b[43m,\u001b[49m\n\u001b[0;32m   4056\u001b[0m \u001b[43m    \u001b[49m\u001b[43mignore_keys\u001b[49m\u001b[38;5;241;43m=\u001b[39;49m\u001b[43mignore_keys\u001b[49m\u001b[43m,\u001b[49m\n\u001b[0;32m   4057\u001b[0m \u001b[43m    \u001b[49m\u001b[43mmetric_key_prefix\u001b[49m\u001b[38;5;241;43m=\u001b[39;49m\u001b[43mmetric_key_prefix\u001b[49m\u001b[43m,\u001b[49m\n\u001b[0;32m   4058\u001b[0m \u001b[43m\u001b[49m\u001b[43m)\u001b[49m\n\u001b[0;32m   4060\u001b[0m total_batch_size \u001b[38;5;241m=\u001b[39m \u001b[38;5;28mself\u001b[39m\u001b[38;5;241m.\u001b[39margs\u001b[38;5;241m.\u001b[39meval_batch_size \u001b[38;5;241m*\u001b[39m \u001b[38;5;28mself\u001b[39m\u001b[38;5;241m.\u001b[39margs\u001b[38;5;241m.\u001b[39mworld_size\n\u001b[0;32m   4061\u001b[0m \u001b[38;5;28;01mif\u001b[39;00m \u001b[38;5;124mf\u001b[39m\u001b[38;5;124m\"\u001b[39m\u001b[38;5;132;01m{\u001b[39;00mmetric_key_prefix\u001b[38;5;132;01m}\u001b[39;00m\u001b[38;5;124m_jit_compilation_time\u001b[39m\u001b[38;5;124m\"\u001b[39m \u001b[38;5;129;01min\u001b[39;00m output\u001b[38;5;241m.\u001b[39mmetrics:\n",
      "File \u001b[1;32mc:\\workspace\\ETS\\SYS819\\goat-planner\\env\\Lib\\site-packages\\transformers\\trainer.py:4244\u001b[0m, in \u001b[0;36mTrainer.evaluation_loop\u001b[1;34m(self, dataloader, description, prediction_loss_only, ignore_keys, metric_key_prefix)\u001b[0m\n\u001b[0;32m   4241\u001b[0m         batch_size \u001b[38;5;241m=\u001b[39m observed_batch_size\n\u001b[0;32m   4243\u001b[0m \u001b[38;5;66;03m# Prediction step\u001b[39;00m\n\u001b[1;32m-> 4244\u001b[0m losses, logits, labels \u001b[38;5;241m=\u001b[39m \u001b[38;5;28;43mself\u001b[39;49m\u001b[38;5;241;43m.\u001b[39;49m\u001b[43mprediction_step\u001b[49m\u001b[43m(\u001b[49m\u001b[43mmodel\u001b[49m\u001b[43m,\u001b[49m\u001b[43m \u001b[49m\u001b[43minputs\u001b[49m\u001b[43m,\u001b[49m\u001b[43m \u001b[49m\u001b[43mprediction_loss_only\u001b[49m\u001b[43m,\u001b[49m\u001b[43m \u001b[49m\u001b[43mignore_keys\u001b[49m\u001b[38;5;241;43m=\u001b[39;49m\u001b[43mignore_keys\u001b[49m\u001b[43m)\u001b[49m\n\u001b[0;32m   4245\u001b[0m main_input_name \u001b[38;5;241m=\u001b[39m \u001b[38;5;28mgetattr\u001b[39m(\u001b[38;5;28mself\u001b[39m\u001b[38;5;241m.\u001b[39mmodel, \u001b[38;5;124m\"\u001b[39m\u001b[38;5;124mmain_input_name\u001b[39m\u001b[38;5;124m\"\u001b[39m, \u001b[38;5;124m\"\u001b[39m\u001b[38;5;124minput_ids\u001b[39m\u001b[38;5;124m\"\u001b[39m)\n\u001b[0;32m   4246\u001b[0m inputs_decode \u001b[38;5;241m=\u001b[39m (\n\u001b[0;32m   4247\u001b[0m     \u001b[38;5;28mself\u001b[39m\u001b[38;5;241m.\u001b[39m_prepare_input(inputs[main_input_name]) \u001b[38;5;28;01mif\u001b[39;00m \u001b[38;5;124m\"\u001b[39m\u001b[38;5;124minputs\u001b[39m\u001b[38;5;124m\"\u001b[39m \u001b[38;5;129;01min\u001b[39;00m args\u001b[38;5;241m.\u001b[39minclude_for_metrics \u001b[38;5;28;01melse\u001b[39;00m \u001b[38;5;28;01mNone\u001b[39;00m\n\u001b[0;32m   4248\u001b[0m )\n",
      "File \u001b[1;32mc:\\workspace\\ETS\\SYS819\\goat-planner\\env\\Lib\\site-packages\\transformers\\trainer.py:4460\u001b[0m, in \u001b[0;36mTrainer.prediction_step\u001b[1;34m(self, model, inputs, prediction_loss_only, ignore_keys)\u001b[0m\n\u001b[0;32m   4458\u001b[0m \u001b[38;5;28;01mif\u001b[39;00m has_labels \u001b[38;5;129;01mor\u001b[39;00m loss_without_labels:\n\u001b[0;32m   4459\u001b[0m     \u001b[38;5;28;01mwith\u001b[39;00m \u001b[38;5;28mself\u001b[39m\u001b[38;5;241m.\u001b[39mcompute_loss_context_manager():\n\u001b[1;32m-> 4460\u001b[0m         loss, outputs \u001b[38;5;241m=\u001b[39m \u001b[38;5;28;43mself\u001b[39;49m\u001b[38;5;241;43m.\u001b[39;49m\u001b[43mcompute_loss\u001b[49m\u001b[43m(\u001b[49m\u001b[43mmodel\u001b[49m\u001b[43m,\u001b[49m\u001b[43m \u001b[49m\u001b[43minputs\u001b[49m\u001b[43m,\u001b[49m\u001b[43m \u001b[49m\u001b[43mreturn_outputs\u001b[49m\u001b[38;5;241;43m=\u001b[39;49m\u001b[38;5;28;43;01mTrue\u001b[39;49;00m\u001b[43m)\u001b[49m\n\u001b[0;32m   4461\u001b[0m     loss \u001b[38;5;241m=\u001b[39m loss\u001b[38;5;241m.\u001b[39mmean()\u001b[38;5;241m.\u001b[39mdetach()\n\u001b[0;32m   4463\u001b[0m     \u001b[38;5;28;01mif\u001b[39;00m \u001b[38;5;28misinstance\u001b[39m(outputs, \u001b[38;5;28mdict\u001b[39m):\n",
      "File \u001b[1;32mc:\\workspace\\ETS\\SYS819\\goat-planner\\env\\Lib\\site-packages\\transformers\\trainer.py:3708\u001b[0m, in \u001b[0;36mTrainer.compute_loss\u001b[1;34m(self, model, inputs, return_outputs, num_items_in_batch)\u001b[0m\n\u001b[0;32m   3706\u001b[0m         loss_kwargs[\u001b[38;5;124m\"\u001b[39m\u001b[38;5;124mnum_items_in_batch\u001b[39m\u001b[38;5;124m\"\u001b[39m] \u001b[38;5;241m=\u001b[39m num_items_in_batch\n\u001b[0;32m   3707\u001b[0m     inputs \u001b[38;5;241m=\u001b[39m {\u001b[38;5;241m*\u001b[39m\u001b[38;5;241m*\u001b[39minputs, \u001b[38;5;241m*\u001b[39m\u001b[38;5;241m*\u001b[39mloss_kwargs}\n\u001b[1;32m-> 3708\u001b[0m outputs \u001b[38;5;241m=\u001b[39m \u001b[43mmodel\u001b[49m\u001b[43m(\u001b[49m\u001b[38;5;241;43m*\u001b[39;49m\u001b[38;5;241;43m*\u001b[39;49m\u001b[43minputs\u001b[49m\u001b[43m)\u001b[49m\n\u001b[0;32m   3709\u001b[0m \u001b[38;5;66;03m# Save past state if it exists\u001b[39;00m\n\u001b[0;32m   3710\u001b[0m \u001b[38;5;66;03m# TODO: this needs to be fixed and made cleaner later.\u001b[39;00m\n\u001b[0;32m   3711\u001b[0m \u001b[38;5;28;01mif\u001b[39;00m \u001b[38;5;28mself\u001b[39m\u001b[38;5;241m.\u001b[39margs\u001b[38;5;241m.\u001b[39mpast_index \u001b[38;5;241m>\u001b[39m\u001b[38;5;241m=\u001b[39m \u001b[38;5;241m0\u001b[39m:\n",
      "File \u001b[1;32mc:\\workspace\\ETS\\SYS819\\goat-planner\\env\\Lib\\site-packages\\torch\\nn\\modules\\module.py:1736\u001b[0m, in \u001b[0;36mModule._wrapped_call_impl\u001b[1;34m(self, *args, **kwargs)\u001b[0m\n\u001b[0;32m   1734\u001b[0m     \u001b[38;5;28;01mreturn\u001b[39;00m \u001b[38;5;28mself\u001b[39m\u001b[38;5;241m.\u001b[39m_compiled_call_impl(\u001b[38;5;241m*\u001b[39margs, \u001b[38;5;241m*\u001b[39m\u001b[38;5;241m*\u001b[39mkwargs)  \u001b[38;5;66;03m# type: ignore[misc]\u001b[39;00m\n\u001b[0;32m   1735\u001b[0m \u001b[38;5;28;01melse\u001b[39;00m:\n\u001b[1;32m-> 1736\u001b[0m     \u001b[38;5;28;01mreturn\u001b[39;00m \u001b[38;5;28;43mself\u001b[39;49m\u001b[38;5;241;43m.\u001b[39;49m\u001b[43m_call_impl\u001b[49m\u001b[43m(\u001b[49m\u001b[38;5;241;43m*\u001b[39;49m\u001b[43margs\u001b[49m\u001b[43m,\u001b[49m\u001b[43m \u001b[49m\u001b[38;5;241;43m*\u001b[39;49m\u001b[38;5;241;43m*\u001b[39;49m\u001b[43mkwargs\u001b[49m\u001b[43m)\u001b[49m\n",
      "File \u001b[1;32mc:\\workspace\\ETS\\SYS819\\goat-planner\\env\\Lib\\site-packages\\torch\\nn\\modules\\module.py:1747\u001b[0m, in \u001b[0;36mModule._call_impl\u001b[1;34m(self, *args, **kwargs)\u001b[0m\n\u001b[0;32m   1742\u001b[0m \u001b[38;5;66;03m# If we don't have any hooks, we want to skip the rest of the logic in\u001b[39;00m\n\u001b[0;32m   1743\u001b[0m \u001b[38;5;66;03m# this function, and just call forward.\u001b[39;00m\n\u001b[0;32m   1744\u001b[0m \u001b[38;5;28;01mif\u001b[39;00m \u001b[38;5;129;01mnot\u001b[39;00m (\u001b[38;5;28mself\u001b[39m\u001b[38;5;241m.\u001b[39m_backward_hooks \u001b[38;5;129;01mor\u001b[39;00m \u001b[38;5;28mself\u001b[39m\u001b[38;5;241m.\u001b[39m_backward_pre_hooks \u001b[38;5;129;01mor\u001b[39;00m \u001b[38;5;28mself\u001b[39m\u001b[38;5;241m.\u001b[39m_forward_hooks \u001b[38;5;129;01mor\u001b[39;00m \u001b[38;5;28mself\u001b[39m\u001b[38;5;241m.\u001b[39m_forward_pre_hooks\n\u001b[0;32m   1745\u001b[0m         \u001b[38;5;129;01mor\u001b[39;00m _global_backward_pre_hooks \u001b[38;5;129;01mor\u001b[39;00m _global_backward_hooks\n\u001b[0;32m   1746\u001b[0m         \u001b[38;5;129;01mor\u001b[39;00m _global_forward_hooks \u001b[38;5;129;01mor\u001b[39;00m _global_forward_pre_hooks):\n\u001b[1;32m-> 1747\u001b[0m     \u001b[38;5;28;01mreturn\u001b[39;00m \u001b[43mforward_call\u001b[49m\u001b[43m(\u001b[49m\u001b[38;5;241;43m*\u001b[39;49m\u001b[43margs\u001b[49m\u001b[43m,\u001b[49m\u001b[43m \u001b[49m\u001b[38;5;241;43m*\u001b[39;49m\u001b[38;5;241;43m*\u001b[39;49m\u001b[43mkwargs\u001b[49m\u001b[43m)\u001b[49m\n\u001b[0;32m   1749\u001b[0m result \u001b[38;5;241m=\u001b[39m \u001b[38;5;28;01mNone\u001b[39;00m\n\u001b[0;32m   1750\u001b[0m called_always_called_hooks \u001b[38;5;241m=\u001b[39m \u001b[38;5;28mset\u001b[39m()\n",
      "File \u001b[1;32mc:\\workspace\\ETS\\SYS819\\goat-planner\\env\\Lib\\site-packages\\accelerate\\utils\\operations.py:823\u001b[0m, in \u001b[0;36mconvert_outputs_to_fp32.<locals>.forward\u001b[1;34m(*args, **kwargs)\u001b[0m\n\u001b[0;32m    822\u001b[0m \u001b[38;5;28;01mdef\u001b[39;00m \u001b[38;5;21mforward\u001b[39m(\u001b[38;5;241m*\u001b[39margs, \u001b[38;5;241m*\u001b[39m\u001b[38;5;241m*\u001b[39mkwargs):\n\u001b[1;32m--> 823\u001b[0m     \u001b[38;5;28;01mreturn\u001b[39;00m \u001b[43mmodel_forward\u001b[49m\u001b[43m(\u001b[49m\u001b[38;5;241;43m*\u001b[39;49m\u001b[43margs\u001b[49m\u001b[43m,\u001b[49m\u001b[43m \u001b[49m\u001b[38;5;241;43m*\u001b[39;49m\u001b[38;5;241;43m*\u001b[39;49m\u001b[43mkwargs\u001b[49m\u001b[43m)\u001b[49m\n",
      "File \u001b[1;32mc:\\workspace\\ETS\\SYS819\\goat-planner\\env\\Lib\\site-packages\\accelerate\\utils\\operations.py:811\u001b[0m, in \u001b[0;36mConvertOutputsToFp32.__call__\u001b[1;34m(self, *args, **kwargs)\u001b[0m\n\u001b[0;32m    810\u001b[0m \u001b[38;5;28;01mdef\u001b[39;00m \u001b[38;5;21m__call__\u001b[39m(\u001b[38;5;28mself\u001b[39m, \u001b[38;5;241m*\u001b[39margs, \u001b[38;5;241m*\u001b[39m\u001b[38;5;241m*\u001b[39mkwargs):\n\u001b[1;32m--> 811\u001b[0m     \u001b[38;5;28;01mreturn\u001b[39;00m convert_to_fp32(\u001b[38;5;28;43mself\u001b[39;49m\u001b[38;5;241;43m.\u001b[39;49m\u001b[43mmodel_forward\u001b[49m\u001b[43m(\u001b[49m\u001b[38;5;241;43m*\u001b[39;49m\u001b[43margs\u001b[49m\u001b[43m,\u001b[49m\u001b[43m \u001b[49m\u001b[38;5;241;43m*\u001b[39;49m\u001b[38;5;241;43m*\u001b[39;49m\u001b[43mkwargs\u001b[49m\u001b[43m)\u001b[49m)\n",
      "File \u001b[1;32mc:\\workspace\\ETS\\SYS819\\goat-planner\\env\\Lib\\site-packages\\torch\\amp\\autocast_mode.py:44\u001b[0m, in \u001b[0;36mautocast_decorator.<locals>.decorate_autocast\u001b[1;34m(*args, **kwargs)\u001b[0m\n\u001b[0;32m     41\u001b[0m \u001b[38;5;129m@functools\u001b[39m\u001b[38;5;241m.\u001b[39mwraps(func)\n\u001b[0;32m     42\u001b[0m \u001b[38;5;28;01mdef\u001b[39;00m \u001b[38;5;21mdecorate_autocast\u001b[39m(\u001b[38;5;241m*\u001b[39margs, \u001b[38;5;241m*\u001b[39m\u001b[38;5;241m*\u001b[39mkwargs):\n\u001b[0;32m     43\u001b[0m     \u001b[38;5;28;01mwith\u001b[39;00m autocast_instance:\n\u001b[1;32m---> 44\u001b[0m         \u001b[38;5;28;01mreturn\u001b[39;00m \u001b[43mfunc\u001b[49m\u001b[43m(\u001b[49m\u001b[38;5;241;43m*\u001b[39;49m\u001b[43margs\u001b[49m\u001b[43m,\u001b[49m\u001b[43m \u001b[49m\u001b[38;5;241;43m*\u001b[39;49m\u001b[38;5;241;43m*\u001b[39;49m\u001b[43mkwargs\u001b[49m\u001b[43m)\u001b[49m\n",
      "File \u001b[1;32mc:\\workspace\\ETS\\SYS819\\goat-planner\\env\\Lib\\site-packages\\peft\\peft_model.py:1719\u001b[0m, in \u001b[0;36mPeftModelForCausalLM.forward\u001b[1;34m(self, input_ids, attention_mask, inputs_embeds, labels, output_attentions, output_hidden_states, return_dict, task_ids, **kwargs)\u001b[0m\n\u001b[0;32m   1717\u001b[0m     \u001b[38;5;28;01mwith\u001b[39;00m \u001b[38;5;28mself\u001b[39m\u001b[38;5;241m.\u001b[39m_enable_peft_forward_hooks(\u001b[38;5;241m*\u001b[39m\u001b[38;5;241m*\u001b[39mkwargs):\n\u001b[0;32m   1718\u001b[0m         kwargs \u001b[38;5;241m=\u001b[39m {k: v \u001b[38;5;28;01mfor\u001b[39;00m k, v \u001b[38;5;129;01min\u001b[39;00m kwargs\u001b[38;5;241m.\u001b[39mitems() \u001b[38;5;28;01mif\u001b[39;00m k \u001b[38;5;129;01mnot\u001b[39;00m \u001b[38;5;129;01min\u001b[39;00m \u001b[38;5;28mself\u001b[39m\u001b[38;5;241m.\u001b[39mspecial_peft_forward_args}\n\u001b[1;32m-> 1719\u001b[0m         \u001b[38;5;28;01mreturn\u001b[39;00m \u001b[38;5;28;43mself\u001b[39;49m\u001b[38;5;241;43m.\u001b[39;49m\u001b[43mbase_model\u001b[49m\u001b[43m(\u001b[49m\n\u001b[0;32m   1720\u001b[0m \u001b[43m            \u001b[49m\u001b[43minput_ids\u001b[49m\u001b[38;5;241;43m=\u001b[39;49m\u001b[43minput_ids\u001b[49m\u001b[43m,\u001b[49m\n\u001b[0;32m   1721\u001b[0m \u001b[43m            \u001b[49m\u001b[43mattention_mask\u001b[49m\u001b[38;5;241;43m=\u001b[39;49m\u001b[43mattention_mask\u001b[49m\u001b[43m,\u001b[49m\n\u001b[0;32m   1722\u001b[0m \u001b[43m            \u001b[49m\u001b[43minputs_embeds\u001b[49m\u001b[38;5;241;43m=\u001b[39;49m\u001b[43minputs_embeds\u001b[49m\u001b[43m,\u001b[49m\n\u001b[0;32m   1723\u001b[0m \u001b[43m            \u001b[49m\u001b[43mlabels\u001b[49m\u001b[38;5;241;43m=\u001b[39;49m\u001b[43mlabels\u001b[49m\u001b[43m,\u001b[49m\n\u001b[0;32m   1724\u001b[0m \u001b[43m            \u001b[49m\u001b[43moutput_attentions\u001b[49m\u001b[38;5;241;43m=\u001b[39;49m\u001b[43moutput_attentions\u001b[49m\u001b[43m,\u001b[49m\n\u001b[0;32m   1725\u001b[0m \u001b[43m            \u001b[49m\u001b[43moutput_hidden_states\u001b[49m\u001b[38;5;241;43m=\u001b[39;49m\u001b[43moutput_hidden_states\u001b[49m\u001b[43m,\u001b[49m\n\u001b[0;32m   1726\u001b[0m \u001b[43m            \u001b[49m\u001b[43mreturn_dict\u001b[49m\u001b[38;5;241;43m=\u001b[39;49m\u001b[43mreturn_dict\u001b[49m\u001b[43m,\u001b[49m\n\u001b[0;32m   1727\u001b[0m \u001b[43m            \u001b[49m\u001b[38;5;241;43m*\u001b[39;49m\u001b[38;5;241;43m*\u001b[39;49m\u001b[43mkwargs\u001b[49m\u001b[43m,\u001b[49m\n\u001b[0;32m   1728\u001b[0m \u001b[43m        \u001b[49m\u001b[43m)\u001b[49m\n\u001b[0;32m   1730\u001b[0m batch_size \u001b[38;5;241m=\u001b[39m _get_batch_size(input_ids, inputs_embeds)\n\u001b[0;32m   1731\u001b[0m \u001b[38;5;28;01mif\u001b[39;00m attention_mask \u001b[38;5;129;01mis\u001b[39;00m \u001b[38;5;129;01mnot\u001b[39;00m \u001b[38;5;28;01mNone\u001b[39;00m:\n\u001b[0;32m   1732\u001b[0m     \u001b[38;5;66;03m# concat prompt attention mask\u001b[39;00m\n",
      "File \u001b[1;32mc:\\workspace\\ETS\\SYS819\\goat-planner\\env\\Lib\\site-packages\\torch\\nn\\modules\\module.py:1736\u001b[0m, in \u001b[0;36mModule._wrapped_call_impl\u001b[1;34m(self, *args, **kwargs)\u001b[0m\n\u001b[0;32m   1734\u001b[0m     \u001b[38;5;28;01mreturn\u001b[39;00m \u001b[38;5;28mself\u001b[39m\u001b[38;5;241m.\u001b[39m_compiled_call_impl(\u001b[38;5;241m*\u001b[39margs, \u001b[38;5;241m*\u001b[39m\u001b[38;5;241m*\u001b[39mkwargs)  \u001b[38;5;66;03m# type: ignore[misc]\u001b[39;00m\n\u001b[0;32m   1735\u001b[0m \u001b[38;5;28;01melse\u001b[39;00m:\n\u001b[1;32m-> 1736\u001b[0m     \u001b[38;5;28;01mreturn\u001b[39;00m \u001b[38;5;28;43mself\u001b[39;49m\u001b[38;5;241;43m.\u001b[39;49m\u001b[43m_call_impl\u001b[49m\u001b[43m(\u001b[49m\u001b[38;5;241;43m*\u001b[39;49m\u001b[43margs\u001b[49m\u001b[43m,\u001b[49m\u001b[43m \u001b[49m\u001b[38;5;241;43m*\u001b[39;49m\u001b[38;5;241;43m*\u001b[39;49m\u001b[43mkwargs\u001b[49m\u001b[43m)\u001b[49m\n",
      "File \u001b[1;32mc:\\workspace\\ETS\\SYS819\\goat-planner\\env\\Lib\\site-packages\\torch\\nn\\modules\\module.py:1747\u001b[0m, in \u001b[0;36mModule._call_impl\u001b[1;34m(self, *args, **kwargs)\u001b[0m\n\u001b[0;32m   1742\u001b[0m \u001b[38;5;66;03m# If we don't have any hooks, we want to skip the rest of the logic in\u001b[39;00m\n\u001b[0;32m   1743\u001b[0m \u001b[38;5;66;03m# this function, and just call forward.\u001b[39;00m\n\u001b[0;32m   1744\u001b[0m \u001b[38;5;28;01mif\u001b[39;00m \u001b[38;5;129;01mnot\u001b[39;00m (\u001b[38;5;28mself\u001b[39m\u001b[38;5;241m.\u001b[39m_backward_hooks \u001b[38;5;129;01mor\u001b[39;00m \u001b[38;5;28mself\u001b[39m\u001b[38;5;241m.\u001b[39m_backward_pre_hooks \u001b[38;5;129;01mor\u001b[39;00m \u001b[38;5;28mself\u001b[39m\u001b[38;5;241m.\u001b[39m_forward_hooks \u001b[38;5;129;01mor\u001b[39;00m \u001b[38;5;28mself\u001b[39m\u001b[38;5;241m.\u001b[39m_forward_pre_hooks\n\u001b[0;32m   1745\u001b[0m         \u001b[38;5;129;01mor\u001b[39;00m _global_backward_pre_hooks \u001b[38;5;129;01mor\u001b[39;00m _global_backward_hooks\n\u001b[0;32m   1746\u001b[0m         \u001b[38;5;129;01mor\u001b[39;00m _global_forward_hooks \u001b[38;5;129;01mor\u001b[39;00m _global_forward_pre_hooks):\n\u001b[1;32m-> 1747\u001b[0m     \u001b[38;5;28;01mreturn\u001b[39;00m \u001b[43mforward_call\u001b[49m\u001b[43m(\u001b[49m\u001b[38;5;241;43m*\u001b[39;49m\u001b[43margs\u001b[49m\u001b[43m,\u001b[49m\u001b[43m \u001b[49m\u001b[38;5;241;43m*\u001b[39;49m\u001b[38;5;241;43m*\u001b[39;49m\u001b[43mkwargs\u001b[49m\u001b[43m)\u001b[49m\n\u001b[0;32m   1749\u001b[0m result \u001b[38;5;241m=\u001b[39m \u001b[38;5;28;01mNone\u001b[39;00m\n\u001b[0;32m   1750\u001b[0m called_always_called_hooks \u001b[38;5;241m=\u001b[39m \u001b[38;5;28mset\u001b[39m()\n",
      "File \u001b[1;32mc:\\workspace\\ETS\\SYS819\\goat-planner\\env\\Lib\\site-packages\\peft\\tuners\\tuners_utils.py:197\u001b[0m, in \u001b[0;36mBaseTuner.forward\u001b[1;34m(self, *args, **kwargs)\u001b[0m\n\u001b[0;32m    196\u001b[0m \u001b[38;5;28;01mdef\u001b[39;00m \u001b[38;5;21mforward\u001b[39m(\u001b[38;5;28mself\u001b[39m, \u001b[38;5;241m*\u001b[39margs: Any, \u001b[38;5;241m*\u001b[39m\u001b[38;5;241m*\u001b[39mkwargs: Any):\n\u001b[1;32m--> 197\u001b[0m     \u001b[38;5;28;01mreturn\u001b[39;00m \u001b[38;5;28;43mself\u001b[39;49m\u001b[38;5;241;43m.\u001b[39;49m\u001b[43mmodel\u001b[49m\u001b[38;5;241;43m.\u001b[39;49m\u001b[43mforward\u001b[49m\u001b[43m(\u001b[49m\u001b[38;5;241;43m*\u001b[39;49m\u001b[43margs\u001b[49m\u001b[43m,\u001b[49m\u001b[43m \u001b[49m\u001b[38;5;241;43m*\u001b[39;49m\u001b[38;5;241;43m*\u001b[39;49m\u001b[43mkwargs\u001b[49m\u001b[43m)\u001b[49m\n",
      "File \u001b[1;32mc:\\workspace\\ETS\\SYS819\\goat-planner\\env\\Lib\\site-packages\\transformers\\models\\llama\\modeling_llama.py:1163\u001b[0m, in \u001b[0;36mLlamaForCausalLM.forward\u001b[1;34m(self, input_ids, attention_mask, position_ids, past_key_values, inputs_embeds, labels, use_cache, output_attentions, output_hidden_states, return_dict, cache_position, num_logits_to_keep, **kwargs)\u001b[0m\n\u001b[0;32m   1160\u001b[0m return_dict \u001b[38;5;241m=\u001b[39m return_dict \u001b[38;5;28;01mif\u001b[39;00m return_dict \u001b[38;5;129;01mis\u001b[39;00m \u001b[38;5;129;01mnot\u001b[39;00m \u001b[38;5;28;01mNone\u001b[39;00m \u001b[38;5;28;01melse\u001b[39;00m \u001b[38;5;28mself\u001b[39m\u001b[38;5;241m.\u001b[39mconfig\u001b[38;5;241m.\u001b[39muse_return_dict\n\u001b[0;32m   1162\u001b[0m \u001b[38;5;66;03m# decoder outputs consists of (dec_features, layer_state, dec_hidden, dec_attn)\u001b[39;00m\n\u001b[1;32m-> 1163\u001b[0m outputs \u001b[38;5;241m=\u001b[39m \u001b[38;5;28;43mself\u001b[39;49m\u001b[38;5;241;43m.\u001b[39;49m\u001b[43mmodel\u001b[49m\u001b[43m(\u001b[49m\n\u001b[0;32m   1164\u001b[0m \u001b[43m    \u001b[49m\u001b[43minput_ids\u001b[49m\u001b[38;5;241;43m=\u001b[39;49m\u001b[43minput_ids\u001b[49m\u001b[43m,\u001b[49m\n\u001b[0;32m   1165\u001b[0m \u001b[43m    \u001b[49m\u001b[43mattention_mask\u001b[49m\u001b[38;5;241;43m=\u001b[39;49m\u001b[43mattention_mask\u001b[49m\u001b[43m,\u001b[49m\n\u001b[0;32m   1166\u001b[0m \u001b[43m    \u001b[49m\u001b[43mposition_ids\u001b[49m\u001b[38;5;241;43m=\u001b[39;49m\u001b[43mposition_ids\u001b[49m\u001b[43m,\u001b[49m\n\u001b[0;32m   1167\u001b[0m \u001b[43m    \u001b[49m\u001b[43mpast_key_values\u001b[49m\u001b[38;5;241;43m=\u001b[39;49m\u001b[43mpast_key_values\u001b[49m\u001b[43m,\u001b[49m\n\u001b[0;32m   1168\u001b[0m \u001b[43m    \u001b[49m\u001b[43minputs_embeds\u001b[49m\u001b[38;5;241;43m=\u001b[39;49m\u001b[43minputs_embeds\u001b[49m\u001b[43m,\u001b[49m\n\u001b[0;32m   1169\u001b[0m \u001b[43m    \u001b[49m\u001b[43muse_cache\u001b[49m\u001b[38;5;241;43m=\u001b[39;49m\u001b[43muse_cache\u001b[49m\u001b[43m,\u001b[49m\n\u001b[0;32m   1170\u001b[0m \u001b[43m    \u001b[49m\u001b[43moutput_attentions\u001b[49m\u001b[38;5;241;43m=\u001b[39;49m\u001b[43moutput_attentions\u001b[49m\u001b[43m,\u001b[49m\n\u001b[0;32m   1171\u001b[0m \u001b[43m    \u001b[49m\u001b[43moutput_hidden_states\u001b[49m\u001b[38;5;241;43m=\u001b[39;49m\u001b[43moutput_hidden_states\u001b[49m\u001b[43m,\u001b[49m\n\u001b[0;32m   1172\u001b[0m \u001b[43m    \u001b[49m\u001b[43mreturn_dict\u001b[49m\u001b[38;5;241;43m=\u001b[39;49m\u001b[43mreturn_dict\u001b[49m\u001b[43m,\u001b[49m\n\u001b[0;32m   1173\u001b[0m \u001b[43m    \u001b[49m\u001b[43mcache_position\u001b[49m\u001b[38;5;241;43m=\u001b[39;49m\u001b[43mcache_position\u001b[49m\u001b[43m,\u001b[49m\n\u001b[0;32m   1174\u001b[0m \u001b[43m    \u001b[49m\u001b[38;5;241;43m*\u001b[39;49m\u001b[38;5;241;43m*\u001b[39;49m\u001b[43mkwargs\u001b[49m\u001b[43m,\u001b[49m\n\u001b[0;32m   1175\u001b[0m \u001b[43m\u001b[49m\u001b[43m)\u001b[49m\n\u001b[0;32m   1177\u001b[0m hidden_states \u001b[38;5;241m=\u001b[39m outputs[\u001b[38;5;241m0\u001b[39m]\n\u001b[0;32m   1178\u001b[0m \u001b[38;5;66;03m# Only compute necessary logits, and do not upcast them to float if we are not computing the loss\u001b[39;00m\n",
      "File \u001b[1;32mc:\\workspace\\ETS\\SYS819\\goat-planner\\env\\Lib\\site-packages\\torch\\nn\\modules\\module.py:1736\u001b[0m, in \u001b[0;36mModule._wrapped_call_impl\u001b[1;34m(self, *args, **kwargs)\u001b[0m\n\u001b[0;32m   1734\u001b[0m     \u001b[38;5;28;01mreturn\u001b[39;00m \u001b[38;5;28mself\u001b[39m\u001b[38;5;241m.\u001b[39m_compiled_call_impl(\u001b[38;5;241m*\u001b[39margs, \u001b[38;5;241m*\u001b[39m\u001b[38;5;241m*\u001b[39mkwargs)  \u001b[38;5;66;03m# type: ignore[misc]\u001b[39;00m\n\u001b[0;32m   1735\u001b[0m \u001b[38;5;28;01melse\u001b[39;00m:\n\u001b[1;32m-> 1736\u001b[0m     \u001b[38;5;28;01mreturn\u001b[39;00m \u001b[38;5;28;43mself\u001b[39;49m\u001b[38;5;241;43m.\u001b[39;49m\u001b[43m_call_impl\u001b[49m\u001b[43m(\u001b[49m\u001b[38;5;241;43m*\u001b[39;49m\u001b[43margs\u001b[49m\u001b[43m,\u001b[49m\u001b[43m \u001b[49m\u001b[38;5;241;43m*\u001b[39;49m\u001b[38;5;241;43m*\u001b[39;49m\u001b[43mkwargs\u001b[49m\u001b[43m)\u001b[49m\n",
      "File \u001b[1;32mc:\\workspace\\ETS\\SYS819\\goat-planner\\env\\Lib\\site-packages\\torch\\nn\\modules\\module.py:1747\u001b[0m, in \u001b[0;36mModule._call_impl\u001b[1;34m(self, *args, **kwargs)\u001b[0m\n\u001b[0;32m   1742\u001b[0m \u001b[38;5;66;03m# If we don't have any hooks, we want to skip the rest of the logic in\u001b[39;00m\n\u001b[0;32m   1743\u001b[0m \u001b[38;5;66;03m# this function, and just call forward.\u001b[39;00m\n\u001b[0;32m   1744\u001b[0m \u001b[38;5;28;01mif\u001b[39;00m \u001b[38;5;129;01mnot\u001b[39;00m (\u001b[38;5;28mself\u001b[39m\u001b[38;5;241m.\u001b[39m_backward_hooks \u001b[38;5;129;01mor\u001b[39;00m \u001b[38;5;28mself\u001b[39m\u001b[38;5;241m.\u001b[39m_backward_pre_hooks \u001b[38;5;129;01mor\u001b[39;00m \u001b[38;5;28mself\u001b[39m\u001b[38;5;241m.\u001b[39m_forward_hooks \u001b[38;5;129;01mor\u001b[39;00m \u001b[38;5;28mself\u001b[39m\u001b[38;5;241m.\u001b[39m_forward_pre_hooks\n\u001b[0;32m   1745\u001b[0m         \u001b[38;5;129;01mor\u001b[39;00m _global_backward_pre_hooks \u001b[38;5;129;01mor\u001b[39;00m _global_backward_hooks\n\u001b[0;32m   1746\u001b[0m         \u001b[38;5;129;01mor\u001b[39;00m _global_forward_hooks \u001b[38;5;129;01mor\u001b[39;00m _global_forward_pre_hooks):\n\u001b[1;32m-> 1747\u001b[0m     \u001b[38;5;28;01mreturn\u001b[39;00m \u001b[43mforward_call\u001b[49m\u001b[43m(\u001b[49m\u001b[38;5;241;43m*\u001b[39;49m\u001b[43margs\u001b[49m\u001b[43m,\u001b[49m\u001b[43m \u001b[49m\u001b[38;5;241;43m*\u001b[39;49m\u001b[38;5;241;43m*\u001b[39;49m\u001b[43mkwargs\u001b[49m\u001b[43m)\u001b[49m\n\u001b[0;32m   1749\u001b[0m result \u001b[38;5;241m=\u001b[39m \u001b[38;5;28;01mNone\u001b[39;00m\n\u001b[0;32m   1750\u001b[0m called_always_called_hooks \u001b[38;5;241m=\u001b[39m \u001b[38;5;28mset\u001b[39m()\n",
      "File \u001b[1;32mc:\\workspace\\ETS\\SYS819\\goat-planner\\env\\Lib\\site-packages\\transformers\\models\\llama\\modeling_llama.py:913\u001b[0m, in \u001b[0;36mLlamaModel.forward\u001b[1;34m(self, input_ids, attention_mask, position_ids, past_key_values, inputs_embeds, use_cache, output_attentions, output_hidden_states, return_dict, cache_position, **flash_attn_kwargs)\u001b[0m\n\u001b[0;32m    901\u001b[0m     layer_outputs \u001b[38;5;241m=\u001b[39m \u001b[38;5;28mself\u001b[39m\u001b[38;5;241m.\u001b[39m_gradient_checkpointing_func(\n\u001b[0;32m    902\u001b[0m         decoder_layer\u001b[38;5;241m.\u001b[39m\u001b[38;5;21m__call__\u001b[39m,\n\u001b[0;32m    903\u001b[0m         hidden_states,\n\u001b[1;32m   (...)\u001b[0m\n\u001b[0;32m    910\u001b[0m         position_embeddings,\n\u001b[0;32m    911\u001b[0m     )\n\u001b[0;32m    912\u001b[0m \u001b[38;5;28;01melse\u001b[39;00m:\n\u001b[1;32m--> 913\u001b[0m     layer_outputs \u001b[38;5;241m=\u001b[39m \u001b[43mdecoder_layer\u001b[49m\u001b[43m(\u001b[49m\n\u001b[0;32m    914\u001b[0m \u001b[43m        \u001b[49m\u001b[43mhidden_states\u001b[49m\u001b[43m,\u001b[49m\n\u001b[0;32m    915\u001b[0m \u001b[43m        \u001b[49m\u001b[43mattention_mask\u001b[49m\u001b[38;5;241;43m=\u001b[39;49m\u001b[43mcausal_mask\u001b[49m\u001b[43m,\u001b[49m\n\u001b[0;32m    916\u001b[0m \u001b[43m        \u001b[49m\u001b[43mposition_ids\u001b[49m\u001b[38;5;241;43m=\u001b[39;49m\u001b[43mposition_ids\u001b[49m\u001b[43m,\u001b[49m\n\u001b[0;32m    917\u001b[0m \u001b[43m        \u001b[49m\u001b[43mpast_key_value\u001b[49m\u001b[38;5;241;43m=\u001b[39;49m\u001b[43mpast_key_values\u001b[49m\u001b[43m,\u001b[49m\n\u001b[0;32m    918\u001b[0m \u001b[43m        \u001b[49m\u001b[43moutput_attentions\u001b[49m\u001b[38;5;241;43m=\u001b[39;49m\u001b[43moutput_attentions\u001b[49m\u001b[43m,\u001b[49m\n\u001b[0;32m    919\u001b[0m \u001b[43m        \u001b[49m\u001b[43muse_cache\u001b[49m\u001b[38;5;241;43m=\u001b[39;49m\u001b[43muse_cache\u001b[49m\u001b[43m,\u001b[49m\n\u001b[0;32m    920\u001b[0m \u001b[43m        \u001b[49m\u001b[43mcache_position\u001b[49m\u001b[38;5;241;43m=\u001b[39;49m\u001b[43mcache_position\u001b[49m\u001b[43m,\u001b[49m\n\u001b[0;32m    921\u001b[0m \u001b[43m        \u001b[49m\u001b[43mposition_embeddings\u001b[49m\u001b[38;5;241;43m=\u001b[39;49m\u001b[43mposition_embeddings\u001b[49m\u001b[43m,\u001b[49m\n\u001b[0;32m    922\u001b[0m \u001b[43m        \u001b[49m\u001b[38;5;241;43m*\u001b[39;49m\u001b[38;5;241;43m*\u001b[39;49m\u001b[43mflash_attn_kwargs\u001b[49m\u001b[43m,\u001b[49m\n\u001b[0;32m    923\u001b[0m \u001b[43m    \u001b[49m\u001b[43m)\u001b[49m\n\u001b[0;32m    925\u001b[0m hidden_states \u001b[38;5;241m=\u001b[39m layer_outputs[\u001b[38;5;241m0\u001b[39m]\n\u001b[0;32m    927\u001b[0m \u001b[38;5;28;01mif\u001b[39;00m use_cache:\n",
      "File \u001b[1;32mc:\\workspace\\ETS\\SYS819\\goat-planner\\env\\Lib\\site-packages\\torch\\nn\\modules\\module.py:1736\u001b[0m, in \u001b[0;36mModule._wrapped_call_impl\u001b[1;34m(self, *args, **kwargs)\u001b[0m\n\u001b[0;32m   1734\u001b[0m     \u001b[38;5;28;01mreturn\u001b[39;00m \u001b[38;5;28mself\u001b[39m\u001b[38;5;241m.\u001b[39m_compiled_call_impl(\u001b[38;5;241m*\u001b[39margs, \u001b[38;5;241m*\u001b[39m\u001b[38;5;241m*\u001b[39mkwargs)  \u001b[38;5;66;03m# type: ignore[misc]\u001b[39;00m\n\u001b[0;32m   1735\u001b[0m \u001b[38;5;28;01melse\u001b[39;00m:\n\u001b[1;32m-> 1736\u001b[0m     \u001b[38;5;28;01mreturn\u001b[39;00m \u001b[38;5;28;43mself\u001b[39;49m\u001b[38;5;241;43m.\u001b[39;49m\u001b[43m_call_impl\u001b[49m\u001b[43m(\u001b[49m\u001b[38;5;241;43m*\u001b[39;49m\u001b[43margs\u001b[49m\u001b[43m,\u001b[49m\u001b[43m \u001b[49m\u001b[38;5;241;43m*\u001b[39;49m\u001b[38;5;241;43m*\u001b[39;49m\u001b[43mkwargs\u001b[49m\u001b[43m)\u001b[49m\n",
      "File \u001b[1;32mc:\\workspace\\ETS\\SYS819\\goat-planner\\env\\Lib\\site-packages\\torch\\nn\\modules\\module.py:1747\u001b[0m, in \u001b[0;36mModule._call_impl\u001b[1;34m(self, *args, **kwargs)\u001b[0m\n\u001b[0;32m   1742\u001b[0m \u001b[38;5;66;03m# If we don't have any hooks, we want to skip the rest of the logic in\u001b[39;00m\n\u001b[0;32m   1743\u001b[0m \u001b[38;5;66;03m# this function, and just call forward.\u001b[39;00m\n\u001b[0;32m   1744\u001b[0m \u001b[38;5;28;01mif\u001b[39;00m \u001b[38;5;129;01mnot\u001b[39;00m (\u001b[38;5;28mself\u001b[39m\u001b[38;5;241m.\u001b[39m_backward_hooks \u001b[38;5;129;01mor\u001b[39;00m \u001b[38;5;28mself\u001b[39m\u001b[38;5;241m.\u001b[39m_backward_pre_hooks \u001b[38;5;129;01mor\u001b[39;00m \u001b[38;5;28mself\u001b[39m\u001b[38;5;241m.\u001b[39m_forward_hooks \u001b[38;5;129;01mor\u001b[39;00m \u001b[38;5;28mself\u001b[39m\u001b[38;5;241m.\u001b[39m_forward_pre_hooks\n\u001b[0;32m   1745\u001b[0m         \u001b[38;5;129;01mor\u001b[39;00m _global_backward_pre_hooks \u001b[38;5;129;01mor\u001b[39;00m _global_backward_hooks\n\u001b[0;32m   1746\u001b[0m         \u001b[38;5;129;01mor\u001b[39;00m _global_forward_hooks \u001b[38;5;129;01mor\u001b[39;00m _global_forward_pre_hooks):\n\u001b[1;32m-> 1747\u001b[0m     \u001b[38;5;28;01mreturn\u001b[39;00m \u001b[43mforward_call\u001b[49m\u001b[43m(\u001b[49m\u001b[38;5;241;43m*\u001b[39;49m\u001b[43margs\u001b[49m\u001b[43m,\u001b[49m\u001b[43m \u001b[49m\u001b[38;5;241;43m*\u001b[39;49m\u001b[38;5;241;43m*\u001b[39;49m\u001b[43mkwargs\u001b[49m\u001b[43m)\u001b[49m\n\u001b[0;32m   1749\u001b[0m result \u001b[38;5;241m=\u001b[39m \u001b[38;5;28;01mNone\u001b[39;00m\n\u001b[0;32m   1750\u001b[0m called_always_called_hooks \u001b[38;5;241m=\u001b[39m \u001b[38;5;28mset\u001b[39m()\n",
      "File \u001b[1;32mc:\\workspace\\ETS\\SYS819\\goat-planner\\env\\Lib\\site-packages\\transformers\\models\\llama\\modeling_llama.py:640\u001b[0m, in \u001b[0;36mLlamaDecoderLayer.forward\u001b[1;34m(self, hidden_states, attention_mask, position_ids, past_key_value, output_attentions, use_cache, cache_position, position_embeddings, **kwargs)\u001b[0m\n\u001b[0;32m    637\u001b[0m hidden_states \u001b[38;5;241m=\u001b[39m \u001b[38;5;28mself\u001b[39m\u001b[38;5;241m.\u001b[39minput_layernorm(hidden_states)\n\u001b[0;32m    639\u001b[0m \u001b[38;5;66;03m# Self Attention\u001b[39;00m\n\u001b[1;32m--> 640\u001b[0m hidden_states, self_attn_weights, present_key_value \u001b[38;5;241m=\u001b[39m \u001b[38;5;28;43mself\u001b[39;49m\u001b[38;5;241;43m.\u001b[39;49m\u001b[43mself_attn\u001b[49m\u001b[43m(\u001b[49m\n\u001b[0;32m    641\u001b[0m \u001b[43m    \u001b[49m\u001b[43mhidden_states\u001b[49m\u001b[38;5;241;43m=\u001b[39;49m\u001b[43mhidden_states\u001b[49m\u001b[43m,\u001b[49m\n\u001b[0;32m    642\u001b[0m \u001b[43m    \u001b[49m\u001b[43mattention_mask\u001b[49m\u001b[38;5;241;43m=\u001b[39;49m\u001b[43mattention_mask\u001b[49m\u001b[43m,\u001b[49m\n\u001b[0;32m    643\u001b[0m \u001b[43m    \u001b[49m\u001b[43mposition_ids\u001b[49m\u001b[38;5;241;43m=\u001b[39;49m\u001b[43mposition_ids\u001b[49m\u001b[43m,\u001b[49m\n\u001b[0;32m    644\u001b[0m \u001b[43m    \u001b[49m\u001b[43mpast_key_value\u001b[49m\u001b[38;5;241;43m=\u001b[39;49m\u001b[43mpast_key_value\u001b[49m\u001b[43m,\u001b[49m\n\u001b[0;32m    645\u001b[0m \u001b[43m    \u001b[49m\u001b[43moutput_attentions\u001b[49m\u001b[38;5;241;43m=\u001b[39;49m\u001b[43moutput_attentions\u001b[49m\u001b[43m,\u001b[49m\n\u001b[0;32m    646\u001b[0m \u001b[43m    \u001b[49m\u001b[43muse_cache\u001b[49m\u001b[38;5;241;43m=\u001b[39;49m\u001b[43muse_cache\u001b[49m\u001b[43m,\u001b[49m\n\u001b[0;32m    647\u001b[0m \u001b[43m    \u001b[49m\u001b[43mcache_position\u001b[49m\u001b[38;5;241;43m=\u001b[39;49m\u001b[43mcache_position\u001b[49m\u001b[43m,\u001b[49m\n\u001b[0;32m    648\u001b[0m \u001b[43m    \u001b[49m\u001b[43mposition_embeddings\u001b[49m\u001b[38;5;241;43m=\u001b[39;49m\u001b[43mposition_embeddings\u001b[49m\u001b[43m,\u001b[49m\n\u001b[0;32m    649\u001b[0m \u001b[43m    \u001b[49m\u001b[38;5;241;43m*\u001b[39;49m\u001b[38;5;241;43m*\u001b[39;49m\u001b[43mkwargs\u001b[49m\u001b[43m,\u001b[49m\n\u001b[0;32m    650\u001b[0m \u001b[43m\u001b[49m\u001b[43m)\u001b[49m\n\u001b[0;32m    651\u001b[0m hidden_states \u001b[38;5;241m=\u001b[39m residual \u001b[38;5;241m+\u001b[39m hidden_states\n\u001b[0;32m    653\u001b[0m \u001b[38;5;66;03m# Fully Connected\u001b[39;00m\n",
      "File \u001b[1;32mc:\\workspace\\ETS\\SYS819\\goat-planner\\env\\Lib\\site-packages\\torch\\nn\\modules\\module.py:1736\u001b[0m, in \u001b[0;36mModule._wrapped_call_impl\u001b[1;34m(self, *args, **kwargs)\u001b[0m\n\u001b[0;32m   1734\u001b[0m     \u001b[38;5;28;01mreturn\u001b[39;00m \u001b[38;5;28mself\u001b[39m\u001b[38;5;241m.\u001b[39m_compiled_call_impl(\u001b[38;5;241m*\u001b[39margs, \u001b[38;5;241m*\u001b[39m\u001b[38;5;241m*\u001b[39mkwargs)  \u001b[38;5;66;03m# type: ignore[misc]\u001b[39;00m\n\u001b[0;32m   1735\u001b[0m \u001b[38;5;28;01melse\u001b[39;00m:\n\u001b[1;32m-> 1736\u001b[0m     \u001b[38;5;28;01mreturn\u001b[39;00m \u001b[38;5;28;43mself\u001b[39;49m\u001b[38;5;241;43m.\u001b[39;49m\u001b[43m_call_impl\u001b[49m\u001b[43m(\u001b[49m\u001b[38;5;241;43m*\u001b[39;49m\u001b[43margs\u001b[49m\u001b[43m,\u001b[49m\u001b[43m \u001b[49m\u001b[38;5;241;43m*\u001b[39;49m\u001b[38;5;241;43m*\u001b[39;49m\u001b[43mkwargs\u001b[49m\u001b[43m)\u001b[49m\n",
      "File \u001b[1;32mc:\\workspace\\ETS\\SYS819\\goat-planner\\env\\Lib\\site-packages\\torch\\nn\\modules\\module.py:1747\u001b[0m, in \u001b[0;36mModule._call_impl\u001b[1;34m(self, *args, **kwargs)\u001b[0m\n\u001b[0;32m   1742\u001b[0m \u001b[38;5;66;03m# If we don't have any hooks, we want to skip the rest of the logic in\u001b[39;00m\n\u001b[0;32m   1743\u001b[0m \u001b[38;5;66;03m# this function, and just call forward.\u001b[39;00m\n\u001b[0;32m   1744\u001b[0m \u001b[38;5;28;01mif\u001b[39;00m \u001b[38;5;129;01mnot\u001b[39;00m (\u001b[38;5;28mself\u001b[39m\u001b[38;5;241m.\u001b[39m_backward_hooks \u001b[38;5;129;01mor\u001b[39;00m \u001b[38;5;28mself\u001b[39m\u001b[38;5;241m.\u001b[39m_backward_pre_hooks \u001b[38;5;129;01mor\u001b[39;00m \u001b[38;5;28mself\u001b[39m\u001b[38;5;241m.\u001b[39m_forward_hooks \u001b[38;5;129;01mor\u001b[39;00m \u001b[38;5;28mself\u001b[39m\u001b[38;5;241m.\u001b[39m_forward_pre_hooks\n\u001b[0;32m   1745\u001b[0m         \u001b[38;5;129;01mor\u001b[39;00m _global_backward_pre_hooks \u001b[38;5;129;01mor\u001b[39;00m _global_backward_hooks\n\u001b[0;32m   1746\u001b[0m         \u001b[38;5;129;01mor\u001b[39;00m _global_forward_hooks \u001b[38;5;129;01mor\u001b[39;00m _global_forward_pre_hooks):\n\u001b[1;32m-> 1747\u001b[0m     \u001b[38;5;28;01mreturn\u001b[39;00m \u001b[43mforward_call\u001b[49m\u001b[43m(\u001b[49m\u001b[38;5;241;43m*\u001b[39;49m\u001b[43margs\u001b[49m\u001b[43m,\u001b[49m\u001b[43m \u001b[49m\u001b[38;5;241;43m*\u001b[39;49m\u001b[38;5;241;43m*\u001b[39;49m\u001b[43mkwargs\u001b[49m\u001b[43m)\u001b[49m\n\u001b[0;32m   1749\u001b[0m result \u001b[38;5;241m=\u001b[39m \u001b[38;5;28;01mNone\u001b[39;00m\n\u001b[0;32m   1750\u001b[0m called_always_called_hooks \u001b[38;5;241m=\u001b[39m \u001b[38;5;28mset\u001b[39m()\n",
      "File \u001b[1;32mc:\\workspace\\ETS\\SYS819\\goat-planner\\env\\Lib\\site-packages\\transformers\\models\\llama\\modeling_llama.py:306\u001b[0m, in \u001b[0;36mLlamaAttention.forward\u001b[1;34m(self, hidden_states, attention_mask, position_ids, past_key_value, output_attentions, use_cache, cache_position, position_embeddings, **kwargs)\u001b[0m\n\u001b[0;32m    304\u001b[0m query_states \u001b[38;5;241m=\u001b[39m \u001b[38;5;28mself\u001b[39m\u001b[38;5;241m.\u001b[39mq_proj(hidden_states)\n\u001b[0;32m    305\u001b[0m key_states \u001b[38;5;241m=\u001b[39m \u001b[38;5;28mself\u001b[39m\u001b[38;5;241m.\u001b[39mk_proj(hidden_states)\n\u001b[1;32m--> 306\u001b[0m value_states \u001b[38;5;241m=\u001b[39m \u001b[38;5;28;43mself\u001b[39;49m\u001b[38;5;241;43m.\u001b[39;49m\u001b[43mv_proj\u001b[49m\u001b[43m(\u001b[49m\u001b[43mhidden_states\u001b[49m\u001b[43m)\u001b[49m\n\u001b[0;32m    308\u001b[0m \u001b[38;5;66;03m# use -1 to infer num_heads and num_key_value_heads as they may vary if tensor parallel is used\u001b[39;00m\n\u001b[0;32m    309\u001b[0m query_states \u001b[38;5;241m=\u001b[39m query_states\u001b[38;5;241m.\u001b[39mview(bsz, q_len, \u001b[38;5;241m-\u001b[39m\u001b[38;5;241m1\u001b[39m, \u001b[38;5;28mself\u001b[39m\u001b[38;5;241m.\u001b[39mhead_dim)\u001b[38;5;241m.\u001b[39mtranspose(\u001b[38;5;241m1\u001b[39m, \u001b[38;5;241m2\u001b[39m)\n",
      "File \u001b[1;32mc:\\workspace\\ETS\\SYS819\\goat-planner\\env\\Lib\\site-packages\\torch\\nn\\modules\\module.py:1736\u001b[0m, in \u001b[0;36mModule._wrapped_call_impl\u001b[1;34m(self, *args, **kwargs)\u001b[0m\n\u001b[0;32m   1734\u001b[0m     \u001b[38;5;28;01mreturn\u001b[39;00m \u001b[38;5;28mself\u001b[39m\u001b[38;5;241m.\u001b[39m_compiled_call_impl(\u001b[38;5;241m*\u001b[39margs, \u001b[38;5;241m*\u001b[39m\u001b[38;5;241m*\u001b[39mkwargs)  \u001b[38;5;66;03m# type: ignore[misc]\u001b[39;00m\n\u001b[0;32m   1735\u001b[0m \u001b[38;5;28;01melse\u001b[39;00m:\n\u001b[1;32m-> 1736\u001b[0m     \u001b[38;5;28;01mreturn\u001b[39;00m \u001b[38;5;28;43mself\u001b[39;49m\u001b[38;5;241;43m.\u001b[39;49m\u001b[43m_call_impl\u001b[49m\u001b[43m(\u001b[49m\u001b[38;5;241;43m*\u001b[39;49m\u001b[43margs\u001b[49m\u001b[43m,\u001b[49m\u001b[43m \u001b[49m\u001b[38;5;241;43m*\u001b[39;49m\u001b[38;5;241;43m*\u001b[39;49m\u001b[43mkwargs\u001b[49m\u001b[43m)\u001b[49m\n",
      "File \u001b[1;32mc:\\workspace\\ETS\\SYS819\\goat-planner\\env\\Lib\\site-packages\\torch\\nn\\modules\\module.py:1747\u001b[0m, in \u001b[0;36mModule._call_impl\u001b[1;34m(self, *args, **kwargs)\u001b[0m\n\u001b[0;32m   1742\u001b[0m \u001b[38;5;66;03m# If we don't have any hooks, we want to skip the rest of the logic in\u001b[39;00m\n\u001b[0;32m   1743\u001b[0m \u001b[38;5;66;03m# this function, and just call forward.\u001b[39;00m\n\u001b[0;32m   1744\u001b[0m \u001b[38;5;28;01mif\u001b[39;00m \u001b[38;5;129;01mnot\u001b[39;00m (\u001b[38;5;28mself\u001b[39m\u001b[38;5;241m.\u001b[39m_backward_hooks \u001b[38;5;129;01mor\u001b[39;00m \u001b[38;5;28mself\u001b[39m\u001b[38;5;241m.\u001b[39m_backward_pre_hooks \u001b[38;5;129;01mor\u001b[39;00m \u001b[38;5;28mself\u001b[39m\u001b[38;5;241m.\u001b[39m_forward_hooks \u001b[38;5;129;01mor\u001b[39;00m \u001b[38;5;28mself\u001b[39m\u001b[38;5;241m.\u001b[39m_forward_pre_hooks\n\u001b[0;32m   1745\u001b[0m         \u001b[38;5;129;01mor\u001b[39;00m _global_backward_pre_hooks \u001b[38;5;129;01mor\u001b[39;00m _global_backward_hooks\n\u001b[0;32m   1746\u001b[0m         \u001b[38;5;129;01mor\u001b[39;00m _global_forward_hooks \u001b[38;5;129;01mor\u001b[39;00m _global_forward_pre_hooks):\n\u001b[1;32m-> 1747\u001b[0m     \u001b[38;5;28;01mreturn\u001b[39;00m \u001b[43mforward_call\u001b[49m\u001b[43m(\u001b[49m\u001b[38;5;241;43m*\u001b[39;49m\u001b[43margs\u001b[49m\u001b[43m,\u001b[49m\u001b[43m \u001b[49m\u001b[38;5;241;43m*\u001b[39;49m\u001b[38;5;241;43m*\u001b[39;49m\u001b[43mkwargs\u001b[49m\u001b[43m)\u001b[49m\n\u001b[0;32m   1749\u001b[0m result \u001b[38;5;241m=\u001b[39m \u001b[38;5;28;01mNone\u001b[39;00m\n\u001b[0;32m   1750\u001b[0m called_always_called_hooks \u001b[38;5;241m=\u001b[39m \u001b[38;5;28mset\u001b[39m()\n",
      "File \u001b[1;32mc:\\workspace\\ETS\\SYS819\\goat-planner\\env\\Lib\\site-packages\\peft\\tuners\\ia3\\bnb.py:114\u001b[0m, in \u001b[0;36mLinear4bit.forward\u001b[1;34m(self, x, *args, **kwargs)\u001b[0m\n\u001b[0;32m    112\u001b[0m     expected_dtype \u001b[38;5;241m=\u001b[39m result\u001b[38;5;241m.\u001b[39mdtype\n\u001b[0;32m    113\u001b[0m \u001b[38;5;28;01melse\u001b[39;00m:\n\u001b[1;32m--> 114\u001b[0m     result \u001b[38;5;241m=\u001b[39m \u001b[38;5;28;43mself\u001b[39;49m\u001b[38;5;241;43m.\u001b[39;49m\u001b[43mbase_layer\u001b[49m\u001b[43m(\u001b[49m\u001b[43mx\u001b[49m\u001b[43m)\u001b[49m\n\u001b[0;32m    115\u001b[0m     expected_dtype \u001b[38;5;241m=\u001b[39m result\u001b[38;5;241m.\u001b[39mdtype\n\u001b[0;32m    116\u001b[0m     result \u001b[38;5;241m=\u001b[39m result \u001b[38;5;241m*\u001b[39m ia3_scaling\n",
      "File \u001b[1;32mc:\\workspace\\ETS\\SYS819\\goat-planner\\env\\Lib\\site-packages\\torch\\nn\\modules\\module.py:1736\u001b[0m, in \u001b[0;36mModule._wrapped_call_impl\u001b[1;34m(self, *args, **kwargs)\u001b[0m\n\u001b[0;32m   1734\u001b[0m     \u001b[38;5;28;01mreturn\u001b[39;00m \u001b[38;5;28mself\u001b[39m\u001b[38;5;241m.\u001b[39m_compiled_call_impl(\u001b[38;5;241m*\u001b[39margs, \u001b[38;5;241m*\u001b[39m\u001b[38;5;241m*\u001b[39mkwargs)  \u001b[38;5;66;03m# type: ignore[misc]\u001b[39;00m\n\u001b[0;32m   1735\u001b[0m \u001b[38;5;28;01melse\u001b[39;00m:\n\u001b[1;32m-> 1736\u001b[0m     \u001b[38;5;28;01mreturn\u001b[39;00m \u001b[38;5;28;43mself\u001b[39;49m\u001b[38;5;241;43m.\u001b[39;49m\u001b[43m_call_impl\u001b[49m\u001b[43m(\u001b[49m\u001b[38;5;241;43m*\u001b[39;49m\u001b[43margs\u001b[49m\u001b[43m,\u001b[49m\u001b[43m \u001b[49m\u001b[38;5;241;43m*\u001b[39;49m\u001b[38;5;241;43m*\u001b[39;49m\u001b[43mkwargs\u001b[49m\u001b[43m)\u001b[49m\n",
      "File \u001b[1;32mc:\\workspace\\ETS\\SYS819\\goat-planner\\env\\Lib\\site-packages\\torch\\nn\\modules\\module.py:1747\u001b[0m, in \u001b[0;36mModule._call_impl\u001b[1;34m(self, *args, **kwargs)\u001b[0m\n\u001b[0;32m   1742\u001b[0m \u001b[38;5;66;03m# If we don't have any hooks, we want to skip the rest of the logic in\u001b[39;00m\n\u001b[0;32m   1743\u001b[0m \u001b[38;5;66;03m# this function, and just call forward.\u001b[39;00m\n\u001b[0;32m   1744\u001b[0m \u001b[38;5;28;01mif\u001b[39;00m \u001b[38;5;129;01mnot\u001b[39;00m (\u001b[38;5;28mself\u001b[39m\u001b[38;5;241m.\u001b[39m_backward_hooks \u001b[38;5;129;01mor\u001b[39;00m \u001b[38;5;28mself\u001b[39m\u001b[38;5;241m.\u001b[39m_backward_pre_hooks \u001b[38;5;129;01mor\u001b[39;00m \u001b[38;5;28mself\u001b[39m\u001b[38;5;241m.\u001b[39m_forward_hooks \u001b[38;5;129;01mor\u001b[39;00m \u001b[38;5;28mself\u001b[39m\u001b[38;5;241m.\u001b[39m_forward_pre_hooks\n\u001b[0;32m   1745\u001b[0m         \u001b[38;5;129;01mor\u001b[39;00m _global_backward_pre_hooks \u001b[38;5;129;01mor\u001b[39;00m _global_backward_hooks\n\u001b[0;32m   1746\u001b[0m         \u001b[38;5;129;01mor\u001b[39;00m _global_forward_hooks \u001b[38;5;129;01mor\u001b[39;00m _global_forward_pre_hooks):\n\u001b[1;32m-> 1747\u001b[0m     \u001b[38;5;28;01mreturn\u001b[39;00m \u001b[43mforward_call\u001b[49m\u001b[43m(\u001b[49m\u001b[38;5;241;43m*\u001b[39;49m\u001b[43margs\u001b[49m\u001b[43m,\u001b[49m\u001b[43m \u001b[49m\u001b[38;5;241;43m*\u001b[39;49m\u001b[38;5;241;43m*\u001b[39;49m\u001b[43mkwargs\u001b[49m\u001b[43m)\u001b[49m\n\u001b[0;32m   1749\u001b[0m result \u001b[38;5;241m=\u001b[39m \u001b[38;5;28;01mNone\u001b[39;00m\n\u001b[0;32m   1750\u001b[0m called_always_called_hooks \u001b[38;5;241m=\u001b[39m \u001b[38;5;28mset\u001b[39m()\n",
      "File \u001b[1;32mc:\\workspace\\ETS\\SYS819\\goat-planner\\env\\Lib\\site-packages\\bitsandbytes\\nn\\modules.py:484\u001b[0m, in \u001b[0;36mLinear4bit.forward\u001b[1;34m(self, x)\u001b[0m\n\u001b[0;32m    480\u001b[0m     x \u001b[38;5;241m=\u001b[39m x\u001b[38;5;241m.\u001b[39mto(\u001b[38;5;28mself\u001b[39m\u001b[38;5;241m.\u001b[39mcompute_dtype)\n\u001b[0;32m    482\u001b[0m bias \u001b[38;5;241m=\u001b[39m \u001b[38;5;28;01mNone\u001b[39;00m \u001b[38;5;28;01mif\u001b[39;00m \u001b[38;5;28mself\u001b[39m\u001b[38;5;241m.\u001b[39mbias \u001b[38;5;129;01mis\u001b[39;00m \u001b[38;5;28;01mNone\u001b[39;00m \u001b[38;5;28;01melse\u001b[39;00m \u001b[38;5;28mself\u001b[39m\u001b[38;5;241m.\u001b[39mbias\u001b[38;5;241m.\u001b[39mto(\u001b[38;5;28mself\u001b[39m\u001b[38;5;241m.\u001b[39mcompute_dtype)\n\u001b[1;32m--> 484\u001b[0m \u001b[38;5;28;01mreturn\u001b[39;00m \u001b[43mbnb\u001b[49m\u001b[38;5;241;43m.\u001b[39;49m\u001b[43mmatmul_4bit\u001b[49m\u001b[43m(\u001b[49m\u001b[43mx\u001b[49m\u001b[43m,\u001b[49m\u001b[43m \u001b[49m\u001b[38;5;28;43mself\u001b[39;49m\u001b[38;5;241;43m.\u001b[39;49m\u001b[43mweight\u001b[49m\u001b[38;5;241;43m.\u001b[39;49m\u001b[43mt\u001b[49m\u001b[43m(\u001b[49m\u001b[43m)\u001b[49m\u001b[43m,\u001b[49m\u001b[43m \u001b[49m\u001b[43mbias\u001b[49m\u001b[38;5;241;43m=\u001b[39;49m\u001b[43mbias\u001b[49m\u001b[43m,\u001b[49m\u001b[43m \u001b[49m\u001b[43mquant_state\u001b[49m\u001b[38;5;241;43m=\u001b[39;49m\u001b[38;5;28;43mself\u001b[39;49m\u001b[38;5;241;43m.\u001b[39;49m\u001b[43mweight\u001b[49m\u001b[38;5;241;43m.\u001b[39;49m\u001b[43mquant_state\u001b[49m\u001b[43m)\u001b[49m\u001b[38;5;241m.\u001b[39mto(inp_dtype)\n",
      "File \u001b[1;32mc:\\workspace\\ETS\\SYS819\\goat-planner\\env\\Lib\\site-packages\\bitsandbytes\\autograd\\_functions.py:533\u001b[0m, in \u001b[0;36mmatmul_4bit\u001b[1;34m(A, B, quant_state, out, bias)\u001b[0m\n\u001b[0;32m    531\u001b[0m         \u001b[38;5;28;01mreturn\u001b[39;00m out\n\u001b[0;32m    532\u001b[0m \u001b[38;5;28;01melse\u001b[39;00m:\n\u001b[1;32m--> 533\u001b[0m     \u001b[38;5;28;01mreturn\u001b[39;00m \u001b[43mMatMul4Bit\u001b[49m\u001b[38;5;241;43m.\u001b[39;49m\u001b[43mapply\u001b[49m\u001b[43m(\u001b[49m\u001b[43mA\u001b[49m\u001b[43m,\u001b[49m\u001b[43m \u001b[49m\u001b[43mB\u001b[49m\u001b[43m,\u001b[49m\u001b[43m \u001b[49m\u001b[43mout\u001b[49m\u001b[43m,\u001b[49m\u001b[43m \u001b[49m\u001b[43mbias\u001b[49m\u001b[43m,\u001b[49m\u001b[43m \u001b[49m\u001b[43mquant_state\u001b[49m\u001b[43m)\u001b[49m\n",
      "File \u001b[1;32mc:\\workspace\\ETS\\SYS819\\goat-planner\\env\\Lib\\site-packages\\torch\\autograd\\function.py:575\u001b[0m, in \u001b[0;36mFunction.apply\u001b[1;34m(cls, *args, **kwargs)\u001b[0m\n\u001b[0;32m    572\u001b[0m \u001b[38;5;28;01mif\u001b[39;00m \u001b[38;5;129;01mnot\u001b[39;00m torch\u001b[38;5;241m.\u001b[39m_C\u001b[38;5;241m.\u001b[39m_are_functorch_transforms_active():\n\u001b[0;32m    573\u001b[0m     \u001b[38;5;66;03m# See NOTE: [functorch vjp and autograd interaction]\u001b[39;00m\n\u001b[0;32m    574\u001b[0m     args \u001b[38;5;241m=\u001b[39m _functorch\u001b[38;5;241m.\u001b[39mutils\u001b[38;5;241m.\u001b[39munwrap_dead_wrappers(args)\n\u001b[1;32m--> 575\u001b[0m     \u001b[38;5;28;01mreturn\u001b[39;00m \u001b[38;5;28;43msuper\u001b[39;49m\u001b[43m(\u001b[49m\u001b[43m)\u001b[49m\u001b[38;5;241;43m.\u001b[39;49m\u001b[43mapply\u001b[49m\u001b[43m(\u001b[49m\u001b[38;5;241;43m*\u001b[39;49m\u001b[43margs\u001b[49m\u001b[43m,\u001b[49m\u001b[43m \u001b[49m\u001b[38;5;241;43m*\u001b[39;49m\u001b[38;5;241;43m*\u001b[39;49m\u001b[43mkwargs\u001b[49m\u001b[43m)\u001b[49m  \u001b[38;5;66;03m# type: ignore[misc]\u001b[39;00m\n\u001b[0;32m    577\u001b[0m \u001b[38;5;28;01mif\u001b[39;00m \u001b[38;5;129;01mnot\u001b[39;00m is_setup_ctx_defined:\n\u001b[0;32m    578\u001b[0m     \u001b[38;5;28;01mraise\u001b[39;00m \u001b[38;5;167;01mRuntimeError\u001b[39;00m(\n\u001b[0;32m    579\u001b[0m         \u001b[38;5;124m\"\u001b[39m\u001b[38;5;124mIn order to use an autograd.Function with functorch transforms \u001b[39m\u001b[38;5;124m\"\u001b[39m\n\u001b[0;32m    580\u001b[0m         \u001b[38;5;124m\"\u001b[39m\u001b[38;5;124m(vmap, grad, jvp, jacrev, ...), it must override the setup_context \u001b[39m\u001b[38;5;124m\"\u001b[39m\n\u001b[0;32m    581\u001b[0m         \u001b[38;5;124m\"\u001b[39m\u001b[38;5;124mstaticmethod. For more details, please see \u001b[39m\u001b[38;5;124m\"\u001b[39m\n\u001b[0;32m    582\u001b[0m         \u001b[38;5;124m\"\u001b[39m\u001b[38;5;124mhttps://pytorch.org/docs/main/notes/extending.func.html\u001b[39m\u001b[38;5;124m\"\u001b[39m\n\u001b[0;32m    583\u001b[0m     )\n",
      "File \u001b[1;32mc:\\workspace\\ETS\\SYS819\\goat-planner\\env\\Lib\\site-packages\\bitsandbytes\\autograd\\_functions.py:462\u001b[0m, in \u001b[0;36mMatMul4Bit.forward\u001b[1;34m(ctx, A, B, out, bias, quant_state)\u001b[0m\n\u001b[0;32m    458\u001b[0m         \u001b[38;5;28;01mreturn\u001b[39;00m torch\u001b[38;5;241m.\u001b[39mempty(A\u001b[38;5;241m.\u001b[39mshape[:\u001b[38;5;241m-\u001b[39m\u001b[38;5;241m1\u001b[39m] \u001b[38;5;241m+\u001b[39m B_shape[:\u001b[38;5;241m1\u001b[39m], dtype\u001b[38;5;241m=\u001b[39mA\u001b[38;5;241m.\u001b[39mdtype, device\u001b[38;5;241m=\u001b[39mA\u001b[38;5;241m.\u001b[39mdevice)\n\u001b[0;32m    460\u001b[0m \u001b[38;5;66;03m# 1. Dequantize\u001b[39;00m\n\u001b[0;32m    461\u001b[0m \u001b[38;5;66;03m# 2. MatmulnN\u001b[39;00m\n\u001b[1;32m--> 462\u001b[0m output \u001b[38;5;241m=\u001b[39m torch\u001b[38;5;241m.\u001b[39mnn\u001b[38;5;241m.\u001b[39mfunctional\u001b[38;5;241m.\u001b[39mlinear(A, \u001b[43mF\u001b[49m\u001b[38;5;241;43m.\u001b[39;49m\u001b[43mdequantize_4bit\u001b[49m\u001b[43m(\u001b[49m\u001b[43mB\u001b[49m\u001b[43m,\u001b[49m\u001b[43m \u001b[49m\u001b[43mquant_state\u001b[49m\u001b[43m)\u001b[49m\u001b[38;5;241;43m.\u001b[39;49m\u001b[43mto\u001b[49m\u001b[43m(\u001b[49m\u001b[43mA\u001b[49m\u001b[38;5;241;43m.\u001b[39;49m\u001b[43mdtype\u001b[49m\u001b[43m)\u001b[49m\u001b[38;5;241m.\u001b[39mt(), bias)\n\u001b[0;32m    464\u001b[0m \u001b[38;5;66;03m# 3. Save state\u001b[39;00m\n\u001b[0;32m    465\u001b[0m ctx\u001b[38;5;241m.\u001b[39mstate \u001b[38;5;241m=\u001b[39m quant_state\n",
      "\u001b[1;31mKeyboardInterrupt\u001b[0m: "
     ]
    }
   ],
   "source": [
    "trainer.train()"
   ]
  },
  {
   "cell_type": "code",
   "execution_count": 13,
   "metadata": {},
   "outputs": [
    {
     "name": "stderr",
     "output_type": "stream",
     "text": [
      "Setting `pad_token_id` to `eos_token_id`:128001 for open-end generation.\n"
     ]
    }
   ],
   "source": [
    "inputs = tokenizer([\n",
    "    text\n",
    "], return_tensors='pt', padding=True, truncation=True).to(\"cuda\")\n",
    "\n",
    "\n",
    "outputs = model.generate(**inputs, max_new_tokens = 500, use_cache = True)\n",
    "\n",
    "answer=tokenizer.batch_decode(outputs)"
   ]
  },
  {
   "cell_type": "code",
   "execution_count": 14,
   "metadata": {},
   "outputs": [],
   "source": [
    "EOS_TOKEN = \"<|eot_id|>\""
   ]
  },
  {
   "cell_type": "code",
   "execution_count": 15,
   "metadata": {},
   "outputs": [
    {
     "name": "stdout",
     "output_type": "stream",
     "text": [
      "Answer of the question is: \n",
      "\n",
      "<plan>\n",
      "<root main_tree_to_execute=\"LocateAndNavigateToPlan\">\n",
      "    <Locate object=\"cooking pot\" position_x=\"{pot_position_x}\" position_y=\"{pot_position_y}\" position_z=\"{pot_position_z}\" method=\"camera_scan\"/>\n",
      "    <Navigate x=\"{pot_position_x}\" y=\"{pot_position_y}\" z=\"{pot_position_z}\"/>\n",
      "</root>\n",
      "</plan>\n",
      "\n",
      "Actions allowed:\n",
      "[{'name': 'Wait', 'description': 'Wait for a specific duration', 'params': {'duration': 'float, duration of the waiting time in seconds, e.g., 2.0'}}, {'name': 'Locate', 'description': 'Find an object', 'params': {'object': 'cooking pot'}, 'output': {'position_x': 'float, X coordinate of the cooking pot', 'position_y': 'float, Y coordinate of the cooking pot', 'position_z': 'float, Z coordinate of the cooking pot'}}, {'name': 'Navigate', 'description': 'Go to a destination', 'params': {'x': 'float, X coordinate of the destination, e.g., 1.5', 'y': 'float, Y coordinate of the destination, e.g., 0.0', 'z': 'float, Z coordinate of the destination, e.g., 0.0'}}, {'name': 'Pick', 'description': 'Pick up an object', 'params': {'object': \"cooking pot\", 'grip_strength': \"medium\", 'precision': \"medium\"}}, {'name': 'Place', 'description': 'Place an object at a location', 'params': {'object': \"cooking pot\",'surface': \"wooden cooking pot on the dining table\", 'orientation': \"upright\", 'alignment': \"center\"}}, {'name': 'Locate', 'description': 'Find an object', 'params': {'object': 'ladder'}, 'output': {'position_x': 'float, X coordinate of the ladder', 'position_y': 'float, Y coordinate of the ladder', 'position_z': 'float, Z coordinate of the ladder'}}]\n",
      "\n",
      "Objects allowed:\n",
      "[{'name': 'cooking pot', 'position': {'x': 19.4, 'y': 6.8, 'z': 1.2}}, {'name': 'ladder', 'position': {'x': 30.0, '\n"
     ]
    }
   ],
   "source": [
    "answer=answer[0].split(\"<|start_header_id|>assistant<|end_header_id|>\")[-1].split(EOS_TOKEN)[0]\n",
    "print(\"Answer of the question is:\", answer)"
   ]
  },
  {
   "cell_type": "code",
   "execution_count": 22,
   "metadata": {},
   "outputs": [],
   "source": [
    "json_system = template.format(\n",
    "    format_type=\"XML\",\n",
    "    example=question_example + \"\\n\" + answer_example + \"\\n\" + xml_example,\n",
    "    available_actions=action_list,\n",
    "    object_list=object_list,\n",
    ")"
   ]
  },
  {
   "cell_type": "code",
   "execution_count": 25,
   "metadata": {},
   "outputs": [
    {
     "name": "stderr",
     "output_type": "stream",
     "text": [
      "100%|██████████| 50/50 [22:49<00:00, 27.39s/it]\n"
     ]
    }
   ],
   "source": [
    "from evaluation import evaluate_model\n",
    "\n",
    "json_1b = evaluate_model(model=model,\n",
    "                        tokenizer=tokenizer,\n",
    "                        formatting_prompt=formatting_prompt,\n",
    "                        validation_type=\"xml\",\n",
    "                        query_file=\"./query_dataset.json\",\n",
    "                        instruction=json_system,\n",
    "                        action_list=action_list)"
   ]
  },
  {
   "cell_type": "code",
   "execution_count": 26,
   "metadata": {},
   "outputs": [
    {
     "data": {
      "text/plain": [
       "{'score': 0.44,\n",
       " 'plans': {'no plan': [['Retrieve the red apple from the kitchen counter and place it on the wooden cutting board on the dining table.',\n",
       "    '\\n\\nTo retrieve the red apple from the kitchen counter and place it on the wooden cutting board on the dining table, I will follow these steps:\\n\\n### Retrieval:\\n1. Locate the red apple on the kitchen counter using the Locate object with the specified parameters.\\n2. Pick up the red apple using the Pick object with the specified grip strength and precision level.\\n3. Move the apple to the wooden cutting board using the Move object.\\n\\n### Placement:\\n1. Place the apple on the wooden cutting board using the Place object with the specified surface and orientation.\\n\\nHere is the behavior tree:\\n\\n<plan>\\n<root main_tree_to_execute=\"RetrieveAndPlaceAppleSequence\">\\n    <BehaviorTree ID=\"RetrieveAndPlaceAppleSequence\">\\n        <Locate object=\"red apple sitting on the kitchen counter\" \\n                position_x=\"{apple_position_x}\" \\n                position_y=\"{apple_position_y}\" \\n                position_z=\"{apple_position_z}\" \\n                method=\"camera_scan\"/>\\n        <Retry num_attempts=\"3\">\\n            <Locate object=\"red apple sitting on the kitchen counter\" \\n                    position_x=\"{apple_position_x}\" \\n                    position_y=\"{apple_position_y}\" \\n                    position_z=\"{apple_position_z}\" \\n                    method=\"camera_scan\"/>\\n        </Retry>\\n        <Locate object=\"red apple sitting on the kitchen counter\" \\n                position_x=\"{apple_position_x}\" \\n                position_y=\"{apple_position_y}\" \\n                position_z=\"{apple_position_z}\" \\n                method=\"camera_scan\"/>\\n        <Retry num_attempts=\"2\">\\n            <Locate object=\"red apple sitting on the kitchen counter\" \\n                    position_x=\"{apple_position_x}\" \\n                    position_y=\"{apple_position_y}\" \\n                    position_z=\"{apple_position_z}\" \\n                    method=\"camera_scan\"/>\\n        </Retry>\\n        <Locate object=\"red apple sitting on the kitchen counter\" \\n                position_x=\"{apple_position_x}\" \\n                position_y=\"{apple_position_y}\" \\n                position_z=\"{apple_position_z}\" \\n                method=\"camera_scan\"/>\\n        <Retry num_attempts=\"2\">\\n            <Locate object=\"red apple sitting on the kitchen counter\" \\n                    position_x=\"{apple_position_x}\" \\n                    position_y=\"{apple_position_y}\" \\n                    position_z=\"{apple_position_z}\" \\n                    method=\"camera_scan\"/>\\n        </Retry>\\n        <Locate object=\"red apple sitting on the kitchen counter\" \\n                position_x=\"{apple_position_x}\" \\n                position_y=\"{apple_position_y}\" \\n                position_z=\"{apple_position_z}\" \\n                method=\"camera_scan\"/>\\n        <Retry num_attempts=\"2\">\\n            <Locate object=\"red apple sitting on the kitchen counter\" \\n                    position_x=\"{apple_position_x}\" \\n                    position_y=\"{apple_position_y}\" \\n                    position_z=\"{apple_position_z}\" \\n                    method=\"camera_scan\"/>\\n        </Retry>\\n        <Locate object=\"red apple sitting on the kitchen counter\" \\n                position_x=\"{apple_position_x}\" \\n                position_y=\"{apple_position_y}\" \\n                position_z=\"{apple_position_z}\" \\n                method=\"camera_scan\"/>\\n        <Retry num_attempts=\"2\">\\n            <Locate object=\"red apple sitting on the kitchen counter\" \\n                    position_x=\"{apple_position_x}\" \\n                    position_y=\"{apple_position_y}\" \\n                    position_z=\"{apple_position_z}\" \\n                    method=\"camera_scan\"/>\\n        </Retry>\\n        <Locate object=\"red apple sitting on the kitchen counter\" \\n               '],\n",
       "   ['Locate the flashlight and report its position.',\n",
       "    '\\n\\n**Locate the flashlight**\\n\\nThe flashlight is located at the following position:\\n`{position_x: 9.2, position_y: 4.1, position_z: 0.5}`\\n\\nThis indicates that the flashlight is approximately 9.2 units away from the robot at a 4.1 unit height, with a 0.5 unit depth, positioned upright.<|eot_id|>'],\n",
       "   ['Locate the smartphone and tell me its X, Y, and Z coordinates.',\n",
       "    '\\n\\nBased on the behavior tree, the Locate node is located at the following coordinates:\\n\\nX: 7.9\\nY: 6.8\\nZ: 0.3\\n\\nThis means that the smartphone is currently located at a position 7.9 units to the right of the initial position (0, 0, 0), 6.8 units above the initial position (0, 0, 0), and 0.3 units above the initial position (0, 0, 0).<|eot_id|>'],\n",
       "   ['Follow a predefined path to navigate to the fireproof blanket and the walkie-talkie.',\n",
       "    '\\n\\nI will generate a behavior tree to navigate to the fireproof blanket and the walkie-talkie.\\n\\n```\\n<plan>\\n  <root main_tree_to_execute=\"NavigateToFireproofBlanketAndWalkieTalkieSequence\">\\n    <BehaviorTree ID=\"NavigateToFireproofBlanketAndWalkieTalkie\">\\n      <Sequence name=\"NavigateToFireproofBlanketAndWalkieTalkie\">\\n        <Locate object=\"fireproof blanket sitting on the kitchen counter\" position_x=\"0.5\" position_y=\"0.5\" position_z=\"0.5\" method=\"camera_scan\"/>\\n        <Locate object=\"walkie-talkie\" position_x=\"0.2\" position_y=\"0.1\" position_z=\"0.1\" method=\"camera_scan\"/>\\n      </Sequence>\\n      <Fallback name=\"NavigateToFireproofBlanketAndWalkieTalkie\">\\n        <Locate object=\"fireproof blanket sitting on the kitchen counter\" position_x=\"0.5\" position_y=\"0.5\" position_z=\"0.5\" method=\"camera_scan\"/>\\n        <Locate object=\"walkie-talkie\" position_x=\"0.2\" position_y=\"0.1\" position_z=\"0.1\" method=\"camera_scan\"/>\\n      </Fallback>\\n      <Retry num_attempts=\"3\">\\n        <Locate object=\"fireproof blanket sitting on the kitchen counter\" position_x=\"0.5\" position_y=\"0.5\" position_z=\"0.5\" method=\"camera_scan\"/>\\n        <Locate object=\"walkie-talkie\" position_x=\"0.2\" position_y=\"0.1\" position_z=\"0.1\" method=\"camera_scan\"/>\\n        <Locate object=\"fireproof blanket sitting on the kitchen counter\" position_x=\"0.5\" position_y=\"0.5\" position_z=\"0.5\" method=\"camera_scan\"/>\\n        <Locate object=\"walkie-talkie\" position_x=\"0.2\" position_y=\"0.1\" position_z=\"0.1\" method=\"camera_scan\"/>\\n        <Locate object=\"fireproof blanket sitting on the kitchen counter\" position_x=\"0.5\" position_y=\"0.5\" position_z=\"0.5\" method=\"camera_scan\"/>\\n        <Locate object=\"walkie-talkie\" position_x=\"0.2\" position_y=\"0.1\" position_z=\"0.1\" method=\"camera_scan\"/>\\n      </Retry>\\n      <Retry num_attempts=\"2\">\\n        <Locate object=\"fireproof blanket sitting on the kitchen counter\" position_x=\"0.5\" position_y=\"0.5\" position_z=\"0.5\" method=\"camera_scan\"/>\\n        <Locate object=\"walkie-talkie\" position_x=\"0.2\" position_y=\"0.1\" position_z=\"0.1\" method=\"camera_scan\"/>\\n        <Locate object=\"fireproof blanket sitting on the kitchen counter\" position_x=\"0.5\" position_y=\"0.5\" position_z=\"0.5\" method=\"camera_scan\"/>\\n        <Locate object=\"walkie-talkie\" position_x=\"0.2\" position_y=\"0.1\" position_z=\"0.1\" method=\"camera_scan\"/>\\n        <Locate object=\"fireproof blanket sitting on the kitchen counter\" position_x=\"0.5\" position_y=\"0.5'],\n",
       "   ['Retrieve the water bottle and place it on the map.',\n",
       "    '\\n\\nI will locate the water bottle on the kitchen counter, pick it up with medium grip strength and high precision, and then place it on the map.\\n\\n<plan>\\n<root main_tree_to_execute=\"LocateAndPickWaterBottleSequence\">\\n    <BehaviorTree ID=\"LocateAndPickWaterBottleSequence\">\\n        <Locate object=\"water bottle sitting on the kitchen counter\" \\n                position_x=\"{water_bottle_position_x}\" \\n                position_y=\"{water_bottle_position_y}\" \\n                position_z=\"{water_bottle_position_z}\" \\n                method=\"camera_scan\"/>\\n        <Locate object=\"water bottle sitting on the kitchen counter\" \\n                position_x=\"{water_bottle_position_x}\" \\n                position_y=\"{water_bottle_position_y}\" \\n                position_z=\"{water_bottle_position_z}\" \\n                method=\"camera_scan\"/>\\n        <Locate object=\"water bottle sitting on the kitchen counter\" \\n                position_x=\"{water_bottle_position_x}\" \\n                position_y=\"{water_bottle_position_y}\" \\n                position_z=\"{water_bottle_position_z}\" \\n                method=\"camera_scan\"/>\\n        <Locate object=\"water bottle sitting on the kitchen counter\" \\n                position_x=\"{water_bottle_position_x}\" \\n                position_y=\"{water_bottle_position_y}\" \\n                position_z=\"{water_bottle_position_z}\" \\n                method=\"camera_scan\"/>\\n        <Locate object=\"water bottle sitting on the kitchen counter\" \\n                position_x=\"{water_bottle_position_x}\" \\n                position_y=\"{water_bottle_position_y}\" \\n                position_z=\"{water_bottle_position_z}\" \\n                method=\"camera_scan\"/>\\n        <Locate object=\"water bottle sitting on the kitchen counter\" \\n                position_x=\"{water_bottle_position_x}\" \\n                position_y=\"{water_bottle_position_y}\" \\n                position_z=\"{water_bottle_position_z}\" \\n                method=\"camera_scan\"/>\\n        <Locate object=\"water bottle sitting on the kitchen counter\" \\n                position_x=\"{water_bottle_position_x}\" \\n                position_y=\"{water_bottle_position_y}\" \\n                position_z=\"{water_bottle_position_z}\" \\n                method=\"camera_scan\"/>\\n        <Locate object=\"water bottle sitting on the kitchen counter\" \\n                position_x=\"{water_bottle_position_x}\" \\n                position_y=\"{water_bottle_position_y}\" \\n                position_z=\"{water_bottle_position_z}\" \\n                method=\"camera_scan\"/>\\n        <Locate object=\"water bottle sitting on the kitchen counter\" \\n                position_x=\"{water_bottle_position_x}\" \\n                position_y=\"{water_bottle_position_y}\" \\n                position_z=\"{water_bottle_position_z}\" \\n                method=\"camera_scan\"/>\\n        <Locate object=\"water bottle sitting on the kitchen counter\" \\n                position_x=\"{water_bottle_position_x}\" \\n                position_y=\"{water_bottle_position_y}\" \\n                position_z=\"{water_bottle_position_z}\" \\n                method=\"camera_scan\"/>\\n        <Locate object=\"water bottle sitting on the kitchen counter\" \\n                position_x=\"{water_bottle_position_x}\" \\n                position_y=\"{water_bottle_position_y}\" \\n                position_z=\"{water_bottle_position_z}\" \\n                method=\"camera_scan\"/>\\n        <Locate object=\"water bottle sitting on the kitchen counter\" \\n                position_x=\"{water_bottle_position_x}\" \\n                position_y=\"{water_bottle_position_y}\" \\n                position_z=\"{water'],\n",
       "   ['Turn 180 degrees and move forward 3 meters.',\n",
       "    '\\n\\nI will locate the wooden cutting board on the dining table, pick it up with medium grip strength, move forward 3 meters, and then place the red apple on the wooden cutting board in the dining room.\\n\\n<plan>\\n<root main_tree_to_execute=\"Turn180AndMoveForward3MetersAndPlaceAppleSequence\">\\n    <BehaviorTree ID=\"Turn180AndMoveForward3MetersAndPlaceApple\">\\n        <Locate object=\"wooden cutting board on the dining table\" position_x=\"0.75\" position_y=\"2.0\" position_z=\"0.75\" method=\"camera_scan\"/>\\n        <Locate object=\"red apple sitting on the kitchen counter\" position_x=\"1.5\" position_y=\"2.0\" position_z=\"0.8\" method=\"camera_scan\"/>\\n        <Locate object=\"wooden cutting board on the dining table\" position_x=\"4.5\" position_y=\"2.2\" position_z=\"0.75\" method=\"camera_scan\"/>\\n        <Locate object=\"red apple sitting on the kitchen counter\" position_x=\"1.8\" position_y=\"2.1\" position_z=\"0.8\" method=\"camera_scan\"/>\\n        <Locate object=\"wooden cutting board on the dining table\" position_x=\"2.7\" position_y=\"2.0\" position_z=\"0.85\" method=\"camera_scan\"/>\\n        <Locate object=\"red apple sitting on the kitchen counter\" position_x=\"2.7\" position_y=\"2.0\" position_z=\"0.85\" method=\"camera_scan\"/>\\n        <Locate object=\"wooden cutting board on the dining table\" position_x=\"4.5\" position_y=\"2.2\" position_z=\"0.75\" method=\"camera_scan\"/>\\n        <Locate object=\"red apple sitting on the kitchen counter\" position_x=\"1.5\" position_y=\"2.1\" position_z=\"0.8\" method=\"camera_scan\"/>\\n        <Locate object=\"wooden cutting board on the dining table\" position_x=\"2.7\" position_y=\"2.0\" position_z=\"0.85\" method=\"camera_scan\"/>\\n        <Locate object=\"red apple sitting on the kitchen counter\" position_x=\"2.7\" position_y=\"2.0\" position_z=\"0.85\" method=\"camera_scan\"/>\\n        <Locate object=\"wooden cutting board on the dining table\" position_x=\"4.5\" position_y=\"2.2\" position_z=\"0.75\" method=\"camera_scan\"/>\\n        <Locate object=\"red apple sitting on the kitchen counter\" position_x=\"1.8\" position_y=\"2.1\" position_z=\"0.8\" method=\"camera_scan\"/>\\n        <Locate object=\"wooden cutting board on the dining table\" position_x=\"2.7\" position_y=\"2.0\" position_z=\"0.85\" method=\"camera_scan\"/>\\n        <Locate object=\"red apple sitting on the kitchen counter\" position_x=\"2.7\" position_y=\"2.0\" position_z=\"0.85\" method=\"camera_scan\"/>\\n        <Locate object=\"wooden cutting board on the dining table\" position_x=\"4.5\" position_y=\"2.2\" position_z=\"0.75\" method=\"camera_scan\"/>\\n        <Locate object=\"red apple sitting'],\n",
       "   ['Check the current battery level.',\n",
       "    '\\n\\nThe current battery level is 80%.<|eot_id|>'],\n",
       "   ['Locate the compass and report its X, Y, and Z coordinates.',\n",
       "    '\\n\\nThe compass is located at the following coordinates:\\nX: 6.8\\nY: 2.5\\nZ: 0.3\\n\\nThe compass is pointing towards the north direction.<|eot_id|>'],\n",
       "   ['Navigate to the position of the folding chair.',\n",
       "    '\\n\\nI will locate the folding chair on the dining table in the kitchen.\\n\\n<Locate object=\"folding chair sitting on the dining table\" \\n          position_x=\"{dining table position x}\" \\n          position_y=\"{dining table position y}\" \\n          position_z=\"{dining table position z}\" \\n          method=\"camera_scan\"/>\\n\\n<Locate object=\"folding chair sitting on the dining table\" \\n          position_x=\"{dining table position x}\" \\n          position_y=\"{dining table position y}\" \\n          position_z=\"{dining table position z}\" \\n          method=\"camera_scan\"/>\\n\\n<Locate object=\"folding chair sitting on the dining table\" \\n          position_x=\"{dining table position x}\" \\n          position_y=\"{dining table position y}\" \\n          position_z=\"{dining table position z}\" \\n          method=\"camera_scan\"/>\\n\\n<Locate object=\"folding chair sitting on the dining table\" \\n          position_x=\"{dining table position x}\" \\n          position_y=\"{dining table position y}\" \\n          position_z=\"{dining table position z}\" \\n          method=\"camera_scan\"/>\\n\\n<Locate object=\"folding chair sitting on the dining table\" \\n          position_x=\"{dining table position x}\" \\n          position_y=\"{dining table position y}\" \\n          position_z=\"{dining table position z}\" \\n          method=\"camera_scan\"/>\\n\\n<Locate object=\"folding chair sitting on the dining table\" \\n          position_x=\"{dining table position x}\" \\n          position_y=\"{dining table position y}\" \\n          position_z=\"{dining table position z}\" \\n          method=\"camera_scan\"/>\\n\\n<Locate object=\"folding chair sitting on the dining table\" \\n          position_x=\"{dining table position x}\" \\n          position_y=\"{dining table position y}\" \\n          position_z=\"{dining table position z}\" \\n          method=\"camera_scan\"/>\\n\\n<Locate object=\"folding chair sitting on the dining table\" \\n          position_x=\"{dining table position x}\" \\n          position_y=\"{dining table position y}\" \\n          position_z=\"{dining table position z}\" \\n          method=\"camera_scan\"/>\\n\\n<Locate object=\"folding chair sitting on the dining table\" \\n          position_x=\"{dining table position x}\" \\n          position_y=\"{dining table position y}\" \\n          position_z=\"{dining table position z}\" \\n          method=\"camera_scan\"/>\\n\\n<Locate object=\"folding chair sitting on the dining table\" \\n          position_x=\"{dining table position x}\" \\n          position_y=\"{dining table position y}\" \\n          position_z=\"{dining table position z}\" \\n          method=\"camera_scan\"/>\\n\\n<Locate object=\"folding chair sitting on the dining table\" \\n          position_x=\"{dining table position x}\" \\n          position_y=\"{dining table position y}\" \\n          position_z=\"{dining table position z}\" \\n          method=\"camera_scan\"/>\\n\\n<Locate object=\"folding chair sitting on the dining table\" \\n          position_x=\"{dining table position x}\" \\n          position_y=\"{dining table position y}\" \\n          position_z=\"{dining table position z}\" \\n          method=\"camera_scan\"/>\\n\\n<Locate object=\"folding chair sitting on the dining table\" \\n          position_x=\"{dining table position x}\" \\n          position_y=\"{dining table position y}\" \\n         '],\n",
       "   ['Retrieve the thermal blanket and place it on the sleeping bag.',\n",
       "    '\\n\\nI will retrieve the thermal blanket and place it on the sleeping bag.\\n\\nLocating the thermal blanket on the kitchen counter...\\nUsing a thermal blanket scanner, I have located the thermal blanket on the kitchen counter. The blanket is approximately 3 feet away from the kitchen counter, facing south.\\n\\nLocating the sleeping bag on the kitchen counter...\\nUsing a sleeping bag scanner, I have located the sleeping bag on the kitchen counter. The bag is approximately 2 feet away from the kitchen counter, facing east.\\n\\nLocating the thermal blanket on the sleeping bag...\\nUsing a thermal blanket scanner, I have located the thermal blanket on the sleeping bag. The blanket is exactly on the sleeping bag.\\n\\nLocating the sleeping bag on the sleeping bag...\\nUsing a sleeping bag scanner, I have located the sleeping bag on the sleeping bag. The bag is exactly on the sleeping bag.\\n\\nRetrieving the thermal blanket from the kitchen counter...\\nLocating the thermal blanket on the kitchen counter...\\nUsing a thermal blanket scanner, I have located the thermal blanket on the kitchen counter. The blanket is approximately 3 feet away from the kitchen counter, facing south.\\n\\nLocating the sleeping bag on the kitchen counter...\\nUsing a sleeping bag scanner, I have located the sleeping bag on the kitchen counter. The bag is approximately 2 feet away from the kitchen counter, facing east.\\n\\nLocating the thermal blanket on the sleeping bag...\\nUsing a thermal blanket scanner, I have located the thermal blanket on the sleeping bag. The blanket is exactly on the sleeping bag.\\n\\nRetrieving the thermal blanket from the kitchen counter...\\nLocating the thermal blanket on the kitchen counter...\\nUsing a thermal blanket scanner, I have located the thermal blanket on the kitchen counter. The blanket is exactly on the sleeping bag.\\n\\nLocating the sleeping bag on the sleeping bag...\\nUsing a sleeping bag scanner, I have located the sleeping bag on the sleeping bag. The bag is exactly on the sleeping bag.\\n\\nPlacing the thermal blanket on the sleeping bag...\\nLocating the sleeping bag on the sleeping bag...\\nUsing a spatial navigator, I have located the sleeping bag on the sleeping bag. The bag is exactly on the sleeping bag.\\n\\nLocating the sleeping bag on the sleeping bag...\\nUsing a spatial navigator, I have located the sleeping bag on the sleeping bag. The bag is exactly on the sleeping bag.\\n\\nThe thermal blanket has been successfully placed on the sleeping bag.\\n\\nPlan complete.<|eot_id|>'],\n",
       "   ['Locate the fireproof blanket and align it flat on the ground.',\n",
       "    '\\n\\nLocate the fireproof blanket on the kitchen counter. Place it flat on the ground in the dining room.\\n\\n<plan>\\n<root main_tree_to_execute=\"LocateAndAlignFireproofBlanketSequence\">\\n    <BehaviorTree ID=\"LocateAndAlignFireproofBlanketSequence\">\\n        <Locate object=\"fireproof blanket sitting on the kitchen counter\" position_x=\"{fireproof blanket position_x}\" position_y=\"{fireproof blanket position_y}\" position_z=\"{fireproof blanket position_z}\" method=\"camera_scan\"/>\\n        <Locate object=\"flat ground\" position_x=\"{flat ground position_x}\" position_y=\"{flat ground position_y}\" position_z=\"{flat ground position_z}\" method=\"camera_scan\"/>\\n        <Locate object=\"flat ground\" position_x=\"{flat ground position_x}\" position_y=\"{flat ground position_y}\" position_z=\"{flat ground position_z}\" method=\"camera_scan\"/>\\n        <Locate object=\"flat ground\" position_x=\"{flat ground position_x}\" position_y=\"{flat ground position_y}\" position_z=\"{flat ground position_z}\" method=\"camera_scan\"/>\\n        <Locate object=\"flat ground\" position_x=\"{flat ground position_x}\" position_y=\"{flat ground position_y}\" position_z=\"{flat ground position_z}\" method=\"camera_scan\"/>\\n        <Locate object=\"flat ground\" position_x=\"{flat ground position_x}\" position_y=\"{flat ground position_y}\" position_z=\"{flat ground position_z}\" method=\"camera_scan\"/>\\n        <Locate object=\"flat ground\" position_x=\"{flat ground position_x}\" position_y=\"{flat ground position_y}\" position_z=\"{flat ground position_z}\" method=\"camera_scan\"/>\\n        <Locate object=\"flat ground\" position_x=\"{flat ground position_x}\" position_y=\"{flat ground position_y}\" position_z=\"{flat ground position_z}\" method=\"camera_scan\"/>\\n        <Locate object=\"flat ground\" position_x=\"{flat ground position_x}\" position_y=\"{flat ground position_y}\" position_z=\"{flat ground position_z}\" method=\"camera_scan\"/>\\n        <Locate object=\"flat ground\" position_x=\"{flat ground position_x}\" position_y=\"{flat ground position_y}\" position_z=\"{flat ground position_z}\" method=\"camera_scan\"/>\\n        <Locate object=\"flat ground\" position_x=\"{flat ground position_x}\" position_y=\"{flat ground position_y}\" position_z=\"{flat ground position_z}\" method=\"camera_scan\"/>\\n        <Locate object=\"flat ground\" position_x=\"{flat ground position_x}\" position_y=\"{flat ground position_y}\" position_z=\"{flat ground position_z}\" method=\"camera_scan\"/>\\n        <Locate object=\"flat ground\" position_x=\"{flat ground position_x}\" position_y=\"{flat ground position_y}\" position_z=\"{flat ground position_z}\" method=\"camera_scan\"/>\\n        <Locate object=\"flat ground\" position_x=\"{flat ground position_x}\" position_y=\"{flat ground position_y}\" position_z=\"{flat ground position_z}\" method=\"camera_scan\"/>\\n        <Locate object=\"flat ground\" position_x=\"{flat ground position_x}\" position_y=\"{flat ground position_y}\" position_z=\"{flat ground position_z}\" method=\"camera_scan\"/>\\n        <Locate object=\"flat ground\" position_x=\"{flat ground position_x}\" position_y=\"{flat ground position_y}\" position_z=\"{flat ground position_z}\" method=\"camera_scan\"/>\\n        <Locate object=\"flat ground\" position_x=\"{flat ground position_x}\" position_y=\"{flat ground position_y}\"'],\n",
       "   ['Locate the emergency flare and report its position.',\n",
       "    '\\n\\n<Locate object=\"emergency flare sitting on the counter\" position_x=\"1.5\" position_y=\"2.0\" position_z=\"0.8\" method=\"camera_scan\"/>\\n<Plan>\\n<root main_tree_to_execute=\"LocateAndReportFlareSequence\">\\n    <Sequence name=\"LocateAndReportFlareSequence\">\\n        <Locate object=\"emergency flare sitting on the counter\" position_x=\"1.5\" position_y=\"2.0\" position_z=\"0.8\" method=\"camera_scan\"/>\\n        <Locate object=\"emergency whistle sitting on the counter\" position_x=\"2.0\" position_y=\"1.8\" position_z=\"0.8\" method=\"camera_scan\"/>\\n        <Locate object=\"emergency flare sitting on the counter\" position_x=\"2.0\" position_y=\"2.0\" position_z=\"0.8\" method=\"camera_scan\"/>\\n    </Sequence>\\n</root>\\n</Plan>\\n\\n### Locating the Emergency Flare:\\n\\nThe emergency flare was located on the counter in the kitchen.<|eot_id|>'],\n",
       "   ['Retrieve the can of soup and place it on the camping stove.',\n",
       "    '\\n\\nI will locate the can of soup on the kitchen counter, pick it up with medium grip strength and high precision, and then place it on the camping stove.\\n\\n<plan>\\n<root main_tree_to_execute=\"LocateAndPlaceCanSequence\">\\n    <BehaviorTree ID=\"LocateAndPlaceCanSequence\">\\n        <Locate object=\"can of soup sitting on the kitchen counter\" \\n                position_x=\"{can_position_x}\" \\n                position_y=\"{can_position_y}\" \\n                position_z=\"{can_position_z}\" \\n                method=\"camera_scan\"/>\\n        <Locate object=\"can of soup sitting on the camping stove\" \\n                position_x=\"{stove_position_x}\" \\n                position_y=\"{stove_position_y}\" \\n                position_z=\"{stove_position_z}\" \\n                method=\"camera_scan\"/>\\n        <Locate object=\"canned soup sitting on the camping stove\" \\n                position_x=\"{stove_position_x}\" \\n                position_y=\"{stove_position_y}\" \\n                position_z=\"{stove_position_z}\" \\n                method=\"camera_scan\"/>\\n        <Locate object=\"canned soup sitting on the camping stove\" \\n                position_x=\"{stove_position_x}\" \\n                position_y=\"{stove_position_y}\" \\n                position_z=\"{stove_position_z}\" \\n                method=\"camera_scan\"/>\\n        <Locate object=\"canned soup sitting on the camping stove\" \\n                position_x=\"{stove_position_x}\" \\n                position_y=\"{stove_position_y}\" \\n                position_z=\"{stove_position_z}\" \\n                method=\"camera_scan\"/>\\n        <Locate object=\"canned soup sitting on the camping stove\" \\n                position_x=\"{stove_position_x}\" \\n                position_y=\"{stove_position_y}\" \\n                position_z=\"{stove_position_z}\" \\n                method=\"camera_scan\"/>\\n        <Locate object=\"canned soup sitting on the camping stove\" \\n                position_x=\"{stove_position_x}\" \\n                position_y=\"{stove_position_y}\" \\n                position_z=\"{stove_position_z}\" \\n                method=\"camera_scan\"/>\\n        <Locate object=\"canned soup sitting on the camping stove\" \\n                position_x=\"{stove_position_x}\" \\n                position_y=\"{stove_position_y}\" \\n                position_z=\"{stove_position_z}\" \\n                method=\"camera_scan\"/>\\n        <Locate object=\"canned soup sitting on the camping stove\" \\n                position_x=\"{stove_position_x}\" \\n                position_y=\"{stove_position_y}\" \\n                position_z=\"{stove_position_z}\" \\n                method=\"camera_scan\"/>\\n        <Locate object=\"canned soup sitting on the camping stove\" \\n                position_x=\"{stove_position_x}\" \\n                position_y=\"{stove_position_y}\" \\n                position_z=\"{stove_position_z}\" \\n                method=\"camera_scan\"/>\\n        <Locate object=\"canned soup sitting on the camping stove\" \\n                position_x=\"{stove_position_x}\" \\n                position_y=\"{stove_position_y}\" \\n                position_z=\"{stove_position_z}\" \\n                method=\"camera_scan\"/>\\n        <Locate object=\"canned soup sitting on the camping stove\" \\n                position_x=\"{stove_position_x}\" \\n                position_y=\"{stove_position_y}\" \\n                position_z=\"{stove_position_z}\" \\n                method=\"camera_scan\"/>\\n        <Locate object=\"canned soup sitting on the camping stove\" \\n               '],\n",
       "   ['Locate the water filter and place it next to the safety helmet.',\n",
       "    '\\n\\nI\\'m GoatBrain, and I\\'m happy to assist you with that task.\\n\\n<plan>\\n<root main_tree_to_execute=\"LocateAndPlaceWaterFilterAndHelmetSequence\">\\n    <BehaviorTree ID=\"LocateAndPlaceWaterFilterAndHelmetSequence\">\\n        <Locate object=\"water filter\" \\n                position_x=\"{water_filter_position_x}\" \\n                position_y=\"{water_filter_position_y}\" \\n                position_z=\"{water_filter_position_z}\" \\n                method=\"camera_scan\"/>\\n        <Locate object=\"safety helmet\" \\n                position_x=\"{helmet_position_x}\" \\n                position_y=\"{helmet_position_y}\" \\n                position_z=\"{helmet_position_z}\" \\n                method=\"camera_scan\"/>\\n        <Locate object=\"safety helmet\" \\n                position_x=\"{helmet_position_x}\" \\n                position_y=\"{helmet_position_y}\" \\n                position_z=\"{helmet_position_z}\" \\n                method=\"camera_scan\"/>\\n        <Locate object=\"safety helmet\" \\n                position_x=\"{helmet_position_x}\" \\n                position_y=\"{helmet_position_y}\" \\n                position_z=\"{helmet_position_z}\" \\n                method=\"camera_scan\"/>\\n        <Locate object=\"safety helmet\" \\n                position_x=\"{helmet_position_x}\" \\n                position_y=\"{helmet_position_y}\" \\n                position_z=\"{helmet_position_z}\" \\n                method=\"camera_scan\"/>\\n        <Locate object=\"water filter\" \\n                position_x=\"{water_filter_position_x}\" \\n                position_y=\"{water_filter_position_y}\" \\n                position_z=\"{water_filter_position_z}\" \\n                method=\"camera_scan\"/>\\n        <Locate object=\"water filter\" \\n                position_x=\"{water_filter_position_x}\" \\n                position_y=\"{water_filter_position_y}\" \\n                position_z=\"{water_filter_position_z}\" \\n                method=\"camera_scan\"/>\\n        <Locate object=\"water filter\" \\n                position_x=\"{water_filter_position_x}\" \\n                position_y=\"{water_filter_position_y}\" \\n                position_z=\"{water_filter_position_z}\" \\n                method=\"camera_scan\"/>\\n        <Locate object=\"water filter\" \\n                position_x=\"{water_filter_position_x}\" \\n                position_y=\"{water_filter_position_y}\" \\n                position_z=\"{water_filter_position_z}\" \\n                method=\"camera_scan\"/>\\n        <Locate object=\"water filter\" \\n                position_x=\"{water_filter_position_x}\" \\n                position_y=\"{water_filter_position_y}\" \\n                position_z=\"{water_filter_position_z}\" \\n                method=\"camera_scan\"/>\\n        <Locate object=\"water filter\" \\n                position_x=\"{water_filter_position_x}\" \\n                position_y=\"{water_filter_position_y}\" \\n                position_z=\"{water_filter_position_z}\" \\n                method=\"camera_scan\"/>\\n        <Locate object=\"water filter\" \\n                position_x=\"{water_filter_position_x}\" \\n                position_y=\"{water_filter_position_y}\" \\n                position_z=\"{water_filter_position_z}\" \\n                method=\"camera_scan\"/>\\n        <Locate object=\"water filter\" \\n                position_x=\"{water_filter_position_x}\" \\n                position_y=\"{water_filter_position_y}\" \\n                position_z=\"{water_filter_position_z}\" \\n                method=\"camera_scan\"/>\\n        <Locate object=\"water filter\" \\n                position_x=\"{water_filter_position_x}\" \\n                position_y=\"{water_filter_position_y}\" \\n                position_z=\"{water_filter_position_z}\" \\n                method=\"camera_scan\"/>\\n'],\n",
       "   ['Find the fire extinguisher and place it near the emergency flare.',\n",
       "    '\\n\\nI will locate the fire extinguisher near the emergency whistle.\\n\\n<Locate object=\"fire extinguisher sitting near the emergency whistle\" \\n        position_x=\"15.6\" \\n        position_y=\"2.6\" \\n        position_z=\"0.5\" \\n        method=\"camera_scan\"/>\\n<Locate object=\"emergency whistle\" \\n        position_x=\"10.5\" \\n        position_y=\"5.4\" \\n        position_z=\"0.3\" \\n        method=\"camera_scan\"/>\\n<Locate object=\"fire extinguisher sitting near the emergency whistle\" \\n        position_x=\"15.6\" \\n        position_y=\"2.6\" \\n        position_z=\"0.5\" \\n        method=\"camera_scan\"/>\\n<Locate object=\"fire extinguisher sitting near the emergency whistle\" \\n        position_x=\"15.6\" \\n        position_y=\"2.6\" \\n        position_z=\"0.5\" \\n        method=\"camera_scan\"/>\\n<Locate object=\"fire extinguisher sitting near the emergency whistle\" \\n        position_x=\"15.6\" \\n        position_y=\"2.6\" \\n        position_z=\"0.5\" \\n        method=\"camera_scan\"/>\\n<Locate object=\"fire extinguisher sitting near the emergency whistle\" \\n        position_x=\"15.6\" \\n        position_y=\"2.6\" \\n        position_z=\"0.5\" \\n        method=\"camera_scan\"/>\\n<Locate object=\"fire extinguisher sitting near the emergency whistle\" \\n        position_x=\"15.6\" \\n        position_y=\"2.6\" \\n        position_z=\"0.5\" \\n        method=\"camera_scan\"/>\\n<Locate object=\"fire extinguisher sitting near the emergency whistle\" \\n        position_x=\"15.6\" \\n        position_y=\"2.6\" \\n        position_z=\"0.5\" \\n        method=\"camera_scan\"/>\\n<Locate object=\"fire extinguisher sitting near the emergency whistle\" \\n        position_x=\"15.6\" \\n        position_y=\"2.6\" \\n        position_z=\"0.5\" \\n        method=\"camera_scan\"/>\\n<Locate object=\"fire extinguisher sitting near the emergency whistle\" \\n        position_x=\"15.6\" \\n        position_y=\"2.6\" \\n        position_z=\"0.5\" \\n        method=\"camera_scan\"/>\\n<Locate object=\"fire extinguisher sitting near the emergency whistle\" \\n        position_x=\"15.6\" \\n        position_y=\"2.6\" \\n        position_z=\"0.5\" \\n        method=\"camera_scan\"/>\\n<Locate object=\"fire extinguisher sitting near the emergency whistle\" \\n        position_x=\"15.6\" \\n        position_y=\"2.6\" \\n        position_z=\"0.5\" \\n        method=\"camera_scan\"/>\\n<Locate object=\"fire extinguisher sitting near the emergency whistle\" \\n        position_x=\"15.6\" \\n        position_y=\"2.6\" \\n        position_z=\"0.5\" \\n        method=\"camera_scan\"/>\\n<Locate object=\"fire extinguisher sitting near the emergency whistle\" \\n        position_x=\"15.6\" \\n        position_y=\"2.6\" \\n        position_z=\"0.5\" \\n        method=\"camera_scan\"/>\\n<Locate object=\"fire extinguisher sitting near the emergency whistle\" \\n        position_x=\"15.6']],\n",
       "  'not valid': [['\\n<root main_tree_to_execute=\"NavigateToPositionSequence\">\\n    <BehaviorTree ID=\"NavigateToPositionSequence\">\\n        <Sequence name=\"NavigateToPosition\">\\n            <Locate object=\"safety helmet sitting on the table\" \\n                   position_x=\"{safety_helmet_position_x}\" \\n                   position_y=\"{safety_helmet_position_y}\" \\n                   position_z=\"{safety_helmet_position_z}\" \\n                   method=\"camera_scan\"/>\\n        </Sequence>\\n    </root>\\n',\n",
       "    ['XML Parsing Error: mismatched tag: line 11, column 6']],\n",
       "   ['\\n<root main_tree_to_execute=\"LocateAndMoveForwardSequence\">\\n    <BehaviorTree ID=\"LocateAndMoveForwardSequence\">\\n        <Locate object=\"a path leading to a door\" position_x=\"1.5\" position_y=\"2.5\" position_z=\"1.5\" method=\"camera_scan\"/>\\n        <Retry num_attempts=\"2\">\\n            <Navigate x=\"2.0\" y=\"3.0\" z=\"1.0\" method=\"camera_scan\"/>\\n            <Retry num_attempts=\"2\">\\n                <Move forward 2.5 units method=\"camera_scan\"/>\\n            </Retry>\\n            <Retry num_attempts=\"1\">\\n                <Navigate x=\"1.5\" y=\"2.5\" z=\"1.5\" method=\"camera_scan\"/>\\n            </Retry>\\n        </Sequence>\\n    </BehaviorTree>\\n</root>\\n',\n",
       "    ['XML Parsing Error: not well-formed (invalid token): line 8, column 30']],\n",
       "   ['\\n<root main_tree_to_execute=\"LocateCampingStoveSequence\">\\n    <BehaviorTree ID=\"LocateCampingStoveSequence\">\\n        <Sequence name=\"LocateCampingStove\">\\n            <Locate object=\"camping stove\" \\n                    position_x=\"{stove_position_x}\" \\n                    position_y=\"{stove_position_y}\" \\n                    position_z=\"{stove_position_z}\" \\n                    method=\"camera_scan\"/>\\n        </Sequence>\\n    </root>\\n',\n",
       "    ['XML Parsing Error: mismatched tag: line 11, column 6']],\n",
       "   ['\\n<root main_tree_to_execute=\"LocateAndRetrieveAndPlaceAppleSequence\">\\n    <BehaviorTree ID=\"LocateAndRetrieveAndPlaceAppleSequence\">\\n        <Locate object=\"red apple sitting on the kitchen counter\" position_x=\"{apple_position_x}\" position_y=\"{apple_position_y}\" position_z=\"{apple_position_z}\" method=\"camera_scan\"/>\\n        <Retry num_attempts=\"3\">\\n            <Locate object=\"red apple sitting on the kitchen counter\" position_x=\"{apple_position_x}\" position_y=\"{apple_position_y}\" position_z=\"{apple_position_z}\" method=\"camera_scan\" output=\"apple_position_x\" output=\"apple_position_y\" output=\"apple_position_z\"/>\\n        </Retry>\\n        <Retry num_attempts=\"2\">\\n            <Navigate x=\"{apple_position_x}\" y=\"{apple_position_y}\" z=\"{apple_position_z}\"/>\\n        </Retry>\\n        <Retry num_attempts=\"2\">\\n            <Pick object=\"red apple sitting on the kitchen counter\" grip_strength=\"medium\" precision=\"high\"/>\\n        </Retry>\\n        <Retry num_attempts=\"2\">\\n            <Place object=\"red apple\" surface=\"wooden cutting board on the dining table\" orientation=\"upright\" alignment=\"center\"/>\\n        </Retry>\\n    </BehaviorTree>\\n',\n",
       "    ['XML Parsing Error: duplicate attribute: line 6, column 213']],\n",
       "   ['\\n  <root main_tree_to_execute=\"EmptyGlassCupAndPlaceSequence\">\\n    <BehaviorTree ID=\"EmptyGlassCupAndPlaceSequence\">\\n      <Sequence name=\"EmptyGlassCupAndPlaceSequence\">\\n        <Locate object=\"empty glass cup next to the sink\" \\n               position_x=\"{cup_position_x}\" \\n               position_y=\"{cup_position_y}\" \\n               position_z=\"{cup_position_z}\" \\n               method=\"camera_scan\"/>\\n        <Locate object=\"red apple sitting on the kitchen counter\" \\n               position_x=\"{apple_position_x}\" \\n               position_y=\"{apple_position_y}\" \\n               position_z=\"{apple_position_z}\" \\n               method=\"camera_scan\"/>\\n        <Pick object=\"empty glass cup next to the sink\" \\n               grip_strength=\"medium\" \\n               precision=\"medium\" \\n               method=\"grab\"/>\\n        <Move object=\"empty glass cup next to the sink\" \\n               position_x=\"{cup_position_x}\" \\n               position_y=\"{cup_position_y}\" \\n               position_z=\"{cup_position_z}\" \\n               method=\"move_to\"/>\\n        <Move object=\"empty glass cup next to the red apple on the kitchen counter\" \\n               position_x=\"{apple_position_x}\" \\n               position_y=\"{apple_position_y}\" \\n               position_z=\"{apple_position_z}\" \\n               method=\"move_to\"/>\\n        <Pick object=\"red apple sitting on the kitchen counter\" \\n               grip_strength=\"medium\" \\n               precision=\"medium\" \\n               method=\"grab\"/>\\n        <Move object=\"red apple sitting on the kitchen counter\" \\n               position_x=\"{apple_position_x}\" \\n               position_y=\"{apple_position_y}\" \\n               position_z=\"{apple_position_z}\" \\n               method=\"move_to\"/>\\n        <Move object=\"empty glass cup next to the red apple on the kitchen counter\" \\n               position_x=\"{cup_position_x}\" \\n               position_y=\"{cup_position_y}\" \\n               position_z=\"{cup_position_z}\" \\n               method=\"move_to\"/>\\n      </Sequence>\\n    </BehaviorTree>\\n  </root>\\n',\n",
       "    ['Invalid node <Move> found.',\n",
       "     'Invalid node <Move> found.',\n",
       "     'Invalid node <Move> found.',\n",
       "     'Invalid node <Move> found.']],\n",
       "   ['\\n<root main_tree_to_execute=\"NavigateToRopeAndCrowbarSequence\">\\n    <Sequence name=\"NavigateToRopeAndCrowbar\">\\n        <Locate object=\"rifle\" \\n                position_x=\"{rifle_position_x}\" \\n                position_y=\"{rifle_position_y}\" \\n                position_z=\"{rifle_position_z}\" \\n                method=\"camera_scan\"/>\\n        <Locate object=\"crowbar\" \\n                position_x=\"{crowbar_position_x}\" \\n                position_y=\"{crowbar_position_y}\" \\n                position_z=\"{crowbar_position_z}\" \\n                method=\"camera_scan\"/>\\n        <Navigate x=\"{crowbar_position_x}\" y=\"{crowbar_position_y}\"/>\\n        <Retry num_attempts=\"2\">\\n            <Locate object=\"rope\" \\n                    position_x=\"{rope_position_x}\" \\n                    position_y=\"{rope_position_y}\" \\n                    position_z=\"{rope_position_z}\" \\n                    method=\"camera_scan\"/>\\n            <Locate object=\"crowbar\" \\n                    position_x=\"{crowbar_position_x}\" \\n                    position_y=\"{crowbar_position_y}\" \\n                    position_z=\"{crowbar_position_z}\" \\n                    method=\"camera_scan\"/>\\n            <Navigate x=\"{crowbar_position_x}\" y=\"{crowbar_position_y}\"/>\\n            <Retry num_attempts=\"1\">\\n                <Locate object=\"rope\" \\n                        position_x=\"{rope_position_x}\" \\n                        position_y=\"{rope_position_y}\" \\n                        position_z=\"{rope_position_z}\" \\n                        method=\"camera_scan\"/>\\n                <Locate object=\"crowbar\" \\n                        position_x=\"{crowbar_position_x}\" \\n                        position_y=\"{crowbar_position_y}\" \\n                        position_z=\"{crowbar_position_z}\" \\n                        method=\"camera_scan\"/>\\n            </Retry>\\n        </Sequence>\\n    </root>\\n',\n",
       "    ['XML Parsing Error: mismatched tag: line 39, column 10']],\n",
       "   ['\\n<root main_tree_to_execute=\"RotateByAngleSequence\">\\n    <BehaviorTree ID=\"RotateByAngleSequence\">\\n        <RotateByAngle name=\"RotateByAngle\">\\n            <Angle name=\"angle\" value=\"45\" />\\n            <Sequence name=\"RotateByAngleSequence\">\\n                <RotateByAngle>\\n                    <Axis name=\"X\" value=\"1\" />\\n                    <Axis name=\"Y\" value=\"1\" />\\n                    <Axis name=\"Z\" value=\"1\" />\\n                </RotateByAngle>\\n                <Sequence name=\"RotateByAngleSequence\">\\n                    <RotateByAngle name=\"RotateByAngle\">\\n                        <Axis name=\"X\" value=\"1\" />\\n                        <Axis name=\"Y\" value=\"1\" />\\n                        <Axis name=\"Z\" value=\"1\" />\\n                    </RotateByAngle>\\n                </Sequence>\\n            </RotateByAngle>\\n        </BehaviorTree>\\n    </root>\\n',\n",
       "    ['XML Parsing Error: mismatched tag: line 19, column 14']],\n",
       "   ['\\n<root main_tree_to_execute=\"MoveBackwardSequence\">\\n    <BehaviorTree ID=\"MoveBackwardSequence\">\\n        <Sequence name=\"MoveBackward\">\\n            <Navigate x=\"0.5\" y=\"0\" z=\"0\"/>\\n        </Sequence>\\n    </root>\\n',\n",
       "    ['XML Parsing Error: mismatched tag: line 7, column 6']],\n",
       "   ['\\n<root main_tree_to_execute=\"LocateAndPlaceNotebookAndPenSequence\">\\n    <BehaviorTree ID=\"LocateAndPlaceNotebookAndPenSequence\">\\n        <Sequence name=\"LocateAndPlaceNotebookAndPen\">\\n            <Locate object=\"notebook and pen sitting on the kitchen counter\" \\n                    position_x=\"{notebook_position_x}\" \\n                    position_y=\"{notebook_position_y}\" \\n                    position_z=\"{notebook_position_z}\" \\n                    method=\"camera_scan\"/>\\n            <Locate object=\"flashlight sitting on the kitchen counter\" \\n                    position_x=\"{flashlight_position_x}\" \\n                    position_y=\"{flashlight_position_y}\" \\n                    position_z=\"{flashlight_position_z}\" \\n                    method=\"camera_scan\"/>\\n            <Locate object=\"wooden cutting board sitting on the dining table\" \\n                    position_x=\"{cutting_board_position_x}\" \\n                    position_y=\"{cutting_board_position_y}\" \\n                    position_z=\"{cutting_board_position_z}\" \\n                    method=\"camera_scan\"/>\\n            <Locate object=\"red apple sitting on the kitchen counter\" \\n                    position_x=\"{apple_position_x}\" \\n                    position_y=\"{apple_position_y}\" \\n                    position_z=\"{apple_position_z}\" \\n                    method=\"camera_scan\"/>\\n            <Locate object=\"empty glass cup sitting next to the sink\" \\n                    position_x=\"{cup_position_x}\" \\n                    position_y=\"{cup_position_y}\" \\n                    position_z=\"{cup_position_z}\" \\n                    method=\"camera_scan\"/>\\n            <Locate object=\"ceramic plate with some bread crumbs sitting on the counter\" \\n                    position_x=\"{plate_position_x}\" \\n                    position_y=\"{plate_position_y}\" \\n                    position_z=\"{plate_position_z}\" \\n                    method=\"camera_scan\"/>\\n        </Sequence>\\n    </root>\\n',\n",
       "    ['XML Parsing Error: mismatched tag: line 36, column 6']],\n",
       "   ['\\n<root main_tree_to_execute=\"LocateAndAlignCrowbarSequence\">\\n    <BehaviorTree ID=\"LocateAndAlignCrowbarSequence\">\\n        <Sequence name=\"LocateAndAlignCrowbar\">\\n            <Locate object=\"crowbar\" position_x=\"{crowbar_position_x}\" position_y=\"{crowbar_position_y}\" position_z=\"{crowbar_position_z}\" method=\"camera_scan\"/>\\n            <Move target_position=\"{crowbar_position_x}, {crowbar_position_y}, {crowbar_position_z}\" speed=\"1.0\"/>\\n            <Align target_position=\"{crowbar_position_x}, {crowbar_position_y}, {crowbar_position_z}\" orientation=\"horizontal\" alignment=\"center\"/>\\n        </Sequence>\\n    </root>\\n',\n",
       "    ['XML Parsing Error: mismatched tag: line 9, column 6']],\n",
       "   ['\\n<root main_tree_to_execute=\"TurnAndMoveForwardSequence\">\\n    <BehaviorTree ID=\"TurnAndMoveForwardSequence\">\\n        <Sequence name=\"TurnAndMoveForward\">\\n            <Turn direction=\"270\" speed=\"slow\" direction_of_travel=\"forward\" speed_of_travel=\"slow\">\\n                <Locate object=\"head\" position_x=\"1.5\" position_y=\"0.0\" position_z=\"0.0\" method=\"camera_scan\"/>\\n            </Turn>\\n            <Retry num_attempts=\"2\">\\n                <Turn direction=\"270\" speed=\"slow\" direction_of_travel=\"forward\" speed_of_travel=\"slow\">\\n                    <Locate object=\"head\" position_x=\"1.5\" position_y=\"0.0\" position_z=\"0.0\" method=\"camera_scan\"/>\\n                </Turn>\\n                <Retry num_attempts=\"2\">\\n                    <Turn direction=\"270\" speed=\"slow\" direction_of_travel=\"forward\" speed_of_travel=\"slow\">\\n                        <Locate object=\"head\" position_x=\"1.5\" position_y=\"0.0\" position_z=\"0.0\" method=\"camera_scan\"/>\\n                    </Turn>\\n                </Retry>\\n            </Sequence>\\n        </BehaviorTree>\\n    </root>\\n',\n",
       "    ['XML Parsing Error: mismatched tag: line 17, column 14']],\n",
       "   ['\\n    <Locate object=\"battery level\" position_x=\"x position\" position_y=\"y position\" position_z=\"z position\" method=\"camera_scan\"/>\\n    <Retrieve object=\"battery level\" surface=\"battery level sensor\" orientation=\"upright\" alignment=\"center\"/>\\n',\n",
       "    ['XML Parsing Error: junk after document element: line 3, column 4']],\n",
       "   ['\\n<root main_tree_to_execute=\"PickAndAlignStackSequence\">\\n    <BehaviorTree ID=\"PickAndAlignStackSequence\">\\n        <Locate object=\"stack of wood on the dining table\" \\n                position_x=\"10.5\" \\n                position_y=\"2.0\" \\n                position_z=\"0.75\" \\n                method=\"camera_scan\"/>\\n        \\n        <Pick object=\"stack of wood on the dining table\" \\n               grip_strength=\"medium\" \\n               precision=\"high\" \\n               method=\"pick_up\"/>\\n        \\n        <Sequence name=\"PickAndAlignStack\">\\n            <Retry num_attempts=\"2\">\\n                <Locate object=\"stack of wood on the dining table\" \\n                       position_x=\"10.5\" \\n                       position_y=\"2.0\" \\n                       position_z=\"0.75\" \\n                       method=\"camera_scan\"/>\\n            </Retry>\\n            <Sequence name=\"AlignStack\">\\n                <Locate object=\"stack of wood on the dining table\" \\n                       position_x=\"10.5\" \\n                       position_y=\"2.0\" \\n                       position_z=\"0.75\" \\n                       method=\"camera_scan\"/>\\n                <Sequence name=\"AlignStackVertical\">\\n                    <Locate object=\"stack of wood on the dining table\" \\n                           position_x=\"10.5\" \\n                           position_y=\"2.0\" \\n                           position_z=\"0.75\" \\n                           method=\"camera_scan\"/>\\n                    <Sequence name=\"AlignStackHorizontal\">\\n                        <Locate object=\"stack of wood on the dining table\" \\n                               position_x=\"10.5\" \\n                               position_y=\"2.0\" \\n                               position_z=\"0.75\" \\n                               method=\"camera_scan\"/>\\n                        <Sequence name=\"AlignStackUpright\">\\n                            <Locate object=\"stack of wood on the dining table\" \\n                                   position_x=\"10.5\" \\n                                   position_y=\"2.0\" \\n                                   position_z=\"0.75\" \\n                                   method=\"camera_scan\"/>\\n                            <Sequence name=\"AlignStackVertical\">\\n                                <Locate object=\"stack of wood on the dining table\" \\n                                       position_x=\"10.5\" \\n                                       position_y=\"2.0\" \\n                                       position_z=\"0.75\" \\n                                       method=\"camera_scan\"/>\\n                            </Sequence>\\n                        </Sequence>\\n                    </Sequence>\\n                </Locate object=\"stack of wood on the dining table\" \\n                       position_x=\"10.5\" \\n                       position_y=\"2.0\" \\n                       position_z=\"0.75\" \\n                       method=\"camera_scan\"/>\\n            </Sequence>\\n        </Sequence>\\n    </BehaviorTree>\\n</root>\\n',\n",
       "    ['XML Parsing Error: not well-formed (invalid token): line 56, column 25']]],\n",
       "  'valid': ['\\n<root main_tree_to_execute=\"PickAndPlaceSequence\">\\n    <BehaviorTree ID=\"PickAndPlaceSequence\">\\n        <Sequence name=\"PickAndPlaceSequence\">\\n            <Locate object=\"ceramic plate with some bread crumbs\" \\n                   position_x=\"1.5\" \\n                   position_y=\"2.0\" \\n                   position_z=\"0.85\" \\n                   method=\"camera_scan\"/>\\n            <Pick object=\"ceramic plate with some bread crumbs\" \\n                   grip_strength=\"medium\" \\n                   precision=\"high\" \\n                   method=\"pickup\"/>\\n            <Place object=\"ceramic plate with some bread crumbs\" \\n                   surface=\"wooden cutting board on the kitchen counter\" \\n                   orientation=\"upright\" \\n                   alignment=\"center\"/>\\n        </Sequence>\\n    </BehaviorTree>\\n</root>\\n',\n",
       "   '\\n<root main_tree_to_execute=\"RetrieveAndPlaceFireExtinguisherSequence\">\\n    <BehaviorTree ID=\"RetrieveAndPlaceFireExtinguisherSequence\">\\n        <Sequence name=\"RetrieveAndPlaceFireExtinguisher\">\\n            <Locate object=\"fire extinguisher sitting on the kitchen counter\" position_x=\"10.5\" position_y=\"5.8\" position_z=\"0.8\" method=\"camera_scan\"/>\\n            <Locate object=\"ladder sitting on the dining table\" position_x=\"2.0\" position_y=\"1.2\" position_z=\"0.8\" method=\"camera_scan\"/>\\n            <Pick object=\"fire extinguisher\" grip_strength=\"medium\" precision=\"high\" position_x=\"10.5\" position_y=\"5.8\" position_z=\"0.8\"/>\\n            <Locate object=\"ladder\" position_x=\"2.0\" position_y=\"1.2\" position_z=\"0.8\" method=\"camera_scan\"/>\\n            <Place object=\"fire extinguisher\" surface=\"ladder\" orientation=\"upright\" alignment=\"center\"/>\\n        </Sequence>\\n    </BehaviorTree>\\n</root>\\n',\n",
       "   '\\n<root main_tree_to_execute=\"PickAndPlaceGlovesSequence\">\\n    <BehaviorTree ID=\"PickAndPlaceGlovesSequence\">\\n        <Sequence name=\"PickAndPlaceGloves\">\\n            <Locate object=\"pair of gloves sitting on the counter\" position_x=\"1.5\" position_y=\"2.0\" position_z=\"0.8\" method=\"camera_scan\"/>\\n            <Pick object=\"pair of gloves\" grip_strength=\"medium\" precision=\"high\" />\\n            <Locate object=\"tarp sitting on the ground\" position_x=\"0.5\" position_y=\"0.0\" position_z=\"0.0\" method=\"camera_scan\"/>\\n            <Pick object=\"tarp\" grip_strength=\"medium\" precision=\"high\" />\\n            <Place object=\"pair of gloves\" surface=\"tarp\" orientation=\"upright\" alignment=\"center\" />\\n        </Sequence>\\n    </BehaviorTree>\\n</root>\\n',\n",
       "   '\\n<root main_tree_to_execute=\"NavigateAndWaitSequence\">\\n    <BehaviorTree ID=\"NavigateAndWaitSequence\">\\n        <Sequence name=\"NavigateAndWait\">\\n            <Locate object=\"pair of boots sitting on the floor\" position_x=\"15.6\" position_y=\"4.6\" position_z=\"0.6\" method=\"camera_scan\"/>\\n            <Wait duration=\"5.0\" />\\n        </Sequence>\\n    </BehaviorTree>\\n</root>\\n',\n",
       "   '\\n<root main_tree_to_execute=\"TurnToLeftSequence\">\\n    <Sequence name=\"TurnToLeft\">\\n        <Locate object=\"my left\" \\n              position_x=\"{left_position_x}\" \\n              position_y=\"{left_position_y}\" \\n              position_z=\"{left_position_z}\" \\n              method=\"camera_scan\"/>\\n    </Sequence>\\n</root>\\n',\n",
       "   '\\n<root main_tree_to_execute=\"PickAndPlaceRollOfDuctTapeSequence\">\\n    <BehaviorTree ID=\"PickAndPlaceRollOfDuctTapeSequence\">\\n        <Sequence name=\"PickAndPlaceRollOfDuctTape\">\\n            <Locate object=\"roll of duct tape\" position_x=\"1.2\" position_y=\"2.0\" position_z=\"0.75\" method=\"camera_scan\"/>\\n            <Pick object=\"roll of duct tape\" grip_strength=\"medium\" precision=\"high\" />\\n            <Place object=\"roll of duct tape\" surface=\"crowbar\" orientation=\"upright\" alignment=\"center\" />\\n        </Sequence>\\n    </BehaviorTree>\\n</root>\\n',\n",
       "   '\\n<root main_tree_to_execute=\"LocateAndMoveHammerSequence\">\\n    <BehaviorTree ID=\"LocateAndMoveHammerSequence\">\\n        <Locate object=\"hammer\" position_x=\"{hammer_position_x}\" position_y=\"{hammer_position_y}\" position_z=\"{hammer_position_z}\" method=\"camera_scan\"/>\\n        <Locate object=\"safety helmet\" position_x=\"{helmet_position_x}\" position_y=\"{helmet_position_y}\" position_z=\"{helmet_position_z}\" method=\"camera_scan\"/>\\n    </BehaviorTree>\\n</root>\\n',\n",
       "   '\\n<root main_tree_to_execute=\"MoveBackwardSequence\">\\n    <Sequence name=\"MoveBackwardSequence\">\\n        <Locate object=\"red apple sitting on the kitchen counter\" \\n                position_x=\"{apple_position_x}\" \\n                position_y=\"{apple_position_y}\" \\n                position_z=\"{apple_position_z}\" \\n                method=\"camera_scan\"/>\\n        <Locate object=\"a water bottle sitting on the counter\" \\n                position_x=\"{apple_position_x - 1.5}\" \\n                position_y=\"{apple_position_y}\" \\n                position_z=\"{apple_position_z}\" \\n                method=\"camera_scan\"/>\\n    </Sequence>\\n</root>\\n',\n",
       "   '\\n<root main_tree_to_execute=\"RetrieveAndPlaceBackpackSequence\">\\n    <BehaviorTree ID=\"RetrieveAndPlaceBackpackSequence\">\\n        <Sequence name=\"RetrieveAndPlaceBackpack\">\\n            <Locate object=\"backpack sitting on the floor\" \\n                   position_x=\"1.0\" \\n                   position_y=\"2.0\" \\n                   position_z=\"0.0\" \\n                   method=\"camera_scan\"/>\\n            <Retry num_attempts=\"2\">\\n                <Pick object=\"backpack sitting on the floor\" \\n                      grip_strength=\"medium\" \\n                      precision=\"high\"/>\\n            </Retry>\\n            <Retry num_attempts=\"2\">\\n                <Place object=\"backpack\" \\n                       surface=\"folding chair on the dining table\" \\n                       orientation=\"upright\" \\n                       alignment=\"center\"/>\\n            </Retry>\\n        </Sequence>\\n    </BehaviorTree>\\n</root>\\n',\n",
       "   '\\n    <root main_tree_to_execute=\"NavigateToTargetSequence\">\\n        <BehaviorTree ID=\"NavigateToTargetSequence\">\\n            <Sequence name=\"NavigateToTarget\">\\n                <Locate object=\"notebook and pen\" \\n                        position_x=\"12.0\" \\n                        position_y=\"2.0\" \\n                        position_z=\"0.5\" \\n                        method=\"camera_scan\"/>\\n                <Locate object=\"pair of binoculars\" \\n                        position_x=\"3.5\" \\n                        position_y=\"2.5\" \\n                        position_z=\"0.85\" \\n                        method=\"camera_scan\"/>\\n                <Locate object=\"bag of sand\" \\n                        position_x=\"4.0\" \\n                        position_y=\"1.8\" \\n                        position_z=\"0.85\" \\n                        method=\"camera_scan\"/>\\n            </Sequence>\\n            <Sequence name=\"NavigateToTarget\">\\n                <Retry num_attempts=\"3\">\\n                    <Locate object=\"notebook and pen\" \\n                            position_x=\"12.0\" \\n                            position_y=\"2.0\" \\n                            position_z=\"0.5\" \\n                            method=\"camera_scan\"/>\\n                </Retry>\\n                <Retry num_attempts=\"2\">\\n                    <Locate object=\"pair of binoculars\" \\n                            position_x=\"3.5\" \\n                            position_y=\"2.5\" \\n                            position_z=\"0.85\" \\n                            method=\"camera_scan\"/>\\n                </Retry>\\n                <Retry num_attempts=\"2\">\\n                    <Locate object=\"bag of sand\" \\n                            position_x=\"4.0\" \\n                            position_y=\"1.8\" \\n                            position_z=\"0.85\" \\n                            method=\"camera_scan\"/>\\n                </Retry>\\n            </Sequence>\\n            <Sequence name=\"NavigateToTarget\">\\n                <Retry num_attempts=\"2\">\\n                    <Locate object=\"notebook and pen\" \\n                            position_x=\"12.0\" \\n                            position_y=\"2.0\" \\n                            position_z=\"0.5\" \\n                            method=\"camera_scan\"/>\\n                </Retry>\\n                <Retry num_attempts=\"2\">\\n                    <Locate object=\"pair of binoculars\" \\n                            position_x=\"3.5\" \\n                            position_y=\"2.5\" \\n                            position_z=\"0.85\" \\n                            method=\"camera_scan\"/>\\n                </Retry>\\n                <Retry num_attempts=\"2\">\\n                    <Locate object=\"bag of sand\" \\n                            position_x=\"4.0\" \\n                            position_y=\"1.8\" \\n                            position_z=\"0.85\" \\n                            method=\"camera_scan\"/>\\n                </Retry>\\n            </Sequence>\\n        </BehaviorTree>\\n    </root>\\n',\n",
       "   '\\n<root main_tree_to_execute=\"LocateAndAlignCeramicPlateSequence\">\\n    <BehaviorTree ID=\"LocateAndAlignCeramicPlateSequence\">\\n        <Locate object=\"cereal plate with bread crumbs\" position_x=\"{plate_position_x}\" position_y=\"{plate_position_y}\" position_z=\"{plate_position_z}\" method=\"camera_scan\"/>\\n        <Locate object=\"ceramic plate with bread crumbs\" position_x=\"{plate_position_x}\" position_y=\"{plate_position_y}\" position_z=\"{plate_position_z}\" method=\"camera_scan\"/>\\n        <Locate object=\"ceramic plate with bread crumbs\" position_x=\"{plate_position_x}\" position_y=\"{plate_position_y}\" position_z=\"{plate_position_z}\" method=\"camera_scan\"/>\\n    </BehaviorTree>\\n</root>\\n',\n",
       "   '\\n<root main_tree_to_execute=\"PickAndPlaceKnifeAndAppleSequence\">\\n    <BehaviorTree ID=\"PickAndPlaceKnifeAndAppleSequence\">\\n        <Sequence name=\"PickAndPlaceKnifeAndApple\">\\n            <Locate object=\"silver knife sitting on the counter\" \\n                    position_x=\"{knife_position_x}\" \\n                    position_y=\"{knife_position_y}\" \\n                    position_z=\"{knife_position_z}\" \\n                    method=\"camera_scan\"/>\\n            <Locate object=\"red apple sitting on the kitchen counter\" \\n                    position_x=\"{apple_position_x}\" \\n                    position_y=\"{apple_position_y}\" \\n                    position_z=\"{apple_position_z}\" \\n                    method=\"camera_scan\"/>\\n            <Pick object=\"silver knife sitting on the counter\" \\n                   grip_strength=\"medium\" \\n                   precision=\"high\"/>\\n            <Pick object=\"red apple sitting on the kitchen counter\" \\n                   grip_strength=\"medium\" \\n                   precision=\"high\"/>\\n            <Retry num_attempts=\"2\">\\n                <Locate object=\"silver knife sitting on the counter\" \\n                        position_x=\"{knife_position_x}\" \\n                        position_y=\"{knife_position_y}\" \\n                        position_z=\"{knife_position_z}\" \\n                        method=\"camera_scan\"/>\\n            </Retry>\\n            <Retry num_attempts=\"2\">\\n                <Locate object=\"red apple sitting on the kitchen counter\" \\n                        position_x=\"{apple_position_x}\" \\n                        position_y=\"{apple_position_y}\" \\n                        position_z=\"{apple_position_z}\" \\n                        method=\"camera_scan\"/>\\n            </Retry>\\n            <Retry num_attempts=\"2\">\\n                <Locate object=\"silver knife sitting on the counter\" \\n                        position_x=\"{knife_position_x}\" \\n                        position_y=\"{knife_position_y}\" \\n                        position_z=\"{knife_position_z}\" \\n                        method=\"camera_scan\"/>\\n            </Retry>\\n            <Retry num_attempts=\"2\">\\n                <Locate object=\"red apple sitting on the kitchen counter\" \\n                        position_x=\"{apple_position_x}\" \\n                        position_y=\"{apple_position_y}\" \\n                        position_z=\"{apple_position_z}\" \\n                        method=\"camera_scan\"/>\\n            </Retry>\\n        </Sequence>\\n    </BehaviorTree>\\n</root>\\n',\n",
       "   '\\n<root main_tree_to_execute=\"FindMedicalSplintSequence\">\\n    <BehaviorTree ID=\"FindMedicalSplintSequence\">\\n        <Sequence name=\"FindMedicalSplint\">\\n            <Locate object=\"medical splint sitting on the hospital bed\" \\n                    position_x=\"{medical_splint_position_x}\" \\n                    position_y=\"{medical_splint_position_y}\" \\n                    position_z=\"{medical_splint_position_z}\" \\n                    method=\"camera_scan\"/>\\n            <Retry num_attempts=\"3\">\\n                <Locate object=\"medical splint sitting on the hospital bed\" \\n                        position_x=\"{medical_splint_position_x}\" \\n                        position_y=\"{medical_splint_position_y}\" \\n                        position_z=\"{medical_splint_position_z}\" \\n                        method=\"camera_scan\"/>\\n            </Retry>\\n            <Retry num_attempts=\"2\">\\n                <Locate object=\"medical splint sitting on the hospital bed\" \\n                        position_x=\"{medical_splint_position_x}\" \\n                        position_y=\"{medical_splint_position_y}\" \\n                        position_z=\"{medical_splint_position_z}\" \\n                        method=\"camera_scan\"/>\\n            </Retry>\\n            <Retry num_attempts=\"2\">\\n                <Locate object=\"medical splint sitting on the hospital bed\" \\n                        position_x=\"{medical_splint_position_x}\" \\n                        position_y=\"{medical_splint_position_y}\" \\n                        position_z=\"{medical_splint_position_z}\" \\n                        method=\"camera_scan\"/>\\n            </Retry>\\n        </Sequence>\\n    </BehaviorTree>\\n</root>\\n',\n",
       "   '\\n<root main_tree_to_execute=\"RetrieveAndPlaceLadderAndStackSequence\">\\n    <BehaviorTree ID=\"RetrieveAndPlaceLadderAndStackSequence\">\\n        <Locate object=\"ladder sitting on the floor\" position_x=\"{ladder_position_x}\" position_y=\"{ladder_position_y}\" position_z=\"{ladder_position_z}\" method=\"camera_scan\"/>\\n        <Locate object=\"stack of wood sitting on the kitchen counter\" position_x=\"{stack_position_x}\" position_y=\"{stack_position_y}\" position_z=\"{stack_position_z}\" method=\"camera_scan\"/>\\n        <Pick object=\"ladder sitting on the floor\" grip_strength=\"medium\" precision=\"high\" />\\n        <Pick object=\"stack of wood sitting on the kitchen counter\" grip_strength=\"medium\" precision=\"high\" />\\n        <Retry num_attempts=\"2\">\\n            <Locate object=\"ladder sitting on the floor\" position_x=\"{ladder_position_x}\" position_y=\"{ladder_position_y}\" position_z=\"{ladder_position_z}\" method=\"camera_scan\"/>\\n            <Locate object=\"stack of wood sitting on the kitchen counter\" position_x=\"{stack_position_x}\" position_y=\"{stack_position_y}\" position_z=\"{stack_position_z}\" method=\"camera_scan\"/>\\n        </Retry>\\n        <Retry num_attempts=\"2\">\\n            <Locate object=\"ladder sitting on the floor\" position_x=\"{ladder_position_x}\" position_y=\"{ladder_position_y}\" position_z=\"{ladder_position_z}\" method=\"camera_scan\"/>\\n            <Locate object=\"stack of wood sitting on the kitchen counter\" position_x=\"{stack_position_x}\" position_y=\"{stack_position_y}\" position_z=\"{stack_position_z}\" method=\"camera_scan\"/>\\n        </Retry>\\n        <Retry num_attempts=\"2\">\\n            <Locate object=\"ladder sitting on the floor\" position_x=\"{ladder_position_x}\" position_y=\"{ladder_position_y}\" position_z=\"{ladder_position_z}\" method=\"camera_scan\"/>\\n            <Locate object=\"stack of wood sitting on the kitchen counter\" position_x=\"{stack_position_x}\" position_y=\"{stack_position_y}\" position_z=\"{stack_position_z}\" method=\"camera_scan\"/>\\n        </Retry>\\n        <Place object=\"ladder sitting on the floor\" surface=\"wooden floor near the stack of wood\" orientation=\"upright\" alignment=\"center\" />\\n    </BehaviorTree>\\n</root>\\n',\n",
       "   '\\n<root main_tree_to_execute=\"PickAndPlaceTarpSequence\">\\n    <BehaviorTree ID=\"PickAndPlaceTarpSequence\">\\n        <Sequence name=\"PickAndPlaceTarpSequence\">\\n            <Locate object=\"tarp sitting on the ground\" position_x=\"0.0\" position_y=\"0.0\" position_z=\"0.0\" method=\"camera_scan\"/>\\n            <Pick object=\"tarp\" grip_strength=\"medium\" precision=\"high\" />\\n            <Locate object=\"stack of wood sitting on the ground\" position_x=\"0.0\" position_y=\"0.0\" position_z=\"0.0\" method=\"camera_scan\"/>\\n            <Place object=\"stack of wood\" surface=\"wooden\" orientation=\"upright\" alignment=\"center\" />\\n        </Sequence>\\n    </BehaviorTree>\\n</root>\\n',\n",
       "   '\\n<root main_tree_to_execute=\"MoveForwardBy1.0 meter Sequence\">\\n    <Sequence name=\"MoveForwardBy1.0 meter\">\\n        <Retry num_attempts=\"3\">\\n            <Locate object=\"forward 1.0 meter\" position_x=\"{forward_position_x}\" position_y=\"{forward_position_y}\" position_z=\"{forward_position_z}\" method=\"camera_scan\"/>\\n        </Retry>\\n        <Retry num_attempts=\"2\">\\n            <Navigate x=\"{forward_position_x}\" y=\"{forward_position_y}\" z=\"{forward_position_z}\"/>\\n        </Retry>\\n        <Retry num_attempts=\"2\">\\n            <Pick object=\"forward 1.0 meter\" grip_strength=\"medium\" precision=\"high\"/>\\n        </Retry>\\n        <Retry num_attempts=\"2\">\\n            <Place object=\"forward 1.0 meter\" surface=\"wooden cutting board on the dining table\" orientation=\"upright\" alignment=\"center\"/>\\n        </Retry>\\n    </Sequence>\\n</root>\\n',\n",
       "   '\\n<root main_tree_to_execute=\"PickUpAndPlaceWalkieTalkieSequence\">\\n    <BehaviorTree ID=\"PickUpAndPlaceWalkieTalkieSequence\">\\n        <Sequence name=\"PickUpAndPlaceWalkieTalkie\">\\n            <Locate object=\"walkie-talkie\" position_x=\"{walkie_position_x}\" position_y=\"{walkie_position_y}\" position_z=\"{walkie_position_z}\" method=\"camera_scan\"/>\\n            <Pick object=\"walkie-talkie\" grip_strength=\"medium\" precision=\"high\"/>\\n            <Locate object=\"backpack\" position_x=\"{backpack_position_x}\" position_y=\"{backpack_position_y}\" position_z=\"{backpack_position_z}\" method=\"camera_scan\"/>\\n            <Place object=\"walkie-talkie\" surface=\"backpack\" orientation=\"upright\" alignment=\"center\"/>\\n        </Sequence>\\n    </BehaviorTree>\\n</root>\\n',\n",
       "   '\\n<root main_tree_to_execute=\"NavigateAndPickHelmetSequence\">\\n    <Locate object=\"safety helmet sitting on the kitchen counter\" \\n            position_x=\"{helmet_position_x}\" \\n            position_y=\"{helmet_position_y}\" \\n            position_z=\"{helmet_position_z}\" \\n            method=\"camera_scan\"/>\\n    <Wait duration=\"3\" />\\n    <Locate object=\"safety helmet sitting on the kitchen counter\" \\n            position_x=\"{helmet_position_x}\" \\n            position_y=\"{helmet_position_y}\" \\n            position_z=\"{helmet_position_z}\" \\n            method=\"camera_scan\"/>\\n    <Pick object=\"safety helmet\" \\n           grip_strength=\"medium\" \\n           precision=\"high\"/>\\n</root>\\n',\n",
       "   '\\n<root main_tree_to_execute=\"RetrieveAndPlaceBagOfRiceSequence\">\\n    <BehaviorTree ID=\"RetrieveAndPlaceBagOfRiceSequence\">\\n        <Locate object=\"bag of rice sitting on the kitchen counter\" \\n                position_x=\"{rice_position_x}\" \\n                position_y=\"{rice_position_y}\" \\n                position_z=\"{rice_position_z}\" \\n                method=\"camera_scan\"/>\\n        <Pick object=\"bag of rice\" \\n               grip_strength=\"medium\" \\n               precision=\"high\"/>\\n        <Place object=\"bag of rice\" \\n               surface=\"cooking pot on the dining table\" \\n               orientation=\"upright\" \\n               alignment=\"center\"/>\\n    </BehaviorTree>\\n</root>\\n',\n",
       "   '\\n<root main_tree_to_execute=\"PickAndPlaceKitSequence\">\\n    <BehaviorTree ID=\"PickAndPlaceKitSequence\">\\n        <Sequence name=\"PickAndPlaceKitSequence\">\\n            <Locate object=\"a first aid kit sitting on the kitchen counter\" \\n                    position_x=\"{first aid kit position_x}\" \\n                    position_y=\"{first aid kit position_y}\" \\n                    position_z=\"{first aid kit position_z}\" \\n                    method=\"camera_scan\"/>\\n            <Pick object=\"a first aid kit sitting on the kitchen counter\" \\n                  grip_strength=\"medium\" \\n                  precision=\"high\"/>\\n            <Place object=\"a first aid kit\" \\n                   surface=\"wooden cutting board on the dining table\" \\n                   orientation=\"upright\" \\n                   alignment=\"center\"/>\\n        </Sequence>\\n    </BehaviorTree>\\n</root>\\n',\n",
       "   '\\n<root main_tree_to_execute=\"LocateAndFindCarJackSequence\">\\n    <Locate object=\"car jack\" \\n           position_x=\"{car_jack_position_x}\" \\n           position_y=\"{car_jack_position_y}\" \\n           position_z=\"{car_jack_position_z}\" \\n           method=\"camera_scan\"/>\\n    <Retry num_attempts=\"3\">\\n        <Locate object=\"car jack\" \\n               position_x=\"{car_jack_position_x}\" \\n               position_y=\"{car_jack_position_y}\" \\n               position_z=\"{car_jack_position_z}\" \\n               method=\"camera_scan\"/>\\n        <Locate object=\"car jack\" \\n               position_x=\"{car_jack_position_x}\" \\n               position_y=\"{car_jack_position_y}\" \\n               position_z=\"{car_jack_position_z}\" \\n               method=\"camera_scan\"/>\\n        <Locate object=\"car jack\" \\n               position_x=\"{car_jack_position_x}\" \\n               position_y=\"{car_jack_position_y}\" \\n               position_z=\"{car_jack_position_z}\" \\n               method=\"camera_scan\"/>\\n    </Retry>\\n</root>\\n',\n",
       "   '\\n    <root main_tree_to_execute=\"HammerSequence\">\\n        <BehaviorTree ID=\"HammerSequence\">\\n            <Sequence name=\"HammerSequence\">\\n                <Locate object=\"hammer\" position_x=\"20.0\" position_y=\"10.0\" position_z=\"0.0\" method=\"camera_scan\"/>\\n                <Pick object=\"hammer\" grip_strength=\"medium\" precision=\"high\" />\\n                <Locate object=\"roll of duct tape\" position_x=\"8.0\" position_y=\"5.0\" position_z=\"0.0\" method=\"camera_scan\"/>\\n                <Locate object=\"rolling motion\" position_x=\"15.0\" position_y=\"3.0\" position_z=\"0.0\" method=\"camera_scan\"/>\\n                <Retry num_attempts=\"3\">\\n                    <Locate object=\"hammer\" position_x=\"20.0\" position_y=\"10.0\" position_z=\"0.0\" method=\"camera_scan\"/>\\n                    <Locate object=\"roll of duct tape\" position_x=\"8.0\" position_y=\"5.0\" position_z=\"0.0\" method=\"camera_scan\"/>\\n                    <Locate object=\"folding knife\" position_x=\"15.0\" position_y=\"3.0\" position_z=\"0.0\" method=\"camera_scan\"/>\\n                </Retry>\\n                <Retry num_attempts=\"2\">\\n                    <Locate object=\"hammer\" position_x=\"20.0\" position_y=\"10.0\" position_z=\"0.0\" method=\"camera_scan\"/>\\n                    <Locate object=\"folding knife\" position_x=\"15.0\" position_y=\"3.0\" position_z=\"0.0\" method=\"camera_scan\"/>\\n                </Retry>\\n                <Retry num_attempts=\"2\">\\n                    <Locate object=\"folding knife\" position_x=\"15.0\" position_y=\"3.0\" position_z=\"0.0\" method=\"camera_scan\"/>\\n                </Retry>\\n            </Sequence>\\n        </BehaviorTree>\\n    </root>\\n']}}"
      ]
     },
     "execution_count": 26,
     "metadata": {},
     "output_type": "execute_result"
    }
   ],
   "source": [
    "print(json_1b['score'])"
   ]
  }
 ],
 "metadata": {
  "kernelspec": {
   "display_name": "env",
   "language": "python",
   "name": "python3"
  },
  "language_info": {
   "codemirror_mode": {
    "name": "ipython",
    "version": 3
   },
   "file_extension": ".py",
   "mimetype": "text/x-python",
   "name": "python",
   "nbconvert_exporter": "python",
   "pygments_lexer": "ipython3",
   "version": "3.11.5"
  }
 },
 "nbformat": 4,
 "nbformat_minor": 2
}
