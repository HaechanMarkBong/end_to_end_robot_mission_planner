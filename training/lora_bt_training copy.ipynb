{
 "cells": [
  {
   "cell_type": "code",
   "execution_count": 1,
   "metadata": {},
   "outputs": [],
   "source": [
    "from transformers import (\n",
    "    AutoModelForCausalLM,\n",
    "    AutoTokenizer,\n",
    "    BitsAndBytesConfig,\n",
    "    TrainingArguments,\n",
    ")\n",
    "from peft import LoraConfig\n",
    "import torch\n",
    "from trl import SFTTrainer\n",
    "import json\n",
    "import pandas as pd\n",
    "from datasets import Dataset\n",
    "\n",
    "import bitsandbytes as bnb\n",
    "\n",
    "torch.cuda.empty_cache()"
   ]
  },
  {
   "cell_type": "code",
   "execution_count": 2,
   "metadata": {},
   "outputs": [
    {
     "data": {
      "text/plain": [
       "1"
      ]
     },
     "execution_count": 2,
     "metadata": {},
     "output_type": "execute_result"
    }
   ],
   "source": [
    "torch_dtype = torch.float16\n",
    "attn_implementation = \"eager\"\n",
    "\n",
    "# QLoRA config\n",
    "bnb_config = BitsAndBytesConfig(\n",
    "    load_in_4bit=True,\n",
    "    bnb_4bit_quant_type=\"nf4\",\n",
    "    bnb_4bit_compute_dtype=torch_dtype,\n",
    "    bnb_4bit_use_double_quant=True,\n",
    ")\n",
    "\n",
    "base_model = \"meta-llama/Llama-3.2-1B-Instruct\"\n",
    "\n",
    "# Load model\n",
    "model = AutoModelForCausalLM.from_pretrained(\n",
    "    base_model,\n",
    "    quantization_config=bnb_config,\n",
    "    device_map=\"auto\",\n",
    "    attn_implementation=attn_implementation\n",
    ")\n",
    "\n",
    "# Load tokenizer\n",
    "tokenizer= AutoTokenizer.from_pretrained(base_model, trust_remote_code=True)\n",
    "tokenizer.add_special_tokens({'pad_token': '[PAD]'})"
   ]
  },
  {
   "cell_type": "code",
   "execution_count": 3,
   "metadata": {},
   "outputs": [
    {
     "data": {
      "text/html": [
       "<div>\n",
       "<style scoped>\n",
       "    .dataframe tbody tr th:only-of-type {\n",
       "        vertical-align: middle;\n",
       "    }\n",
       "\n",
       "    .dataframe tbody tr th {\n",
       "        vertical-align: top;\n",
       "    }\n",
       "\n",
       "    .dataframe thead th {\n",
       "        text-align: right;\n",
       "    }\n",
       "</style>\n",
       "<table border=\"1\" class=\"dataframe\">\n",
       "  <thead>\n",
       "    <tr style=\"text-align: right;\">\n",
       "      <th></th>\n",
       "      <th>object_context</th>\n",
       "      <th>actions_dictionary</th>\n",
       "      <th>query</th>\n",
       "      <th>explanation</th>\n",
       "      <th>bt_xml</th>\n",
       "      <th>bt_json</th>\n",
       "    </tr>\n",
       "  </thead>\n",
       "  <tbody>\n",
       "    <tr>\n",
       "      <th>0</th>\n",
       "      <td>[{'name': 'a ladder', 'position': {'x': 30.0, ...</td>\n",
       "      <td>[{'name': 'Wait', 'description': 'Wait for a s...</td>\n",
       "      <td>Can you please locate the cooking pot and then...</td>\n",
       "      <td>I will first locate the cooking pot in the env...</td>\n",
       "      <td>&lt;root main_tree_to_execute=\"LocateAndNavigateT...</td>\n",
       "      <td>{'type': 'Sequence', 'name': 'LocateAndNavigat...</td>\n",
       "    </tr>\n",
       "    <tr>\n",
       "      <th>1</th>\n",
       "      <td>[{'name': 'a fireproof blanket', 'position': {...</td>\n",
       "      <td>[{'name': 'Wait', 'description': 'Wait for a s...</td>\n",
       "      <td>Could you locate the thermal blanket and then ...</td>\n",
       "      <td>Good, I will first attempt to locate the therm...</td>\n",
       "      <td>&lt;root main_tree_to_execute=\"LocateAndPrepareMe...</td>\n",
       "      <td>{'type': 'Sequence', 'name': 'LocateAndPrepare...</td>\n",
       "    </tr>\n",
       "    <tr>\n",
       "      <th>2</th>\n",
       "      <td>[{'name': 'a pair of boots', 'position': {'x':...</td>\n",
       "      <td>[{'name': 'Wait', 'description': 'Wait for a s...</td>\n",
       "      <td>Could you please locate the fire extinguisher ...</td>\n",
       "      <td></td>\n",
       "      <td>&lt;root main_tree_to_execute=\"LocateAndRetrieveB...</td>\n",
       "      <td>{'type': 'Sequence', 'name': 'LocateAndRetriev...</td>\n",
       "    </tr>\n",
       "    <tr>\n",
       "      <th>3</th>\n",
       "      <td>[{'name': 'a smartphone', 'position': {'x': 7....</td>\n",
       "      <td>[{'name': 'Wait', 'description': 'Wait for a s...</td>\n",
       "      <td>Can you please locate the rope and then naviga...</td>\n",
       "      <td>I will first locate the rope and retrieve its ...</td>\n",
       "      <td>&lt;root main_tree_to_execute=\"LocateAndNavigateT...</td>\n",
       "      <td>{'type': 'Sequence', 'name': 'LocateAndNavigat...</td>\n",
       "    </tr>\n",
       "    <tr>\n",
       "      <th>4</th>\n",
       "      <td>[{'name': 'a rope', 'position': {'x': 3.9, 'y'...</td>\n",
       "      <td>[{'name': 'Wait', 'description': 'Wait for a s...</td>\n",
       "      <td>Can you please locate the folding knife and th...</td>\n",
       "      <td>Good, I will first locate the folding knife an...</td>\n",
       "      <td>&lt;root main_tree_to_execute=\"LocateKnifeAndNavi...</td>\n",
       "      <td>{'type': 'Sequence', 'name': 'LocateKnifeAndNa...</td>\n",
       "    </tr>\n",
       "  </tbody>\n",
       "</table>\n",
       "</div>"
      ],
      "text/plain": [
       "                                      object_context  \\\n",
       "0  [{'name': 'a ladder', 'position': {'x': 30.0, ...   \n",
       "1  [{'name': 'a fireproof blanket', 'position': {...   \n",
       "2  [{'name': 'a pair of boots', 'position': {'x':...   \n",
       "3  [{'name': 'a smartphone', 'position': {'x': 7....   \n",
       "4  [{'name': 'a rope', 'position': {'x': 3.9, 'y'...   \n",
       "\n",
       "                                  actions_dictionary  \\\n",
       "0  [{'name': 'Wait', 'description': 'Wait for a s...   \n",
       "1  [{'name': 'Wait', 'description': 'Wait for a s...   \n",
       "2  [{'name': 'Wait', 'description': 'Wait for a s...   \n",
       "3  [{'name': 'Wait', 'description': 'Wait for a s...   \n",
       "4  [{'name': 'Wait', 'description': 'Wait for a s...   \n",
       "\n",
       "                                               query  \\\n",
       "0  Can you please locate the cooking pot and then...   \n",
       "1  Could you locate the thermal blanket and then ...   \n",
       "2  Could you please locate the fire extinguisher ...   \n",
       "3  Can you please locate the rope and then naviga...   \n",
       "4  Can you please locate the folding knife and th...   \n",
       "\n",
       "                                         explanation  \\\n",
       "0  I will first locate the cooking pot in the env...   \n",
       "1  Good, I will first attempt to locate the therm...   \n",
       "2                                                      \n",
       "3  I will first locate the rope and retrieve its ...   \n",
       "4  Good, I will first locate the folding knife an...   \n",
       "\n",
       "                                              bt_xml  \\\n",
       "0  <root main_tree_to_execute=\"LocateAndNavigateT...   \n",
       "1  <root main_tree_to_execute=\"LocateAndPrepareMe...   \n",
       "2  <root main_tree_to_execute=\"LocateAndRetrieveB...   \n",
       "3  <root main_tree_to_execute=\"LocateAndNavigateT...   \n",
       "4  <root main_tree_to_execute=\"LocateKnifeAndNavi...   \n",
       "\n",
       "                                             bt_json  \n",
       "0  {'type': 'Sequence', 'name': 'LocateAndNavigat...  \n",
       "1  {'type': 'Sequence', 'name': 'LocateAndPrepare...  \n",
       "2  {'type': 'Sequence', 'name': 'LocateAndRetriev...  \n",
       "3  {'type': 'Sequence', 'name': 'LocateAndNavigat...  \n",
       "4  {'type': 'Sequence', 'name': 'LocateKnifeAndNa...  "
      ]
     },
     "execution_count": 3,
     "metadata": {},
     "output_type": "execute_result"
    }
   ],
   "source": [
    "data = pd.read_json(\"./queries_dataset.json\")\n",
    "data.head()\n"
   ]
  },
  {
   "cell_type": "code",
   "execution_count": 4,
   "metadata": {},
   "outputs": [
    {
     "data": {
      "text/html": [
       "<div>\n",
       "<style scoped>\n",
       "    .dataframe tbody tr th:only-of-type {\n",
       "        vertical-align: middle;\n",
       "    }\n",
       "\n",
       "    .dataframe tbody tr th {\n",
       "        vertical-align: top;\n",
       "    }\n",
       "\n",
       "    .dataframe thead th {\n",
       "        text-align: right;\n",
       "    }\n",
       "</style>\n",
       "<table border=\"1\" class=\"dataframe\">\n",
       "  <thead>\n",
       "    <tr style=\"text-align: right;\">\n",
       "      <th></th>\n",
       "      <th>complete_instruction</th>\n",
       "      <th>instruction</th>\n",
       "      <th>input</th>\n",
       "      <th>output</th>\n",
       "    </tr>\n",
       "  </thead>\n",
       "  <tbody>\n",
       "    <tr>\n",
       "      <th>0</th>\n",
       "      <td>You are GoatBrain, an advanced AI robot assist...</td>\n",
       "      <td>You are GoatBrain, an AI assistant that proces...</td>\n",
       "      <td>Can you please locate the cooking pot and then...</td>\n",
       "      <td>&lt;plan&gt;{'type': 'Sequence', 'name': 'LocateAndN...</td>\n",
       "    </tr>\n",
       "    <tr>\n",
       "      <th>1</th>\n",
       "      <td>You are GoatBrain, an advanced AI robot assist...</td>\n",
       "      <td>You are GoatBrain, an AI assistant that proces...</td>\n",
       "      <td>Could you locate the thermal blanket and then ...</td>\n",
       "      <td>&lt;plan&gt;{'type': 'Sequence', 'name': 'LocateAndP...</td>\n",
       "    </tr>\n",
       "    <tr>\n",
       "      <th>2</th>\n",
       "      <td>You are GoatBrain, an advanced AI robot assist...</td>\n",
       "      <td>You are GoatBrain, an AI assistant that proces...</td>\n",
       "      <td>Could you please locate the fire extinguisher ...</td>\n",
       "      <td>&lt;plan&gt;{'type': 'Sequence', 'name': 'LocateAndR...</td>\n",
       "    </tr>\n",
       "    <tr>\n",
       "      <th>3</th>\n",
       "      <td>You are GoatBrain, an advanced AI robot assist...</td>\n",
       "      <td>You are GoatBrain, an AI assistant that proces...</td>\n",
       "      <td>Can you please locate the rope and then naviga...</td>\n",
       "      <td>&lt;plan&gt;{'type': 'Sequence', 'name': 'LocateAndN...</td>\n",
       "    </tr>\n",
       "    <tr>\n",
       "      <th>4</th>\n",
       "      <td>You are GoatBrain, an advanced AI robot assist...</td>\n",
       "      <td>You are GoatBrain, an AI assistant that proces...</td>\n",
       "      <td>Can you please locate the folding knife and th...</td>\n",
       "      <td>&lt;plan&gt;{'type': 'Sequence', 'name': 'LocateKnif...</td>\n",
       "    </tr>\n",
       "  </tbody>\n",
       "</table>\n",
       "</div>"
      ],
      "text/plain": [
       "                                complete_instruction  \\\n",
       "0  You are GoatBrain, an advanced AI robot assist...   \n",
       "1  You are GoatBrain, an advanced AI robot assist...   \n",
       "2  You are GoatBrain, an advanced AI robot assist...   \n",
       "3  You are GoatBrain, an advanced AI robot assist...   \n",
       "4  You are GoatBrain, an advanced AI robot assist...   \n",
       "\n",
       "                                         instruction  \\\n",
       "0  You are GoatBrain, an AI assistant that proces...   \n",
       "1  You are GoatBrain, an AI assistant that proces...   \n",
       "2  You are GoatBrain, an AI assistant that proces...   \n",
       "3  You are GoatBrain, an AI assistant that proces...   \n",
       "4  You are GoatBrain, an AI assistant that proces...   \n",
       "\n",
       "                                               input  \\\n",
       "0  Can you please locate the cooking pot and then...   \n",
       "1  Could you locate the thermal blanket and then ...   \n",
       "2  Could you please locate the fire extinguisher ...   \n",
       "3  Can you please locate the rope and then naviga...   \n",
       "4  Can you please locate the folding knife and th...   \n",
       "\n",
       "                                              output  \n",
       "0  <plan>{'type': 'Sequence', 'name': 'LocateAndN...  \n",
       "1  <plan>{'type': 'Sequence', 'name': 'LocateAndP...  \n",
       "2  <plan>{'type': 'Sequence', 'name': 'LocateAndR...  \n",
       "3  <plan>{'type': 'Sequence', 'name': 'LocateAndN...  \n",
       "4  <plan>{'type': 'Sequence', 'name': 'LocateKnif...  "
      ]
     },
     "execution_count": 4,
     "metadata": {},
     "output_type": "execute_result"
    }
   ],
   "source": [
    "object_context = data['object_context']\n",
    "actions_dictionary = data['actions_dictionary']\n",
    "query = data['query']\n",
    "explanation = data['explanation']\n",
    "bt_xml = data['bt_xml']\n",
    "bt_json = data['bt_json']\n",
    "\n",
    "from prompt_data import template, action_list, object_list, question_example, xml_example, json_example, answer_example, short_template, training_template\n",
    "\n",
    "data_prompt = \"\"\"<|begin_of_text|><|start_header_id|>system<|end_header_id|>\n",
    "{}<|eot_id|>\n",
    "<|start_header_id|>user<|end_header_id|>\n",
    "{}<|eot_id|>\n",
    "<|start_header_id|>assistant<|end_header_id|>\n",
    "{}\n",
    "\"\"\"\n",
    "\n",
    "\n",
    "def formatting_prompt(examples):\n",
    "    instructions = examples[\"instruction\"]\n",
    "    inputs = examples[\"input\"]\n",
    "    outputs = examples[\"output\"]\n",
    "    texts = []\n",
    "    for instruction,input_, output in zip(instructions, inputs, outputs):\n",
    "        text = data_prompt.format(instruction,input_, output)\n",
    "        texts.append(text)\n",
    "    return { \"text\" : texts, }\n",
    "\n",
    "\n",
    "json_system = template.format(\n",
    "    format_type=\"JSON\",\n",
    "    example=question_example + \"\\n\" + answer_example + \"\\n\" + json_example,\n",
    "    available_actions=action_list,\n",
    "    object_list=object_list,\n",
    ")\n",
    "\n",
    "xml_systems = [\n",
    "    short_template.format(\n",
    "        format_type=\"XML\",\n",
    "        example=question_example + \"\\n\" + answer_example + \"\\n\" + xml_example,\n",
    "        available_actions= action_list,\n",
    "        object_list=reduced_object_list,\n",
    "    ) for reduced_object_list in object_context]\n",
    "\n",
    "training_systems = [\n",
    "    training_template.format(\n",
    "        available_actions= action_list,\n",
    "        object_list=object_list,\n",
    "    ) for object_list in object_context]\n",
    "\n",
    "formatted_data = pd.DataFrame({\n",
    "    'complete_instruction' : json_system,\n",
    "    'instruction': training_systems,\n",
    "    'input': query,\n",
    "    'output': bt_json.apply(lambda x: f\"<plan>{x}</plan>\"),\n",
    "})\n",
    "\n",
    "formatted_data.head()"
   ]
  },
  {
   "cell_type": "code",
   "execution_count": 5,
   "metadata": {},
   "outputs": [
    {
     "data": {
      "application/vnd.jupyter.widget-view+json": {
       "model_id": "247867260abe4f4cabf2a2b30aab58d2",
       "version_major": 2,
       "version_minor": 0
      },
      "text/plain": [
       "Map:   0%|          | 0/235 [00:00<?, ? examples/s]"
      ]
     },
     "metadata": {},
     "output_type": "display_data"
    }
   ],
   "source": [
    "# Create the dataset and apply the mapping\n",
    "training_data = Dataset.from_pandas(formatted_data)\n",
    "training_data = training_data.map(formatting_prompt, batched=True)\n",
    "\n",
    "# Display a sample for verification\n",
    "# print(training_data[0][\"text\"])"
   ]
  },
  {
   "cell_type": "code",
   "execution_count": 6,
   "metadata": {},
   "outputs": [
    {
     "name": "stderr",
     "output_type": "stream",
     "text": [
      "c:\\workspace\\ETS\\SYS819\\goat-planner\\env\\Lib\\site-packages\\transformers\\training_args.py:1575: FutureWarning: `evaluation_strategy` is deprecated and will be removed in version 4.46 of 🤗 Transformers. Use `eval_strategy` instead\n",
      "  warnings.warn(\n",
      "c:\\workspace\\ETS\\SYS819\\goat-planner\\env\\Lib\\site-packages\\transformers\\training_args.py:2070: FutureWarning: `--push_to_hub_token` is deprecated and will be removed in version 5 of 🤗 Transformers. Use `--hub_token` instead.\n",
      "  warnings.warn(\n"
     ]
    },
    {
     "data": {
      "application/vnd.jupyter.widget-view+json": {
       "model_id": "77e4695a37d34fb8806fab4669b34901",
       "version_major": 2,
       "version_minor": 0
      },
      "text/plain": [
       "Map:   0%|          | 0/211 [00:00<?, ? examples/s]"
      ]
     },
     "metadata": {},
     "output_type": "display_data"
    },
    {
     "data": {
      "application/vnd.jupyter.widget-view+json": {
       "model_id": "53caea4f0a1c4de0b3a1c8c128d3dcd1",
       "version_major": 2,
       "version_minor": 0
      },
      "text/plain": [
       "Map:   0%|          | 0/24 [00:00<?, ? examples/s]"
      ]
     },
     "metadata": {},
     "output_type": "display_data"
    }
   ],
   "source": [
    "\n",
    "def find_all_linear_names(model):\n",
    "    cls = bnb.nn.Linear4bit\n",
    "    lora_module_names = set()\n",
    "    for name, module in model.named_modules():\n",
    "        if isinstance(module, cls):\n",
    "            names = name.split('.')\n",
    "            lora_module_names.add(names[0] if len(names) == 1 else names[-1])\n",
    "    if 'lm_head' in lora_module_names:  # needed for 16 bit\n",
    "        lora_module_names.remove('lm_head')\n",
    "    return list(lora_module_names)\n",
    "\n",
    "modules = find_all_linear_names(model)\n",
    "\n",
    "\n",
    "# LoRA config\n",
    "peft_config = LoraConfig(\n",
    "    r=16,\n",
    "    lora_alpha=32,\n",
    "    lora_dropout=0.05,\n",
    "    bias=\"none\",\n",
    "    task_type=\"CAUSAL_LM\",\n",
    "    target_modules=modules\n",
    ")\n",
    "\n",
    "new_model = \"llama-3.2-1b-bt-json\"\n",
    "\n",
    "#Hyperparamter\n",
    "training_arguments = TrainingArguments(\n",
    "    output_dir=new_model,\n",
    "    per_device_train_batch_size=1,\n",
    "    per_device_eval_batch_size=1,\n",
    "    gradient_accumulation_steps=2,\n",
    "    optim=\"paged_adamw_32bit\",\n",
    "    num_train_epochs=1,\n",
    "    evaluation_strategy=\"steps\",\n",
    "    eval_steps=0.1,\n",
    "    logging_steps=1,\n",
    "    warmup_steps=10,\n",
    "    logging_strategy=\"steps\",\n",
    "    learning_rate=2e-4,\n",
    "    fp16=True,\n",
    "    bf16=False,\n",
    "    group_by_length=True,\n",
    "    report_to=\"wandb\",\n",
    ")\n",
    "\n",
    "\n",
    "from trl import SFTConfig\n",
    "\n",
    "# Create the SFT config\n",
    "sft_config = SFTConfig(\n",
    "    max_seq_length=1100,\n",
    "    packing=False,\n",
    "    **training_arguments.to_dict()\n",
    ")\n",
    "\n",
    "# Create train/test split\n",
    "full_dataset = training_data.train_test_split(test_size=0.1, seed=42)\n",
    "\n",
    "\n",
    "# Setting sft parameters\n",
    "trainer = SFTTrainer(\n",
    "    model=model,\n",
    "    train_dataset=full_dataset[\"train\"],\n",
    "    eval_dataset=full_dataset[\"test\"],\n",
    "    peft_config=peft_config,\n",
    "    #dataset_text_field=\"text\",\n",
    "    args=sft_config,\n",
    "    #packing=False,\n",
    "    processing_class=tokenizer\n",
    ")\n",
    "\n"
   ]
  },
  {
   "cell_type": "code",
   "execution_count": 7,
   "metadata": {},
   "outputs": [
    {
     "ename": "",
     "evalue": "",
     "output_type": "error",
     "traceback": [
      "\u001b[1;31mThe Kernel crashed while executing code in the current cell or a previous cell. \n",
      "\u001b[1;31mPlease review the code in the cell(s) to identify a possible cause of the failure. \n",
      "\u001b[1;31mClick <a href='https://aka.ms/vscodeJupyterKernelCrash'>here</a> for more info. \n",
      "\u001b[1;31mView Jupyter <a href='command:jupyter.viewOutput'>log</a> for further details."
     ]
    }
   ],
   "source": [
    "instructions = training_data[\"complete_instruction\"][0]\n",
    "inputs = training_data[\"input\"][0]\n",
    "outputs = training_data[\"output\"][0]\n",
    "text = data_prompt.format(instructions, inputs, \"\")"
   ]
  },
  {
   "cell_type": "code",
   "execution_count": 12,
   "metadata": {},
   "outputs": [
    {
     "name": "stderr",
     "output_type": "stream",
     "text": [
      "Setting `pad_token_id` to `eos_token_id`:128001 for open-end generation.\n"
     ]
    }
   ],
   "source": [
    "instructions = training_data[\"complete_instruction\"][0]\n",
    "inputs = training_data[\"input\"][0]\n",
    "outputs = training_data[\"output\"][0]\n",
    "text = data_prompt.format(instructions, inputs, \"\")\n",
    "\n",
    "inputs = tokenizer([\n",
    "    text\n",
    "], return_tensors='pt', padding=True, truncation=True).to(\"cuda\")\n",
    "\n",
    "\n",
    "outputs = model.generate(**inputs, max_new_tokens = 500, use_cache = True)\n",
    "\n",
    "answer=tokenizer.batch_decode(outputs)\n",
    "answer=answer[0].split(\"<|start_header_id|>assistant<|end_header_id|>\")[-1]\n",
    "print(\"Answer of the question is:\", answer)"
   ]
  },
  {
   "cell_type": "code",
   "execution_count": null,
   "metadata": {},
   "outputs": [
    {
     "name": "stderr",
     "output_type": "stream",
     "text": [
      "\u001b[34m\u001b[1mwandb\u001b[0m: \u001b[33mWARNING\u001b[0m The `run_name` is currently set to the same value as `TrainingArguments.output_dir`. If this was not intended, please specify a different run name by setting the `TrainingArguments.run_name` parameter.\n",
      "\u001b[34m\u001b[1mwandb\u001b[0m: Using wandb-core as the SDK backend.  Please refer to https://wandb.me/wandb-core for more information.\n",
      "\u001b[34m\u001b[1mwandb\u001b[0m: Currently logged in as: \u001b[33msimonroy99\u001b[0m (\u001b[33msimonroy99-cole-de-technologie-sup-rieure\u001b[0m). Use \u001b[1m`wandb login --relogin`\u001b[0m to force relogin\n"
     ]
    },
    {
     "data": {
      "text/html": [
       "Tracking run with wandb version 0.19.1"
      ],
      "text/plain": [
       "<IPython.core.display.HTML object>"
      ]
     },
     "metadata": {},
     "output_type": "display_data"
    },
    {
     "data": {
      "text/html": [
       "Run data is saved locally in <code>c:\\workspace\\ETS\\SYS819\\goat-planner\\training\\wandb\\run-20241219_205854-eiuj29xr</code>"
      ],
      "text/plain": [
       "<IPython.core.display.HTML object>"
      ]
     },
     "metadata": {},
     "output_type": "display_data"
    },
    {
     "data": {
      "text/html": [
       "Syncing run <strong><a href='https://wandb.ai/simonroy99-cole-de-technologie-sup-rieure/huggingface/runs/eiuj29xr' target=\"_blank\">llama-3.2-1b-bt-json</a></strong> to <a href='https://wandb.ai/simonroy99-cole-de-technologie-sup-rieure/huggingface' target=\"_blank\">Weights & Biases</a> (<a href='https://wandb.me/developer-guide' target=\"_blank\">docs</a>)<br>"
      ],
      "text/plain": [
       "<IPython.core.display.HTML object>"
      ]
     },
     "metadata": {},
     "output_type": "display_data"
    },
    {
     "data": {
      "text/html": [
       " View project at <a href='https://wandb.ai/simonroy99-cole-de-technologie-sup-rieure/huggingface' target=\"_blank\">https://wandb.ai/simonroy99-cole-de-technologie-sup-rieure/huggingface</a>"
      ],
      "text/plain": [
       "<IPython.core.display.HTML object>"
      ]
     },
     "metadata": {},
     "output_type": "display_data"
    },
    {
     "data": {
      "text/html": [
       " View run at <a href='https://wandb.ai/simonroy99-cole-de-technologie-sup-rieure/huggingface/runs/eiuj29xr' target=\"_blank\">https://wandb.ai/simonroy99-cole-de-technologie-sup-rieure/huggingface/runs/eiuj29xr</a>"
      ],
      "text/plain": [
       "<IPython.core.display.HTML object>"
      ]
     },
     "metadata": {},
     "output_type": "display_data"
    },
    {
     "data": {
      "application/vnd.jupyter.widget-view+json": {
       "model_id": "ea3e934984c84e76ac439ecf7eeabb53",
       "version_major": 2,
       "version_minor": 0
      },
      "text/plain": [
       "  0%|          | 0/22 [00:00<?, ?it/s]"
      ]
     },
     "metadata": {},
     "output_type": "display_data"
    },
    {
     "name": "stdout",
     "output_type": "stream",
     "text": [
      "{'loss': 1.2504, 'grad_norm': 1.129077434539795, 'learning_rate': 2e-05, 'epoch': 0.04}\n",
      "{'loss': 1.2787, 'grad_norm': 1.26353120803833, 'learning_rate': 4e-05, 'epoch': 0.09}\n"
     ]
    },
    {
     "name": "stderr",
     "output_type": "stream",
     "text": [
      "Trainer.tokenizer is now deprecated. You should use Trainer.processing_class instead.\n",
      "Trainer.tokenizer is now deprecated. You should use Trainer.processing_class instead.\n"
     ]
    },
    {
     "name": "stdout",
     "output_type": "stream",
     "text": [
      "{'loss': 1.2625, 'grad_norm': 1.289148211479187, 'learning_rate': 6e-05, 'epoch': 0.13}\n"
     ]
    },
    {
     "data": {
      "application/vnd.jupyter.widget-view+json": {
       "model_id": "09ca71987d1d418583186ffd482efabd",
       "version_major": 2,
       "version_minor": 0
      },
      "text/plain": [
       "  0%|          | 0/5 [00:00<?, ?it/s]"
      ]
     },
     "metadata": {},
     "output_type": "display_data"
    },
    {
     "name": "stdout",
     "output_type": "stream",
     "text": [
      "{'eval_loss': 1.2265100479125977, 'eval_runtime': 0.8852, 'eval_samples_per_second': 5.648, 'eval_steps_per_second': 5.648, 'epoch': 0.13}\n",
      "{'loss': 1.2095, 'grad_norm': 1.2298741340637207, 'learning_rate': 8e-05, 'epoch': 0.18}\n",
      "{'loss': 1.2491, 'grad_norm': 1.1414207220077515, 'learning_rate': 0.0001, 'epoch': 0.22}\n"
     ]
    },
    {
     "name": "stderr",
     "output_type": "stream",
     "text": [
      "Trainer.tokenizer is now deprecated. You should use Trainer.processing_class instead.\n",
      "Trainer.tokenizer is now deprecated. You should use Trainer.processing_class instead.\n"
     ]
    },
    {
     "name": "stdout",
     "output_type": "stream",
     "text": [
      "{'loss': 0.9802, 'grad_norm': 0.8362124562263489, 'learning_rate': 0.00012, 'epoch': 0.27}\n"
     ]
    },
    {
     "data": {
      "application/vnd.jupyter.widget-view+json": {
       "model_id": "d233a7d5296043b5a02cf2bd93a12e47",
       "version_major": 2,
       "version_minor": 0
      },
      "text/plain": [
       "  0%|          | 0/5 [00:00<?, ?it/s]"
      ]
     },
     "metadata": {},
     "output_type": "display_data"
    },
    {
     "name": "stdout",
     "output_type": "stream",
     "text": [
      "{'eval_loss': 0.9928520321846008, 'eval_runtime': 0.8903, 'eval_samples_per_second': 5.616, 'eval_steps_per_second': 5.616, 'epoch': 0.27}\n",
      "{'loss': 0.9921, 'grad_norm': 0.8174057006835938, 'learning_rate': 0.00014, 'epoch': 0.31}\n",
      "{'loss': 0.9251, 'grad_norm': 0.7811418175697327, 'learning_rate': 0.00016, 'epoch': 0.36}\n"
     ]
    },
    {
     "name": "stderr",
     "output_type": "stream",
     "text": [
      "Trainer.tokenizer is now deprecated. You should use Trainer.processing_class instead.\n",
      "Trainer.tokenizer is now deprecated. You should use Trainer.processing_class instead.\n"
     ]
    },
    {
     "name": "stdout",
     "output_type": "stream",
     "text": [
      "{'loss': 0.7895, 'grad_norm': 0.846963107585907, 'learning_rate': 0.00018, 'epoch': 0.4}\n"
     ]
    },
    {
     "data": {
      "application/vnd.jupyter.widget-view+json": {
       "model_id": "7a7c2f9963224f2d91d27deb737745cf",
       "version_major": 2,
       "version_minor": 0
      },
      "text/plain": [
       "  0%|          | 0/5 [00:00<?, ?it/s]"
      ]
     },
     "metadata": {},
     "output_type": "display_data"
    },
    {
     "name": "stdout",
     "output_type": "stream",
     "text": [
      "{'eval_loss': 0.7134875655174255, 'eval_runtime': 0.8814, 'eval_samples_per_second': 5.673, 'eval_steps_per_second': 5.673, 'epoch': 0.4}\n",
      "{'loss': 0.7098, 'grad_norm': 0.85690838098526, 'learning_rate': 0.0002, 'epoch': 0.44}\n",
      "{'loss': 0.6401, 'grad_norm': 0.7762086987495422, 'learning_rate': 0.00018333333333333334, 'epoch': 0.49}\n"
     ]
    },
    {
     "name": "stderr",
     "output_type": "stream",
     "text": [
      "Trainer.tokenizer is now deprecated. You should use Trainer.processing_class instead.\n",
      "Trainer.tokenizer is now deprecated. You should use Trainer.processing_class instead.\n"
     ]
    },
    {
     "name": "stdout",
     "output_type": "stream",
     "text": [
      "{'loss': 0.5096, 'grad_norm': 0.9112257957458496, 'learning_rate': 0.0001666666666666667, 'epoch': 0.53}\n"
     ]
    },
    {
     "data": {
      "application/vnd.jupyter.widget-view+json": {
       "model_id": "de35f4fad02b49af9e88bbb702d97121",
       "version_major": 2,
       "version_minor": 0
      },
      "text/plain": [
       "  0%|          | 0/5 [00:00<?, ?it/s]"
      ]
     },
     "metadata": {},
     "output_type": "display_data"
    },
    {
     "name": "stdout",
     "output_type": "stream",
     "text": [
      "{'eval_loss': 0.4622914791107178, 'eval_runtime': 0.8918, 'eval_samples_per_second': 5.606, 'eval_steps_per_second': 5.606, 'epoch': 0.53}\n",
      "{'loss': 0.4644, 'grad_norm': 0.7520711421966553, 'learning_rate': 0.00015000000000000001, 'epoch': 0.58}\n",
      "{'loss': 0.3671, 'grad_norm': 0.7199646830558777, 'learning_rate': 0.00013333333333333334, 'epoch': 0.62}\n"
     ]
    },
    {
     "name": "stderr",
     "output_type": "stream",
     "text": [
      "Trainer.tokenizer is now deprecated. You should use Trainer.processing_class instead.\n",
      "Trainer.tokenizer is now deprecated. You should use Trainer.processing_class instead.\n"
     ]
    },
    {
     "name": "stdout",
     "output_type": "stream",
     "text": [
      "{'loss': 0.3521, 'grad_norm': 0.7687719464302063, 'learning_rate': 0.00011666666666666668, 'epoch': 0.67}\n"
     ]
    },
    {
     "data": {
      "application/vnd.jupyter.widget-view+json": {
       "model_id": "7db275f5b6504fcd9c7328ce25aca5ed",
       "version_major": 2,
       "version_minor": 0
      },
      "text/plain": [
       "  0%|          | 0/5 [00:00<?, ?it/s]"
      ]
     },
     "metadata": {},
     "output_type": "display_data"
    },
    {
     "name": "stdout",
     "output_type": "stream",
     "text": [
      "{'eval_loss': 0.332821786403656, 'eval_runtime': 0.8796, 'eval_samples_per_second': 5.685, 'eval_steps_per_second': 5.685, 'epoch': 0.67}\n",
      "{'loss': 0.3898, 'grad_norm': 0.7310489416122437, 'learning_rate': 0.0001, 'epoch': 0.71}\n",
      "{'loss': 0.3522, 'grad_norm': 0.6121394634246826, 'learning_rate': 8.333333333333334e-05, 'epoch': 0.76}\n"
     ]
    },
    {
     "name": "stderr",
     "output_type": "stream",
     "text": [
      "Trainer.tokenizer is now deprecated. You should use Trainer.processing_class instead.\n",
      "Trainer.tokenizer is now deprecated. You should use Trainer.processing_class instead.\n"
     ]
    },
    {
     "name": "stdout",
     "output_type": "stream",
     "text": [
      "{'loss': 0.3234, 'grad_norm': 0.6048145294189453, 'learning_rate': 6.666666666666667e-05, 'epoch': 0.8}\n"
     ]
    },
    {
     "data": {
      "application/vnd.jupyter.widget-view+json": {
       "model_id": "4dca53e9a36e4b1f87a7218f4f655ae2",
       "version_major": 2,
       "version_minor": 0
      },
      "text/plain": [
       "  0%|          | 0/5 [00:00<?, ?it/s]"
      ]
     },
     "metadata": {},
     "output_type": "display_data"
    },
    {
     "name": "stdout",
     "output_type": "stream",
     "text": [
      "{'eval_loss': 0.2776604890823364, 'eval_runtime': 0.8901, 'eval_samples_per_second': 5.617, 'eval_steps_per_second': 5.617, 'epoch': 0.8}\n",
      "{'loss': 0.2952, 'grad_norm': 0.6212493777275085, 'learning_rate': 5e-05, 'epoch': 0.84}\n",
      "{'loss': 0.2541, 'grad_norm': 0.5752468705177307, 'learning_rate': 3.3333333333333335e-05, 'epoch': 0.89}\n"
     ]
    },
    {
     "name": "stderr",
     "output_type": "stream",
     "text": [
      "Trainer.tokenizer is now deprecated. You should use Trainer.processing_class instead.\n",
      "Trainer.tokenizer is now deprecated. You should use Trainer.processing_class instead.\n"
     ]
    },
    {
     "name": "stdout",
     "output_type": "stream",
     "text": [
      "{'loss': 0.3384, 'grad_norm': 0.6326730251312256, 'learning_rate': 1.6666666666666667e-05, 'epoch': 0.93}\n"
     ]
    },
    {
     "data": {
      "application/vnd.jupyter.widget-view+json": {
       "model_id": "5e7d7a79bd4a45d9893e4e89f698e6ec",
       "version_major": 2,
       "version_minor": 0
      },
      "text/plain": [
       "  0%|          | 0/5 [00:00<?, ?it/s]"
      ]
     },
     "metadata": {},
     "output_type": "display_data"
    },
    {
     "name": "stdout",
     "output_type": "stream",
     "text": [
      "{'eval_loss': 0.260170042514801, 'eval_runtime': 0.8821, 'eval_samples_per_second': 5.668, 'eval_steps_per_second': 5.668, 'epoch': 0.93}\n",
      "{'loss': 0.2549, 'grad_norm': 0.5146613717079163, 'learning_rate': 0.0, 'epoch': 0.98}\n",
      "{'train_runtime': 37.6473, 'train_samples_per_second': 1.195, 'train_steps_per_second': 0.584, 'train_loss': 0.6903720132329247, 'epoch': 0.98}\n"
     ]
    },
    {
     "data": {
      "text/plain": [
       "TrainOutput(global_step=22, training_loss=0.6903720132329247, metrics={'train_runtime': 37.6473, 'train_samples_per_second': 1.195, 'train_steps_per_second': 0.584, 'total_flos': 264156838858752.0, 'train_loss': 0.6903720132329247, 'epoch': 0.9777777777777777})"
      ]
     },
     "execution_count": 13,
     "metadata": {},
     "output_type": "execute_result"
    }
   ],
   "source": [
    "trainer.train()"
   ]
  },
  {
   "cell_type": "code",
   "execution_count": 14,
   "metadata": {},
   "outputs": [
    {
     "name": "stderr",
     "output_type": "stream",
     "text": [
      "Setting `pad_token_id` to `eos_token_id`:128001 for open-end generation.\n"
     ]
    }
   ],
   "source": [
    "inputs = tokenizer([\n",
    "    text\n",
    "], return_tensors='pt', padding=True, truncation=True).to(\"cuda\")\n",
    "\n",
    "\n",
    "outputs = model.generate(**inputs, max_new_tokens = 500, use_cache = True)\n",
    "\n",
    "answer=tokenizer.batch_decode(outputs)"
   ]
  },
  {
   "cell_type": "code",
   "execution_count": 15,
   "metadata": {},
   "outputs": [],
   "source": [
    "EOS_TOKEN = \"<|eot_id|>\""
   ]
  },
  {
   "cell_type": "code",
   "execution_count": 16,
   "metadata": {},
   "outputs": [
    {
     "name": "stdout",
     "output_type": "stream",
     "text": [
      "Answer of the question is: \n",
      "\n",
      "<plan>\n",
      "  <Sequence name=\"LocateAndNavigateToLadderSequence\">\n",
      "    <Retry nodes>\n",
      "      <Locate object=\"cooking pot\" position_x=\"20.4\" position_y=\"7.7\" position_z=\"1.2\" />\n",
      "      <Retry nodes>\n",
      "        <Navigate x=\"20.4\" y=\"7.7\" z=\"1.2\" />\n",
      "        <Retry nodes>\n",
      "          <Locate object=\"wooden cutting board on the dining table\" position_x=\"4.5\" position_y=\"2.2\" position_z=\"0.75\" />\n",
      "          <Retry nodes>\n",
      "            <Navigate x=\"4.5\" y=\"2.2\" z=\"0.75\" />\n",
      "            <Retry nodes>\n",
      "              <Locate object=\"silver knife laying on the counter\" position_x=\"1.8\" position_y=\"2.1\" position_z=\"0.8\" />\n",
      "              <Retry nodes>\n",
      "                <Navigate x=\"1.8\" y=\"2.1\" z=\"0.8\" />\n",
      "                <Retry nodes>\n",
      "                  <Locate object=\"ceramic plate with some bread crumbs\" position_x=\"2.7\" position_y=\"2.0\" position_z=\"0.85\" />\n",
      "                  <Retry nodes>\n",
      "                    <Navigate x=\"2.7\" y=\"2.0\" z=\"0.85\" />\n",
      "                  </Locate object=\"cooking pot\" position_x=\"20.4\" position_y=\"7.7\" position_z=\"1.2\" />\n",
      "                </Retry nodes>\n",
      "              </Retry nodes>\n",
      "            </Retry nodes>\n",
      "          </Retry nodes>\n",
      "        </Retry nodes>\n",
      "      </Retry nodes>\n",
      "    </Sequence>\n",
      "  </Plan>\n",
      "</Plan>\n",
      "\n"
     ]
    }
   ],
   "source": [
    "answer=answer[0].split(\"<|start_header_id|>assistant<|end_header_id|>\")[-1].split(EOS_TOKEN)[0]\n",
    "print(\"Answer of the question is:\", answer)"
   ]
  },
  {
   "cell_type": "code",
   "execution_count": 17,
   "metadata": {},
   "outputs": [],
   "source": [
    "json_system = template.format(\n",
    "    format_type=\"JSON\",\n",
    "    example=question_example + \"\\n\" + answer_example + \"\\n\" + json_example,\n",
    "    available_actions=action_list,\n",
    "    object_list=object_list,\n",
    ")"
   ]
  },
  {
   "cell_type": "code",
   "execution_count": 18,
   "metadata": {},
   "outputs": [
    {
     "data": {
      "text/plain": [
       "'You are GoatBrain, an advanced AI robot assistant designed to help with questions and tasks. Your default state is an idle loop where you wait for input and then process it. When processing input, you either answer questions or perform tasks. When a user asks a question, answer it to the best of your ability. When a user requests a task to be performed, follow these steps:\\n\\n1. Briefly acknowledge the task.\\n2. Generate a behavior tree in the specified format (JSON) that represents the steps to complete the task.\\n3. IMPORTANT: Always enclose the behavior tree within <plan></plan> tags.\\n\\nThe behavior tree should use the following node types:\\n- Sequence: Executes children in order, stops if one fails\\n- Fallback: Tries children in order until one succeeds\\n- Retry: Retries its child node a specified number of times\\n- Loop: Continuously executes its child nodes\\n- anything else: Represents a specific action\\n\\n### Example of a behavior tree:\\nHere is an example :\\n\\nCan you retrieve the red apple from the kitchen counter and place it on the cutting board in the dining room?\\nI will locate the red apple on the kitchen counter, pick it up with medium grip strength and high precision, and then place it on the wooden cutting board on the dining table\\n\\n<plan>\\n{\\n  \"type\": \"Sequence\",\\n  \"name\": \"RetrieveAndPlaceAppleSequence\",\\n  \"nodes\": [\\n    {\\n      \"type\": \"Retry\",\\n      \"retries\": 3,\\n      \"nodes\": [\\n        {\\n          \"type\": \"Locate\",\\n          \"object\": \"red apple sitting on the kitchen counter\",\\n          \"position_x\": \"{apple_position_x}\",\\n          \"position_y\": \"{apple_position_y}\",\\n          \"position_z\": \"{apple_position_z}\"\\n        }\\n      ]\\n    },\\n    {\\n      \"type\": \"Retry\",\\n      \"retries\": 2,\\n      \"nodes\": [\\n        {\\n          \"type\": \"Navigate\",\\n          \"x\": \"{apple_position_x}\",\\n          \"y\": \"{apple_position_y}\"\\n        }\\n      ]\\n    },\\n    {\\n      \"type\": \"Retry\",\\n      \"retries\": 2,\\n      \"nodes\": [\\n        {\\n          \"type\": \"Pick\",\\n          \"object\": \"red apple sitting on the kitchen counter\",\\n          \"grip_strength\": \"medium\",\\n          \"precision\": \"high\"\\n        }\\n      ]\\n    },\\n    {\\n      \"type\": \"Retry\",\\n      \"retries\": 2,\\n      \"nodes\": [\\n        {\\n          \"type\": \"Place\",\\n          \"object\": \"red apple\",\\n          \"surface\": \"wooden cutting board on the dining table\",\\n          \"orientation\": \"upright\",\\n          \"alignment\": \"center\"\\n        }\\n      ]\\n    }\\n  ]\\n}\\n</plan>\\n\\n\\n### End of example behavior tree\\n\\nRemember, generating a plan is only necessary when the user explicitly requests a task to be performed. For general questions, simply provide an informative answer without a plan.\\n\\nAlways enclose the plan within <plan></plan> tags. This is crucial for proper processing. Only one plan can be generated for each request.\\n\\nAlways strive to be helpful, clear, and concise in your responses. Refer to yourself as GoatBrain when appropriate.\\n\\n### Objects and Descriptions:\\n### Available Actions:\\nOnly use the following actions in your behavior trees:\\n[{\\'name\\': \\'Wait\\', \\'description\\': \\'Wait for a specific duration\\', \\'params\\': {\\'duration\\': \\'float, duration of the waiting time in seconds, e.g., 2.0\\'}}, {\\'name\\': \\'Navigate\\', \\'description\\': \\'Go to a destination\\', \\'params\\': {\\'x\\': \\'float, X coordinate of the destination, e.g., 1.5\\', \\'y\\': \\'float, Y coordinate of the destination, e.g., 0.0\\'}}, {\\'name\\': \\'Pick\\', \\'description\\': \\'Pick up an object\\', \\'params\\': {\\'object\\': \"string, name of the object to pick up, e.g., \\'apple\\'\", \\'grip_strength\\': \"string, grip strength to use, options: \\'low\\', \\'medium\\', \\'high\\'\", \\'precision\\': \"string, precision level, options: \\'low\\', \\'medium\\', \\'high\\'\"}}, {\\'name\\': \\'Place\\', \\'description\\': \\'Place an object at a location\\', \\'params\\': {\\'object\\': \"string, name of the object to place, e.g., \\'apple\\'\", \\'surface\\': \"string, name of the surface to place the object on, e.g., \\'table\\'\", \\'orientation\\': \"string, orientation of the object, e.g., \\'upright\\'\", \\'alignment\\': \"string, alignment of the object, e.g., \\'center\\'\"}}, {\\'name\\': \\'Locate\\', \\'description\\': \\'Find an object\\', \\'params\\': {\\'object\\': \"string, name of the object to locate, e.g., \\'apple\\'\"}, \\'output\\': {\\'position_x\\': \\'float, X coordinate of the object\\', \\'position_y\\': \\'float, Y coordinate of the object\\', \\'position_z\\': \\'float, Z coordinate of the object\\'}}, {\\'name\\': \\'GetCurrentPosition\\', \\'description\\': \\'Retrieve the current position of the robot\\', \\'params\\': {}, \\'output\\': {\\'position_x\\': \\'float, current X coordinate of the robot\\', \\'position_y\\': \\'float, current Y coordinate of the robot\\', \\'position_z\\': \\'float, current Z coordinate of the robot\\'}}]\\n\\n### Objects and Descriptions:\\nOnly use the following objects in your behavior trees:\\n[{\\'name\\': \\'a water bottle\\', \\'position\\': {\\'x\\': 12.3, \\'y\\': 5.8, \\'z\\': 1.0}}, {\\'name\\': \\'a first aid kit\\', \\'position\\': {\\'x\\': 24.7, \\'y\\': 3.5, \\'z\\': 0.8}}, {\\'name\\': \\'a flashlight\\', \\'position\\': {\\'x\\': 9.2, \\'y\\': 4.1, \\'z\\': 0.5}}, {\\'name\\': \\'a safety helmet\\', \\'position\\': {\\'x\\': 18.4, \\'y\\': 11.7, \\'z\\': 0.9}}, {\\'name\\': \\'a fire extinguisher\\', \\'position\\': {\\'x\\': 5.3, \\'y\\': 2.2, \\'z\\': 1.4}}, {\\'name\\': \\'a ladder\\', \\'position\\': {\\'x\\': 30.0, \\'y\\': 14.5, \\'z\\': 3.2}}, {\\'name\\': \\'a smartphone\\', \\'position\\': {\\'x\\': 7.9, \\'y\\': 6.8, \\'z\\': 0.3}}, {\\'name\\': \\'a thermal blanket\\', \\'position\\': {\\'x\\': 20.1, \\'y\\': 7.3, \\'z\\': 1.2}}, {\\'name\\': \\'a pair of gloves\\', \\'position\\': {\\'x\\': 6.5, \\'y\\': 8.4, \\'z\\': 0.2}}, {\\'name\\': \\'a backpack\\', \\'position\\': {\\'x\\': 15.8, \\'y\\': 3.3, \\'z\\': 0.9}}, {\\'name\\': \\'a notebook and pen\\', \\'position\\': {\\'x\\': 11.6, \\'y\\': 9.1, \\'z\\': 0.5}}, {\\'name\\': \\'a box of matches\\', \\'position\\': {\\'x\\': 3.4, \\'y\\': 1.8, \\'z\\': 0.1}}, {\\'name\\': \\'a roll of duct tape\\', \\'position\\': {\\'x\\': 8.2, \\'y\\': 4.5, \\'z\\': 0.7}}, {\\'name\\': \\'a crowbar\\', \\'position\\': {\\'x\\': 13.7, \\'y\\': 6.2, \\'z\\': 1.1}}, {\\'name\\': \\'a set of keys\\', \\'position\\': {\\'x\\': 5.8, \\'y\\': 2.7, \\'z\\': 0.1}}, {\\'name\\': \\'an emergency whistle\\', \\'position\\': {\\'x\\': 10.5, \\'y\\': 5.4, \\'z\\': 0.3}}, {\\'name\\': \\'a tarp\\', \\'position\\': {\\'x\\': 28.7, \\'y\\': 12.3, \\'z\\': 2.0}}, {\\'name\\': \\'a walkie-talkie\\', \\'position\\': {\\'x\\': 17.6, \\'y\\': 3.9, \\'z\\': 0.4}}, {\\'name\\': \\'a pair of boots\\', \\'position\\': {\\'x\\': 14.5, \\'y\\': 4.2, \\'z\\': 0.6}}, {\\'name\\': \\'a medical splint\\', \\'position\\': {\\'x\\': 22.9, \\'y\\': 8.8, \\'z\\': 0.7}}, {\\'name\\': \\'a bag of sand\\', \\'position\\': {\\'x\\': 4.7, \\'y\\': 7.1, \\'z\\': 0.5}}, {\\'name\\': \\'a car jack\\', \\'position\\': {\\'x\\': 6.3, \\'y\\': 1.2, \\'z\\': 1.3}}, {\\'name\\': \\'a folding knife\\', \\'position\\': {\\'x\\': 9.4, \\'y\\': 2.8, \\'z\\': 0.1}}, {\\'name\\': \\'a rope\\', \\'position\\': {\\'x\\': 3.9, \\'y\\': 5.7, \\'z\\': 0.8}}, {\\'name\\': \\'a cooking pot\\', \\'position\\': {\\'x\\': 19.4, \\'y\\': 6.8, \\'z\\': 1.2}}, {\\'name\\': \\'a can of soup\\', \\'position\\': {\\'x\\': 7.1, \\'y\\': 2.3, \\'z\\': 0.4}}, {\\'name\\': \\'a bag of rice\\', \\'position\\': {\\'x\\': 21.5, \\'y\\': 3.1, \\'z\\': 1.0}}, {\\'name\\': \\'a folding chair\\', \\'position\\': {\\'x\\': 26.7, \\'y\\': 9.4, \\'z\\': 1.8}}, {\\'name\\': \\'a camping stove\\', \\'position\\': {\\'x\\': 18.1, \\'y\\': 7.9, \\'z\\': 1.4}}, {\\'name\\': \\'a map\\', \\'position\\': {\\'x\\': 12.0, \\'y\\': 4.0, \\'z\\': 0.1}}, {\\'name\\': \\'a compass\\', \\'position\\': {\\'x\\': 6.8, \\'y\\': 2.5, \\'z\\': 0.3}}, {\\'name\\': \\'an emergency flare\\', \\'position\\': {\\'x\\': 16.9, \\'y\\': 8.3, \\'z\\': 0.5}}, {\\'name\\': \\'a stack of wood\\', \\'position\\': {\\'x\\': 25.4, \\'y\\': 12.2, \\'z\\': 2.1}}, {\\'name\\': \\'a hammer\\', \\'position\\': {\\'x\\': 10.2, \\'y\\': 5.1, \\'z\\': 0.9}}, {\\'name\\': \\'a set of screwdrivers\\', \\'position\\': {\\'x\\': 13.5, \\'y\\': 2.8, \\'z\\': 0.7}}, {\\'name\\': \\'a pair of binoculars\\', \\'position\\': {\\'x\\': 8.7, \\'y\\': 3.6, \\'z\\': 0.4}}, {\\'name\\': \\'a sleeping bag\\', \\'position\\': {\\'x\\': 20.3, \\'y\\': 9.2, \\'z\\': 1.5}}, {\\'name\\': \\'a toolkit\\', \\'position\\': {\\'x\\': 19.6, \\'y\\': 3.3, \\'z\\': 1.2}}, {\\'name\\': \\'a fireproof blanket\\', \\'position\\': {\\'x\\': 7.3, \\'y\\': 5.5, \\'z\\': 0.6}}, {\\'name\\': \\'a water filter\\', \\'position\\': {\\'x\\': 11.8, \\'y\\': 6.2, \\'z\\': 0.4}}, {\\'name\\': \\'a pair of sunglasses\\', \\'position\\': {\\'x\\': 4.6, \\'y\\': 1.8, \\'z\\': 0.2}}, {\\'name\\': \\'a shovel\\', \\'position\\': {\\'x\\': 22.4, \\'y\\': 10.3, \\'z\\': 1.6}}, {\\'name\\': \\'a red apple sitting on the kitchen counter\\', \\'position\\': {\\'x\\': 1.5, \\'y\\': 2.0, \\'z\\': 0.8}}, {\\'name\\': \\'an empty glass cup next to the sink\\', \\'position\\': {\\'x\\': 3.2, \\'y\\': 1.8, \\'z\\': 0.9}}, {\\'name\\': \\'a wooden cutting board on the dining table\\', \\'position\\': {\\'x\\': 4.5, \\'y\\': 2.2, \\'z\\': 0.75}}, {\\'name\\': \\'a silver knife laying on the counter\\', \\'position\\': {\\'x\\': 1.8, \\'y\\': 2.1, \\'z\\': 0.8}}, {\\'name\\': \\'a ceramic plate with some bread crumbs\\', \\'position\\': {\\'x\\': 2.7, \\'y\\': 2.0, \\'z\\': 0.85}}]\\n'"
      ]
     },
     "execution_count": 18,
     "metadata": {},
     "output_type": "execute_result"
    }
   ],
   "source": [
    "json_system"
   ]
  },
  {
   "cell_type": "code",
   "execution_count": 22,
   "metadata": {},
   "outputs": [
    {
     "name": "stderr",
     "output_type": "stream",
     "text": [
      "100%|██████████| 50/50 [19:47<00:00, 23.74s/it]\n"
     ]
    }
   ],
   "source": [
    "from evaluation import evaluate_model\n",
    "\n",
    "json_1b = evaluate_model(model=model,\n",
    "                        tokenizer=tokenizer,\n",
    "                        formatting_prompt=formatting_prompt,\n",
    "                        validation_type=\"json\",\n",
    "                        query_file=\"./query_dataset.json\",\n",
    "                        instruction=json_system,\n",
    "                        action_list=action_list)"
   ]
  },
  {
   "cell_type": "code",
   "execution_count": 23,
   "metadata": {},
   "outputs": [
    {
     "data": {
      "text/plain": [
       "{'score': 0.64,\n",
       " 'plans': {'no plan': [['Pick up the roll of duct tape and place it on the crowbar.',\n",
       "    '\\n\\n<plan>\\n{\\n  \"type\": \"Sequence\",\\n  \"name\": \"RetrieveAndPlaceTapeSequence\",\\n  \"nodes\": [\\n    {\\n      \"type\": \"Retry\",\\n      \"retries\": 3,\\n      \"nodes\": [\\n        {\\n          \"type\": \"Locate\",\\n          \"object\": \"roll of duct tape\",\\n          \"position_x\": \"{tape_position_x}\",\\n          \"position_y\": \"{tape_position_y}\",\\n          \"position_z\": \"{tape_position_z}\"\\n        }\\n      ]\\n    },\\n    {\\n      \"type\": \"Retry\",\\n      \"retries\": 2,\\n      \"nodes\": [\\n        {\\n          \"type\": \"Navigate\",\\n          \"x\": \"{crowbar_position_x}\",\\n          \"y\": \"{crowbar_position_y}\",\\n          \"z\": \"{crowbar_position_z}\"\\n        }\\n      ]\\n    },\\n    {\\n      \"type\": \"Retry\",\\n      \"retries\": 2,\\n      \"nodes\": [\\n        {\\n          \"type\": \"Pick\",\\n          \"object\": \"roll of duct tape\",\\n          \"grip_strength\": \"medium\",\\n          \"precision\": \"high\"\\n        }\\n      ]\\n    },\\n    {\\n      \"type\": \"Retry\",\\n      \"retries\": 2,\\n      \"nodes\": [\\n        {\\n          \"type\": \"Place\",\\n          \"object\": \"roll of duct tape\",\\n          \"surface\": \"crowbar\",\\n          \"orientation\": \"upright\",\\n          \"alignment\": \"center\"\\n        }\\n      ]\\n    },\\n    {\\n      \"type\": \"Retry\",\\n      \"retries\": 2,\\n      \"nodes\": [\\n        {\\n          \"type\": \"RetrieveAndPlaceTapeSequence\",\\n          \"nodes\": [\\n            {\\n              \"type\": \"Locate\",\\n              \"object\": \"pair of binoculars\",\\n              \"position_x\": \"{binoculars_position_x}\",\\n              \"position_y\": \"{binoculars_position_y}\",\\n              \"position_z\": \"{binoculars_position_z}\"\\n            },\\n            {\\n              \"type\": \"Navigate\",\\n              \"x\": \"{binoculars_position_x}\",\\n              \"y\": \"{binoculars_position_y}\",\\n              \"z\": \"{binoculars_position_z}\"\\n            },\\n            {\\n              \"type\": \"Pick\",\\n              \"object\": \"pair of binoculars\",\\n              \"grip_strength\": \"low\",\\n              \"precision\": \"low\"\\n            }\\n          ]\\n        },\\n        {\\n          \"type\": \"Retry\",\\n          \"retries\": 2,\\n          \"nodes\": [\\n            {\\n              \"type\": \"Retrieve\",\\n              \"object\": \"pair of gloves\",\\n              \"position_x\": \"{gloves_position_x}\",\\n              \"position_y\": \"{gloves_position_y}\",\\n              \"position_z\": \"{gloves_position_z}\"\\n            },\\n            {\\n              \"type\": \"Navigate\",\\n              \"x\": \"{gloves_position_x}\",\\n              \"y\": \"{gloves_position_y}\",\\n              \"z\": \"{gloves_position_z}\"\\n            }\\n          ]\\n        },\\n        {\\n          \"type\": \"Retry\",\\n          \"retries\": 2,\\n          \"nodes\": [\\n            {\\n              \"type\": \"Retrieve\",\\n              \"object\": \"pair of boots\",\\n              \"position_x\": \"{boots_position_x}\",\\n              \"position_y\": \"{boots_position_y}\",\\n              \"position_z\": \"{boots_position_z}\"\\n            },\\n            {\\n              \"type\": \"'],\n",
       "   ['Follow a path that leads to the notebook and pen, the pair of binoculars, and the bag of sand.',\n",
       "    '\\n\\n<plan>\\n  {\\n    \"type\": \"Sequence\",\\n    \"name\": \"NavigateToPlan\",\\n    \"nodes\": [\\n      {\\n        \"type\": \"Retry\",\\n        \"retries\": 3,\\n        \"nodes\": [\\n          {\\n            \"type\": \"Locate\",\\n            \"object\": \"a silver knife laying on the counter\",\\n            \"position_x\": \"{knife_position_x}\",\\n            \"position_y\": \"{knife_position_y}\",\\n            \"position_z\": \"{knife_position_z}\"\\n          },\\n          {\\n            \"type\": \"Retry\",\\n            \"retries\": 2,\\n            \"nodes\": [\\n              {\\n                \"type\": \"Navigate\",\\n                \"x\": \"{knife_position_x}\",\\n                \"y\": \"{knife_position_y}\",\\n                \"z\": \"{knife_position_z}\"\\n              }\\n            ]\\n          },\\n          {\\n            \"type\": \"Retry\",\\n            \"retries\": 2,\\n            \"nodes\": [\\n              {\\n                \"type\": \"Locate\",\\n                \"object\": \"a pair of binoculars\",\\n                \"position_x\": \"{binoculars_position_x}\",\\n                \"position_y\": \"{binoculars_position_y}\",\\n                \"position_z\": \"{binoculars_position_z}\"\\n              },\\n              {\\n                \"type\": \"Retry\",\\n                \"retries\": 2,\\n                \"nodes\": [\\n                  {\\n                    \"type\": \"Navigate\",\\n                    \"x\": \"{binoculars_position_x}\",\\n                    \"y\": \"{binoculars_position_y}\",\\n                    \"z\": \"{binoculars_position_z}\"\\n                  }\\n                ]\\n              },\\n              {\\n                \"type\": \"Retry\",\\n                \"retries\": 2,\\n                \"nodes\": [\\n                  {\\n                    \"type\": \"Locate\",\\n                    \"object\": \"a bag of sand\",\\n                    \"position_x\": \"{sand_position_x}\",\\n                    \"position_y\": \"{sand_position_y}\",\\n                    \"position_z\": \"{sand_position_z}\"\\n                  },\\n                  {\\n                    \"type\": \"Retry\",\\n                    \"retries\": 2,\\n                    \"nodes\": [\\n                      {\\n                        \"type\": \"Navigate\",\\n                        \"x\": \"{sand_position_x}\",\\n                        \"y\": \"{sand_position_y}\",\\n                        \"z\": \"{sand_position_z}\"\\n                      }\\n                    ]\\n                  }\\n                ]\\n              }\\n            ]\\n          ]\\n        ]\\n      },\\n      {\\n        \"type\": \"Retry\",\\n        \"retries\": 3,\\n        \"nodes\": [\\n          {\\n            \"type\": \"Retry\",\\n            \"retries\": 2,\\n            \"nodes\": [\\n              {\\n                \"type\": \"Navigate\",\\n                \"x\": \"25.4\",\\n                \"y\": \"12.2\",\\n                \"z\": \"2.1\"\\n              }\\n            ]\\n          },\\n          {\\n            \"type\": \"Retry\",\\n            \"retries\": 2,\\n            \"nodes\": [\\n              {\\n                \"type\": \"Locate\",\\n                \"object\": \"a pair of boots\",\\n                \"position_x\": \"14.5\",\\n                \"position_y\": \"4.2\",\\n                \"position_z\": \"0.6\"\\n              },\\n              {\\n                \"type\": \"Retry\",\\n                \"retries\": 2,\\n                \"nodes\": [\\n                  {\\n                    \"type\": \"Navigate\",\\n                    \"x\": \"20.3\",\\n                    \"y\": \"9.2\",\\n                    \"z\": \"1.5\"\\n                  }\\n                ]\\n              }\\n            ]\\n          }\\n        ]\\n     '],\n",
       "   ['Locate the ceramic plate with bread crumbs and align it upright on the wooden cutting board.',\n",
       "    '\\n\\n<plan>\\n    { \"type\": \"Retry\", \"retries\": \"3\", \"nodes\": [\\n        { \"type\": \"Locate\", \"object\": \"ceramic plate with bread crumbs\", \"position_x\": \"2.7\", \"position_y\": \"2.0\", \"position_z\": \"0.85\" },\\n        { \"type\": \"Retry\", \"retries\": \"2\", \"nodes\": [\\n            { \"type\": \"Locate\", \"object\": \"wooden cutting board on the dining table\", \"position_x\": \"4.5\", \"position_y\": \"2.2\", \"position_z\": \"0.75\" },\\n            { \"type\": \"Retry\", \"retries\": \"2\", \"nodes\": [\\n                { \"type\": \"Locate\", \"object\": \"ceramic plate with bread crumbs\", \"position_x\": \"2.7\", \"position_y\": \"2.0\", \"position_z\": \"0.85\" },\\n                { \"type\": \"Retry\", \"retries\": \"2\", \"nodes\": [\\n                    { \"type\": \"Locate\", \"object\": \"wooden cutting board on the dining table\", \"position_x\": \"4.5\", \"position_y\": \"2.2\", \"position_z\": \"0.75\" },\\n                    { \"type\": \"Retry\", \"retries\": \"2\", \"nodes\": [\\n                        { \"type\": \"Align\", \"x\": \"4.5\", \"y\": \"2.2\", \"z\": \"0.75\" },\\n                        { \"type\": \"Retry\", \"retries\": \"2\", \"nodes\": [\\n                            { \"type\": \"Locate\", \"object\": \"ceramic plate with bread crumbs\", \"position_x\": \"2.7\", \"position_y\": \"2.0\", \"position_z\": \"0.85\" },\\n                            { \"type\": \"Retry\", \"retries\": \"2\", \"nodes\": [\\n                                { \"type\": \"Locate\", \"object\": \"wooden cutting board on the dining table\", \"position_x\": \"4.5\", \"position_y\": \"2.2\", \"position_z\": \"0.75\" },\\n                                { \"type\": \"Retry\", \"retries\": \"2\", \"nodes\": [\\n                                    { \"type\": \"Align\", \"x\": \"4.5\", \"y\": \"2.2\", \"z\": \"0.75\" },\\n                                    { \"type\": \"Retry\", \"retries\": \"2\", \"nodes\": [\\n                                        { \"type\": \"Locate\", \"object\": \"ceramic plate with bread crumbs\", \"position_x\": \"2.7\", \"position_y\": \"2.0\", \"position_z\": \"0.85\" },\\n                                        { \"type\": \"Retry\", \"retries\": \"2\", \"nodes\": [\\n                                            { \"type\": \"Locate\", \"object\": \"wooden cutting board on the dining table\", \"position_x\": \"4.5\", \"position_y\": \"2.2\", \"position_z\": \"0.75\" },\\n                                            { \"type\": \"Retry\", \"retries\": \"2\", \"nodes\": [\\n                                                { \"type\": \"Align\", \"x\": \"4.5\", \"y\": \"2.2\", \"z\": \"0.'],\n",
       "   ['Follow a predefined path to navigate to the rope and the crowbar.',\n",
       "    '\\n\\n<plan>\\n  <sequence name=\"NavigateToRopeAndCrowbarSequence\">\\n    <retry nodes>\\n      <retry node=\"LocateRopeNode\">\\n        <node name=\"LocateRopeNode\" position_x=\"3.4\" position_y=\"1.8\" position_z=\"0.1\">\\n          <sequence>\\n            <retry node=\"LocateRopeNodeLocatingRopeNode\">\\n              <node name=\"LocateRopeNodeLocatingRopeNode\" position_x=\"3.2\" position_y=\"1.5\" position_z=\"0.9\">\\n                <retry node=\"LocateRopeNodeLocatingRopeNode\">\\n                  <node name=\"LocateRopeNodeLocatingRopeNode\" position_x=\"3.2\" position_y=\"1.8\" position_z=\"0.85\">\\n                    <retry node=\"LocateRopeNodeLocatingRopeNode\">\\n                      <node name=\"LocateRopeNodeLocatingRopeNode\" position_x=\"3.2\" position_y=\"2.0\" position_z=\"0.85\">\\n                        <retry node=\"LocateRopeNodeLocatingRopeNode\">\\n                          <node name=\"LocateRopeNodeLocatingRopeNode\" position_x=\"3.2\" position_y=\"2.1\" position_z=\"0.85\">\\n                            <retry node=\"LocateRopeNodeLocatingRopeNode\">\\n                              <node name=\"LocateRopeNodeLocatingRopeNode\" position_x=\"3.2\" position_y=\"2.0\" position_z=\"0.85\">\\n                                <retry node=\"LocateRopeNodeLocatingRopeNode\">\\n                                  <node name=\"LocateRopeNodeLocatingRopeNode\" position_x=\"3.2\" position_y=\"2.1\" position_z=\"0.85\">\\n                                    <retry node=\"LocateRopeNodeLocatingRopeNode\">\\n                                      <node name=\"LocateRopeNodeLocatingRopeNode\" position_x=\"3.2\" position_y=\"2.0\" position_z=\"0.85\">\\n                                        <retry node=\"LocateRopeNodeLocatingRopeNode\">\\n                                          <node name=\"LocateRopeNodeLocatingRopeNode\" position_x=\"3.2\" position_y=\"2.1\" position_z=\"0.85\">\\n                                            <retry node=\"LocateRopeNodeLocatingRopeNode\">\\n                                              <node name=\"LocateRopeNodeLocatingRopeNode\" position_x=\"3.2\" position_y=\"2.0\" position_z=\"0.85\">\\n                                                <retry node=\"LocateRopeNodeLocatingRopeNode\">\\n                                                  <node name=\"LocateRopeNodeLocatingRopeNode\" position_x=\"3.2\" position_y=\"2.1\" position_z=\"0.85\">\\n                                                    <retry node=\"LocateRopeNodeLocatingRopeNode\">\\n                                                      <node name=\"LocateRopeNodeLocatingRopeNode\" position_x=\"3.2\" position_y=\"2.0\" position_z=\"0.85\">\\n                                                        <retry node=\"LocateRopeNodeLocatingRopeNode\">\\n                                                          <node name=\"LocateRopeNodeLocatingRopeNode\" position_x=\"3.2\" position_y=\"2.1\" position_z']],\n",
       "  'not valid': [['\\n  <sequence name=\"LocateFlashlightSequence\">\\n    <retry nodes>\\n      <locate object=\"flashlight\" position_x=\"1.8\" position_y=\"2.0\" position_z=\"0.85\">\\n        <wait duration=\"2.0\" />\\n      </locate>\\n      <retry nodes>\\n        <navigate object=\"flashlight\" position_x=\"2.2\" position_y=\"2.0\" position_z=\"0.85\">\\n          <wait duration=\"1.0\" />\\n        </navigate>\\n        <retry nodes>\\n          <pick object=\"flashlight\" grip_strength=\"medium\" precision=\"high\">\\n            <wait duration=\"1.0\" />\\n          </pick>\\n          <retry nodes>\\n            <place object=\"flashlight\" surface=\"wooden cutting board on the dining table\" orientation=\"upright\" alignment=\"center\">\\n              <wait duration=\"1.0\" />\\n            </place>\\n          </retry>\\n        </retry>\\n      </retry>\\n    </sequence>\\n  ',\n",
       "    ['JSON Parsing Error: Expecting value: line 2 column 3 (char 3)']],\n",
       "   ['\\n    {\\n      \"type\": \"Sequence\",\\n      \"name\": \"RetrieveAndPlaceFireExtinguisherSequence\",\\n      \"nodes\": [\\n        {\\n          \"type\": \"Locate\",\\n          \"object\": \"fire extinguisher sitting on the counter\",\\n          \"position_x\": \"1.5\",\\n          \"position_y\": \"2.0\",\\n          \"position_z\": \"0.8\"\\n        },\\n        {\\n          \"type\": \"Retrieve\",\\n          \"object\": \"fire extinguisher sitting on the counter\",\\n          \"position_x\": \"1.5\",\\n          \"position_y\": \"2.0\",\\n          \"position_z\": \"0.8\"\\n        },\\n        {\\n          \"type\": \"Place\",\\n          \"object\": \"fire extinguisher sitting on the ladder\",\\n          \"surface\": \"ladder\",\\n          \"orientation\": \"upright\",\\n          \"alignment\": \"center\"\\n        }\\n      ]\\n    }\\n',\n",
       "    [\"Invalid or missing node type 'Retrieve' found.\"]],\n",
       "   ['\\n{\\n  \"type\": \"Sequence\",\\n  \"name\": \"NavigateToFireproofBlanketAndWalkieTalkieSequence\",\\n  \"nodes\": [\\n    {\\n      \"type\": \"Retry\",\\n      \"retries\": 2,\\n      \"nodes\": [\\n        {\\n          \"type\": \"Locate\",\\n          \"object\": \"a fireproof blanket\",\\n          \"position_x\": \"10.0\",\\n          \"position_y\": \"4.5\",\\n          \"position_z\": \"1.8\"\\n        }\\n      ]\\n    },\\n    {\\n      \"type\": \"Retry\",\\n      \"retries\": 2,\\n      \"nodes\": [\\n        {\\n          \"type\": \"Locate\",\\n          \"object\": \"a walkie-talkie\",\\n          \"position_x\": \"30.0\",\\n          \"position_y\": \"11.7\",\\n          \"position_z\": \"0.4\"\\n        }\\n      ]\\n    ]\\n  ]\\n}\\n',\n",
       "    [\"JSON Parsing Error: Expecting ',' delimiter: line 31 column 5 (char 625)\"]],\n",
       "   ['\\n  <sequence>\\n    <locate>\\n      <object>hammer</object>\\n      <position_x>17.6</position_x>\\n      <position_y>3.9</position_y>\\n      <position_z>0.4</position_z>\\n    </locate>\\n    <pick>\\n      <object>hammer</object>\\n      <position_x>17.6</position_x>\\n      <position_y>3.9</position_y>\\n      <position_z>0.4</position_z>\\n    </pick>\\n    <move>\\n      <object>hammer</object>\\n      <position_x>7.3</position_x>\\n      <position_y>5.5</position_y>\\n      <position_z>0.2</position_z>\\n    </move>\\n    <place>\\n      <object>hammer</object>\\n      <position_x>7.3</position_x>\\n      <position_y>5.5</position_y>\\n      <position_z>0.2</position_z>\\n      <surface>safety helmet</surface>\\n      <orientation>upright</orientation>\\n      <alignment>center</alignment>\\n    </place>\\n  </sequence>\\n',\n",
       "    ['JSON Parsing Error: Expecting value: line 2 column 3 (char 3)']],\n",
       "   ['\\n  { \"type\": \"Sequence\", \"name\": \"CampingStoveIdentificationSequence\", \"nodes\": [ { \"type\": \"Retry\", \"retries\": \"3\", \"nodes\": [ { \"type\": \"Locate\", \"object\": \"camping stove\", \"position_x\": \"{stove_position_x}\", \"position_y\": \"{stove_position_y}\", \"position_z\": \"{stove_position_z}\" }, { \"type\": \"Retry\", \"retries\": \"2\", \"nodes\": [ { \"type\": \"Navigate\", \"x\": \"{stove_position_x}\", \"y\": \"{stove_position_y}\"} ] }, { \"type\": \"Retry\", \"retries\": \"2\", \"nodes\": [ { \"type\": \"Locate\", \"object\": \"portion of the stove that is not visible\", \"position_x\": \"{stove_position_x}\", \"position_y\": \"{stove_position_y}\", \"position_z\": \"{stove_position_z}\" }, { \"type\": \"Retry\", \"retries\": \"2\", \"nodes\": [ { \"type\": \"Locate\", \"object\": \"a burner\", \"position_x\": \"{stove_position_x}\", \"position_y\": \"{stove_position_y}\", \"position_z\": \"{stove_position_z}\" } ] } ] ] ] } ] }\\n',\n",
       "    [\"JSON Parsing Error: Expecting ',' delimiter: line 2 column 845 (char 845)\"]],\n",
       "   ['\\n{\\n  \"type\": \"GetCurrentBatteryLevel\",\\n  \"nodes\": [\\n    {\"type\": \"Retry\", \"retries\": 3, \"nodes\": [\\n      {\"type\": \"Locate\", \"object\": \"a power bank with the battery level check feature\", \"position_x\": \"12.3\", \"position_y\": \"5.8\", \"position_z\": \"1.0\"},\\n      {\"type\": \"Retry\", \"retries\": 2, \"nodes\": [\\n        {\"type\": \"Retrieve\", \"object\": \"a charger cable with the battery level check feature\", \"position_x\": \"12.3\", \"position_y\": \"5.8\", \"position_z\": \"1.0\"},\\n        {\"type\": \"Retrieve\", \"object\": \"a charging dock for the power bank\", \"position_x\": \"12.3\", \"position_y\": \"5.8\", \"position_z\": \"1.0\"}\\n      ]}\\n    ]]\\n  ]\\n}\\n',\n",
       "    [\"JSON Parsing Error: Expecting ',' delimiter: line 11 column 6 (char 616)\"]],\n",
       "   ['\\n{\\n  \"type\": \"Sequence\",\\n  \"name\": \"PickAndPlaceKnifeSequence\",\\n  \"nodes\": [\\n    {\\n      \"type\": \"Locate\",\\n      \"object\": \"silver knife\",\\n      \"position_x\": \"1.8\",\\n      \"position_y\": \"2.1\",\\n      \"position_z\": \"0.8\"\\n    },\\n    {\\n      \"type\": \"Retrieve\",\\n      \"object\": \"red apple sitting on the kitchen counter\",\\n      \"position_x\": \"1.5\",\\n      \"position_y\": \"2.0\",\\n      \"position_z\": \"0.8\"\\n    },\\n    {\\n      \"type\": \"Pick\",\\n      \"object\": \"red apple\",\\n      \"grip_strength\": \"medium\",\\n      \"precision\": \"high\"\\n    },\\n    {\\n      \"type\": \"Place\",\\n      \"object\": \"red apple\",\\n      \"surface\": \"wooden cutting board on the dining table\",\\n      \"orientation\": \"upright\",\\n      \"alignment\": \"center\"\\n    },\\n    {\\n      \"type\": \"Retrieve\",\\n      \"object\": \"silver knife\",\\n      \"position_x\": \"1.8\",\\n      \"position_y\": \"2.1\",\\n      \"position_z\": \"0.8\"\\n    },\\n    {\\n      \"type\": \"Place\",\\n      \"object\": \"silver knife\",\\n      \"surface\": \"ceramic plate with some bread crumbs\",\\n      \"orientation\": \"upright\",\\n      \"alignment\": \"center\"\\n    }\\n  ]\\n}\\n',\n",
       "    [\"Invalid or missing node type 'Retrieve' found.\",\n",
       "     \"Invalid or missing node type 'Retrieve' found.\"]],\n",
       "   ['\\n  {\\n    \"type\": \"Sequence\",\\n    \"name\": \"LocateAndAlignFireproofBlanketSequence\",\\n    \"nodes\": [\\n      {\\n        \"type\": \"Retry\",\\n        \"retries\": 3,\\n        \"nodes\": [\\n          {\\n            \"type\": \"Locate\",\\n            \"object\": \"fireproof blanket\",\\n            \"position_x\": \"{blanket_position_x}\",\\n            \"position_y\": \"{blanket_position_y}\",\\n            \"position_z\": \"{blanket_position_z}\"\\n          }\\n        ]\\n      },\\n      {\\n        \"type\": \"Retry\",\\n        \"retries\": 2,\\n        \"nodes\": [\\n          {\\n            \"type\": \"Retrieve\",\\n            \"object\": \"fireproof blanket\",\\n            \"position_x\": \"{blanket_position_x}\",\\n            \"position_y\": \"{blanket_position_y}\",\\n            \"position_z\": \"{blanket_position_z}\"\\n          },\\n          {\\n            \"type\": \"Align\",\\n            \"object\": \"fireproof blanket\",\\n            \"position_x\": \"{blanket_position_x}\",\\n            \"position_y\": \"{blanket_position_y}\",\\n            \"position_z\": \"{blanket_position_z}\"\\n          }\\n        ]\\n      },\\n      {\\n        \"type\": \"Retry\",\\n        \"retries\": 2,\\n        \"nodes\": [\\n          {\\n            \"type\": \"Locate\",\\n            \"object\": \"a pair of sunglasses\",\\n            \"position_x\": \"{sunglasses_position_x}\",\\n            \"position_y\": \"{sunglasses_position_y}\",\\n            \"position_z\": \"{sunglasses_position_z}\"\\n          }\\n        ]\\n      },\\n      {\\n        \"type\": \"Retry\",\\n        \"retries\": 2,\\n        \"nodes\": [\\n          {\\n            \"type\": \"Retrieve\",\\n            \"object\": \"a pair of gloves\",\\n            \"position_x\": \"{gloves_position_x}\",\\n            \"position_y\": \"{gloves_position_y}\",\\n            \"position_z\": \"{gloves_position_z}\"\\n          },\\n          {\\n            \"type\": \"Align\",\\n            \"object\": \"a pair of gloves\",\\n            \"position_x\": \"{gloves_position_x}\",\\n            \"position_y\": \"{gloves_position_y}\",\\n            \"position_z\": \"{gloves_position_z}\"\\n          }\\n        ]\\n      }\\n    ]\\n  }\\n',\n",
       "    [\"Invalid or missing node type 'Retrieve' found.\",\n",
       "     \"Invalid or missing node type 'Align' found.\",\n",
       "     \"Invalid or missing node type 'Retrieve' found.\",\n",
       "     \"Invalid or missing node type 'Align' found.\"]],\n",
       "   ['\\n    {\\n      \"type\": \"Sequence\",\\n      \"name\": \"NavigateToTargetSequence\",\\n      \"nodes\": [\\n        {\\n          \"type\": \"Retry\",\\n          \"retries\": 2,\\n          \"nodes\": [\\n            {\\n              \"type\": \"Look\",\\n              \"position\": \"45 degrees to the right\",\\n              \"orientation\": \"upright\",\\n              \"alignment\": \"center\"\\n            }\\n          ]\\n        },\\n        {\\n          \"type\": \"Retry\",\\n          \"retries\": 2,\\n          \"nodes\": [\\n            {\\n              \"type\": \"Navigate\",\\n              \"position_x\": \"2.1\",\\n              \"position_y\": \"2.0\",\\n              \"position_z\": \"1.85\"\\n            }\\n          ]\\n        }\\n      ]\\n    }\\n',\n",
       "    [\"Invalid or missing node type 'Look' found.\"]],\n",
       "   ['\\n    {\\n      \"type\": \"Sequence\",\\n      \"name\": \"LocateEmergencyFlareSequence\",\\n      \"nodes\": [\\n        {\\n          \"type\": \"Retry\",\\n          \"retries\": 3,\\n          \"nodes\": [\\n            {\\n              \"type\": \"Locate\",\\n              \"object\": \"emergency flare sitting on the counter near the sink\",\\n              \"position_x\": \"{flare_position_x}\",\\n              \"position_y\": \"{flare_position_y}\",\\n              \"position_z\": \"{flare_position_z}\"\\n            }\\n          ]\\n        },\\n        {\\n          \"type\": \"Retry\",\\n          \"retries\": 2,\\n          \"nodes\": [\\n            {\\n              \"type\": \"Navigate\",\\n              \"x\": \"{flare_position_x}\",\\n              \"y\": \"{flare_position_y}\",\\n              \"z\": \"{flare_position_z}\"\\n            }\\n          ]\\n        },\\n        {\\n          \"type\": \"Retry\",\\n          \"retries\": 2,\\n          \"nodes\": [\\n            {\\n              \"type\": \"Retrieve\",\\n              \"object\": \"emergency flare sitting on the counter near the sink\",\\n              \"position_x\": \"{flare_position_x}\",\\n              \"position_y\": \"{flare_position_y}\",\\n              \"position_z\": \"{flare_position_z}\"\\n            }\\n          ]\\n        }\\n      ]\\n    }\\n',\n",
       "    [\"Invalid or missing node type 'Retrieve' found.\"]],\n",
       "   ['\\n  { \"type\": \"Sequence\", \"name\": \"LocateAndAlignCrowbarSequence\", \"nodes\": [\\n    {\\n      \"type\": \"Retry\", \"retries\": 3, \"nodes\": [\\n        {\\n          \"type\": \"Locate\", \"object\": \"crowbar\", \"position_x\": \"{crowbar_position_x}\", \"position_y\": \"{crowbar_position_y}\", \"position_z\": \"{crowbar_position_z}\"},\\n          \"position\": {\"x\": \"{crowbar_position_x}\", \"y\": \"{crowbar_position_y}\", \"z\": \"{crowbar_position_z}\"}\\n        }\\n      ]\\n    },\\n    {\\n      \"type\": \"Retry\", \"retries\": 2, \"nodes\": [\\n        {\\n          \"type\": \"Align\", \"position\": {\"x\": \"{crowbar_position_x}\", \"y\": \"{crowbar_position_y}\"}},\\n          \"position\": {\"x\": \"{crowbar_position_x}\", \"y\": \"{crowbar_position_y}\", \"z\": \"{crowbar_position_z}\"}\\n        }\\n      ]\\n    },\\n    {\\n      \"type\": \"Retry\", \"retries\": 2, \"nodes\": [\\n        {\\n          \"type\": \"Pick\", \"object\": \"crowbar\", \"grip_strength\": \"medium\", \"precision\": \"high\"},\\n          \"position\": {\"x\": \"{crowbar_position_x}\", \"y\": \"{crowbar_position_y}\", \"z\": \"{crowbar_position_z}\"}},\\n          \"position\": {\"x\": \"{crowbar_position_x}\", \"y\": \"{crowbar_position_y}\", \"z\": \"{crowbar_position_z}\"}\\n        }\\n      ]\\n    }\\n  ]\\n}\\n',\n",
       "    [\"JSON Parsing Error: Expecting ',' delimiter: line 7 column 21 (char 325)\"]],\n",
       "   ['\\n  { \"type\": \"Sequence\", \"name\": \"HammerKnifePath\", \"nodes\": [\\n    {\\n      \"type\": \"Locate\", \"object\": \"hammer\", \"position_x\": \"10.2\", \"position_y\": \"5.1\", \"position_z\": \"0.9\"\\n    },\\n    {\\n      \"type\": \"Retry\", \"retries\": 2, \"nodes\": [\\n        {\\n          \"type\": \"Navigate\", \"x\": \"10.2\", \"y\": \"5.1\"\\n        },\\n        {\\n          \"type\": \"Pick\", \"object\": \"hammer\", \"grip_strength\": \"medium\", \"precision\": \"low\"\\n        }\\n      ]\\n    },\\n    {\\n      \"type\": \"Retry\", \"retries\": 2, \"nodes\": [\\n        {\\n          \"type\": \"Locate\", \"object\": \"roll of duct tape\", \"position_x\": \"3.9\", \"position_y\": \"5.7\", \"position_z\": \"0.8\"\\n        },\\n        {\\n          \"type\": \"Retry\", \"retries\": 2, \"nodes\": [\\n            {\\n              \"type\": \"Navigate\", \"x\": \"3.9\", \"y\": \"5.7\"\\n            },\\n            {\\n              \"type\": \"Unroll\", \"length\": \"3.9\", \"width\": \"5.7\"\\n            },\\n            {\\n              \"type\": \"Retry\", \"retries\": 2, \"nodes\": [\\n                {\\n                  \"type\": \"Locate\", \"object\": \"folding knife\", \"position_x\": \"2.7\", \"position_y\": \"2.0\", \"position_z\": \"0.85\"\\n                },\\n                {\\n                  \"type\": \"Retry\", \"retries\": 2, \"nodes\": [\\n                    {\\n                      \"type\": \"Navigate\", \"x\": \"2.7\", \"y\": \"2.0\"\\n                    },\\n                    {\\n                      \"type\": \"Pick\", \"object\": \"folding knife\", \"grip_strength\": \"high\", \"precision\": \"low\"\\n                    }\\n                  ]\\n                }\\n              ]\\n            ]\\n          ]\\n        }\\n      ]\\n    }\\n  ]\\n}\\n',\n",
       "    [\"JSON Parsing Error: Expecting ',' delimiter: line 45 column 13 (char 1516)\"]],\n",
       "   ['\\n{\\n  \"type\": \"GetCurrentBatteryLevel\",\\n  \"nodes\": [\\n    {\\n      \"type\": \"Retry\",\\n      \"retries\": 3,\\n      \"nodes\": [\\n        {\\n          \"type\": \"Locate\",\\n          \"object\": \"a charging dock\",\\n          \"position_x\": \"{battery_position_x}\",\\n          \"position_y\": \"{battery_position_y}\",\\n          \"position_z\": \"{battery_position_z}\"\\n        },\\n        {\\n          \"type\": \"Retrieve\",\\n          \"object\": \"a charging cable\",\\n          \"position_x\": \"{battery_position_x}\",\\n          \"position_y\": \"{battery_position_y}\",\\n          \"position_z\": \"{battery_position_z}\"\\n        },\\n        {\\n          \"type\": \"Retrieve\",\\n          \"object\": \"a power adapter\",\\n          \"position_x\": \"{battery_position_x}\",\\n          \"position_y\": \"{battery_position_y}\",\\n          \"position_z\": \"{battery_position_z}\"\\n        },\\n        {\\n          \"type\": \"Retrieve\",\\n          \"object\": \"a charging station\",\\n          \"position_x\": \"{battery_position_x}\",\\n          \"position_y\": \"{battery_position_y}\",\\n          \"position_z\": \"{battery_position_z}\"\\n        },\\n        {\\n          \"type\": \"Retrieve\",\\n          \"object\": \"a charging cable\",\\n          \"position_x\": \"{battery_position_x}\",\\n          \"position_y\": \"{battery_position_y}\",\\n          \"position_z\": \"{battery_position_z}\"\\n        },\\n        {\\n          \"type\": \"Retrieve\",\\n          \"object\": \"a power adapter\",\\n          \"position_x\": \"{battery_position_x}\",\\n          \"position_y\": \"{battery_position_y}\",\\n          \"position_z\": \"{battery_position_z}\"\\n        },\\n        {\\n          \"type\": \"Retrieve\",\\n          \"object\": \"a charging station\",\\n          \"position_x\": \"{battery_position_x}\",\\n          \"position_y\": \"{battery_position_y}\",\\n          \"position_z\": \"{battery_position_z}\"\\n        }\\n      ]\\n    }\\n}\\n',\n",
       "    [\"JSON Parsing Error: Expecting ',' delimiter: line 60 column 1 (char 1768)\"]],\n",
       "   ['\\n  <sequence>\\n    <retry nodes>\\n      <sequence>\\n        <pick object=\"stack of wood\" grip_strength=\"medium\" precision=\"high\" />\\n        <sequence>\\n          <align object=\"stack of wood\" />\\n          <retry nodes>\\n            <sequence>\\n              <move object=\"stack of wood\" position_x=\"25.4\" />\\n              <retry nodes>\\n                <sequence>\\n                  <pick object=\"stack of wood\" grip_strength=\"medium\" precision=\"high\" />\\n                  <sequence>\\n                    <align object=\"stack of wood\" />\\n                    <retry nodes>\\n                      <sequence>\\n                        <move object=\"stack of wood\" position_x=\"25.4\" />\\n                        <retry nodes>\\n                          <sequence>\\n                            <align object=\"stack of wood\" />\\n                          </sequence>\\n                        </retry>\\n                      </sequence>\\n                    </retry>\\n                  </sequence>\\n                </sequence>\\n              </retry>\\n            </sequence>\\n          </retry>\\n        </sequence>\\n      </retry>\\n    </sequence>\\n  ',\n",
       "    ['JSON Parsing Error: Expecting value: line 2 column 3 (char 3)']]],\n",
       "  'valid': ['\\n  {\\n    \"type\": \"Sequence\",\\n    \"name\": \"RetrieveAndPlaceAppleSequence\",\\n    \"nodes\": [\\n      {\\n        \"type\": \"Retry\",\\n        \"retries\": 3,\\n        \"nodes\": [\\n          {\\n            \"type\": \"Locate\",\\n            \"object\": \"red apple sitting on the kitchen counter\",\\n            \"position_x\": \"{apple_position_x}\",\\n            \"position_y\": \"{apple_position_y}\",\\n            \"position_z\": \"{apple_position_z}\"\\n          },\\n          {\\n            \"type\": \"Navigate\",\\n            \"x\": \"{apple_position_x}\",\\n            \"y\": \"{apple_position_y}\",\\n            \"z\": \"{apple_position_z}\"\\n          },\\n          {\\n            \"type\": \"Pick\",\\n            \"object\": \"red apple sitting on the kitchen counter\",\\n            \"grip_strength\": \"medium\",\\n            \"precision\": \"high\"\\n          },\\n          {\\n            \"type\": \"Place\",\\n            \"object\": \"red apple\",\\n            \"surface\": \"wooden cutting board on the dining table\",\\n            \"orientation\": \"upright\",\\n            \"alignment\": \"center\"\\n          }\\n        ]\\n      },\\n      {\\n        \"type\": \"Retry\",\\n        \"retries\": 2,\\n        \"nodes\": [\\n          {\\n            \"type\": \"Navigate\",\\n            \"x\": \"4.5\",\\n            \"y\": \"2.2\"\\n          }\\n        ]\\n      },\\n      {\\n        \"type\": \"Retry\",\\n        \"retries\": 2,\\n        \"nodes\": [\\n          {\\n            \"type\": \"Place\",\\n            \"object\": \"red apple\",\\n            \"surface\": \"wooden cutting board on the dining table\",\\n            \"orientation\": \"upright\",\\n            \"alignment\": \"center\"\\n          }\\n        ]\\n      }\\n    ]\\n  }\\n',\n",
       "   '\\n{\\n  \"type\": \"Sequence\",\\n  \"name\": \"PickAndPlacePlateSequence\",\\n  \"nodes\": [\\n    {\\n      \"type\": \"Retry\",\\n      \"retries\": 3,\\n      \"nodes\": [\\n        {\\n          \"type\": \"Locate\",\\n          \"object\": \"ceramic plate with some bread crumbs\",\\n          \"position_x\": \"2.7\",\\n          \"position_y\": \"2.0\",\\n          \"position_z\": \"0.85\"\\n        }\\n      ]\\n    },\\n    {\\n      \"type\": \"Retry\",\\n      \"retries\": 2,\\n      \"nodes\": [\\n        {\\n          \"type\": \"Navigate\",\\n          \"x\": \"2.7\",\\n          \"y\": \"2.0\"\\n        }\\n      ]\\n    },\\n    {\\n      \"type\": \"Retry\",\\n      \"retries\": 2,\\n      \"nodes\": [\\n        {\\n          \"type\": \"Pick\",\\n          \"object\": \"ceramic plate with some bread crumbs\",\\n          \"grip_strength\": \"low\",\\n          \"precision\": \"low\"\\n        }\\n      ]\\n    },\\n    {\\n      \"type\": \"Retry\",\\n      \"retries\": 2,\\n      \"nodes\": [\\n        {\\n          \"type\": \"Place\",\\n          \"object\": \"ceramic plate with some bread crumbs\",\\n          \"surface\": \"wooden cutting board on the dining table\",\\n          \"orientation\": \"upright\",\\n          \"alignment\": \"center\"\\n        }\\n      ]\\n    }\\n  ]\\n}\\n',\n",
       "   '\\n    {\\n      \"type\": \"Sequence\",\\n      \"name\": \"NavigateToHelmetSequence\",\\n      \"nodes\": [\\n        {\\n          \"type\": \"Retry\",\\n          \"retries\": 3,\\n          \"nodes\": [\\n            {\\n              \"type\": \"Locate\",\\n              \"object\": \"safety helmet\",\\n              \"position_x\": \"{helmet_position_x}\",\\n              \"position_y\": \"{helmet_position_y}\",\\n              \"position_z\": \"{helmet_position_z}\"\\n            }\\n          ]\\n        },\\n        {\\n          \"type\": \"Retry\",\\n          \"retries\": 2,\\n          \"nodes\": [\\n            {\\n              \"type\": \"Navigate\",\\n              \"x\": \"{helmet_position_x}\",\\n              \"y\": \"{helmet_position_y}\",\\n              \"z\": \"{helmet_position_z}\"\\n            }\\n          ]\\n        },\\n        {\\n          \"type\": \"Retry\",\\n          \"retries\": 2,\\n          \"nodes\": [\\n            {\\n              \"type\": \"Pick\",\\n              \"object\": \"safety helmet\",\\n              \"grip_strength\": \"low\",\\n              \"precision\": \"low\"\\n            }\\n          ]\\n        },\\n        {\\n          \"type\": \"Retry\",\\n          \"retries\": 2,\\n          \"nodes\": [\\n            {\\n              \"type\": \"Place\",\\n              \"object\": \"safety helmet\",\\n              \"surface\": \"wooden cutting board on the dining table\",\\n              \"orientation\": \"upright\",\\n              \"alignment\": \"center\"\\n            }\\n          ]\\n        }\\n      ]\\n    }\\n',\n",
       "   '\\n    {\\n        \"type\": \"Sequence\",\\n        \"name\": \"NavigateToDestinationSequence\",\\n        \"nodes\": [\\n            {\\n                \"type\": \"Retry\",\\n                \"retries\": 3,\\n                \"nodes\": [\\n                    {\\n                        \"type\": \"Locate\",\\n                        \"object\": \"a wooden cutting board on the dining table\",\\n                        \"position_x\": \"{position_x_board}\",\\n                        \"position_y\": \"{position_y_board}\",\\n                        \"position_z\": \"{position_z_board}\"\\n                    }\\n                ]\\n            },\\n            {\\n                \"type\": \"Navigate\",\\n                \"x\": \"20.5\",\\n                \"y\": \"3.4\",\\n                \"z\": \"1.3\"\\n            },\\n            {\\n                \"type\": \"Retry\",\\n                \"retries\": 2,\\n                \"nodes\": [\\n                    {\\n                        \"type\": \"Pick\",\\n                        \"object\": \"a wooden cutting board on the dining table\",\\n                        \"grip_strength\": \"medium\",\\n                        \"precision\": \"high\"\\n                    }\\n                ]\\n            },\\n            {\\n                \"type\": \"Retry\",\\n                \"retries\": 2,\\n                \"nodes\": [\\n                    {\\n                        \"type\": \"Place\",\\n                        \"object\": \"a wooden cutting board on the dining table\",\\n                        \"surface\": \"wooden cutting board on the dining table\",\\n                        \"orientation\": \"upright\",\\n                        \"alignment\": \"center\"\\n                    }\\n                ]\\n            }\\n        ]\\n    }\\n',\n",
       "   '\\n  {\\n    \"type\": \"Sequence\",\\n    \"name\": \"RetrieveAndPlaceAppleSequence\",\\n    \"nodes\": [\\n      {\\n        \"type\": \"Retry\",\\n        \"retries\": 3,\\n        \"nodes\": [\\n          {\\n            \"type\": \"Locate\",\\n            \"object\": \"smartphone\",\\n            \"position_x\": \"{smartphone_position_x}\",\\n            \"position_y\": \"{smartphone_position_y}\",\\n            \"position_z\": \"{smartphone_position_z}\"\\n          }\\n        ]\\n      },\\n      {\\n        \"type\": \"Retry\",\\n        \"retries\": 2,\\n        \"nodes\": [\\n          {\\n            \"type\": \"Navigate\",\\n            \"x\": \"{smartphone_position_x}\",\\n            \"y\": \"{smartphone_position_y}\",\\n            \"z\": \"{smartphone_position_z}\"\\n          }\\n        ]\\n      },\\n      {\\n        \"type\": \"Retry\",\\n        \"retries\": 2,\\n        \"nodes\": [\\n          {\\n            \"type\": \"Pick\",\\n            \"object\": \"smartphone\",\\n            \"grip_strength\": \"medium\",\\n            \"precision\": \"high\"\\n          }\\n        ]\\n      },\\n      {\\n        \"type\": \"Retry\",\\n        \"retries\": 2,\\n        \"nodes\": [\\n          {\\n            \"type\": \"Place\",\\n            \"object\": \"smartphone\",\\n            \"surface\": \"wooden cutting board on the dining table\",\\n            \"orientation\": \"upright\",\\n            \"alignment\": \"center\"\\n          }\\n        ]\\n      }\\n    ]\\n  }\\n',\n",
       "   '\\n{\\n  \"type\": \"Sequence\",\\n  \"name\": \"PickAndPlaceGlovesSequence\",\\n  \"nodes\": [\\n    {\\n      \"type\": \"Retry\",\\n      \"retries\": 3,\\n      \"nodes\": [\\n        {\\n          \"type\": \"Locate\",\\n          \"object\": \"pair of gloves\",\\n          \"position_x\": \"{gloves_position_x}\",\\n          \"position_y\": \"{gloves_position_y}\",\\n          \"position_z\": \"{gloves_position_z}\"\\n        },\\n        {\\n          \"type\": \"Navigate\",\\n          \"x\": \"{gloves_position_x}\",\\n          \"y\": \"{gloves_position_y}\",\\n          \"z\": \"{gloves_position_z}\"\\n        }\\n      ]\\n    },\\n    {\\n      \"type\": \"Retry\",\\n      \"retries\": 2,\\n      \"nodes\": [\\n        {\\n          \"type\": \"Pick\",\\n          \"object\": \"pair of gloves\",\\n          \"grip_strength\": \"medium\",\\n          \"precision\": \"high\"\\n        },\\n        {\\n          \"type\": \"Retry\",\\n          \"retries\": 2,\\n          \"nodes\": [\\n            {\\n              \"type\": \"Place\",\\n              \"object\": \"pair of gloves\",\\n              \"surface\": \"tarp\",\\n              \"orientation\": \"upright\",\\n              \"alignment\": \"center\"\\n            }\\n          ]\\n        }\\n      ]\\n    },\\n    {\\n      \"type\": \"Retry\",\\n      \"retries\": 2,\\n      \"nodes\": [\\n        {\\n          \"type\": \"Locate\",\\n          \"object\": \"pair of gloves\",\\n          \"position_x\": \"{gloves_position_x}\",\\n          \"position_y\": \"{gloves_position_y}\",\\n          \"position_z\": \"{gloves_position_z}\"\\n        },\\n        {\\n          \"type\": \"Retry\",\\n          \"retries\": 2,\\n          \"nodes\": [\\n            {\\n              \"type\": \"Navigate\",\\n              \"x\": \"{gloves_position_x}\",\\n              \"y\": \"{gloves_position_y}\",\\n              \"z\": \"{gloves_position_z}\"\\n            }\\n          ]\\n        }\\n      ]\\n    }\\n  ]\\n}\\n',\n",
       "   '\\n{\\n  \"type\": \"Sequence\",\\n  \"name\": \"NavigateToBootsSequence\",\\n  \"nodes\": [\\n    {\\n      \"type\": \"Locate\",\\n      \"object\": \"pair of boots\",\\n      \"position_x\": \"14.5\",\\n      \"position_y\": \"4.2\",\\n      \"position_z\": \"0.6\"\\n    },\\n    {\\n      \"type\": \"Wait\",\\n      \"duration\": \"5.0\",\\n      \"position_x\": \"14.5\",\\n      \"position_y\": \"4.2\",\\n      \"position_z\": \"0.6\"\\n    },\\n    {\\n      \"type\": \"Navigate\",\\n      \"x\": \"20.3\",\\n      \"y\": \"9.2\",\\n      \"z\": \"1.5\",\\n      \"position_x\": \"14.5\",\\n      \"position_y\": \"4.2\",\\n      \"position_z\": \"0.6\"\\n    }\\n  ]\\n}\\n',\n",
       "   '\\n  {\\n    \"type\": \"Sequence\",\\n    \"name\": \"RetrieveAndPlaceWaterBottleSequence\",\\n    \"nodes\": [\\n      {\\n        \"type\": \"Retry\",\\n        \"retries\": 3,\\n        \"nodes\": [\\n          {\\n            \"type\": \"Locate\",\\n            \"object\": \"water bottle sitting on the kitchen counter\",\\n            \"position_x\": \"{water_bottle_position_x}\",\\n            \"position_y\": \"{water_bottle_position_y}\",\\n            \"position_z\": \"{water_bottle_position_z}\"\\n          }\\n        ]\\n      },\\n      {\\n        \"type\": \"Retry\",\\n        \"retries\": 2,\\n        \"nodes\": [\\n          {\\n            \"type\": \"Navigate\",\\n            \"x\": \"{water_bottle_position_x}\",\\n            \"y\": \"{water_bottle_position_y}\"\\n          }\\n        ]\\n      },\\n      {\\n        \"type\": \"Retry\",\\n        \"retries\": 2,\\n        \"nodes\": [\\n          {\\n            \"type\": \"Pick\",\\n            \"object\": \"water bottle\",\\n            \"grip_strength\": \"medium\",\\n            \"precision\": \"high\"\\n          }\\n        ]\\n      },\\n      {\\n        \"type\": \"Retry\",\\n        \"retries\": 2,\\n        \"nodes\": [\\n          {\\n            \"type\": \"Place\",\\n            \"object\": \"water bottle\",\\n            \"surface\": \"map\",\\n            \"orientation\": \"upright\",\\n            \"alignment\": \"center\"\\n          }\\n        ]\\n      }\\n    ]\\n  }\\n',\n",
       "   '\\n{\\n  \"type\": \"Sequence\",\\n  \"name\": \"NavigateToTargetSequence\",\\n  \"nodes\": [\\n    {\\n      \"type\": \"Retry\",\\n      \"retries\": 3,\\n      \"nodes\": [\\n        {\\n          \"type\": \"Locate\",\\n          \"object\": \"a wooden cutting board on the dining table\",\\n          \"position_x\": \"4.5\",\\n          \"position_y\": \"2.2\",\\n          \"position_z\": \"0.75\"\\n        }\\n      ]\\n    },\\n    {\\n      \"type\": \"Retry\",\\n      \"retries\": 2,\\n      \"nodes\": [\\n        {\\n          \"type\": \"Navigate\",\\n          \"x\": \"4.2\",\\n          \"y\": \"1.8\",\\n          \"z\": \"0.85\"\\n        }\\n      ]\\n    },\\n    {\\n      \"type\": \"Retry\",\\n      \"retries\": 2,\\n      \"nodes\": [\\n        {\\n          \"type\": \"Pick\",\\n          \"object\": \"a wooden cutting board on the dining table\",\\n          \"grip_strength\": \"medium\",\\n          \"precision\": \"high\"\\n        }\\n      ]\\n    },\\n    {\\n      \"type\": \"Retry\",\\n      \"retries\": 2,\\n      \"nodes\": [\\n        {\\n          \"type\": \"Place\",\\n          \"object\": \"a wooden cutting board on the dining table\",\\n          \"surface\": \"wooden cutting board on the dining table\",\\n          \"orientation\": \"upright\",\\n          \"alignment\": \"center\"\\n        }\\n      ]\\n    }\\n  ]\\n}\\n',\n",
       "   '\\n  { \"type\": \"Sequence\", \"name\": \"NavigateBackward\", \"nodes\": [\\n    {\\n      \"type\": \"Retry\", \"retries\": 2, \"nodes\": [\\n        {\\n          \"type\": \"Navigate\", \"x\": \"4.5\", \"y\": \"2.2\", \"z\": \"0.75\"\\n        }\\n      ]\\n    }\\n  ] }\\n',\n",
       "   '\\n    {\\n        \"type\": \"Sequence\",\\n        \"name\": \"RetrieveAndPlaceBackpackSequence\",\\n        \"nodes\": [\\n            {\\n                \"type\": \"Retry\",\\n                \"retries\": 3,\\n                \"nodes\": [\\n                    {\\n                        \"type\": \"Locate\",\\n                        \"object\": \"backpack\",\\n                        \"position_x\": \"{backpack_position_x}\",\\n                        \"position_y\": \"{backpack_position_y}\",\\n                        \"position_z\": \"{backpack_position_z}\"\\n                    }\\n                ]\\n            },\\n            {\\n                \"type\": \"Retry\",\\n                \"retries\": 2,\\n                \"nodes\": [\\n                    {\\n                        \"type\": \"Navigate\",\\n                        \"x\": \"{backpack_position_x}\",\\n                        \"y\": \"{backpack_position_y}\",\\n                        \"z\": \"{backpack_position_z}\"\\n                    }\\n                ]\\n            },\\n            {\\n                \"type\": \"Retry\",\\n                \"retries\": 2,\\n                \"nodes\": [\\n                    {\\n                        \"type\": \"Place\",\\n                        \"object\": \"backpack\",\\n                        \"surface\": \"folding chair\",\\n                        \"orientation\": \"upright\",\\n                        \"alignment\": \"center\"\\n                    }\\n                ]\\n            }\\n        ]\\n    }\\n',\n",
       "   '\\n  {\\n    \"type\": \"Sequence\",\\n    \"name\": \"LocateAndNavigateSequence\",\\n    \"nodes\": [\\n      {\\n        \"type\": \"Retry\",\\n        \"retries\": 3,\\n        \"nodes\": [\\n          {\\n            \"type\": \"Locate\",\\n            \"object\": \"tarp sitting on the ground next to the shed\",\\n            \"position_x\": \"2.7\",\\n            \"position_y\": \"2.0\",\\n            \"position_z\": \"0.85\"\\n          }\\n        ]\\n      },\\n      {\\n        \"type\": \"Retry\",\\n        \"retries\": 2,\\n        \"nodes\": [\\n          {\\n            \"type\": \"Navigate\",\\n            \"x\": \"2.7\",\\n            \"y\": \"2.0\"\\n          }\\n        ]\\n      },\\n      {\\n        \"type\": \"Retry\",\\n        \"retries\": 2,\\n        \"nodes\": [\\n          {\\n            \"type\": \"Pick\",\\n            \"object\": \"tarp sitting on the ground next to the shed\",\\n            \"grip_strength\": \"medium\",\\n            \"precision\": \"high\"\\n          }\\n        ]\\n      },\\n      {\\n        \"type\": \"Retry\",\\n        \"retries\": 2,\\n        \"nodes\": [\\n          {\\n            \"type\": \"Place\",\\n            \"object\": \"tarp sitting on the ground next to the shed\",\\n            \"surface\": \"wooden shed\",\\n            \"orientation\": \"upright\",\\n            \"alignment\": \"center\"\\n          }\\n        ]\\n      }\\n    ]\\n  }\\n',\n",
       "   '\\n  {\\n    \"type\": \"Sequence\",\\n    \"name\": \"NavigateAndPositionSequence\",\\n    \"nodes\": [\\n      {\\n        \"type\": \"Retry\",\\n        \"retries\": 3,\\n        \"nodes\": [\\n          {\\n            \"type\": \"Locate\",\\n            \"object\": \"a hammer\",\\n            \"position_x\": \"1.8\",\\n            \"position_y\": \"2.1\",\\n            \"position_z\": \"0.8\"\\n          }\\n        ]\\n      },\\n      {\\n        \"type\": \"Retry\",\\n        \"retries\": 2,\\n        \"nodes\": [\\n          {\\n            \"type\": \"Navigate\",\\n            \"x\": \"2.7\",\\n            \"y\": \"2.0\",\\n            \"z\": \"0.85\"\\n          }\\n        ]\\n      },\\n      {\\n        \"type\": \"Retry\",\\n        \"retries\": 2,\\n        \"nodes\": [\\n          {\\n            \"type\": \"Pick\",\\n            \"object\": \"a ceramic plate with some bread crumbs\",\\n            \"grip_strength\": \"low\",\\n            \"precision\": \"high\"\\n          }\\n        ]\\n      },\\n      {\\n        \"type\": \"Retry\",\\n        \"retries\": 2,\\n        \"nodes\": [\\n          {\\n            \"type\": \"Place\",\\n            \"object\": \"a hammer\",\\n            \"surface\": \"a wooden cutting board on the dining table\",\\n            \"orientation\": \"upright\",\\n            \"alignment\": \"center\"\\n          }\\n        ]\\n      },\\n      {\\n        \"type\": \"Retry\",\\n        \"retries\": 3,\\n        \"nodes\": [\\n          {\\n            \"type\": \"Navigate\",\\n            \"x\": \"2.7\",\\n            \"y\": \"2.0\",\\n            \"z\": \"0.85\"\\n          }\\n        ]\\n      }\\n    ]\\n  }\\n',\n",
       "   '\\n    {\\n      \"type\": \"Sequence\",\\n      \"name\": \"RetrieveAndPlaceGlassCupSequence\",\\n      \"nodes\": [\\n        {\\n          \"type\": \"Retry\",\\n          \"retries\": 3,\\n          \"nodes\": [\\n            {\\n              \"type\": \"Locate\",\\n              \"object\": \"empty glass cup next to the sink\",\\n              \"position_x\": \"{cup_position_x}\",\\n              \"position_y\": \"{cup_position_y}\",\\n              \"position_z\": \"{cup_position_z}\"\\n            }\\n          ]\\n        },\\n        {\\n          \"type\": \"Retry\",\\n          \"retries\": 2,\\n          \"nodes\": [\\n            {\\n              \"type\": \"Navigate\",\\n              \"x\": \"{cup_position_x}\",\\n              \"y\": \"{cup_position_y}\",\\n              \"z\": \"{cup_position_z}\"\\n            }\\n          ]\\n        },\\n        {\\n          \"type\": \"Retry\",\\n          \"retries\": 2,\\n          \"nodes\": [\\n            {\\n              \"type\": \"Pick\",\\n              \"object\": \"empty glass cup next to the sink\",\\n              \"grip_strength\": \"low\",\\n              \"precision\": \"low\"\\n            }\\n          ]\\n        },\\n        {\\n          \"type\": \"Retry\",\\n          \"retries\": 2,\\n          \"nodes\": [\\n            {\\n              \"type\": \"Place\",\\n              \"object\": \"empty glass cup next to the sink\",\\n              \"surface\": \"empty glass cup\",\\n              \"orientation\": \"upright\",\\n              \"alignment\": \"center\"\\n            }\\n          ]\\n        },\\n        {\\n          \"type\": \"Retry\",\\n          \"retries\": 2,\\n          \"nodes\": [\\n            {\\n              \"type\": \"Navigate\",\\n              \"x\": \"{cup_position_x}\",\\n              \"y\": \"{cup_position_y}\",\\n              \"z\": \"{cup_position_z}\"\\n            }\\n          ]\\n        },\\n        {\\n          \"type\": \"Retry\",\\n          \"retries\": 2,\\n          \"nodes\": [\\n            {\\n              \"type\": \"Place\",\\n              \"object\": \"empty glass cup next to the sink\",\\n              \"surface\": \"empty glass cup\",\\n              \"orientation\": \"upright\",\\n              \"alignment\": \"center\"\\n            }\\n          ]\\n        }\\n      ]\\n    }\\n',\n",
       "   '\\n    { \"type\": \"Locate\", \"object\": \"medical splint\", \"position_x\": \"{medical_splint_position_x}\", \"position_y\": \"{medical_splint_position_y}\", \"position_z\": \"{medical_splint_position_z}\" }\\n',\n",
       "   '\\n    {\\n      \"type\": \"Sequence\",\\n      \"name\": \"RetrieveAndPlaceLadderSequence\",\\n      \"nodes\": [\\n        {\\n          \"type\": \"Retry\",\\n          \"retries\": 3,\\n          \"nodes\": [\\n            {\\n              \"type\": \"Locate\",\\n              \"object\": \"ladder\",\\n              \"position_x\": \"1.8\",\\n              \"position_y\": \"2.1\",\\n              \"position_z\": \"0.85\"\\n            },\\n            {\\n              \"type\": \"Navigate\",\\n              \"x\": \"2.2\",\\n              \"y\": \"2.5\",\\n              \"z\": \"0.85\"\\n            },\\n            {\\n              \"type\": \"Retry\",\\n              \"retries\": 2,\\n              \"nodes\": [\\n                {\\n                  \"type\": \"Pick\",\\n                  \"object\": \"ladder\",\\n                  \"grip_strength\": \"medium\",\\n                  \"precision\": \"low\"\\n                },\\n                {\\n                  \"type\": \"Retry\",\\n                  \"retries\": 2,\\n                  \"nodes\": [\\n                    {\\n                      \"type\": \"Place\",\\n                      \"object\": \"ladder\",\\n                      \"surface\": \"stack of wood\",\\n                      \"orientation\": \"upright\",\\n                      \"alignment\": \"center\"\\n                    }\\n                  ]\\n                }\\n              ]\\n            },\\n            {\\n              \"type\": \"Retry\",\\n              \"retries\": 2,\\n              \"nodes\": [\\n                {\\n                  \"type\": \"Locate\",\\n                  \"object\": \"stack of wood\",\\n                  \"position_x\": \"1.5\",\\n                  \"position_y\": \"2.0\",\\n                  \"position_z\": \"0.8\"\\n                },\\n                {\\n                  \"type\": \"Retry\",\\n                  \"retries\": 2,\\n                  \"nodes\": [\\n                    {\\n                      \"type\": \"Navigate\",\\n                      \"x\": \"2.2\",\\n                      \"y\": \"2.5\",\\n                      \"z\": \"0.8\"\\n                    },\\n                    {\\n                      \"type\": \"Retry\",\\n                      \"retries\": 2,\\n                      \"nodes\": [\\n                        {\\n                          \"type\": \"Place\",\\n                          \"object\": \"stack of wood\",\\n                          \"surface\": \"ladder\",\\n                          \"orientation\": \"upright\",\\n                          \"alignment\": \"center\"\\n                        }\\n                      ]\\n                    }\\n                  ]\\n                }\\n              ]\\n            }\\n          ]\\n        }\\n      ]\\n    }\\n',\n",
       "   '\\n  {\\n    \"type\": \"Locate\",\\n    \"object\": \"compass\",\\n    \"position_x\": \"12.3\",\\n    \"position_y\": \"5.8\",\\n    \"position_z\": \"1.0\"\\n  }\\n',\n",
       "   '\\n  {\\n    \"type\": \"Sequence\",\\n    \"name\": \"TarpSetupSequence\",\\n    \"nodes\": [\\n      {\\n        \"type\": \"Locate\",\\n        \"object\": \"a tarp\",\\n        \"position_x\": \"12.3\",\\n        \"position_y\": \"5.8\",\\n        \"position_z\": \"1.0\"\\n      },\\n      {\\n        \"type\": \"Pick\",\\n        \"object\": \"a tarp\",\\n        \"grip_strength\": \"medium\",\\n        \"precision\": \"high\"\\n      },\\n      {\\n        \"type\": \"Place\",\\n        \"object\": \"a tarp\",\\n        \"surface\": \"a stack of wood\",\\n        \"orientation\": \"upright\",\\n        \"alignment\": \"center\"\\n      },\\n      {\\n        \"type\": \"Retry\",\\n        \"retries\": 3,\\n        \"nodes\": [\\n          {\\n            \"type\": \"Navigate\",\\n            \"x\": \"12.3\",\\n            \"y\": \"5.8\",\\n            \"z\": \"1.0\"\\n          }\\n        ]\\n      },\\n      {\\n        \"type\": \"Retry\",\\n        \"retries\": 2,\\n        \"nodes\": [\\n          {\\n            \"type\": \"Pick\",\\n            \"object\": \"a tarp\",\\n            \"grip_strength\": \"medium\",\\n            \"precision\": \"high\"\\n          }\\n        ]\\n      },\\n      {\\n        \"type\": \"Retry\",\\n        \"retries\": 2,\\n        \"nodes\": [\\n          {\\n            \"type\": \"Place\",\\n            \"object\": \"a tarp\",\\n            \"surface\": \"a stack of wood\",\\n            \"orientation\": \"upright\",\\n            \"alignment\": \"center\"\\n          }\\n        ]\\n      },\\n      {\\n        \"type\": \"Retry\",\\n        \"retries\": 2,\\n        \"nodes\": [\\n          {\\n            \"type\": \"Navigate\",\\n            \"x\": \"12.3\",\\n            \"y\": \"5.8\",\\n            \"z\": \"1.0\"\\n          }\\n        ]\\n      },\\n      {\\n        \"type\": \"Retry\",\\n        \"retries\": 2,\\n        \"nodes\": [\\n          {\\n            \"type\": \"Pick\",\\n            \"object\": \"a tarp\",\\n            \"grip_strength\": \"medium\",\\n            \"precision\": \"high\"\\n          }\\n        ]\\n      },\\n      {\\n        \"type\": \"Retry\",\\n        \"retries\": 2,\\n        \"nodes\": [\\n          {\\n            \"type\": \"Place\",\\n            \"object\": \"a tarp\",\\n            \"surface\": \"a stack of wood\",\\n            \"orientation\": \"upright\",\\n            \"alignment\": \"center\"\\n          }\\n        ]\\n      }\\n    ]\\n  }\\n',\n",
       "   '\\n  {\\n    \"type\": \"Sequence\",\\n    \"name\": \"NavigateToFoldingChairSequence\",\\n    \"nodes\": [\\n      {\\n        \"type\": \"Retry\",\\n        \"retries\": 3,\\n        \"nodes\": [\\n          {\\n            \"type\": \"Locate\",\\n            \"object\": \"folding chair\",\\n            \"position_x\": \"{foldingChairPositionX}\",\\n            \"position_y\": \"{foldingChairPositionY}\",\\n            \"position_z\": \"{foldingChairPositionZ}\"\\n          },\\n          {\\n            \"type\": \"Navigate\",\\n            \"x\": \"{foldingChairPositionX}\",\\n            \"y\": \"{foldingChairPositionY}\",\\n            \"z\": \"{foldingChairPositionZ}\"\\n          }\\n        ]\\n      },\\n      {\\n        \"type\": \"Retry\",\\n        \"retries\": 2,\\n        \"nodes\": [\\n          {\\n            \"type\": \"Pick\",\\n            \"object\": \"folding chair\",\\n            \"grip_strength\": \"medium\",\\n            \"precision\": \"high\"\\n          }\\n        ]\\n      },\\n      {\\n        \"type\": \"Retry\",\\n        \"retries\": 2,\\n        \"nodes\": [\\n          {\\n            \"type\": \"Place\",\\n            \"object\": \"folding chair\",\\n            \"surface\": \"wooden cutting board on the dining table\",\\n            \"orientation\": \"upright\",\\n            \"alignment\": \"center\"\\n          }\\n        ]\\n      }\\n    ]\\n  }\\n',\n",
       "   '\\n  { \"type\": \"Sequence\", \"name\": \"NavigateToDestinationSequence\", \"nodes\": [\\n    {\\n      \"type\": \"Retry\", \"retries\": 3, \"nodes\": [\\n        {\\n          \"type\": \"Locate\", \"object\": \"a walking stick leaning against the wall near the door\", \"position_x\": \"2.3\", \"position_y\": \"2.1\", \"position_z\": \"0.85\"\\n        },\\n        {\\n          \"type\": \"Navigate\", \"x\": \"4.7\", \"y\": \"2.0\", \"z\": \"0.75\"\\n        },\\n        {\\n          \"type\": \"Retry\", \"retries\": 2, \"nodes\": [\\n            {\\n              \"type\": \"Pick\", \"object\": \"a walking stick leaning against the wall near the door\", \"grip_strength\": \"low\", \"precision\": \"low\"\\n            },\\n            {\\n              \"type\": \"Retry\", \"retries\": 2, \"nodes\": [\\n                {\\n                  \"type\": \"Place\", \"object\": \"a walking stick leaning against the wall near the door\", \"surface\": \"wooden wall near the door\", \"orientation\": \"upright\", \"alignment\": \"center\"\\n                }\\n              ]\\n            }\\n          ]\\n        },\\n        {\\n          \"type\": \"Retry\", \"retries\": 2, \"nodes\": [\\n            {\\n              \"type\": \"Navigate\", \"x\": \"4.5\", \"y\": \"2.2\", \"z\": \"0.75\"\\n            },\\n            {\\n              \"type\": \"Retry\", \"retries\": 2, \"nodes\": [\\n                {\\n                  \"type\": \"Place\", \"object\": \"a walking stick leaning against the wall near the door\", \"surface\": \"wooden wall near the door\", \"orientation\": \"upright\", \"alignment\": \"center\"\\n                }\\n              ]\\n            }\\n          ]\\n        }\\n      ]\\n    }\\n  ]\\n}\\n',\n",
       "   '\\n  {\\n    \"type\": \"Sequence\",\\n    \"name\": \"RetrieveAndPlaceBlanketSequence\",\\n    \"nodes\": [\\n      {\\n        \"type\": \"Retry\",\\n        \"retries\": 3,\\n        \"nodes\": [\\n          {\\n            \"type\": \"Locate\",\\n            \"object\": \"thermal blanket sitting on the kitchen counter\",\\n            \"position_x\": \"{blanket_position_x}\",\\n            \"position_y\": \"{blanket_position_y}\",\\n            \"position_z\": \"{blanket_position_z}\"\\n          }\\n        ]\\n      },\\n      {\\n        \"type\": \"Retry\",\\n        \"retries\": 2,\\n        \"nodes\": [\\n          {\\n            \"type\": \"Navigate\",\\n            \"x\": \"{blanket_position_x}\",\\n            \"y\": \"{blanket_position_y}\",\\n            \"z\": \"{blanket_position_z}\"\\n          }\\n        ]\\n      },\\n      {\\n        \"type\": \"Retry\",\\n        \"retries\": 2,\\n        \"nodes\": [\\n          {\\n            \"type\": \"Pick\",\\n            \"object\": \"thermal blanket\",\\n            \"grip_strength\": \"low\",\\n            \"precision\": \"low\"\\n          }\\n        ]\\n      },\\n      {\\n        \"type\": \"Retry\",\\n        \"retries\": 2,\\n        \"nodes\": [\\n          {\\n            \"type\": \"Place\",\\n            \"object\": \"thermal blanket\",\\n            \"surface\": \"sleeping bag\",\\n            \"orientation\": \"upright\",\\n            \"alignment\": \"center\"\\n          }\\n        ]\\n      }\\n    ]\\n  }\\n',\n",
       "   '\\n{\\n  \"type\": \"Sequence\",\\n  \"name\": \"RetrieveAndPlaceWalkieTalkieSequence\",\\n  \"nodes\": [\\n    {\\n      \"type\": \"Locate\",\\n      \"object\": \"walkie-talkie\",\\n      \"position_x\": \"1.8\",\\n      \"position_y\": \"2.1\",\\n      \"position_z\": \"0.85\"\\n    },\\n    {\\n      \"type\": \"Pick\",\\n      \"object\": \"walkie-talkie\",\\n      \"grip_strength\": \"medium\",\\n      \"precision\": \"high\"\\n    },\\n    {\\n      \"type\": \"Place\",\\n      \"object\": \"walkie-talkie\",\\n      \"surface\": \"backpack\",\\n      \"orientation\": \"upright\",\\n      \"alignment\": \"center\"\\n    },\\n    {\\n      \"type\": \"Retry\",\\n      \"retries\": 2,\\n      \"nodes\": [\\n        {\\n          \"type\": \"Navigate\",\\n          \"x\": \"1.8\",\\n          \"y\": \"2.1\"\\n        }\\n      ]\\n    },\\n    {\\n      \"type\": \"Retry\",\\n      \"retries\": 2,\\n      \"nodes\": [\\n        {\\n          \"type\": \"Locate\",\\n          \"object\": \"solar-powered lantern\",\\n          \"position_x\": \"4.2\",\\n          \"position_y\": \"2.8\",\\n          \"position_z\": \"0.85\"\\n        }\\n      ]\\n    }\\n  ]\\n}\\n',\n",
       "   '\\n    {\\n      \"type\": \"Sequence\",\\n      \"name\": \"NavigateToHelmetSequence\",\\n      \"nodes\": [\\n        {\\n          \"type\": \"Retry\",\\n          \"retries\": 3,\\n          \"nodes\": [\\n            {\\n              \"type\": \"Locate\",\\n              \"object\": \"a safety helmet\",\\n              \"position_x\": \"17.6\",\\n              \"position_y\": \"3.9\",\\n              \"position_z\": \"0.4\"\\n            }\\n          ]\\n        },\\n        {\\n          \"type\": \"Wait\",\\n          \"duration\": \"3.0\"\\n        }\\n      ]\\n    }\\n',\n",
       "   '\\n  { \"type\": \"Sequence\", \"name\": \"RetrieveAndPlaceRiceSequence\", \"nodes\": [\\n    {\\n      \"type\": \"Retry\",\\n      \"retries\": 3,\\n      \"nodes\": [\\n        {\\n          \"type\": \"Locate\",\\n          \"object\": \"bag of rice\",\\n          \"position_x\": \"{rice_position_x}\",\\n          \"position_y\": \"{rice_position_y}\",\\n          \"position_z\": \"{rice_position_z}\"\\n        }\\n      ]\\n    },\\n    {\\n      \"type\": \"Navigate\",\\n      \"x\": \"{rice_position_x}\",\\n      \"y\": \"{rice_position_y}\",\\n      \"z\": \"{rice_position_z}\"\\n    },\\n    {\\n      \"type\": \"Retry\",\\n      \"retries\": 2,\\n      \"nodes\": [\\n        {\\n          \"type\": \"Pick\",\\n          \"object\": \"bag of rice\",\\n          \"grip_strength\": \"low\",\\n          \"precision\": \"low\"\\n        }\\n      ]\\n    },\\n    {\\n      \"type\": \"Retry\",\\n      \"retries\": 2,\\n      \"nodes\": [\\n        {\\n          \"type\": \"Place\",\\n          \"object\": \"bag of rice\",\\n          \"surface\": \"ceramic pot on the cooking stove\",\\n          \"orientation\": \"upright\",\\n          \"alignment\": \"center\"\\n        }\\n      ]\\n    },\\n    {\\n      \"type\": \"Retry\",\\n      \"retries\": 2,\\n      \"nodes\": [\\n        {\\n          \"type\": \"Retry\",\\n          \"retries\": 2,\\n          \"nodes\": [\\n            {\\n              \"type\": \"Locate\",\\n              \"object\": \"ceramic pot\",\\n              \"position_x\": \"{pot_position_x}\",\\n              \"position_y\": \"{pot_position_y}\",\\n              \"position_z\": \"{pot_position_z}\"\\n            }\\n          ]\\n        }\\n      ]\\n    },\\n    {\\n      \"type\": \"Retry\",\\n      \"retries\": 2,\\n      \"nodes\": [\\n        {\\n          \"type\": \"Navigate\",\\n          \"x\": \"{pot_position_x}\",\\n          \"y\": \"{pot_position_y}\",\\n          \"z\": \"{pot_position_z}\"\\n        }\\n      ]\\n    },\\n    {\\n      \"type\": \"Retry\",\\n      \"retries\": 2,\\n      \"nodes\": [\\n        {\\n          \"type\": \"Retry\",\\n          \"retries\": 2,\\n          \"nodes\": [\\n            {\\n              \"type\": \"Place\",\\n              \"object\": \"ceramic pot\",\\n              \"surface\": \"ceramic pot on the cooking stove\",\\n              \"orientation\": \"upright\",\\n              \"alignment\": \"center\"\\n            }\\n          ]\\n        }\\n      ]\\n    }\\n  ]\\n}\\n',\n",
       "   '\\n{\\n  \"type\": \"Sequence\",\\n  \"name\": \"RetrieveAndPlaceFirstAidKitSequence\",\\n  \"nodes\": [\\n    {\\n      \"type\": \"Retry\",\\n      \"retries\": 3,\\n      \"nodes\": [\\n        {\\n          \"type\": \"Locate\",\\n          \"object\": \"first aid kit sitting on the kitchen counter\",\\n          \"position_x\": \"{first_aid_kit_position_x}\",\\n          \"position_y\": \"{first_aid_kit_position_y}\",\\n          \"position_z\": \"{first_aid_kit_position_z}\"\\n        }\\n      ]\\n    },\\n    {\\n      \"type\": \"Retry\",\\n      \"retries\": 2,\\n      \"nodes\": [\\n        {\\n          \"type\": \"Navigate\",\\n          \"x\": \"{first_aid_kit_position_x}\",\\n          \"y\": \"{first_aid_kit_position_y}\",\\n          \"z\": \"{first_aid_kit_position_z}\"\\n        }\\n      ]\\n    },\\n    {\\n      \"type\": \"Retry\",\\n      \"retries\": 2,\\n      \"nodes\": [\\n        {\\n          \"type\": \"Pick\",\\n          \"object\": \"first aid kit\",\\n          \"grip_strength\": \"medium\",\\n          \"precision\": \"high\"\\n        }\\n      ]\\n    },\\n    {\\n      \"type\": \"Retry\",\\n      \"retries\": 2,\\n      \"nodes\": [\\n        {\\n          \"type\": \"Place\",\\n          \"object\": \"first aid kit\",\\n          \"surface\": \"wooden cutting board on the dining table\",\\n          \"orientation\": \"upright\",\\n          \"alignment\": \"center\"\\n        }\\n      ]\\n    }\\n  ]\\n}\\n',\n",
       "   '\\n    { \"type\": \"Sequence\", \"name\": \"NavigateBackwardSequence\", \"nodes\": [\\n        {\\n            \"type\": \"Retry\", \"retries\": 2, \"nodes\": [\\n                {\\n                    \"type\": \"Locate\", \"object\": \"a wooden cutting board on the dining table\", \"position_x\": \"2.7\", \"position_y\": \"2.0\", \"position_z\": \"0.85\"\\n                }\\n            ]\\n        }\\n    ]}\\n',\n",
       "   '\\n  {\\n    \"type\": \"Sequence\",\\n    \"name\": \"LocateCarJackSequence\",\\n    \"nodes\": [\\n      {\\n        \"type\": \"Retry\",\\n        \"retries\": 3,\\n        \"nodes\": [\\n          {\\n            \"type\": \"Locate\",\\n            \"object\": \"car jack sitting on the ground nearby\",\\n            \"position_x\": \"{jack_position_x}\",\\n            \"position_y\": \"{jack_position_y}\",\\n            \"position_z\": \"{jack_position_z}\"\\n          }\\n        ]\\n      },\\n      {\\n        \"type\": \"Retry\",\\n        \"retries\": 2,\\n        \"nodes\": [\\n          {\\n            \"type\": \"Navigate\",\\n            \"x\": \"{jack_position_x}\",\\n            \"y\": \"{jack_position_y}\"\\n          }\\n        ]\\n      },\\n      {\\n        \"type\": \"Retry\",\\n        \"retries\": 2,\\n        \"nodes\": [\\n          {\\n            \"type\": \"Locate\",\\n            \"object\": \"car jack sitting on the ground nearby\",\\n            \"position_x\": \"{jack_position_x}\",\\n            \"position_y\": \"{jack_position_y}\",\\n            \"position_z\": \"{jack_position_z}\"\\n          }\\n        ]\\n      }\\n    ]\\n  }\\n',\n",
       "   '\\n  {\\n    \"type\": \"Sequence\",\\n    \"name\": \"RetrieveAndPlaceNotebookAndPenSequence\",\\n    \"nodes\": [\\n      {\\n        \"type\": \"Retry\",\\n        \"retries\": 3,\\n        \"nodes\": [\\n          {\\n            \"type\": \"Locate\",\\n            \"object\": \"notebook and pen\",\\n            \"position_x\": \"{notebook_position_x}\",\\n            \"position_y\": \"{notebook_position_y}\",\\n            \"position_z\": \"{notebook_position_z}\"\\n          }\\n        ]\\n      },\\n      {\\n        \"type\": \"Retry\",\\n        \"retries\": 2,\\n        \"nodes\": [\\n          {\\n            \"type\": \"Navigate\",\\n            \"x\": \"{notebook_position_x}\",\\n            \"y\": \"{notebook_position_y}\",\\n            \"z\": \"{notebook_position_z}\"\\n          }\\n        ]\\n      },\\n      {\\n        \"type\": \"Retry\",\\n        \"retries\": 2,\\n        \"nodes\": [\\n          {\\n            \"type\": \"Pick\",\\n            \"object\": \"notebook and pen\",\\n            \"grip_strength\": \"medium\",\\n            \"precision\": \"high\"\\n          }\\n        ]\\n      },\\n      {\\n        \"type\": \"Retry\",\\n        \"retries\": 2,\\n        \"nodes\": [\\n          {\\n            \"type\": \"Place\",\\n            \"object\": \"notebook and pen\",\\n            \"surface\": \"wooden cutting board on the dining table\",\\n            \"orientation\": \"upright\",\\n            \"alignment\": \"center\"\\n          }\\n        ]\\n      }\\n    ]\\n  }\\n',\n",
       "   '\\n{\\n  \"type\": \"Sequence\",\\n  \"name\": \"NavigateAndLocateSequence\",\\n  \"nodes\": [\\n    {\\n      \"type\": \"Retry\",\\n      \"retries\": 2,\\n      \"nodes\": [\\n        {\\n          \"type\": \"Locate\",\\n          \"object\": \"a hammer laying on the counter\",\\n          \"position_x\": \"1.5\",\\n          \"position_y\": \"2.1\",\\n          \"position_z\": \"0.85\"\\n        }\\n      ]\\n    },\\n    {\\n      \"type\": \"Retry\",\\n      \"retries\": 2,\\n      \"nodes\": [\\n        {\\n          \"type\": \"Navigate\",\\n          \"x\": \"7.9\",\\n          \"y\": \"6.8\",\\n          \"z\": \"0.3\"\\n        }\\n      ]\\n    }\\n  ]\\n}\\n',\n",
       "   '\\n    {\\n        \"type\": \"Sequence\",\\n        \"name\": \"RetrieveAndPlaceSoupSequence\",\\n        \"nodes\": [\\n            {\\n                \"type\": \"Retry\",\\n                \"retries\": 3,\\n                \"nodes\": [\\n                    {\\n                        \"type\": \"Locate\",\\n                        \"object\": \"can of soup sitting on the kitchen counter\",\\n                        \"position_x\": \"{soup_position_x}\",\\n                        \"position_y\": \"{soup_position_y}\",\\n                        \"position_z\": \"{soup_position_z}\"\\n                    }\\n                ]\\n            },\\n            {\\n                \"type\": \"Retry\",\\n                \"retries\": 2,\\n                \"nodes\": [\\n                    {\\n                        \"type\": \"Navigate\",\\n                        \"x\": \"{soup_position_x}\",\\n                        \"y\": \"{soup_position_y}\",\\n                        \"z\": \"{soup_position_z}\"\\n                    }\\n                ]\\n            },\\n            {\\n                \"type\": \"Retry\",\\n                \"retries\": 2,\\n                \"nodes\": [\\n                    {\\n                        \"type\": \"Pick\",\\n                        \"object\": \"can of soup\",\\n                        \"grip_strength\": \"medium\",\\n                        \"precision\": \"high\"\\n                    }\\n                ]\\n            },\\n            {\\n                \"type\": \"Retry\",\\n                \"retries\": 2,\\n                \"nodes\": [\\n                    {\\n                        \"type\": \"Place\",\\n                        \"object\": \"can of soup\",\\n                        \"surface\": \"ceramic plate with some bread crumbs\",\\n                        \"orientation\": \"upright\",\\n                        \"alignment\": \"center\"\\n                    }\\n                ]\\n            }\\n        ]\\n    }\\n',\n",
       "   '\\n  {\\n    \"type\": \"Sequence\",\\n    \"name\": \"LocateAndPlaceWaterFilterSequence\",\\n    \"nodes\": [\\n      {\\n        \"type\": \"Retry\",\\n        \"retries\": 3,\\n        \"nodes\": [\\n          {\\n            \"type\": \"Locate\",\\n            \"object\": \"water filter\",\\n            \"position_x\": \"{water_filter_position_x}\",\\n            \"position_y\": \"{water_filter_position_y}\",\\n            \"position_z\": \"{water_filter_position_z}\"\\n          }\\n        ]\\n      },\\n      {\\n        \"type\": \"Retry\",\\n        \"retries\": 2,\\n        \"nodes\": [\\n          {\\n            \"type\": \"Navigate\",\\n            \"x\": \"{water_filter_position_x}\",\\n            \"y\": \"{water_filter_position_y}\",\\n            \"z\": \"{water_filter_position_z}\"\\n          }\\n        ]\\n      },\\n      {\\n        \"type\": \"Retry\",\\n        \"retries\": 2,\\n        \"nodes\": [\\n          {\\n            \"type\": \"Pick\",\\n            \"object\": \"water filter\",\\n            \"grip_strength\": \"medium\",\\n            \"precision\": \"low\"\\n          }\\n        ]\\n      },\\n      {\\n        \"type\": \"Retry\",\\n        \"retries\": 2,\\n        \"nodes\": [\\n          {\\n            \"type\": \"Place\",\\n            \"object\": \"water filter\",\\n            \"surface\": \"a ceramic plate with some bread crumbs\",\\n            \"orientation\": \"upright\",\\n            \"alignment\": \"center\"\\n          }\\n        ]\\n      }\\n    ]\\n  }\\n',\n",
       "   '\\n{\\n  \"type\": \"Sequence\",\\n  \"name\": \"LocateAndPositionFireExtinguisherSequence\",\\n  \"nodes\": [\\n    {\\n      \"type\": \"Retry\",\\n      \"retries\": 3,\\n      \"nodes\": [\\n        {\\n          \"type\": \"Locate\",\\n          \"object\": \"fire extinguisher\",\\n          \"position_x\": \"{fire_extinguisher_position_x}\",\\n          \"position_y\": \"{fire_extinguisher_position_y}\",\\n          \"position_z\": \"{fire_extinguisher_position_z}\"\\n        }\\n      ]\\n    },\\n    {\\n      \"type\": \"Retry\",\\n      \"retries\": 2,\\n      \"nodes\": [\\n        {\\n          \"type\": \"Navigate\",\\n          \"x\": \"{fire_extinguisher_position_x}\",\\n          \"y\": \"{fire_extinguisher_position_y}\",\\n          \"z\": \"{fire_extinguisher_position_z}\"\\n        }\\n      ]\\n    },\\n    {\\n      \"type\": \"Retry\",\\n      \"retries\": 2,\\n      \"nodes\": [\\n        {\\n          \"type\": \"Pick\",\\n          \"object\": \"fire extinguisher\",\\n          \"grip_strength\": \"medium\",\\n          \"precision\": \"low\"\\n        }\\n      ]\\n    },\\n    {\\n      \"type\": \"Retry\",\\n      \"retries\": 2,\\n      \"nodes\": [\\n        {\\n          \"type\": \"Place\",\\n          \"object\": \"fire extinguisher\",\\n          \"surface\": \"near the emergency whistle\",\\n          \"orientation\": \"upright\",\\n          \"alignment\": \"center\"\\n        }\\n      ]\\n    }\\n  ]\\n}\\n']}}"
      ]
     },
     "execution_count": 23,
     "metadata": {},
     "output_type": "execute_result"
    }
   ],
   "source": [
    "json_1b"
   ]
  },
  {
   "cell_type": "code",
   "execution_count": 26,
   "metadata": {},
   "outputs": [
    {
     "data": {
      "text/plain": [
       "['\\n  {\\n    \"type\": \"Sequence\",\\n    \"name\": \"RetrieveAndPlaceAppleSequence\",\\n    \"nodes\": [\\n      {\\n        \"type\": \"Retry\",\\n        \"retries\": 3,\\n        \"nodes\": [\\n          {\\n            \"type\": \"Locate\",\\n            \"object\": \"red apple sitting on the kitchen counter\",\\n            \"position_x\": \"{apple_position_x}\",\\n            \"position_y\": \"{apple_position_y}\",\\n            \"position_z\": \"{apple_position_z}\"\\n          },\\n          {\\n            \"type\": \"Navigate\",\\n            \"x\": \"{apple_position_x}\",\\n            \"y\": \"{apple_position_y}\",\\n            \"z\": \"{apple_position_z}\"\\n          },\\n          {\\n            \"type\": \"Pick\",\\n            \"object\": \"red apple sitting on the kitchen counter\",\\n            \"grip_strength\": \"medium\",\\n            \"precision\": \"high\"\\n          },\\n          {\\n            \"type\": \"Place\",\\n            \"object\": \"red apple\",\\n            \"surface\": \"wooden cutting board on the dining table\",\\n            \"orientation\": \"upright\",\\n            \"alignment\": \"center\"\\n          }\\n        ]\\n      },\\n      {\\n        \"type\": \"Retry\",\\n        \"retries\": 2,\\n        \"nodes\": [\\n          {\\n            \"type\": \"Navigate\",\\n            \"x\": \"4.5\",\\n            \"y\": \"2.2\"\\n          }\\n        ]\\n      },\\n      {\\n        \"type\": \"Retry\",\\n        \"retries\": 2,\\n        \"nodes\": [\\n          {\\n            \"type\": \"Place\",\\n            \"object\": \"red apple\",\\n            \"surface\": \"wooden cutting board on the dining table\",\\n            \"orientation\": \"upright\",\\n            \"alignment\": \"center\"\\n          }\\n        ]\\n      }\\n    ]\\n  }\\n',\n",
       " '\\n{\\n  \"type\": \"Sequence\",\\n  \"name\": \"PickAndPlacePlateSequence\",\\n  \"nodes\": [\\n    {\\n      \"type\": \"Retry\",\\n      \"retries\": 3,\\n      \"nodes\": [\\n        {\\n          \"type\": \"Locate\",\\n          \"object\": \"ceramic plate with some bread crumbs\",\\n          \"position_x\": \"2.7\",\\n          \"position_y\": \"2.0\",\\n          \"position_z\": \"0.85\"\\n        }\\n      ]\\n    },\\n    {\\n      \"type\": \"Retry\",\\n      \"retries\": 2,\\n      \"nodes\": [\\n        {\\n          \"type\": \"Navigate\",\\n          \"x\": \"2.7\",\\n          \"y\": \"2.0\"\\n        }\\n      ]\\n    },\\n    {\\n      \"type\": \"Retry\",\\n      \"retries\": 2,\\n      \"nodes\": [\\n        {\\n          \"type\": \"Pick\",\\n          \"object\": \"ceramic plate with some bread crumbs\",\\n          \"grip_strength\": \"low\",\\n          \"precision\": \"low\"\\n        }\\n      ]\\n    },\\n    {\\n      \"type\": \"Retry\",\\n      \"retries\": 2,\\n      \"nodes\": [\\n        {\\n          \"type\": \"Place\",\\n          \"object\": \"ceramic plate with some bread crumbs\",\\n          \"surface\": \"wooden cutting board on the dining table\",\\n          \"orientation\": \"upright\",\\n          \"alignment\": \"center\"\\n        }\\n      ]\\n    }\\n  ]\\n}\\n',\n",
       " '\\n    {\\n      \"type\": \"Sequence\",\\n      \"name\": \"NavigateToHelmetSequence\",\\n      \"nodes\": [\\n        {\\n          \"type\": \"Retry\",\\n          \"retries\": 3,\\n          \"nodes\": [\\n            {\\n              \"type\": \"Locate\",\\n              \"object\": \"safety helmet\",\\n              \"position_x\": \"{helmet_position_x}\",\\n              \"position_y\": \"{helmet_position_y}\",\\n              \"position_z\": \"{helmet_position_z}\"\\n            }\\n          ]\\n        },\\n        {\\n          \"type\": \"Retry\",\\n          \"retries\": 2,\\n          \"nodes\": [\\n            {\\n              \"type\": \"Navigate\",\\n              \"x\": \"{helmet_position_x}\",\\n              \"y\": \"{helmet_position_y}\",\\n              \"z\": \"{helmet_position_z}\"\\n            }\\n          ]\\n        },\\n        {\\n          \"type\": \"Retry\",\\n          \"retries\": 2,\\n          \"nodes\": [\\n            {\\n              \"type\": \"Pick\",\\n              \"object\": \"safety helmet\",\\n              \"grip_strength\": \"low\",\\n              \"precision\": \"low\"\\n            }\\n          ]\\n        },\\n        {\\n          \"type\": \"Retry\",\\n          \"retries\": 2,\\n          \"nodes\": [\\n            {\\n              \"type\": \"Place\",\\n              \"object\": \"safety helmet\",\\n              \"surface\": \"wooden cutting board on the dining table\",\\n              \"orientation\": \"upright\",\\n              \"alignment\": \"center\"\\n            }\\n          ]\\n        }\\n      ]\\n    }\\n',\n",
       " '\\n    {\\n        \"type\": \"Sequence\",\\n        \"name\": \"NavigateToDestinationSequence\",\\n        \"nodes\": [\\n            {\\n                \"type\": \"Retry\",\\n                \"retries\": 3,\\n                \"nodes\": [\\n                    {\\n                        \"type\": \"Locate\",\\n                        \"object\": \"a wooden cutting board on the dining table\",\\n                        \"position_x\": \"{position_x_board}\",\\n                        \"position_y\": \"{position_y_board}\",\\n                        \"position_z\": \"{position_z_board}\"\\n                    }\\n                ]\\n            },\\n            {\\n                \"type\": \"Navigate\",\\n                \"x\": \"20.5\",\\n                \"y\": \"3.4\",\\n                \"z\": \"1.3\"\\n            },\\n            {\\n                \"type\": \"Retry\",\\n                \"retries\": 2,\\n                \"nodes\": [\\n                    {\\n                        \"type\": \"Pick\",\\n                        \"object\": \"a wooden cutting board on the dining table\",\\n                        \"grip_strength\": \"medium\",\\n                        \"precision\": \"high\"\\n                    }\\n                ]\\n            },\\n            {\\n                \"type\": \"Retry\",\\n                \"retries\": 2,\\n                \"nodes\": [\\n                    {\\n                        \"type\": \"Place\",\\n                        \"object\": \"a wooden cutting board on the dining table\",\\n                        \"surface\": \"wooden cutting board on the dining table\",\\n                        \"orientation\": \"upright\",\\n                        \"alignment\": \"center\"\\n                    }\\n                ]\\n            }\\n        ]\\n    }\\n',\n",
       " '\\n  {\\n    \"type\": \"Sequence\",\\n    \"name\": \"RetrieveAndPlaceAppleSequence\",\\n    \"nodes\": [\\n      {\\n        \"type\": \"Retry\",\\n        \"retries\": 3,\\n        \"nodes\": [\\n          {\\n            \"type\": \"Locate\",\\n            \"object\": \"smartphone\",\\n            \"position_x\": \"{smartphone_position_x}\",\\n            \"position_y\": \"{smartphone_position_y}\",\\n            \"position_z\": \"{smartphone_position_z}\"\\n          }\\n        ]\\n      },\\n      {\\n        \"type\": \"Retry\",\\n        \"retries\": 2,\\n        \"nodes\": [\\n          {\\n            \"type\": \"Navigate\",\\n            \"x\": \"{smartphone_position_x}\",\\n            \"y\": \"{smartphone_position_y}\",\\n            \"z\": \"{smartphone_position_z}\"\\n          }\\n        ]\\n      },\\n      {\\n        \"type\": \"Retry\",\\n        \"retries\": 2,\\n        \"nodes\": [\\n          {\\n            \"type\": \"Pick\",\\n            \"object\": \"smartphone\",\\n            \"grip_strength\": \"medium\",\\n            \"precision\": \"high\"\\n          }\\n        ]\\n      },\\n      {\\n        \"type\": \"Retry\",\\n        \"retries\": 2,\\n        \"nodes\": [\\n          {\\n            \"type\": \"Place\",\\n            \"object\": \"smartphone\",\\n            \"surface\": \"wooden cutting board on the dining table\",\\n            \"orientation\": \"upright\",\\n            \"alignment\": \"center\"\\n          }\\n        ]\\n      }\\n    ]\\n  }\\n',\n",
       " '\\n{\\n  \"type\": \"Sequence\",\\n  \"name\": \"PickAndPlaceGlovesSequence\",\\n  \"nodes\": [\\n    {\\n      \"type\": \"Retry\",\\n      \"retries\": 3,\\n      \"nodes\": [\\n        {\\n          \"type\": \"Locate\",\\n          \"object\": \"pair of gloves\",\\n          \"position_x\": \"{gloves_position_x}\",\\n          \"position_y\": \"{gloves_position_y}\",\\n          \"position_z\": \"{gloves_position_z}\"\\n        },\\n        {\\n          \"type\": \"Navigate\",\\n          \"x\": \"{gloves_position_x}\",\\n          \"y\": \"{gloves_position_y}\",\\n          \"z\": \"{gloves_position_z}\"\\n        }\\n      ]\\n    },\\n    {\\n      \"type\": \"Retry\",\\n      \"retries\": 2,\\n      \"nodes\": [\\n        {\\n          \"type\": \"Pick\",\\n          \"object\": \"pair of gloves\",\\n          \"grip_strength\": \"medium\",\\n          \"precision\": \"high\"\\n        },\\n        {\\n          \"type\": \"Retry\",\\n          \"retries\": 2,\\n          \"nodes\": [\\n            {\\n              \"type\": \"Place\",\\n              \"object\": \"pair of gloves\",\\n              \"surface\": \"tarp\",\\n              \"orientation\": \"upright\",\\n              \"alignment\": \"center\"\\n            }\\n          ]\\n        }\\n      ]\\n    },\\n    {\\n      \"type\": \"Retry\",\\n      \"retries\": 2,\\n      \"nodes\": [\\n        {\\n          \"type\": \"Locate\",\\n          \"object\": \"pair of gloves\",\\n          \"position_x\": \"{gloves_position_x}\",\\n          \"position_y\": \"{gloves_position_y}\",\\n          \"position_z\": \"{gloves_position_z}\"\\n        },\\n        {\\n          \"type\": \"Retry\",\\n          \"retries\": 2,\\n          \"nodes\": [\\n            {\\n              \"type\": \"Navigate\",\\n              \"x\": \"{gloves_position_x}\",\\n              \"y\": \"{gloves_position_y}\",\\n              \"z\": \"{gloves_position_z}\"\\n            }\\n          ]\\n        }\\n      ]\\n    }\\n  ]\\n}\\n',\n",
       " '\\n{\\n  \"type\": \"Sequence\",\\n  \"name\": \"NavigateToBootsSequence\",\\n  \"nodes\": [\\n    {\\n      \"type\": \"Locate\",\\n      \"object\": \"pair of boots\",\\n      \"position_x\": \"14.5\",\\n      \"position_y\": \"4.2\",\\n      \"position_z\": \"0.6\"\\n    },\\n    {\\n      \"type\": \"Wait\",\\n      \"duration\": \"5.0\",\\n      \"position_x\": \"14.5\",\\n      \"position_y\": \"4.2\",\\n      \"position_z\": \"0.6\"\\n    },\\n    {\\n      \"type\": \"Navigate\",\\n      \"x\": \"20.3\",\\n      \"y\": \"9.2\",\\n      \"z\": \"1.5\",\\n      \"position_x\": \"14.5\",\\n      \"position_y\": \"4.2\",\\n      \"position_z\": \"0.6\"\\n    }\\n  ]\\n}\\n',\n",
       " '\\n  {\\n    \"type\": \"Sequence\",\\n    \"name\": \"RetrieveAndPlaceWaterBottleSequence\",\\n    \"nodes\": [\\n      {\\n        \"type\": \"Retry\",\\n        \"retries\": 3,\\n        \"nodes\": [\\n          {\\n            \"type\": \"Locate\",\\n            \"object\": \"water bottle sitting on the kitchen counter\",\\n            \"position_x\": \"{water_bottle_position_x}\",\\n            \"position_y\": \"{water_bottle_position_y}\",\\n            \"position_z\": \"{water_bottle_position_z}\"\\n          }\\n        ]\\n      },\\n      {\\n        \"type\": \"Retry\",\\n        \"retries\": 2,\\n        \"nodes\": [\\n          {\\n            \"type\": \"Navigate\",\\n            \"x\": \"{water_bottle_position_x}\",\\n            \"y\": \"{water_bottle_position_y}\"\\n          }\\n        ]\\n      },\\n      {\\n        \"type\": \"Retry\",\\n        \"retries\": 2,\\n        \"nodes\": [\\n          {\\n            \"type\": \"Pick\",\\n            \"object\": \"water bottle\",\\n            \"grip_strength\": \"medium\",\\n            \"precision\": \"high\"\\n          }\\n        ]\\n      },\\n      {\\n        \"type\": \"Retry\",\\n        \"retries\": 2,\\n        \"nodes\": [\\n          {\\n            \"type\": \"Place\",\\n            \"object\": \"water bottle\",\\n            \"surface\": \"map\",\\n            \"orientation\": \"upright\",\\n            \"alignment\": \"center\"\\n          }\\n        ]\\n      }\\n    ]\\n  }\\n',\n",
       " '\\n{\\n  \"type\": \"Sequence\",\\n  \"name\": \"NavigateToTargetSequence\",\\n  \"nodes\": [\\n    {\\n      \"type\": \"Retry\",\\n      \"retries\": 3,\\n      \"nodes\": [\\n        {\\n          \"type\": \"Locate\",\\n          \"object\": \"a wooden cutting board on the dining table\",\\n          \"position_x\": \"4.5\",\\n          \"position_y\": \"2.2\",\\n          \"position_z\": \"0.75\"\\n        }\\n      ]\\n    },\\n    {\\n      \"type\": \"Retry\",\\n      \"retries\": 2,\\n      \"nodes\": [\\n        {\\n          \"type\": \"Navigate\",\\n          \"x\": \"4.2\",\\n          \"y\": \"1.8\",\\n          \"z\": \"0.85\"\\n        }\\n      ]\\n    },\\n    {\\n      \"type\": \"Retry\",\\n      \"retries\": 2,\\n      \"nodes\": [\\n        {\\n          \"type\": \"Pick\",\\n          \"object\": \"a wooden cutting board on the dining table\",\\n          \"grip_strength\": \"medium\",\\n          \"precision\": \"high\"\\n        }\\n      ]\\n    },\\n    {\\n      \"type\": \"Retry\",\\n      \"retries\": 2,\\n      \"nodes\": [\\n        {\\n          \"type\": \"Place\",\\n          \"object\": \"a wooden cutting board on the dining table\",\\n          \"surface\": \"wooden cutting board on the dining table\",\\n          \"orientation\": \"upright\",\\n          \"alignment\": \"center\"\\n        }\\n      ]\\n    }\\n  ]\\n}\\n',\n",
       " '\\n  { \"type\": \"Sequence\", \"name\": \"NavigateBackward\", \"nodes\": [\\n    {\\n      \"type\": \"Retry\", \"retries\": 2, \"nodes\": [\\n        {\\n          \"type\": \"Navigate\", \"x\": \"4.5\", \"y\": \"2.2\", \"z\": \"0.75\"\\n        }\\n      ]\\n    }\\n  ] }\\n',\n",
       " '\\n    {\\n        \"type\": \"Sequence\",\\n        \"name\": \"RetrieveAndPlaceBackpackSequence\",\\n        \"nodes\": [\\n            {\\n                \"type\": \"Retry\",\\n                \"retries\": 3,\\n                \"nodes\": [\\n                    {\\n                        \"type\": \"Locate\",\\n                        \"object\": \"backpack\",\\n                        \"position_x\": \"{backpack_position_x}\",\\n                        \"position_y\": \"{backpack_position_y}\",\\n                        \"position_z\": \"{backpack_position_z}\"\\n                    }\\n                ]\\n            },\\n            {\\n                \"type\": \"Retry\",\\n                \"retries\": 2,\\n                \"nodes\": [\\n                    {\\n                        \"type\": \"Navigate\",\\n                        \"x\": \"{backpack_position_x}\",\\n                        \"y\": \"{backpack_position_y}\",\\n                        \"z\": \"{backpack_position_z}\"\\n                    }\\n                ]\\n            },\\n            {\\n                \"type\": \"Retry\",\\n                \"retries\": 2,\\n                \"nodes\": [\\n                    {\\n                        \"type\": \"Place\",\\n                        \"object\": \"backpack\",\\n                        \"surface\": \"folding chair\",\\n                        \"orientation\": \"upright\",\\n                        \"alignment\": \"center\"\\n                    }\\n                ]\\n            }\\n        ]\\n    }\\n',\n",
       " '\\n  {\\n    \"type\": \"Sequence\",\\n    \"name\": \"LocateAndNavigateSequence\",\\n    \"nodes\": [\\n      {\\n        \"type\": \"Retry\",\\n        \"retries\": 3,\\n        \"nodes\": [\\n          {\\n            \"type\": \"Locate\",\\n            \"object\": \"tarp sitting on the ground next to the shed\",\\n            \"position_x\": \"2.7\",\\n            \"position_y\": \"2.0\",\\n            \"position_z\": \"0.85\"\\n          }\\n        ]\\n      },\\n      {\\n        \"type\": \"Retry\",\\n        \"retries\": 2,\\n        \"nodes\": [\\n          {\\n            \"type\": \"Navigate\",\\n            \"x\": \"2.7\",\\n            \"y\": \"2.0\"\\n          }\\n        ]\\n      },\\n      {\\n        \"type\": \"Retry\",\\n        \"retries\": 2,\\n        \"nodes\": [\\n          {\\n            \"type\": \"Pick\",\\n            \"object\": \"tarp sitting on the ground next to the shed\",\\n            \"grip_strength\": \"medium\",\\n            \"precision\": \"high\"\\n          }\\n        ]\\n      },\\n      {\\n        \"type\": \"Retry\",\\n        \"retries\": 2,\\n        \"nodes\": [\\n          {\\n            \"type\": \"Place\",\\n            \"object\": \"tarp sitting on the ground next to the shed\",\\n            \"surface\": \"wooden shed\",\\n            \"orientation\": \"upright\",\\n            \"alignment\": \"center\"\\n          }\\n        ]\\n      }\\n    ]\\n  }\\n',\n",
       " '\\n  {\\n    \"type\": \"Sequence\",\\n    \"name\": \"NavigateAndPositionSequence\",\\n    \"nodes\": [\\n      {\\n        \"type\": \"Retry\",\\n        \"retries\": 3,\\n        \"nodes\": [\\n          {\\n            \"type\": \"Locate\",\\n            \"object\": \"a hammer\",\\n            \"position_x\": \"1.8\",\\n            \"position_y\": \"2.1\",\\n            \"position_z\": \"0.8\"\\n          }\\n        ]\\n      },\\n      {\\n        \"type\": \"Retry\",\\n        \"retries\": 2,\\n        \"nodes\": [\\n          {\\n            \"type\": \"Navigate\",\\n            \"x\": \"2.7\",\\n            \"y\": \"2.0\",\\n            \"z\": \"0.85\"\\n          }\\n        ]\\n      },\\n      {\\n        \"type\": \"Retry\",\\n        \"retries\": 2,\\n        \"nodes\": [\\n          {\\n            \"type\": \"Pick\",\\n            \"object\": \"a ceramic plate with some bread crumbs\",\\n            \"grip_strength\": \"low\",\\n            \"precision\": \"high\"\\n          }\\n        ]\\n      },\\n      {\\n        \"type\": \"Retry\",\\n        \"retries\": 2,\\n        \"nodes\": [\\n          {\\n            \"type\": \"Place\",\\n            \"object\": \"a hammer\",\\n            \"surface\": \"a wooden cutting board on the dining table\",\\n            \"orientation\": \"upright\",\\n            \"alignment\": \"center\"\\n          }\\n        ]\\n      },\\n      {\\n        \"type\": \"Retry\",\\n        \"retries\": 3,\\n        \"nodes\": [\\n          {\\n            \"type\": \"Navigate\",\\n            \"x\": \"2.7\",\\n            \"y\": \"2.0\",\\n            \"z\": \"0.85\"\\n          }\\n        ]\\n      }\\n    ]\\n  }\\n',\n",
       " '\\n    {\\n      \"type\": \"Sequence\",\\n      \"name\": \"RetrieveAndPlaceGlassCupSequence\",\\n      \"nodes\": [\\n        {\\n          \"type\": \"Retry\",\\n          \"retries\": 3,\\n          \"nodes\": [\\n            {\\n              \"type\": \"Locate\",\\n              \"object\": \"empty glass cup next to the sink\",\\n              \"position_x\": \"{cup_position_x}\",\\n              \"position_y\": \"{cup_position_y}\",\\n              \"position_z\": \"{cup_position_z}\"\\n            }\\n          ]\\n        },\\n        {\\n          \"type\": \"Retry\",\\n          \"retries\": 2,\\n          \"nodes\": [\\n            {\\n              \"type\": \"Navigate\",\\n              \"x\": \"{cup_position_x}\",\\n              \"y\": \"{cup_position_y}\",\\n              \"z\": \"{cup_position_z}\"\\n            }\\n          ]\\n        },\\n        {\\n          \"type\": \"Retry\",\\n          \"retries\": 2,\\n          \"nodes\": [\\n            {\\n              \"type\": \"Pick\",\\n              \"object\": \"empty glass cup next to the sink\",\\n              \"grip_strength\": \"low\",\\n              \"precision\": \"low\"\\n            }\\n          ]\\n        },\\n        {\\n          \"type\": \"Retry\",\\n          \"retries\": 2,\\n          \"nodes\": [\\n            {\\n              \"type\": \"Place\",\\n              \"object\": \"empty glass cup next to the sink\",\\n              \"surface\": \"empty glass cup\",\\n              \"orientation\": \"upright\",\\n              \"alignment\": \"center\"\\n            }\\n          ]\\n        },\\n        {\\n          \"type\": \"Retry\",\\n          \"retries\": 2,\\n          \"nodes\": [\\n            {\\n              \"type\": \"Navigate\",\\n              \"x\": \"{cup_position_x}\",\\n              \"y\": \"{cup_position_y}\",\\n              \"z\": \"{cup_position_z}\"\\n            }\\n          ]\\n        },\\n        {\\n          \"type\": \"Retry\",\\n          \"retries\": 2,\\n          \"nodes\": [\\n            {\\n              \"type\": \"Place\",\\n              \"object\": \"empty glass cup next to the sink\",\\n              \"surface\": \"empty glass cup\",\\n              \"orientation\": \"upright\",\\n              \"alignment\": \"center\"\\n            }\\n          ]\\n        }\\n      ]\\n    }\\n',\n",
       " '\\n    { \"type\": \"Locate\", \"object\": \"medical splint\", \"position_x\": \"{medical_splint_position_x}\", \"position_y\": \"{medical_splint_position_y}\", \"position_z\": \"{medical_splint_position_z}\" }\\n',\n",
       " '\\n    {\\n      \"type\": \"Sequence\",\\n      \"name\": \"RetrieveAndPlaceLadderSequence\",\\n      \"nodes\": [\\n        {\\n          \"type\": \"Retry\",\\n          \"retries\": 3,\\n          \"nodes\": [\\n            {\\n              \"type\": \"Locate\",\\n              \"object\": \"ladder\",\\n              \"position_x\": \"1.8\",\\n              \"position_y\": \"2.1\",\\n              \"position_z\": \"0.85\"\\n            },\\n            {\\n              \"type\": \"Navigate\",\\n              \"x\": \"2.2\",\\n              \"y\": \"2.5\",\\n              \"z\": \"0.85\"\\n            },\\n            {\\n              \"type\": \"Retry\",\\n              \"retries\": 2,\\n              \"nodes\": [\\n                {\\n                  \"type\": \"Pick\",\\n                  \"object\": \"ladder\",\\n                  \"grip_strength\": \"medium\",\\n                  \"precision\": \"low\"\\n                },\\n                {\\n                  \"type\": \"Retry\",\\n                  \"retries\": 2,\\n                  \"nodes\": [\\n                    {\\n                      \"type\": \"Place\",\\n                      \"object\": \"ladder\",\\n                      \"surface\": \"stack of wood\",\\n                      \"orientation\": \"upright\",\\n                      \"alignment\": \"center\"\\n                    }\\n                  ]\\n                }\\n              ]\\n            },\\n            {\\n              \"type\": \"Retry\",\\n              \"retries\": 2,\\n              \"nodes\": [\\n                {\\n                  \"type\": \"Locate\",\\n                  \"object\": \"stack of wood\",\\n                  \"position_x\": \"1.5\",\\n                  \"position_y\": \"2.0\",\\n                  \"position_z\": \"0.8\"\\n                },\\n                {\\n                  \"type\": \"Retry\",\\n                  \"retries\": 2,\\n                  \"nodes\": [\\n                    {\\n                      \"type\": \"Navigate\",\\n                      \"x\": \"2.2\",\\n                      \"y\": \"2.5\",\\n                      \"z\": \"0.8\"\\n                    },\\n                    {\\n                      \"type\": \"Retry\",\\n                      \"retries\": 2,\\n                      \"nodes\": [\\n                        {\\n                          \"type\": \"Place\",\\n                          \"object\": \"stack of wood\",\\n                          \"surface\": \"ladder\",\\n                          \"orientation\": \"upright\",\\n                          \"alignment\": \"center\"\\n                        }\\n                      ]\\n                    }\\n                  ]\\n                }\\n              ]\\n            }\\n          ]\\n        }\\n      ]\\n    }\\n',\n",
       " '\\n  {\\n    \"type\": \"Locate\",\\n    \"object\": \"compass\",\\n    \"position_x\": \"12.3\",\\n    \"position_y\": \"5.8\",\\n    \"position_z\": \"1.0\"\\n  }\\n',\n",
       " '\\n  {\\n    \"type\": \"Sequence\",\\n    \"name\": \"TarpSetupSequence\",\\n    \"nodes\": [\\n      {\\n        \"type\": \"Locate\",\\n        \"object\": \"a tarp\",\\n        \"position_x\": \"12.3\",\\n        \"position_y\": \"5.8\",\\n        \"position_z\": \"1.0\"\\n      },\\n      {\\n        \"type\": \"Pick\",\\n        \"object\": \"a tarp\",\\n        \"grip_strength\": \"medium\",\\n        \"precision\": \"high\"\\n      },\\n      {\\n        \"type\": \"Place\",\\n        \"object\": \"a tarp\",\\n        \"surface\": \"a stack of wood\",\\n        \"orientation\": \"upright\",\\n        \"alignment\": \"center\"\\n      },\\n      {\\n        \"type\": \"Retry\",\\n        \"retries\": 3,\\n        \"nodes\": [\\n          {\\n            \"type\": \"Navigate\",\\n            \"x\": \"12.3\",\\n            \"y\": \"5.8\",\\n            \"z\": \"1.0\"\\n          }\\n        ]\\n      },\\n      {\\n        \"type\": \"Retry\",\\n        \"retries\": 2,\\n        \"nodes\": [\\n          {\\n            \"type\": \"Pick\",\\n            \"object\": \"a tarp\",\\n            \"grip_strength\": \"medium\",\\n            \"precision\": \"high\"\\n          }\\n        ]\\n      },\\n      {\\n        \"type\": \"Retry\",\\n        \"retries\": 2,\\n        \"nodes\": [\\n          {\\n            \"type\": \"Place\",\\n            \"object\": \"a tarp\",\\n            \"surface\": \"a stack of wood\",\\n            \"orientation\": \"upright\",\\n            \"alignment\": \"center\"\\n          }\\n        ]\\n      },\\n      {\\n        \"type\": \"Retry\",\\n        \"retries\": 2,\\n        \"nodes\": [\\n          {\\n            \"type\": \"Navigate\",\\n            \"x\": \"12.3\",\\n            \"y\": \"5.8\",\\n            \"z\": \"1.0\"\\n          }\\n        ]\\n      },\\n      {\\n        \"type\": \"Retry\",\\n        \"retries\": 2,\\n        \"nodes\": [\\n          {\\n            \"type\": \"Pick\",\\n            \"object\": \"a tarp\",\\n            \"grip_strength\": \"medium\",\\n            \"precision\": \"high\"\\n          }\\n        ]\\n      },\\n      {\\n        \"type\": \"Retry\",\\n        \"retries\": 2,\\n        \"nodes\": [\\n          {\\n            \"type\": \"Place\",\\n            \"object\": \"a tarp\",\\n            \"surface\": \"a stack of wood\",\\n            \"orientation\": \"upright\",\\n            \"alignment\": \"center\"\\n          }\\n        ]\\n      }\\n    ]\\n  }\\n',\n",
       " '\\n  {\\n    \"type\": \"Sequence\",\\n    \"name\": \"NavigateToFoldingChairSequence\",\\n    \"nodes\": [\\n      {\\n        \"type\": \"Retry\",\\n        \"retries\": 3,\\n        \"nodes\": [\\n          {\\n            \"type\": \"Locate\",\\n            \"object\": \"folding chair\",\\n            \"position_x\": \"{foldingChairPositionX}\",\\n            \"position_y\": \"{foldingChairPositionY}\",\\n            \"position_z\": \"{foldingChairPositionZ}\"\\n          },\\n          {\\n            \"type\": \"Navigate\",\\n            \"x\": \"{foldingChairPositionX}\",\\n            \"y\": \"{foldingChairPositionY}\",\\n            \"z\": \"{foldingChairPositionZ}\"\\n          }\\n        ]\\n      },\\n      {\\n        \"type\": \"Retry\",\\n        \"retries\": 2,\\n        \"nodes\": [\\n          {\\n            \"type\": \"Pick\",\\n            \"object\": \"folding chair\",\\n            \"grip_strength\": \"medium\",\\n            \"precision\": \"high\"\\n          }\\n        ]\\n      },\\n      {\\n        \"type\": \"Retry\",\\n        \"retries\": 2,\\n        \"nodes\": [\\n          {\\n            \"type\": \"Place\",\\n            \"object\": \"folding chair\",\\n            \"surface\": \"wooden cutting board on the dining table\",\\n            \"orientation\": \"upright\",\\n            \"alignment\": \"center\"\\n          }\\n        ]\\n      }\\n    ]\\n  }\\n',\n",
       " '\\n  { \"type\": \"Sequence\", \"name\": \"NavigateToDestinationSequence\", \"nodes\": [\\n    {\\n      \"type\": \"Retry\", \"retries\": 3, \"nodes\": [\\n        {\\n          \"type\": \"Locate\", \"object\": \"a walking stick leaning against the wall near the door\", \"position_x\": \"2.3\", \"position_y\": \"2.1\", \"position_z\": \"0.85\"\\n        },\\n        {\\n          \"type\": \"Navigate\", \"x\": \"4.7\", \"y\": \"2.0\", \"z\": \"0.75\"\\n        },\\n        {\\n          \"type\": \"Retry\", \"retries\": 2, \"nodes\": [\\n            {\\n              \"type\": \"Pick\", \"object\": \"a walking stick leaning against the wall near the door\", \"grip_strength\": \"low\", \"precision\": \"low\"\\n            },\\n            {\\n              \"type\": \"Retry\", \"retries\": 2, \"nodes\": [\\n                {\\n                  \"type\": \"Place\", \"object\": \"a walking stick leaning against the wall near the door\", \"surface\": \"wooden wall near the door\", \"orientation\": \"upright\", \"alignment\": \"center\"\\n                }\\n              ]\\n            }\\n          ]\\n        },\\n        {\\n          \"type\": \"Retry\", \"retries\": 2, \"nodes\": [\\n            {\\n              \"type\": \"Navigate\", \"x\": \"4.5\", \"y\": \"2.2\", \"z\": \"0.75\"\\n            },\\n            {\\n              \"type\": \"Retry\", \"retries\": 2, \"nodes\": [\\n                {\\n                  \"type\": \"Place\", \"object\": \"a walking stick leaning against the wall near the door\", \"surface\": \"wooden wall near the door\", \"orientation\": \"upright\", \"alignment\": \"center\"\\n                }\\n              ]\\n            }\\n          ]\\n        }\\n      ]\\n    }\\n  ]\\n}\\n',\n",
       " '\\n  {\\n    \"type\": \"Sequence\",\\n    \"name\": \"RetrieveAndPlaceBlanketSequence\",\\n    \"nodes\": [\\n      {\\n        \"type\": \"Retry\",\\n        \"retries\": 3,\\n        \"nodes\": [\\n          {\\n            \"type\": \"Locate\",\\n            \"object\": \"thermal blanket sitting on the kitchen counter\",\\n            \"position_x\": \"{blanket_position_x}\",\\n            \"position_y\": \"{blanket_position_y}\",\\n            \"position_z\": \"{blanket_position_z}\"\\n          }\\n        ]\\n      },\\n      {\\n        \"type\": \"Retry\",\\n        \"retries\": 2,\\n        \"nodes\": [\\n          {\\n            \"type\": \"Navigate\",\\n            \"x\": \"{blanket_position_x}\",\\n            \"y\": \"{blanket_position_y}\",\\n            \"z\": \"{blanket_position_z}\"\\n          }\\n        ]\\n      },\\n      {\\n        \"type\": \"Retry\",\\n        \"retries\": 2,\\n        \"nodes\": [\\n          {\\n            \"type\": \"Pick\",\\n            \"object\": \"thermal blanket\",\\n            \"grip_strength\": \"low\",\\n            \"precision\": \"low\"\\n          }\\n        ]\\n      },\\n      {\\n        \"type\": \"Retry\",\\n        \"retries\": 2,\\n        \"nodes\": [\\n          {\\n            \"type\": \"Place\",\\n            \"object\": \"thermal blanket\",\\n            \"surface\": \"sleeping bag\",\\n            \"orientation\": \"upright\",\\n            \"alignment\": \"center\"\\n          }\\n        ]\\n      }\\n    ]\\n  }\\n',\n",
       " '\\n{\\n  \"type\": \"Sequence\",\\n  \"name\": \"RetrieveAndPlaceWalkieTalkieSequence\",\\n  \"nodes\": [\\n    {\\n      \"type\": \"Locate\",\\n      \"object\": \"walkie-talkie\",\\n      \"position_x\": \"1.8\",\\n      \"position_y\": \"2.1\",\\n      \"position_z\": \"0.85\"\\n    },\\n    {\\n      \"type\": \"Pick\",\\n      \"object\": \"walkie-talkie\",\\n      \"grip_strength\": \"medium\",\\n      \"precision\": \"high\"\\n    },\\n    {\\n      \"type\": \"Place\",\\n      \"object\": \"walkie-talkie\",\\n      \"surface\": \"backpack\",\\n      \"orientation\": \"upright\",\\n      \"alignment\": \"center\"\\n    },\\n    {\\n      \"type\": \"Retry\",\\n      \"retries\": 2,\\n      \"nodes\": [\\n        {\\n          \"type\": \"Navigate\",\\n          \"x\": \"1.8\",\\n          \"y\": \"2.1\"\\n        }\\n      ]\\n    },\\n    {\\n      \"type\": \"Retry\",\\n      \"retries\": 2,\\n      \"nodes\": [\\n        {\\n          \"type\": \"Locate\",\\n          \"object\": \"solar-powered lantern\",\\n          \"position_x\": \"4.2\",\\n          \"position_y\": \"2.8\",\\n          \"position_z\": \"0.85\"\\n        }\\n      ]\\n    }\\n  ]\\n}\\n',\n",
       " '\\n    {\\n      \"type\": \"Sequence\",\\n      \"name\": \"NavigateToHelmetSequence\",\\n      \"nodes\": [\\n        {\\n          \"type\": \"Retry\",\\n          \"retries\": 3,\\n          \"nodes\": [\\n            {\\n              \"type\": \"Locate\",\\n              \"object\": \"a safety helmet\",\\n              \"position_x\": \"17.6\",\\n              \"position_y\": \"3.9\",\\n              \"position_z\": \"0.4\"\\n            }\\n          ]\\n        },\\n        {\\n          \"type\": \"Wait\",\\n          \"duration\": \"3.0\"\\n        }\\n      ]\\n    }\\n',\n",
       " '\\n  { \"type\": \"Sequence\", \"name\": \"RetrieveAndPlaceRiceSequence\", \"nodes\": [\\n    {\\n      \"type\": \"Retry\",\\n      \"retries\": 3,\\n      \"nodes\": [\\n        {\\n          \"type\": \"Locate\",\\n          \"object\": \"bag of rice\",\\n          \"position_x\": \"{rice_position_x}\",\\n          \"position_y\": \"{rice_position_y}\",\\n          \"position_z\": \"{rice_position_z}\"\\n        }\\n      ]\\n    },\\n    {\\n      \"type\": \"Navigate\",\\n      \"x\": \"{rice_position_x}\",\\n      \"y\": \"{rice_position_y}\",\\n      \"z\": \"{rice_position_z}\"\\n    },\\n    {\\n      \"type\": \"Retry\",\\n      \"retries\": 2,\\n      \"nodes\": [\\n        {\\n          \"type\": \"Pick\",\\n          \"object\": \"bag of rice\",\\n          \"grip_strength\": \"low\",\\n          \"precision\": \"low\"\\n        }\\n      ]\\n    },\\n    {\\n      \"type\": \"Retry\",\\n      \"retries\": 2,\\n      \"nodes\": [\\n        {\\n          \"type\": \"Place\",\\n          \"object\": \"bag of rice\",\\n          \"surface\": \"ceramic pot on the cooking stove\",\\n          \"orientation\": \"upright\",\\n          \"alignment\": \"center\"\\n        }\\n      ]\\n    },\\n    {\\n      \"type\": \"Retry\",\\n      \"retries\": 2,\\n      \"nodes\": [\\n        {\\n          \"type\": \"Retry\",\\n          \"retries\": 2,\\n          \"nodes\": [\\n            {\\n              \"type\": \"Locate\",\\n              \"object\": \"ceramic pot\",\\n              \"position_x\": \"{pot_position_x}\",\\n              \"position_y\": \"{pot_position_y}\",\\n              \"position_z\": \"{pot_position_z}\"\\n            }\\n          ]\\n        }\\n      ]\\n    },\\n    {\\n      \"type\": \"Retry\",\\n      \"retries\": 2,\\n      \"nodes\": [\\n        {\\n          \"type\": \"Navigate\",\\n          \"x\": \"{pot_position_x}\",\\n          \"y\": \"{pot_position_y}\",\\n          \"z\": \"{pot_position_z}\"\\n        }\\n      ]\\n    },\\n    {\\n      \"type\": \"Retry\",\\n      \"retries\": 2,\\n      \"nodes\": [\\n        {\\n          \"type\": \"Retry\",\\n          \"retries\": 2,\\n          \"nodes\": [\\n            {\\n              \"type\": \"Place\",\\n              \"object\": \"ceramic pot\",\\n              \"surface\": \"ceramic pot on the cooking stove\",\\n              \"orientation\": \"upright\",\\n              \"alignment\": \"center\"\\n            }\\n          ]\\n        }\\n      ]\\n    }\\n  ]\\n}\\n',\n",
       " '\\n{\\n  \"type\": \"Sequence\",\\n  \"name\": \"RetrieveAndPlaceFirstAidKitSequence\",\\n  \"nodes\": [\\n    {\\n      \"type\": \"Retry\",\\n      \"retries\": 3,\\n      \"nodes\": [\\n        {\\n          \"type\": \"Locate\",\\n          \"object\": \"first aid kit sitting on the kitchen counter\",\\n          \"position_x\": \"{first_aid_kit_position_x}\",\\n          \"position_y\": \"{first_aid_kit_position_y}\",\\n          \"position_z\": \"{first_aid_kit_position_z}\"\\n        }\\n      ]\\n    },\\n    {\\n      \"type\": \"Retry\",\\n      \"retries\": 2,\\n      \"nodes\": [\\n        {\\n          \"type\": \"Navigate\",\\n          \"x\": \"{first_aid_kit_position_x}\",\\n          \"y\": \"{first_aid_kit_position_y}\",\\n          \"z\": \"{first_aid_kit_position_z}\"\\n        }\\n      ]\\n    },\\n    {\\n      \"type\": \"Retry\",\\n      \"retries\": 2,\\n      \"nodes\": [\\n        {\\n          \"type\": \"Pick\",\\n          \"object\": \"first aid kit\",\\n          \"grip_strength\": \"medium\",\\n          \"precision\": \"high\"\\n        }\\n      ]\\n    },\\n    {\\n      \"type\": \"Retry\",\\n      \"retries\": 2,\\n      \"nodes\": [\\n        {\\n          \"type\": \"Place\",\\n          \"object\": \"first aid kit\",\\n          \"surface\": \"wooden cutting board on the dining table\",\\n          \"orientation\": \"upright\",\\n          \"alignment\": \"center\"\\n        }\\n      ]\\n    }\\n  ]\\n}\\n',\n",
       " '\\n    { \"type\": \"Sequence\", \"name\": \"NavigateBackwardSequence\", \"nodes\": [\\n        {\\n            \"type\": \"Retry\", \"retries\": 2, \"nodes\": [\\n                {\\n                    \"type\": \"Locate\", \"object\": \"a wooden cutting board on the dining table\", \"position_x\": \"2.7\", \"position_y\": \"2.0\", \"position_z\": \"0.85\"\\n                }\\n            ]\\n        }\\n    ]}\\n',\n",
       " '\\n  {\\n    \"type\": \"Sequence\",\\n    \"name\": \"LocateCarJackSequence\",\\n    \"nodes\": [\\n      {\\n        \"type\": \"Retry\",\\n        \"retries\": 3,\\n        \"nodes\": [\\n          {\\n            \"type\": \"Locate\",\\n            \"object\": \"car jack sitting on the ground nearby\",\\n            \"position_x\": \"{jack_position_x}\",\\n            \"position_y\": \"{jack_position_y}\",\\n            \"position_z\": \"{jack_position_z}\"\\n          }\\n        ]\\n      },\\n      {\\n        \"type\": \"Retry\",\\n        \"retries\": 2,\\n        \"nodes\": [\\n          {\\n            \"type\": \"Navigate\",\\n            \"x\": \"{jack_position_x}\",\\n            \"y\": \"{jack_position_y}\"\\n          }\\n        ]\\n      },\\n      {\\n        \"type\": \"Retry\",\\n        \"retries\": 2,\\n        \"nodes\": [\\n          {\\n            \"type\": \"Locate\",\\n            \"object\": \"car jack sitting on the ground nearby\",\\n            \"position_x\": \"{jack_position_x}\",\\n            \"position_y\": \"{jack_position_y}\",\\n            \"position_z\": \"{jack_position_z}\"\\n          }\\n        ]\\n      }\\n    ]\\n  }\\n',\n",
       " '\\n  {\\n    \"type\": \"Sequence\",\\n    \"name\": \"RetrieveAndPlaceNotebookAndPenSequence\",\\n    \"nodes\": [\\n      {\\n        \"type\": \"Retry\",\\n        \"retries\": 3,\\n        \"nodes\": [\\n          {\\n            \"type\": \"Locate\",\\n            \"object\": \"notebook and pen\",\\n            \"position_x\": \"{notebook_position_x}\",\\n            \"position_y\": \"{notebook_position_y}\",\\n            \"position_z\": \"{notebook_position_z}\"\\n          }\\n        ]\\n      },\\n      {\\n        \"type\": \"Retry\",\\n        \"retries\": 2,\\n        \"nodes\": [\\n          {\\n            \"type\": \"Navigate\",\\n            \"x\": \"{notebook_position_x}\",\\n            \"y\": \"{notebook_position_y}\",\\n            \"z\": \"{notebook_position_z}\"\\n          }\\n        ]\\n      },\\n      {\\n        \"type\": \"Retry\",\\n        \"retries\": 2,\\n        \"nodes\": [\\n          {\\n            \"type\": \"Pick\",\\n            \"object\": \"notebook and pen\",\\n            \"grip_strength\": \"medium\",\\n            \"precision\": \"high\"\\n          }\\n        ]\\n      },\\n      {\\n        \"type\": \"Retry\",\\n        \"retries\": 2,\\n        \"nodes\": [\\n          {\\n            \"type\": \"Place\",\\n            \"object\": \"notebook and pen\",\\n            \"surface\": \"wooden cutting board on the dining table\",\\n            \"orientation\": \"upright\",\\n            \"alignment\": \"center\"\\n          }\\n        ]\\n      }\\n    ]\\n  }\\n',\n",
       " '\\n{\\n  \"type\": \"Sequence\",\\n  \"name\": \"NavigateAndLocateSequence\",\\n  \"nodes\": [\\n    {\\n      \"type\": \"Retry\",\\n      \"retries\": 2,\\n      \"nodes\": [\\n        {\\n          \"type\": \"Locate\",\\n          \"object\": \"a hammer laying on the counter\",\\n          \"position_x\": \"1.5\",\\n          \"position_y\": \"2.1\",\\n          \"position_z\": \"0.85\"\\n        }\\n      ]\\n    },\\n    {\\n      \"type\": \"Retry\",\\n      \"retries\": 2,\\n      \"nodes\": [\\n        {\\n          \"type\": \"Navigate\",\\n          \"x\": \"7.9\",\\n          \"y\": \"6.8\",\\n          \"z\": \"0.3\"\\n        }\\n      ]\\n    }\\n  ]\\n}\\n',\n",
       " '\\n    {\\n        \"type\": \"Sequence\",\\n        \"name\": \"RetrieveAndPlaceSoupSequence\",\\n        \"nodes\": [\\n            {\\n                \"type\": \"Retry\",\\n                \"retries\": 3,\\n                \"nodes\": [\\n                    {\\n                        \"type\": \"Locate\",\\n                        \"object\": \"can of soup sitting on the kitchen counter\",\\n                        \"position_x\": \"{soup_position_x}\",\\n                        \"position_y\": \"{soup_position_y}\",\\n                        \"position_z\": \"{soup_position_z}\"\\n                    }\\n                ]\\n            },\\n            {\\n                \"type\": \"Retry\",\\n                \"retries\": 2,\\n                \"nodes\": [\\n                    {\\n                        \"type\": \"Navigate\",\\n                        \"x\": \"{soup_position_x}\",\\n                        \"y\": \"{soup_position_y}\",\\n                        \"z\": \"{soup_position_z}\"\\n                    }\\n                ]\\n            },\\n            {\\n                \"type\": \"Retry\",\\n                \"retries\": 2,\\n                \"nodes\": [\\n                    {\\n                        \"type\": \"Pick\",\\n                        \"object\": \"can of soup\",\\n                        \"grip_strength\": \"medium\",\\n                        \"precision\": \"high\"\\n                    }\\n                ]\\n            },\\n            {\\n                \"type\": \"Retry\",\\n                \"retries\": 2,\\n                \"nodes\": [\\n                    {\\n                        \"type\": \"Place\",\\n                        \"object\": \"can of soup\",\\n                        \"surface\": \"ceramic plate with some bread crumbs\",\\n                        \"orientation\": \"upright\",\\n                        \"alignment\": \"center\"\\n                    }\\n                ]\\n            }\\n        ]\\n    }\\n',\n",
       " '\\n  {\\n    \"type\": \"Sequence\",\\n    \"name\": \"LocateAndPlaceWaterFilterSequence\",\\n    \"nodes\": [\\n      {\\n        \"type\": \"Retry\",\\n        \"retries\": 3,\\n        \"nodes\": [\\n          {\\n            \"type\": \"Locate\",\\n            \"object\": \"water filter\",\\n            \"position_x\": \"{water_filter_position_x}\",\\n            \"position_y\": \"{water_filter_position_y}\",\\n            \"position_z\": \"{water_filter_position_z}\"\\n          }\\n        ]\\n      },\\n      {\\n        \"type\": \"Retry\",\\n        \"retries\": 2,\\n        \"nodes\": [\\n          {\\n            \"type\": \"Navigate\",\\n            \"x\": \"{water_filter_position_x}\",\\n            \"y\": \"{water_filter_position_y}\",\\n            \"z\": \"{water_filter_position_z}\"\\n          }\\n        ]\\n      },\\n      {\\n        \"type\": \"Retry\",\\n        \"retries\": 2,\\n        \"nodes\": [\\n          {\\n            \"type\": \"Pick\",\\n            \"object\": \"water filter\",\\n            \"grip_strength\": \"medium\",\\n            \"precision\": \"low\"\\n          }\\n        ]\\n      },\\n      {\\n        \"type\": \"Retry\",\\n        \"retries\": 2,\\n        \"nodes\": [\\n          {\\n            \"type\": \"Place\",\\n            \"object\": \"water filter\",\\n            \"surface\": \"a ceramic plate with some bread crumbs\",\\n            \"orientation\": \"upright\",\\n            \"alignment\": \"center\"\\n          }\\n        ]\\n      }\\n    ]\\n  }\\n',\n",
       " '\\n{\\n  \"type\": \"Sequence\",\\n  \"name\": \"LocateAndPositionFireExtinguisherSequence\",\\n  \"nodes\": [\\n    {\\n      \"type\": \"Retry\",\\n      \"retries\": 3,\\n      \"nodes\": [\\n        {\\n          \"type\": \"Locate\",\\n          \"object\": \"fire extinguisher\",\\n          \"position_x\": \"{fire_extinguisher_position_x}\",\\n          \"position_y\": \"{fire_extinguisher_position_y}\",\\n          \"position_z\": \"{fire_extinguisher_position_z}\"\\n        }\\n      ]\\n    },\\n    {\\n      \"type\": \"Retry\",\\n      \"retries\": 2,\\n      \"nodes\": [\\n        {\\n          \"type\": \"Navigate\",\\n          \"x\": \"{fire_extinguisher_position_x}\",\\n          \"y\": \"{fire_extinguisher_position_y}\",\\n          \"z\": \"{fire_extinguisher_position_z}\"\\n        }\\n      ]\\n    },\\n    {\\n      \"type\": \"Retry\",\\n      \"retries\": 2,\\n      \"nodes\": [\\n        {\\n          \"type\": \"Pick\",\\n          \"object\": \"fire extinguisher\",\\n          \"grip_strength\": \"medium\",\\n          \"precision\": \"low\"\\n        }\\n      ]\\n    },\\n    {\\n      \"type\": \"Retry\",\\n      \"retries\": 2,\\n      \"nodes\": [\\n        {\\n          \"type\": \"Place\",\\n          \"object\": \"fire extinguisher\",\\n          \"surface\": \"near the emergency whistle\",\\n          \"orientation\": \"upright\",\\n          \"alignment\": \"center\"\\n        }\\n      ]\\n    }\\n  ]\\n}\\n']"
      ]
     },
     "execution_count": 26,
     "metadata": {},
     "output_type": "execute_result"
    }
   ],
   "source": [
    "json_1b['plans']['valid']"
   ]
  }
 ],
 "metadata": {
  "kernelspec": {
   "display_name": "env",
   "language": "python",
   "name": "python3"
  },
  "language_info": {
   "codemirror_mode": {
    "name": "ipython",
    "version": 3
   },
   "file_extension": ".py",
   "mimetype": "text/x-python",
   "name": "python",
   "nbconvert_exporter": "python",
   "pygments_lexer": "ipython3",
   "version": "3.11.5"
  }
 },
 "nbformat": 4,
 "nbformat_minor": 2
}
