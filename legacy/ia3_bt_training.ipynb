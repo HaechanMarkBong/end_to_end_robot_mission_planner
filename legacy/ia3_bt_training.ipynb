{
 "cells": [
  {
   "cell_type": "code",
   "execution_count": 1,
   "metadata": {},
   "outputs": [],
   "source": [
    "from transformers import (\n",
    "    AutoModelForCausalLM,\n",
    "    AutoTokenizer,\n",
    "    BitsAndBytesConfig,\n",
    "    TrainingArguments,\n",
    ")\n",
    "from peft import (\n",
    "    IA3Config,\n",
    "    get_peft_model,\n",
    ")\n",
    "import os, torch, wandb\n",
    "from datasets import load_dataset\n",
    "from trl import SFTTrainer, setup_chat_format\n",
    "\n",
    "import pandas as pd\n",
    "from datasets import Dataset\n",
    "\n",
    "import bitsandbytes as bnb\n",
    "\n",
    "torch.cuda.empty_cache()"
   ]
  },
  {
   "cell_type": "code",
   "execution_count": 2,
   "metadata": {},
   "outputs": [
    {
     "data": {
      "application/vnd.jupyter.widget-view+json": {
       "model_id": "2796ce97fdef43d0881e88a7060dd4a9",
       "version_major": 2,
       "version_minor": 0
      },
      "text/plain": [
       "Loading checkpoint shards:   0%|          | 0/2 [00:00<?, ?it/s]"
      ]
     },
     "metadata": {},
     "output_type": "display_data"
    },
    {
     "data": {
      "text/plain": [
       "1"
      ]
     },
     "execution_count": 2,
     "metadata": {},
     "output_type": "execute_result"
    }
   ],
   "source": [
    "torch_dtype = torch.float16\n",
    "attn_implementation = \"eager\"\n",
    "\n",
    "# QLoRA config\n",
    "bnb_config = BitsAndBytesConfig(\n",
    "    load_in_4bit=True,\n",
    "    bnb_4bit_quant_type=\"nf4\",\n",
    "    bnb_4bit_compute_dtype=torch_dtype,\n",
    "    bnb_4bit_use_double_quant=True,\n",
    ")\n",
    "\n",
    "base_model = \"meta-llama/Llama-3.2-3B-Instruct\"\n",
    "\n",
    "# Load model\n",
    "model = AutoModelForCausalLM.from_pretrained(\n",
    "    base_model,\n",
    "    quantization_config=bnb_config,\n",
    "    device_map=\"auto\",\n",
    "    attn_implementation=attn_implementation\n",
    ")\n",
    "\n",
    "# Load tokenizer\n",
    "tokenizer= AutoTokenizer.from_pretrained(base_model, trust_remote_code=True)\n",
    "tokenizer.add_special_tokens({'pad_token': '[PAD]'})"
   ]
  },
  {
   "cell_type": "code",
   "execution_count": 3,
   "metadata": {},
   "outputs": [
    {
     "data": {
      "text/html": [
       "<div>\n",
       "<style scoped>\n",
       "    .dataframe tbody tr th:only-of-type {\n",
       "        vertical-align: middle;\n",
       "    }\n",
       "\n",
       "    .dataframe tbody tr th {\n",
       "        vertical-align: top;\n",
       "    }\n",
       "\n",
       "    .dataframe thead th {\n",
       "        text-align: right;\n",
       "    }\n",
       "</style>\n",
       "<table border=\"1\" class=\"dataframe\">\n",
       "  <thead>\n",
       "    <tr style=\"text-align: right;\">\n",
       "      <th></th>\n",
       "      <th>object_context</th>\n",
       "      <th>actions_dictionary</th>\n",
       "      <th>query</th>\n",
       "      <th>explanation</th>\n",
       "      <th>bt</th>\n",
       "    </tr>\n",
       "  </thead>\n",
       "  <tbody>\n",
       "    <tr>\n",
       "      <th>0</th>\n",
       "      <td>a beach chair and umbrella on the beach (28.3m...</td>\n",
       "      <td>NavigateTo: Moves the robot to a specified tar...</td>\n",
       "      <td>Can you please bring me the bowl of soup and t...</td>\n",
       "      <td>Good, I will first locate the bowl of soup in ...</td>\n",
       "      <td>&lt;root main_tree_to_execute=\"MainTree\"&gt;\\n  &lt;Beh...</td>\n",
       "    </tr>\n",
       "    <tr>\n",
       "      <th>1</th>\n",
       "      <td>a table with chairs (21.3m)\\ntwo men standing ...</td>\n",
       "      <td>NavigateTo: Moves the robot to a specified tar...</td>\n",
       "      <td>\"Can you identify the man in the black jacket ...</td>\n",
       "      <td>In this scenario, I will first attempt to loca...</td>\n",
       "      <td>&lt;root main_tree_to_execute=\"MainTree\"&gt;\\n  &lt;Beh...</td>\n",
       "    </tr>\n",
       "    <tr>\n",
       "      <th>2</th>\n",
       "      <td>a black cow grazing in a field (54.5m)\\na man ...</td>\n",
       "      <td>NavigateTo: Moves the robot to a specified tar...</td>\n",
       "      <td>\"Can you locate the person standing in front o...</td>\n",
       "      <td>In this scenario, I will attempt to locate the...</td>\n",
       "      <td>&lt;root main_tree_to_execute=\"MainTree\"&gt;\\n  &lt;Beh...</td>\n",
       "    </tr>\n",
       "    <tr>\n",
       "      <th>3</th>\n",
       "      <td>a blur of a person walking on a street (13.5m)...</td>\n",
       "      <td>NavigateTo: Moves the robot to a specified tar...</td>\n",
       "      <td>\"Can you display a message on the laptop to re...</td>\n",
       "      <td>I will start by attempting to display a messag...</td>\n",
       "      <td>&lt;root main_tree_to_execute=\"MainTree\"&gt;\\n  &lt;Beh...</td>\n",
       "    </tr>\n",
       "    <tr>\n",
       "      <th>4</th>\n",
       "      <td>a group of men playing frc (64.7m)\\na polar be...</td>\n",
       "      <td>NavigateTo: Moves the robot to a specified tar...</td>\n",
       "      <td>\"Can you take the bowl filled with fruit and i...</td>\n",
       "      <td>I will first check if there is a bowl filled w...</td>\n",
       "      <td>&lt;root main_tree_to_execute=\"MainTree\"&gt;\\n  &lt;Beh...</td>\n",
       "    </tr>\n",
       "  </tbody>\n",
       "</table>\n",
       "</div>"
      ],
      "text/plain": [
       "                                      object_context  \\\n",
       "0  a beach chair and umbrella on the beach (28.3m...   \n",
       "1  a table with chairs (21.3m)\\ntwo men standing ...   \n",
       "2  a black cow grazing in a field (54.5m)\\na man ...   \n",
       "3  a blur of a person walking on a street (13.5m)...   \n",
       "4  a group of men playing frc (64.7m)\\na polar be...   \n",
       "\n",
       "                                  actions_dictionary  \\\n",
       "0  NavigateTo: Moves the robot to a specified tar...   \n",
       "1  NavigateTo: Moves the robot to a specified tar...   \n",
       "2  NavigateTo: Moves the robot to a specified tar...   \n",
       "3  NavigateTo: Moves the robot to a specified tar...   \n",
       "4  NavigateTo: Moves the robot to a specified tar...   \n",
       "\n",
       "                                               query  \\\n",
       "0  Can you please bring me the bowl of soup and t...   \n",
       "1  \"Can you identify the man in the black jacket ...   \n",
       "2  \"Can you locate the person standing in front o...   \n",
       "3  \"Can you display a message on the laptop to re...   \n",
       "4  \"Can you take the bowl filled with fruit and i...   \n",
       "\n",
       "                                         explanation  \\\n",
       "0  Good, I will first locate the bowl of soup in ...   \n",
       "1  In this scenario, I will first attempt to loca...   \n",
       "2  In this scenario, I will attempt to locate the...   \n",
       "3  I will start by attempting to display a messag...   \n",
       "4  I will first check if there is a bowl filled w...   \n",
       "\n",
       "                                                  bt  \n",
       "0  <root main_tree_to_execute=\"MainTree\">\\n  <Beh...  \n",
       "1  <root main_tree_to_execute=\"MainTree\">\\n  <Beh...  \n",
       "2  <root main_tree_to_execute=\"MainTree\">\\n  <Beh...  \n",
       "3  <root main_tree_to_execute=\"MainTree\">\\n  <Beh...  \n",
       "4  <root main_tree_to_execute=\"MainTree\">\\n  <Beh...  "
      ]
     },
     "execution_count": 3,
     "metadata": {},
     "output_type": "execute_result"
    }
   ],
   "source": [
    "data = pd.read_json(\"../data/queries_dataset.json\")\n",
    "data.head()"
   ]
  },
  {
   "cell_type": "code",
   "execution_count": 4,
   "metadata": {},
   "outputs": [
    {
     "name": "stdout",
     "output_type": "stream",
     "text": [
      "You are a helpful robot assistant named Goat that can answer questions or execute actions by generating a behavior tree in the behaviortree cpp format.\n",
      "\n",
      "Object Context : \n",
      "a beach chair and umbrella on the beach (28.3m)\n",
      "a woman walking down the street with an umbrella (96.9m)\n",
      "a blur of a person in a classroom (95.0m)\n",
      "\n",
      "Actions Dictionary:\n",
      "NavigateTo: Moves the robot to a specified target (e.g., location or object). (Arguments: target)\n",
      "Pick: Picks up a specified object. (Arguments: object)\n",
      "Place: Places an object at a specified location. (Arguments: object, location)\n",
      "LocateObject: Searches for a specified object in the environment. (Arguments: object)\n",
      "RequestAssistance: Requests help for a specific task. (Arguments: task)\n",
      "Wait: Waits for a specified amount of time. (Arguments: duration)\n",
      "ExecuteCommand: Runs a specified bash or system command. (Arguments: command)\n",
      "Communicate: Sends a message to a user or another robot. (Arguments: message)\n",
      "RunDiagnostics: Runs system diagnostics to check for issues. (Arguments: )\n",
      "MoveForward: Moves the robot forward by a specified distance. (Arguments: distance)\n",
      "\n"
     ]
    },
    {
     "data": {
      "text/html": [
       "<div>\n",
       "<style scoped>\n",
       "    .dataframe tbody tr th:only-of-type {\n",
       "        vertical-align: middle;\n",
       "    }\n",
       "\n",
       "    .dataframe tbody tr th {\n",
       "        vertical-align: top;\n",
       "    }\n",
       "\n",
       "    .dataframe thead th {\n",
       "        text-align: right;\n",
       "    }\n",
       "</style>\n",
       "<table border=\"1\" class=\"dataframe\">\n",
       "  <thead>\n",
       "    <tr style=\"text-align: right;\">\n",
       "      <th></th>\n",
       "      <th>instruction</th>\n",
       "      <th>input</th>\n",
       "      <th>output</th>\n",
       "    </tr>\n",
       "  </thead>\n",
       "  <tbody>\n",
       "    <tr>\n",
       "      <th>0</th>\n",
       "      <td>You are a helpful robot assistant named Goat t...</td>\n",
       "      <td>Can you please bring me the bowl of soup and t...</td>\n",
       "      <td>&lt;root main_tree_to_execute=\"MainTree\"&gt;\\n  &lt;Beh...</td>\n",
       "    </tr>\n",
       "    <tr>\n",
       "      <th>1</th>\n",
       "      <td>You are a helpful robot assistant named Goat t...</td>\n",
       "      <td>\"Can you identify the man in the black jacket ...</td>\n",
       "      <td>&lt;root main_tree_to_execute=\"MainTree\"&gt;\\n  &lt;Beh...</td>\n",
       "    </tr>\n",
       "    <tr>\n",
       "      <th>2</th>\n",
       "      <td>You are a helpful robot assistant named Goat t...</td>\n",
       "      <td>\"Can you locate the person standing in front o...</td>\n",
       "      <td>&lt;root main_tree_to_execute=\"MainTree\"&gt;\\n  &lt;Beh...</td>\n",
       "    </tr>\n",
       "    <tr>\n",
       "      <th>3</th>\n",
       "      <td>You are a helpful robot assistant named Goat t...</td>\n",
       "      <td>\"Can you display a message on the laptop to re...</td>\n",
       "      <td>&lt;root main_tree_to_execute=\"MainTree\"&gt;\\n  &lt;Beh...</td>\n",
       "    </tr>\n",
       "    <tr>\n",
       "      <th>4</th>\n",
       "      <td>You are a helpful robot assistant named Goat t...</td>\n",
       "      <td>\"Can you take the bowl filled with fruit and i...</td>\n",
       "      <td>&lt;root main_tree_to_execute=\"MainTree\"&gt;\\n  &lt;Beh...</td>\n",
       "    </tr>\n",
       "  </tbody>\n",
       "</table>\n",
       "</div>"
      ],
      "text/plain": [
       "                                         instruction  \\\n",
       "0  You are a helpful robot assistant named Goat t...   \n",
       "1  You are a helpful robot assistant named Goat t...   \n",
       "2  You are a helpful robot assistant named Goat t...   \n",
       "3  You are a helpful robot assistant named Goat t...   \n",
       "4  You are a helpful robot assistant named Goat t...   \n",
       "\n",
       "                                               input  \\\n",
       "0  Can you please bring me the bowl of soup and t...   \n",
       "1  \"Can you identify the man in the black jacket ...   \n",
       "2  \"Can you locate the person standing in front o...   \n",
       "3  \"Can you display a message on the laptop to re...   \n",
       "4  \"Can you take the bowl filled with fruit and i...   \n",
       "\n",
       "                                              output  \n",
       "0  <root main_tree_to_execute=\"MainTree\">\\n  <Beh...  \n",
       "1  <root main_tree_to_execute=\"MainTree\">\\n  <Beh...  \n",
       "2  <root main_tree_to_execute=\"MainTree\">\\n  <Beh...  \n",
       "3  <root main_tree_to_execute=\"MainTree\">\\n  <Beh...  \n",
       "4  <root main_tree_to_execute=\"MainTree\">\\n  <Beh...  "
      ]
     },
     "execution_count": 4,
     "metadata": {},
     "output_type": "execute_result"
    }
   ],
   "source": [
    "object_context = data['object_context']\n",
    "actions_dictionary = data['actions_dictionary']\n",
    "query = data['query']\n",
    "explanation = data['explanation']\n",
    "bt = data['bt']\n",
    "\n",
    "\n",
    "# Create df with the following columns: instruction, input, output\n",
    "def formatting_input(examples):\n",
    "    instruction = \"\"\"You are a helpful robot assistant named Goat that can answer questions or execute actions by generating a behavior tree in the behaviortree cpp format.\n",
    "\n",
    "Object Context : \n",
    "{object_context}\n",
    "\n",
    "Actions Dictionary:\n",
    "{actions_dictionary}\n",
    "\"\"\"\n",
    "\n",
    "    instruction = instruction.format(object_context=examples['object_context'], actions_dictionary=examples['actions_dictionary'])\n",
    "    return instruction\n",
    "\n",
    "for i in range(len(data)):\n",
    "    instruction = formatting_input(data.iloc[i])\n",
    "    print(instruction)\n",
    "    break\n",
    "\n",
    "formatted_data = pd.DataFrame({\n",
    "    'instruction': instruction,\n",
    "    'input': query,\n",
    "    'output': bt,\n",
    "})\n",
    "\n",
    "formatted_data.head()"
   ]
  },
  {
   "cell_type": "code",
   "execution_count": 5,
   "metadata": {},
   "outputs": [
    {
     "data": {
      "application/vnd.jupyter.widget-view+json": {
       "model_id": "b0b48a0537c94e62a64950003d6287ac",
       "version_major": 2,
       "version_minor": 0
      },
      "text/plain": [
       "Map:   0%|          | 0/100 [00:00<?, ? examples/s]"
      ]
     },
     "metadata": {},
     "output_type": "display_data"
    },
    {
     "name": "stdout",
     "output_type": "stream",
     "text": [
      "<|begin_of_text|><|start_header_id|>system<|end_header_id|>\n",
      "You are a helpful robot assistant named Goat that can answer questions or execute actions by generating a behavior tree in the behaviortree cpp format.\n",
      "\n",
      "Object Context : \n",
      "a beach chair and umbrella on the beach (28.3m)\n",
      "a woman walking down the street with an umbrella (96.9m)\n",
      "a blur of a person in a classroom (95.0m)\n",
      "\n",
      "Actions Dictionary:\n",
      "NavigateTo: Moves the robot to a specified target (e.g., location or object). (Arguments: target)\n",
      "Pick: Picks up a specified object. (Arguments: object)\n",
      "Place: Places an object at a specified location. (Arguments: object, location)\n",
      "LocateObject: Searches for a specified object in the environment. (Arguments: object)\n",
      "RequestAssistance: Requests help for a specific task. (Arguments: task)\n",
      "Wait: Waits for a specified amount of time. (Arguments: duration)\n",
      "ExecuteCommand: Runs a specified bash or system command. (Arguments: command)\n",
      "Communicate: Sends a message to a user or another robot. (Arguments: message)\n",
      "RunDiagnostics: Runs system diagnostics to check for issues. (Arguments: )\n",
      "MoveForward: Moves the robot forward by a specified distance. (Arguments: distance)\n",
      "<|eot_id|>\n",
      "<|start_header_id|>user<|end_header_id|>\n",
      "Can you please bring me the bowl of soup and then release it on the table?<|eot_id|>\n",
      "<|start_header_id|>assistant<|end_header_id|>\n",
      "<root main_tree_to_execute=\"MainTree\">\n",
      "  <BehaviorTree ID=\"MainTree\">\n",
      "    <Fallback>\n",
      "      <Sequence>\n",
      "        <Action ID=\"LocateObject\" object=\"bowl_of_soup\"/>\n",
      "        <Action ID=\"NavigateTo\" target=\"bowl_of_soup\"/>\n",
      "        <Action ID=\"Pick\" object=\"bowl_of_soup\"/>\n",
      "        <Action ID=\"Place\" object=\"bowl_of_soup\" location=\"table\"/>\n",
      "      </Sequence>\n",
      "      <Action ID=\"RequestAssistance\" task=\"find_bowl_of_soup\"/>\n",
      "    </Fallback>\n",
      "  </BehaviorTree>\n",
      "</root>\n",
      "\n"
     ]
    }
   ],
   "source": [
    "data_prompt = \"\"\"<|begin_of_text|><|start_header_id|>system<|end_header_id|>\n",
    "{}<|eot_id|>\n",
    "<|start_header_id|>user<|end_header_id|>\n",
    "{}<|eot_id|>\n",
    "<|start_header_id|>assistant<|end_header_id|>\n",
    "{}\n",
    "\"\"\"\n",
    "\n",
    "EOS_TOKEN = \"<|eot_id|>\"\n",
    "\n",
    "def formatting_prompt(examples):\n",
    "    instructions = examples[\"instruction\"]\n",
    "    inputs = examples[\"input\"]\n",
    "    outputs = examples[\"output\"]\n",
    "    texts = []\n",
    "    for instruction,input_, output in zip(instructions, inputs, outputs):\n",
    "        text = data_prompt.format(instruction,input_, output)\n",
    "        texts.append(text)\n",
    "    return { \"text\" : texts, }\n",
    "\n",
    "\n",
    "# Create the dataset and apply the mapping\n",
    "training_data = Dataset.from_pandas(formatted_data)\n",
    "training_data = training_data.map(formatting_prompt, batched=True)\n",
    "\n",
    "# Display a sample for verification\n",
    "print(training_data[0][\"text\"])"
   ]
  },
  {
   "cell_type": "code",
   "execution_count": 6,
   "metadata": {},
   "outputs": [
    {
     "name": "stderr",
     "output_type": "stream",
     "text": [
      "/home/simon/.local/lib/python3.10/site-packages/huggingface_hub/utils/_deprecation.py:100: FutureWarning: Deprecated argument(s) used in '__init__': max_seq_length, dataset_text_field. Will not be supported from version '0.13.0'.\n",
      "\n",
      "Deprecated positional argument(s) used in SFTTrainer, please use the SFTConfig to set these arguments instead.\n",
      "  warnings.warn(message, FutureWarning)\n",
      "/home/simon/.local/lib/python3.10/site-packages/trl/trainer/sft_trainer.py:300: UserWarning: You passed a `max_seq_length` argument to the SFTTrainer, the value you passed will override the one in the `SFTConfig`.\n",
      "  warnings.warn(\n",
      "/home/simon/.local/lib/python3.10/site-packages/trl/trainer/sft_trainer.py:328: UserWarning: You passed a `dataset_text_field` argument to the SFTTrainer, the value you passed will override the one in the `SFTConfig`.\n",
      "  warnings.warn(\n"
     ]
    },
    {
     "data": {
      "application/vnd.jupyter.widget-view+json": {
       "model_id": "55b083b5c77945d3ae028b917f08e773",
       "version_major": 2,
       "version_minor": 0
      },
      "text/plain": [
       "Map:   0%|          | 0/90 [00:00<?, ? examples/s]"
      ]
     },
     "metadata": {},
     "output_type": "display_data"
    },
    {
     "data": {
      "application/vnd.jupyter.widget-view+json": {
       "model_id": "c513e34fe7024c589b094d9363f18a26",
       "version_major": 2,
       "version_minor": 0
      },
      "text/plain": [
       "Map:   0%|          | 0/10 [00:00<?, ? examples/s]"
      ]
     },
     "metadata": {},
     "output_type": "display_data"
    }
   ],
   "source": [
    "\n",
    "def find_all_linear_names(model):\n",
    "    cls = bnb.nn.Linear4bit\n",
    "    lora_module_names = set()\n",
    "    for name, module in model.named_modules():\n",
    "        if isinstance(module, cls):\n",
    "            names = name.split('.')\n",
    "            lora_module_names.add(names[0] if len(names) == 1 else names[-1])\n",
    "    if 'lm_head' in lora_module_names:  # needed for 16 bit\n",
    "        lora_module_names.remove('lm_head')\n",
    "    return list(lora_module_names)\n",
    "\n",
    "modules = find_all_linear_names(model)\n",
    "\n",
    "\n",
    "# LoRA config\n",
    "#peft_config = PrefixTuningConfig(\n",
    "#    num_virtual_tokens=30,  # Number of virtual tokens\n",
    "#    task_type=\"CAUSAL_LM\",  # Task type\n",
    "#)\n",
    "\n",
    "peft_config = IA3Config(task_type=\"CAUSAL_LM\", target_modules=[\"k_proj\", \"v_proj\", \"down_proj\"], feedforward_modules=[\"down_proj\"])\n",
    "\n",
    "\n",
    "\n",
    "new_model = \"llama-3.2-1b-bt-generator-ia3\"\n",
    "\n",
    "#Hyperparamter\n",
    "training_arguments = TrainingArguments(\n",
    "    output_dir=new_model,\n",
    "    per_device_train_batch_size=1,\n",
    "    per_device_eval_batch_size=1,\n",
    "    gradient_accumulation_steps=2,\n",
    "    optim=\"paged_adamw_32bit\",\n",
    "    num_train_epochs=10,\n",
    "    eval_strategy=\"steps\",\n",
    "    eval_steps=0.2,\n",
    "    logging_steps=1,\n",
    "    warmup_steps=10,\n",
    "    logging_strategy=\"steps\",\n",
    "    learning_rate=2e-4,\n",
    "    fp16=False,\n",
    "    bf16=False,\n",
    "    group_by_length=True,\n",
    "    report_to=\"wandb\"\n",
    ")\n",
    "\n",
    "# Create train/test split\n",
    "full_dataset = training_data.train_test_split(test_size=0.1, seed=42)\n",
    "\n",
    "# Setting sft parameters\n",
    "trainer = SFTTrainer(\n",
    "    model=model,\n",
    "    train_dataset=full_dataset[\"train\"],\n",
    "    eval_dataset=full_dataset[\"test\"],\n",
    "    peft_config=peft_config,\n",
    "    max_seq_length=512,\n",
    "    dataset_text_field=\"text\",\n",
    "    tokenizer=tokenizer,\n",
    "    args=training_arguments,\n",
    "    packing=False,\n",
    ")\n",
    "\n"
   ]
  },
  {
   "cell_type": "code",
   "execution_count": 7,
   "metadata": {},
   "outputs": [
    {
     "data": {
      "application/vnd.jupyter.widget-view+json": {
       "model_id": "0694e938820d42d4866e5bd5ac41bd3d",
       "version_major": 2,
       "version_minor": 0
      },
      "text/plain": [
       "Map:   0%|          | 0/100 [00:00<?, ? examples/s]"
      ]
     },
     "metadata": {},
     "output_type": "display_data"
    },
    {
     "name": "stdout",
     "output_type": "stream",
     "text": [
      "<|begin_of_text|><|start_header_id|>system<|end_header_id|>\n",
      "You are a helpful robot assistant named Goat that can answer questions or execute actions by generating a behavior tree in the behaviortree cpp format.\n",
      "\n",
      "Object Context : \n",
      "a beach chair and umbrella on the beach (28.3m)\n",
      "a woman walking down the street with an umbrella (96.9m)\n",
      "a blur of a person in a classroom (95.0m)\n",
      "\n",
      "Actions Dictionary:\n",
      "NavigateTo: Moves the robot to a specified target (e.g., location or object). (Arguments: target)\n",
      "Pick: Picks up a specified object. (Arguments: object)\n",
      "Place: Places an object at a specified location. (Arguments: object, location)\n",
      "LocateObject: Searches for a specified object in the environment. (Arguments: object)\n",
      "RequestAssistance: Requests help for a specific task. (Arguments: task)\n",
      "Wait: Waits for a specified amount of time. (Arguments: duration)\n",
      "ExecuteCommand: Runs a specified bash or system command. (Arguments: command)\n",
      "Communicate: Sends a message to a user or another robot. (Arguments: message)\n",
      "RunDiagnostics: Runs system diagnostics to check for issues. (Arguments: )\n",
      "MoveForward: Moves the robot forward by a specified distance. (Arguments: distance)\n",
      "<|eot_id|>\n",
      "<|start_header_id|>user<|end_header_id|>\n",
      "Can you please bring me the bowl of soup and then release it on the table?<|eot_id|>\n",
      "<|start_header_id|>assistant<|end_header_id|>\n",
      "<root main_tree_to_execute=\"MainTree\">\n",
      "  <BehaviorTree ID=\"MainTree\">\n",
      "    <Fallback>\n",
      "      <Sequence>\n",
      "        <Action ID=\"LocateObject\" object=\"bowl_of_soup\"/>\n",
      "        <Action ID=\"NavigateTo\" target=\"bowl_of_soup\"/>\n",
      "        <Action ID=\"Pick\" object=\"bowl_of_soup\"/>\n",
      "        <Action ID=\"Place\" object=\"bowl_of_soup\" location=\"table\"/>\n",
      "      </Sequence>\n",
      "      <Action ID=\"RequestAssistance\" task=\"find_bowl_of_soup\"/>\n",
      "    </Fallback>\n",
      "  </BehaviorTree>\n",
      "</root>\n"
     ]
    }
   ],
   "source": [
    "data_prompt = \"\"\"<|begin_of_text|><|start_header_id|>system<|end_header_id|>\n",
    "{}<|eot_id|>\n",
    "<|start_header_id|>user<|end_header_id|>\n",
    "{}<|eot_id|>\n",
    "<|start_header_id|>assistant<|end_header_id|>\n",
    "{}\"\"\"\n",
    "\n",
    "EOS_TOKEN = \"<|eot_id|>\"\n",
    "\n",
    "def formatting_prompt(examples):\n",
    "    instructions = examples[\"instruction\"]\n",
    "    inputs = examples[\"input\"]\n",
    "    outputs = examples[\"output\"]\n",
    "    texts = []\n",
    "    for instruction,input_, output in zip(instructions, inputs, outputs):\n",
    "        text = data_prompt.format(instruction,input_, output)\n",
    "        texts.append(text)\n",
    "    return { \"text\" : texts, }\n",
    "\n",
    "\n",
    "# Create the dataset and apply the mapping\n",
    "training_data = Dataset.from_pandas(formatted_data)\n",
    "training_data = training_data.map(formatting_prompt, batched=True)\n",
    "\n",
    "# Display a sample for verification\n",
    "print(training_data[0][\"text\"])"
   ]
  },
  {
   "cell_type": "code",
   "execution_count": 8,
   "metadata": {},
   "outputs": [
    {
     "name": "stderr",
     "output_type": "stream",
     "text": [
      "Setting `pad_token_id` to `eos_token_id`:None for open-end generation.\n"
     ]
    },
    {
     "name": "stdout",
     "output_type": "stream",
     "text": [
      "Answer of the question is: \n",
      "I will generate a behavior tree to accomplish this task.\n",
      "\n",
      "**Behavior Tree:**\n",
      "\n",
      "1. **NavigateTo** (target: \"bowl of soup\")\n",
      "\t* ExecuteCommand (command: \"LocateObject\" with argument: \"bowl of soup\")\n",
      "2. **Wait** (duration: 2 seconds)\n",
      "3. **Pick** (object: \"bowl of soup\")\n",
      "4. **NavigateTo** (target: \"table\")\n",
      "5. **Place** (object: \"bowl of soup\", location: \"table\")\n",
      "6. **Release** (object: \"bowl of soup\") -> This is not explicitly stated in the original request, but it's assumed that the bowl of soup will be released after it's placed on the table.\n",
      "\n",
      "Please note that this behavior tree assumes that the robot can see the bowl of soup and the table, and that it can move around and interact with objects in the environment. If there are any obstacles or limitations, the robot may need to be modified to accommodate those conditions.<|eot_id|>\n"
     ]
    }
   ],
   "source": [
    "instructions = training_data[\"instruction\"][0]\n",
    "inputs = training_data[\"input\"][0]\n",
    "outputs = training_data[\"output\"][0]\n",
    "text = data_prompt.format(instructions, inputs, \"\")\n",
    "\n",
    "inputs = tokenizer([\n",
    "    text\n",
    "], return_tensors='pt', padding=True, truncation=True).to(\"cuda\")\n",
    "\n",
    "\n",
    "outputs = model.generate(**inputs, max_new_tokens = 2020, use_cache = True)\n",
    "\n",
    "answer=tokenizer.batch_decode(outputs)\n",
    "answer=answer[0].split(\"<|start_header_id|>assistant<|end_header_id|>\")[-1]\n",
    "print(\"Answer of the question is:\", answer)"
   ]
  },
  {
   "cell_type": "code",
   "execution_count": 9,
   "metadata": {},
   "outputs": [
    {
     "name": "stderr",
     "output_type": "stream",
     "text": [
      "\u001b[34m\u001b[1mwandb\u001b[0m: \u001b[33mWARNING\u001b[0m The `run_name` is currently set to the same value as `TrainingArguments.output_dir`. If this was not intended, please specify a different run name by setting the `TrainingArguments.run_name` parameter.\n",
      "\u001b[34m\u001b[1mwandb\u001b[0m: Using wandb-core as the SDK backend.  Please refer to https://wandb.me/wandb-core for more information.\n",
      "\u001b[34m\u001b[1mwandb\u001b[0m: Currently logged in as: \u001b[33msimonroy99\u001b[0m (\u001b[33msimonroy99-cole-de-technologie-sup-rieure\u001b[0m). Use \u001b[1m`wandb login --relogin`\u001b[0m to force relogin\n"
     ]
    },
    {
     "data": {
      "text/html": [
       "Tracking run with wandb version 0.18.7"
      ],
      "text/plain": [
       "<IPython.core.display.HTML object>"
      ]
     },
     "metadata": {},
     "output_type": "display_data"
    },
    {
     "data": {
      "text/html": [
       "Run data is saved locally in <code>/home/simon/workspace/ETS/SYS819/proteus/training/wandb/run-20241202_214734-3a12nct8</code>"
      ],
      "text/plain": [
       "<IPython.core.display.HTML object>"
      ]
     },
     "metadata": {},
     "output_type": "display_data"
    },
    {
     "data": {
      "text/html": [
       "Syncing run <strong><a href='https://wandb.ai/simonroy99-cole-de-technologie-sup-rieure/huggingface/runs/3a12nct8' target=\"_blank\">llama-3.2-1b-bt-generator-ia3</a></strong> to <a href='https://wandb.ai/simonroy99-cole-de-technologie-sup-rieure/huggingface' target=\"_blank\">Weights & Biases</a> (<a href='https://wandb.me/developer-guide' target=\"_blank\">docs</a>)<br/>"
      ],
      "text/plain": [
       "<IPython.core.display.HTML object>"
      ]
     },
     "metadata": {},
     "output_type": "display_data"
    },
    {
     "data": {
      "text/html": [
       " View project at <a href='https://wandb.ai/simonroy99-cole-de-technologie-sup-rieure/huggingface' target=\"_blank\">https://wandb.ai/simonroy99-cole-de-technologie-sup-rieure/huggingface</a>"
      ],
      "text/plain": [
       "<IPython.core.display.HTML object>"
      ]
     },
     "metadata": {},
     "output_type": "display_data"
    },
    {
     "data": {
      "text/html": [
       " View run at <a href='https://wandb.ai/simonroy99-cole-de-technologie-sup-rieure/huggingface/runs/3a12nct8' target=\"_blank\">https://wandb.ai/simonroy99-cole-de-technologie-sup-rieure/huggingface/runs/3a12nct8</a>"
      ],
      "text/plain": [
       "<IPython.core.display.HTML object>"
      ]
     },
     "metadata": {},
     "output_type": "display_data"
    },
    {
     "data": {
      "application/vnd.jupyter.widget-view+json": {
       "model_id": "f3cc0cacf244405e9c14d5d747caff35",
       "version_major": 2,
       "version_minor": 0
      },
      "text/plain": [
       "  0%|          | 0/450 [00:00<?, ?it/s]"
      ]
     },
     "metadata": {},
     "output_type": "display_data"
    },
    {
     "name": "stdout",
     "output_type": "stream",
     "text": [
      "{'loss': 2.2404, 'grad_norm': 0.5052285194396973, 'learning_rate': 2e-05, 'epoch': 0.02}\n",
      "{'loss': 2.222, 'grad_norm': 0.49845561385154724, 'learning_rate': 4e-05, 'epoch': 0.04}\n",
      "{'loss': 2.3632, 'grad_norm': 0.5483046174049377, 'learning_rate': 6e-05, 'epoch': 0.07}\n",
      "{'loss': 2.3553, 'grad_norm': 0.5415289402008057, 'learning_rate': 8e-05, 'epoch': 0.09}\n",
      "{'loss': 2.4223, 'grad_norm': 0.56755530834198, 'learning_rate': 0.0001, 'epoch': 0.11}\n",
      "{'loss': 2.4278, 'grad_norm': 0.5752573013305664, 'learning_rate': 0.00012, 'epoch': 0.13}\n",
      "{'loss': 2.3848, 'grad_norm': 0.5165063738822937, 'learning_rate': 0.00014, 'epoch': 0.16}\n",
      "{'loss': 2.5268, 'grad_norm': 0.540898859500885, 'learning_rate': 0.00016, 'epoch': 0.18}\n",
      "{'loss': 2.831, 'grad_norm': 0.5970773696899414, 'learning_rate': 0.00018, 'epoch': 0.2}\n",
      "{'loss': 2.8624, 'grad_norm': 0.5914139151573181, 'learning_rate': 0.0002, 'epoch': 0.22}\n",
      "{'loss': 2.9287, 'grad_norm': 0.6268059611320496, 'learning_rate': 0.00019954545454545455, 'epoch': 0.24}\n",
      "{'loss': 2.2615, 'grad_norm': 0.4720436632633209, 'learning_rate': 0.0001990909090909091, 'epoch': 0.27}\n",
      "{'loss': 2.2275, 'grad_norm': 0.45484858751296997, 'learning_rate': 0.00019863636363636364, 'epoch': 0.29}\n",
      "{'loss': 2.1399, 'grad_norm': 0.39364975690841675, 'learning_rate': 0.00019818181818181821, 'epoch': 0.31}\n",
      "{'loss': 2.1882, 'grad_norm': 0.4082724452018738, 'learning_rate': 0.00019772727272727273, 'epoch': 0.33}\n",
      "{'loss': 2.2394, 'grad_norm': 0.3927539885044098, 'learning_rate': 0.00019727272727272728, 'epoch': 0.36}\n",
      "{'loss': 2.3288, 'grad_norm': 0.37970811128616333, 'learning_rate': 0.00019681818181818185, 'epoch': 0.38}\n",
      "{'loss': 2.3023, 'grad_norm': 0.3941406011581421, 'learning_rate': 0.00019636363636363636, 'epoch': 0.4}\n",
      "{'loss': 2.402, 'grad_norm': 0.40430036187171936, 'learning_rate': 0.0001959090909090909, 'epoch': 0.42}\n",
      "{'loss': 2.4997, 'grad_norm': 0.4278047978878021, 'learning_rate': 0.00019545454545454548, 'epoch': 0.44}\n",
      "{'loss': 2.6995, 'grad_norm': 0.40681180357933044, 'learning_rate': 0.000195, 'epoch': 0.47}\n",
      "{'loss': 2.739, 'grad_norm': 0.42063379287719727, 'learning_rate': 0.00019454545454545457, 'epoch': 0.49}\n",
      "{'loss': 2.0629, 'grad_norm': 0.32280388474464417, 'learning_rate': 0.0001940909090909091, 'epoch': 0.51}\n",
      "{'loss': 1.9935, 'grad_norm': 0.30071988701820374, 'learning_rate': 0.00019363636363636363, 'epoch': 0.53}\n",
      "{'loss': 1.9979, 'grad_norm': 0.32741573452949524, 'learning_rate': 0.0001931818181818182, 'epoch': 0.56}\n",
      "{'loss': 2.1014, 'grad_norm': 0.3189399242401123, 'learning_rate': 0.00019272727272727274, 'epoch': 0.58}\n",
      "{'loss': 2.0809, 'grad_norm': 0.29691067337989807, 'learning_rate': 0.00019227272727272726, 'epoch': 0.6}\n",
      "{'loss': 2.1043, 'grad_norm': 0.2963569164276123, 'learning_rate': 0.00019181818181818183, 'epoch': 0.62}\n",
      "{'loss': 2.2512, 'grad_norm': 0.42239585518836975, 'learning_rate': 0.00019136363636363638, 'epoch': 0.64}\n",
      "{'loss': 2.4297, 'grad_norm': 0.4150792956352234, 'learning_rate': 0.00019090909090909092, 'epoch': 0.67}\n",
      "{'loss': 2.6775, 'grad_norm': 0.3804419934749603, 'learning_rate': 0.00019045454545454547, 'epoch': 0.69}\n",
      "{'loss': 2.6289, 'grad_norm': 0.3892160952091217, 'learning_rate': 0.00019, 'epoch': 0.71}\n",
      "{'loss': 2.5806, 'grad_norm': 0.3532404601573944, 'learning_rate': 0.00018954545454545455, 'epoch': 0.73}\n",
      "{'loss': 1.9705, 'grad_norm': 0.266104519367218, 'learning_rate': 0.0001890909090909091, 'epoch': 0.76}\n",
      "{'loss': 1.9139, 'grad_norm': 0.26980891823768616, 'learning_rate': 0.00018863636363636364, 'epoch': 0.78}\n",
      "{'loss': 1.9607, 'grad_norm': 0.267931193113327, 'learning_rate': 0.0001881818181818182, 'epoch': 0.8}\n",
      "{'loss': 1.9572, 'grad_norm': 0.2707032263278961, 'learning_rate': 0.00018772727272727273, 'epoch': 0.82}\n",
      "{'loss': 1.9007, 'grad_norm': 0.2409742772579193, 'learning_rate': 0.00018727272727272728, 'epoch': 0.84}\n",
      "{'loss': 2.0048, 'grad_norm': 0.2670132517814636, 'learning_rate': 0.00018681818181818182, 'epoch': 0.87}\n",
      "{'loss': 2.0793, 'grad_norm': 0.2951957583427429, 'learning_rate': 0.00018636363636363636, 'epoch': 0.89}\n",
      "{'loss': 2.0386, 'grad_norm': 0.30226561427116394, 'learning_rate': 0.0001859090909090909, 'epoch': 0.91}\n",
      "{'loss': 2.1386, 'grad_norm': 0.2839077413082123, 'learning_rate': 0.00018545454545454545, 'epoch': 0.93}\n",
      "{'loss': 2.25, 'grad_norm': 0.33763912320137024, 'learning_rate': 0.00018500000000000002, 'epoch': 0.96}\n",
      "{'loss': 2.5232, 'grad_norm': 0.3391091525554657, 'learning_rate': 0.00018454545454545454, 'epoch': 0.98}\n",
      "{'loss': 2.0305, 'grad_norm': 0.27276667952537537, 'learning_rate': 0.00018409090909090909, 'epoch': 1.0}\n",
      "{'loss': 1.9114, 'grad_norm': 0.2508411109447479, 'learning_rate': 0.00018363636363636366, 'epoch': 1.02}\n",
      "{'loss': 1.9168, 'grad_norm': 0.24799028038978577, 'learning_rate': 0.00018318181818181817, 'epoch': 1.04}\n",
      "{'loss': 1.9478, 'grad_norm': 0.26368439197540283, 'learning_rate': 0.00018272727272727275, 'epoch': 1.07}\n",
      "{'loss': 1.83, 'grad_norm': 0.22166982293128967, 'learning_rate': 0.0001822727272727273, 'epoch': 1.09}\n",
      "{'loss': 1.9413, 'grad_norm': 0.25572600960731506, 'learning_rate': 0.00018181818181818183, 'epoch': 1.11}\n",
      "{'loss': 1.933, 'grad_norm': 0.2649259567260742, 'learning_rate': 0.00018136363636363638, 'epoch': 1.13}\n",
      "{'loss': 1.9601, 'grad_norm': 0.2581838369369507, 'learning_rate': 0.00018090909090909092, 'epoch': 1.16}\n",
      "{'loss': 2.0718, 'grad_norm': 0.263298362493515, 'learning_rate': 0.00018045454545454547, 'epoch': 1.18}\n",
      "{'loss': 2.0514, 'grad_norm': 0.2549028992652893, 'learning_rate': 0.00018, 'epoch': 1.2}\n",
      "{'loss': 2.4194, 'grad_norm': 0.32308194041252136, 'learning_rate': 0.00017954545454545456, 'epoch': 1.22}\n",
      "{'loss': 2.3966, 'grad_norm': 0.31642183661460876, 'learning_rate': 0.0001790909090909091, 'epoch': 1.24}\n",
      "{'loss': 1.7637, 'grad_norm': 0.21782752871513367, 'learning_rate': 0.00017863636363636364, 'epoch': 1.27}\n",
      "{'loss': 1.7435, 'grad_norm': 0.22750627994537354, 'learning_rate': 0.0001781818181818182, 'epoch': 1.29}\n",
      "{'loss': 1.9089, 'grad_norm': 0.25839048624038696, 'learning_rate': 0.00017772727272727273, 'epoch': 1.31}\n",
      "{'loss': 1.8594, 'grad_norm': 0.23164233565330505, 'learning_rate': 0.00017727272727272728, 'epoch': 1.33}\n",
      "{'loss': 1.8858, 'grad_norm': 0.27313295006752014, 'learning_rate': 0.00017681818181818182, 'epoch': 1.36}\n",
      "{'loss': 1.9586, 'grad_norm': 0.2408655881881714, 'learning_rate': 0.00017636363636363637, 'epoch': 1.38}\n",
      "{'loss': 2.0419, 'grad_norm': 0.303368479013443, 'learning_rate': 0.0001759090909090909, 'epoch': 1.4}\n",
      "{'loss': 2.0879, 'grad_norm': 0.29876503348350525, 'learning_rate': 0.00017545454545454548, 'epoch': 1.42}\n",
      "{'loss': 2.1866, 'grad_norm': 0.2776414752006531, 'learning_rate': 0.000175, 'epoch': 1.44}\n",
      "{'loss': 2.356, 'grad_norm': 0.31063786149024963, 'learning_rate': 0.00017454545454545454, 'epoch': 1.47}\n",
      "{'loss': 2.3344, 'grad_norm': 0.28743302822113037, 'learning_rate': 0.00017409090909090911, 'epoch': 1.49}\n",
      "{'loss': 1.7229, 'grad_norm': 0.2155049592256546, 'learning_rate': 0.00017363636363636363, 'epoch': 1.51}\n",
      "{'loss': 1.7654, 'grad_norm': 0.21653743088245392, 'learning_rate': 0.0001731818181818182, 'epoch': 1.53}\n",
      "{'loss': 1.8001, 'grad_norm': 0.2371630221605301, 'learning_rate': 0.00017272727272727275, 'epoch': 1.56}\n",
      "{'loss': 1.7782, 'grad_norm': 0.22167940437793732, 'learning_rate': 0.00017227272727272726, 'epoch': 1.58}\n",
      "{'loss': 1.7572, 'grad_norm': 0.20750801265239716, 'learning_rate': 0.00017181818181818184, 'epoch': 1.6}\n",
      "{'loss': 1.8244, 'grad_norm': 0.23124338686466217, 'learning_rate': 0.00017136363636363638, 'epoch': 1.62}\n",
      "{'loss': 1.9344, 'grad_norm': 0.2365993857383728, 'learning_rate': 0.0001709090909090909, 'epoch': 1.64}\n",
      "{'loss': 1.9005, 'grad_norm': 0.26278558373451233, 'learning_rate': 0.00017045454545454547, 'epoch': 1.67}\n",
      "{'loss': 2.0941, 'grad_norm': 0.27269724011421204, 'learning_rate': 0.00017, 'epoch': 1.69}\n",
      "{'loss': 2.2711, 'grad_norm': 0.2943912446498871, 'learning_rate': 0.00016954545454545456, 'epoch': 1.71}\n",
      "{'loss': 2.3139, 'grad_norm': 0.30004724860191345, 'learning_rate': 0.0001690909090909091, 'epoch': 1.73}\n",
      "{'loss': 1.6553, 'grad_norm': 0.2015082687139511, 'learning_rate': 0.00016863636363636364, 'epoch': 1.76}\n",
      "{'loss': 1.7306, 'grad_norm': 0.22355329990386963, 'learning_rate': 0.0001681818181818182, 'epoch': 1.78}\n",
      "{'loss': 1.7462, 'grad_norm': 0.2218412458896637, 'learning_rate': 0.00016772727272727273, 'epoch': 1.8}\n",
      "{'loss': 1.7834, 'grad_norm': 0.20972572267055511, 'learning_rate': 0.00016727272727272728, 'epoch': 1.82}\n",
      "{'loss': 1.8146, 'grad_norm': 0.22794926166534424, 'learning_rate': 0.00016681818181818182, 'epoch': 1.84}\n",
      "{'loss': 1.7895, 'grad_norm': 0.2431163489818573, 'learning_rate': 0.00016636363636363637, 'epoch': 1.87}\n",
      "{'loss': 1.898, 'grad_norm': 0.22068923711776733, 'learning_rate': 0.00016590909090909094, 'epoch': 1.89}\n",
      "{'loss': 1.8923, 'grad_norm': 0.21718861162662506, 'learning_rate': 0.00016545454545454545, 'epoch': 1.91}\n",
      "{'loss': 2.0981, 'grad_norm': 0.26586511731147766, 'learning_rate': 0.000165, 'epoch': 1.93}\n",
      "{'loss': 2.1975, 'grad_norm': 0.2608432173728943, 'learning_rate': 0.00016454545454545457, 'epoch': 1.96}\n",
      "{'loss': 2.2274, 'grad_norm': 0.2954297959804535, 'learning_rate': 0.0001640909090909091, 'epoch': 1.98}\n"
     ]
    },
    {
     "name": "stderr",
     "output_type": "stream",
     "text": [
      "Trainer.tokenizer is now deprecated. You should use Trainer.processing_class instead.\n",
      "Trainer.tokenizer is now deprecated. You should use Trainer.processing_class instead.\n"
     ]
    },
    {
     "name": "stdout",
     "output_type": "stream",
     "text": [
      "{'loss': 1.6745, 'grad_norm': 0.24527615308761597, 'learning_rate': 0.00016363636363636366, 'epoch': 2.0}\n"
     ]
    },
    {
     "data": {
      "application/vnd.jupyter.widget-view+json": {
       "model_id": "21c17f899c4b4ad59def06d4e36a6449",
       "version_major": 2,
       "version_minor": 0
      },
      "text/plain": [
       "  0%|          | 0/10 [00:00<?, ?it/s]"
      ]
     },
     "metadata": {},
     "output_type": "display_data"
    },
    {
     "name": "stdout",
     "output_type": "stream",
     "text": [
      "{'eval_loss': 1.9440873861312866, 'eval_runtime': 2.5618, 'eval_samples_per_second': 3.903, 'eval_steps_per_second': 3.903, 'epoch': 2.0}\n",
      "{'loss': 1.6373, 'grad_norm': 0.20656536519527435, 'learning_rate': 0.0001631818181818182, 'epoch': 2.02}\n",
      "{'loss': 1.6417, 'grad_norm': 0.21549652516841888, 'learning_rate': 0.00016272727272727272, 'epoch': 2.04}\n",
      "{'loss': 1.6405, 'grad_norm': 0.23375044763088226, 'learning_rate': 0.0001622727272727273, 'epoch': 2.07}\n",
      "{'loss': 1.7135, 'grad_norm': 0.20034921169281006, 'learning_rate': 0.00016181818181818184, 'epoch': 2.09}\n",
      "{'loss': 1.649, 'grad_norm': 0.1997220665216446, 'learning_rate': 0.00016136363636363635, 'epoch': 2.11}\n",
      "{'loss': 1.662, 'grad_norm': 0.21280109882354736, 'learning_rate': 0.00016090909090909092, 'epoch': 2.13}\n",
      "{'loss': 1.6743, 'grad_norm': 0.22023487091064453, 'learning_rate': 0.00016045454545454547, 'epoch': 2.16}\n",
      "{'loss': 1.7421, 'grad_norm': 0.2242555469274521, 'learning_rate': 0.00016, 'epoch': 2.18}\n",
      "{'loss': 1.8945, 'grad_norm': 0.2325151413679123, 'learning_rate': 0.00015954545454545456, 'epoch': 2.2}\n",
      "{'loss': 1.7451, 'grad_norm': 0.2527821362018585, 'learning_rate': 0.0001590909090909091, 'epoch': 2.22}\n",
      "{'loss': 2.0948, 'grad_norm': 0.29730406403541565, 'learning_rate': 0.00015863636363636365, 'epoch': 2.24}\n",
      "{'loss': 1.5883, 'grad_norm': 0.19624610245227814, 'learning_rate': 0.0001581818181818182, 'epoch': 2.27}\n",
      "{'loss': 1.6573, 'grad_norm': 0.1964169144630432, 'learning_rate': 0.00015772727272727273, 'epoch': 2.29}\n",
      "{'loss': 1.6112, 'grad_norm': 0.21809758245944977, 'learning_rate': 0.00015727272727272728, 'epoch': 2.31}\n",
      "{'loss': 1.6192, 'grad_norm': 0.21547196805477142, 'learning_rate': 0.00015681818181818182, 'epoch': 2.33}\n",
      "{'loss': 1.6833, 'grad_norm': 0.28376302123069763, 'learning_rate': 0.00015636363636363637, 'epoch': 2.36}\n",
      "{'loss': 1.7636, 'grad_norm': 0.22484071552753448, 'learning_rate': 0.0001559090909090909, 'epoch': 2.38}\n",
      "{'loss': 1.9049, 'grad_norm': 0.22133959829807281, 'learning_rate': 0.00015545454545454546, 'epoch': 2.4}\n",
      "{'loss': 2.0045, 'grad_norm': 0.23720090091228485, 'learning_rate': 0.000155, 'epoch': 2.42}\n",
      "{'loss': 2.0483, 'grad_norm': 0.2500896155834198, 'learning_rate': 0.00015454545454545454, 'epoch': 2.44}\n",
      "{'loss': 2.0857, 'grad_norm': 0.2657129466533661, 'learning_rate': 0.00015409090909090912, 'epoch': 2.47}\n",
      "{'loss': 2.0338, 'grad_norm': 0.25402411818504333, 'learning_rate': 0.00015363636363636363, 'epoch': 2.49}\n",
      "{'loss': 1.5409, 'grad_norm': 0.18369784951210022, 'learning_rate': 0.00015318181818181818, 'epoch': 2.51}\n",
      "{'loss': 1.4924, 'grad_norm': 0.17106030881404877, 'learning_rate': 0.00015272727272727275, 'epoch': 2.53}\n",
      "{'loss': 1.5638, 'grad_norm': 0.19997906684875488, 'learning_rate': 0.00015227272727272727, 'epoch': 2.56}\n",
      "{'loss': 1.5666, 'grad_norm': 0.18232132494449615, 'learning_rate': 0.0001518181818181818, 'epoch': 2.58}\n",
      "{'loss': 1.5989, 'grad_norm': 0.19833935797214508, 'learning_rate': 0.00015136363636363638, 'epoch': 2.6}\n",
      "{'loss': 1.5994, 'grad_norm': 0.20418933033943176, 'learning_rate': 0.0001509090909090909, 'epoch': 2.62}\n",
      "{'loss': 1.5835, 'grad_norm': 0.20245680212974548, 'learning_rate': 0.00015045454545454547, 'epoch': 2.64}\n",
      "{'loss': 1.6221, 'grad_norm': 0.197964146733284, 'learning_rate': 0.00015000000000000001, 'epoch': 2.67}\n",
      "{'loss': 1.698, 'grad_norm': 0.21444061398506165, 'learning_rate': 0.00014954545454545453, 'epoch': 2.69}\n",
      "{'loss': 2.0244, 'grad_norm': 0.22961245477199554, 'learning_rate': 0.0001490909090909091, 'epoch': 2.71}\n",
      "{'loss': 1.9389, 'grad_norm': 0.24310828745365143, 'learning_rate': 0.00014863636363636365, 'epoch': 2.73}\n",
      "{'loss': 1.4444, 'grad_norm': 0.178646057844162, 'learning_rate': 0.0001481818181818182, 'epoch': 2.76}\n",
      "{'loss': 1.4676, 'grad_norm': 0.15408864617347717, 'learning_rate': 0.00014772727272727274, 'epoch': 2.78}\n",
      "{'loss': 1.4551, 'grad_norm': 0.17964385449886322, 'learning_rate': 0.00014727272727272728, 'epoch': 2.8}\n",
      "{'loss': 1.4183, 'grad_norm': 0.18903832137584686, 'learning_rate': 0.00014681818181818182, 'epoch': 2.82}\n",
      "{'loss': 1.498, 'grad_norm': 0.1667514443397522, 'learning_rate': 0.00014636363636363637, 'epoch': 2.84}\n",
      "{'loss': 1.508, 'grad_norm': 0.2021467089653015, 'learning_rate': 0.0001459090909090909, 'epoch': 2.87}\n",
      "{'loss': 1.5499, 'grad_norm': 0.1858879029750824, 'learning_rate': 0.00014545454545454546, 'epoch': 2.89}\n",
      "{'loss': 1.6228, 'grad_norm': 0.1769781857728958, 'learning_rate': 0.000145, 'epoch': 2.91}\n",
      "{'loss': 1.8181, 'grad_norm': 0.20763644576072693, 'learning_rate': 0.00014454545454545457, 'epoch': 2.93}\n",
      "{'loss': 1.8657, 'grad_norm': 0.22883300483226776, 'learning_rate': 0.0001440909090909091, 'epoch': 2.96}\n",
      "{'loss': 1.9689, 'grad_norm': 0.289989173412323, 'learning_rate': 0.00014363636363636363, 'epoch': 2.98}\n",
      "{'loss': 1.6847, 'grad_norm': 0.21611617505550385, 'learning_rate': 0.0001431818181818182, 'epoch': 3.0}\n",
      "{'loss': 1.4307, 'grad_norm': 0.16329577565193176, 'learning_rate': 0.00014272727272727272, 'epoch': 3.02}\n",
      "{'loss': 1.4124, 'grad_norm': 0.1760803759098053, 'learning_rate': 0.00014227272727272727, 'epoch': 3.04}\n",
      "{'loss': 1.4112, 'grad_norm': 0.17474554479122162, 'learning_rate': 0.00014181818181818184, 'epoch': 3.07}\n",
      "{'loss': 1.4335, 'grad_norm': 0.16411855816841125, 'learning_rate': 0.00014136363636363635, 'epoch': 3.09}\n",
      "{'loss': 1.5071, 'grad_norm': 0.18554964661598206, 'learning_rate': 0.00014090909090909093, 'epoch': 3.11}\n",
      "{'loss': 1.4756, 'grad_norm': 0.20152145624160767, 'learning_rate': 0.00014045454545454547, 'epoch': 3.13}\n",
      "{'loss': 1.4981, 'grad_norm': 0.2015756219625473, 'learning_rate': 0.00014, 'epoch': 3.16}\n",
      "{'loss': 1.5554, 'grad_norm': 0.20336058735847473, 'learning_rate': 0.00013954545454545456, 'epoch': 3.18}\n",
      "{'loss': 1.889, 'grad_norm': 0.2140115350484848, 'learning_rate': 0.0001390909090909091, 'epoch': 3.2}\n",
      "{'loss': 1.8592, 'grad_norm': 0.21734441816806793, 'learning_rate': 0.00013863636363636365, 'epoch': 3.22}\n",
      "{'loss': 1.8249, 'grad_norm': 0.2360296994447708, 'learning_rate': 0.0001381818181818182, 'epoch': 3.24}\n",
      "{'loss': 1.4453, 'grad_norm': 0.17055641114711761, 'learning_rate': 0.00013772727272727274, 'epoch': 3.27}\n",
      "{'loss': 1.3518, 'grad_norm': 0.17372490465641022, 'learning_rate': 0.00013727272727272728, 'epoch': 3.29}\n",
      "{'loss': 1.3899, 'grad_norm': 0.19490046799182892, 'learning_rate': 0.00013681818181818182, 'epoch': 3.31}\n",
      "{'loss': 1.4643, 'grad_norm': 0.18635617196559906, 'learning_rate': 0.00013636363636363637, 'epoch': 3.33}\n",
      "{'loss': 1.3966, 'grad_norm': 0.17373690009117126, 'learning_rate': 0.0001359090909090909, 'epoch': 3.36}\n",
      "{'loss': 1.4686, 'grad_norm': 0.194037526845932, 'learning_rate': 0.00013545454545454546, 'epoch': 3.38}\n",
      "{'loss': 1.4774, 'grad_norm': 0.20610110461711884, 'learning_rate': 0.00013500000000000003, 'epoch': 3.4}\n",
      "{'loss': 1.515, 'grad_norm': 0.1815127432346344, 'learning_rate': 0.00013454545454545455, 'epoch': 3.42}\n",
      "{'loss': 1.6147, 'grad_norm': 0.19400957226753235, 'learning_rate': 0.0001340909090909091, 'epoch': 3.44}\n",
      "{'loss': 1.7505, 'grad_norm': 0.21414250135421753, 'learning_rate': 0.00013363636363636366, 'epoch': 3.47}\n",
      "{'loss': 1.832, 'grad_norm': 0.24630171060562134, 'learning_rate': 0.00013318181818181818, 'epoch': 3.49}\n",
      "{'loss': 1.3212, 'grad_norm': 0.1594737321138382, 'learning_rate': 0.00013272727272727275, 'epoch': 3.51}\n",
      "{'loss': 1.413, 'grad_norm': 0.18363256752490997, 'learning_rate': 0.0001322727272727273, 'epoch': 3.53}\n",
      "{'loss': 1.3944, 'grad_norm': 0.17210480570793152, 'learning_rate': 0.0001318181818181818, 'epoch': 3.56}\n",
      "{'loss': 1.3767, 'grad_norm': 0.17760860919952393, 'learning_rate': 0.00013136363636363638, 'epoch': 3.58}\n",
      "{'loss': 1.4004, 'grad_norm': 0.20647162199020386, 'learning_rate': 0.00013090909090909093, 'epoch': 3.6}\n",
      "{'loss': 1.3801, 'grad_norm': 0.18001355230808258, 'learning_rate': 0.00013045454545454544, 'epoch': 3.62}\n",
      "{'loss': 1.3782, 'grad_norm': 0.19226093590259552, 'learning_rate': 0.00013000000000000002, 'epoch': 3.64}\n",
      "{'loss': 1.4524, 'grad_norm': 0.24853965640068054, 'learning_rate': 0.00012954545454545456, 'epoch': 3.67}\n",
      "{'loss': 1.6354, 'grad_norm': 0.2070305049419403, 'learning_rate': 0.0001290909090909091, 'epoch': 3.69}\n",
      "{'loss': 1.7222, 'grad_norm': 0.21894358098506927, 'learning_rate': 0.00012863636363636365, 'epoch': 3.71}\n",
      "{'loss': 1.7991, 'grad_norm': 0.24915386736392975, 'learning_rate': 0.0001281818181818182, 'epoch': 3.73}\n",
      "{'loss': 1.3114, 'grad_norm': 0.17488650977611542, 'learning_rate': 0.00012772727272727274, 'epoch': 3.76}\n",
      "{'loss': 1.3328, 'grad_norm': 0.17973490059375763, 'learning_rate': 0.00012727272727272728, 'epoch': 3.78}\n",
      "{'loss': 1.2718, 'grad_norm': 0.19296517968177795, 'learning_rate': 0.00012681818181818183, 'epoch': 3.8}\n",
      "{'loss': 1.3073, 'grad_norm': 0.1708797812461853, 'learning_rate': 0.00012636363636363637, 'epoch': 3.82}\n",
      "{'loss': 1.4165, 'grad_norm': 0.18651443719863892, 'learning_rate': 0.00012590909090909091, 'epoch': 3.84}\n",
      "{'loss': 1.459, 'grad_norm': 0.1748027503490448, 'learning_rate': 0.00012545454545454546, 'epoch': 3.87}\n",
      "{'loss': 1.4414, 'grad_norm': 0.2006695568561554, 'learning_rate': 0.000125, 'epoch': 3.89}\n",
      "{'loss': 1.5339, 'grad_norm': 0.2283954620361328, 'learning_rate': 0.00012454545454545455, 'epoch': 3.91}\n",
      "{'loss': 1.5343, 'grad_norm': 0.2059788703918457, 'learning_rate': 0.0001240909090909091, 'epoch': 3.93}\n",
      "{'loss': 1.7159, 'grad_norm': 0.23906534910202026, 'learning_rate': 0.00012363636363636364, 'epoch': 3.96}\n",
      "{'loss': 1.7168, 'grad_norm': 0.23458346724510193, 'learning_rate': 0.0001231818181818182, 'epoch': 3.98}\n"
     ]
    },
    {
     "name": "stderr",
     "output_type": "stream",
     "text": [
      "Trainer.tokenizer is now deprecated. You should use Trainer.processing_class instead.\n",
      "Trainer.tokenizer is now deprecated. You should use Trainer.processing_class instead.\n"
     ]
    },
    {
     "name": "stdout",
     "output_type": "stream",
     "text": [
      "{'loss': 1.3211, 'grad_norm': 0.17616033554077148, 'learning_rate': 0.00012272727272727272, 'epoch': 4.0}\n"
     ]
    },
    {
     "data": {
      "application/vnd.jupyter.widget-view+json": {
       "model_id": "7579438ac36e4f3d8501b44d74dafc75",
       "version_major": 2,
       "version_minor": 0
      },
      "text/plain": [
       "  0%|          | 0/10 [00:00<?, ?it/s]"
      ]
     },
     "metadata": {},
     "output_type": "display_data"
    },
    {
     "name": "stdout",
     "output_type": "stream",
     "text": [
      "{'eval_loss': 1.5032751560211182, 'eval_runtime': 2.5824, 'eval_samples_per_second': 3.872, 'eval_steps_per_second': 3.872, 'epoch': 4.0}\n",
      "{'loss': 1.2482, 'grad_norm': 0.16714024543762207, 'learning_rate': 0.00012227272727272727, 'epoch': 4.02}\n",
      "{'loss': 1.2724, 'grad_norm': 0.17992423474788666, 'learning_rate': 0.00012181818181818183, 'epoch': 4.04}\n",
      "{'loss': 1.3178, 'grad_norm': 0.18119332194328308, 'learning_rate': 0.00012136363636363637, 'epoch': 4.07}\n",
      "{'loss': 1.2705, 'grad_norm': 0.18901216983795166, 'learning_rate': 0.0001209090909090909, 'epoch': 4.09}\n",
      "{'loss': 1.2398, 'grad_norm': 0.1562797576189041, 'learning_rate': 0.00012045454545454546, 'epoch': 4.11}\n",
      "{'loss': 1.3204, 'grad_norm': 0.1721307337284088, 'learning_rate': 0.00012, 'epoch': 4.13}\n",
      "{'loss': 1.3593, 'grad_norm': 0.1945624053478241, 'learning_rate': 0.00011954545454545456, 'epoch': 4.16}\n",
      "{'loss': 1.3995, 'grad_norm': 0.19733306765556335, 'learning_rate': 0.00011909090909090909, 'epoch': 4.18}\n",
      "{'loss': 1.5809, 'grad_norm': 0.2138182669878006, 'learning_rate': 0.00011863636363636364, 'epoch': 4.2}\n",
      "{'loss': 1.6321, 'grad_norm': 0.2214852273464203, 'learning_rate': 0.0001181818181818182, 'epoch': 4.22}\n",
      "{'loss': 1.7201, 'grad_norm': 0.22075709700584412, 'learning_rate': 0.00011772727272727272, 'epoch': 4.24}\n",
      "{'loss': 1.258, 'grad_norm': 0.16335415840148926, 'learning_rate': 0.00011727272727272727, 'epoch': 4.27}\n",
      "{'loss': 1.2564, 'grad_norm': 0.17703990638256073, 'learning_rate': 0.00011681818181818183, 'epoch': 4.29}\n",
      "{'loss': 1.3051, 'grad_norm': 0.18157966434955597, 'learning_rate': 0.00011636363636363636, 'epoch': 4.31}\n",
      "{'loss': 1.2503, 'grad_norm': 0.18859097361564636, 'learning_rate': 0.00011590909090909093, 'epoch': 4.33}\n",
      "{'loss': 1.2869, 'grad_norm': 0.17727524042129517, 'learning_rate': 0.00011545454545454546, 'epoch': 4.36}\n",
      "{'loss': 1.2649, 'grad_norm': 0.19516725838184357, 'learning_rate': 0.00011499999999999999, 'epoch': 4.38}\n",
      "{'loss': 1.3754, 'grad_norm': 0.18168288469314575, 'learning_rate': 0.00011454545454545456, 'epoch': 4.4}\n",
      "{'loss': 1.31, 'grad_norm': 0.19553320109844208, 'learning_rate': 0.00011409090909090909, 'epoch': 4.42}\n",
      "{'loss': 1.2836, 'grad_norm': 0.24448010325431824, 'learning_rate': 0.00011363636363636365, 'epoch': 4.44}\n",
      "{'loss': 1.6146, 'grad_norm': 0.3058134615421295, 'learning_rate': 0.0001131818181818182, 'epoch': 4.47}\n",
      "{'loss': 1.5673, 'grad_norm': 0.24201630055904388, 'learning_rate': 0.00011272727272727272, 'epoch': 4.49}\n",
      "{'loss': 1.185, 'grad_norm': 0.1741248369216919, 'learning_rate': 0.00011227272727272728, 'epoch': 4.51}\n",
      "{'loss': 1.1988, 'grad_norm': 0.16764390468597412, 'learning_rate': 0.00011181818181818183, 'epoch': 4.53}\n",
      "{'loss': 1.207, 'grad_norm': 0.1746622771024704, 'learning_rate': 0.00011136363636363636, 'epoch': 4.56}\n",
      "{'loss': 1.2351, 'grad_norm': 0.17866235971450806, 'learning_rate': 0.00011090909090909092, 'epoch': 4.58}\n",
      "{'loss': 1.1623, 'grad_norm': 0.1698007434606552, 'learning_rate': 0.00011045454545454546, 'epoch': 4.6}\n",
      "{'loss': 1.2669, 'grad_norm': 0.2021210640668869, 'learning_rate': 0.00011000000000000002, 'epoch': 4.62}\n",
      "{'loss': 1.1688, 'grad_norm': 0.1918731927871704, 'learning_rate': 0.00010954545454545455, 'epoch': 4.64}\n",
      "{'loss': 1.4087, 'grad_norm': 0.20039789378643036, 'learning_rate': 0.00010909090909090909, 'epoch': 4.67}\n",
      "{'loss': 1.2695, 'grad_norm': 0.20823749899864197, 'learning_rate': 0.00010863636363636365, 'epoch': 4.69}\n",
      "{'loss': 1.5779, 'grad_norm': 0.2256098836660385, 'learning_rate': 0.00010818181818181818, 'epoch': 4.71}\n",
      "{'loss': 1.5361, 'grad_norm': 0.22960703074932098, 'learning_rate': 0.00010772727272727274, 'epoch': 4.73}\n",
      "{'loss': 1.137, 'grad_norm': 0.1753046065568924, 'learning_rate': 0.00010727272727272728, 'epoch': 4.76}\n",
      "{'loss': 1.2427, 'grad_norm': 0.18426840007305145, 'learning_rate': 0.00010681818181818181, 'epoch': 4.78}\n",
      "{'loss': 1.1499, 'grad_norm': 0.17413592338562012, 'learning_rate': 0.00010636363636363637, 'epoch': 4.8}\n",
      "{'loss': 1.2672, 'grad_norm': 0.18781587481498718, 'learning_rate': 0.00010590909090909092, 'epoch': 4.82}\n",
      "{'loss': 1.1895, 'grad_norm': 0.18922480940818787, 'learning_rate': 0.00010545454545454545, 'epoch': 4.84}\n",
      "{'loss': 1.1967, 'grad_norm': 0.1956968605518341, 'learning_rate': 0.000105, 'epoch': 4.87}\n",
      "{'loss': 1.3406, 'grad_norm': 0.20553526282310486, 'learning_rate': 0.00010454545454545455, 'epoch': 4.89}\n",
      "{'loss': 1.3397, 'grad_norm': 0.19496823847293854, 'learning_rate': 0.0001040909090909091, 'epoch': 4.91}\n",
      "{'loss': 1.5066, 'grad_norm': 0.22384867072105408, 'learning_rate': 0.00010363636363636364, 'epoch': 4.93}\n",
      "{'loss': 1.4698, 'grad_norm': 0.2362263798713684, 'learning_rate': 0.00010318181818181818, 'epoch': 4.96}\n",
      "{'loss': 1.5368, 'grad_norm': 0.2911992371082306, 'learning_rate': 0.00010272727272727274, 'epoch': 4.98}\n",
      "{'loss': 1.283, 'grad_norm': 0.20805180072784424, 'learning_rate': 0.00010227272727272727, 'epoch': 5.0}\n",
      "{'loss': 1.1656, 'grad_norm': 0.17939640581607819, 'learning_rate': 0.00010181818181818181, 'epoch': 5.02}\n",
      "{'loss': 1.0743, 'grad_norm': 0.18051010370254517, 'learning_rate': 0.00010136363636363637, 'epoch': 5.04}\n",
      "{'loss': 1.143, 'grad_norm': 0.20114707946777344, 'learning_rate': 0.0001009090909090909, 'epoch': 5.07}\n",
      "{'loss': 1.1896, 'grad_norm': 0.184222012758255, 'learning_rate': 0.00010045454545454547, 'epoch': 5.09}\n",
      "{'loss': 1.2014, 'grad_norm': 0.17659834027290344, 'learning_rate': 0.0001, 'epoch': 5.11}\n",
      "{'loss': 1.1443, 'grad_norm': 0.19721317291259766, 'learning_rate': 9.954545454545455e-05, 'epoch': 5.13}\n",
      "{'loss': 1.2612, 'grad_norm': 0.2146826982498169, 'learning_rate': 9.909090909090911e-05, 'epoch': 5.16}\n",
      "{'loss': 1.1847, 'grad_norm': 0.2029021978378296, 'learning_rate': 9.863636363636364e-05, 'epoch': 5.18}\n",
      "{'loss': 1.4849, 'grad_norm': 0.2513956129550934, 'learning_rate': 9.818181818181818e-05, 'epoch': 5.2}\n",
      "{'loss': 1.5188, 'grad_norm': 0.23417627811431885, 'learning_rate': 9.772727272727274e-05, 'epoch': 5.22}\n",
      "{'loss': 1.429, 'grad_norm': 0.26027050614356995, 'learning_rate': 9.727272727272728e-05, 'epoch': 5.24}\n",
      "{'loss': 1.1758, 'grad_norm': 0.18600581586360931, 'learning_rate': 9.681818181818181e-05, 'epoch': 5.27}\n",
      "{'loss': 1.0948, 'grad_norm': 0.1783396154642105, 'learning_rate': 9.636363636363637e-05, 'epoch': 5.29}\n",
      "{'loss': 1.1236, 'grad_norm': 0.1882474571466446, 'learning_rate': 9.590909090909092e-05, 'epoch': 5.31}\n",
      "{'loss': 1.1278, 'grad_norm': 0.19079814851284027, 'learning_rate': 9.545454545454546e-05, 'epoch': 5.33}\n",
      "{'loss': 1.0795, 'grad_norm': 0.19763508439064026, 'learning_rate': 9.5e-05, 'epoch': 5.36}\n",
      "{'loss': 1.1662, 'grad_norm': 0.19050464034080505, 'learning_rate': 9.454545454545455e-05, 'epoch': 5.38}\n",
      "{'loss': 1.1679, 'grad_norm': 0.24895323812961578, 'learning_rate': 9.40909090909091e-05, 'epoch': 5.4}\n",
      "{'loss': 1.201, 'grad_norm': 0.2105192393064499, 'learning_rate': 9.363636363636364e-05, 'epoch': 5.42}\n",
      "{'loss': 1.2506, 'grad_norm': 0.2183491289615631, 'learning_rate': 9.318181818181818e-05, 'epoch': 5.44}\n",
      "{'loss': 1.3712, 'grad_norm': 0.23037205636501312, 'learning_rate': 9.272727272727273e-05, 'epoch': 5.47}\n",
      "{'loss': 1.4305, 'grad_norm': 0.2786325514316559, 'learning_rate': 9.227272727272727e-05, 'epoch': 5.49}\n",
      "{'loss': 1.0101, 'grad_norm': 0.1870298981666565, 'learning_rate': 9.181818181818183e-05, 'epoch': 5.51}\n",
      "{'loss': 1.0732, 'grad_norm': 0.19583575427532196, 'learning_rate': 9.136363636363637e-05, 'epoch': 5.53}\n",
      "{'loss': 1.0945, 'grad_norm': 0.1936323344707489, 'learning_rate': 9.090909090909092e-05, 'epoch': 5.56}\n",
      "{'loss': 1.064, 'grad_norm': 0.17521046102046967, 'learning_rate': 9.045454545454546e-05, 'epoch': 5.58}\n",
      "{'loss': 1.0998, 'grad_norm': 0.21050220727920532, 'learning_rate': 9e-05, 'epoch': 5.6}\n",
      "{'loss': 1.1497, 'grad_norm': 0.18778863549232483, 'learning_rate': 8.954545454545455e-05, 'epoch': 5.62}\n",
      "{'loss': 1.1347, 'grad_norm': 0.2011736035346985, 'learning_rate': 8.90909090909091e-05, 'epoch': 5.64}\n",
      "{'loss': 1.18, 'grad_norm': 0.2051398903131485, 'learning_rate': 8.863636363636364e-05, 'epoch': 5.67}\n",
      "{'loss': 1.3184, 'grad_norm': 0.22286751866340637, 'learning_rate': 8.818181818181818e-05, 'epoch': 5.69}\n",
      "{'loss': 1.4031, 'grad_norm': 0.2422492951154709, 'learning_rate': 8.772727272727274e-05, 'epoch': 5.71}\n",
      "{'loss': 1.37, 'grad_norm': 0.23967161774635315, 'learning_rate': 8.727272727272727e-05, 'epoch': 5.73}\n",
      "{'loss': 1.0551, 'grad_norm': 0.17570257186889648, 'learning_rate': 8.681818181818182e-05, 'epoch': 5.76}\n",
      "{'loss': 1.0774, 'grad_norm': 0.17946407198905945, 'learning_rate': 8.636363636363637e-05, 'epoch': 5.78}\n",
      "{'loss': 1.0194, 'grad_norm': 0.16810832917690277, 'learning_rate': 8.590909090909092e-05, 'epoch': 5.8}\n",
      "{'loss': 1.1131, 'grad_norm': 0.18513309955596924, 'learning_rate': 8.545454545454545e-05, 'epoch': 5.82}\n",
      "{'loss': 1.0327, 'grad_norm': 0.17891311645507812, 'learning_rate': 8.5e-05, 'epoch': 5.84}\n",
      "{'loss': 1.0507, 'grad_norm': 0.18482987582683563, 'learning_rate': 8.454545454545455e-05, 'epoch': 5.87}\n",
      "{'loss': 1.0071, 'grad_norm': 0.18782521784305573, 'learning_rate': 8.40909090909091e-05, 'epoch': 5.89}\n",
      "{'loss': 1.1562, 'grad_norm': 0.19021353125572205, 'learning_rate': 8.363636363636364e-05, 'epoch': 5.91}\n",
      "{'loss': 1.0931, 'grad_norm': 0.21814566850662231, 'learning_rate': 8.318181818181818e-05, 'epoch': 5.93}\n",
      "{'loss': 1.3413, 'grad_norm': 0.32254883646965027, 'learning_rate': 8.272727272727273e-05, 'epoch': 5.96}\n",
      "{'loss': 1.3264, 'grad_norm': 0.23732151091098785, 'learning_rate': 8.227272727272729e-05, 'epoch': 5.98}\n"
     ]
    },
    {
     "name": "stderr",
     "output_type": "stream",
     "text": [
      "Trainer.tokenizer is now deprecated. You should use Trainer.processing_class instead.\n",
      "Trainer.tokenizer is now deprecated. You should use Trainer.processing_class instead.\n"
     ]
    },
    {
     "name": "stdout",
     "output_type": "stream",
     "text": [
      "{'loss': 1.1305, 'grad_norm': 0.18951039016246796, 'learning_rate': 8.181818181818183e-05, 'epoch': 6.0}\n"
     ]
    },
    {
     "data": {
      "application/vnd.jupyter.widget-view+json": {
       "model_id": "73ac887783744acd9969cfcda0eaa3f4",
       "version_major": 2,
       "version_minor": 0
      },
      "text/plain": [
       "  0%|          | 0/10 [00:00<?, ?it/s]"
      ]
     },
     "metadata": {},
     "output_type": "display_data"
    },
    {
     "name": "stdout",
     "output_type": "stream",
     "text": [
      "{'eval_loss': 1.172912359237671, 'eval_runtime': 2.6441, 'eval_samples_per_second': 3.782, 'eval_steps_per_second': 3.782, 'epoch': 6.0}\n",
      "{'loss': 0.9917, 'grad_norm': 0.1759195327758789, 'learning_rate': 8.136363636363636e-05, 'epoch': 6.02}\n",
      "{'loss': 1.0117, 'grad_norm': 0.19387516379356384, 'learning_rate': 8.090909090909092e-05, 'epoch': 6.04}\n",
      "{'loss': 1.0665, 'grad_norm': 0.20359046757221222, 'learning_rate': 8.045454545454546e-05, 'epoch': 6.07}\n",
      "{'loss': 0.9542, 'grad_norm': 0.20481397211551666, 'learning_rate': 8e-05, 'epoch': 6.09}\n",
      "{'loss': 0.9705, 'grad_norm': 0.19291844964027405, 'learning_rate': 7.954545454545455e-05, 'epoch': 6.11}\n",
      "{'loss': 1.128, 'grad_norm': 0.18996214866638184, 'learning_rate': 7.90909090909091e-05, 'epoch': 6.13}\n",
      "{'loss': 1.1767, 'grad_norm': 0.20097191631793976, 'learning_rate': 7.863636363636364e-05, 'epoch': 6.16}\n",
      "{'loss': 1.1674, 'grad_norm': 0.22462782263755798, 'learning_rate': 7.818181818181818e-05, 'epoch': 6.18}\n",
      "{'loss': 1.2833, 'grad_norm': 0.2279205471277237, 'learning_rate': 7.772727272727273e-05, 'epoch': 6.2}\n",
      "{'loss': 1.3093, 'grad_norm': 0.4120841920375824, 'learning_rate': 7.727272727272727e-05, 'epoch': 6.22}\n",
      "{'loss': 1.292, 'grad_norm': 0.25509047508239746, 'learning_rate': 7.681818181818182e-05, 'epoch': 6.24}\n",
      "{'loss': 0.9591, 'grad_norm': 0.1640666127204895, 'learning_rate': 7.636363636363637e-05, 'epoch': 6.27}\n",
      "{'loss': 1.0242, 'grad_norm': 0.17504355311393738, 'learning_rate': 7.59090909090909e-05, 'epoch': 6.29}\n",
      "{'loss': 1.0457, 'grad_norm': 0.20650842785835266, 'learning_rate': 7.545454545454545e-05, 'epoch': 6.31}\n",
      "{'loss': 0.9463, 'grad_norm': 0.16591493785381317, 'learning_rate': 7.500000000000001e-05, 'epoch': 6.33}\n",
      "{'loss': 1.0287, 'grad_norm': 0.1859433948993683, 'learning_rate': 7.454545454545455e-05, 'epoch': 6.36}\n",
      "{'loss': 1.0205, 'grad_norm': 0.22495797276496887, 'learning_rate': 7.40909090909091e-05, 'epoch': 6.38}\n",
      "{'loss': 0.9931, 'grad_norm': 0.19518417119979858, 'learning_rate': 7.363636363636364e-05, 'epoch': 6.4}\n",
      "{'loss': 1.0102, 'grad_norm': 0.2089744359254837, 'learning_rate': 7.318181818181818e-05, 'epoch': 6.42}\n",
      "{'loss': 1.1374, 'grad_norm': 0.2152194380760193, 'learning_rate': 7.272727272727273e-05, 'epoch': 6.44}\n",
      "{'loss': 1.3098, 'grad_norm': 0.24491435289382935, 'learning_rate': 7.227272727272729e-05, 'epoch': 6.47}\n",
      "{'loss': 1.1945, 'grad_norm': 0.23418454825878143, 'learning_rate': 7.181818181818182e-05, 'epoch': 6.49}\n",
      "{'loss': 0.9879, 'grad_norm': 0.1910468190908432, 'learning_rate': 7.136363636363636e-05, 'epoch': 6.51}\n",
      "{'loss': 0.9963, 'grad_norm': 0.18375468254089355, 'learning_rate': 7.090909090909092e-05, 'epoch': 6.53}\n",
      "{'loss': 0.9526, 'grad_norm': 0.17724302411079407, 'learning_rate': 7.045454545454546e-05, 'epoch': 6.56}\n",
      "{'loss': 0.9692, 'grad_norm': 0.18257467448711395, 'learning_rate': 7e-05, 'epoch': 6.58}\n",
      "{'loss': 0.9914, 'grad_norm': 0.19604043662548065, 'learning_rate': 6.954545454545455e-05, 'epoch': 6.6}\n",
      "{'loss': 0.9098, 'grad_norm': 0.19902361929416656, 'learning_rate': 6.90909090909091e-05, 'epoch': 6.62}\n",
      "{'loss': 1.0666, 'grad_norm': 0.20810255408287048, 'learning_rate': 6.863636363636364e-05, 'epoch': 6.64}\n",
      "{'loss': 0.9232, 'grad_norm': 0.23216620087623596, 'learning_rate': 6.818181818181818e-05, 'epoch': 6.67}\n",
      "{'loss': 1.2546, 'grad_norm': 0.24486123025417328, 'learning_rate': 6.772727272727273e-05, 'epoch': 6.69}\n",
      "{'loss': 1.1806, 'grad_norm': 0.23222023248672485, 'learning_rate': 6.727272727272727e-05, 'epoch': 6.71}\n",
      "{'loss': 1.2397, 'grad_norm': 0.2806658446788788, 'learning_rate': 6.681818181818183e-05, 'epoch': 6.73}\n",
      "{'loss': 0.9722, 'grad_norm': 0.18629440665245056, 'learning_rate': 6.636363636363638e-05, 'epoch': 6.76}\n",
      "{'loss': 0.8919, 'grad_norm': 0.17669786512851715, 'learning_rate': 6.59090909090909e-05, 'epoch': 6.78}\n",
      "{'loss': 0.9461, 'grad_norm': 0.17930883169174194, 'learning_rate': 6.545454545454546e-05, 'epoch': 6.8}\n",
      "{'loss': 0.9394, 'grad_norm': 0.18645039200782776, 'learning_rate': 6.500000000000001e-05, 'epoch': 6.82}\n",
      "{'loss': 0.9423, 'grad_norm': 0.1867469996213913, 'learning_rate': 6.454545454545455e-05, 'epoch': 6.84}\n",
      "{'loss': 0.9469, 'grad_norm': 0.18473590910434723, 'learning_rate': 6.40909090909091e-05, 'epoch': 6.87}\n",
      "{'loss': 1.0476, 'grad_norm': 0.19550912082195282, 'learning_rate': 6.363636363636364e-05, 'epoch': 6.89}\n",
      "{'loss': 1.0069, 'grad_norm': 0.2059791088104248, 'learning_rate': 6.318181818181818e-05, 'epoch': 6.91}\n",
      "{'loss': 1.0696, 'grad_norm': 0.2233503758907318, 'learning_rate': 6.272727272727273e-05, 'epoch': 6.93}\n",
      "{'loss': 1.0788, 'grad_norm': 0.21191121637821198, 'learning_rate': 6.227272727272727e-05, 'epoch': 6.96}\n",
      "{'loss': 1.1876, 'grad_norm': 0.26287737488746643, 'learning_rate': 6.181818181818182e-05, 'epoch': 6.98}\n",
      "{'loss': 0.9073, 'grad_norm': 0.18723906576633453, 'learning_rate': 6.136363636363636e-05, 'epoch': 7.0}\n",
      "{'loss': 0.9015, 'grad_norm': 0.2017139345407486, 'learning_rate': 6.090909090909091e-05, 'epoch': 7.02}\n",
      "{'loss': 0.9299, 'grad_norm': 0.18689514696598053, 'learning_rate': 6.045454545454545e-05, 'epoch': 7.04}\n",
      "{'loss': 0.9467, 'grad_norm': 0.1804329752922058, 'learning_rate': 6e-05, 'epoch': 7.07}\n",
      "{'loss': 0.9649, 'grad_norm': 0.18212132155895233, 'learning_rate': 5.9545454545454546e-05, 'epoch': 7.09}\n",
      "{'loss': 0.9178, 'grad_norm': 0.17573074996471405, 'learning_rate': 5.90909090909091e-05, 'epoch': 7.11}\n",
      "{'loss': 0.8999, 'grad_norm': 0.19125673174858093, 'learning_rate': 5.8636363636363634e-05, 'epoch': 7.13}\n",
      "{'loss': 0.9198, 'grad_norm': 0.19961129128932953, 'learning_rate': 5.818181818181818e-05, 'epoch': 7.16}\n",
      "{'loss': 0.9957, 'grad_norm': 0.20570489764213562, 'learning_rate': 5.772727272727273e-05, 'epoch': 7.18}\n",
      "{'loss': 1.141, 'grad_norm': 0.22334183752536774, 'learning_rate': 5.727272727272728e-05, 'epoch': 7.2}\n",
      "{'loss': 1.1943, 'grad_norm': 0.22639401257038116, 'learning_rate': 5.6818181818181825e-05, 'epoch': 7.22}\n",
      "{'loss': 1.1655, 'grad_norm': 0.26730966567993164, 'learning_rate': 5.636363636363636e-05, 'epoch': 7.24}\n",
      "{'loss': 0.9164, 'grad_norm': 0.17507101595401764, 'learning_rate': 5.5909090909090913e-05, 'epoch': 7.27}\n",
      "{'loss': 0.8464, 'grad_norm': 0.17364110052585602, 'learning_rate': 5.545454545454546e-05, 'epoch': 7.29}\n",
      "{'loss': 0.9498, 'grad_norm': 0.20944944024085999, 'learning_rate': 5.500000000000001e-05, 'epoch': 7.31}\n",
      "{'loss': 0.8978, 'grad_norm': 0.18406879901885986, 'learning_rate': 5.4545454545454546e-05, 'epoch': 7.33}\n",
      "{'loss': 0.9155, 'grad_norm': 0.18459318578243256, 'learning_rate': 5.409090909090909e-05, 'epoch': 7.36}\n",
      "{'loss': 0.9165, 'grad_norm': 0.18536801636219025, 'learning_rate': 5.363636363636364e-05, 'epoch': 7.38}\n",
      "{'loss': 1.0733, 'grad_norm': 0.20344536006450653, 'learning_rate': 5.3181818181818186e-05, 'epoch': 7.4}\n",
      "{'loss': 1.0214, 'grad_norm': 0.21366705000400543, 'learning_rate': 5.272727272727272e-05, 'epoch': 7.42}\n",
      "{'loss': 1.0007, 'grad_norm': 0.21541394293308258, 'learning_rate': 5.2272727272727274e-05, 'epoch': 7.44}\n",
      "{'loss': 1.0543, 'grad_norm': 0.21818040311336517, 'learning_rate': 5.181818181818182e-05, 'epoch': 7.47}\n",
      "{'loss': 1.1187, 'grad_norm': 0.22657287120819092, 'learning_rate': 5.136363636363637e-05, 'epoch': 7.49}\n",
      "{'loss': 0.9161, 'grad_norm': 0.18684303760528564, 'learning_rate': 5.090909090909091e-05, 'epoch': 7.51}\n",
      "{'loss': 0.8582, 'grad_norm': 0.16713516414165497, 'learning_rate': 5.045454545454545e-05, 'epoch': 7.53}\n",
      "{'loss': 0.9177, 'grad_norm': 0.18597960472106934, 'learning_rate': 5e-05, 'epoch': 7.56}\n",
      "{'loss': 0.8425, 'grad_norm': 0.19769635796546936, 'learning_rate': 4.9545454545454553e-05, 'epoch': 7.58}\n",
      "{'loss': 0.913, 'grad_norm': 0.18235859274864197, 'learning_rate': 4.909090909090909e-05, 'epoch': 7.6}\n",
      "{'loss': 0.9633, 'grad_norm': 0.19821372628211975, 'learning_rate': 4.863636363636364e-05, 'epoch': 7.62}\n",
      "{'loss': 0.8844, 'grad_norm': 0.17945700883865356, 'learning_rate': 4.8181818181818186e-05, 'epoch': 7.64}\n",
      "{'loss': 0.9554, 'grad_norm': 0.18766289949417114, 'learning_rate': 4.772727272727273e-05, 'epoch': 7.67}\n",
      "{'loss': 0.9061, 'grad_norm': 0.22792136669158936, 'learning_rate': 4.7272727272727275e-05, 'epoch': 7.69}\n",
      "{'loss': 1.1158, 'grad_norm': 0.24842949211597443, 'learning_rate': 4.681818181818182e-05, 'epoch': 7.71}\n",
      "{'loss': 1.0982, 'grad_norm': 0.23851804435253143, 'learning_rate': 4.636363636363636e-05, 'epoch': 7.73}\n",
      "{'loss': 0.8413, 'grad_norm': 0.1746845692396164, 'learning_rate': 4.5909090909090914e-05, 'epoch': 7.76}\n",
      "{'loss': 0.8205, 'grad_norm': 0.20866237580776215, 'learning_rate': 4.545454545454546e-05, 'epoch': 7.78}\n",
      "{'loss': 0.7641, 'grad_norm': 0.1680719256401062, 'learning_rate': 4.5e-05, 'epoch': 7.8}\n",
      "{'loss': 0.8523, 'grad_norm': 0.20192043483257294, 'learning_rate': 4.454545454545455e-05, 'epoch': 7.82}\n",
      "{'loss': 0.8141, 'grad_norm': 0.18199586868286133, 'learning_rate': 4.409090909090909e-05, 'epoch': 7.84}\n",
      "{'loss': 0.8419, 'grad_norm': 0.18864917755126953, 'learning_rate': 4.3636363636363636e-05, 'epoch': 7.87}\n",
      "{'loss': 0.8141, 'grad_norm': 0.23339468240737915, 'learning_rate': 4.318181818181819e-05, 'epoch': 7.89}\n",
      "{'loss': 1.0134, 'grad_norm': 0.2019493728876114, 'learning_rate': 4.2727272727272724e-05, 'epoch': 7.91}\n",
      "{'loss': 1.0862, 'grad_norm': 0.24089154601097107, 'learning_rate': 4.2272727272727275e-05, 'epoch': 7.93}\n",
      "{'loss': 1.1503, 'grad_norm': 0.24870292842388153, 'learning_rate': 4.181818181818182e-05, 'epoch': 7.96}\n",
      "{'loss': 1.0139, 'grad_norm': 0.25161808729171753, 'learning_rate': 4.1363636363636364e-05, 'epoch': 7.98}\n"
     ]
    },
    {
     "name": "stderr",
     "output_type": "stream",
     "text": [
      "Trainer.tokenizer is now deprecated. You should use Trainer.processing_class instead.\n",
      "Trainer.tokenizer is now deprecated. You should use Trainer.processing_class instead.\n"
     ]
    },
    {
     "name": "stdout",
     "output_type": "stream",
     "text": [
      "{'loss': 0.9409, 'grad_norm': 0.1778581589460373, 'learning_rate': 4.0909090909090915e-05, 'epoch': 8.0}\n"
     ]
    },
    {
     "data": {
      "application/vnd.jupyter.widget-view+json": {
       "model_id": "7fb70408e51b424f965db23e470589df",
       "version_major": 2,
       "version_minor": 0
      },
      "text/plain": [
       "  0%|          | 0/10 [00:00<?, ?it/s]"
      ]
     },
     "metadata": {},
     "output_type": "display_data"
    },
    {
     "name": "stdout",
     "output_type": "stream",
     "text": [
      "{'eval_loss': 0.9568001627922058, 'eval_runtime': 2.5515, 'eval_samples_per_second': 3.919, 'eval_steps_per_second': 3.919, 'epoch': 8.0}\n",
      "{'loss': 0.8462, 'grad_norm': 0.18034426867961884, 'learning_rate': 4.045454545454546e-05, 'epoch': 8.02}\n",
      "{'loss': 0.8544, 'grad_norm': 0.18705035746097565, 'learning_rate': 4e-05, 'epoch': 8.04}\n",
      "{'loss': 0.8045, 'grad_norm': 0.19402901828289032, 'learning_rate': 3.954545454545455e-05, 'epoch': 8.07}\n",
      "{'loss': 0.8439, 'grad_norm': 0.17238454520702362, 'learning_rate': 3.909090909090909e-05, 'epoch': 8.09}\n",
      "{'loss': 0.8235, 'grad_norm': 0.18469052016735077, 'learning_rate': 3.8636363636363636e-05, 'epoch': 8.11}\n",
      "{'loss': 0.8587, 'grad_norm': 0.19191093742847443, 'learning_rate': 3.818181818181819e-05, 'epoch': 8.13}\n",
      "{'loss': 0.7885, 'grad_norm': 0.1863243579864502, 'learning_rate': 3.7727272727272725e-05, 'epoch': 8.16}\n",
      "{'loss': 0.885, 'grad_norm': 0.1865568310022354, 'learning_rate': 3.7272727272727276e-05, 'epoch': 8.18}\n",
      "{'loss': 0.9467, 'grad_norm': 0.2181357890367508, 'learning_rate': 3.681818181818182e-05, 'epoch': 8.2}\n",
      "{'loss': 0.9928, 'grad_norm': 0.21778710186481476, 'learning_rate': 3.6363636363636364e-05, 'epoch': 8.22}\n",
      "{'loss': 1.0716, 'grad_norm': 0.24688157439231873, 'learning_rate': 3.590909090909091e-05, 'epoch': 8.24}\n",
      "{'loss': 0.8254, 'grad_norm': 0.19063451886177063, 'learning_rate': 3.545454545454546e-05, 'epoch': 8.27}\n",
      "{'loss': 0.8221, 'grad_norm': 0.1987258940935135, 'learning_rate': 3.5e-05, 'epoch': 8.29}\n",
      "{'loss': 0.8073, 'grad_norm': 0.17429563403129578, 'learning_rate': 3.454545454545455e-05, 'epoch': 8.31}\n",
      "{'loss': 0.897, 'grad_norm': 0.2087787687778473, 'learning_rate': 3.409090909090909e-05, 'epoch': 8.33}\n",
      "{'loss': 0.878, 'grad_norm': 0.1850120723247528, 'learning_rate': 3.3636363636363636e-05, 'epoch': 8.36}\n",
      "{'loss': 0.8643, 'grad_norm': 0.2037818431854248, 'learning_rate': 3.318181818181819e-05, 'epoch': 8.38}\n",
      "{'loss': 0.885, 'grad_norm': 0.18725697696208954, 'learning_rate': 3.272727272727273e-05, 'epoch': 8.4}\n",
      "{'loss': 0.8456, 'grad_norm': 0.1988358050584793, 'learning_rate': 3.2272727272727276e-05, 'epoch': 8.42}\n",
      "{'loss': 0.8488, 'grad_norm': 0.18568532168865204, 'learning_rate': 3.181818181818182e-05, 'epoch': 8.44}\n",
      "{'loss': 0.9365, 'grad_norm': 0.26923179626464844, 'learning_rate': 3.1363636363636365e-05, 'epoch': 8.47}\n",
      "{'loss': 1.0832, 'grad_norm': 0.23815330862998962, 'learning_rate': 3.090909090909091e-05, 'epoch': 8.49}\n",
      "{'loss': 0.8919, 'grad_norm': 0.18818028271198273, 'learning_rate': 3.0454545454545456e-05, 'epoch': 8.51}\n",
      "{'loss': 0.8804, 'grad_norm': 0.1797163486480713, 'learning_rate': 3e-05, 'epoch': 8.53}\n",
      "{'loss': 0.8242, 'grad_norm': 0.19199275970458984, 'learning_rate': 2.954545454545455e-05, 'epoch': 8.56}\n",
      "{'loss': 0.7886, 'grad_norm': 0.16908356547355652, 'learning_rate': 2.909090909090909e-05, 'epoch': 8.58}\n",
      "{'loss': 0.7958, 'grad_norm': 0.18163584172725677, 'learning_rate': 2.863636363636364e-05, 'epoch': 8.6}\n",
      "{'loss': 0.9212, 'grad_norm': 0.18574212491512299, 'learning_rate': 2.818181818181818e-05, 'epoch': 8.62}\n",
      "{'loss': 0.9406, 'grad_norm': 0.18325366079807281, 'learning_rate': 2.772727272727273e-05, 'epoch': 8.64}\n",
      "{'loss': 0.8977, 'grad_norm': 0.21845422685146332, 'learning_rate': 2.7272727272727273e-05, 'epoch': 8.67}\n",
      "{'loss': 0.9676, 'grad_norm': 0.20299404859542847, 'learning_rate': 2.681818181818182e-05, 'epoch': 8.69}\n",
      "{'loss': 1.0387, 'grad_norm': 0.24089188873767853, 'learning_rate': 2.636363636363636e-05, 'epoch': 8.71}\n",
      "{'loss': 0.9571, 'grad_norm': 0.23155465722084045, 'learning_rate': 2.590909090909091e-05, 'epoch': 8.73}\n",
      "{'loss': 0.837, 'grad_norm': 0.17172366380691528, 'learning_rate': 2.5454545454545454e-05, 'epoch': 8.76}\n",
      "{'loss': 0.7256, 'grad_norm': 0.15792110562324524, 'learning_rate': 2.5e-05, 'epoch': 8.78}\n",
      "{'loss': 0.8215, 'grad_norm': 0.195685014128685, 'learning_rate': 2.4545454545454545e-05, 'epoch': 8.8}\n",
      "{'loss': 0.8008, 'grad_norm': 0.18265868723392487, 'learning_rate': 2.4090909090909093e-05, 'epoch': 8.82}\n",
      "{'loss': 0.8106, 'grad_norm': 0.2026934027671814, 'learning_rate': 2.3636363636363637e-05, 'epoch': 8.84}\n",
      "{'loss': 0.821, 'grad_norm': 0.20625364780426025, 'learning_rate': 2.318181818181818e-05, 'epoch': 8.87}\n",
      "{'loss': 1.0299, 'grad_norm': 0.22207675874233246, 'learning_rate': 2.272727272727273e-05, 'epoch': 8.89}\n",
      "{'loss': 0.9942, 'grad_norm': 0.22397959232330322, 'learning_rate': 2.2272727272727274e-05, 'epoch': 8.91}\n",
      "{'loss': 1.061, 'grad_norm': 0.2462024837732315, 'learning_rate': 2.1818181818181818e-05, 'epoch': 8.93}\n",
      "{'loss': 1.0506, 'grad_norm': 0.23710012435913086, 'learning_rate': 2.1363636363636362e-05, 'epoch': 8.96}\n",
      "{'loss': 1.0266, 'grad_norm': 0.2567446529865265, 'learning_rate': 2.090909090909091e-05, 'epoch': 8.98}\n",
      "{'loss': 0.8405, 'grad_norm': 0.22482357919216156, 'learning_rate': 2.0454545454545457e-05, 'epoch': 9.0}\n",
      "{'loss': 0.8329, 'grad_norm': 0.18132348358631134, 'learning_rate': 2e-05, 'epoch': 9.02}\n",
      "{'loss': 0.8035, 'grad_norm': 0.20693406462669373, 'learning_rate': 1.9545454545454546e-05, 'epoch': 9.04}\n",
      "{'loss': 0.8104, 'grad_norm': 0.1735752373933792, 'learning_rate': 1.9090909090909094e-05, 'epoch': 9.07}\n",
      "{'loss': 0.8081, 'grad_norm': 0.19729934632778168, 'learning_rate': 1.8636363636363638e-05, 'epoch': 9.09}\n",
      "{'loss': 0.7815, 'grad_norm': 0.18107275664806366, 'learning_rate': 1.8181818181818182e-05, 'epoch': 9.11}\n",
      "{'loss': 0.8178, 'grad_norm': 0.18825072050094604, 'learning_rate': 1.772727272727273e-05, 'epoch': 9.13}\n",
      "{'loss': 0.7374, 'grad_norm': 0.18484266102313995, 'learning_rate': 1.7272727272727274e-05, 'epoch': 9.16}\n",
      "{'loss': 0.9525, 'grad_norm': 0.19493761658668518, 'learning_rate': 1.6818181818181818e-05, 'epoch': 9.18}\n",
      "{'loss': 0.9482, 'grad_norm': 0.18613360822200775, 'learning_rate': 1.6363636363636366e-05, 'epoch': 9.2}\n",
      "{'loss': 1.0181, 'grad_norm': 0.2157634198665619, 'learning_rate': 1.590909090909091e-05, 'epoch': 9.22}\n",
      "{'loss': 1.0793, 'grad_norm': 0.250520259141922, 'learning_rate': 1.5454545454545454e-05, 'epoch': 9.24}\n",
      "{'loss': 0.7885, 'grad_norm': 0.17324118316173553, 'learning_rate': 1.5e-05, 'epoch': 9.27}\n",
      "{'loss': 0.7404, 'grad_norm': 0.16091765463352203, 'learning_rate': 1.4545454545454545e-05, 'epoch': 9.29}\n",
      "{'loss': 0.7893, 'grad_norm': 0.1746068298816681, 'learning_rate': 1.409090909090909e-05, 'epoch': 9.31}\n",
      "{'loss': 0.8305, 'grad_norm': 0.20298008620738983, 'learning_rate': 1.3636363636363637e-05, 'epoch': 9.33}\n",
      "{'loss': 0.7981, 'grad_norm': 0.18119806051254272, 'learning_rate': 1.318181818181818e-05, 'epoch': 9.36}\n",
      "{'loss': 0.8331, 'grad_norm': 0.1733560860157013, 'learning_rate': 1.2727272727272727e-05, 'epoch': 9.38}\n",
      "{'loss': 0.8028, 'grad_norm': 0.17692328989505768, 'learning_rate': 1.2272727272727273e-05, 'epoch': 9.4}\n",
      "{'loss': 0.7408, 'grad_norm': 0.22298045456409454, 'learning_rate': 1.1818181818181819e-05, 'epoch': 9.42}\n",
      "{'loss': 0.9553, 'grad_norm': 0.22373299300670624, 'learning_rate': 1.1363636363636365e-05, 'epoch': 9.44}\n",
      "{'loss': 1.0423, 'grad_norm': 0.21710892021656036, 'learning_rate': 1.0909090909090909e-05, 'epoch': 9.47}\n",
      "{'loss': 0.9684, 'grad_norm': 0.23479335010051727, 'learning_rate': 1.0454545454545455e-05, 'epoch': 9.49}\n",
      "{'loss': 0.8499, 'grad_norm': 0.17828579246997833, 'learning_rate': 1e-05, 'epoch': 9.51}\n",
      "{'loss': 0.759, 'grad_norm': 0.1966823935508728, 'learning_rate': 9.545454545454547e-06, 'epoch': 9.53}\n",
      "{'loss': 0.7931, 'grad_norm': 0.17921598255634308, 'learning_rate': 9.090909090909091e-06, 'epoch': 9.56}\n",
      "{'loss': 0.8236, 'grad_norm': 0.1769365668296814, 'learning_rate': 8.636363636363637e-06, 'epoch': 9.58}\n",
      "{'loss': 0.8362, 'grad_norm': 0.1964457780122757, 'learning_rate': 8.181818181818183e-06, 'epoch': 9.6}\n",
      "{'loss': 0.8099, 'grad_norm': 0.19537453353405, 'learning_rate': 7.727272727272727e-06, 'epoch': 9.62}\n",
      "{'loss': 0.9134, 'grad_norm': 0.21779324114322662, 'learning_rate': 7.272727272727272e-06, 'epoch': 9.64}\n",
      "{'loss': 0.7735, 'grad_norm': 0.2336624562740326, 'learning_rate': 6.818181818181818e-06, 'epoch': 9.67}\n",
      "{'loss': 1.0159, 'grad_norm': 0.24962817132472992, 'learning_rate': 6.363636363636363e-06, 'epoch': 9.69}\n",
      "{'loss': 0.9965, 'grad_norm': 0.2191302329301834, 'learning_rate': 5.909090909090909e-06, 'epoch': 9.71}\n",
      "{'loss': 1.0457, 'grad_norm': 0.2451459914445877, 'learning_rate': 5.4545454545454545e-06, 'epoch': 9.73}\n",
      "{'loss': 0.775, 'grad_norm': 0.18489541113376617, 'learning_rate': 5e-06, 'epoch': 9.76}\n",
      "{'loss': 0.8747, 'grad_norm': 0.17952845990657806, 'learning_rate': 4.5454545454545455e-06, 'epoch': 9.78}\n",
      "{'loss': 0.7428, 'grad_norm': 0.16381298005580902, 'learning_rate': 4.0909090909090915e-06, 'epoch': 9.8}\n",
      "{'loss': 0.761, 'grad_norm': 0.16878080368041992, 'learning_rate': 3.636363636363636e-06, 'epoch': 9.82}\n",
      "{'loss': 0.7803, 'grad_norm': 0.16551369428634644, 'learning_rate': 3.1818181818181817e-06, 'epoch': 9.84}\n",
      "{'loss': 0.8347, 'grad_norm': 0.1810736358165741, 'learning_rate': 2.7272727272727272e-06, 'epoch': 9.87}\n",
      "{'loss': 0.8482, 'grad_norm': 0.19356200098991394, 'learning_rate': 2.2727272727272728e-06, 'epoch': 9.89}\n",
      "{'loss': 0.8711, 'grad_norm': 0.18383292853832245, 'learning_rate': 1.818181818181818e-06, 'epoch': 9.91}\n",
      "{'loss': 0.9724, 'grad_norm': 0.2197522222995758, 'learning_rate': 1.3636363636363636e-06, 'epoch': 9.93}\n",
      "{'loss': 0.9868, 'grad_norm': 0.21649567782878876, 'learning_rate': 9.09090909090909e-07, 'epoch': 9.96}\n",
      "{'loss': 0.9745, 'grad_norm': 0.2855212092399597, 'learning_rate': 4.545454545454545e-07, 'epoch': 9.98}\n"
     ]
    },
    {
     "name": "stderr",
     "output_type": "stream",
     "text": [
      "Trainer.tokenizer is now deprecated. You should use Trainer.processing_class instead.\n",
      "Trainer.tokenizer is now deprecated. You should use Trainer.processing_class instead.\n"
     ]
    },
    {
     "name": "stdout",
     "output_type": "stream",
     "text": [
      "{'loss': 0.8434, 'grad_norm': 0.1866290420293808, 'learning_rate': 0.0, 'epoch': 10.0}\n"
     ]
    },
    {
     "data": {
      "application/vnd.jupyter.widget-view+json": {
       "model_id": "eda6bef16ec3465dad5ddb86ddae35b6",
       "version_major": 2,
       "version_minor": 0
      },
      "text/plain": [
       "  0%|          | 0/10 [00:00<?, ?it/s]"
      ]
     },
     "metadata": {},
     "output_type": "display_data"
    },
    {
     "name": "stdout",
     "output_type": "stream",
     "text": [
      "{'eval_loss': 0.8881128430366516, 'eval_runtime': 2.6099, 'eval_samples_per_second': 3.831, 'eval_steps_per_second': 3.831, 'epoch': 10.0}\n",
      "{'train_runtime': 525.2502, 'train_samples_per_second': 1.713, 'train_steps_per_second': 0.857, 'train_loss': 1.3740862434440189, 'epoch': 10.0}\n"
     ]
    },
    {
     "data": {
      "text/plain": [
       "TrainOutput(global_step=450, training_loss=1.3740862434440189, metrics={'train_runtime': 525.2502, 'train_samples_per_second': 1.713, 'train_steps_per_second': 0.857, 'total_flos': 6518227054448640.0, 'train_loss': 1.3740862434440189, 'epoch': 10.0})"
      ]
     },
     "execution_count": 9,
     "metadata": {},
     "output_type": "execute_result"
    }
   ],
   "source": [
    "trainer.train()"
   ]
  },
  {
   "cell_type": "code",
   "execution_count": 10,
   "metadata": {},
   "outputs": [
    {
     "name": "stderr",
     "output_type": "stream",
     "text": [
      "Setting `pad_token_id` to `eos_token_id`:None for open-end generation.\n"
     ]
    },
    {
     "name": "stdout",
     "output_type": "stream",
     "text": [
      "Answer of the question is: \n",
      "<root main_tree=\"MainTree\">\n",
      "  <BehaviorTree ID=\"MainTree\">\n",
      "    <Fallback>\n",
      "      <Sequence>\n",
      "        <Action ID=\"LocateObject\" object=\"bowl of soup\"/>\n",
      "        <Action ID=\"NavigateTo\" target=\"table\"/>\n",
      "        <Action ID=\"Place\" object=\"bowl of soup\" location=\"table\"/>\n",
      "      </Sequence>\n",
      "    </Fallback>\n",
      "  </BehaviorTree>\n",
      "</root>\n",
      "I will now execute the MainTree behavior tree.\n"
     ]
    }
   ],
   "source": [
    "inputs = tokenizer([\n",
    "    text\n",
    "], return_tensors='pt', padding=True, truncation=True).to(\"cuda\")\n",
    "\n",
    "\n",
    "outputs = model.generate(**inputs, max_new_tokens = 2020, use_cache = True)\n",
    "\n",
    "answer=tokenizer.batch_decode(outputs)\n",
    "answer=answer[0].split(\"<|start_header_id|>assistant<|end_header_id|>\")[-1].split(EOS_TOKEN)[0]\n",
    "print(\"Answer of the question is:\", answer)"
   ]
  }
 ],
 "metadata": {
  "kernelspec": {
   "display_name": "Python 3",
   "language": "python",
   "name": "python3"
  },
  "language_info": {
   "codemirror_mode": {
    "name": "ipython",
    "version": 3
   },
   "file_extension": ".py",
   "mimetype": "text/x-python",
   "name": "python",
   "nbconvert_exporter": "python",
   "pygments_lexer": "ipython3",
   "version": "3.10.12"
  }
 },
 "nbformat": 4,
 "nbformat_minor": 2
}
