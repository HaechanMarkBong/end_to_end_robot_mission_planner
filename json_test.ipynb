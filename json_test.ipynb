{
 "cells": [
  {
   "cell_type": "code",
   "execution_count": 40,
   "metadata": {},
   "outputs": [],
   "source": [
    "import json\n",
    "import xml.etree.ElementTree as ET\n",
    "from xml.dom.minidom import parseString\n",
    "\n",
    "\n",
    "def xml_to_json(xml_string):\n",
    "    def parse_element(element):\n",
    "        node = {\"type\": element.tag}\n",
    "        if element.attrib:\n",
    "            node.update(element.attrib)\n",
    "        children = list(element)\n",
    "        if children:\n",
    "            node[\"nodes\"] = [parse_element(child) for child in children]\n",
    "        elif element.text and element.text.strip():\n",
    "            node[\"parameters\"] = {\"text\": element.text.strip()}\n",
    "        return node\n",
    "\n",
    "    root = ET.fromstring(xml_string)\n",
    "    main_tree_to_execute = root.attrib.get(\"main_tree_to_execute\", \"MainTree\")\n",
    "    main_tree = None\n",
    "\n",
    "    # Find the BehaviorTree node that matches the main_tree_to_execute\n",
    "    for child in root:\n",
    "        if child.attrib.get(\"ID\") == main_tree_to_execute:\n",
    "            main_tree = parse_element(child)\n",
    "            break\n",
    "\n",
    "    # Return only the core nodes (remove BehaviorTree wrapper)\n",
    "    return main_tree[\"nodes\"][0]  # The core behavior tree\n",
    "\n",
    "\n",
    "def json_to_xml(json_obj):\n",
    "    def build_element(node):\n",
    "        element = ET.Element(node[\"type\"])\n",
    "        for key, value in node.items():\n",
    "            if key == \"nodes\":\n",
    "                for child in value:\n",
    "                    element.append(build_element(child))\n",
    "            elif key != \"type\":\n",
    "                element.set(key, str(value))\n",
    "        return element\n",
    "\n",
    "    # Wrap the core JSON in a BehaviorTree and root\n",
    "    behavior_tree = {\n",
    "        \"type\": \"BehaviorTree\",\n",
    "        \"ID\": \"MainTree\",\n",
    "        \"nodes\": [json_obj],  # Wrap the core tree as nodes\n",
    "    }\n",
    "    root_element = ET.Element(\"root\", {\"main_tree_to_execute\": \"MainTree\"})\n",
    "    behavior_tree_element = build_element(behavior_tree)\n",
    "    root_element.append(behavior_tree_element)\n",
    "\n",
    "    # Pretty-print the XML\n",
    "    rough_string = ET.tostring(root_element, \"utf-8\")\n",
    "    return parseString(rough_string).toprettyxml(indent=\"    \")\n"
   ]
  },
  {
   "cell_type": "code",
   "execution_count": 41,
   "metadata": {},
   "outputs": [
    {
     "name": "stdout",
     "output_type": "stream",
     "text": [
      "<root main_tree_to_execute=\"MainTree\">  <BehaviorTree ID=\"MainTree\">    <Sequence name=\"RetrieveFoodSequence\">      <!-- Locate the food -->      <Retry retries=\"3\">        <Locate object=\"apple\" location=\"kitchen\" method=\"camera_scan\" />      </Retry>            <!-- Fallback to ask for help if food cannot be located -->      <Fallback name=\"LocateFoodFallback\">        <Locate object=\"apple\" location=\"kitchen\" method=\"camera_scan\" />        <AskForHelp message=\"Unable to locate the apple. Please assist.\" />      </Fallback>            <!-- Navigate to the food's location -->      <Retry retries=\"2\">        <NavigateTo location=\"kitchen_table\" mode=\"safe\" speed=\"medium\" />      </Retry>      <!-- Pick up the food -->      <Retry retries=\"2\">        <Pick object=\"apple\" grip_strength=\"medium\" precision=\"high\" />      </Retry>            <!-- Navigate to the drop-off location -->      <Retry retries=\"2\">        <NavigateTo location=\"dining_table\" mode=\"direct\" speed=\"fast\" />      </Retry>      <!-- Place the food on the table -->      <Fallback name=\"PlaceFoodFallback\">        <Place object=\"apple\" surface=\"dining_table\" orientation=\"upright\" alignment=\"center\" />        <AskForHelp message=\"Unable to place the apple. Please assist.\" />      </Fallback>    </Sequence>  </BehaviorTree></root>\n",
      "<root main_tree_to_execute=\"MainTree\">    <BehaviorTree ID=\"MainTree\">        <Sequence name=\"RetrieveFoodSequence\">            <Retry retries=\"3\">                <Locate object=\"apple\" location=\"kitchen\" method=\"camera_scan\"/>            </Retry>            <Fallback name=\"LocateFoodFallback\">                <Locate object=\"apple\" location=\"kitchen\" method=\"camera_scan\"/>                <AskForHelp message=\"Unable to locate the apple. Please assist.\"/>            </Fallback>            <Retry retries=\"2\">                <NavigateTo location=\"kitchen_table\" mode=\"safe\" speed=\"medium\"/>            </Retry>            <Retry retries=\"2\">                <Pick object=\"apple\" grip_strength=\"medium\" precision=\"high\"/>            </Retry>            <Retry retries=\"2\">                <NavigateTo location=\"dining_table\" mode=\"direct\" speed=\"fast\"/>            </Retry>            <Fallback name=\"PlaceFoodFallback\">                <Place object=\"apple\" surface=\"dining_table\" orientation=\"upright\" alignment=\"center\"/>                <AskForHelp message=\"Unable to place the apple. Please assist.\"/>            </Fallback>        </Sequence>    </BehaviorTree></root>\n",
      "False\n",
      "{'type': 'Sequence', 'name': 'RetrieveFoodSequence', 'nodes': [{'type': 'Retry', 'retries': '3', 'nodes': [{'type': 'Locate', 'object': 'apple', 'location': 'kitchen', 'method': 'camera_scan'}]}, {'type': 'Fallback', 'name': 'LocateFoodFallback', 'nodes': [{'type': 'Locate', 'object': 'apple', 'location': 'kitchen', 'method': 'camera_scan'}, {'type': 'AskForHelp', 'message': 'Unable to locate the apple. Please assist.'}]}, {'type': 'Retry', 'retries': '2', 'nodes': [{'type': 'NavigateTo', 'location': 'kitchen_table', 'mode': 'safe', 'speed': 'medium'}]}, {'type': 'Retry', 'retries': '2', 'nodes': [{'type': 'Pick', 'object': 'apple', 'grip_strength': 'medium', 'precision': 'high'}]}, {'type': 'Retry', 'retries': '2', 'nodes': [{'type': 'NavigateTo', 'location': 'dining_table', 'mode': 'direct', 'speed': 'fast'}]}, {'type': 'Fallback', 'name': 'PlaceFoodFallback', 'nodes': [{'type': 'Place', 'object': 'apple', 'surface': 'dining_table', 'orientation': 'upright', 'alignment': 'center'}, {'type': 'AskForHelp', 'message': 'Unable to place the apple. Please assist.'}]}]}\n"
     ]
    }
   ],
   "source": [
    "xml_string = '''\n",
    "<root main_tree_to_execute=\"MainTree\">\n",
    "  <BehaviorTree ID=\"MainTree\">\n",
    "    <Sequence name=\"RetrieveFoodSequence\">\n",
    "      <!-- Locate the food -->\n",
    "      <Retry retries=\"3\">\n",
    "        <Locate object=\"apple\" location=\"kitchen\" method=\"camera_scan\" />\n",
    "      </Retry>\n",
    "      \n",
    "      <!-- Fallback to ask for help if food cannot be located -->\n",
    "      <Fallback name=\"LocateFoodFallback\">\n",
    "        <Locate object=\"apple\" location=\"kitchen\" method=\"camera_scan\" />\n",
    "        <AskForHelp message=\"Unable to locate the apple. Please assist.\" />\n",
    "      </Fallback>\n",
    "      \n",
    "      <!-- Navigate to the food's location -->\n",
    "      <Retry retries=\"2\">\n",
    "        <NavigateTo location=\"kitchen_table\" mode=\"safe\" speed=\"medium\" />\n",
    "      </Retry>\n",
    "\n",
    "      <!-- Pick up the food -->\n",
    "      <Retry retries=\"2\">\n",
    "        <Pick object=\"apple\" grip_strength=\"medium\" precision=\"high\" />\n",
    "      </Retry>\n",
    "      \n",
    "      <!-- Navigate to the drop-off location -->\n",
    "      <Retry retries=\"2\">\n",
    "        <NavigateTo location=\"dining_table\" mode=\"direct\" speed=\"fast\" />\n",
    "      </Retry>\n",
    "\n",
    "      <!-- Place the food on the table -->\n",
    "      <Fallback name=\"PlaceFoodFallback\">\n",
    "        <Place object=\"apple\" surface=\"dining_table\" orientation=\"upright\" alignment=\"center\" />\n",
    "        <AskForHelp message=\"Unable to place the apple. Please assist.\" />\n",
    "      </Fallback>\n",
    "    </Sequence>\n",
    "  </BehaviorTree>\n",
    "</root>\n",
    "\n",
    "'''\n",
    "\n",
    "# Convert XML to JSON\n",
    "json_obj = xml_to_json(xml_string)\n",
    "# print(json_obj)\n",
    "\n",
    "# Convert JSON back to XML\n",
    "xml_output = json_to_xml(json_obj)\n",
    "xml_output = xml_output.replace('\\n', '').replace('<?xml version=\"1.0\" ?>', '')\n",
    "\n",
    "# compare the two xml strings\n",
    "xml_string = xml_string.replace('\\n', '')\n",
    "print(xml_string)\n",
    "print(xml_output)\n",
    "print(xml_string == xml_output)\n",
    "\n",
    "print(str(json_obj))"
   ]
  },
  {
   "cell_type": "code",
   "execution_count": 42,
   "metadata": {},
   "outputs": [
    {
     "name": "stdout",
     "output_type": "stream",
     "text": [
      "{'type': 'Sequence', 'name': 'RetrieveAndReturnWaterBottleSequence', 'nodes': [{'type': 'Locate', 'object': 'water_bottle', 'location': 'refrigerator', 'method': 'camera_scan'}, {'type': 'NavigateTo', 'location': 'kitchen_table', 'mode': 'direct', 'speed': 'fast'}, {'type': 'Pick', 'object': 'water_bottle', 'grip_strength': 'medium', 'precision': 'high'}, {'type': 'NavigateTo', 'location': 'kitchen_table', 'mode': 'reverse', 'speed': 'fast'}, {'type': 'PutDown', 'object': 'water_bottle', 'surface': 'kitchen_table', 'orientation': 'upright'}]}\n",
      "<?xml version=\"1.0\" ?>\n",
      "<root main_tree_to_execute=\"MainTree\">\n",
      "    <BehaviorTree ID=\"MainTree\">\n",
      "        <Sequence name=\"RetrieveAndReturnWaterBottleSequence\">\n",
      "            <Locate object=\"water_bottle\" location=\"refrigerator\" method=\"camera_scan\"/>\n",
      "            <NavigateTo location=\"kitchen_table\" mode=\"direct\" speed=\"fast\"/>\n",
      "            <Pick object=\"water_bottle\" grip_strength=\"medium\" precision=\"high\"/>\n",
      "            <NavigateTo location=\"kitchen_table\" mode=\"reverse\" speed=\"fast\"/>\n",
      "            <PutDown object=\"water_bottle\" surface=\"kitchen_table\" orientation=\"upright\"/>\n",
      "        </Sequence>\n",
      "    </BehaviorTree>\n",
      "</root>\n",
      "\n"
     ]
    }
   ],
   "source": [
    "json_string = \"\"\"{\n",
    "  \"type\": \"Sequence\",\n",
    "  \"name\": \"RetrieveAndReturnWaterBottleSequence\",\n",
    "  \"nodes\": [\n",
    "    {\n",
    "      \"type\": \"Locate\",\n",
    "      \"object\": \"water_bottle\",\n",
    "      \"location\": \"refrigerator\",\n",
    "      \"method\": \"camera_scan\"\n",
    "    },\n",
    "    {\n",
    "      \"type\": \"NavigateTo\",\n",
    "      \"location\": \"kitchen_table\",\n",
    "      \"mode\": \"direct\",\n",
    "      \"speed\": \"fast\"\n",
    "    },\n",
    "    {\n",
    "      \"type\": \"Pick\",\n",
    "      \"object\": \"water_bottle\",\n",
    "      \"grip_strength\": \"medium\",\n",
    "      \"precision\": \"high\"\n",
    "    },\n",
    "    {\n",
    "      \"type\": \"NavigateTo\",\n",
    "      \"location\": \"kitchen_table\",\n",
    "      \"mode\": \"reverse\",\n",
    "      \"speed\": \"fast\"\n",
    "    },\n",
    "    {\n",
    "      \"type\": \"PutDown\",\n",
    "      \"object\": \"water_bottle\",\n",
    "      \"surface\": \"kitchen_table\",\n",
    "      \"orientation\": \"upright\"\n",
    "    }\n",
    "  ]\n",
    "}\"\"\"\n",
    "\n",
    "json_obj = json.loads(json_string)\n",
    "print(json_obj)\n",
    "\n",
    "xml_output = json_to_xml(json_obj)\n",
    "xml_output #= xml_output.replace('\\n', '').replace('<?xml version=\"1.0\" ?>', '')\n",
    "print(xml_output)\n",
    "\n"
   ]
  },
  {
   "cell_type": "code",
   "execution_count": 31,
   "metadata": {},
   "outputs": [],
   "source": []
  },
  {
   "cell_type": "code",
   "execution_count": 43,
   "metadata": {},
   "outputs": [
    {
     "data": {
      "text/plain": [
       "'Sequence'"
      ]
     },
     "execution_count": 43,
     "metadata": {},
     "output_type": "execute_result"
    }
   ],
   "source": [
    "json_text2['type']"
   ]
  },
  {
   "cell_type": "code",
   "execution_count": 46,
   "metadata": {},
   "outputs": [
    {
     "ename": "TypeError",
     "evalue": "string indices must be integers",
     "output_type": "error",
     "traceback": [
      "\u001b[0;31m---------------------------------------------------------------------------\u001b[0m",
      "\u001b[0;31mTypeError\u001b[0m                                 Traceback (most recent call last)",
      "Cell \u001b[0;32mIn[46], line 7\u001b[0m\n\u001b[1;32m      2\u001b[0m \u001b[38;5;66;03m# json_obj2 = json.loads(json_text2)\u001b[39;00m\n\u001b[1;32m      3\u001b[0m \u001b[38;5;66;03m#print(json_obj2)\u001b[39;00m\n\u001b[1;32m      5\u001b[0m \u001b[38;5;28;01mfrom\u001b[39;00m \u001b[38;5;21;01mgoat_planner\u001b[39;00m\u001b[38;5;21;01m.\u001b[39;00m\u001b[38;5;21;01mgoat_controller\u001b[39;00m \u001b[38;5;28;01mimport\u001b[39;00m json_to_xml\n\u001b[0;32m----> 7\u001b[0m xml_output2 \u001b[38;5;241m=\u001b[39m \u001b[43mjson_to_xml\u001b[49m\u001b[43m(\u001b[49m\u001b[43mjson_text2\u001b[49m\u001b[43m)\u001b[49m\n\u001b[1;32m      8\u001b[0m \u001b[38;5;28mprint\u001b[39m(xml_output2)\n",
      "File \u001b[0;32m~/workspace/ETS/SYS819/proteus/src/goat_planner/utils/json_xml_convertor.py:36\u001b[0m, in \u001b[0;36mjson_to_xml\u001b[0;34m(json_obj)\u001b[0m\n\u001b[1;32m     34\u001b[0m root_key \u001b[38;5;241m=\u001b[39m \u001b[38;5;28mnext\u001b[39m(\u001b[38;5;28miter\u001b[39m(json_obj))\n\u001b[1;32m     35\u001b[0m root_data \u001b[38;5;241m=\u001b[39m json_obj[root_key]\n\u001b[0;32m---> 36\u001b[0m root_element \u001b[38;5;241m=\u001b[39m \u001b[43mbuild_element\u001b[49m\u001b[43m(\u001b[49m\u001b[43mroot_data\u001b[49m\u001b[43m)\u001b[49m\n\u001b[1;32m     38\u001b[0m \u001b[38;5;66;03m# Pretty-print the XML\u001b[39;00m\n\u001b[1;32m     39\u001b[0m rough_string \u001b[38;5;241m=\u001b[39m ET\u001b[38;5;241m.\u001b[39mtostring(root_element, \u001b[38;5;124m\"\u001b[39m\u001b[38;5;124mutf-8\u001b[39m\u001b[38;5;124m\"\u001b[39m)\n",
      "File \u001b[0;32m~/workspace/ETS/SYS819/proteus/src/goat_planner/utils/json_xml_convertor.py:25\u001b[0m, in \u001b[0;36mjson_to_xml.<locals>.build_element\u001b[0;34m(node)\u001b[0m\n\u001b[1;32m     24\u001b[0m \u001b[38;5;28;01mdef\u001b[39;00m \u001b[38;5;21mbuild_element\u001b[39m(node):\n\u001b[0;32m---> 25\u001b[0m     element \u001b[38;5;241m=\u001b[39m ET\u001b[38;5;241m.\u001b[39mElement(\u001b[43mnode\u001b[49m\u001b[43m[\u001b[49m\u001b[38;5;124;43m\"\u001b[39;49m\u001b[38;5;124;43mtype\u001b[39;49m\u001b[38;5;124;43m\"\u001b[39;49m\u001b[43m]\u001b[49m)\n\u001b[1;32m     26\u001b[0m     \u001b[38;5;28;01mfor\u001b[39;00m key, value \u001b[38;5;129;01min\u001b[39;00m node\u001b[38;5;241m.\u001b[39mitems():\n\u001b[1;32m     27\u001b[0m         \u001b[38;5;28;01mif\u001b[39;00m key \u001b[38;5;241m==\u001b[39m \u001b[38;5;124m\"\u001b[39m\u001b[38;5;124mnodes\u001b[39m\u001b[38;5;124m\"\u001b[39m:\n",
      "\u001b[0;31mTypeError\u001b[0m: string indices must be integers"
     ]
    }
   ],
   "source": [
    "json_text2 = {'type': 'Sequence', 'name': 'RetrieveBeerSequence', 'nodes': [{'type': 'NavigateTo', 'location': 'beer-fridge', 'mode': 'safe', 'speed': 'medium'}, {'type': 'Retry', 'retries': '3', 'nodes': [{'type': 'OpenBeerFridgeDoor', 'method': 'handle Pull'}]}, {'type': 'Fallback', 'name': 'OpenBeerFridgeFallback', 'nodes': [{'type': 'OpenBeerFridgeDoor', 'method': 'handle Pull'}, {'type': 'AskForHelp', 'message': 'Unable to open the beer fridge door. Please assist.'}]}, {'type': 'Retry', 'retries': '2', 'nodes': [{'type': 'RetrieveBeer', 'object': 'beer-can'}]}, {'type': 'Fallback', 'name': 'PlaceBeerFallback', 'nodes': [{'type': 'RetrieveBeer', 'object': 'beer-can'}, {'type': 'AskForHelp', 'message': 'Unable to retrieve the beer. Please assist.'}]}]}\n",
    "# json_obj2 = json.loads(json_text2)\n",
    "#print(json_obj2)\n",
    "\n",
    "from goat_planner.goat_controller import json_to_xml\n",
    "\n",
    "xml_output2 = json_to_xml(json_text2)\n",
    "print(xml_output2)"
   ]
  },
  {
   "cell_type": "code",
   "execution_count": 47,
   "metadata": {},
   "outputs": [
    {
     "name": "stdout",
     "output_type": "stream",
     "text": [
      "{'type': 'Sequence', 'name': 'MainSequence', 'nodes': [{'type': 'Wait', 'duration': '2.0'}, {'type': 'Navigate', 'x': '0.0', 'y': '6.0'}, {'type': 'Wait', 'duration': '2.0'}]}\n"
     ]
    }
   ],
   "source": [
    "xml_test = \"\"\"<?xml version=\"1.0\" ?>\n",
    "<root main_tree_to_execute=\"MainTree\">\n",
    "    <BehaviorTree ID=\"MainTree\">\n",
    "        <Sequence name=\"MainSequence\">\n",
    "            <Wait duration=\"2.0\"/>\n",
    "            <Navigate x=\"0.0\" y=\"6.0\"/>\n",
    "            <Wait duration=\"2.0\"/>\n",
    "        </Sequence>\n",
    "    </BehaviorTree>\n",
    "</root>\n",
    "\"\"\"\n",
    "\n",
    "json_obj = xml_to_json(xml_test)\n",
    "print(json_obj)"
   ]
  },
  {
   "cell_type": "code",
   "execution_count": 48,
   "metadata": {},
   "outputs": [],
   "source": [
    "from goat_planner.goat_state import GoatState\n",
    "\n",
    "goat_state = GoatState()\n",
    "new_tree = {'type': 'Sequence', 'nodes': [{'type': 'Wait', 'duration': '1.0'}]}\n",
    "goat_state.update_behavior_tree(new_tree)"
   ]
  }
 ],
 "metadata": {
  "kernelspec": {
   "display_name": "Python 3",
   "language": "python",
   "name": "python3"
  },
  "language_info": {
   "codemirror_mode": {
    "name": "ipython",
    "version": 3
   },
   "file_extension": ".py",
   "mimetype": "text/x-python",
   "name": "python",
   "nbconvert_exporter": "python",
   "pygments_lexer": "ipython3",
   "version": "3.10.12"
  }
 },
 "nbformat": 4,
 "nbformat_minor": 2
}
